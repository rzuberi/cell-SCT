{
 "cells": [
  {
   "cell_type": "markdown",
   "source": [
    "# Environment setup"
   ],
   "metadata": {
    "collapsed": false,
    "pycharm": {
     "name": "#%% md\n"
    }
   }
  },
  {
   "cell_type": "markdown",
   "source": [
    "This notebook test to see if we can connect to the GPU. The virtual environment in which you run this notebook must be in the \".conda\" folder, not the \"Anaconda3\" folder."
   ],
   "metadata": {
    "collapsed": false,
    "pycharm": {
     "name": "#%% md\n"
    }
   }
  },
  {
   "cell_type": "markdown",
   "source": [],
   "metadata": {
    "collapsed": false,
    "pycharm": {
     "name": "#%% md\n"
    }
   }
  },
  {
   "cell_type": "code",
   "execution_count": 1,
   "outputs": [
    {
     "name": "stdout",
     "output_type": "stream",
     "text": [
      "# conda environments:\n",
      "#\n",
      "base                     C:\\ProgramData\\Anaconda3\n",
      "celldev               *  C:\\Users\\rz200\\.conda\\envs\\celldev\n",
      "\n"
     ]
    }
   ],
   "source": [
    "#Print all virtual environments, the one with a star next to its name is the one in which this notebook is in\n",
    "!conda env list"
   ],
   "metadata": {
    "collapsed": false,
    "pycharm": {
     "name": "#%%\n"
    }
   }
  },
  {
   "cell_type": "markdown",
   "source": [
    "We need to make sure that the Python version used in this notebook is the 64-bit version. Otherwise, PyTorch will not work.\n",
    "If your Python version is not the 64-bit one, install the 64-bit one before continuing."
   ],
   "metadata": {
    "collapsed": false,
    "pycharm": {
     "name": "#%% md\n"
    }
   }
  },
  {
   "cell_type": "code",
   "execution_count": 2,
   "outputs": [
    {
     "name": "stdout",
     "output_type": "stream",
     "text": [
      "3.8.13 (default, Mar 28 2022, 06:59:08) [MSC v.1916 64 bit (AMD64)]\n"
     ]
    }
   ],
   "source": [
    "import sys\n",
    "print(sys.version) #This will print the Python version used in this notebook"
   ],
   "metadata": {
    "collapsed": false,
    "pycharm": {
     "name": "#%%\n"
    }
   }
  },
  {
   "cell_type": "markdown",
   "source": [
    "We can now install the necessary packages for this project. They are in the ```requirements.txt``` file."
   ],
   "metadata": {
    "collapsed": false,
    "pycharm": {
     "name": "#%% md\n"
    }
   }
  },
  {
   "cell_type": "code",
   "execution_count": 3,
   "outputs": [
    {
     "name": "stdout",
     "output_type": "stream",
     "text": [
      "Looking in links: https://download.pytorch.org/whl/cu113/torch_stable.html\n",
      "Collecting cellpose==2.0.5\n",
      "  Downloading cellpose-2.0.5-py3-none-any.whl (168 kB)\n",
      "Collecting certifi==2022.5.18.1\n",
      "  Downloading certifi-2022.5.18.1-py3-none-any.whl (155 kB)\n",
      "Collecting colorama==0.4.5\n",
      "  Downloading colorama-0.4.5-py2.py3-none-any.whl (16 kB)\n",
      "Collecting fastremap==1.13.0\n",
      "  Downloading fastremap-1.13.0-cp38-cp38-win_amd64.whl (489 kB)\n",
      "Collecting imagecodecs==2022.2.22\n",
      "  Downloading imagecodecs-2022.2.22-cp38-cp38-win_amd64.whl (14.4 MB)\n",
      "Collecting llvmlite==0.38.1\n",
      "  Downloading llvmlite-0.38.1-cp38-cp38-win_amd64.whl (23.2 MB)\n",
      "Collecting natsort==8.1.0\n",
      "  Downloading natsort-8.1.0-py3-none-any.whl (37 kB)\n",
      "Collecting numba==0.55.2\n",
      "  Downloading numba-0.55.2-cp38-cp38-win_amd64.whl (2.4 MB)\n",
      "Collecting numpy==1.22.4\n",
      "  Downloading numpy-1.22.4-cp38-cp38-win_amd64.whl (14.8 MB)\n",
      "Collecting opencv-python-headless==4.6.0.66\n",
      "  Downloading opencv_python_headless-4.6.0.66-cp36-abi3-win_amd64.whl (35.5 MB)\n",
      "Collecting scipy==1.8.1\n",
      "  Downloading scipy-1.8.1-cp38-cp38-win_amd64.whl (36.9 MB)\n",
      "Collecting tifffile==2022.5.4\n",
      "  Downloading tifffile-2022.5.4-py3-none-any.whl (195 kB)\n",
      "Collecting matplotlib==3.5.2\n",
      "  Downloading matplotlib-3.5.2-cp38-cp38-win_amd64.whl (7.2 MB)\n",
      "Collecting torch==1.11.0+cu113\n",
      "  Downloading https://download.pytorch.org/whl/cu113/torch-1.11.0%2Bcu113-cp38-cp38-win_amd64.whl (2186.1 MB)\n",
      "Collecting tqdm==4.64.0\n",
      "  Downloading tqdm-4.64.0-py2.py3-none-any.whl (78 kB)\n",
      "Requirement already satisfied: wincertstore==0.2 in c:\\users\\rz200\\.conda\\envs\\celldev\\lib\\site-packages (from -r requirements.txt (line 19)) (0.2)\n",
      "Requirement already satisfied: setuptools in c:\\users\\rz200\\.conda\\envs\\celldev\\lib\\site-packages (from numba==0.55.2->-r requirements.txt (line 8)) (61.2.0)\n",
      "Requirement already satisfied: pyparsing>=2.2.1 in c:\\users\\rz200\\.conda\\envs\\celldev\\lib\\site-packages (from matplotlib==3.5.2->-r requirements.txt (line 13)) (3.0.4)\n",
      "Collecting kiwisolver>=1.0.1\n",
      "  Downloading kiwisolver-1.4.3-cp38-cp38-win_amd64.whl (55 kB)\n",
      "Collecting pillow>=6.2.0\n",
      "  Downloading Pillow-9.1.1-cp38-cp38-win_amd64.whl (3.3 MB)\n",
      "Requirement already satisfied: packaging>=20.0 in c:\\users\\rz200\\.conda\\envs\\celldev\\lib\\site-packages (from matplotlib==3.5.2->-r requirements.txt (line 13)) (21.3)\n",
      "Collecting fonttools>=4.22.0\n",
      "  Downloading fonttools-4.33.3-py3-none-any.whl (930 kB)\n",
      "Collecting cycler>=0.10\n",
      "  Downloading cycler-0.11.0-py3-none-any.whl (6.4 kB)\n",
      "Requirement already satisfied: python-dateutil>=2.7 in c:\\users\\rz200\\.conda\\envs\\celldev\\lib\\site-packages (from matplotlib==3.5.2->-r requirements.txt (line 13)) (2.8.2)\n",
      "Requirement already satisfied: typing-extensions in c:\\users\\rz200\\.conda\\envs\\celldev\\lib\\site-packages (from torch==1.11.0+cu113->-r requirements.txt (line 16)) (4.1.1)\n",
      "Requirement already satisfied: six>=1.5 in c:\\users\\rz200\\.conda\\envs\\celldev\\lib\\site-packages (from python-dateutil>=2.7->matplotlib==3.5.2->-r requirements.txt (line 13)) (1.16.0)\n",
      "Installing collected packages: numpy, llvmlite, colorama, tqdm, torch, tifffile, scipy, pillow, opencv-python-headless, numba, natsort, kiwisolver, imagecodecs, fonttools, fastremap, cycler, matplotlib, certifi, cellpose\n",
      "  Attempting uninstall: colorama\n",
      "    Found existing installation: colorama 0.4.4\n",
      "    Uninstalling colorama-0.4.4:\n",
      "      Successfully uninstalled colorama-0.4.4\n",
      "  Attempting uninstall: certifi\n",
      "    Found existing installation: certifi 2022.6.15\n",
      "    Uninstalling certifi-2022.6.15:\n",
      "      Successfully uninstalled certifi-2022.6.15\n",
      "Successfully installed cellpose-2.0.5 certifi-2022.5.18.1 colorama-0.4.5 cycler-0.11.0 fastremap-1.13.0 fonttools-4.33.3 imagecodecs-2022.2.22 kiwisolver-1.4.3 llvmlite-0.38.1 matplotlib-3.5.2 natsort-8.1.0 numba-0.55.2 numpy-1.22.4 opencv-python-headless-4.6.0.66 pillow-9.1.1 scipy-1.8.1 tifffile-2022.5.4 torch-1.11.0+cu113 tqdm-4.64.0\n"
     ]
    }
   ],
   "source": [
    "!pip install -r requirements.txt"
   ],
   "metadata": {
    "collapsed": false,
    "pycharm": {
     "name": "#%%\n"
    }
   }
  },
  {
   "cell_type": "markdown",
   "source": [
    "The package that is most likely to cause problems is PyTorch, therefore we will check if it has been correctly installed."
   ],
   "metadata": {
    "collapsed": false,
    "pycharm": {
     "name": "#%% md\n"
    }
   }
  },
  {
   "cell_type": "code",
   "execution_count": 7,
   "outputs": [
    {
     "name": "stdout",
     "output_type": "stream",
     "text": [
      "PyTorch was successfully installed\n"
     ]
    }
   ],
   "source": [
    "try:\n",
    "    import torch\n",
    "    print('PyTorch was successfully installed')\n",
    "except ImportError as e: print('PyTorch was not installed correctly.')"
   ],
   "metadata": {
    "collapsed": false,
    "pycharm": {
     "name": "#%%\n"
    }
   }
  },
  {
   "cell_type": "markdown",
   "source": [
    "We will now check if the GPU is connected. We will first check if PyTorch can detect it, then we will test if CellPose can detect it.\n",
    "If both can detect it, we've succeeded."
   ],
   "metadata": {
    "collapsed": false,
    "pycharm": {
     "name": "#%% md\n"
    }
   }
  },
  {
   "cell_type": "code",
   "execution_count": 5,
   "outputs": [
    {
     "name": "stdout",
     "output_type": "stream",
     "text": [
      "nvcc: NVIDIA (R) Cuda compiler driver\n",
      "Copyright (c) 2005-2020 NVIDIA Corporation\n",
      "Built on Thu_Jun_11_22:26:48_Pacific_Daylight_Time_2020\n",
      "Cuda compilation tools, release 11.0, V11.0.194\n",
      "Build cuda_11.0_bu.relgpu_drvr445TC445_37.28540450_0\n",
      ">>> GPU activated? YES\n"
     ]
    }
   ],
   "source": [
    "!nvcc --version\n",
    "from cellpose import core\n",
    "use_GPU = core.use_gpu()\n",
    "yn = ['NO', 'YES']\n",
    "print(f'>>> GPU activated? {yn[use_GPU]}')"
   ],
   "metadata": {
    "collapsed": false,
    "pycharm": {
     "name": "#%%\n"
    }
   }
  },
  {
   "cell_type": "code",
   "execution_count": 6,
   "outputs": [
    {
     "name": "stdout",
     "output_type": "stream",
     "text": [
      "Connected GPU: Quadro P1000\n"
     ]
    }
   ],
   "source": [
    "import torch\n",
    "if torch.cuda.is_available(): print('Connected GPU:',torch.cuda.get_device_name())\n",
    "else: print('No GPU connected')"
   ],
   "metadata": {
    "collapsed": false,
    "pycharm": {
     "name": "#%%\n"
    }
   }
  }
 ],
 "metadata": {
  "kernelspec": {
   "display_name": "Python 3",
   "language": "python",
   "name": "python3"
  },
  "language_info": {
   "codemirror_mode": {
    "name": "ipython",
    "version": 2
   },
   "file_extension": ".py",
   "mimetype": "text/x-python",
   "name": "python",
   "nbconvert_exporter": "python",
   "pygments_lexer": "ipython2",
   "version": "2.7.6"
  }
 },
 "nbformat": 4,
 "nbformat_minor": 0
}