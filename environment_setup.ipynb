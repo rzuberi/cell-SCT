{
 "cells": [
  {
   "cell_type": "markdown",
   "source": [
    "# Environment setup"
   ],
   "metadata": {
    "collapsed": false,
    "pycharm": {
     "name": "#%% md\n"
    }
   }
  },
  {
   "cell_type": "markdown",
   "source": [
    "This notebook test to see if we can connect to the GPU. The virtual environment in which you run this notebook must be in the \".conda\" folder, not the \"Anaconda3\" folder."
   ],
   "metadata": {
    "collapsed": false,
    "pycharm": {
     "name": "#%% md\n"
    }
   }
  },
  {
   "cell_type": "markdown",
   "source": [],
   "metadata": {
    "collapsed": false,
    "pycharm": {
     "name": "#%% md\n"
    }
   }
  },
  {
   "cell_type": "code",
   "execution_count": 1,
   "outputs": [
    {
     "name": "stdout",
     "output_type": "stream",
     "text": [
      "# conda environments:\r\n",
      "#\r\n",
      "base                     /opt/anaconda3\r\n",
      "cellpose                 /opt/anaconda3/envs/cellpose\r\n",
      "devhome                  /opt/anaconda3/envs/devhome\r\n",
      "ice-test              *  /opt/anaconda3/envs/ice-test\r\n",
      "\r\n"
     ]
    }
   ],
   "source": [
    "#Print all virtual environments, the one with a star next to its name is the one in which this notebook is in\n",
    "!conda env list"
   ],
   "metadata": {
    "collapsed": false,
    "pycharm": {
     "name": "#%%\n"
    }
   }
  },
  {
   "cell_type": "markdown",
   "source": [
    "We need to make sure that the Python version used in this notebook is the 64-bit version. Otherwise, PyTorch will not work.\n",
    "If your Python version is not the 64-bit one, install the 64-bit one before continuing."
   ],
   "metadata": {
    "collapsed": false,
    "pycharm": {
     "name": "#%% md\n"
    }
   }
  },
  {
   "cell_type": "code",
   "execution_count": 2,
   "outputs": [
    {
     "name": "stdout",
     "output_type": "stream",
     "text": [
      "3.9.13 | packaged by conda-forge | (main, May 27 2022, 17:00:52) \n",
      "[Clang 13.0.1 ]\n"
     ]
    }
   ],
   "source": [
    "import sys\n",
    "print(sys.version) #This will print the Python version used in this notebook"
   ],
   "metadata": {
    "collapsed": false,
    "pycharm": {
     "name": "#%%\n"
    }
   }
  },
  {
   "cell_type": "markdown",
   "source": [
    "We can now install the necessary packages for this project. They are in the ```requirements.txt``` file."
   ],
   "metadata": {
    "collapsed": false,
    "pycharm": {
     "name": "#%% md\n"
    }
   }
  },
  {
   "cell_type": "code",
   "execution_count": 3,
   "outputs": [
    {
     "name": "stdout",
     "output_type": "stream",
     "text": [
      "Looking in links: https://download.pytorch.org/whl/cu113/torch_stable.html\r\n",
      "Collecting cellpose==2.0.5\r\n",
      "  Using cached cellpose-2.0.5-py3-none-any.whl (168 kB)\r\n",
      "Collecting certifi==2022.5.18.1\r\n",
      "  Using cached certifi-2022.5.18.1-py3-none-any.whl (155 kB)\r\n",
      "Collecting colorama==0.4.5\r\n",
      "  Using cached colorama-0.4.5-py2.py3-none-any.whl (16 kB)\r\n",
      "Collecting fastremap==1.13.0\r\n",
      "  Using cached fastremap-1.13.0-cp39-cp39-macosx_10_9_x86_64.whl (655 kB)\r\n",
      "Collecting imagecodecs==2022.2.22\r\n",
      "  Using cached imagecodecs-2022.2.22-cp39-cp39-macosx_10_9_x86_64.whl (12.0 MB)\r\n",
      "Collecting llvmlite==0.38.1\r\n",
      "  Using cached llvmlite-0.38.1-cp39-cp39-macosx_10_9_x86_64.whl (25.5 MB)\r\n",
      "Collecting natsort==8.1.0\r\n",
      "  Using cached natsort-8.1.0-py3-none-any.whl (37 kB)\r\n",
      "Collecting numba==0.55.2\r\n",
      "  Using cached numba-0.55.2-cp39-cp39-macosx_10_14_x86_64.whl (2.3 MB)\r\n",
      "Collecting numpy==1.22.4\r\n",
      "  Using cached numpy-1.22.4-cp39-cp39-macosx_10_15_x86_64.whl (17.7 MB)\r\n",
      "Collecting opencv-python-headless==4.6.0.66\r\n",
      "  Using cached opencv_python_headless-4.6.0.66-cp36-abi3-macosx_10_15_x86_64.whl (46.4 MB)\r\n",
      "Collecting scipy==1.8.1\r\n",
      "  Using cached scipy-1.8.1-cp39-cp39-macosx_12_0_universal2.macosx_10_9_x86_64.whl (55.6 MB)\r\n",
      "Collecting tifffile==2022.5.4\r\n",
      "  Using cached tifffile-2022.5.4-py3-none-any.whl (195 kB)\r\n",
      "Requirement already satisfied: matplotlib==3.5.2 in /opt/anaconda3/envs/ice-test/lib/python3.9/site-packages (from -r requirements.txt (line 13)) (3.5.2)\r\n",
      "Requirement already satisfied: omero-py==5.11.2 in /opt/anaconda3/envs/ice-test/lib/python3.9/site-packages (from -r requirements.txt (line 14)) (5.11.2)\r\n",
      "\u001B[31mERROR: Ignored the following versions that require a different python version: 0.52.0 Requires-Python >=3.6,<3.9; 0.52.0rc3 Requires-Python >=3.6,<3.9\u001B[0m\u001B[31m\r\n",
      "\u001B[0m\u001B[31mERROR: Could not find a version that satisfies the requirement torch==1.11.0+cu113 (from versions: 1.7.1, 1.8.0, 1.8.1, 1.9.0, 1.9.1, 1.10.0, 1.10.1, 1.10.2, 1.11.0, 1.12.0)\u001B[0m\u001B[31m\r\n",
      "\u001B[0m\u001B[31mERROR: No matching distribution found for torch==1.11.0+cu113\u001B[0m\u001B[31m\r\n",
      "\u001B[0m"
     ]
    }
   ],
   "source": [
    "!pip install -r requirements.txt"
   ],
   "metadata": {
    "collapsed": false,
    "pycharm": {
     "name": "#%%\n"
    }
   }
  },
  {
   "cell_type": "markdown",
   "source": [
    "The package that is most likely to cause problems is PyTorch, therefore we will check if it has been correctly installed."
   ],
   "metadata": {
    "collapsed": false,
    "pycharm": {
     "name": "#%% md\n"
    }
   }
  },
  {
   "cell_type": "code",
   "execution_count": 5,
   "outputs": [
    {
     "name": "stdout",
     "output_type": "stream",
     "text": [
      "PyTorch was not installed correctly.\n"
     ]
    }
   ],
   "source": [
    "try:\n",
    "    import torch\n",
    "    print('PyTorch was successfully installed')\n",
    "except ImportError as e: print('PyTorch was not installed correctly.')"
   ],
   "metadata": {
    "collapsed": false,
    "pycharm": {
     "name": "#%%\n"
    }
   }
  },
  {
   "cell_type": "markdown",
   "source": [
    "We will now check if the GPU is connected. We will first check if PyTorch can detect it, then we will test if CellPose can detect it.\n",
    "If both can detect it, we've succeeded."
   ],
   "metadata": {
    "collapsed": false,
    "pycharm": {
     "name": "#%% md\n"
    }
   }
  },
  {
   "cell_type": "code",
   "execution_count": 6,
   "outputs": [
    {
     "name": "stdout",
     "output_type": "stream",
     "text": [
      "zsh:1: command not found: nvcc\r\n"
     ]
    },
    {
     "ename": "ModuleNotFoundError",
     "evalue": "No module named 'cellpose'",
     "output_type": "error",
     "traceback": [
      "\u001B[0;31m---------------------------------------------------------------------------\u001B[0m",
      "\u001B[0;31mModuleNotFoundError\u001B[0m                       Traceback (most recent call last)",
      "Input \u001B[0;32mIn [6]\u001B[0m, in \u001B[0;36m<cell line: 2>\u001B[0;34m()\u001B[0m\n\u001B[1;32m      1\u001B[0m get_ipython()\u001B[38;5;241m.\u001B[39msystem(\u001B[38;5;124m'\u001B[39m\u001B[38;5;124mnvcc --version\u001B[39m\u001B[38;5;124m'\u001B[39m)\n\u001B[0;32m----> 2\u001B[0m \u001B[38;5;28;01mfrom\u001B[39;00m \u001B[38;5;21;01mcellpose\u001B[39;00m \u001B[38;5;28;01mimport\u001B[39;00m core\n\u001B[1;32m      3\u001B[0m use_GPU \u001B[38;5;241m=\u001B[39m core\u001B[38;5;241m.\u001B[39muse_gpu()\n\u001B[1;32m      4\u001B[0m \u001B[38;5;28mprint\u001B[39m(\u001B[38;5;124m'\u001B[39m\u001B[38;5;124mxxxxxx\u001B[39m\u001B[38;5;124m'\u001B[39m,use_GPU)\n",
      "\u001B[0;31mModuleNotFoundError\u001B[0m: No module named 'cellpose'"
     ]
    }
   ],
   "source": [
    "!nvcc --version\n",
    "from cellpose import core\n",
    "use_GPU = core.use_gpu()\n",
    "print('xxxxxx',use_GPU)\n",
    "\n",
    "yn = ['NO', 'YES']\n",
    "print(f'>>> GPU activated? {yn[use_GPU]}')"
   ],
   "metadata": {
    "collapsed": false,
    "pycharm": {
     "name": "#%%\n"
    }
   }
  },
  {
   "cell_type": "code",
   "execution_count": 7,
   "outputs": [
    {
     "ename": "ModuleNotFoundError",
     "evalue": "No module named 'torch'",
     "output_type": "error",
     "traceback": [
      "\u001B[0;31m---------------------------------------------------------------------------\u001B[0m",
      "\u001B[0;31mModuleNotFoundError\u001B[0m                       Traceback (most recent call last)",
      "Input \u001B[0;32mIn [7]\u001B[0m, in \u001B[0;36m<cell line: 1>\u001B[0;34m()\u001B[0m\n\u001B[0;32m----> 1\u001B[0m \u001B[38;5;28;01mimport\u001B[39;00m \u001B[38;5;21;01mtorch\u001B[39;00m\n\u001B[1;32m      2\u001B[0m \u001B[38;5;28;01mif\u001B[39;00m torch\u001B[38;5;241m.\u001B[39mcuda\u001B[38;5;241m.\u001B[39mis_available(): \u001B[38;5;28mprint\u001B[39m(\u001B[38;5;124m'\u001B[39m\u001B[38;5;124mConnected GPU:\u001B[39m\u001B[38;5;124m'\u001B[39m,torch\u001B[38;5;241m.\u001B[39mcuda\u001B[38;5;241m.\u001B[39mget_device_name())\n\u001B[1;32m      3\u001B[0m \u001B[38;5;28;01melse\u001B[39;00m: \u001B[38;5;28mprint\u001B[39m(\u001B[38;5;124m'\u001B[39m\u001B[38;5;124mNo GPU connected\u001B[39m\u001B[38;5;124m'\u001B[39m)\n",
      "\u001B[0;31mModuleNotFoundError\u001B[0m: No module named 'torch'"
     ]
    }
   ],
   "source": [
    "import torch\n",
    "if torch.cuda.is_available(): print('Connected GPU:',torch.cuda.get_device_name())\n",
    "else: print('No GPU connected')"
   ],
   "metadata": {
    "collapsed": false,
    "pycharm": {
     "name": "#%%\n"
    }
   }
  }
 ],
 "metadata": {
  "kernelspec": {
   "display_name": "Python 3",
   "language": "python",
   "name": "python3"
  },
  "language_info": {
   "codemirror_mode": {
    "name": "ipython",
    "version": 2
   },
   "file_extension": ".py",
   "mimetype": "text/x-python",
   "name": "python",
   "nbconvert_exporter": "python",
   "pygments_lexer": "ipython2",
   "version": "2.7.6"
  }
 },
 "nbformat": 4,
 "nbformat_minor": 0
}