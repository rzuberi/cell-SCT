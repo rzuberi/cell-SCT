{
 "cells": [
  {
   "cell_type": "markdown",
   "source": [
    "# Environment setup"
   ],
   "metadata": {
    "collapsed": false,
    "pycharm": {
     "name": "#%% md\n"
    }
   }
  },
  {
   "cell_type": "markdown",
   "source": [
    "This notebook test to see if we can connect to the GPU. The virtual environment in which you run this notebook must be in the \".conda\" folder, not the \"Anaconda3\" folder."
   ],
   "metadata": {
    "collapsed": false,
    "pycharm": {
     "name": "#%% md\n"
    }
   }
  },
  {
   "cell_type": "markdown",
   "source": [],
   "metadata": {
    "collapsed": false,
    "pycharm": {
     "name": "#%% md\n"
    }
   }
  },
  {
   "cell_type": "code",
   "execution_count": 3,
   "outputs": [
    {
     "name": "stdout",
     "output_type": "stream",
     "text": [
      "# conda environments:\n",
      "#\n",
      "base                     C:\\ProgramData\\Anaconda3\n",
      "celldev               *  C:\\Users\\rz200\\.conda\\envs\\celldev\n",
      "\n"
     ]
    }
   ],
   "source": [
    "#Print all virtual environments, the one with a star next to its name is the one in which this notebook is in\n",
    "!conda env list"
   ],
   "metadata": {
    "collapsed": false,
    "pycharm": {
     "name": "#%%\n"
    }
   }
  },
  {
   "cell_type": "markdown",
   "source": [
    "We need to make sure that the Python version used in this notebook is the 64-bit version. Otherwise, PyTorch will not work.\n",
    "If your Python version is not the 64-bit one, install the 64-bit one before continuing."
   ],
   "metadata": {
    "collapsed": false,
    "pycharm": {
     "name": "#%% md\n"
    }
   }
  },
  {
   "cell_type": "code",
   "execution_count": 4,
   "outputs": [
    {
     "name": "stdout",
     "output_type": "stream",
     "text": [
      "3.8.13 (default, Mar 28 2022, 06:59:08) [MSC v.1916 64 bit (AMD64)]\n"
     ]
    }
   ],
   "source": [
    "import sys\n",
    "print(sys.version) #This will print the Python version used in this notebook"
   ],
   "metadata": {
    "collapsed": false,
    "pycharm": {
     "name": "#%%\n"
    }
   }
  },
  {
   "cell_type": "markdown",
   "source": [
    "We can now install the necessary packages for this project. They are in the ```requirements.txt``` file."
   ],
   "metadata": {
    "collapsed": false,
    "pycharm": {
     "name": "#%% md\n"
    }
   }
  },
  {
   "cell_type": "code",
   "execution_count": 5,
   "outputs": [
    {
     "name": "stdout",
     "output_type": "stream",
     "text": [
      "Looking in links: https://download.pytorch.org/whl/cu113/torch_stable.html\n",
      "Requirement already satisfied: cellpose==2.0.5 in c:\\users\\rz200\\.conda\\envs\\celldev\\lib\\site-packages (from -r requirements.txt (line 1)) (2.0.5)\n",
      "Requirement already satisfied: certifi==2022.5.18.1 in c:\\users\\rz200\\.conda\\envs\\celldev\\lib\\site-packages (from -r requirements.txt (line 2)) (2022.5.18.1)\n",
      "Requirement already satisfied: colorama==0.4.5 in c:\\users\\rz200\\.conda\\envs\\celldev\\lib\\site-packages (from -r requirements.txt (line 3)) (0.4.5)\n",
      "Requirement already satisfied: fastremap==1.13.0 in c:\\users\\rz200\\.conda\\envs\\celldev\\lib\\site-packages (from -r requirements.txt (line 4)) (1.13.0)\n",
      "Requirement already satisfied: imagecodecs==2022.2.22 in c:\\users\\rz200\\.conda\\envs\\celldev\\lib\\site-packages (from -r requirements.txt (line 5)) (2022.2.22)\n",
      "Requirement already satisfied: llvmlite==0.38.1 in c:\\users\\rz200\\.conda\\envs\\celldev\\lib\\site-packages (from -r requirements.txt (line 6)) (0.38.1)\n",
      "Requirement already satisfied: natsort==8.1.0 in c:\\users\\rz200\\.conda\\envs\\celldev\\lib\\site-packages (from -r requirements.txt (line 7)) (8.1.0)\n",
      "Requirement already satisfied: numba==0.55.2 in c:\\users\\rz200\\.conda\\envs\\celldev\\lib\\site-packages (from -r requirements.txt (line 8)) (0.55.2)\n",
      "Requirement already satisfied: numpy==1.22.4 in c:\\users\\rz200\\.conda\\envs\\celldev\\lib\\site-packages (from -r requirements.txt (line 9)) (1.22.4)\n",
      "Requirement already satisfied: opencv-python-headless==4.6.0.66 in c:\\users\\rz200\\.conda\\envs\\celldev\\lib\\site-packages (from -r requirements.txt (line 10)) (4.6.0.66)\n",
      "Requirement already satisfied: scipy==1.8.1 in c:\\users\\rz200\\.conda\\envs\\celldev\\lib\\site-packages (from -r requirements.txt (line 11)) (1.8.1)\n",
      "Requirement already satisfied: tifffile==2022.5.4 in c:\\users\\rz200\\.conda\\envs\\celldev\\lib\\site-packages (from -r requirements.txt (line 12)) (2022.5.4)\n",
      "Requirement already satisfied: matplotlib==3.5.2 in c:\\users\\rz200\\.conda\\envs\\celldev\\lib\\site-packages (from -r requirements.txt (line 13)) (3.5.2)\n",
      "Collecting omero-py==5.11.2\n",
      "  Downloading omero_py-5.11.2-py3-none-any.whl (2.8 MB)\n",
      "Requirement already satisfied: torch==1.11.0+cu113 in c:\\users\\rz200\\.conda\\envs\\celldev\\lib\\site-packages (from -r requirements.txt (line 17)) (1.11.0+cu113)\n",
      "Requirement already satisfied: tqdm==4.64.0 in c:\\users\\rz200\\.conda\\envs\\celldev\\lib\\site-packages (from -r requirements.txt (line 19)) (4.64.0)\n",
      "Requirement already satisfied: wincertstore==0.2 in c:\\users\\rz200\\.conda\\envs\\celldev\\lib\\site-packages (from -r requirements.txt (line 20)) (0.2)\n",
      "Requirement already satisfied: setuptools in c:\\users\\rz200\\.conda\\envs\\celldev\\lib\\site-packages (from numba==0.55.2->-r requirements.txt (line 8)) (61.2.0)\n",
      "Requirement already satisfied: pillow>=6.2.0 in c:\\users\\rz200\\.conda\\envs\\celldev\\lib\\site-packages (from matplotlib==3.5.2->-r requirements.txt (line 13)) (9.1.1)\n",
      "Requirement already satisfied: python-dateutil>=2.7 in c:\\users\\rz200\\.conda\\envs\\celldev\\lib\\site-packages (from matplotlib==3.5.2->-r requirements.txt (line 13)) (2.8.2)\n",
      "Requirement already satisfied: pyparsing>=2.2.1 in c:\\users\\rz200\\.conda\\envs\\celldev\\lib\\site-packages (from matplotlib==3.5.2->-r requirements.txt (line 13)) (3.0.4)\n",
      "Requirement already satisfied: fonttools>=4.22.0 in c:\\users\\rz200\\.conda\\envs\\celldev\\lib\\site-packages (from matplotlib==3.5.2->-r requirements.txt (line 13)) (4.33.3)\n",
      "Requirement already satisfied: kiwisolver>=1.0.1 in c:\\users\\rz200\\.conda\\envs\\celldev\\lib\\site-packages (from matplotlib==3.5.2->-r requirements.txt (line 13)) (1.4.3)\n",
      "Requirement already satisfied: cycler>=0.10 in c:\\users\\rz200\\.conda\\envs\\celldev\\lib\\site-packages (from matplotlib==3.5.2->-r requirements.txt (line 13)) (0.11.0)\n",
      "Requirement already satisfied: packaging>=20.0 in c:\\users\\rz200\\.conda\\envs\\celldev\\lib\\site-packages (from matplotlib==3.5.2->-r requirements.txt (line 13)) (21.3)\n",
      "Collecting zeroc-ice<3.7,>=3.6.4\n",
      "  Downloading zeroc-ice-3.6.5.tar.gz (1.2 MB)\n",
      "Requirement already satisfied: pywin32 in c:\\users\\rz200\\.conda\\envs\\celldev\\lib\\site-packages (from omero-py==5.11.2->-r requirements.txt (line 14)) (302)\n",
      "Collecting appdirs\n",
      "  Downloading appdirs-1.4.4-py2.py3-none-any.whl (9.6 kB)\n",
      "Collecting PyYAML\n",
      "  Downloading PyYAML-6.0-cp38-cp38-win_amd64.whl (155 kB)\n",
      "Collecting requests\n",
      "  Downloading requests-2.28.1-py3-none-any.whl (62 kB)\n",
      "Collecting future\n",
      "  Downloading future-0.18.2.tar.gz (829 kB)\n",
      "Requirement already satisfied: typing-extensions in c:\\users\\rz200\\.conda\\envs\\celldev\\lib\\site-packages (from torch==1.11.0+cu113->-r requirements.txt (line 17)) (4.1.1)\n",
      "Requirement already satisfied: six>=1.5 in c:\\users\\rz200\\.conda\\envs\\celldev\\lib\\site-packages (from python-dateutil>=2.7->matplotlib==3.5.2->-r requirements.txt (line 13)) (1.16.0)\n",
      "Collecting idna<4,>=2.5\n",
      "  Downloading idna-3.3-py3-none-any.whl (61 kB)\n",
      "Collecting urllib3<1.27,>=1.21.1\n",
      "  Downloading urllib3-1.26.9-py2.py3-none-any.whl (138 kB)\n",
      "Collecting charset-normalizer<3,>=2\n",
      "  Downloading charset_normalizer-2.1.0-py3-none-any.whl (39 kB)\n",
      "Building wheels for collected packages: zeroc-ice, future\n",
      "  Building wheel for zeroc-ice (setup.py): started\n",
      "  Building wheel for zeroc-ice (setup.py): still running...\n",
      "  Building wheel for zeroc-ice (setup.py): still running...\n",
      "  Building wheel for zeroc-ice (setup.py): still running...\n",
      "  Building wheel for zeroc-ice (setup.py): finished with status 'done'\n",
      "  Created wheel for zeroc-ice: filename=zeroc_ice-3.6.5-cp38-cp38-win_amd64.whl size=1826520 sha256=71d7a4e015abe368ae835ab6aa873036108dd00e618d54f6ad7c36a302b276fa\n",
      "  Stored in directory: c:\\users\\rz200\\appdata\\local\\pip\\cache\\wheels\\33\\e6\\fa\\a613a7ec24d31294db4685d2298eec095062bb43a0967b96db\n",
      "  Building wheel for future (setup.py): started\n",
      "  Building wheel for future (setup.py): finished with status 'done'\n",
      "  Created wheel for future: filename=future-0.18.2-py3-none-any.whl size=491070 sha256=149c70a2a0250ce17df89abef2a0e45401c94740018b9ac6ae4031b8365acf90\n",
      "  Stored in directory: c:\\users\\rz200\\appdata\\local\\pip\\cache\\wheels\\8e\\70\\28\\3d6ccd6e315f65f245da085482a2e1c7d14b90b30f239e2cf4\n",
      "Successfully built zeroc-ice future\n",
      "Installing collected packages: urllib3, idna, charset-normalizer, zeroc-ice, requests, PyYAML, future, appdirs, omero-py\n",
      "Successfully installed PyYAML-6.0 appdirs-1.4.4 charset-normalizer-2.1.0 future-0.18.2 idna-3.3 omero-py-5.11.2 requests-2.28.1 urllib3-1.26.9 zeroc-ice-3.6.5\n",
      "Looking in links: https://download.pytorch.org/whl/cu113/torch_stable.html\n",
      "Requirement already satisfied: cellpose==2.0.5 in c:\\users\\rz200\\.conda\\envs\\celldev\\lib\\site-packages (from -r requirements.txt (line 1)) (2.0.5)\n",
      "Requirement already satisfied: certifi==2022.5.18.1 in c:\\users\\rz200\\.conda\\envs\\celldev\\lib\\site-packages (from -r requirements.txt (line 2)) (2022.5.18.1)\n",
      "Requirement already satisfied: colorama==0.4.5 in c:\\users\\rz200\\.conda\\envs\\celldev\\lib\\site-packages (from -r requirements.txt (line 3)) (0.4.5)\n",
      "Requirement already satisfied: fastremap==1.13.0 in c:\\users\\rz200\\.conda\\envs\\celldev\\lib\\site-packages (from -r requirements.txt (line 4)) (1.13.0)\n",
      "Requirement already satisfied: imagecodecs==2022.2.22 in c:\\users\\rz200\\.conda\\envs\\celldev\\lib\\site-packages (from -r requirements.txt (line 5)) (2022.2.22)\n",
      "Requirement already satisfied: llvmlite==0.38.1 in c:\\users\\rz200\\.conda\\envs\\celldev\\lib\\site-packages (from -r requirements.txt (line 6)) (0.38.1)\n",
      "Requirement already satisfied: natsort==8.1.0 in c:\\users\\rz200\\.conda\\envs\\celldev\\lib\\site-packages (from -r requirements.txt (line 7)) (8.1.0)\n",
      "Requirement already satisfied: numba==0.55.2 in c:\\users\\rz200\\.conda\\envs\\celldev\\lib\\site-packages (from -r requirements.txt (line 8)) (0.55.2)\n",
      "Requirement already satisfied: numpy==1.22.4 in c:\\users\\rz200\\.conda\\envs\\celldev\\lib\\site-packages (from -r requirements.txt (line 9)) (1.22.4)\n",
      "Requirement already satisfied: opencv-python-headless==4.6.0.66 in c:\\users\\rz200\\.conda\\envs\\celldev\\lib\\site-packages (from -r requirements.txt (line 10)) (4.6.0.66)\n",
      "Requirement already satisfied: scipy==1.8.1 in c:\\users\\rz200\\.conda\\envs\\celldev\\lib\\site-packages (from -r requirements.txt (line 11)) (1.8.1)\n",
      "Requirement already satisfied: tifffile==2022.5.4 in c:\\users\\rz200\\.conda\\envs\\celldev\\lib\\site-packages (from -r requirements.txt (line 12)) (2022.5.4)\n",
      "Requirement already satisfied: matplotlib==3.5.2 in c:\\users\\rz200\\.conda\\envs\\celldev\\lib\\site-packages (from -r requirements.txt (line 13)) (3.5.2)\n",
      "Collecting omero-py==5.11.2\n",
      "  Using cached omero_py-5.11.2-py3-none-any.whl (2.8 MB)\n",
      "Requirement already satisfied: torch==1.11.0+cu113 in c:\\users\\rz200\\.conda\\envs\\celldev\\lib\\site-packages (from -r requirements.txt (line 17)) (1.11.0+cu113)\n",
      "Requirement already satisfied: tqdm==4.64.0 in c:\\users\\rz200\\.conda\\envs\\celldev\\lib\\site-packages (from -r requirements.txt (line 19)) (4.64.0)\n",
      "Requirement already satisfied: wincertstore==0.2 in c:\\users\\rz200\\.conda\\envs\\celldev\\lib\\site-packages (from -r requirements.txt (line 20)) (0.2)\n",
      "Requirement already satisfied: setuptools in c:\\users\\rz200\\.conda\\envs\\celldev\\lib\\site-packages (from numba==0.55.2->-r requirements.txt (line 8)) (61.2.0)\n",
      "Requirement already satisfied: packaging>=20.0 in c:\\users\\rz200\\.conda\\envs\\celldev\\lib\\site-packages (from matplotlib==3.5.2->-r requirements.txt (line 13)) (21.3)\n",
      "Requirement already satisfied: fonttools>=4.22.0 in c:\\users\\rz200\\.conda\\envs\\celldev\\lib\\site-packages (from matplotlib==3.5.2->-r requirements.txt (line 13)) (4.33.3)\n",
      "Requirement already satisfied: kiwisolver>=1.0.1 in c:\\users\\rz200\\.conda\\envs\\celldev\\lib\\site-packages (from matplotlib==3.5.2->-r requirements.txt (line 13)) (1.4.3)\n",
      "Requirement already satisfied: cycler>=0.10 in c:\\users\\rz200\\.conda\\envs\\celldev\\lib\\site-packages (from matplotlib==3.5.2->-r requirements.txt (line 13)) (0.11.0)\n",
      "Requirement already satisfied: pillow>=6.2.0 in c:\\users\\rz200\\.conda\\envs\\celldev\\lib\\site-packages (from matplotlib==3.5.2->-r requirements.txt (line 13)) (9.1.1)\n",
      "Requirement already satisfied: python-dateutil>=2.7 in c:\\users\\rz200\\.conda\\envs\\celldev\\lib\\site-packages (from matplotlib==3.5.2->-r requirements.txt (line 13)) (2.8.2)\n",
      "Requirement already satisfied: pyparsing>=2.2.1 in c:\\users\\rz200\\.conda\\envs\\celldev\\lib\\site-packages (from matplotlib==3.5.2->-r requirements.txt (line 13)) (3.0.4)\n",
      "Collecting PyYAML\n",
      "  Using cached PyYAML-6.0-cp38-cp38-win_amd64.whl (155 kB)\n",
      "Requirement already satisfied: pywin32 in c:\\users\\rz200\\.conda\\envs\\celldev\\lib\\site-packages (from omero-py==5.11.2->-r requirements.txt (line 14)) (302)\n",
      "Collecting requests\n",
      "  Using cached requests-2.28.1-py3-none-any.whl (62 kB)\n",
      "Collecting zeroc-ice<3.7,>=3.6.4\n",
      "  Using cached zeroc-ice-3.6.5.tar.gz (1.2 MB)\n",
      "Collecting appdirs\n",
      "  Using cached appdirs-1.4.4-py2.py3-none-any.whl (9.6 kB)\n",
      "Collecting future\n",
      "  Using cached future-0.18.2.tar.gz (829 kB)\n",
      "Requirement already satisfied: typing-extensions in c:\\users\\rz200\\.conda\\envs\\celldev\\lib\\site-packages (from torch==1.11.0+cu113->-r requirements.txt (line 17)) (4.1.1)\n",
      "Requirement already satisfied: six>=1.5 in c:\\users\\rz200\\.conda\\envs\\celldev\\lib\\site-packages (from python-dateutil>=2.7->matplotlib==3.5.2->-r requirements.txt (line 13)) (1.16.0)\n",
      "Collecting idna<4,>=2.5\n",
      "  Using cached idna-3.3-py3-none-any.whl (61 kB)\n",
      "Collecting urllib3<1.27,>=1.21.1\n",
      "  Using cached urllib3-1.26.9-py2.py3-none-any.whl (138 kB)\n",
      "Collecting charset-normalizer<3,>=2\n",
      "  Using cached charset_normalizer-2.1.0-py3-none-any.whl (39 kB)\n",
      "Building wheels for collected packages: zeroc-ice, future\n",
      "  Building wheel for zeroc-ice (setup.py): started\n",
      "  Building wheel for zeroc-ice (setup.py): still running...\n",
      "  Building wheel for zeroc-ice (setup.py): still running...\n",
      "  Building wheel for zeroc-ice (setup.py): still running...\n",
      "  Building wheel for zeroc-ice (setup.py): finished with status 'done'\n",
      "  Created wheel for zeroc-ice: filename=zeroc_ice-3.6.5-cp38-cp38-win_amd64.whl size=1826577 sha256=d9cc09c0b5d84d9159a045431a4eacfab2979d45ff39efe115ca4bc1ae4e6090\n",
      "  Stored in directory: c:\\users\\rz200\\appdata\\local\\pip\\cache\\wheels\\33\\e6\\fa\\a613a7ec24d31294db4685d2298eec095062bb43a0967b96db\n",
      "  Building wheel for future (setup.py): started\n",
      "  Building wheel for future (setup.py): finished with status 'done'\n",
      "  Created wheel for future: filename=future-0.18.2-py3-none-any.whl size=491070 sha256=0b9fe6a09ad988e473e7898d2ccce5d1bab29566687f25f8bafe7a9f6bfa70c2\n",
      "  Stored in directory: c:\\users\\rz200\\appdata\\local\\pip\\cache\\wheels\\8e\\70\\28\\3d6ccd6e315f65f245da085482a2e1c7d14b90b30f239e2cf4\n",
      "Successfully built zeroc-ice future\n",
      "Installing collected packages: urllib3, idna, charset-normalizer, zeroc-ice, requests, PyYAML, future, appdirs, omero-py\n",
      "Successfully installed PyYAML-6.0 appdirs-1.4.4 charset-normalizer-2.1.0 future-0.18.2 idna-3.3 omero-py-5.11.2 requests-2.28.1 urllib3-1.26.9 zeroc-ice-3.6.5\n",
      "Looking in links: https://download.pytorch.org/whl/cu113/torch_stable.html\n",
      "Requirement already satisfied: cellpose==2.0.5 in c:\\users\\rz200\\.conda\\envs\\celldev\\lib\\site-packages (from -r requirements.txt (line 1)) (2.0.5)\n",
      "Requirement already satisfied: certifi==2022.5.18.1 in c:\\users\\rz200\\.conda\\envs\\celldev\\lib\\site-packages (from -r requirements.txt (line 2)) (2022.5.18.1)\n",
      "Requirement already satisfied: colorama==0.4.5 in c:\\users\\rz200\\.conda\\envs\\celldev\\lib\\site-packages (from -r requirements.txt (line 3)) (0.4.5)\n",
      "Requirement already satisfied: fastremap==1.13.0 in c:\\users\\rz200\\.conda\\envs\\celldev\\lib\\site-packages (from -r requirements.txt (line 4)) (1.13.0)\n",
      "Requirement already satisfied: imagecodecs==2022.2.22 in c:\\users\\rz200\\.conda\\envs\\celldev\\lib\\site-packages (from -r requirements.txt (line 5)) (2022.2.22)\n",
      "Requirement already satisfied: llvmlite==0.38.1 in c:\\users\\rz200\\.conda\\envs\\celldev\\lib\\site-packages (from -r requirements.txt (line 6)) (0.38.1)\n",
      "Requirement already satisfied: natsort==8.1.0 in c:\\users\\rz200\\.conda\\envs\\celldev\\lib\\site-packages (from -r requirements.txt (line 7)) (8.1.0)\n",
      "Requirement already satisfied: numba==0.55.2 in c:\\users\\rz200\\.conda\\envs\\celldev\\lib\\site-packages (from -r requirements.txt (line 8)) (0.55.2)\n",
      "Requirement already satisfied: numpy==1.22.4 in c:\\users\\rz200\\.conda\\envs\\celldev\\lib\\site-packages (from -r requirements.txt (line 9)) (1.22.4)\n",
      "Requirement already satisfied: opencv-python-headless==4.6.0.66 in c:\\users\\rz200\\.conda\\envs\\celldev\\lib\\site-packages (from -r requirements.txt (line 10)) (4.6.0.66)\n",
      "Requirement already satisfied: scipy==1.8.1 in c:\\users\\rz200\\.conda\\envs\\celldev\\lib\\site-packages (from -r requirements.txt (line 11)) (1.8.1)\n",
      "Requirement already satisfied: tifffile==2022.5.4 in c:\\users\\rz200\\.conda\\envs\\celldev\\lib\\site-packages (from -r requirements.txt (line 12)) (2022.5.4)\n",
      "Requirement already satisfied: matplotlib==3.5.2 in c:\\users\\rz200\\.conda\\envs\\celldev\\lib\\site-packages (from -r requirements.txt (line 13)) (3.5.2)\n",
      "Collecting omero-py==5.11.2\n",
      "  Using cached omero_py-5.11.2-py3-none-any.whl (2.8 MB)\n",
      "Requirement already satisfied: torch==1.11.0+cu113 in c:\\users\\rz200\\.conda\\envs\\celldev\\lib\\site-packages (from -r requirements.txt (line 17)) (1.11.0+cu113)\n",
      "Requirement already satisfied: tqdm==4.64.0 in c:\\users\\rz200\\.conda\\envs\\celldev\\lib\\site-packages (from -r requirements.txt (line 19)) (4.64.0)\n",
      "Requirement already satisfied: wincertstore==0.2 in c:\\users\\rz200\\.conda\\envs\\celldev\\lib\\site-packages (from -r requirements.txt (line 20)) (0.2)\n",
      "Requirement already satisfied: setuptools in c:\\users\\rz200\\.conda\\envs\\celldev\\lib\\site-packages (from numba==0.55.2->-r requirements.txt (line 8)) (61.2.0)\n",
      "Requirement already satisfied: pyparsing>=2.2.1 in c:\\users\\rz200\\.conda\\envs\\celldev\\lib\\site-packages (from matplotlib==3.5.2->-r requirements.txt (line 13)) (3.0.4)\n",
      "Requirement already satisfied: kiwisolver>=1.0.1 in c:\\users\\rz200\\.conda\\envs\\celldev\\lib\\site-packages (from matplotlib==3.5.2->-r requirements.txt (line 13)) (1.4.3)\n",
      "Requirement already satisfied: packaging>=20.0 in c:\\users\\rz200\\.conda\\envs\\celldev\\lib\\site-packages (from matplotlib==3.5.2->-r requirements.txt (line 13)) (21.3)\n",
      "Requirement already satisfied: python-dateutil>=2.7 in c:\\users\\rz200\\.conda\\envs\\celldev\\lib\\site-packages (from matplotlib==3.5.2->-r requirements.txt (line 13)) (2.8.2)\n",
      "Requirement already satisfied: cycler>=0.10 in c:\\users\\rz200\\.conda\\envs\\celldev\\lib\\site-packages (from matplotlib==3.5.2->-r requirements.txt (line 13)) (0.11.0)\n",
      "Requirement already satisfied: pillow>=6.2.0 in c:\\users\\rz200\\.conda\\envs\\celldev\\lib\\site-packages (from matplotlib==3.5.2->-r requirements.txt (line 13)) (9.1.1)\n",
      "Requirement already satisfied: fonttools>=4.22.0 in c:\\users\\rz200\\.conda\\envs\\celldev\\lib\\site-packages (from matplotlib==3.5.2->-r requirements.txt (line 13)) (4.33.3)\n",
      "Collecting appdirs\n",
      "  Using cached appdirs-1.4.4-py2.py3-none-any.whl (9.6 kB)\n",
      "Collecting requests\n",
      "  Using cached requests-2.28.1-py3-none-any.whl (62 kB)\n",
      "Requirement already satisfied: pywin32 in c:\\users\\rz200\\.conda\\envs\\celldev\\lib\\site-packages (from omero-py==5.11.2->-r requirements.txt (line 14)) (302)\n",
      "Collecting future\n",
      "  Using cached future-0.18.2.tar.gz (829 kB)\n",
      "Collecting PyYAML\n",
      "  Using cached PyYAML-6.0-cp38-cp38-win_amd64.whl (155 kB)\n",
      "Collecting zeroc-ice<3.7,>=3.6.4\n",
      "  Using cached zeroc-ice-3.6.5.tar.gz (1.2 MB)\n",
      "Requirement already satisfied: typing-extensions in c:\\users\\rz200\\.conda\\envs\\celldev\\lib\\site-packages (from torch==1.11.0+cu113->-r requirements.txt (line 17)) (4.1.1)\n",
      "Requirement already satisfied: six>=1.5 in c:\\users\\rz200\\.conda\\envs\\celldev\\lib\\site-packages (from python-dateutil>=2.7->matplotlib==3.5.2->-r requirements.txt (line 13)) (1.16.0)\n",
      "Collecting charset-normalizer<3,>=2\n",
      "  Using cached charset_normalizer-2.1.0-py3-none-any.whl (39 kB)\n",
      "Collecting urllib3<1.27,>=1.21.1\n",
      "  Using cached urllib3-1.26.9-py2.py3-none-any.whl (138 kB)\n",
      "Collecting idna<4,>=2.5\n",
      "  Using cached idna-3.3-py3-none-any.whl (61 kB)\n",
      "Building wheels for collected packages: zeroc-ice, future\n",
      "  Building wheel for zeroc-ice (setup.py): started\n",
      "  Building wheel for zeroc-ice (setup.py): still running...\n",
      "  Building wheel for zeroc-ice (setup.py): still running...\n",
      "  Building wheel for zeroc-ice (setup.py): still running...\n",
      "  Building wheel for zeroc-ice (setup.py): finished with status 'done'\n",
      "  Created wheel for zeroc-ice: filename=zeroc_ice-3.6.5-cp38-cp38-win_amd64.whl size=1826472 sha256=eb882a965bfc3a79a03a46eb3eaca2f9cd080a9395d14e9b7c193da8bf8ebc48\n",
      "  Stored in directory: c:\\users\\rz200\\appdata\\local\\pip\\cache\\wheels\\33\\e6\\fa\\a613a7ec24d31294db4685d2298eec095062bb43a0967b96db\n",
      "  Building wheel for future (setup.py): started\n",
      "  Building wheel for future (setup.py): finished with status 'done'\n",
      "  Created wheel for future: filename=future-0.18.2-py3-none-any.whl size=491070 sha256=b0835b565b4af748c7477e0b92f8c713fe5a523f023542336f900a395be5f056\n",
      "  Stored in directory: c:\\users\\rz200\\appdata\\local\\pip\\cache\\wheels\\8e\\70\\28\\3d6ccd6e315f65f245da085482a2e1c7d14b90b30f239e2cf4\n",
      "Successfully built zeroc-ice future\n",
      "Installing collected packages: urllib3, idna, charset-normalizer, zeroc-ice, requests, PyYAML, future, appdirs, omero-py\n",
      "Successfully installed PyYAML-6.0 appdirs-1.4.4 charset-normalizer-2.1.0 future-0.18.2 idna-3.3 omero-py-5.11.2 requests-2.28.1 urllib3-1.26.9 zeroc-ice-3.6.5\n"
     ]
    }
   ],
   "source": [
    "!pip install -r requirements.txt"
   ],
   "metadata": {
    "collapsed": false,
    "pycharm": {
     "name": "#%%\n"
    }
   }
  },
  {
   "cell_type": "markdown",
   "source": [
    "The package that is most likely to cause problems is PyTorch, therefore we will check if it has been correctly installed."
   ],
   "metadata": {
    "collapsed": false,
    "pycharm": {
     "name": "#%% md\n"
    }
   }
  },
  {
   "cell_type": "code",
   "execution_count": 1,
   "outputs": [
    {
     "name": "stdout",
     "output_type": "stream",
     "text": [
      "PyTorch was successfully installed\n"
     ]
    }
   ],
   "source": [
    "try:\n",
    "    import torch\n",
    "    print('PyTorch was successfully installed')\n",
    "except ImportError as e: print('PyTorch was not installed correctly.')"
   ],
   "metadata": {
    "collapsed": false,
    "pycharm": {
     "name": "#%%\n"
    }
   }
  },
  {
   "cell_type": "markdown",
   "source": [
    "We will now check if the GPU is connected. We will first check if PyTorch can detect it, then we will test if CellPose can detect it.\n",
    "If both can detect it, we've succeeded."
   ],
   "metadata": {
    "collapsed": false,
    "pycharm": {
     "name": "#%% md\n"
    }
   }
  },
  {
   "cell_type": "code",
   "execution_count": 3,
   "outputs": [
    {
     "name": "stdout",
     "output_type": "stream",
     "text": [
      "nvcc: NVIDIA (R) Cuda compiler driver\n",
      "Copyright (c) 2005-2020 NVIDIA Corporation\n",
      "Built on Thu_Jun_11_22:26:48_Pacific_Daylight_Time_2020\n",
      "Cuda compilation tools, release 11.0, V11.0.194\n",
      "Build cuda_11.0_bu.relgpu_drvr445TC445_37.28540450_0\n",
      "xxxxxx True\n",
      ">>> GPU activated? YES\n"
     ]
    }
   ],
   "source": [
    "!nvcc --version\n",
    "from cellpose import core\n",
    "use_GPU = core.use_gpu()\n",
    "print('xxxxxx',use_GPU)\n",
    "\n",
    "yn = ['NO', 'YES']\n",
    "print(f'>>> GPU activated? {yn[use_GPU]}')"
   ],
   "metadata": {
    "collapsed": false,
    "pycharm": {
     "name": "#%%\n"
    }
   }
  },
  {
   "cell_type": "code",
   "execution_count": 6,
   "outputs": [
    {
     "name": "stdout",
     "output_type": "stream",
     "text": [
      "Connected GPU: Quadro P1000\n"
     ]
    }
   ],
   "source": [
    "import torch\n",
    "if torch.cuda.is_available(): print('Connected GPU:',torch.cuda.get_device_name())\n",
    "else: print('No GPU connected')"
   ],
   "metadata": {
    "collapsed": false,
    "pycharm": {
     "name": "#%%\n"
    }
   }
  }
 ],
 "metadata": {
  "kernelspec": {
   "display_name": "Python 3",
   "language": "python",
   "name": "python3"
  },
  "language_info": {
   "codemirror_mode": {
    "name": "ipython",
    "version": 2
   },
   "file_extension": ".py",
   "mimetype": "text/x-python",
   "name": "python",
   "nbconvert_exporter": "python",
   "pygments_lexer": "ipython2",
   "version": "2.7.6"
  }
 },
 "nbformat": 4,
 "nbformat_minor": 0
}