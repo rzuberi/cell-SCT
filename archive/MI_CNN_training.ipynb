{
 "cells": [
  {
   "cell_type": "markdown",
   "source": [
    "This notebook was given to me by Dr Helfrid Hochegger. I did not write any code in this myself. I will make the least possible changes as I want to copy the methods from this into a different notebook to get some data from Omero and hopefully speed up some of this."
   ],
   "metadata": {
    "collapsed": false,
    "pycharm": {
     "name": "#%% md\n"
    }
   }
  },
  {
   "cell_type": "code",
   "execution_count": null,
   "outputs": [],
   "source": [
    "import os\n",
    "from os import listdir\n",
    "from omero.gateway import BlitzGateway\n",
    "import matplotlib as mpl\n",
    "import numpy as np\n",
    "import pandas as pd\n",
    "from scipy import ndimage as ndi\n",
    "from skimage import (\n",
    "    io, exposure, feature, filters, measure, segmentation, color, morphology\n",
    ")\n",
    "from tqdm import tqdm\n",
    "# To plot pretty figures\n",
    "mpl.rc('axes', labelsize=14)\n",
    "mpl.rc('xtick', labelsize=12)\n",
    "mpl.rc('ytick', labelsize=12)\n",
    "import random\n",
    "import time\n",
    "\n",
    "import matplotlib.pyplot as plt\n",
    "import seaborn as sns\n",
    "\n",
    "from stardist.models import StarDist2D\n",
    "from csbdeep.utils import normalize\n",
    "model = StarDist2D.from_pretrained('2D_versatile_fluo')\n",
    "\n",
    "PRD=\".\"\n",
    "Dir_name='MI_CNN_Trainingdata'\n",
    "D_PATH = os.path.join(PRD, Dir_name)\n",
    "os.makedirs(D_PATH, exist_ok=True)\n",
    "def save_fig(fig_id, tight_layout=True, fig_extension=\"pdf\", resolution=300):\n",
    "    path = os.path.join(D_PATH, fig_id + \".\" + fig_extension)\n",
    "    print(\"Saving figure\", fig_id)\n",
    "    if tight_layout:\n",
    "        plt.tight_layout()\n",
    "    plt.savefig(path, format=fig_extension, dpi=resolution)\n",
    "def save_img(image, filename):\n",
    "    path = os.path.join(D_PATH, filename)\n",
    "    io.imsave(path, image)"
   ],
   "metadata": {
    "collapsed": false,
    "pycharm": {
     "name": "#%% Import\n",
     "is_executing": true
    }
   }
  },
  {
   "cell_type": "code",
   "execution_count": 2,
   "metadata": {
    "pycharm": {
     "name": "#%%\n"
    }
   },
   "outputs": [],
   "source": [
    "def Stardist(image):\n",
    "    #image1=filters.gaussian(image, sigma=1, mode='nearest')\n",
    "    #cleared = segmentation.clear_border(image1)\n",
    "    label_objects, nb_labels = model.predict_instances(normalize(image))\n",
    "    sizes = np.bincount(label_objects.ravel())\n",
    "    mask_sizes = (sizes > 75) & (sizes < 2000)\n",
    "    mask_sizes[0] = 0\n",
    "    cells_cleaned = mask_sizes[label_objects]\n",
    "    segmented_cells_, cell_number = ndi.label(cells_cleaned)\n",
    "    color_labels = color.label2rgb(segmented_cells_, image, alpha=0.4, bg_label=0)\n",
    "    return segmented_cells_, color_labels, cell_number"
   ]
  },
  {
   "cell_type": "code",
   "execution_count": 3,
   "metadata": {
    "pycharm": {
     "name": "#%% define Image_List for training\n"
    }
   },
   "outputs": [],
   "source": [
    "Image_ID=247869\n"
   ]
  },
  {
   "cell_type": "code",
   "execution_count": 4,
   "metadata": {
    "pycharm": {
     "name": "#%% Connect to Omero\n"
    }
   },
   "outputs": [
    {
     "data": {
      "text/plain": "True"
     },
     "execution_count": 4,
     "metadata": {},
     "output_type": "execute_result"
    }
   ],
   "source": [
    "conn = BlitzGateway('helfrid', 'Omero_21', host='ome2.hpc.sussex.ac.uk')\n",
    "conn.connect()\n",
    "\n",
    "\n",
    "\n"
   ]
  },
  {
   "cell_type": "code",
   "execution_count": 5,
   "metadata": {
    "pycharm": {
     "name": "#%% Show training instances and input classifiaction to generate dictionary with training data\n"
    }
   },
   "outputs": [
    {
     "data": {
      "text/plain": "<Figure size 720x432 with 1 Axes>",
      "image/png": "[encoded data removed]"
     },
     "metadata": {},
     "output_type": "display_data"
    },
    {
     "ename": "ValueError",
     "evalue": "invalid literal for int() with base 10: ''",
     "output_type": "error",
     "traceback": [
      "\u001B[0;31m---------------------------------------------------------------------------\u001B[0m",
      "\u001B[0;31mValueError\u001B[0m                                Traceback (most recent call last)",
      "\u001B[0;32m<ipython-input-5-e5708d784a85>\u001B[0m in \u001B[0;36m<module>\u001B[0;34m\u001B[0m\n\u001B[1;32m     30\u001B[0m                 \u001B[0mtime\u001B[0m\u001B[0;34m.\u001B[0m\u001B[0msleep\u001B[0m\u001B[0;34m(\u001B[0m\u001B[0;36m1\u001B[0m\u001B[0;34m)\u001B[0m\u001B[0;34m\u001B[0m\u001B[0;34m\u001B[0m\u001B[0m\n\u001B[1;32m     31\u001B[0m                 \u001B[0mtarget_value\u001B[0m\u001B[0;34m=\u001B[0m\u001B[0minput\u001B[0m\u001B[0;34m(\u001B[0m\u001B[0;34m)\u001B[0m\u001B[0;34m\u001B[0m\u001B[0;34m\u001B[0m\u001B[0m\n\u001B[0;32m---> 32\u001B[0;31m                 \u001B[0mtarget_value\u001B[0m\u001B[0;34m=\u001B[0m\u001B[0mint\u001B[0m\u001B[0;34m(\u001B[0m\u001B[0mtarget_value\u001B[0m\u001B[0;34m)\u001B[0m\u001B[0;34m\u001B[0m\u001B[0;34m\u001B[0m\u001B[0m\n\u001B[0m\u001B[1;32m     33\u001B[0m                 \u001B[0mdict_all1\u001B[0m\u001B[0;34m[\u001B[0m\u001B[0;34m'target'\u001B[0m\u001B[0;34m]\u001B[0m\u001B[0;34m.\u001B[0m\u001B[0mappend\u001B[0m\u001B[0;34m(\u001B[0m\u001B[0mtarget_value\u001B[0m\u001B[0;34m)\u001B[0m\u001B[0;34m\u001B[0m\u001B[0;34m\u001B[0m\u001B[0m\n\u001B[1;32m     34\u001B[0m                 \u001B[0mdict_all1\u001B[0m\u001B[0;34m[\u001B[0m\u001B[0;34m'data'\u001B[0m\u001B[0;34m]\u001B[0m\u001B[0;34m.\u001B[0m\u001B[0mappend\u001B[0m\u001B[0;34m(\u001B[0m\u001B[0mbox\u001B[0m\u001B[0;34m)\u001B[0m\u001B[0;34m\u001B[0m\u001B[0;34m\u001B[0m\u001B[0m\n",
      "\u001B[0;31mValueError\u001B[0m: invalid literal for int() with base 10: ''"
     ]
    }
   ],
   "source": [
    "object= conn.getObject(\"Image\", Image_ID)\n",
    "pixels=object.getPrimaryPixels()\n",
    "timepoints=[20]\n",
    "score=0\n",
    "sample_number=100\n",
    "dict_all1={'target':[],'data':[]}\n",
    "w=10\n",
    "for i in timepoints:\n",
    "    img=pixels.getPlane(0,0,i)\n",
    "    percentiles = np.percentile(img, (2, 98))\n",
    "    scaled = exposure.rescale_intensity(img, in_range=tuple(percentiles))\n",
    "    Segmented, ColorLabels, Cell_Number =Stardist(scaled)\n",
    "\n",
    "    for region in random.sample(measure.regionprops(Segmented),sample_number):\n",
    "        b=img[region.bbox[0]:region.bbox[2],region.bbox[1]:region.bbox[3]]\n",
    "        if 10 <= len(b) <= 30:\n",
    "            centroid = region.centroid\n",
    "            i=centroid[0]\n",
    "            j=centroid[1]\n",
    "            imin = int(round(max(0,i-w)))\n",
    "            imax = int(round(min(Segmented.shape[0],i+w+1)))\n",
    "            jmin = int(round(max(0,j-w)))\n",
    "            jmax = int(round(min(Segmented.shape[1],j+w+1)))\n",
    "            box=img[imin:imax,jmin:jmax]\n",
    "            if box.shape[0]==box.shape[1]:\n",
    "                sns.set(font='Arial')\n",
    "                fig, ax = plt.subplots(figsize=(10, 6))\n",
    "                ax.imshow(img[imin:imax,jmin:jmax],cmap='gray')\n",
    "                plt.show(block=False)\n",
    "                time.sleep(1)\n",
    "                target_value=input()\n",
    "                target_value=int(target_value)\n",
    "                dict_all1['target'].append(target_value)\n",
    "                dict_all1['data'].append(box)\n",
    "\n"
   ]
  },
  {
   "cell_type": "code",
   "execution_count": 13,
   "metadata": {
    "pycharm": {
     "name": "#%%\n"
    }
   },
   "outputs": [],
   "source": [
    "\n",
    "np.save(os.path.join(D_PATH,'MI_CNN_data19.npy'),dict_all1)"
   ]
  },
  {
   "cell_type": "code",
   "execution_count": null,
   "outputs": [],
   "source": [],
   "metadata": {
    "collapsed": false,
    "pycharm": {
     "name": "#%%\n"
    }
   }
  },
  {
   "cell_type": "code",
   "execution_count": null,
   "outputs": [],
   "source": [],
   "metadata": {
    "collapsed": false,
    "pycharm": {
     "name": "#%%\n"
    }
   }
  }
 ],
 "metadata": {
  "kernelspec": {
   "name": "python3",
   "language": "python",
   "display_name": "Python 3 (ipykernel)"
  },
  "language_info": {
   "codemirror_mode": {
    "name": "ipython",
    "version": 3
   },
   "file_extension": ".py",
   "mimetype": "text/x-python",
   "name": "python",
   "nbconvert_exporter": "python",
   "pygments_lexer": "ipython3",
   "version": "3.8.8"
  }
 },
 "nbformat": 4,
 "nbformat_minor": 1
}