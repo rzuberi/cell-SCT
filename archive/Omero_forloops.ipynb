{
 "cells": [
  {
   "cell_type": "markdown",
   "source": [
    "This notebook was given to me by Dr Helfrid Hochegger. I did not write any code in this myself. I will make the least possible changes as I want to copy the methods from this into a different notebook to get some data from Omero and hopefully speed up some of this. My intentions are the same as with the MI_CNN_training.ipynb notebook."
   ],
   "metadata": {
    "collapsed": false,
    "pycharm": {
     "name": "#%% md\n"
    }
   }
  },
  {
   "cell_type": "code",
   "execution_count": 1,
   "metadata": {
    "collapsed": true,
    "pycharm": {
     "name": "#%%\n"
    }
   },
   "outputs": [],
   "source": [
    "from omero.gateway import BlitzGateway"
   ]
  },
  {
   "cell_type": "code",
   "execution_count": 3,
   "outputs": [
    {
     "data": {
      "text/plain": "True"
     },
     "execution_count": 3,
     "metadata": {},
     "output_type": "execute_result"
    }
   ],
   "source": [
    "# Connect to Omero and get Plate name\n",
    "conn = BlitzGateway('helfrid', 'Omero_21', host='ome2.hpc.sussex.ac.uk')\n",
    "conn.connect()"
   ],
   "metadata": {
    "collapsed": false,
    "pycharm": {
     "name": "#%%\n"
    }
   }
  },
  {
   "cell_type": "code",
   "execution_count": 5,
   "outputs": [
    {
     "name": "stdout",
     "output_type": "stream",
     "text": [
      "Rehan_TrainingData_01\n"
     ]
    }
   ],
   "source": [
    "plate_id = 812\n",
    "plate = conn.getObject(\"Plate\", plate_id)\n",
    "plate_name=plate.name\n",
    "print (plate_name)\n"
   ],
   "metadata": {
    "collapsed": false,
    "pycharm": {
     "name": "#%%\n"
    }
   }
  },
  {
   "cell_type": "code",
   "execution_count": 9,
   "outputs": [
    {
     "name": "stdout",
     "output_type": "stream",
     "text": [
      "(1080, 1080)\n",
      "(1080, 1080)\n",
      "(1080, 1080)\n",
      "(1080, 1080)\n",
      "(1080, 1080)\n",
      "(1080, 1080)\n",
      "(1080, 1080)\n",
      "(1080, 1080)\n",
      "(1080, 1080)\n",
      "(1080, 1080)\n",
      "(1080, 1080)\n"
     ]
    },
    {
     "ename": "KeyboardInterrupt",
     "evalue": "",
     "output_type": "error",
     "traceback": [
      "\u001B[0;31m---------------------------------------------------------------------------\u001B[0m",
      "\u001B[0;31mKeyboardInterrupt\u001B[0m                         Traceback (most recent call last)",
      "\u001B[0;32m<ipython-input-9-c9e3ce723331>\u001B[0m in \u001B[0;36m<module>\u001B[0;34m\u001B[0m\n\u001B[1;32m      4\u001B[0m         \u001B[0mimage\u001B[0m \u001B[0;34m=\u001B[0m \u001B[0mwell\u001B[0m\u001B[0;34m.\u001B[0m\u001B[0mgetImage\u001B[0m\u001B[0;34m(\u001B[0m\u001B[0mnumber\u001B[0m\u001B[0;34m)\u001B[0m\u001B[0;34m\u001B[0m\u001B[0;34m\u001B[0m\u001B[0m\n\u001B[1;32m      5\u001B[0m         \u001B[0mpixels\u001B[0m\u001B[0;34m=\u001B[0m\u001B[0mimage\u001B[0m\u001B[0;34m.\u001B[0m\u001B[0mgetPrimaryPixels\u001B[0m\u001B[0;34m(\u001B[0m\u001B[0;34m)\u001B[0m\u001B[0;34m\u001B[0m\u001B[0;34m\u001B[0m\u001B[0m\n\u001B[0;32m----> 6\u001B[0;31m         \u001B[0mimg_dapi\u001B[0m \u001B[0;34m=\u001B[0m \u001B[0mpixels\u001B[0m\u001B[0;34m.\u001B[0m\u001B[0mgetPlane\u001B[0m\u001B[0;34m(\u001B[0m\u001B[0;36m0\u001B[0m\u001B[0;34m,\u001B[0m\u001B[0;36m0\u001B[0m\u001B[0;34m,\u001B[0m\u001B[0;36m0\u001B[0m\u001B[0;34m)\u001B[0m\u001B[0;34m\u001B[0m\u001B[0;34m\u001B[0m\u001B[0m\n\u001B[0m\u001B[1;32m      7\u001B[0m         \u001B[0mprint\u001B[0m\u001B[0;34m(\u001B[0m\u001B[0mimg_dapi\u001B[0m\u001B[0;34m.\u001B[0m\u001B[0mshape\u001B[0m\u001B[0;34m)\u001B[0m\u001B[0;34m\u001B[0m\u001B[0;34m\u001B[0m\u001B[0m\n\u001B[1;32m      8\u001B[0m \u001B[0;34m\u001B[0m\u001B[0m\n",
      "\u001B[0;32m~/opt/anaconda3/envs/myenv/lib/python3.6/site-packages/omero/gateway/__init__.py\u001B[0m in \u001B[0;36mgetPlane\u001B[0;34m(self, theZ, theC, theT)\u001B[0m\n\u001B[1;32m   7490\u001B[0m         \u001B[0;36m30\u001B[0m\u001B[0;34m%\u001B[0m \u001B[0mfaster\u001B[0m\u001B[0;34m.\u001B[0m\u001B[0;34m\u001B[0m\u001B[0;34m\u001B[0m\u001B[0m\n\u001B[1;32m   7491\u001B[0m         \"\"\"\n\u001B[0;32m-> 7492\u001B[0;31m         \u001B[0mplaneList\u001B[0m \u001B[0;34m=\u001B[0m \u001B[0mlist\u001B[0m\u001B[0;34m(\u001B[0m\u001B[0mself\u001B[0m\u001B[0;34m.\u001B[0m\u001B[0mgetPlanes\u001B[0m\u001B[0;34m(\u001B[0m\u001B[0;34m[\u001B[0m\u001B[0;34m(\u001B[0m\u001B[0mtheZ\u001B[0m\u001B[0;34m,\u001B[0m \u001B[0mtheC\u001B[0m\u001B[0;34m,\u001B[0m \u001B[0mtheT\u001B[0m\u001B[0;34m)\u001B[0m\u001B[0;34m]\u001B[0m\u001B[0;34m)\u001B[0m\u001B[0;34m)\u001B[0m\u001B[0;34m\u001B[0m\u001B[0;34m\u001B[0m\u001B[0m\n\u001B[0m\u001B[1;32m   7493\u001B[0m         \u001B[0;32mreturn\u001B[0m \u001B[0mplaneList\u001B[0m\u001B[0;34m[\u001B[0m\u001B[0;36m0\u001B[0m\u001B[0;34m]\u001B[0m\u001B[0;34m\u001B[0m\u001B[0;34m\u001B[0m\u001B[0m\n\u001B[1;32m   7494\u001B[0m \u001B[0;34m\u001B[0m\u001B[0m\n",
      "\u001B[0;31mKeyboardInterrupt\u001B[0m: "
     ]
    }
   ],
   "source": [
    "wells = list(plate.listChildren())\n",
    "for well in wells:\n",
    "    for number, item in enumerate(well.listChildren()):\n",
    "        image = well.getImage(number)\n",
    "        pixels=image.getPrimaryPixels()\n",
    "        #select image from pixel object channel is specified \n",
    "        #by (0,i,0)\n",
    "        img_dapi = pixels.getPlane(0,0,0)\n",
    "        print(img_dapi.shape)"
   ],
   "metadata": {
    "collapsed": false,
    "pycharm": {
     "name": "#%%\n"
    }
   }
  },
  {
   "cell_type": "code",
   "execution_count": null,
   "outputs": [],
   "source": [],
   "metadata": {
    "collapsed": false,
    "pycharm": {
     "name": "#%%\n"
    }
   }
  }
 ],
 "metadata": {
  "kernelspec": {
   "name": "pycharm-38e847e3",
   "language": "python",
   "display_name": "PyCharm (pythonProject)"
  },
  "language_info": {
   "codemirror_mode": {
    "name": "ipython",
    "version": 2
   },
   "file_extension": ".py",
   "mimetype": "text/x-python",
   "name": "python",
   "nbconvert_exporter": "python",
   "pygments_lexer": "ipython2",
   "version": "2.7.6"
  }
 },
 "nbformat": 4,
 "nbformat_minor": 0
}