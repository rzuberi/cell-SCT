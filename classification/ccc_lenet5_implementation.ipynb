{
 "cells": [
  {
   "cell_type": "code",
   "execution_count": null,
   "metadata": {
    "collapsed": true,
    "pycharm": {
     "name": "#%%\n"
    }
   },
   "outputs": [],
   "source": [
    "#source: https://blog.paperspace.com/writing-lenet5-from-scratch-in-python/\n",
    "#source: https://www.sciencedirect.com/science/article/pii/S0010482519303993?via%3Dihub"
   ]
  },
  {
   "cell_type": "code",
   "execution_count": 1,
   "outputs": [],
   "source": [
    "# Load in relevant libraries, and alias where appropriate\n",
    "import matplotlib.pyplot as plt\n",
    "import torch\n",
    "import torch.nn as nn\n",
    "import torchvision\n",
    "import torchvision.transforms as transforms\n",
    "\n",
    "# Define relevant variables for the ML task\n",
    "batch_size = 64\n",
    "num_classes = 3\n",
    "learning_rate = 0.001\n",
    "num_epochs = 10\n",
    "\n",
    "# Device will determine whether to run the training on GPU or CPU.\n",
    "device = torch.device('cuda' if torch.cuda.is_available() else 'cpu')"
   ],
   "metadata": {
    "collapsed": false,
    "pycharm": {
     "name": "#%%\n"
    }
   }
  },
  {
   "cell_type": "code",
   "execution_count": 2,
   "outputs": [],
   "source": [
    "import pandas as pd\n",
    "\n",
    "df_821_path = r'C:\\Users\\rz200\\Documents\\Development\\cell-SCT\\classification\\imported_CSV\\dataframe_821'\n",
    "data_path = df_821_path\n",
    "df = pd.read_csv(df_821_path)"
   ],
   "metadata": {
    "collapsed": false,
    "pycharm": {
     "name": "#%%\n"
    }
   }
  },
  {
   "cell_type": "code",
   "execution_count": 4,
   "outputs": [
    {
     "name": "stdout",
     "output_type": "stream",
     "text": [
      "[[[255 128   0   0]\n",
      "  [255 128   0   1]\n",
      "  [255 128   0   2]\n",
      "  ...\n",
      "  [  0   0 255 197]\n",
      "  [  0   0 255 198]\n",
      "  [  0   0 255 199]]\n",
      "\n",
      " [[255 128   0   0]\n",
      "  [255 128   0   1]\n",
      "  [255 128   0   2]\n",
      "  ...\n",
      "  [  0   0 255 197]\n",
      "  [  0   0 255 198]\n",
      "  [  0   0 255 199]]\n",
      "\n",
      " [[255 128   0   0]\n",
      "  [255 128   0   1]\n",
      "  [255 128   0   2]\n",
      "  ...\n",
      "  [  0   0 255 197]\n",
      "  [  0   0 255 198]\n",
      "  [  0   0 255 199]]\n",
      "\n",
      " ...\n",
      "\n",
      " [[255 128   0   0]\n",
      "  [255 128   0   1]\n",
      "  [255 128   0   2]\n",
      "  ...\n",
      "  [  0   0 255 197]\n",
      "  [  0   0 255 198]\n",
      "  [  0   0 255 199]]\n",
      "\n",
      " [[255 128   0   0]\n",
      "  [255 128   0   1]\n",
      "  [255 128   0   2]\n",
      "  ...\n",
      "  [  0   0 255 197]\n",
      "  [  0   0 255 198]\n",
      "  [  0   0 255 199]]\n",
      "\n",
      " [[255 128   0   0]\n",
      "  [255 128   0   1]\n",
      "  [255 128   0   2]\n",
      "  ...\n",
      "  [  0   0 255 197]\n",
      "  [  0   0 255 198]\n",
      "  [  0   0 255 199]]]\n"
     ]
    }
   ],
   "source": [
    "import numpy as np\n",
    "from ccc_nn_functions import str2array\n",
    "\n",
    "array = np.zeros([100, 200, 4], dtype=np.uint8)\n",
    "array[:,:100] = [255, 128, 0, 255] #Orange left side\n",
    "array[:,100:] = [0, 0, 255, 255]   #Blue right side\n",
    "\n",
    "# Set transparency depending on x position\n",
    "for x in range(200):\n",
    "    for y in range(100):\n",
    "        array[y, x, 3] = x\n",
    "\n",
    "print(array)"
   ],
   "metadata": {
    "collapsed": false,
    "pycharm": {
     "name": "#%%\n"
    }
   }
  },
  {
   "cell_type": "code",
   "execution_count": 5,
   "outputs": [
    {
     "name": "stdout",
     "output_type": "stream",
     "text": [
      "(22, 22)\n"
     ]
    },
    {
     "data": {
      "text/plain": "<matplotlib.image.AxesImage at 0x28e14220070>"
     },
     "execution_count": 5,
     "metadata": {},
     "output_type": "execute_result"
    },
    {
     "data": {
      "text/plain": "<Figure size 432x288 with 1 Axes>",
      "image/png": "[encoded data removed]"
     },
     "metadata": {
      "needs_background": "light"
     },
     "output_type": "display_data"
    }
   ],
   "source": [
    "arr_dapi = str2array(df['dapi_crops'][0])*255\n",
    "arr_cyclina2 = str2array(df['cyclina2_crops'][0])*255\n",
    "arr_edu = str2array(df['edu_crops'][0])*255\n",
    "arr_pcna = str2array(df['pcna_crops'][0])*255\n",
    "\n",
    "no_img = 4\n",
    "img = arr_dapi/no_img + arr_cyclina2/no_img + arr_edu/no_img + arr_pcna/no_img\n",
    "print(img.shape)\n",
    "plt.imshow(img)"
   ],
   "metadata": {
    "collapsed": false,
    "pycharm": {
     "name": "#%%\n"
    }
   }
  },
  {
   "cell_type": "code",
   "execution_count": 10,
   "outputs": [
    {
     "name": "stdout",
     "output_type": "stream",
     "text": [
      "[[[ 1 26  1 34]\n",
      "  [ 1 26  0 33]\n",
      "  [ 1 27  1 34]\n",
      "  ...\n",
      "  [ 2 28  1 35]\n",
      "  [ 1 27  1 35]\n",
      "  [ 1 28  1 36]]\n",
      "\n",
      " [[ 1 26  1 35]\n",
      "  [ 1 27  1 34]\n",
      "  [ 1 26  1 35]\n",
      "  ...\n",
      "  [ 1 29  1 38]\n",
      "  [ 1 28  1 37]\n",
      "  [ 1 28  1 36]]\n",
      "\n",
      " [[ 1 27  1 35]\n",
      "  [ 1 27  1 32]\n",
      "  [ 1 27  1 35]\n",
      "  ...\n",
      "  [ 2 30  2 37]\n",
      "  [ 1 30  2 36]\n",
      "  [ 1 31  1 37]]\n",
      "\n",
      " ...\n",
      "\n",
      " [[ 1 27  0 34]\n",
      "  [ 1 26  1 34]\n",
      "  [ 3 27  1 34]\n",
      "  ...\n",
      "  [ 1 28  1 34]\n",
      "  [ 1 26  1 34]\n",
      "  [ 1 26  0 34]]\n",
      "\n",
      " [[ 1 26  1 32]\n",
      "  [ 1 26  1 33]\n",
      "  [ 1 27  1 33]\n",
      "  ...\n",
      "  [ 1 26  1 34]\n",
      "  [ 1 27  1 33]\n",
      "  [ 1 27  1 35]]\n",
      "\n",
      " [[ 1 25  1 33]\n",
      "  [ 1 26  1 32]\n",
      "  [ 1 26  1 34]\n",
      "  ...\n",
      "  [ 1 26  1 34]\n",
      "  [ 1 28  1 34]\n",
      "  [ 1 27  1 34]]]\n",
      "RGBA (20, 20)\n"
     ]
    },
    {
     "data": {
      "text/plain": "<Figure size 432x288 with 1 Axes>",
      "image/png": "[encoded data removed]"
     },
     "metadata": {
      "needs_background": "light"
     },
     "output_type": "display_data"
    },
    {
     "data": {
      "text/plain": "<Figure size 432x288 with 1 Axes>",
      "image/png": "[encoded data removed]"
     },
     "metadata": {
      "needs_background": "light"
     },
     "output_type": "display_data"
    },
    {
     "data": {
      "text/plain": "<Figure size 432x288 with 1 Axes>",
      "image/png": "[encoded data removed]"
     },
     "metadata": {
      "needs_background": "light"
     },
     "output_type": "display_data"
    },
    {
     "data": {
      "text/plain": "<Figure size 432x288 with 1 Axes>",
      "image/png": "[encoded data removed]"
     },
     "metadata": {
      "needs_background": "light"
     },
     "output_type": "display_data"
    }
   ],
   "source": [
    "from PIL import Image\n",
    "\n",
    "img_id = 1000\n",
    "arr_dapi = str2array(df['dapi_crops'][img_id])*255\n",
    "arr_cyclina2 = str2array(df['cyclina2_crops'][img_id])*255\n",
    "arr_edu = str2array(df['edu_crops'][img_id])*255\n",
    "arr_pcna = str2array(df['pcna_crops'][img_id])*255\n",
    "\n",
    "arr = np.dstack((arr_dapi,arr_cyclina2,arr_edu,arr_pcna))\n",
    "arr = arr.astype(np.uint8)\n",
    "\n",
    "print(arr)\n",
    "\n",
    "im = Image.fromarray(arr)\n",
    "\n",
    "print(im.mode, im.size)\n",
    "#im = im.convert(\"L\")\n",
    "im.save('img_4_channels.png')\n",
    "for i in range(4):\n",
    "    plt.imshow(arr[...,i])\n",
    "    plt.show()\n",
    "\n"
   ],
   "metadata": {
    "collapsed": false,
    "pycharm": {
     "name": "#%%\n"
    }
   }
  },
  {
   "cell_type": "code",
   "execution_count": 202,
   "outputs": [
    {
     "name": "stdout",
     "output_type": "stream",
     "text": [
      "<class 'numpy.ndarray'>\n"
     ]
    },
    {
     "ename": "OSError",
     "evalue": "Cannot understand given URI: array([[[ 1, 26,  1, 34],\n        [ 1, 26,  0, 33],\n     ....",
     "output_type": "error",
     "traceback": [
      "\u001B[1;31m---------------------------------------------------------------------------\u001B[0m",
      "\u001B[1;31mOSError\u001B[0m                                   Traceback (most recent call last)",
      "Input \u001B[1;32mIn [202]\u001B[0m, in \u001B[0;36m<cell line: 14>\u001B[1;34m()\u001B[0m\n\u001B[0;32m     10\u001B[0m arr \u001B[38;5;241m=\u001B[39m arr\u001B[38;5;241m.\u001B[39mastype(np\u001B[38;5;241m.\u001B[39muint8)\n\u001B[0;32m     12\u001B[0m \u001B[38;5;28mprint\u001B[39m(\u001B[38;5;28mtype\u001B[39m(arr))\n\u001B[1;32m---> 14\u001B[0m \u001B[43mio\u001B[49m\u001B[38;5;241;43m.\u001B[39;49m\u001B[43mimread\u001B[49m\u001B[43m(\u001B[49m\u001B[43marr\u001B[49m\u001B[43m)\u001B[49m\n",
      "File \u001B[1;32m~\\.conda\\envs\\celldev\\lib\\site-packages\\skimage\\io\\_io.py:53\u001B[0m, in \u001B[0;36mimread\u001B[1;34m(fname, as_gray, plugin, **plugin_args)\u001B[0m\n\u001B[0;32m     50\u001B[0m         plugin \u001B[38;5;241m=\u001B[39m \u001B[38;5;124m'\u001B[39m\u001B[38;5;124mtifffile\u001B[39m\u001B[38;5;124m'\u001B[39m\n\u001B[0;32m     52\u001B[0m \u001B[38;5;28;01mwith\u001B[39;00m file_or_url_context(fname) \u001B[38;5;28;01mas\u001B[39;00m fname:\n\u001B[1;32m---> 53\u001B[0m     img \u001B[38;5;241m=\u001B[39m \u001B[43mcall_plugin\u001B[49m\u001B[43m(\u001B[49m\u001B[38;5;124;43m'\u001B[39;49m\u001B[38;5;124;43mimread\u001B[39;49m\u001B[38;5;124;43m'\u001B[39;49m\u001B[43m,\u001B[49m\u001B[43m \u001B[49m\u001B[43mfname\u001B[49m\u001B[43m,\u001B[49m\u001B[43m \u001B[49m\u001B[43mplugin\u001B[49m\u001B[38;5;241;43m=\u001B[39;49m\u001B[43mplugin\u001B[49m\u001B[43m,\u001B[49m\u001B[43m \u001B[49m\u001B[38;5;241;43m*\u001B[39;49m\u001B[38;5;241;43m*\u001B[39;49m\u001B[43mplugin_args\u001B[49m\u001B[43m)\u001B[49m\n\u001B[0;32m     55\u001B[0m \u001B[38;5;28;01mif\u001B[39;00m \u001B[38;5;129;01mnot\u001B[39;00m \u001B[38;5;28mhasattr\u001B[39m(img, \u001B[38;5;124m'\u001B[39m\u001B[38;5;124mndim\u001B[39m\u001B[38;5;124m'\u001B[39m):\n\u001B[0;32m     56\u001B[0m     \u001B[38;5;28;01mreturn\u001B[39;00m img\n",
      "File \u001B[1;32m~\\.conda\\envs\\celldev\\lib\\site-packages\\skimage\\io\\manage_plugins.py:207\u001B[0m, in \u001B[0;36mcall_plugin\u001B[1;34m(kind, *args, **kwargs)\u001B[0m\n\u001B[0;32m    203\u001B[0m     \u001B[38;5;28;01mexcept\u001B[39;00m \u001B[38;5;167;01mIndexError\u001B[39;00m:\n\u001B[0;32m    204\u001B[0m         \u001B[38;5;28;01mraise\u001B[39;00m \u001B[38;5;167;01mRuntimeError\u001B[39;00m(\u001B[38;5;124m'\u001B[39m\u001B[38;5;124mCould not find the plugin \u001B[39m\u001B[38;5;124m\"\u001B[39m\u001B[38;5;132;01m%s\u001B[39;00m\u001B[38;5;124m\"\u001B[39m\u001B[38;5;124m for \u001B[39m\u001B[38;5;132;01m%s\u001B[39;00m\u001B[38;5;124m.\u001B[39m\u001B[38;5;124m'\u001B[39m \u001B[38;5;241m%\u001B[39m\n\u001B[0;32m    205\u001B[0m                            (plugin, kind))\n\u001B[1;32m--> 207\u001B[0m \u001B[38;5;28;01mreturn\u001B[39;00m \u001B[43mfunc\u001B[49m\u001B[43m(\u001B[49m\u001B[38;5;241;43m*\u001B[39;49m\u001B[43margs\u001B[49m\u001B[43m,\u001B[49m\u001B[43m \u001B[49m\u001B[38;5;241;43m*\u001B[39;49m\u001B[38;5;241;43m*\u001B[39;49m\u001B[43mkwargs\u001B[49m\u001B[43m)\u001B[49m\n",
      "File \u001B[1;32m~\\.conda\\envs\\celldev\\lib\\site-packages\\skimage\\io\\_plugins\\imageio_plugin.py:15\u001B[0m, in \u001B[0;36mimread\u001B[1;34m(*args, **kwargs)\u001B[0m\n\u001B[0;32m     13\u001B[0m \u001B[38;5;129m@wraps\u001B[39m(imageio_imread)\n\u001B[0;32m     14\u001B[0m \u001B[38;5;28;01mdef\u001B[39;00m \u001B[38;5;21mimread\u001B[39m(\u001B[38;5;241m*\u001B[39margs, \u001B[38;5;241m*\u001B[39m\u001B[38;5;241m*\u001B[39mkwargs):\n\u001B[1;32m---> 15\u001B[0m     \u001B[38;5;28;01mreturn\u001B[39;00m np\u001B[38;5;241m.\u001B[39masarray(\u001B[43mimageio_imread\u001B[49m\u001B[43m(\u001B[49m\u001B[38;5;241;43m*\u001B[39;49m\u001B[43margs\u001B[49m\u001B[43m,\u001B[49m\u001B[43m \u001B[49m\u001B[38;5;241;43m*\u001B[39;49m\u001B[38;5;241;43m*\u001B[39;49m\u001B[43mkwargs\u001B[49m\u001B[43m)\u001B[49m)\n",
      "File \u001B[1;32m~\\.conda\\envs\\celldev\\lib\\site-packages\\imageio\\v2.py:200\u001B[0m, in \u001B[0;36mimread\u001B[1;34m(uri, format, **kwargs)\u001B[0m\n\u001B[0;32m    197\u001B[0m imopen_args \u001B[38;5;241m=\u001B[39m decypher_format_arg(\u001B[38;5;28mformat\u001B[39m)\n\u001B[0;32m    198\u001B[0m imopen_args[\u001B[38;5;124m\"\u001B[39m\u001B[38;5;124mlegacy_mode\u001B[39m\u001B[38;5;124m\"\u001B[39m] \u001B[38;5;241m=\u001B[39m \u001B[38;5;28;01mTrue\u001B[39;00m\n\u001B[1;32m--> 200\u001B[0m \u001B[38;5;28;01mwith\u001B[39;00m \u001B[43mimopen\u001B[49m\u001B[43m(\u001B[49m\u001B[43muri\u001B[49m\u001B[43m,\u001B[49m\u001B[43m \u001B[49m\u001B[38;5;124;43m\"\u001B[39;49m\u001B[38;5;124;43mri\u001B[39;49m\u001B[38;5;124;43m\"\u001B[39;49m\u001B[43m,\u001B[49m\u001B[43m \u001B[49m\u001B[38;5;241;43m*\u001B[39;49m\u001B[38;5;241;43m*\u001B[39;49m\u001B[43mimopen_args\u001B[49m\u001B[43m)\u001B[49m \u001B[38;5;28;01mas\u001B[39;00m file:\n\u001B[0;32m    201\u001B[0m     \u001B[38;5;28;01mreturn\u001B[39;00m file\u001B[38;5;241m.\u001B[39mread(index\u001B[38;5;241m=\u001B[39m\u001B[38;5;241m0\u001B[39m, \u001B[38;5;241m*\u001B[39m\u001B[38;5;241m*\u001B[39mkwargs)\n",
      "File \u001B[1;32m~\\.conda\\envs\\celldev\\lib\\site-packages\\imageio\\core\\imopen.py:118\u001B[0m, in \u001B[0;36mimopen\u001B[1;34m(uri, io_mode, plugin, extension, format_hint, legacy_mode, **kwargs)\u001B[0m\n\u001B[0;32m    116\u001B[0m     request\u001B[38;5;241m.\u001B[39mformat_hint \u001B[38;5;241m=\u001B[39m format_hint\n\u001B[0;32m    117\u001B[0m \u001B[38;5;28;01melse\u001B[39;00m:\n\u001B[1;32m--> 118\u001B[0m     request \u001B[38;5;241m=\u001B[39m \u001B[43mRequest\u001B[49m\u001B[43m(\u001B[49m\u001B[43muri\u001B[49m\u001B[43m,\u001B[49m\u001B[43m \u001B[49m\u001B[43mio_mode\u001B[49m\u001B[43m,\u001B[49m\u001B[43m \u001B[49m\u001B[43mformat_hint\u001B[49m\u001B[38;5;241;43m=\u001B[39;49m\u001B[43mformat_hint\u001B[49m\u001B[43m,\u001B[49m\u001B[43m \u001B[49m\u001B[43mextension\u001B[49m\u001B[38;5;241;43m=\u001B[39;49m\u001B[43mextension\u001B[49m\u001B[43m)\u001B[49m\n\u001B[0;32m    120\u001B[0m source \u001B[38;5;241m=\u001B[39m \u001B[38;5;124m\"\u001B[39m\u001B[38;5;124m<bytes>\u001B[39m\u001B[38;5;124m\"\u001B[39m \u001B[38;5;28;01mif\u001B[39;00m \u001B[38;5;28misinstance\u001B[39m(uri, \u001B[38;5;28mbytes\u001B[39m) \u001B[38;5;28;01melse\u001B[39;00m uri\n\u001B[0;32m    122\u001B[0m \u001B[38;5;66;03m# fast-path based on plugin\u001B[39;00m\n\u001B[0;32m    123\u001B[0m \u001B[38;5;66;03m# (except in legacy mode)\u001B[39;00m\n",
      "File \u001B[1;32m~\\.conda\\envs\\celldev\\lib\\site-packages\\imageio\\core\\request.py:248\u001B[0m, in \u001B[0;36mRequest.__init__\u001B[1;34m(self, uri, mode, extension, format_hint, **kwargs)\u001B[0m\n\u001B[0;32m    245\u001B[0m     \u001B[38;5;28;01mraise\u001B[39;00m \u001B[38;5;167;01mValueError\u001B[39;00m(\u001B[38;5;124mf\u001B[39m\u001B[38;5;124m\"\u001B[39m\u001B[38;5;124mInvalid Request.Mode: \u001B[39m\u001B[38;5;132;01m{\u001B[39;00mmode\u001B[38;5;132;01m}\u001B[39;00m\u001B[38;5;124m\"\u001B[39m)\n\u001B[0;32m    247\u001B[0m \u001B[38;5;66;03m# Parse what was given\u001B[39;00m\n\u001B[1;32m--> 248\u001B[0m \u001B[38;5;28;43mself\u001B[39;49m\u001B[38;5;241;43m.\u001B[39;49m\u001B[43m_parse_uri\u001B[49m\u001B[43m(\u001B[49m\u001B[43muri\u001B[49m\u001B[43m)\u001B[49m\n\u001B[0;32m    250\u001B[0m \u001B[38;5;66;03m# Set extension\u001B[39;00m\n\u001B[0;32m    251\u001B[0m \u001B[38;5;28;01mif\u001B[39;00m extension \u001B[38;5;129;01mis\u001B[39;00m \u001B[38;5;129;01mnot\u001B[39;00m \u001B[38;5;28;01mNone\u001B[39;00m:\n",
      "File \u001B[1;32m~\\.conda\\envs\\celldev\\lib\\site-packages\\imageio\\core\\request.py:369\u001B[0m, in \u001B[0;36mRequest._parse_uri\u001B[1;34m(self, uri)\u001B[0m\n\u001B[0;32m    367\u001B[0m     \u001B[38;5;28;01mif\u001B[39;00m \u001B[38;5;28mlen\u001B[39m(uri_r) \u001B[38;5;241m>\u001B[39m \u001B[38;5;241m60\u001B[39m:\n\u001B[0;32m    368\u001B[0m         uri_r \u001B[38;5;241m=\u001B[39m uri_r[:\u001B[38;5;241m57\u001B[39m] \u001B[38;5;241m+\u001B[39m \u001B[38;5;124m\"\u001B[39m\u001B[38;5;124m...\u001B[39m\u001B[38;5;124m\"\u001B[39m\n\u001B[1;32m--> 369\u001B[0m     \u001B[38;5;28;01mraise\u001B[39;00m \u001B[38;5;167;01mIOError\u001B[39;00m(\u001B[38;5;124m\"\u001B[39m\u001B[38;5;124mCannot understand given URI: \u001B[39m\u001B[38;5;132;01m%s\u001B[39;00m\u001B[38;5;124m.\u001B[39m\u001B[38;5;124m\"\u001B[39m \u001B[38;5;241m%\u001B[39m uri_r)\n\u001B[0;32m    371\u001B[0m \u001B[38;5;66;03m# Check if this is supported\u001B[39;00m\n\u001B[0;32m    372\u001B[0m noWriting \u001B[38;5;241m=\u001B[39m [URI_HTTP, URI_FTP]\n",
      "\u001B[1;31mOSError\u001B[0m: Cannot understand given URI: array([[[ 1, 26,  1, 34],\n        [ 1, 26,  0, 33],\n     ...."
     ]
    }
   ],
   "source": [
    "from skimage import io\n",
    "\n",
    "img_id = 1000\n",
    "arr_dapi = str2array(df['dapi_crops'][img_id])*255\n",
    "arr_cyclina2 = str2array(df['cyclina2_crops'][img_id])*255\n",
    "arr_edu = str2array(df['edu_crops'][img_id])*255\n",
    "arr_pcna = str2array(df['pcna_crops'][img_id])*255\n",
    "\n",
    "arr = np.dstack((arr_dapi,arr_cyclina2,arr_edu,arr_pcna))\n",
    "arr = arr.astype(np.uint8)\n",
    "\n",
    "print(type(arr))\n",
    "\n",
    "io.imread(arr)"
   ],
   "metadata": {
    "collapsed": false,
    "pycharm": {
     "name": "#%%\n"
    }
   }
  },
  {
   "cell_type": "code",
   "execution_count": 191,
   "outputs": [],
   "source": [
    "im=Image.open('img_4_channels.png')"
   ],
   "metadata": {
    "collapsed": false,
    "pycharm": {
     "name": "#%%\n"
    }
   }
  },
  {
   "cell_type": "code",
   "execution_count": 203,
   "outputs": [
    {
     "ename": "TypeError",
     "evalue": "'Image' object is not subscriptable",
     "output_type": "error",
     "traceback": [
      "\u001B[1;31m---------------------------------------------------------------------------\u001B[0m",
      "\u001B[1;31mTypeError\u001B[0m                                 Traceback (most recent call last)",
      "Input \u001B[1;32mIn [203]\u001B[0m, in \u001B[0;36m<cell line: 1>\u001B[1;34m()\u001B[0m\n\u001B[1;32m----> 1\u001B[0m plt\u001B[38;5;241m.\u001B[39mimshow(\u001B[43mim\u001B[49m\u001B[43m[\u001B[49m\u001B[38;5;241;43m.\u001B[39;49m\u001B[38;5;241;43m.\u001B[39;49m\u001B[38;5;241;43m.\u001B[39;49m\u001B[43m,\u001B[49m\u001B[38;5;241;43m0\u001B[39;49m\u001B[43m]\u001B[49m)\n\u001B[0;32m      2\u001B[0m \u001B[38;5;28mprint\u001B[39m(im\u001B[38;5;241m.\u001B[39mmode, im\u001B[38;5;241m.\u001B[39msize)\n",
      "\u001B[1;31mTypeError\u001B[0m: 'Image' object is not subscriptable"
     ]
    }
   ],
   "source": [
    "plt.imshow(im[...,0])\n",
    "print(im.mode, im.size)"
   ],
   "metadata": {
    "collapsed": false,
    "pycharm": {
     "name": "#%%\n"
    }
   }
  },
  {
   "cell_type": "code",
   "execution_count": 99,
   "outputs": [
    {
     "name": "stdout",
     "output_type": "stream",
     "text": [
      "1/112027\n"
     ]
    },
    {
     "name": "stderr",
     "output_type": "stream",
     "text": [
      "C:\\Users\\rz200\\Documents\\development\\cell-SCT\\classification\\ccc_nn_functions.py:106: VisibleDeprecationWarning: Creating an ndarray from ragged nested sequences (which is a list-or-tuple of lists-or-tuples-or ndarrays with different lengths or shapes) is deprecated. If you meant to do this, you must specify 'dtype=object' when creating the ndarray.\n",
      "  return np.array(ast.literal_eval(s))\n"
     ]
    },
    {
     "name": "stdout",
     "output_type": "stream",
     "text": [
      "1001/112027\n",
      "2001/112027\n",
      "3001/112027\n",
      "4001/112027\n",
      "5001/112027\n",
      "6001/112027\n",
      "7001/112027\n",
      "8001/112027\n",
      "9001/112027\n",
      "10001/112027\n",
      "11001/112027\n",
      "12001/112027\n",
      "13001/112027\n",
      "14001/112027\n",
      "15001/112027\n",
      "16001/112027\n",
      "17001/112027\n",
      "18001/112027\n",
      "19001/112027\n",
      "20001/112027\n",
      "21001/112027\n",
      "22001/112027\n",
      "23001/112027\n",
      "24001/112027\n",
      "25001/112027\n",
      "26001/112027\n",
      "27001/112027\n",
      "28001/112027\n",
      "29001/112027\n",
      "30001/112027\n",
      "31001/112027\n",
      "32001/112027\n",
      "33001/112027\n",
      "34001/112027\n",
      "35001/112027\n",
      "36001/112027\n",
      "37001/112027\n",
      "38001/112027\n",
      "39001/112027\n",
      "40001/112027\n",
      "41001/112027\n",
      "42001/112027\n",
      "43001/112027\n",
      "44001/112027\n",
      "45001/112027\n",
      "46001/112027\n",
      "47001/112027\n",
      "48001/112027\n",
      "49001/112027\n",
      "50001/112027\n",
      "51001/112027\n",
      "52001/112027\n",
      "53001/112027\n",
      "54001/112027\n",
      "55001/112027\n",
      "56001/112027\n",
      "57001/112027\n",
      "58001/112027\n",
      "59001/112027\n",
      "60001/112027\n",
      "61001/112027\n",
      "62001/112027\n",
      "63001/112027\n",
      "64001/112027\n",
      "65001/112027\n",
      "66001/112027\n",
      "67001/112027\n",
      "68001/112027\n",
      "69001/112027\n",
      "70001/112027\n",
      "71001/112027\n",
      "72001/112027\n",
      "73001/112027\n",
      "74001/112027\n",
      "75001/112027\n",
      "76001/112027\n",
      "77001/112027\n",
      "78001/112027\n",
      "79001/112027\n",
      "80001/112027\n",
      "81001/112027\n",
      "82001/112027\n",
      "83001/112027\n",
      "84001/112027\n",
      "85001/112027\n",
      "86001/112027\n",
      "87001/112027\n",
      "88001/112027\n",
      "89001/112027\n",
      "90001/112027\n",
      "91001/112027\n",
      "92001/112027\n",
      "93001/112027\n",
      "94001/112027\n",
      "95001/112027\n",
      "96001/112027\n",
      "97001/112027\n",
      "98001/112027\n",
      "99001/112027\n",
      "100001/112027\n",
      "101001/112027\n",
      "102001/112027\n",
      "103001/112027\n",
      "104001/112027\n",
      "105001/112027\n",
      "106001/112027\n",
      "107001/112027\n",
      "108001/112027\n",
      "109001/112027\n",
      "110001/112027\n",
      "111001/112027\n",
      "112001/112027\n",
      "225028/140034\n",
      "226028/140034\n",
      "227028/140034\n",
      "228028/140034\n",
      "229028/140034\n",
      "230028/140034\n",
      "231028/140034\n",
      "232028/140034\n",
      "233028/140034\n",
      "234028/140034\n",
      "235028/140034\n",
      "236028/140034\n",
      "237028/140034\n",
      "238028/140034\n",
      "239028/140034\n",
      "240028/140034\n",
      "241028/140034\n",
      "242028/140034\n",
      "243028/140034\n",
      "244028/140034\n",
      "245028/140034\n",
      "246028/140034\n",
      "247028/140034\n",
      "248028/140034\n",
      "249028/140034\n",
      "250028/140034\n",
      "251028/140034\n",
      "252028/140034\n"
     ]
    }
   ],
   "source": [
    "import shutil\n",
    "from PIL import Image\n",
    "import numpy as np\n",
    "import os\n",
    "from ccc_nn_functions import str2array\n",
    "\n",
    "def sort_training_and_testing_data(df,test_size=0.2):\n",
    "    shutil.rmtree('C:\\\\Users\\\\rz200\\\\Documents\\\\development\\\\cell-SCT\\\\classification\\data')\n",
    "\n",
    "    #create a new dataframe where we shuffle the rows\n",
    "    df_shuffled = np.copy(df)\n",
    "    df_shuffled = df.sample(frac=1).reset_index(drop=True) #we could keep the index to keep for the cell names so its consistent with the first dataframe, would hepl later on\n",
    "    #df_shuffled = df[:10000]\n",
    "\n",
    "    total_images = len(df)\n",
    "    up_to = round((total_images-(total_images*test_size)))\n",
    "\n",
    "    #create a new column in that dataframe called 'ground_truth'\n",
    "    #for each row, if there is one True phase, that's the ground_truth\n",
    "    #if there are no True phase or more than two, the ground_truth is 'unclassified' for now\n",
    "    cycle_phase_encodings = []\n",
    "    for i in range(len(df_shuffled['S_Phase'])):\n",
    "        encoding_arr = []\n",
    "        if df_shuffled['G1_Phase'][i]: encoding_arr.append('g1_phase')\n",
    "        #else: encoding_arr.append(0)\n",
    "\n",
    "        if df_shuffled['S_Phase'][i]: encoding_arr.append('s_phase')\n",
    "        #else: encoding_arr.append(0)\n",
    "\n",
    "        if df_shuffled['G2_M_Phase'][i]: encoding_arr.append('g2_m_phase')\n",
    "        #else: encoding_arr.append(0)\n",
    "\n",
    "        if len(encoding_arr) != 1: encoding_arr = ['unclassified']\n",
    "\n",
    "        cycle_phase_encodings.append(encoding_arr)\n",
    "\n",
    "    df_shuffled['ground_truth'] = cycle_phase_encodings\n",
    "\n",
    "    #create a data directory\n",
    "    os.mkdir('C:\\\\Users\\\\rz200\\\\Documents\\\\development\\\\cell-SCT\\\\classification\\\\data')\n",
    "\n",
    "    os.mkdir('C:\\\\Users\\\\rz200\\\\Documents\\\\development\\\\cell-SCT\\\\classification\\\\data\\\\training_data')\n",
    "    os.mkdir('C:\\\\Users\\\\rz200\\\\Documents\\\\development\\\\cell-SCT\\\\classification\\\\data\\\\training_data\\\\g1_phase')\n",
    "    os.mkdir('C:\\\\Users\\\\rz200\\\\Documents\\\\development\\\\cell-SCT\\\\classification\\\\data\\\\training_data\\\\s_phase')\n",
    "    os.mkdir('C:\\\\Users\\\\rz200\\\\Documents\\\\development\\\\cell-SCT\\\\classification\\\\data\\\\training_data\\\\g2_m_phase')\n",
    "\n",
    "    os.mkdir('C:\\\\Users\\\\rz200\\\\Documents\\\\development\\\\cell-SCT\\\\classification\\\\data\\\\testing_data')\n",
    "    os.mkdir('C:\\\\Users\\\\rz200\\\\Documents\\\\development\\\\cell-SCT\\\\classification\\\\data\\\\testing_data\\\\g1_phase')\n",
    "    os.mkdir('C:\\\\Users\\\\rz200\\\\Documents\\\\development\\\\cell-SCT\\\\classification\\\\data\\\\testing_data\\\\s_phase')\n",
    "    os.mkdir('C:\\\\Users\\\\rz200\\\\Documents\\\\development\\\\cell-SCT\\\\classification\\\\data\\\\testing_data\\\\g2_m_phase')\n",
    "\n",
    "    #take the first 1-test_size (0.8) and put them in the train folders\n",
    "    #create a training_data directory inside the data directory\n",
    "    #create an s_phase, g1_phase and g2_m_phase directories in there\n",
    "    #for each row in the first 0.8 of the dataframe, put the EdU numpy arrays in the corresponding folders\n",
    "    #last_train_row = round(0,up_to)\n",
    "    for i in range(0,up_to):\n",
    "        if i % 1000 == 0: print(str(i+1) + '/' + str(up_to))\n",
    "        name = 'cell_' + str(i)\n",
    "\n",
    "        #print(str2array(df_shuffled['pcna_crops'][i])*255)\n",
    "\n",
    "        try:\n",
    "            arr = str2array(df_shuffled['pcna_crops'][i])*255\n",
    "        except TypeError:\n",
    "            pass\n",
    "\n",
    "        if arr.dtype is np.dtype('object'):\n",
    "            continue\n",
    "\n",
    "\n",
    "        if df_shuffled['ground_truth'][i] == ['g1_phase']:\n",
    "            path = 'C:\\\\Users\\\\rz200\\\\Documents\\\\development\\\\cell-SCT\\\\classification\\\\data\\\\training_data\\\\g1_phase\\\\' + name + '.png'\n",
    "            #arr = str2array(df_shuffled['pcna_crops'][i])\n",
    "            im = Image.fromarray(arr)\n",
    "            im = im.convert(\"L\")\n",
    "            im.save(path)\n",
    "\n",
    "        elif df_shuffled['ground_truth'][i] == ['s_phase']:\n",
    "            path = 'C:\\\\Users\\\\rz200\\\\Documents\\\\development\\\\cell-SCT\\\\classification\\\\data\\\\training_data\\\\s_phase\\\\' + name + '.png'\n",
    "            #arr = str2array(df_shuffled['pcna_crops'][i])\n",
    "            im = Image.fromarray(arr)\n",
    "            im = im.convert(\"L\")\n",
    "            im.save(path)\n",
    "\n",
    "        elif df_shuffled['ground_truth'][i] == ['g2_m_phase']:\n",
    "            path = 'C:\\\\Users\\\\rz200\\\\Documents\\\\development\\\\cell-SCT\\\\classification\\\\data\\\\training_data\\\\g2_m_phase\\\\' + name + '.png'\n",
    "            #arr = str2array(df_shuffled['pcna_crops'][i])\n",
    "            im = Image.fromarray(arr)\n",
    "            im = im.convert(\"L\")\n",
    "            im.save(path)\n",
    "\n",
    "    #do the same for the testing data\n",
    "    for i in range(up_to,total_images):\n",
    "        if i % 1000 == 0: print(str(i+1) + '/' + str(total_images))\n",
    "\n",
    "        try:\n",
    "            arr = str2array(df_shuffled['pcna_crops'][i])*255\n",
    "        except TypeError:\n",
    "            pass\n",
    "\n",
    "        if arr.dtype is np.dtype('object'):\n",
    "            continue\n",
    "\n",
    "        name = 'cell_' + str(i)\n",
    "        if df_shuffled['ground_truth'][i] == ['g1_phase']:\n",
    "            path = 'C:\\\\Users\\\\rz200\\\\Documents\\\\development\\\\cell-SCT\\\\classification\\\\data\\\\testing_data\\\\g1_phase\\\\' + name + '.png'\n",
    "            #arr = str2array(df_shuffled['pcna_crops'][i])\n",
    "            im = Image.fromarray(arr)\n",
    "            im = im.convert(\"L\")\n",
    "            im.save(path)\n",
    "\n",
    "        elif df_shuffled['ground_truth'][i] == ['s_phase']:\n",
    "            path = 'C:\\\\Users\\\\rz200\\\\Documents\\\\development\\\\cell-SCT\\\\classification\\\\data\\\\testing_data\\\\s_phase\\\\' + name + '.png'\n",
    "            #arr = str2array(df_shuffled['pcna_crops'][i])\n",
    "            im = Image.fromarray(arr)\n",
    "            im = im.convert(\"L\")\n",
    "            im.save(path)\n",
    "\n",
    "        elif df_shuffled['ground_truth'][i] == ['g2_m_phase']:\n",
    "            path = 'C:\\\\Users\\\\rz200\\\\Documents\\\\development\\\\cell-SCT\\\\classification\\\\data\\\\testing_data\\\\g2_m_phase\\\\' + name + '.png'\n",
    "            #arr = str2array(df_shuffled['pcna_crops'][i])\n",
    "            im = Image.fromarray(arr)\n",
    "            im = im.convert(\"L\")\n",
    "            im.save(path)\n",
    "\n",
    "    #no need to return anything\n",
    "\n",
    "sort_training_and_testing_data(df)"
   ],
   "metadata": {
    "collapsed": false,
    "pycharm": {
     "name": "#%%\n"
    }
   }
  },
  {
   "cell_type": "code",
   "execution_count": 278,
   "outputs": [],
   "source": [
    "import io\n",
    "from torch.utils.data import Dataset\n",
    "\n",
    "\n",
    "class CellImagesDataset(Dataset):\n",
    "    \"\"\"Face Landmarks dataset.\"\"\"\n",
    "\n",
    "    def __init__(self, csv_file, root_dir, transform=None):\n",
    "        \"\"\"\n",
    "        Args:\n",
    "            csv_file (string): Path to the csv file with annotations.\n",
    "            root_dir (string): Directory with all the images.\n",
    "            transform (callable, optional): Optional transform to be applied\n",
    "                on a sample.\n",
    "        \"\"\"\n",
    "        df = pd.read_csv(csv_file)\n",
    "        indices_to_skip_img_wrong_shape = [i for i in range(len(df)) if\n",
    "                                           str2array(df['dapi_crops'][i]).dtype is np.dtype(\n",
    "                                               'object')]  # skipping rows with shapes such as (7,)\n",
    "        indices_to_skip_img_wrong_shape = [i for i in range(len(df)) if\n",
    "                                           str2array(df['cyclina2_crops'][i]).dtype is np.dtype(\n",
    "                                               'object')]  # skipping rows with shapes such as (7,)\n",
    "        indices_to_skip_img_wrong_shape = [i for i in range(len(df)) if\n",
    "                                           str2array(df['edu_crops'][i]).dtype is np.dtype(\n",
    "                                               'object')]  # skipping rows with shapes such as (7,)\n",
    "        indices_to_skip_img_wrong_shape = [i for i in range(len(df)) if\n",
    "                                           str2array(df['pcna_crops'][i]).dtype is np.dtype(\n",
    "                                               'object')]  # skipping rows with shapes such as (7,)\n",
    "        df = df.drop(indices_to_skip_img_wrong_shape).reset_index(drop=True)\n",
    "\n",
    "        cycle_phase_encodings = []\n",
    "        for i in range(len(df['S_Phase'])):\n",
    "            encoding_arr = []\n",
    "            if df['G1_Phase'][i]: encoding_arr.append('g1_phase')\n",
    "            #else: encoding_arr.append(0)\n",
    "\n",
    "            if df['S_Phase'][i]: encoding_arr.append('s_phase')\n",
    "            #else: encoding_arr.append(0)\n",
    "\n",
    "            if df['G2_M_Phase'][i]: encoding_arr.append('g2_m_phase')\n",
    "            #else: encoding_arr.append(0)\n",
    "\n",
    "            if len(encoding_arr) != 1: encoding_arr = ['unclassified']\n",
    "\n",
    "            cycle_phase_encodings.append(encoding_arr)\n",
    "\n",
    "        df['ground_truth'] = cycle_phase_encodings\n",
    "\n",
    "\n",
    "        self.cells_frame = df\n",
    "        self.root_dir = root_dir\n",
    "        self.transform = transform\n",
    "\n",
    "    def __len__(self):\n",
    "        return len(self.cells_frame)\n",
    "\n",
    "    def __getitem__(self, idx):\n",
    "        if torch.is_tensor(idx):\n",
    "            idx = idx.tolist()\n",
    "\n",
    "        #I want the image as 4 channels\n",
    "        try:\n",
    "            arr_dapi = str2array(df['dapi_crops'][idx])*255\n",
    "            arr_cyclina2 = str2array(df['cyclina2_crops'][idx])*255\n",
    "            arr_edu = str2array(df['edu_crops'][idx])*255\n",
    "            arr_pcna = str2array(df['pcna_crops'][idx])*255\n",
    "        except TypeError:\n",
    "            pass\n",
    "\n",
    "        arr = np.dstack((arr_dapi,arr_cyclina2,arr_edu,arr_pcna))\n",
    "        image = arr.astype(np.uint8)\n",
    "\n",
    "        #I want the label\n",
    "        label = self.cells_frame['ground_truth'][idx][0]\n",
    "        if label =='g1_phase':label=0\n",
    "        elif label =='s_phase':label=1\n",
    "        elif label=='g2_m_phase':label=2\n",
    "\n",
    "        #I want to return them both as tensors\n",
    "        #image = torch.from_numpy(image)\n",
    "        #print(type(image))\n",
    "        #label = torch.tensor(label)\n",
    "        sample = {'image': image, 'label': label}\n",
    "\n",
    "        if self.transform:\n",
    "            sample = self.transform(sample)\n",
    "\n",
    "        #image, label = sample['image'], sample['label']\n",
    "        #image = torch.tensor(image)\n",
    "        #sample = {'image': img, 'label': label}\n",
    "\n",
    "\n",
    "        return sample"
   ],
   "metadata": {
    "collapsed": false,
    "pycharm": {
     "name": "#%%\n"
    }
   }
  },
  {
   "cell_type": "code",
   "execution_count": 279,
   "outputs": [],
   "source": [
    "class CenterCrop(object):\n",
    "    \"\"\"Rescale the image in a sample to a given size.\n",
    "\n",
    "    Args:\n",
    "        output_size (tuple or int): Desired output size. If tuple, output is\n",
    "            matched to output_size. If int, smaller of image edges is matched\n",
    "            to output_size keeping aspect ratio the same.\n",
    "    \"\"\"\n",
    "\n",
    "    def __init__(self, output_size):\n",
    "        assert isinstance(output_size, (int, tuple))\n",
    "        self.output_size = output_size\n",
    "\n",
    "    def __call__(self, sample):\n",
    "        image, label = sample['image'], sample['label']\n",
    "        image = torchvision.transforms.CenterCrop(self.output_size).forward(image)\n",
    "        return {'image': image, 'label': label}\n",
    "\n",
    "class ToTensor(object):\n",
    "    \"\"\"Convert ndarrays in sample to Tensors.\"\"\"\n",
    "\n",
    "    def __call__(self, sample):\n",
    "        image, label = sample['image'], sample['label']\n",
    "\n",
    "        # swap color axis because\n",
    "        # numpy image: H x W x C\n",
    "        # torch image: C x H x W\n",
    "        image = image.transpose((2, 0, 1))\n",
    "        return {'image': torch.from_numpy(image),\n",
    "                'label': torch.tensor(label)}"
   ],
   "metadata": {
    "collapsed": false,
    "pycharm": {
     "name": "#%%\n"
    }
   }
  },
  {
   "cell_type": "code",
   "execution_count": 281,
   "outputs": [
    {
     "name": "stderr",
     "output_type": "stream",
     "text": [
      "C:\\Users\\rz200\\Documents\\development\\cell-SCT\\classification\\ccc_nn_functions.py:106: VisibleDeprecationWarning: Creating an ndarray from ragged nested sequences (which is a list-or-tuple of lists-or-tuples-or ndarrays with different lengths or shapes) is deprecated. If you meant to do this, you must specify 'dtype=object' when creating the ndarray.\n",
      "  return np.array(ast.literal_eval(s))\n"
     ]
    }
   ],
   "source": [
    "transformed_dataset = CellImagesDataset(csv_file=r'C:\\Users\\rz200\\Documents\\development\\cell-SCT\\classification\\imported_CSV\\dataframe_821',\n",
    "                                           root_dir='data/faces/',\n",
    "                                           transform=transforms.Compose([\n",
    "                                               CenterCrop(32),\n",
    "                                               ToTensor()\n",
    "\n",
    "\n",
    "                                           ]))"
   ],
   "metadata": {
    "collapsed": false,
    "pycharm": {
     "name": "#%%\n"
    }
   }
  },
  {
   "cell_type": "code",
   "execution_count": 282,
   "outputs": [
    {
     "ename": "TypeError",
     "evalue": "Unexpected type <class 'numpy.ndarray'>",
     "output_type": "error",
     "traceback": [
      "\u001B[1;31m---------------------------------------------------------------------------\u001B[0m",
      "\u001B[1;31mTypeError\u001B[0m                                 Traceback (most recent call last)",
      "Input \u001B[1;32mIn [282]\u001B[0m, in \u001B[0;36m<cell line: 1>\u001B[1;34m()\u001B[0m\n\u001B[0;32m      1\u001B[0m \u001B[38;5;28;01mfor\u001B[39;00m i \u001B[38;5;129;01min\u001B[39;00m \u001B[38;5;28mrange\u001B[39m(\u001B[38;5;28mlen\u001B[39m(transformed_dataset)):\n\u001B[1;32m----> 2\u001B[0m     sample \u001B[38;5;241m=\u001B[39m \u001B[43mtransformed_dataset\u001B[49m\u001B[43m[\u001B[49m\u001B[43mi\u001B[49m\u001B[43m]\u001B[49m\n\u001B[0;32m      4\u001B[0m     \u001B[38;5;28mprint\u001B[39m(i, sample[\u001B[38;5;124m'\u001B[39m\u001B[38;5;124mimage\u001B[39m\u001B[38;5;124m'\u001B[39m]\u001B[38;5;241m.\u001B[39msize(), sample[\u001B[38;5;124m'\u001B[39m\u001B[38;5;124mlabel\u001B[39m\u001B[38;5;124m'\u001B[39m]\u001B[38;5;241m.\u001B[39msize())\n\u001B[0;32m      6\u001B[0m     \u001B[38;5;28;01mif\u001B[39;00m i \u001B[38;5;241m==\u001B[39m \u001B[38;5;241m3\u001B[39m:\n",
      "Input \u001B[1;32mIn [278]\u001B[0m, in \u001B[0;36mCellImagesDataset.__getitem__\u001B[1;34m(self, idx)\u001B[0m\n\u001B[0;32m     83\u001B[0m sample \u001B[38;5;241m=\u001B[39m {\u001B[38;5;124m'\u001B[39m\u001B[38;5;124mimage\u001B[39m\u001B[38;5;124m'\u001B[39m: image, \u001B[38;5;124m'\u001B[39m\u001B[38;5;124mlabel\u001B[39m\u001B[38;5;124m'\u001B[39m: label}\n\u001B[0;32m     85\u001B[0m \u001B[38;5;28;01mif\u001B[39;00m \u001B[38;5;28mself\u001B[39m\u001B[38;5;241m.\u001B[39mtransform:\n\u001B[1;32m---> 86\u001B[0m     sample \u001B[38;5;241m=\u001B[39m \u001B[38;5;28;43mself\u001B[39;49m\u001B[38;5;241;43m.\u001B[39;49m\u001B[43mtransform\u001B[49m\u001B[43m(\u001B[49m\u001B[43msample\u001B[49m\u001B[43m)\u001B[49m\n\u001B[0;32m     88\u001B[0m \u001B[38;5;66;03m#image, label = sample['image'], sample['label']\u001B[39;00m\n\u001B[0;32m     89\u001B[0m \u001B[38;5;66;03m#image = torch.tensor(image)\u001B[39;00m\n\u001B[0;32m     90\u001B[0m \u001B[38;5;66;03m#sample = {'image': img, 'label': label}\u001B[39;00m\n\u001B[0;32m     93\u001B[0m \u001B[38;5;28;01mreturn\u001B[39;00m sample\n",
      "File \u001B[1;32m~\\.conda\\envs\\celldev\\lib\\site-packages\\torchvision\\transforms\\transforms.py:95\u001B[0m, in \u001B[0;36mCompose.__call__\u001B[1;34m(self, img)\u001B[0m\n\u001B[0;32m     93\u001B[0m \u001B[38;5;28;01mdef\u001B[39;00m \u001B[38;5;21m__call__\u001B[39m(\u001B[38;5;28mself\u001B[39m, img):\n\u001B[0;32m     94\u001B[0m     \u001B[38;5;28;01mfor\u001B[39;00m t \u001B[38;5;129;01min\u001B[39;00m \u001B[38;5;28mself\u001B[39m\u001B[38;5;241m.\u001B[39mtransforms:\n\u001B[1;32m---> 95\u001B[0m         img \u001B[38;5;241m=\u001B[39m \u001B[43mt\u001B[49m\u001B[43m(\u001B[49m\u001B[43mimg\u001B[49m\u001B[43m)\u001B[49m\n\u001B[0;32m     96\u001B[0m     \u001B[38;5;28;01mreturn\u001B[39;00m img\n",
      "Input \u001B[1;32mIn [279]\u001B[0m, in \u001B[0;36mCenterCrop.__call__\u001B[1;34m(self, sample)\u001B[0m\n\u001B[0;32m     14\u001B[0m \u001B[38;5;28;01mdef\u001B[39;00m \u001B[38;5;21m__call__\u001B[39m(\u001B[38;5;28mself\u001B[39m, sample):\n\u001B[0;32m     15\u001B[0m     image, label \u001B[38;5;241m=\u001B[39m sample[\u001B[38;5;124m'\u001B[39m\u001B[38;5;124mimage\u001B[39m\u001B[38;5;124m'\u001B[39m], sample[\u001B[38;5;124m'\u001B[39m\u001B[38;5;124mlabel\u001B[39m\u001B[38;5;124m'\u001B[39m]\n\u001B[1;32m---> 16\u001B[0m     image \u001B[38;5;241m=\u001B[39m \u001B[43mtorchvision\u001B[49m\u001B[38;5;241;43m.\u001B[39;49m\u001B[43mtransforms\u001B[49m\u001B[38;5;241;43m.\u001B[39;49m\u001B[43mCenterCrop\u001B[49m\u001B[43m(\u001B[49m\u001B[38;5;28;43mself\u001B[39;49m\u001B[38;5;241;43m.\u001B[39;49m\u001B[43moutput_size\u001B[49m\u001B[43m)\u001B[49m\u001B[38;5;241;43m.\u001B[39;49m\u001B[43mforward\u001B[49m\u001B[43m(\u001B[49m\u001B[43mimage\u001B[49m\u001B[43m)\u001B[49m\n\u001B[0;32m     17\u001B[0m     \u001B[38;5;28;01mreturn\u001B[39;00m {\u001B[38;5;124m'\u001B[39m\u001B[38;5;124mimage\u001B[39m\u001B[38;5;124m'\u001B[39m: image, \u001B[38;5;124m'\u001B[39m\u001B[38;5;124mlabel\u001B[39m\u001B[38;5;124m'\u001B[39m: label}\n",
      "File \u001B[1;32m~\\.conda\\envs\\celldev\\lib\\site-packages\\torchvision\\transforms\\transforms.py:381\u001B[0m, in \u001B[0;36mCenterCrop.forward\u001B[1;34m(self, img)\u001B[0m\n\u001B[0;32m    373\u001B[0m \u001B[38;5;28;01mdef\u001B[39;00m \u001B[38;5;21mforward\u001B[39m(\u001B[38;5;28mself\u001B[39m, img):\n\u001B[0;32m    374\u001B[0m     \u001B[38;5;124;03m\"\"\"\u001B[39;00m\n\u001B[0;32m    375\u001B[0m \u001B[38;5;124;03m    Args:\u001B[39;00m\n\u001B[0;32m    376\u001B[0m \u001B[38;5;124;03m        img (PIL Image or Tensor): Image to be cropped.\u001B[39;00m\n\u001B[1;32m   (...)\u001B[0m\n\u001B[0;32m    379\u001B[0m \u001B[38;5;124;03m        PIL Image or Tensor: Cropped image.\u001B[39;00m\n\u001B[0;32m    380\u001B[0m \u001B[38;5;124;03m    \"\"\"\u001B[39;00m\n\u001B[1;32m--> 381\u001B[0m     \u001B[38;5;28;01mreturn\u001B[39;00m \u001B[43mF\u001B[49m\u001B[38;5;241;43m.\u001B[39;49m\u001B[43mcenter_crop\u001B[49m\u001B[43m(\u001B[49m\u001B[43mimg\u001B[49m\u001B[43m,\u001B[49m\u001B[43m \u001B[49m\u001B[38;5;28;43mself\u001B[39;49m\u001B[38;5;241;43m.\u001B[39;49m\u001B[43msize\u001B[49m\u001B[43m)\u001B[49m\n",
      "File \u001B[1;32m~\\.conda\\envs\\celldev\\lib\\site-packages\\torchvision\\transforms\\functional.py:536\u001B[0m, in \u001B[0;36mcenter_crop\u001B[1;34m(img, output_size)\u001B[0m\n\u001B[0;32m    533\u001B[0m \u001B[38;5;28;01melif\u001B[39;00m \u001B[38;5;28misinstance\u001B[39m(output_size, (\u001B[38;5;28mtuple\u001B[39m, \u001B[38;5;28mlist\u001B[39m)) \u001B[38;5;129;01mand\u001B[39;00m \u001B[38;5;28mlen\u001B[39m(output_size) \u001B[38;5;241m==\u001B[39m \u001B[38;5;241m1\u001B[39m:\n\u001B[0;32m    534\u001B[0m     output_size \u001B[38;5;241m=\u001B[39m (output_size[\u001B[38;5;241m0\u001B[39m], output_size[\u001B[38;5;241m0\u001B[39m])\n\u001B[1;32m--> 536\u001B[0m image_width, image_height \u001B[38;5;241m=\u001B[39m \u001B[43mget_image_size\u001B[49m\u001B[43m(\u001B[49m\u001B[43mimg\u001B[49m\u001B[43m)\u001B[49m\n\u001B[0;32m    537\u001B[0m crop_height, crop_width \u001B[38;5;241m=\u001B[39m output_size\n\u001B[0;32m    539\u001B[0m \u001B[38;5;28;01mif\u001B[39;00m crop_width \u001B[38;5;241m>\u001B[39m image_width \u001B[38;5;129;01mor\u001B[39;00m crop_height \u001B[38;5;241m>\u001B[39m image_height:\n",
      "File \u001B[1;32m~\\.conda\\envs\\celldev\\lib\\site-packages\\torchvision\\transforms\\functional.py:76\u001B[0m, in \u001B[0;36mget_image_size\u001B[1;34m(img)\u001B[0m\n\u001B[0;32m     73\u001B[0m \u001B[38;5;28;01mif\u001B[39;00m \u001B[38;5;28misinstance\u001B[39m(img, torch\u001B[38;5;241m.\u001B[39mTensor):\n\u001B[0;32m     74\u001B[0m     \u001B[38;5;28;01mreturn\u001B[39;00m F_t\u001B[38;5;241m.\u001B[39mget_image_size(img)\n\u001B[1;32m---> 76\u001B[0m \u001B[38;5;28;01mreturn\u001B[39;00m \u001B[43mF_pil\u001B[49m\u001B[38;5;241;43m.\u001B[39;49m\u001B[43mget_image_size\u001B[49m\u001B[43m(\u001B[49m\u001B[43mimg\u001B[49m\u001B[43m)\u001B[49m\n",
      "File \u001B[1;32m~\\.conda\\envs\\celldev\\lib\\site-packages\\torchvision\\transforms\\functional_pil.py:27\u001B[0m, in \u001B[0;36mget_image_size\u001B[1;34m(img)\u001B[0m\n\u001B[0;32m     25\u001B[0m \u001B[38;5;28;01mif\u001B[39;00m _is_pil_image(img):\n\u001B[0;32m     26\u001B[0m     \u001B[38;5;28;01mreturn\u001B[39;00m \u001B[38;5;28mlist\u001B[39m(img\u001B[38;5;241m.\u001B[39msize)\n\u001B[1;32m---> 27\u001B[0m \u001B[38;5;28;01mraise\u001B[39;00m \u001B[38;5;167;01mTypeError\u001B[39;00m(\u001B[38;5;124mf\u001B[39m\u001B[38;5;124m\"\u001B[39m\u001B[38;5;124mUnexpected type \u001B[39m\u001B[38;5;132;01m{\u001B[39;00m\u001B[38;5;28mtype\u001B[39m(img)\u001B[38;5;132;01m}\u001B[39;00m\u001B[38;5;124m\"\u001B[39m)\n",
      "\u001B[1;31mTypeError\u001B[0m: Unexpected type <class 'numpy.ndarray'>"
     ]
    }
   ],
   "source": [
    "for i in range(len(transformed_dataset)):\n",
    "    sample = transformed_dataset[i]\n",
    "\n",
    "    print(i, sample['image'].size(), sample['label'].size())\n",
    "\n",
    "    if i == 3:\n",
    "        break"
   ],
   "metadata": {
    "collapsed": false,
    "pycharm": {
     "name": "#%%\n"
    }
   }
  },
  {
   "cell_type": "code",
   "execution_count": null,
   "outputs": [],
   "source": [],
   "metadata": {
    "collapsed": false,
    "pycharm": {
     "name": "#%%\n"
    }
   }
  },
  {
   "cell_type": "code",
   "execution_count": null,
   "outputs": [],
   "source": [
    "for i in range(len(transformed_dataset)):\n",
    "    sample = transformed_dataset[i]\n",
    "\n",
    "    print(i,sample['label'])\n",
    "\n",
    "    if i == 1000:break"
   ],
   "metadata": {
    "collapsed": false,
    "pycharm": {
     "name": "#%%\n"
    }
   }
  },
  {
   "cell_type": "code",
   "execution_count": 277,
   "outputs": [
    {
     "ename": "TypeError",
     "evalue": "Invalid shape (4, 32, 32) for image data",
     "output_type": "error",
     "traceback": [
      "\u001B[1;31m---------------------------------------------------------------------------\u001B[0m",
      "\u001B[1;31mTypeError\u001B[0m                                 Traceback (most recent call last)",
      "Input \u001B[1;32mIn [277]\u001B[0m, in \u001B[0;36m<cell line: 1>\u001B[1;34m()\u001B[0m\n\u001B[1;32m----> 1\u001B[0m \u001B[43mplt\u001B[49m\u001B[38;5;241;43m.\u001B[39;49m\u001B[43mimshow\u001B[49m\u001B[43m(\u001B[49m\u001B[43mtransformed_dataset\u001B[49m\u001B[43m[\u001B[49m\u001B[38;5;241;43m30\u001B[39;49m\u001B[43m]\u001B[49m\u001B[43m[\u001B[49m\u001B[38;5;124;43m'\u001B[39;49m\u001B[38;5;124;43mimage\u001B[39;49m\u001B[38;5;124;43m'\u001B[39;49m\u001B[43m]\u001B[49m\u001B[43m)\u001B[49m\n",
      "File \u001B[1;32m~\\.conda\\envs\\celldev\\lib\\site-packages\\matplotlib\\_api\\deprecation.py:459\u001B[0m, in \u001B[0;36mmake_keyword_only.<locals>.wrapper\u001B[1;34m(*args, **kwargs)\u001B[0m\n\u001B[0;32m    453\u001B[0m \u001B[38;5;28;01mif\u001B[39;00m \u001B[38;5;28mlen\u001B[39m(args) \u001B[38;5;241m>\u001B[39m name_idx:\n\u001B[0;32m    454\u001B[0m     warn_deprecated(\n\u001B[0;32m    455\u001B[0m         since, message\u001B[38;5;241m=\u001B[39m\u001B[38;5;124m\"\u001B[39m\u001B[38;5;124mPassing the \u001B[39m\u001B[38;5;132;01m%(name)s\u001B[39;00m\u001B[38;5;124m \u001B[39m\u001B[38;5;132;01m%(obj_type)s\u001B[39;00m\u001B[38;5;124m \u001B[39m\u001B[38;5;124m\"\u001B[39m\n\u001B[0;32m    456\u001B[0m         \u001B[38;5;124m\"\u001B[39m\u001B[38;5;124mpositionally is deprecated since Matplotlib \u001B[39m\u001B[38;5;132;01m%(since)s\u001B[39;00m\u001B[38;5;124m; the \u001B[39m\u001B[38;5;124m\"\u001B[39m\n\u001B[0;32m    457\u001B[0m         \u001B[38;5;124m\"\u001B[39m\u001B[38;5;124mparameter will become keyword-only \u001B[39m\u001B[38;5;132;01m%(removal)s\u001B[39;00m\u001B[38;5;124m.\u001B[39m\u001B[38;5;124m\"\u001B[39m,\n\u001B[0;32m    458\u001B[0m         name\u001B[38;5;241m=\u001B[39mname, obj_type\u001B[38;5;241m=\u001B[39m\u001B[38;5;124mf\u001B[39m\u001B[38;5;124m\"\u001B[39m\u001B[38;5;124mparameter of \u001B[39m\u001B[38;5;132;01m{\u001B[39;00mfunc\u001B[38;5;241m.\u001B[39m\u001B[38;5;18m__name__\u001B[39m\u001B[38;5;132;01m}\u001B[39;00m\u001B[38;5;124m()\u001B[39m\u001B[38;5;124m\"\u001B[39m)\n\u001B[1;32m--> 459\u001B[0m \u001B[38;5;28;01mreturn\u001B[39;00m \u001B[43mfunc\u001B[49m\u001B[43m(\u001B[49m\u001B[38;5;241;43m*\u001B[39;49m\u001B[43margs\u001B[49m\u001B[43m,\u001B[49m\u001B[43m \u001B[49m\u001B[38;5;241;43m*\u001B[39;49m\u001B[38;5;241;43m*\u001B[39;49m\u001B[43mkwargs\u001B[49m\u001B[43m)\u001B[49m\n",
      "File \u001B[1;32m~\\.conda\\envs\\celldev\\lib\\site-packages\\matplotlib\\pyplot.py:2652\u001B[0m, in \u001B[0;36mimshow\u001B[1;34m(X, cmap, norm, aspect, interpolation, alpha, vmin, vmax, origin, extent, interpolation_stage, filternorm, filterrad, resample, url, data, **kwargs)\u001B[0m\n\u001B[0;32m   2646\u001B[0m \u001B[38;5;129m@_copy_docstring_and_deprecators\u001B[39m(Axes\u001B[38;5;241m.\u001B[39mimshow)\n\u001B[0;32m   2647\u001B[0m \u001B[38;5;28;01mdef\u001B[39;00m \u001B[38;5;21mimshow\u001B[39m(\n\u001B[0;32m   2648\u001B[0m         X, cmap\u001B[38;5;241m=\u001B[39m\u001B[38;5;28;01mNone\u001B[39;00m, norm\u001B[38;5;241m=\u001B[39m\u001B[38;5;28;01mNone\u001B[39;00m, aspect\u001B[38;5;241m=\u001B[39m\u001B[38;5;28;01mNone\u001B[39;00m, interpolation\u001B[38;5;241m=\u001B[39m\u001B[38;5;28;01mNone\u001B[39;00m,\n\u001B[0;32m   2649\u001B[0m         alpha\u001B[38;5;241m=\u001B[39m\u001B[38;5;28;01mNone\u001B[39;00m, vmin\u001B[38;5;241m=\u001B[39m\u001B[38;5;28;01mNone\u001B[39;00m, vmax\u001B[38;5;241m=\u001B[39m\u001B[38;5;28;01mNone\u001B[39;00m, origin\u001B[38;5;241m=\u001B[39m\u001B[38;5;28;01mNone\u001B[39;00m, extent\u001B[38;5;241m=\u001B[39m\u001B[38;5;28;01mNone\u001B[39;00m, \u001B[38;5;241m*\u001B[39m,\n\u001B[0;32m   2650\u001B[0m         interpolation_stage\u001B[38;5;241m=\u001B[39m\u001B[38;5;28;01mNone\u001B[39;00m, filternorm\u001B[38;5;241m=\u001B[39m\u001B[38;5;28;01mTrue\u001B[39;00m, filterrad\u001B[38;5;241m=\u001B[39m\u001B[38;5;241m4.0\u001B[39m,\n\u001B[0;32m   2651\u001B[0m         resample\u001B[38;5;241m=\u001B[39m\u001B[38;5;28;01mNone\u001B[39;00m, url\u001B[38;5;241m=\u001B[39m\u001B[38;5;28;01mNone\u001B[39;00m, data\u001B[38;5;241m=\u001B[39m\u001B[38;5;28;01mNone\u001B[39;00m, \u001B[38;5;241m*\u001B[39m\u001B[38;5;241m*\u001B[39mkwargs):\n\u001B[1;32m-> 2652\u001B[0m     __ret \u001B[38;5;241m=\u001B[39m \u001B[43mgca\u001B[49m\u001B[43m(\u001B[49m\u001B[43m)\u001B[49m\u001B[38;5;241;43m.\u001B[39;49m\u001B[43mimshow\u001B[49m\u001B[43m(\u001B[49m\n\u001B[0;32m   2653\u001B[0m \u001B[43m        \u001B[49m\u001B[43mX\u001B[49m\u001B[43m,\u001B[49m\u001B[43m \u001B[49m\u001B[43mcmap\u001B[49m\u001B[38;5;241;43m=\u001B[39;49m\u001B[43mcmap\u001B[49m\u001B[43m,\u001B[49m\u001B[43m \u001B[49m\u001B[43mnorm\u001B[49m\u001B[38;5;241;43m=\u001B[39;49m\u001B[43mnorm\u001B[49m\u001B[43m,\u001B[49m\u001B[43m \u001B[49m\u001B[43maspect\u001B[49m\u001B[38;5;241;43m=\u001B[39;49m\u001B[43maspect\u001B[49m\u001B[43m,\u001B[49m\n\u001B[0;32m   2654\u001B[0m \u001B[43m        \u001B[49m\u001B[43minterpolation\u001B[49m\u001B[38;5;241;43m=\u001B[39;49m\u001B[43minterpolation\u001B[49m\u001B[43m,\u001B[49m\u001B[43m \u001B[49m\u001B[43malpha\u001B[49m\u001B[38;5;241;43m=\u001B[39;49m\u001B[43malpha\u001B[49m\u001B[43m,\u001B[49m\u001B[43m \u001B[49m\u001B[43mvmin\u001B[49m\u001B[38;5;241;43m=\u001B[39;49m\u001B[43mvmin\u001B[49m\u001B[43m,\u001B[49m\n\u001B[0;32m   2655\u001B[0m \u001B[43m        \u001B[49m\u001B[43mvmax\u001B[49m\u001B[38;5;241;43m=\u001B[39;49m\u001B[43mvmax\u001B[49m\u001B[43m,\u001B[49m\u001B[43m \u001B[49m\u001B[43morigin\u001B[49m\u001B[38;5;241;43m=\u001B[39;49m\u001B[43morigin\u001B[49m\u001B[43m,\u001B[49m\u001B[43m \u001B[49m\u001B[43mextent\u001B[49m\u001B[38;5;241;43m=\u001B[39;49m\u001B[43mextent\u001B[49m\u001B[43m,\u001B[49m\n\u001B[0;32m   2656\u001B[0m \u001B[43m        \u001B[49m\u001B[43minterpolation_stage\u001B[49m\u001B[38;5;241;43m=\u001B[39;49m\u001B[43minterpolation_stage\u001B[49m\u001B[43m,\u001B[49m\n\u001B[0;32m   2657\u001B[0m \u001B[43m        \u001B[49m\u001B[43mfilternorm\u001B[49m\u001B[38;5;241;43m=\u001B[39;49m\u001B[43mfilternorm\u001B[49m\u001B[43m,\u001B[49m\u001B[43m \u001B[49m\u001B[43mfilterrad\u001B[49m\u001B[38;5;241;43m=\u001B[39;49m\u001B[43mfilterrad\u001B[49m\u001B[43m,\u001B[49m\u001B[43m \u001B[49m\u001B[43mresample\u001B[49m\u001B[38;5;241;43m=\u001B[39;49m\u001B[43mresample\u001B[49m\u001B[43m,\u001B[49m\n\u001B[0;32m   2658\u001B[0m \u001B[43m        \u001B[49m\u001B[43murl\u001B[49m\u001B[38;5;241;43m=\u001B[39;49m\u001B[43murl\u001B[49m\u001B[43m,\u001B[49m\u001B[43m \u001B[49m\u001B[38;5;241;43m*\u001B[39;49m\u001B[38;5;241;43m*\u001B[39;49m\u001B[43m(\u001B[49m\u001B[43m{\u001B[49m\u001B[38;5;124;43m\"\u001B[39;49m\u001B[38;5;124;43mdata\u001B[39;49m\u001B[38;5;124;43m\"\u001B[39;49m\u001B[43m:\u001B[49m\u001B[43m \u001B[49m\u001B[43mdata\u001B[49m\u001B[43m}\u001B[49m\u001B[43m \u001B[49m\u001B[38;5;28;43;01mif\u001B[39;49;00m\u001B[43m \u001B[49m\u001B[43mdata\u001B[49m\u001B[43m \u001B[49m\u001B[38;5;129;43;01mis\u001B[39;49;00m\u001B[43m \u001B[49m\u001B[38;5;129;43;01mnot\u001B[39;49;00m\u001B[43m \u001B[49m\u001B[38;5;28;43;01mNone\u001B[39;49;00m\u001B[43m \u001B[49m\u001B[38;5;28;43;01melse\u001B[39;49;00m\u001B[43m \u001B[49m\u001B[43m{\u001B[49m\u001B[43m}\u001B[49m\u001B[43m)\u001B[49m\u001B[43m,\u001B[49m\n\u001B[0;32m   2659\u001B[0m \u001B[43m        \u001B[49m\u001B[38;5;241;43m*\u001B[39;49m\u001B[38;5;241;43m*\u001B[39;49m\u001B[43mkwargs\u001B[49m\u001B[43m)\u001B[49m\n\u001B[0;32m   2660\u001B[0m     sci(__ret)\n\u001B[0;32m   2661\u001B[0m     \u001B[38;5;28;01mreturn\u001B[39;00m __ret\n",
      "File \u001B[1;32m~\\.conda\\envs\\celldev\\lib\\site-packages\\matplotlib\\_api\\deprecation.py:459\u001B[0m, in \u001B[0;36mmake_keyword_only.<locals>.wrapper\u001B[1;34m(*args, **kwargs)\u001B[0m\n\u001B[0;32m    453\u001B[0m \u001B[38;5;28;01mif\u001B[39;00m \u001B[38;5;28mlen\u001B[39m(args) \u001B[38;5;241m>\u001B[39m name_idx:\n\u001B[0;32m    454\u001B[0m     warn_deprecated(\n\u001B[0;32m    455\u001B[0m         since, message\u001B[38;5;241m=\u001B[39m\u001B[38;5;124m\"\u001B[39m\u001B[38;5;124mPassing the \u001B[39m\u001B[38;5;132;01m%(name)s\u001B[39;00m\u001B[38;5;124m \u001B[39m\u001B[38;5;132;01m%(obj_type)s\u001B[39;00m\u001B[38;5;124m \u001B[39m\u001B[38;5;124m\"\u001B[39m\n\u001B[0;32m    456\u001B[0m         \u001B[38;5;124m\"\u001B[39m\u001B[38;5;124mpositionally is deprecated since Matplotlib \u001B[39m\u001B[38;5;132;01m%(since)s\u001B[39;00m\u001B[38;5;124m; the \u001B[39m\u001B[38;5;124m\"\u001B[39m\n\u001B[0;32m    457\u001B[0m         \u001B[38;5;124m\"\u001B[39m\u001B[38;5;124mparameter will become keyword-only \u001B[39m\u001B[38;5;132;01m%(removal)s\u001B[39;00m\u001B[38;5;124m.\u001B[39m\u001B[38;5;124m\"\u001B[39m,\n\u001B[0;32m    458\u001B[0m         name\u001B[38;5;241m=\u001B[39mname, obj_type\u001B[38;5;241m=\u001B[39m\u001B[38;5;124mf\u001B[39m\u001B[38;5;124m\"\u001B[39m\u001B[38;5;124mparameter of \u001B[39m\u001B[38;5;132;01m{\u001B[39;00mfunc\u001B[38;5;241m.\u001B[39m\u001B[38;5;18m__name__\u001B[39m\u001B[38;5;132;01m}\u001B[39;00m\u001B[38;5;124m()\u001B[39m\u001B[38;5;124m\"\u001B[39m)\n\u001B[1;32m--> 459\u001B[0m \u001B[38;5;28;01mreturn\u001B[39;00m \u001B[43mfunc\u001B[49m\u001B[43m(\u001B[49m\u001B[38;5;241;43m*\u001B[39;49m\u001B[43margs\u001B[49m\u001B[43m,\u001B[49m\u001B[43m \u001B[49m\u001B[38;5;241;43m*\u001B[39;49m\u001B[38;5;241;43m*\u001B[39;49m\u001B[43mkwargs\u001B[49m\u001B[43m)\u001B[49m\n",
      "File \u001B[1;32m~\\.conda\\envs\\celldev\\lib\\site-packages\\matplotlib\\__init__.py:1412\u001B[0m, in \u001B[0;36m_preprocess_data.<locals>.inner\u001B[1;34m(ax, data, *args, **kwargs)\u001B[0m\n\u001B[0;32m   1409\u001B[0m \u001B[38;5;129m@functools\u001B[39m\u001B[38;5;241m.\u001B[39mwraps(func)\n\u001B[0;32m   1410\u001B[0m \u001B[38;5;28;01mdef\u001B[39;00m \u001B[38;5;21minner\u001B[39m(ax, \u001B[38;5;241m*\u001B[39margs, data\u001B[38;5;241m=\u001B[39m\u001B[38;5;28;01mNone\u001B[39;00m, \u001B[38;5;241m*\u001B[39m\u001B[38;5;241m*\u001B[39mkwargs):\n\u001B[0;32m   1411\u001B[0m     \u001B[38;5;28;01mif\u001B[39;00m data \u001B[38;5;129;01mis\u001B[39;00m \u001B[38;5;28;01mNone\u001B[39;00m:\n\u001B[1;32m-> 1412\u001B[0m         \u001B[38;5;28;01mreturn\u001B[39;00m \u001B[43mfunc\u001B[49m\u001B[43m(\u001B[49m\u001B[43max\u001B[49m\u001B[43m,\u001B[49m\u001B[43m \u001B[49m\u001B[38;5;241;43m*\u001B[39;49m\u001B[38;5;28;43mmap\u001B[39;49m\u001B[43m(\u001B[49m\u001B[43msanitize_sequence\u001B[49m\u001B[43m,\u001B[49m\u001B[43m \u001B[49m\u001B[43margs\u001B[49m\u001B[43m)\u001B[49m\u001B[43m,\u001B[49m\u001B[43m \u001B[49m\u001B[38;5;241;43m*\u001B[39;49m\u001B[38;5;241;43m*\u001B[39;49m\u001B[43mkwargs\u001B[49m\u001B[43m)\u001B[49m\n\u001B[0;32m   1414\u001B[0m     bound \u001B[38;5;241m=\u001B[39m new_sig\u001B[38;5;241m.\u001B[39mbind(ax, \u001B[38;5;241m*\u001B[39margs, \u001B[38;5;241m*\u001B[39m\u001B[38;5;241m*\u001B[39mkwargs)\n\u001B[0;32m   1415\u001B[0m     auto_label \u001B[38;5;241m=\u001B[39m (bound\u001B[38;5;241m.\u001B[39marguments\u001B[38;5;241m.\u001B[39mget(label_namer)\n\u001B[0;32m   1416\u001B[0m                   \u001B[38;5;129;01mor\u001B[39;00m bound\u001B[38;5;241m.\u001B[39mkwargs\u001B[38;5;241m.\u001B[39mget(label_namer))\n",
      "File \u001B[1;32m~\\.conda\\envs\\celldev\\lib\\site-packages\\matplotlib\\axes\\_axes.py:5481\u001B[0m, in \u001B[0;36mAxes.imshow\u001B[1;34m(self, X, cmap, norm, aspect, interpolation, alpha, vmin, vmax, origin, extent, interpolation_stage, filternorm, filterrad, resample, url, **kwargs)\u001B[0m\n\u001B[0;32m   5474\u001B[0m \u001B[38;5;28mself\u001B[39m\u001B[38;5;241m.\u001B[39mset_aspect(aspect)\n\u001B[0;32m   5475\u001B[0m im \u001B[38;5;241m=\u001B[39m mimage\u001B[38;5;241m.\u001B[39mAxesImage(\u001B[38;5;28mself\u001B[39m, cmap, norm, interpolation,\n\u001B[0;32m   5476\u001B[0m                       origin, extent, filternorm\u001B[38;5;241m=\u001B[39mfilternorm,\n\u001B[0;32m   5477\u001B[0m                       filterrad\u001B[38;5;241m=\u001B[39mfilterrad, resample\u001B[38;5;241m=\u001B[39mresample,\n\u001B[0;32m   5478\u001B[0m                       interpolation_stage\u001B[38;5;241m=\u001B[39minterpolation_stage,\n\u001B[0;32m   5479\u001B[0m                       \u001B[38;5;241m*\u001B[39m\u001B[38;5;241m*\u001B[39mkwargs)\n\u001B[1;32m-> 5481\u001B[0m \u001B[43mim\u001B[49m\u001B[38;5;241;43m.\u001B[39;49m\u001B[43mset_data\u001B[49m\u001B[43m(\u001B[49m\u001B[43mX\u001B[49m\u001B[43m)\u001B[49m\n\u001B[0;32m   5482\u001B[0m im\u001B[38;5;241m.\u001B[39mset_alpha(alpha)\n\u001B[0;32m   5483\u001B[0m \u001B[38;5;28;01mif\u001B[39;00m im\u001B[38;5;241m.\u001B[39mget_clip_path() \u001B[38;5;129;01mis\u001B[39;00m \u001B[38;5;28;01mNone\u001B[39;00m:\n\u001B[0;32m   5484\u001B[0m     \u001B[38;5;66;03m# image does not already have clipping set, clip to axes patch\u001B[39;00m\n",
      "File \u001B[1;32m~\\.conda\\envs\\celldev\\lib\\site-packages\\matplotlib\\image.py:715\u001B[0m, in \u001B[0;36m_ImageBase.set_data\u001B[1;34m(self, A)\u001B[0m\n\u001B[0;32m    711\u001B[0m     \u001B[38;5;28mself\u001B[39m\u001B[38;5;241m.\u001B[39m_A \u001B[38;5;241m=\u001B[39m \u001B[38;5;28mself\u001B[39m\u001B[38;5;241m.\u001B[39m_A[:, :, \u001B[38;5;241m0\u001B[39m]\n\u001B[0;32m    713\u001B[0m \u001B[38;5;28;01mif\u001B[39;00m \u001B[38;5;129;01mnot\u001B[39;00m (\u001B[38;5;28mself\u001B[39m\u001B[38;5;241m.\u001B[39m_A\u001B[38;5;241m.\u001B[39mndim \u001B[38;5;241m==\u001B[39m \u001B[38;5;241m2\u001B[39m\n\u001B[0;32m    714\u001B[0m         \u001B[38;5;129;01mor\u001B[39;00m \u001B[38;5;28mself\u001B[39m\u001B[38;5;241m.\u001B[39m_A\u001B[38;5;241m.\u001B[39mndim \u001B[38;5;241m==\u001B[39m \u001B[38;5;241m3\u001B[39m \u001B[38;5;129;01mand\u001B[39;00m \u001B[38;5;28mself\u001B[39m\u001B[38;5;241m.\u001B[39m_A\u001B[38;5;241m.\u001B[39mshape[\u001B[38;5;241m-\u001B[39m\u001B[38;5;241m1\u001B[39m] \u001B[38;5;129;01min\u001B[39;00m [\u001B[38;5;241m3\u001B[39m, \u001B[38;5;241m4\u001B[39m]):\n\u001B[1;32m--> 715\u001B[0m     \u001B[38;5;28;01mraise\u001B[39;00m \u001B[38;5;167;01mTypeError\u001B[39;00m(\u001B[38;5;124m\"\u001B[39m\u001B[38;5;124mInvalid shape \u001B[39m\u001B[38;5;132;01m{}\u001B[39;00m\u001B[38;5;124m for image data\u001B[39m\u001B[38;5;124m\"\u001B[39m\n\u001B[0;32m    716\u001B[0m                     \u001B[38;5;241m.\u001B[39mformat(\u001B[38;5;28mself\u001B[39m\u001B[38;5;241m.\u001B[39m_A\u001B[38;5;241m.\u001B[39mshape))\n\u001B[0;32m    718\u001B[0m \u001B[38;5;28;01mif\u001B[39;00m \u001B[38;5;28mself\u001B[39m\u001B[38;5;241m.\u001B[39m_A\u001B[38;5;241m.\u001B[39mndim \u001B[38;5;241m==\u001B[39m \u001B[38;5;241m3\u001B[39m:\n\u001B[0;32m    719\u001B[0m     \u001B[38;5;66;03m# If the input data has values outside the valid range (after\u001B[39;00m\n\u001B[0;32m    720\u001B[0m     \u001B[38;5;66;03m# normalisation), we issue a warning and then clip X to the bounds\u001B[39;00m\n\u001B[0;32m    721\u001B[0m     \u001B[38;5;66;03m# - otherwise casting wraps extreme values, hiding outliers and\u001B[39;00m\n\u001B[0;32m    722\u001B[0m     \u001B[38;5;66;03m# making reliable interpretation impossible.\u001B[39;00m\n\u001B[0;32m    723\u001B[0m     high \u001B[38;5;241m=\u001B[39m \u001B[38;5;241m255\u001B[39m \u001B[38;5;28;01mif\u001B[39;00m np\u001B[38;5;241m.\u001B[39missubdtype(\u001B[38;5;28mself\u001B[39m\u001B[38;5;241m.\u001B[39m_A\u001B[38;5;241m.\u001B[39mdtype, np\u001B[38;5;241m.\u001B[39minteger) \u001B[38;5;28;01melse\u001B[39;00m \u001B[38;5;241m1\u001B[39m\n",
      "\u001B[1;31mTypeError\u001B[0m: Invalid shape (4, 32, 32) for image data"
     ]
    },
    {
     "data": {
      "text/plain": "<Figure size 432x288 with 1 Axes>",
      "image/png": "[encoded data removed]"
     },
     "metadata": {
      "needs_background": "light"
     },
     "output_type": "display_data"
    }
   ],
   "source": [
    "#plt.imshow(transformed_dataset[30]['image'])\n",
    "#The images are all 0s, again"
   ],
   "metadata": {
    "collapsed": false,
    "pycharm": {
     "name": "#%%\n"
    }
   }
  },
  {
   "cell_type": "code",
   "execution_count": 107,
   "outputs": [],
   "source": [
    "from torchvision import datasets,transforms\n",
    "\n",
    "#datasets.ImageFolder(os.path.join(data_dir, x), data_transforms[x])\n",
    "\n",
    "train_dataset = datasets.ImageFolder(root = r'C:\\Users\\rz200\\Documents\\development\\cell-SCT\\classification\\data\\training_data',\n",
    "                                     transform = transforms.Compose([\n",
    "                                         transforms.Grayscale(),\n",
    "                                         transforms.Resize((32,32)),\n",
    "                                         transforms.RandomRotation(degrees=(0,180)),\n",
    "                                         transforms.ToTensor()]))\n",
    "\n",
    "test_dataset = datasets.ImageFolder(root = r'C:\\Users\\rz200\\Documents\\development\\cell-SCT\\classification\\data\\testing_data',\n",
    "                                          transform = transforms.Compose([\n",
    "                                              transforms.Grayscale(),\n",
    "                                              transforms.Resize((32,32)),\n",
    "                                              transforms.ToTensor()]))\n",
    "\n",
    "train_loader = torch.utils.data.DataLoader(dataset = train_dataset,\n",
    "                                           batch_size = batch_size,\n",
    "                                           shuffle = True)\n",
    "\n",
    "\n",
    "test_loader = torch.utils.data.DataLoader(dataset = test_dataset,\n",
    "                                          batch_size = batch_size,\n",
    "                                          shuffle = True)"
   ],
   "metadata": {
    "collapsed": false,
    "pycharm": {
     "name": "#%%\n"
    }
   }
  },
  {
   "cell_type": "code",
   "execution_count": 108,
   "outputs": [],
   "source": [
    "#Defining the convolutional neural network\n",
    "class LeNet5(nn.Module):\n",
    "    def __init__(self, num_classes):\n",
    "        super(LeNet5, self).__init__()\n",
    "        self.layer1 = nn.Sequential(\n",
    "            nn.Conv2d(1, 6, kernel_size=5, stride=1, padding=0),\n",
    "            nn.BatchNorm2d(6),\n",
    "            nn.ReLU(),\n",
    "            nn.MaxPool2d(kernel_size = 2, stride = 2))\n",
    "        self.layer2 = nn.Sequential(\n",
    "            nn.Conv2d(6, 16, kernel_size=5, stride=1, padding=0),\n",
    "            nn.BatchNorm2d(16),\n",
    "            nn.ReLU(),\n",
    "            nn.MaxPool2d(kernel_size = 2, stride = 2))\n",
    "        self.fc = nn.Linear(400, 120)\n",
    "        self.relu = nn.ReLU()\n",
    "        self.fc1 = nn.Linear(120, 84)\n",
    "        self.relu1 = nn.ReLU()\n",
    "        self.fc2 = nn.Linear(84, num_classes)\n",
    "\n",
    "    def forward(self, x):\n",
    "        out = self.layer1(x)\n",
    "        out = self.layer2(out)\n",
    "        out = out.reshape(out.size(0), -1)\n",
    "        out = self.fc(out)\n",
    "        out = self.relu(out)\n",
    "        out = self.fc1(out)\n",
    "        out = self.relu1(out)\n",
    "        out = self.fc2(out)\n",
    "        return out"
   ],
   "metadata": {
    "collapsed": false,
    "pycharm": {
     "name": "#%%\n"
    }
   }
  },
  {
   "cell_type": "code",
   "execution_count": 109,
   "outputs": [],
   "source": [
    "model = LeNet5(num_classes).to(device)\n",
    "\n",
    "#Setting the loss function\n",
    "cost = nn.CrossEntropyLoss()\n",
    "\n",
    "#Setting the optimizer with the model parameters and learning rate\n",
    "optimizer = torch.optim.Adam(model.parameters(), lr=learning_rate)\n",
    "\n",
    "#this is defined to print how many steps are remaining when training\n",
    "total_step = len(train_loader)"
   ],
   "metadata": {
    "collapsed": false,
    "pycharm": {
     "name": "#%%\n"
    }
   }
  },
  {
   "cell_type": "code",
   "execution_count": 110,
   "outputs": [
    {
     "name": "stdout",
     "output_type": "stream",
     "text": [
      "Epoch [1/10], Step [1/1599], Loss: 1.0549\n",
      "Epoch [1/10], Step [101/1599], Loss: 0.7847\n",
      "Epoch [1/10], Step [201/1599], Loss: 0.7740\n",
      "Epoch [1/10], Step [301/1599], Loss: 0.7492\n",
      "Epoch [1/10], Step [401/1599], Loss: 1.0579\n",
      "Epoch [1/10], Step [501/1599], Loss: 0.9992\n",
      "Epoch [1/10], Step [601/1599], Loss: 0.8333\n",
      "Epoch [1/10], Step [701/1599], Loss: 0.5624\n",
      "Epoch [1/10], Step [801/1599], Loss: 0.6702\n",
      "Epoch [1/10], Step [901/1599], Loss: 0.8267\n",
      "Epoch [1/10], Step [1001/1599], Loss: 0.8117\n",
      "Epoch [1/10], Step [1101/1599], Loss: 0.7598\n",
      "Epoch [1/10], Step [1201/1599], Loss: 0.6814\n",
      "Epoch [1/10], Step [1301/1599], Loss: 0.7053\n",
      "Epoch [1/10], Step [1401/1599], Loss: 0.8633\n",
      "Epoch [1/10], Step [1501/1599], Loss: 0.8915\n",
      "Epoch [1/10], Step [1599/1599], Loss: 0.7200\n",
      "Epoch [2/10], Step [1/1599], Loss: 0.7781\n",
      "Epoch [2/10], Step [101/1599], Loss: 0.7001\n",
      "Epoch [2/10], Step [201/1599], Loss: 0.7558\n",
      "Epoch [2/10], Step [301/1599], Loss: 0.7439\n",
      "Epoch [2/10], Step [401/1599], Loss: 0.8187\n",
      "Epoch [2/10], Step [501/1599], Loss: 0.7293\n",
      "Epoch [2/10], Step [601/1599], Loss: 0.6359\n",
      "Epoch [2/10], Step [701/1599], Loss: 0.8554\n",
      "Epoch [2/10], Step [801/1599], Loss: 0.6652\n",
      "Epoch [2/10], Step [901/1599], Loss: 0.7356\n",
      "Epoch [2/10], Step [1001/1599], Loss: 0.7822\n",
      "Epoch [2/10], Step [1101/1599], Loss: 0.8087\n",
      "Epoch [2/10], Step [1201/1599], Loss: 0.7181\n",
      "Epoch [2/10], Step [1301/1599], Loss: 0.5501\n",
      "Epoch [2/10], Step [1401/1599], Loss: 0.8297\n",
      "Epoch [2/10], Step [1501/1599], Loss: 0.7560\n",
      "Epoch [2/10], Step [1599/1599], Loss: 0.6849\n",
      "Epoch [3/10], Step [1/1599], Loss: 0.6784\n",
      "Epoch [3/10], Step [101/1599], Loss: 0.7583\n",
      "Epoch [3/10], Step [201/1599], Loss: 0.8480\n",
      "Epoch [3/10], Step [301/1599], Loss: 0.6968\n",
      "Epoch [3/10], Step [401/1599], Loss: 0.7850\n",
      "Epoch [3/10], Step [501/1599], Loss: 0.8588\n",
      "Epoch [3/10], Step [601/1599], Loss: 0.6810\n",
      "Epoch [3/10], Step [701/1599], Loss: 0.6511\n",
      "Epoch [3/10], Step [801/1599], Loss: 0.7403\n",
      "Epoch [3/10], Step [901/1599], Loss: 0.9212\n",
      "Epoch [3/10], Step [1001/1599], Loss: 0.7178\n",
      "Epoch [3/10], Step [1101/1599], Loss: 0.7179\n",
      "Epoch [3/10], Step [1201/1599], Loss: 0.8276\n",
      "Epoch [3/10], Step [1301/1599], Loss: 0.7421\n",
      "Epoch [3/10], Step [1401/1599], Loss: 0.7264\n",
      "Epoch [3/10], Step [1501/1599], Loss: 0.7686\n",
      "Epoch [3/10], Step [1599/1599], Loss: 0.7639\n",
      "Epoch [4/10], Step [1/1599], Loss: 0.5573\n",
      "Epoch [4/10], Step [101/1599], Loss: 0.7168\n",
      "Epoch [4/10], Step [201/1599], Loss: 0.7809\n",
      "Epoch [4/10], Step [301/1599], Loss: 0.6665\n",
      "Epoch [4/10], Step [401/1599], Loss: 0.6451\n",
      "Epoch [4/10], Step [501/1599], Loss: 0.7585\n",
      "Epoch [4/10], Step [601/1599], Loss: 0.5574\n",
      "Epoch [4/10], Step [701/1599], Loss: 0.7947\n",
      "Epoch [4/10], Step [801/1599], Loss: 0.7614\n",
      "Epoch [4/10], Step [901/1599], Loss: 0.7564\n",
      "Epoch [4/10], Step [1001/1599], Loss: 0.6383\n",
      "Epoch [4/10], Step [1101/1599], Loss: 0.8383\n",
      "Epoch [4/10], Step [1201/1599], Loss: 0.7635\n",
      "Epoch [4/10], Step [1301/1599], Loss: 0.7270\n",
      "Epoch [4/10], Step [1401/1599], Loss: 0.6674\n",
      "Epoch [4/10], Step [1501/1599], Loss: 0.8370\n",
      "Epoch [4/10], Step [1599/1599], Loss: 0.8463\n",
      "Epoch [5/10], Step [1/1599], Loss: 0.7093\n",
      "Epoch [5/10], Step [101/1599], Loss: 0.6669\n",
      "Epoch [5/10], Step [201/1599], Loss: 0.6246\n",
      "Epoch [5/10], Step [301/1599], Loss: 0.8517\n",
      "Epoch [5/10], Step [401/1599], Loss: 0.6601\n",
      "Epoch [5/10], Step [501/1599], Loss: 0.7872\n",
      "Epoch [5/10], Step [601/1599], Loss: 0.8287\n",
      "Epoch [5/10], Step [701/1599], Loss: 0.7333\n",
      "Epoch [5/10], Step [801/1599], Loss: 0.6160\n",
      "Epoch [5/10], Step [901/1599], Loss: 0.7602\n",
      "Epoch [5/10], Step [1001/1599], Loss: 0.6332\n",
      "Epoch [5/10], Step [1101/1599], Loss: 0.7556\n",
      "Epoch [5/10], Step [1201/1599], Loss: 0.7716\n",
      "Epoch [5/10], Step [1301/1599], Loss: 0.8057\n",
      "Epoch [5/10], Step [1401/1599], Loss: 0.6901\n",
      "Epoch [5/10], Step [1501/1599], Loss: 0.9132\n",
      "Epoch [5/10], Step [1599/1599], Loss: 0.5936\n",
      "Epoch [6/10], Step [1/1599], Loss: 0.7027\n",
      "Epoch [6/10], Step [101/1599], Loss: 0.7529\n",
      "Epoch [6/10], Step [201/1599], Loss: 0.4749\n",
      "Epoch [6/10], Step [301/1599], Loss: 0.6935\n",
      "Epoch [6/10], Step [401/1599], Loss: 0.7159\n",
      "Epoch [6/10], Step [501/1599], Loss: 0.7657\n",
      "Epoch [6/10], Step [601/1599], Loss: 0.7324\n",
      "Epoch [6/10], Step [701/1599], Loss: 0.5049\n",
      "Epoch [6/10], Step [801/1599], Loss: 0.6924\n",
      "Epoch [6/10], Step [901/1599], Loss: 0.7626\n",
      "Epoch [6/10], Step [1001/1599], Loss: 0.6220\n",
      "Epoch [6/10], Step [1101/1599], Loss: 0.7370\n",
      "Epoch [6/10], Step [1201/1599], Loss: 0.8605\n",
      "Epoch [6/10], Step [1301/1599], Loss: 0.7201\n",
      "Epoch [6/10], Step [1401/1599], Loss: 0.6466\n",
      "Epoch [6/10], Step [1501/1599], Loss: 0.7733\n",
      "Epoch [6/10], Step [1599/1599], Loss: 0.8859\n",
      "Epoch [7/10], Step [1/1599], Loss: 0.7474\n",
      "Epoch [7/10], Step [101/1599], Loss: 0.7357\n",
      "Epoch [7/10], Step [201/1599], Loss: 0.7789\n",
      "Epoch [7/10], Step [301/1599], Loss: 0.6479\n",
      "Epoch [7/10], Step [401/1599], Loss: 0.9152\n",
      "Epoch [7/10], Step [501/1599], Loss: 0.6979\n",
      "Epoch [7/10], Step [601/1599], Loss: 0.6653\n",
      "Epoch [7/10], Step [701/1599], Loss: 0.7616\n",
      "Epoch [7/10], Step [801/1599], Loss: 0.7043\n",
      "Epoch [7/10], Step [901/1599], Loss: 0.6871\n",
      "Epoch [7/10], Step [1001/1599], Loss: 0.8057\n",
      "Epoch [7/10], Step [1101/1599], Loss: 0.9005\n",
      "Epoch [7/10], Step [1201/1599], Loss: 0.5721\n",
      "Epoch [7/10], Step [1301/1599], Loss: 0.6917\n",
      "Epoch [7/10], Step [1401/1599], Loss: 0.6957\n",
      "Epoch [7/10], Step [1501/1599], Loss: 0.6611\n",
      "Epoch [7/10], Step [1599/1599], Loss: 1.1142\n",
      "Epoch [8/10], Step [1/1599], Loss: 0.8134\n",
      "Epoch [8/10], Step [101/1599], Loss: 0.6273\n",
      "Epoch [8/10], Step [201/1599], Loss: 0.7786\n",
      "Epoch [8/10], Step [301/1599], Loss: 0.6739\n",
      "Epoch [8/10], Step [401/1599], Loss: 0.7522\n",
      "Epoch [8/10], Step [501/1599], Loss: 0.7462\n",
      "Epoch [8/10], Step [601/1599], Loss: 0.7529\n",
      "Epoch [8/10], Step [701/1599], Loss: 0.8399\n",
      "Epoch [8/10], Step [801/1599], Loss: 0.7857\n",
      "Epoch [8/10], Step [901/1599], Loss: 0.7142\n",
      "Epoch [8/10], Step [1001/1599], Loss: 0.6246\n",
      "Epoch [8/10], Step [1101/1599], Loss: 0.7894\n",
      "Epoch [8/10], Step [1201/1599], Loss: 0.8039\n",
      "Epoch [8/10], Step [1301/1599], Loss: 0.7903\n",
      "Epoch [8/10], Step [1401/1599], Loss: 0.8141\n",
      "Epoch [8/10], Step [1501/1599], Loss: 0.4751\n",
      "Epoch [8/10], Step [1599/1599], Loss: 0.5882\n",
      "Epoch [9/10], Step [1/1599], Loss: 0.8422\n",
      "Epoch [9/10], Step [101/1599], Loss: 0.5564\n",
      "Epoch [9/10], Step [201/1599], Loss: 0.6976\n",
      "Epoch [9/10], Step [301/1599], Loss: 0.7766\n",
      "Epoch [9/10], Step [401/1599], Loss: 0.6457\n",
      "Epoch [9/10], Step [501/1599], Loss: 0.5876\n",
      "Epoch [9/10], Step [601/1599], Loss: 0.8001\n",
      "Epoch [9/10], Step [701/1599], Loss: 0.7930\n",
      "Epoch [9/10], Step [801/1599], Loss: 0.6499\n",
      "Epoch [9/10], Step [901/1599], Loss: 0.7105\n",
      "Epoch [9/10], Step [1001/1599], Loss: 0.6879\n",
      "Epoch [9/10], Step [1101/1599], Loss: 0.5918\n",
      "Epoch [9/10], Step [1201/1599], Loss: 0.4846\n",
      "Epoch [9/10], Step [1301/1599], Loss: 0.6625\n",
      "Epoch [9/10], Step [1401/1599], Loss: 0.6847\n",
      "Epoch [9/10], Step [1501/1599], Loss: 0.6547\n",
      "Epoch [9/10], Step [1599/1599], Loss: 0.6945\n",
      "Epoch [10/10], Step [1/1599], Loss: 0.9870\n",
      "Epoch [10/10], Step [101/1599], Loss: 0.7758\n",
      "Epoch [10/10], Step [201/1599], Loss: 0.7491\n",
      "Epoch [10/10], Step [301/1599], Loss: 0.6018\n",
      "Epoch [10/10], Step [401/1599], Loss: 0.8357\n",
      "Epoch [10/10], Step [501/1599], Loss: 0.5662\n",
      "Epoch [10/10], Step [601/1599], Loss: 0.7935\n",
      "Epoch [10/10], Step [701/1599], Loss: 0.7259\n",
      "Epoch [10/10], Step [801/1599], Loss: 0.7446\n",
      "Epoch [10/10], Step [901/1599], Loss: 0.8190\n",
      "Epoch [10/10], Step [1001/1599], Loss: 0.6502\n",
      "Epoch [10/10], Step [1101/1599], Loss: 0.6777\n",
      "Epoch [10/10], Step [1201/1599], Loss: 0.6070\n",
      "Epoch [10/10], Step [1301/1599], Loss: 0.6874\n",
      "Epoch [10/10], Step [1401/1599], Loss: 0.7337\n",
      "Epoch [10/10], Step [1501/1599], Loss: 0.7803\n",
      "Epoch [10/10], Step [1599/1599], Loss: 0.6010\n"
     ]
    }
   ],
   "source": [
    "total_step = len(train_loader)\n",
    "#should add a progress bar to this\n",
    "losses = []\n",
    "for epoch in range(num_epochs):\n",
    "    losses_per_epoch = []\n",
    "    for i, (images, labels) in enumerate(train_loader):\n",
    "        images = images.to(device)\n",
    "        labels = labels.to(device)\n",
    "\n",
    "        #Forward pass\n",
    "        outputs = model(images)\n",
    "        loss = cost(outputs, labels)\n",
    "\n",
    "        # Backward and optimize\n",
    "        optimizer.zero_grad()\n",
    "        loss.backward()\n",
    "        optimizer.step()\n",
    "        if i % 100 == 0: print ('Epoch [{}/{}], Step [{}/{}], Loss: {:.4f}'.format(epoch+1, num_epochs, i+1, total_step, loss.item()))\n",
    "        if (i+1) == total_step: print ('Epoch [{}/{}], Step [{}/{}], Loss: {:.4f}'.format(epoch+1, num_epochs, i+1, total_step, loss.item()))\n",
    "\n",
    "        losses_per_epoch.append(loss.item())\n",
    "    losses.append(sum(losses_per_epoch)/len(losses_per_epoch))"
   ],
   "metadata": {
    "collapsed": false,
    "pycharm": {
     "name": "#%%\n"
    }
   }
  },
  {
   "cell_type": "code",
   "execution_count": 111,
   "outputs": [
    {
     "data": {
      "text/plain": "<Figure size 432x288 with 1 Axes>",
      "image/png": "[encoded data removed]"
     },
     "metadata": {
      "needs_background": "light"
     },
     "output_type": "display_data"
    }
   ],
   "source": [
    "plt.title('Loss per epoch')\n",
    "plt.xlabel('Epoch')\n",
    "plt.ylabel('Loss')\n",
    "plt.plot(losses)\n",
    "plt.ylim([0,1])\n",
    "plt.show()"
   ],
   "metadata": {
    "collapsed": false,
    "pycharm": {
     "name": "#%%\n"
    }
   }
  },
  {
   "cell_type": "code",
   "execution_count": 112,
   "outputs": [
    {
     "name": "stdout",
     "output_type": "stream",
     "text": [
      "Accuracy of the network on the 400 test images: 65.25529752130737 %\n"
     ]
    }
   ],
   "source": [
    "with torch.no_grad():\n",
    "    correct = 0\n",
    "    total = 0\n",
    "    for images, labels in test_loader:\n",
    "        images = images.to(device)\n",
    "        labels = labels.to(device)\n",
    "        outputs = model(images)\n",
    "        _, predicted = torch.max(outputs.data, 1)\n",
    "        total += labels.size(0)\n",
    "        correct += (predicted == labels).sum().item()\n",
    "\n",
    "    print('Accuracy of the network on the {} test images: {} %'.format(len(test_loader), 100 * correct / total))\n"
   ],
   "metadata": {
    "collapsed": false,
    "pycharm": {
     "name": "#%%\n"
    }
   }
  },
  {
   "cell_type": "code",
   "execution_count": null,
   "outputs": [],
   "source": [
    "#I think the image are all 0s because they are normalised from 0 to 1\n",
    "#At some point they get rounded (maybe when put as pngs) which makes them all 0s, so fully blank images\n",
    "#We need to either not normalise them before we store them, or denormalise them by multiplying by 255\n",
    "#This would explain why it was stuck at 67%? No since if it was random, it would be a 33% accuracy\n",
    "\n",
    "#Need to add some augmentation"
   ],
   "metadata": {
    "collapsed": false,
    "pycharm": {
     "name": "#%%\n"
    }
   }
  }
 ],
 "metadata": {
  "kernelspec": {
   "display_name": "Python 3",
   "language": "python",
   "name": "python3"
  },
  "language_info": {
   "codemirror_mode": {
    "name": "ipython",
    "version": 2
   },
   "file_extension": ".py",
   "mimetype": "text/x-python",
   "name": "python",
   "nbconvert_exporter": "python",
   "pygments_lexer": "ipython2",
   "version": "2.7.6"
  }
 },
 "nbformat": 4,
 "nbformat_minor": 0
}