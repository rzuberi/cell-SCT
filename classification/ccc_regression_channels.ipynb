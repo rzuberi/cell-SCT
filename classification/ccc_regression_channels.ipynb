{
 "cells": [
  {
   "cell_type": "markdown",
   "source": [
    "# Classification with flattened images and linear regression"
   ],
   "metadata": {
    "collapsed": false,
    "pycharm": {
     "name": "#%% md\n"
    }
   }
  },
  {
   "cell_type": "code",
   "execution_count": 1,
   "outputs": [],
   "source": [
    "import pandas as pd\n",
    "import numpy as np\n",
    "from ccc_nn_functions import str2array\n",
    "\n",
    "csv_file = r'C:\\Users\\rz200\\Documents\\development\\cell-SCT\\classification\\imported_CSV\\dataframe_822'\n",
    "df = pd.read_csv(csv_file)"
   ],
   "metadata": {
    "collapsed": false,
    "pycharm": {
     "name": "#%%\n"
    }
   }
  },
  {
   "cell_type": "code",
   "execution_count": 2,
   "outputs": [
    {
     "name": "stderr",
     "output_type": "stream",
     "text": [
      "C:\\Users\\rz200\\Documents\\development\\cell-SCT\\classification\\ccc_nn_functions.py:106: VisibleDeprecationWarning: Creating an ndarray from ragged nested sequences (which is a list-or-tuple of lists-or-tuples-or ndarrays with different lengths or shapes) is deprecated. If you meant to do this, you must specify 'dtype=object' when creating the ndarray.\n",
      "  return np.array(ast.literal_eval(s))\n"
     ]
    }
   ],
   "source": [
    "def df_ignore_rows(df):\n",
    "    indices_to_skip_img_wrong_shape = [i for i in range(len(df)) if str2array(df['pcna_crops'][i]).dtype is np.dtype('object')]  # skipping rows with shapes such as (7,)\n",
    "    indices_to_skip_no_class = df[(df['G1_Phase'] == False) & (df['S_Phase'] == False) & (df['G2_M_Phase'] == False)].index\n",
    "\n",
    "    rows_to_ignore = np.concatenate((indices_to_skip_img_wrong_shape, indices_to_skip_no_class), axis=0)\n",
    "    df = df.drop(set(rows_to_ignore)).reset_index(drop=True) #dropping the rows to ignore\n",
    "\n",
    "    return df\n",
    "\n",
    "df = df_ignore_rows(df)"
   ],
   "metadata": {
    "collapsed": false,
    "pycharm": {
     "name": "#%%\n"
    }
   }
  },
  {
   "cell_type": "code",
   "execution_count": 4,
   "outputs": [],
   "source": [
    "def get_crops_flat_pad(df,column_name):\n",
    "    pcna_crops = []\n",
    "    for i in range(len(df)): pcna_crops.append(str2array(df[column_name][i]))\n",
    "    #We'll want to flatten all of these arrays\n",
    "    pcna_crops_flat = []\n",
    "    for i in range(len(pcna_crops)):\n",
    "        pcna_crops_flat.append(pcna_crops[i].flatten())\n",
    "    #Then we want to get the longest one\n",
    "    max_shape = max([flat_crop.shape[0] for flat_crop in pcna_crops_flat])\n",
    "    #Then we want to add 0s at the end of everyone that isn't as long as the longest one\n",
    "    pcna_crops_flat_pad = []\n",
    "    for i in range(len(pcna_crops_flat)):\n",
    "        A = pcna_crops_flat[i]\n",
    "        pad_size = max_shape - A.shape[0]\n",
    "        new_arr = np.pad(A, (0, pad_size), 'constant')\n",
    "        pcna_crops_flat_pad.append(new_arr)\n",
    "    pcna_crops_flat_pad = np.array(pcna_crops_flat_pad)\n",
    "\n",
    "    return pcna_crops_flat_pad"
   ],
   "metadata": {
    "collapsed": false,
    "pycharm": {
     "name": "#%%\n"
    }
   }
  },
  {
   "cell_type": "code",
   "execution_count": 9,
   "outputs": [],
   "source": [
    "def get_cell_labels(df):\n",
    "    g1_indices = df[(df['G1_Phase'] == True)].index\n",
    "    s_indices = df[(df['S_Phase'] == True)].index\n",
    "    g2_m_indices = df[(df['G2_M_Phase'] == True)].index\n",
    "\n",
    "    #make an array that is the length of all of these indices put into one, that is made of 0s\n",
    "    #replace the 0s accordingly by which phase index they correspond to\n",
    "\n",
    "    cell_labels = np.arange(len(g1_indices)+len(s_indices)+len(g2_m_indices))\n",
    "\n",
    "    np.put(cell_labels,g1_indices,np.zeros(len(g1_indices)))\n",
    "    np.put(cell_labels,s_indices,np.ones(len(s_indices)))\n",
    "    np.put(cell_labels,g2_m_indices,np.full(len(g2_m_indices),2))\n",
    "\n",
    "    return cell_labels\n",
    "\n",
    "cell_labels = get_cell_labels(df)"
   ],
   "metadata": {
    "collapsed": false,
    "pycharm": {
     "name": "#%%\n"
    }
   }
  },
  {
   "cell_type": "code",
   "execution_count": 5,
   "outputs": [
    {
     "name": "stdout",
     "output_type": "stream",
     "text": [
      "115.0233781337738\n"
     ]
    }
   ],
   "source": [
    "import time\n",
    "\n",
    "start = time.time()\n",
    "pcna_crops_flat_pad = get_crops_flat_pad(df,'pcna_crops')\n",
    "print(time.time()-start)"
   ],
   "metadata": {
    "collapsed": false,
    "pycharm": {
     "name": "#%%\n"
    }
   }
  },
  {
   "cell_type": "code",
   "execution_count": 11,
   "outputs": [],
   "source": [
    "from sklearn.model_selection import train_test_split\n",
    "from sklearn.linear_model import LinearRegression"
   ],
   "metadata": {
    "collapsed": false,
    "pycharm": {
     "name": "#%%\n"
    }
   }
  },
  {
   "cell_type": "code",
   "execution_count": 6,
   "outputs": [],
   "source": [
    "#Get the crops for each channel\n",
    "dapi_crops_flat_pad = get_crops_flat_pad(df,'dapi_crops')\n",
    "edu_crops_flat_pad = get_crops_flat_pad(df,'edu_crops')\n",
    "cyclina2_crops_flat_pad = get_crops_flat_pad(df,'cyclina2_crops')"
   ],
   "metadata": {
    "collapsed": false,
    "pycharm": {
     "name": "#%%\n"
    }
   }
  },
  {
   "cell_type": "code",
   "execution_count": 25,
   "outputs": [],
   "source": [
    "def train_binary_model(images,labels):\n",
    "    X_train, X_test, y_train, y_test = train_test_split(images,labels,test_size=0.2,random_state=1)\n",
    "    reg_model = LinearRegression().fit(X_train,y_train)\n",
    "    return reg_model\n",
    "\n",
    "def get_model_accuracy(model,images,labels):\n",
    "    X_train, X_test, y_train, y_test = train_test_split(images,labels,test_size=0.2,random_state=1)\n",
    "    predictions = np.round(model.predict(X_test)).astype(int)\n",
    "    correct = np.count_nonzero(y_test == predictions)\n",
    "    return correct/len(X_test)\n",
    "\n",
    "def get_binary_models(images,labels):\n",
    "    g1_labels = [1 if label==0 else 0 for label in labels]\n",
    "    s_labels = [1 if label==1 else 0 for label in labels]\n",
    "    g2_m_labels = [1 if label==2 else 0 for label in labels]\n",
    "\n",
    "    models = [train_binary_model(images,g1_labels),train_binary_model(images,s_labels),train_binary_model(images,g2_m_labels)]\n",
    "\n",
    "    accuracies = [get_model_accuracy(models[0],images,g1_labels),get_model_accuracy(models[1],images,s_labels),get_model_accuracy(models[2],images,g2_m_labels)]\n",
    "\n",
    "    return models, accuracies"
   ],
   "metadata": {
    "collapsed": false,
    "pycharm": {
     "name": "#%%\n"
    }
   }
  },
  {
   "cell_type": "code",
   "execution_count": 26,
   "outputs": [
    {
     "name": "stdout",
     "output_type": "stream",
     "text": [
      "79386\n"
     ]
    }
   ],
   "source": [
    "print(len(dapi_crops_flat_pad))"
   ],
   "metadata": {
    "collapsed": false,
    "pycharm": {
     "name": "#%%\n"
    }
   }
  },
  {
   "cell_type": "code",
   "execution_count": 45,
   "outputs": [
    {
     "name": "stdout",
     "output_type": "stream",
     "text": [
      "[0.6999622118654742, 0.7291220556745182, 0.7694923793928706]\n",
      "[0.6999622118654742, 0.7291220556745182, 0.7694923793928706]\n"
     ]
    }
   ],
   "source": [
    "dapi_models, dapi_accuracies = get_binary_models(dapi_crops_flat_pad,cell_labels)\n",
    "print(accuracies)"
   ],
   "metadata": {
    "collapsed": false,
    "pycharm": {
     "name": "#%%\n"
    }
   }
  },
  {
   "cell_type": "code",
   "execution_count": 42,
   "outputs": [
    {
     "name": "stdout",
     "output_type": "stream",
     "text": [
      "[0.6999622118654742, 0.7291220556745182, 0.7694923793928706]\n"
     ]
    }
   ],
   "source": [
    "edu_models, edu_accuracies = get_binary_models(edu_crops_flat_pad,cell_labels)\n",
    "print(accuracies)"
   ],
   "metadata": {
    "collapsed": false,
    "pycharm": {
     "name": "#%%\n"
    }
   }
  },
  {
   "cell_type": "code",
   "execution_count": 43,
   "outputs": [
    {
     "name": "stdout",
     "output_type": "stream",
     "text": [
      "[0.6999622118654742, 0.7291220556745182, 0.7694923793928706]\n"
     ]
    }
   ],
   "source": [
    "cyclina2_models, cyclina2_accuracies = get_binary_models(cyclina2_crops_flat_pad,cell_labels)\n",
    "print(accuracies)"
   ],
   "metadata": {
    "collapsed": false,
    "pycharm": {
     "name": "#%%\n"
    }
   }
  },
  {
   "cell_type": "code",
   "execution_count": 44,
   "outputs": [
    {
     "name": "stdout",
     "output_type": "stream",
     "text": [
      "[0.6999622118654742, 0.7291220556745182, 0.7694923793928706]\n"
     ]
    }
   ],
   "source": [
    "pcna_models, pcna_accuracies = get_binary_models(pcna_crops_flat_pad,cell_labels)\n",
    "print(accuracies)"
   ],
   "metadata": {
    "collapsed": false,
    "pycharm": {
     "name": "#%%\n"
    }
   }
  },
  {
   "cell_type": "code",
   "execution_count": 49,
   "outputs": [
    {
     "name": "stdout",
     "output_type": "stream",
     "text": [
      "╒═════════════════╤══════╤══════╤════════╕\n",
      "│ Channel/Phase   │   G1 │    S │   G2&M │\n",
      "╞═════════════════╪══════╪══════╪════════╡\n",
      "│ DAPI            │ 0.67 │ 0.66 │   0.77 │\n",
      "├─────────────────┼──────┼──────┼────────┤\n",
      "│ EdU             │ 0.68 │ 0.84 │   0.77 │\n",
      "├─────────────────┼──────┼──────┼────────┤\n",
      "│ Cyclin A2       │ 0.7  │ 0.71 │   0.77 │\n",
      "├─────────────────┼──────┼──────┼────────┤\n",
      "│ PCNA            │ 0.7  │ 0.73 │   0.77 │\n",
      "╘═════════════════╧══════╧══════╧════════╛\n"
     ]
    }
   ],
   "source": [
    "from tabulate import tabulate\n",
    "table = [['Channel/Phase', 'G1', 'S', 'G2&M'],\n",
    "         ['DAPI', round(dapi_accuracies[0],2), round(dapi_accuracies[1],2), round(dapi_accuracies[2],2)],\n",
    "         ['EdU', round(edu_accuracies[0],2), round(edu_accuracies[1],2), round(edu_accuracies[2],2)],\n",
    "         ['Cyclin A2', round(cyclina2_accuracies[0],2), round(cyclina2_accuracies[1],2), round(cyclina2_accuracies[2],2)],\n",
    "         ['PCNA', round(pcna_accuracies[0],2), round(pcna_accuracies[1],2), round(pcna_accuracies[2],2)]]\n",
    "print(tabulate(table, headers='firstrow', tablefmt='fancy_grid'))"
   ],
   "metadata": {
    "collapsed": false,
    "pycharm": {
     "name": "#%%\n"
    }
   }
  },
  {
   "cell_type": "code",
   "execution_count": null,
   "outputs": [],
   "source": [],
   "metadata": {
    "collapsed": false,
    "pycharm": {
     "name": "#%%\n"
    }
   }
  }
 ],
 "metadata": {
  "kernelspec": {
   "display_name": "Python 3",
   "language": "python",
   "name": "python3"
  },
  "language_info": {
   "codemirror_mode": {
    "name": "ipython",
    "version": 2
   },
   "file_extension": ".py",
   "mimetype": "text/x-python",
   "name": "python",
   "nbconvert_exporter": "python",
   "pygments_lexer": "ipython2",
   "version": "2.7.6"
  }
 },
 "nbformat": 4,
 "nbformat_minor": 0
}