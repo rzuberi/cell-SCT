{
 "cells": [
  {
   "cell_type": "markdown",
   "source": [
    "In this notebook, I want to see if from the PCNA values, a model can output the DAPI, Cyclin A2 and EdU values"
   ],
   "metadata": {
    "collapsed": false,
    "pycharm": {
     "name": "#%% md\n"
    }
   }
  },
  {
   "cell_type": "code",
   "execution_count": 2,
   "outputs": [
    {
     "name": "stdout",
     "output_type": "stream",
     "text": [
      "Requirement already satisfied: torchvision in c:\\users\\rz200\\.conda\\envs\\celldev\\lib\\site-packages (0.12.0+cu113)\n",
      "Requirement already satisfied: numpy in c:\\users\\rz200\\.conda\\envs\\celldev\\lib\\site-packages (from torchvision) (1.22.4)\n",
      "Requirement already satisfied: pillow!=8.3.*,>=5.3.0 in c:\\users\\rz200\\.conda\\envs\\celldev\\lib\\site-packages (from torchvision) (9.2.0)\n",
      "Requirement already satisfied: typing-extensions in c:\\users\\rz200\\.conda\\envs\\celldev\\lib\\site-packages (from torchvision) (4.3.0)\n",
      "Requirement already satisfied: torch==1.11.0 in c:\\users\\rz200\\.conda\\envs\\celldev\\lib\\site-packages (from torchvision) (1.11.0+cu113)\n",
      "Requirement already satisfied: requests in c:\\users\\rz200\\.conda\\envs\\celldev\\lib\\site-packages (from torchvision) (2.28.1)\n",
      "Requirement already satisfied: idna<4,>=2.5 in c:\\users\\rz200\\.conda\\envs\\celldev\\lib\\site-packages (from requests->torchvision) (3.3)\n",
      "Requirement already satisfied: certifi>=2017.4.17 in c:\\users\\rz200\\.conda\\envs\\celldev\\lib\\site-packages (from requests->torchvision) (2022.5.18.1)\n",
      "Requirement already satisfied: charset-normalizer<3,>=2 in c:\\users\\rz200\\.conda\\envs\\celldev\\lib\\site-packages (from requests->torchvision) (2.1.0)\n",
      "Requirement already satisfied: urllib3<1.27,>=1.21.1 in c:\\users\\rz200\\.conda\\envs\\celldev\\lib\\site-packages (from requests->torchvision) (1.26.11)\n"
     ]
    }
   ],
   "source": [
    "!pip install torchvision"
   ],
   "metadata": {
    "collapsed": false,
    "pycharm": {
     "name": "#%%\n"
    }
   }
  },
  {
   "cell_type": "code",
   "execution_count": 1,
   "outputs": [
    {
     "name": "stdout",
     "output_type": "stream",
     "text": [
      "# conda environments:\n",
      "#\n",
      "base                     C:\\ProgramData\\Anaconda3\n",
      "celldev               *  C:\\Users\\rz200\\.conda\\envs\\celldev\n",
      "datadev                  C:\\Users\\rz200\\.conda\\envs\\datadev\n",
      "\n"
     ]
    }
   ],
   "source": [
    "!conda env list"
   ],
   "metadata": {
    "collapsed": false,
    "pycharm": {
     "name": "#%%\n"
    }
   }
  },
  {
   "cell_type": "code",
   "execution_count": 2,
   "outputs": [],
   "source": [
    "#I think we would want to go from the PCNA crop to guess the average DAPI value\n",
    "\n",
    "#Let's get the PCNA numpys\n",
    "import pandas as pd\n",
    "import numpy as np\n",
    "from ccc_nn_functions import str2array\n",
    "\n",
    "csv_file = r'C:\\Users\\rz200\\Documents\\development\\cell-SCT\\classification\\imported_CSV\\dataframe_822'\n",
    "df = pd.read_csv(csv_file)"
   ],
   "metadata": {
    "collapsed": false,
    "pycharm": {
     "name": "#%%\n"
    }
   }
  },
  {
   "cell_type": "code",
   "execution_count": 3,
   "outputs": [
    {
     "name": "stderr",
     "output_type": "stream",
     "text": [
      "C:\\Users\\rz200\\Documents\\development\\cell-SCT\\classification\\ccc_nn_functions.py:106: VisibleDeprecationWarning: Creating an ndarray from ragged nested sequences (which is a list-or-tuple of lists-or-tuples-or ndarrays with different lengths or shapes) is deprecated. If you meant to do this, you must specify 'dtype=object' when creating the ndarray.\n",
      "  return np.array(ast.literal_eval(s))\n"
     ]
    }
   ],
   "source": [
    "def df_ignore_rows(df):\n",
    "    indices_to_skip_img_wrong_shape = [i for i in range(len(df)) if str2array(df['pcna_crops'][i]).dtype is np.dtype('object')]  # skipping rows with shapes such as (7,)\n",
    "    indices_to_skip_no_class = df[(df['G1_Phase'] == False) & (df['S_Phase'] == False) & (df['G2_M_Phase'] == False)].index\n",
    "\n",
    "    rows_to_ignore = np.concatenate((indices_to_skip_img_wrong_shape, indices_to_skip_no_class), axis=0)\n",
    "    df = df.drop(set(rows_to_ignore)).reset_index(drop=True) #dropping the rows to ignore\n",
    "\n",
    "    return df\n",
    "\n",
    "df = df_ignore_rows(df)"
   ],
   "metadata": {
    "collapsed": false,
    "pycharm": {
     "name": "#%%\n"
    }
   }
  },
  {
   "cell_type": "code",
   "execution_count": 4,
   "outputs": [],
   "source": [
    "def get_crops_flat_pad(df,column_name):\n",
    "    pcna_crops = []\n",
    "    for i in range(len(df)): pcna_crops.append(str2array(df[column_name][i]))\n",
    "    #We'll want to flatten all of these arrays\n",
    "    pcna_crops_flat = []\n",
    "    for i in range(len(pcna_crops)):\n",
    "        pcna_crops_flat.append(pcna_crops[i].flatten())\n",
    "    #Then we want to get the longest one\n",
    "    max_shape = max([flat_crop.shape[0] for flat_crop in pcna_crops_flat])\n",
    "    #Then we want to add 0s at the end of everyone that isn't as long as the longest one\n",
    "    pcna_crops_flat_pad = []\n",
    "    for i in range(len(pcna_crops_flat)):\n",
    "        A = pcna_crops_flat[i]\n",
    "        pad_size = max_shape - A.shape[0]\n",
    "        new_arr = np.pad(A, (0, pad_size), 'constant')\n",
    "        pcna_crops_flat_pad.append(new_arr)\n",
    "    pcna_crops_flat_pad = np.array(pcna_crops_flat_pad)\n",
    "\n",
    "    return pcna_crops_flat_pad"
   ],
   "metadata": {
    "collapsed": false,
    "pycharm": {
     "name": "#%%\n"
    }
   }
  },
  {
   "cell_type": "code",
   "execution_count": 5,
   "outputs": [
    {
     "name": "stdout",
     "output_type": "stream",
     "text": [
      "113.98933053016663\n"
     ]
    }
   ],
   "source": [
    "import time\n",
    "\n",
    "start = time.time()\n",
    "pcna_crops_flat_pad = get_crops_flat_pad(df,'pcna_crops')\n",
    "print(time.time()-start)"
   ],
   "metadata": {
    "collapsed": false,
    "pycharm": {
     "name": "#%%\n"
    }
   }
  },
  {
   "cell_type": "code",
   "execution_count": 6,
   "outputs": [
    {
     "name": "stdout",
     "output_type": "stream",
     "text": [
      "(79386, 1000)\n"
     ]
    }
   ],
   "source": [
    "print(pcna_crops_flat_pad.shape)"
   ],
   "metadata": {
    "collapsed": false,
    "pycharm": {
     "name": "#%%\n"
    }
   }
  },
  {
   "cell_type": "code",
   "execution_count": 7,
   "outputs": [],
   "source": [
    "pcna_crops = []\n",
    "for i in range(len(df)): pcna_crops.append(str2array(df['pcna_crops'][i]))"
   ],
   "metadata": {
    "collapsed": false,
    "pycharm": {
     "name": "#%%\n"
    }
   }
  },
  {
   "cell_type": "code",
   "execution_count": 8,
   "outputs": [
    {
     "name": "stdout",
     "output_type": "stream",
     "text": [
      "(79386,)\n"
     ]
    },
    {
     "name": "stderr",
     "output_type": "stream",
     "text": [
      "C:\\Users\\rz200\\AppData\\Local\\Temp\\ipykernel_24132\\4224422109.py:1: VisibleDeprecationWarning: Creating an ndarray from ragged nested sequences (which is a list-or-tuple of lists-or-tuples-or ndarrays with different lengths or shapes) is deprecated. If you meant to do this, you must specify 'dtype=object' when creating the ndarray.\n",
      "  pcna_crops = np.array(pcna_crops)\n"
     ]
    }
   ],
   "source": [
    "pcna_crops = np.array(pcna_crops)\n",
    "print(pcna_crops.shape)"
   ],
   "metadata": {
    "collapsed": false,
    "pycharm": {
     "name": "#%%\n"
    }
   }
  },
  {
   "cell_type": "code",
   "execution_count": 28,
   "outputs": [
    {
     "ename": "ValueError",
     "evalue": "too many values to unpack (expected 2)",
     "output_type": "error",
     "traceback": [
      "\u001B[1;31m---------------------------------------------------------------------------\u001B[0m",
      "\u001B[1;31mValueError\u001B[0m                                Traceback (most recent call last)",
      "Input \u001B[1;32mIn [28]\u001B[0m, in \u001B[0;36m<cell line: 2>\u001B[1;34m()\u001B[0m\n\u001B[0;32m      1\u001B[0m \u001B[38;5;28;01mfrom\u001B[39;00m \u001B[38;5;21;01mskimage\u001B[39;00m\u001B[38;5;21;01m.\u001B[39;00m\u001B[38;5;21;01mio\u001B[39;00m \u001B[38;5;28;01mimport\u001B[39;00m imread, imshow\n\u001B[1;32m----> 2\u001B[0m image \u001B[38;5;241m=\u001B[39m \u001B[43mxy_to_binary2d\u001B[49m\u001B[43m(\u001B[49m\u001B[43mpcna_crops\u001B[49m\u001B[43m[\u001B[49m\u001B[38;5;241;43m0\u001B[39;49m\u001B[43m]\u001B[49m\u001B[38;5;241;43m.\u001B[39;49m\u001B[43mastype\u001B[49m\u001B[43m(\u001B[49m\u001B[43mnp\u001B[49m\u001B[38;5;241;43m.\u001B[39;49m\u001B[43mint32\u001B[49m\u001B[43m)\u001B[49m\u001B[43m)\u001B[49m\n\u001B[0;32m      3\u001B[0m img \u001B[38;5;241m=\u001B[39m imread(image)\n\u001B[0;32m      4\u001B[0m imshow(img)\n",
      "Input \u001B[1;32mIn [21]\u001B[0m, in \u001B[0;36mxy_to_binary2d\u001B[1;34m(ts)\u001B[0m\n\u001B[0;32m      3\u001B[0m \u001B[38;5;28;01mif\u001B[39;00m ts\u001B[38;5;241m.\u001B[39mdtype \u001B[38;5;241m!=\u001B[39m \u001B[38;5;124m'\u001B[39m\u001B[38;5;124mint32\u001B[39m\u001B[38;5;124m'\u001B[39m:\n\u001B[0;32m      4\u001B[0m     \u001B[38;5;28mprint\u001B[39m(\u001B[38;5;124m'\u001B[39m\u001B[38;5;124mOnly integer input is supported.\u001B[39m\u001B[38;5;124m'\u001B[39m)\n\u001B[1;32m----> 6\u001B[0m xmax,ymax \u001B[38;5;241m=\u001B[39m ts\u001B[38;5;241m.\u001B[39mmax(axis\u001B[38;5;241m=\u001B[39m\u001B[38;5;241m0\u001B[39m)\n\u001B[0;32m      7\u001B[0m __,ymin \u001B[38;5;241m=\u001B[39m ts\u001B[38;5;241m.\u001B[39mmin(axis\u001B[38;5;241m=\u001B[39m\u001B[38;5;241m0\u001B[39m)\n\u001B[0;32m      9\u001B[0m \u001B[38;5;28;01mif\u001B[39;00m ymin \u001B[38;5;241m<\u001B[39m \u001B[38;5;241m0\u001B[39m:\n",
      "\u001B[1;31mValueError\u001B[0m: too many values to unpack (expected 2)"
     ]
    }
   ],
   "source": [
    "from skimage.io import imread, imshow\n",
    "image = xy_to_binary2d(pcna_crops[0].astype(np.int32))\n",
    "img = imread(image)\n",
    "imshow(img)"
   ],
   "metadata": {
    "collapsed": false,
    "pycharm": {
     "name": "#%%\n"
    }
   }
  },
  {
   "cell_type": "code",
   "execution_count": 1,
   "outputs": [
    {
     "ename": "NameError",
     "evalue": "name 'np' is not defined",
     "output_type": "error",
     "traceback": [
      "\u001B[1;31m---------------------------------------------------------------------------\u001B[0m",
      "\u001B[1;31mNameError\u001B[0m                                 Traceback (most recent call last)",
      "Input \u001B[1;32mIn [1]\u001B[0m, in \u001B[0;36m<cell line: 1>\u001B[1;34m()\u001B[0m\n\u001B[1;32m----> 1\u001B[0m image \u001B[38;5;241m=\u001B[39m \u001B[43mnp\u001B[49m\u001B[38;5;241m.\u001B[39mexpand_dims(pcna_crops[\u001B[38;5;241m0\u001B[39m]\u001B[38;5;241m.\u001B[39mastype(np\u001B[38;5;241m.\u001B[39mint32),axis\u001B[38;5;241m=\u001B[39m\u001B[38;5;241m0\u001B[39m)\n\u001B[0;32m      2\u001B[0m image\u001B[38;5;241m.\u001B[39mndim\n",
      "\u001B[1;31mNameError\u001B[0m: name 'np' is not defined"
     ]
    }
   ],
   "source": [
    "impo\n",
    "image = np.expand_dims(pcna_crops[0].astype(np.int32),axis=0)\n",
    "image.ndim"
   ],
   "metadata": {
    "collapsed": false,
    "pycharm": {
     "name": "#%%\n"
    }
   }
  },
  {
   "cell_type": "code",
   "execution_count": null,
   "outputs": [],
   "source": [
    "\n",
    "fd, hog_image = hog(image, orientations=8, pixels_per_cell=(16, 16),\n",
    "                    cells_per_block=(1, 1), visualize=True, channel_axis=-1)"
   ],
   "metadata": {
    "collapsed": false,
    "pycharm": {
     "name": "#%%\n"
    }
   }
  },
  {
   "cell_type": "code",
   "execution_count": 35,
   "outputs": [
    {
     "name": "stderr",
     "output_type": "stream",
     "text": [
      "C:\\Users\\rz200\\AppData\\Local\\Temp\\ipykernel_3920\\2860752918.py:2: FutureWarning: `multichannel` is a deprecated argument name for `hog`. It will be removed in version 1.0. Please use `channel_axis` instead.\n",
      "  fd, hog_image = hog(image, orientations=9, pixels_per_cell=(8, 8),\n"
     ]
    },
    {
     "ename": "ValueError",
     "evalue": "negative dimensions are not allowed",
     "output_type": "error",
     "traceback": [
      "\u001B[1;31m---------------------------------------------------------------------------\u001B[0m",
      "\u001B[1;31mValueError\u001B[0m                                Traceback (most recent call last)",
      "Input \u001B[1;32mIn [35]\u001B[0m, in \u001B[0;36m<cell line: 2>\u001B[1;34m()\u001B[0m\n\u001B[0;32m      1\u001B[0m \u001B[38;5;28;01mfrom\u001B[39;00m \u001B[38;5;21;01mskimage\u001B[39;00m\u001B[38;5;21;01m.\u001B[39;00m\u001B[38;5;21;01mfeature\u001B[39;00m \u001B[38;5;28;01mimport\u001B[39;00m hog\n\u001B[1;32m----> 2\u001B[0m fd, hog_image \u001B[38;5;241m=\u001B[39m \u001B[43mhog\u001B[49m\u001B[43m(\u001B[49m\u001B[43mimage\u001B[49m\u001B[43m,\u001B[49m\u001B[43m \u001B[49m\u001B[43morientations\u001B[49m\u001B[38;5;241;43m=\u001B[39;49m\u001B[38;5;241;43m9\u001B[39;49m\u001B[43m,\u001B[49m\u001B[43m \u001B[49m\u001B[43mpixels_per_cell\u001B[49m\u001B[38;5;241;43m=\u001B[39;49m\u001B[43m(\u001B[49m\u001B[38;5;241;43m8\u001B[39;49m\u001B[43m,\u001B[49m\u001B[43m \u001B[49m\u001B[38;5;241;43m8\u001B[39;49m\u001B[43m)\u001B[49m\u001B[43m,\u001B[49m\n\u001B[0;32m      3\u001B[0m \u001B[43m                    \u001B[49m\u001B[43mcells_per_block\u001B[49m\u001B[38;5;241;43m=\u001B[39;49m\u001B[43m(\u001B[49m\u001B[38;5;241;43m2\u001B[39;49m\u001B[43m,\u001B[49m\u001B[43m \u001B[49m\u001B[38;5;241;43m2\u001B[39;49m\u001B[43m)\u001B[49m\u001B[43m,\u001B[49m\u001B[43m \u001B[49m\u001B[43mvisualize\u001B[49m\u001B[38;5;241;43m=\u001B[39;49m\u001B[38;5;28;43;01mTrue\u001B[39;49;00m\u001B[43m,\u001B[49m\u001B[43m \u001B[49m\u001B[43mmultichannel\u001B[49m\u001B[38;5;241;43m=\u001B[39;49m\u001B[38;5;28;43;01mTrue\u001B[39;49;00m\u001B[43m)\u001B[49m\n",
      "File \u001B[1;32m~\\.conda\\envs\\celldev\\lib\\site-packages\\skimage\\_shared\\utils.py:394\u001B[0m, in \u001B[0;36mchannel_as_last_axis.__call__.<locals>.fixed_func\u001B[1;34m(*args, **kwargs)\u001B[0m\n\u001B[0;32m    391\u001B[0m channel_axis \u001B[38;5;241m=\u001B[39m kwargs\u001B[38;5;241m.\u001B[39mget(\u001B[38;5;124m'\u001B[39m\u001B[38;5;124mchannel_axis\u001B[39m\u001B[38;5;124m'\u001B[39m, \u001B[38;5;28;01mNone\u001B[39;00m)\n\u001B[0;32m    393\u001B[0m \u001B[38;5;28;01mif\u001B[39;00m channel_axis \u001B[38;5;129;01mis\u001B[39;00m \u001B[38;5;28;01mNone\u001B[39;00m:\n\u001B[1;32m--> 394\u001B[0m     \u001B[38;5;28;01mreturn\u001B[39;00m \u001B[43mfunc\u001B[49m\u001B[43m(\u001B[49m\u001B[38;5;241;43m*\u001B[39;49m\u001B[43margs\u001B[49m\u001B[43m,\u001B[49m\u001B[43m \u001B[49m\u001B[38;5;241;43m*\u001B[39;49m\u001B[38;5;241;43m*\u001B[39;49m\u001B[43mkwargs\u001B[49m\u001B[43m)\u001B[49m\n\u001B[0;32m    396\u001B[0m \u001B[38;5;66;03m# TODO: convert scalars to a tuple in anticipation of eventually\u001B[39;00m\n\u001B[0;32m    397\u001B[0m \u001B[38;5;66;03m#       supporting a tuple of channel axes. Right now, only an\u001B[39;00m\n\u001B[0;32m    398\u001B[0m \u001B[38;5;66;03m#       integer or a single-element tuple is supported, though.\u001B[39;00m\n\u001B[0;32m    399\u001B[0m \u001B[38;5;28;01mif\u001B[39;00m np\u001B[38;5;241m.\u001B[39misscalar(channel_axis):\n",
      "File \u001B[1;32m~\\.conda\\envs\\celldev\\lib\\site-packages\\skimage\\_shared\\utils.py:348\u001B[0m, in \u001B[0;36mdeprecate_multichannel_kwarg.__call__.<locals>.fixed_func\u001B[1;34m(*args, **kwargs)\u001B[0m\n\u001B[0;32m    345\u001B[0m     kwargs[\u001B[38;5;124m'\u001B[39m\u001B[38;5;124mchannel_axis\u001B[39m\u001B[38;5;124m'\u001B[39m] \u001B[38;5;241m=\u001B[39m convert[kwargs\u001B[38;5;241m.\u001B[39mpop(\u001B[38;5;124m'\u001B[39m\u001B[38;5;124mmultichannel\u001B[39m\u001B[38;5;124m'\u001B[39m)]\n\u001B[0;32m    347\u001B[0m \u001B[38;5;66;03m# Call the function with the fixed arguments\u001B[39;00m\n\u001B[1;32m--> 348\u001B[0m \u001B[38;5;28;01mreturn\u001B[39;00m \u001B[43mfunc\u001B[49m\u001B[43m(\u001B[49m\u001B[38;5;241;43m*\u001B[39;49m\u001B[43margs\u001B[49m\u001B[43m,\u001B[49m\u001B[43m \u001B[49m\u001B[38;5;241;43m*\u001B[39;49m\u001B[38;5;241;43m*\u001B[39;49m\u001B[43mkwargs\u001B[49m\u001B[43m)\u001B[49m\n",
      "File \u001B[1;32m~\\.conda\\envs\\celldev\\lib\\site-packages\\skimage\\feature\\_hog.py:284\u001B[0m, in \u001B[0;36mhog\u001B[1;34m(image, orientations, pixels_per_cell, cells_per_block, block_norm, visualize, transform_sqrt, feature_vector, multichannel, channel_axis)\u001B[0m\n\u001B[0;32m    282\u001B[0m n_blocks_row \u001B[38;5;241m=\u001B[39m (n_cells_row \u001B[38;5;241m-\u001B[39m b_row) \u001B[38;5;241m+\u001B[39m \u001B[38;5;241m1\u001B[39m\n\u001B[0;32m    283\u001B[0m n_blocks_col \u001B[38;5;241m=\u001B[39m (n_cells_col \u001B[38;5;241m-\u001B[39m b_col) \u001B[38;5;241m+\u001B[39m \u001B[38;5;241m1\u001B[39m\n\u001B[1;32m--> 284\u001B[0m normalized_blocks \u001B[38;5;241m=\u001B[39m \u001B[43mnp\u001B[49m\u001B[38;5;241;43m.\u001B[39;49m\u001B[43mzeros\u001B[49m\u001B[43m(\u001B[49m\n\u001B[0;32m    285\u001B[0m \u001B[43m    \u001B[49m\u001B[43m(\u001B[49m\u001B[43mn_blocks_row\u001B[49m\u001B[43m,\u001B[49m\u001B[43m \u001B[49m\u001B[43mn_blocks_col\u001B[49m\u001B[43m,\u001B[49m\u001B[43m \u001B[49m\u001B[43mb_row\u001B[49m\u001B[43m,\u001B[49m\u001B[43m \u001B[49m\u001B[43mb_col\u001B[49m\u001B[43m,\u001B[49m\u001B[43m \u001B[49m\u001B[43morientations\u001B[49m\u001B[43m)\u001B[49m\u001B[43m,\u001B[49m\n\u001B[0;32m    286\u001B[0m \u001B[43m    \u001B[49m\u001B[43mdtype\u001B[49m\u001B[38;5;241;43m=\u001B[39;49m\u001B[43mfloat_dtype\u001B[49m\n\u001B[0;32m    287\u001B[0m \u001B[43m\u001B[49m\u001B[43m)\u001B[49m\n\u001B[0;32m    289\u001B[0m \u001B[38;5;28;01mfor\u001B[39;00m r \u001B[38;5;129;01min\u001B[39;00m \u001B[38;5;28mrange\u001B[39m(n_blocks_row):\n\u001B[0;32m    290\u001B[0m     \u001B[38;5;28;01mfor\u001B[39;00m c \u001B[38;5;129;01min\u001B[39;00m \u001B[38;5;28mrange\u001B[39m(n_blocks_col):\n",
      "\u001B[1;31mValueError\u001B[0m: negative dimensions are not allowed"
     ]
    }
   ],
   "source": [
    "from skimage.feature import hog\n",
    "fd, hog_image = hog(image, orientations=9, pixels_per_cell=(8, 8),\n",
    "                    cells_per_block=(2, 2), visualize=True, multichannel=True)"
   ],
   "metadata": {
    "collapsed": false,
    "pycharm": {
     "name": "#%%\n"
    }
   }
  },
  {
   "cell_type": "code",
   "execution_count": 91,
   "outputs": [],
   "source": [
    "dapi_crops_flat_pad = get_crops_flat_pad(df,'dapi_crops')\n",
    "cyclina2_crops_flat_pad = get_crops_flat_pad(df,'cyclina2_crops')\n",
    "edu_crops_flat_pad = get_crops_flat_pad(df,'edu_crops')"
   ],
   "metadata": {
    "collapsed": false,
    "pycharm": {
     "name": "#%%\n"
    }
   }
  },
  {
   "cell_type": "code",
   "execution_count": 5,
   "outputs": [],
   "source": [
    "def get_label_values(df):\n",
    "    dapi_values = []\n",
    "    cyclina2_values = []\n",
    "    edu_values = []\n",
    "    dna_values = []\n",
    "    pcna_values = []\n",
    "    for i in range(len(df)):\n",
    "        dapi_values.append(df['dapi_values'][i])\n",
    "        cyclina2_values.append(df['cyclina2_values'][i])\n",
    "        edu_values.append(df['edu_values'][i])\n",
    "        dna_values.append(df['DNA_content'][i])\n",
    "        pcna_values.append(df['pcna_values'][i])\n",
    "    dapi_values = np.array(dapi_values)\n",
    "    cyclina2_values = np.array(cyclina2_values)\n",
    "    edu_values = np.array(edu_values)\n",
    "    dna_values = np.array(dna_values)\n",
    "    pcna_values = np.array(pcna_values)\n",
    "\n",
    "    return dapi_values,cyclina2_values,edu_values,dna_values, pcna_values\n",
    "\n",
    "dapi_values, cyclina2_values, edu_values, dna_values, pcna_values = get_label_values(df)"
   ],
   "metadata": {
    "collapsed": false,
    "pycharm": {
     "name": "#%%\n"
    }
   }
  },
  {
   "cell_type": "code",
   "execution_count": 11,
   "outputs": [],
   "source": [
    "from sklearn.model_selection import train_test_split\n",
    "from sklearn.linear_model import LinearRegression\n",
    "from statistics import mean\n",
    "\n",
    "def off_score(model,X,y):\n",
    "    predictions = model.predict(X)\n",
    "    result = abs(predictions - y)\n",
    "    return mean(result)\n",
    "\n",
    "def off_perc(model,X,y):\n",
    "    predictions = model.predict(X)\n",
    "    result = abs(predictions - y)\n",
    "    percentage_off = []\n",
    "    for i in range(len(predictions)):\n",
    "        percentage_off.append(result[i]*100/y[i])\n",
    "    mean_perc = mean(percentage_off)\n",
    "    return 100 - mean_perc\n",
    "\n",
    "def get_reg_model(images,values):\n",
    "    X_train, X_test, y_train, y_test = train_test_split(images, values, test_size=0.4, random_state=42)\n",
    "    reg = LinearRegression().fit(X_train,y_train)\n",
    "    print('Off score:',off_score(reg,X_test,y_test),'|','Accuracy:',str(round(off_perc(reg,X_test,y_test),2)) + '%')\n",
    "    return reg"
   ],
   "metadata": {
    "collapsed": false,
    "pycharm": {
     "name": "#%%\n"
    }
   }
  },
  {
   "cell_type": "code",
   "execution_count": null,
   "outputs": [],
   "source": [
    "dapi_mod = get_reg_model(pcna_crops_flat_pad,dapi_values)\n",
    "cyclina2_mod = get_reg_model(pcna_crops_flat_pad,cyclina2_values)\n",
    "edu_mod = get_reg_model(pcna_crops_flat_pad,edu_values)\n",
    "dna_mod = get_reg_model(pcna_crops_flat_pad,dna_values)"
   ],
   "metadata": {
    "collapsed": false,
    "pycharm": {
     "name": "#%%\n"
    }
   }
  },
  {
   "cell_type": "code",
   "execution_count": 4,
   "outputs": [],
   "source": [
    "#Need to make a column with the label of the cells\n",
    "\n",
    "def get_cell_labels(df):\n",
    "    g1_indices = df[(df['G1_Phase'] == True)].index\n",
    "    s_indices = df[(df['S_Phase'] == True)].index\n",
    "    g2_m_indices = df[(df['G2_M_Phase'] == True)].index\n",
    "\n",
    "    #make an array that is the length of all of these indices put into one, that is made of 0s\n",
    "    #replace the 0s accordingly by which phase index they correspond to\n",
    "\n",
    "    cell_labels = np.arange(len(g1_indices)+len(s_indices)+len(g2_m_indices))\n",
    "\n",
    "    np.put(cell_labels,g1_indices,np.zeros(len(g1_indices)))\n",
    "    np.put(cell_labels,s_indices,np.ones(len(s_indices)))\n",
    "    np.put(cell_labels,g2_m_indices,np.full(len(g2_m_indices),2))\n",
    "\n",
    "    return cell_labels\n",
    "\n",
    "cell_labels = get_cell_labels(df)"
   ],
   "metadata": {
    "collapsed": false,
    "pycharm": {
     "name": "#%%\n"
    }
   }
  },
  {
   "cell_type": "code",
   "execution_count": 8,
   "outputs": [
    {
     "name": "stdout",
     "output_type": "stream",
     "text": [
      "126486\n",
      "126486\n"
     ]
    }
   ],
   "source": [
    "print(len(pcna_crops_flat_pad))\n",
    "print(len(cell_labels))"
   ],
   "metadata": {
    "collapsed": false,
    "pycharm": {
     "name": "#%%\n"
    }
   }
  },
  {
   "cell_type": "code",
   "execution_count": 12,
   "outputs": [
    {
     "name": "stdout",
     "output_type": "stream",
     "text": [
      "Off score: 0.5087350430985463 | Accuracy: -inf%\n"
     ]
    },
    {
     "name": "stderr",
     "output_type": "stream",
     "text": [
      "C:\\Users\\rz200\\AppData\\Local\\Temp\\ipykernel_19392\\1862398129.py:15: RuntimeWarning: divide by zero encountered in double_scalars\n",
      "  percentage_off.append(result[i]*100/y[i])\n"
     ]
    }
   ],
   "source": [
    "#Flat PCNA images to label\n",
    "pcna_flat_mod = get_reg_model(pcna_crops_flat_pad,cell_labels)"
   ],
   "metadata": {
    "collapsed": false,
    "pycharm": {
     "name": "#%%\n"
    }
   }
  },
  {
   "cell_type": "code",
   "execution_count": 22,
   "outputs": [
    {
     "data": {
      "text/plain": "0.0"
     },
     "execution_count": 22,
     "metadata": {},
     "output_type": "execute_result"
    }
   ],
   "source": [
    "np.round(0.5)"
   ],
   "metadata": {
    "collapsed": false,
    "pycharm": {
     "name": "#%%\n"
    }
   }
  },
  {
   "cell_type": "code",
   "execution_count": 35,
   "outputs": [
    {
     "name": "stdout",
     "output_type": "stream",
     "text": [
      "Accuracy: 74.21879632374741\n"
     ]
    }
   ],
   "source": [
    "#Flat PCNA images to just predict g1\n",
    "\n",
    "#Here we will change cell_labels for all of the 0s to be 1s and all of the 1s and 2s to be 0s\n",
    "#That will mean that not G1 is 0, and G1 is 1\n",
    "g1_labels = [] #we will store in there the 0s for 1s and 2s in cell_labels and 1s for the 0s that correspond to G1\n",
    "for label in cell_labels:\n",
    "    if label == 0: #thats a G1\n",
    "        g1_labels.append(1)\n",
    "    else: g1_labels.append(0)\n",
    "\n",
    "#Now lets train a model on this\n",
    "images = pcna_crops_flat_pad\n",
    "values = g1_labels\n",
    "X_train, X_test, y_train, y_test = train_test_split(images, values, test_size=0.4, random_state=42)\n",
    "reg = LinearRegression().fit(X_train,y_train)\n",
    "predictions = np.round(reg.predict(X_test)).astype(int) #rounding the values to 0 or 1\n",
    "correct = np.count_nonzero(y_test == predictions)\n",
    "print('Accuracy:',correct*100/len(X_test))"
   ],
   "metadata": {
    "collapsed": false,
    "pycharm": {
     "name": "#%%\n"
    }
   }
  },
  {
   "cell_type": "code",
   "execution_count": 32,
   "outputs": [
    {
     "name": "stdout",
     "output_type": "stream",
     "text": [
      "Accuracy: 70.75798003755312\n"
     ]
    }
   ],
   "source": [
    "#Flat PCNA images to just predict s\n",
    "\n",
    "s_labels = []\n",
    "for label in cell_labels:\n",
    "    if label == 1: #that an S\n",
    "        s_labels.append(1)\n",
    "    else: s_labels.append(0)\n",
    "\n",
    "#Now lets train a model on this\n",
    "images = pcna_crops_flat_pad\n",
    "values = s_labels\n",
    "\n",
    "X_train, X_test, y_train, y_test = train_test_split(images, values, test_size=0.4, random_state=42)\n",
    "reg = LinearRegression().fit(X_train,y_train)\n",
    "predictions = np.round(reg.predict(X_test)).astype(int) #rounding the values to 0 or 1\n",
    "correct = np.count_nonzero(y_test == predictions)\n",
    "print('Accuracy:',correct*100/len(X_test))"
   ],
   "metadata": {
    "collapsed": false,
    "pycharm": {
     "name": "#%%\n"
    }
   }
  },
  {
   "cell_type": "code",
   "execution_count": 36,
   "outputs": [
    {
     "name": "stdout",
     "output_type": "stream",
     "text": [
      "Accuracy: 76.60836050993181\n"
     ]
    }
   ],
   "source": [
    "#Flat PCNA images to just predict G2/M\n",
    "\n",
    "g2_m_labels = [2 if label==2 else 0 for label in cell_labels]\n",
    "\n",
    "#Now lets train a model on this\n",
    "images = pcna_crops_flat_pad\n",
    "values = g2_m_labels\n",
    "\n",
    "X_train, X_test, y_train, y_test = train_test_split(images, values, test_size=0.4, random_state=42)\n",
    "reg = LinearRegression().fit(X_train,y_train)\n",
    "predictions = np.round(reg.predict(X_test)).astype(int) #rounding the values to 0 or 1\n",
    "correct = np.count_nonzero(y_test == predictions)\n",
    "print('Accuracy:',correct*100/len(X_test))"
   ],
   "metadata": {
    "collapsed": false,
    "pycharm": {
     "name": "#%%\n"
    }
   }
  },
  {
   "cell_type": "code",
   "execution_count": 86,
   "outputs": [
    {
     "name": "stdout",
     "output_type": "stream",
     "text": [
      "59819 49162 17505\n"
     ]
    }
   ],
   "source": [
    "count_0 = 0\n",
    "count_1 = 0\n",
    "count_2 = 0\n",
    "for label in cell_labels:\n",
    "    if label == 0: count_0+=1\n",
    "    if label == 1: count_1+=1\n",
    "    if label == 2: count_2+=1\n",
    "print(count_0,count_1,count_2)"
   ],
   "metadata": {
    "collapsed": false,
    "pycharm": {
     "name": "#%%\n"
    }
   }
  },
  {
   "cell_type": "code",
   "execution_count": 52,
   "outputs": [
    {
     "name": "stdout",
     "output_type": "stream",
     "text": [
      "(6325,)\n",
      "Accuracy: 64.300395256917\n"
     ]
    }
   ],
   "source": [
    "#Lets make an MLP that aggregates these three models\n",
    "from sklearn.neural_network import MLPClassifier\n",
    "images = pcna_crops_flat_pad\n",
    "\n",
    "#train1: for G1,S,G2 reg models\n",
    "#test2: split for 3.train mlp with reg model predictions 4.test entire model\n",
    "\n",
    "X_train_1, X_test_2, y_train_1, y_test_2 = train_test_split(images, cell_labels, test_size=0.5, random_state=1)\n",
    "X_train_3, X_test_4, y_train_3, y_test_4 = train_test_split(X_test_2, y_test_2, test_size=0.1, random_state=1)\n",
    "\n",
    "#First we get the data for each model\n",
    "g1_labels = [1 if label==0 else 0 for label in y_train_1]\n",
    "s_labels = [1 if label==1 else 0 for label in y_train_1]\n",
    "g2_m_labels = [1 if label==2 else 0 for label in y_train_1]\n",
    "\n",
    "#Then we train each model on the X_train\n",
    "g1_mod = LinearRegression().fit(X_train_1,g1_labels)\n",
    "s_mod = LinearRegression().fit(X_train_1,s_labels)\n",
    "g2_m_mod = LinearRegression().fit(X_train_1,g2_m_labels)\n",
    "\n",
    "#Then we make it make predictions on the X_test (we want the confidence not binarised, although we could try binarised after)\n",
    "preds_g1 = g1_mod.predict(X_train_3)\n",
    "preds_s = s_mod.predict(X_train_3)\n",
    "preds_g2_m = g2_m_mod.predict(X_train_3)\n",
    "preds = np.dstack((preds_g1,preds_s,preds_g2_m)) #aggregate these predictions into np arrays of 3 values each\n",
    "\n",
    "#Then we train an MLP on this\n",
    "mlp = MLPClassifier(random_state=1, max_iter=300).fit(preds.squeeze(), y_train_3)\n",
    "\n",
    "#Then we predict for entire model\n",
    "#Pipeline starts with predicting from images on the reg models, and using those to make predictions with mlp\n",
    "preds_g1 = g1_mod.predict(X_test_4)\n",
    "preds_s = s_mod.predict(X_test_4)\n",
    "preds_g2_m = g2_m_mod.predict(X_test_4)\n",
    "preds = np.dstack((preds_g1,preds_s,preds_g2_m))\n",
    "whole_predictions = mlp.predict(preds.squeeze())\n",
    "\n",
    "print(whole_predictions.shape)\n",
    "correct = np.count_nonzero(y_test_4 == whole_predictions)\n",
    "print('Accuracy:',correct*100/len(whole_predictions))"
   ],
   "metadata": {
    "collapsed": false,
    "pycharm": {
     "name": "#%%\n"
    }
   }
  },
  {
   "cell_type": "code",
   "execution_count": 87,
   "outputs": [
    {
     "name": "stdout",
     "output_type": "stream",
     "text": [
      "Accuracy: 64.1659931831758\n"
     ]
    }
   ],
   "source": [
    "#What if instead of using an MLP classifier we just took the most confident one\n",
    "\n",
    "images = pcna_crops_flat_pad\n",
    "\n",
    "#train1: for G1,S,G2 reg models\n",
    "#test2: split for 3.train mlp with reg model predictions 4.test entire model\n",
    "\n",
    "X_train_1, X_test_2, y_train_1, y_test_2 = train_test_split(images, cell_labels, test_size=0.5, random_state=1)\n",
    "X_train_3, X_test_4, y_train_3, y_test_4 = train_test_split(X_test_2, y_test_2, test_size=0.1, random_state=1)\n",
    "\n",
    "#First we get the data for each model\n",
    "g1_labels = [1 if label==0 else 0 for label in y_train_1]\n",
    "s_labels = [1 if label==1 else 0 for label in y_train_1]\n",
    "g2_m_labels = [1 if label==2 else 0 for label in y_train_1]\n",
    "\n",
    "#Then we train each model on the X_train\n",
    "g1_mod = LinearRegression().fit(X_train_1,g1_labels)\n",
    "s_mod = LinearRegression().fit(X_train_1,s_labels)\n",
    "g2_m_mod = LinearRegression().fit(X_train_1,g2_m_labels)\n",
    "\n",
    "#Then we make it make predictions on the X_test (we want the confidence not binarised, although we could try binarised after)\n",
    "preds_g1 = g1_mod.predict(X_train_3)\n",
    "preds_s = s_mod.predict(X_train_3)\n",
    "preds_g2_m = g2_m_mod.predict(X_train_3)\n",
    "preds = np.dstack((preds_g1,preds_s,preds_g2_m)) #aggregate these predictions into np arrays of 3 values each\n",
    "\n",
    "#For the preds, get the index of the max value and that the prediction\n",
    "preds = preds.squeeze()\n",
    "phase_preds = []\n",
    "for pred in preds:\n",
    "    phase_preds.append(np.int32(np.argmax(pred)))\n",
    "#print(np.array(phase_preds) == y_test_4)\n",
    "correct = np.count_nonzero(y_train_3 == phase_preds)\n",
    "\n",
    "print('Accuracy:',correct*100/len(phase_preds))"
   ],
   "metadata": {
    "collapsed": false,
    "pycharm": {
     "name": "#%%\n"
    }
   }
  },
  {
   "cell_type": "code",
   "execution_count": 88,
   "outputs": [
    {
     "name": "stdout",
     "output_type": "stream",
     "text": [
      "Accuracy: 75.55292024903646\n"
     ]
    }
   ],
   "source": [
    "#Using gradient boosting classifier just for g1\n",
    "from sklearn.ensemble import GradientBoostingClassifier\n",
    "\n",
    "g1_labels = [1 if label==0 else 0 for label in cell_labels]\n",
    "\n",
    "#Now lets train a model on this\n",
    "images = pcna_crops_flat_pad\n",
    "values = g1_labels\n",
    "X_train, X_test, y_train, y_test = train_test_split(images, values, test_size=0.4, random_state=42)\n",
    "\n",
    "gbc = GradientBoostingClassifier(n_estimators=100, learning_rate=1.0, max_depth=1, random_state=0).fit(X_train, y_train)\n",
    "\n",
    "predictions = np.round(gbc.predict(X_test)).astype(int) #rounding the values to 0 or 1\n",
    "correct = np.count_nonzero(y_test == predictions)\n",
    "print('Accuracy:',correct*100/len(X_test))"
   ],
   "metadata": {
    "collapsed": false,
    "pycharm": {
     "name": "#%%\n"
    }
   }
  },
  {
   "cell_type": "code",
   "execution_count": null,
   "outputs": [],
   "source": [
    "#What if we made a binary confidence classifier as we did with PCNA but for each channel\n",
    "#So we flatten the crops of each channel and we train a model to predict the phase on each\n",
    "#Then, we aggregate the average confidence for each phase and the most confident is the phase\n",
    "\n",
    "#We should first try making an ensemble learning from the flattened of each phase just with the g1 phase as a binary classifier"
   ],
   "metadata": {
    "collapsed": false,
    "pycharm": {
     "name": "#%%\n"
    }
   }
  },
  {
   "cell_type": "code",
   "execution_count": 114,
   "outputs": [],
   "source": [
    "from statistics import mean\n",
    "\n",
    "def all_chans_flat_pred_one_phase(crops,labels):\n",
    "    pcna_crops = crops[0]\n",
    "    dapi_crops = crops[1]\n",
    "    edu_crops = crops[2]\n",
    "    cyclina2_crops = crops[3]\n",
    "\n",
    "    #PCNA model\n",
    "    X_train, X_test, y_train, y_test = train_test_split(pcna_crops, labels, test_size=0.4, random_state=42)\n",
    "    pcna_mod = LinearRegression().fit(X_train,y_train)\n",
    "    print('PCNA accuracy:',np.count_nonzero(y_test == np.round(pcna_mod.predict(X_test)).astype(int))*100/len(X_test))\n",
    "    conf_pcna = pcna_mod.predict(X_test)\n",
    "\n",
    "    #DAPI model\n",
    "    X_train, X_test, y_train, y_test = train_test_split(dapi_crops, labels, test_size=0.4, random_state=42)\n",
    "    dapi_mod = LinearRegression().fit(X_train,y_train)\n",
    "    print('DAPI accuracy:',np.count_nonzero(y_test == np.round(dapi_mod.predict(X_test)).astype(int))*100/len(X_test))\n",
    "    conf_dapi = dapi_mod.predict(X_test)\n",
    "\n",
    "    #EdU model\n",
    "    X_train, X_test, y_train, y_test = train_test_split(edu_crops, labels, test_size=0.4, random_state=42)\n",
    "    edu_mod = LinearRegression().fit(X_train,y_train)\n",
    "    print('EDU accuracy:',np.count_nonzero(y_test == np.round(edu_mod.predict(X_test)).astype(int))*100/len(X_test))\n",
    "    conf_edu = edu_mod.predict(X_test)\n",
    "\n",
    "    #CyclinA2 model\n",
    "    X_train, X_test, y_train, y_test = train_test_split(cyclina2_crops, labels, test_size=0.4, random_state=42)\n",
    "    cyclina2_mod = LinearRegression().fit(X_train,y_train)\n",
    "    print('CyclinA2 accuracy:',np.count_nonzero(y_test == np.round(cyclina2_mod.predict(X_test)).astype(int))*100/len(X_test))\n",
    "    conf_cyclina2 = cyclina2_mod.predict(X_test)\n",
    "\n",
    "    conf_tot = []\n",
    "    for i in range(len(conf_pcna)):\n",
    "        conf_tot.append(mean([conf_pcna[i],conf_dapi[i],conf_edu[i],conf_cyclina2[i]]))\n",
    "    conf_tot_round = np.round(conf_tot)\n",
    "    overall_acc = np.count_nonzero(y_test == conf_tot_round.astype(int))*100/len(X_test)\n",
    "\n",
    "    print('Overall acc:',overall_acc)"
   ],
   "metadata": {
    "collapsed": false,
    "pycharm": {
     "name": "#%%\n"
    }
   }
  },
  {
   "cell_type": "code",
   "execution_count": 115,
   "outputs": [
    {
     "name": "stdout",
     "output_type": "stream",
     "text": [
      "PCNA accuracy: 74.21879632374741\n",
      "DAPI accuracy: 72.91431959679811\n",
      "EDU accuracy: 65.61122640577132\n",
      "CyclinA2 accuracy: 75.30190730309319\n",
      "Overall acc: 78.04526138946537\n"
     ]
    }
   ],
   "source": [
    "g1_labels = [1 if label==0 else 0 for label in cell_labels]\n",
    "crops = [pcna_crops_flat_pad,dapi_crops_flat_pad,edu_crops_flat_pad,cyclina2_crops_flat_pad]\n",
    "all_chans_flat_pred_one_phase(crops,g1_labels)\n"
   ],
   "metadata": {
    "collapsed": false,
    "pycharm": {
     "name": "#%%\n"
    }
   }
  },
  {
   "cell_type": "code",
   "execution_count": 116,
   "outputs": [
    {
     "name": "stdout",
     "output_type": "stream",
     "text": [
      "PCNA accuracy: 70.75798003755312\n",
      "DAPI accuracy: 61.74325526237771\n",
      "EDU accuracy: 80.22334222749284\n",
      "CyclinA2 accuracy: 67.58770629508845\n",
      "Overall acc: 77.88714299831999\n"
     ]
    }
   ],
   "source": [
    "s_labels = [1 if label==1 else 0 for label in cell_labels]\n",
    "crops = [pcna_crops_flat_pad,dapi_crops_flat_pad,edu_crops_flat_pad,cyclina2_crops_flat_pad]\n",
    "all_chans_flat_pred_one_phase(crops,s_labels)"
   ],
   "metadata": {
    "collapsed": false,
    "pycharm": {
     "name": "#%%\n"
    }
   }
  },
  {
   "cell_type": "code",
   "execution_count": 117,
   "outputs": [
    {
     "name": "stdout",
     "output_type": "stream",
     "text": [
      "PCNA accuracy: 85.88793359027572\n",
      "DAPI accuracy: 88.62733471686926\n",
      "EDU accuracy: 85.95315742662318\n",
      "CyclinA2 accuracy: 91.53473663405475\n",
      "Overall acc: 87.6509536515466\n"
     ]
    }
   ],
   "source": [
    "g2_m_labels = [1 if label==2 else 0 for label in cell_labels]\n",
    "crops = [pcna_crops_flat_pad,dapi_crops_flat_pad,edu_crops_flat_pad,cyclina2_crops_flat_pad]\n",
    "all_chans_flat_pred_one_phase(crops,g2_m_labels)"
   ],
   "metadata": {
    "collapsed": false,
    "pycharm": {
     "name": "#%%\n"
    }
   }
  },
  {
   "cell_type": "code",
   "execution_count": 107,
   "outputs": [
    {
     "name": "stdout",
     "output_type": "stream",
     "text": [
      "78.04526138946537\n"
     ]
    }
   ],
   "source": [
    "print(np.count_nonzero(y_test == conf_tot_round.astype(int))*100/len(X_test))"
   ],
   "metadata": {
    "collapsed": false,
    "pycharm": {
     "name": "#%%\n"
    }
   }
  },
  {
   "cell_type": "code",
   "execution_count": 119,
   "outputs": [],
   "source": [
    "#I'd like to plot the values of each cells and color them with their labels\n",
    "\n",
    "#First lets get each DAPI, EdU etc. values\n",
    "def get_crops_flat_pad(df):\n",
    "    pcna_val = []\n",
    "    dapi_val = []\n",
    "    edu_val = []\n",
    "    cyclina2_val = []\n",
    "    dna_val = []\n",
    "    for i in range(len(df)):\n",
    "        pcna_val.append(df['pcna_values'][i])\n",
    "        dapi_val.append(df['dapi_values'][i])\n",
    "        edu_val.append(df['edu_values'][i])\n",
    "        cyclina2_val.append(df['cyclina2_values'][i])\n",
    "        dna_val.append(df['DNA_content'][i])\n",
    "\n",
    "    return pcna_val,dapi_val,edu_val,cyclina2_val,dna_val\n",
    "\n",
    "pcna_val,dapi_val,edu_val,cyclina2_val,dna_val = get_crops_flat_pad(df)\n",
    "\n",
    "#Second lets get the corresponding label values\n",
    "cell_labels = get_cell_labels(df)\n"
   ],
   "metadata": {
    "collapsed": false,
    "pycharm": {
     "name": "#%%\n"
    }
   }
  },
  {
   "cell_type": "code",
   "execution_count": 127,
   "outputs": [
    {
     "data": {
      "text/plain": "<Figure size 432x288 with 1 Axes>",
      "image/png": "[encoded data removed]"
     },
     "metadata": {
      "needs_background": "light"
     },
     "output_type": "display_data"
    },
    {
     "data": {
      "text/plain": "<Figure size 432x288 with 1 Axes>",
      "image/png": "[encoded data removed]"
     },
     "metadata": {
      "needs_background": "light"
     },
     "output_type": "display_data"
    },
    {
     "data": {
      "text/plain": "<Figure size 432x288 with 1 Axes>",
      "image/png": "[encoded data removed]"
     },
     "metadata": {
      "needs_background": "light"
     },
     "output_type": "display_data"
    },
    {
     "data": {
      "text/plain": "<Figure size 432x288 with 1 Axes>",
      "image/png": "[encoded data removed]"
     },
     "metadata": {
      "needs_background": "light"
     },
     "output_type": "display_data"
    }
   ],
   "source": [
    "#Scatter plot each with a color\n",
    "import matplotlib.pyplot as plt\n",
    "\n",
    "colors = {0:'red', 1:'green', 2:'blue'}\n",
    "#cell_labels_arr = list(cell_labels)\n",
    "for i in range(len(pcna_val[:100])):\n",
    "    plt.scatter(pcna_val[i],dna_val[i],c=colors[cell_labels[i]])\n",
    "plt.show()\n",
    "\n",
    "for i in range(len(pcna_val[:100])):\n",
    "    plt.scatter(dapi_val[i],dna_val[i],c=colors[cell_labels[i]])\n",
    "plt.show()\n",
    "\n",
    "for i in range(len(pcna_val[:100])):\n",
    "    plt.scatter(edu_val[i],dna_val[i],c=colors[cell_labels[i]])\n",
    "plt.show()\n",
    "\n",
    "for i in range(len(pcna_val[:100])):\n",
    "    plt.scatter(cyclina2_val[i],dna_val[i],c=colors[cell_labels[i]])\n",
    "plt.show()\n",
    "#plt.scatter(pcna_val,dna_val,c=colors[cell_labels_arr])"
   ],
   "metadata": {
    "collapsed": false,
    "pycharm": {
     "name": "#%%\n"
    }
   }
  },
  {
   "cell_type": "code",
   "execution_count": 133,
   "outputs": [
    {
     "data": {
      "text/plain": "array([20.9811195 , 21.2705751 , 22.07082885, 23.0711454 , 22.94344395,\n       22.0410321 , 23.08817175, 22.54331835, 23.30100495, 23.3648544 ,\n       22.68378765, 23.7947793 , 24.05869155, 23.5095822 , 21.9814386 ,\n       23.9948421 , 23.91822225, 23.9607894 , 23.2031028 , 22.31771475,\n       22.56460065, 22.9051353 , 22.05379995, 22.5731151 , 22.7050725 ,\n       23.3563425 , 22.93067355, 22.36453785, 22.0367736 , 22.37730825,\n       23.5819461 , 24.48861645, 24.28429515, 24.70996155, 25.8337236 ,\n       24.86745975, 24.6461121 , 25.1696832 , 23.50106775, 22.8668241 ,\n       22.98175515, 21.8835339 , 23.61174285, 21.5515137 , 23.415936  ,\n       21.6707007 , 24.64185615, 23.18181795, 21.6025953 , 24.04592115,\n       22.6412205 , 24.13105545, 24.62908575, 24.2332161 , 28.1067834 ,\n       32.5294626 , 31.92927165, 34.25341305, 31.9846092 , 29.7583725 ,\n       25.69751025, 24.8334045 , 23.65856595, 25.4761626 , 22.0027209 ,\n       22.8923649 , 23.5095822 , 23.13499485, 23.34782805, 22.67527575,\n       21.81117   , 23.6415396 , 25.4548803 , 24.05869155, 26.00398965,\n       29.19223425, 39.31885035, 43.1753913 , 40.3872723 , 40.246803  ,\n       38.65480995, 38.4590031 , 34.8067809 , 27.81733035, 25.41231315,\n       22.49649525, 24.1821345 , 25.076037  , 22.7859483 , 23.76498255,\n       23.3989071 , 23.96504535, 22.5943974 , 22.94770245, 23.3435721 ,\n       25.3101525 , 30.2393739 , 38.4334623 , 45.3803457 , 45.1292013 ,\n       45.8570937 , 44.00118585, 40.1148456 , 39.42526695, 39.10175865,\n       33.48295605, 27.6428058 , 23.93099265, 22.9264176 , 23.1051981 ,\n       22.96898475, 21.7090119 , 22.31771475, 21.5983368 , 22.71784035,\n       24.5396955 , 24.9653619 , 30.92469915, 40.0339698 , 45.37608975,\n       48.63669825, 44.93339445, 46.172085  , 47.19794235, 46.21465215,\n       42.5496621 , 38.86764315, 38.47602945, 32.2825767 , 25.9997337 ,\n       24.186393  , 23.88416955, 23.7564681 , 22.9519584 , 23.87991105,\n       22.7859483 , 23.2031028 , 25.41231315, 28.0471899 , 38.9910861 ,\n       46.4572821 , 46.26573375, 45.51655905, 43.39673895, 43.89051075,\n       53.80429365, 50.95658115, 45.878376  , 40.57456725, 39.87221565,\n       34.9855614 , 25.4421099 , 23.3095194 , 23.75221215, 23.16904755,\n       23.57343165, 23.90545185, 23.4585006 , 23.2584378 , 26.672286  ,\n       32.7933774 , 44.3034093 , 50.02437255, 47.17666005, 46.2955305 ,\n       44.3757732 , 45.34203705, 50.381931  , 48.6792654 , 44.03523855,\n       40.723551  , 40.1786976 , 35.00258775, 27.1618044 , 23.97781575,\n       22.83702735, 24.27578325, 22.820001  , 25.5612969 , 25.9997337 ,\n       25.1654247 , 28.9027812 , 36.23276385, 42.8816823 , 46.14654675,\n       46.15505865, 49.33479135, 50.8927317 , 50.07970755, 50.67138405,\n       44.4821898 , 41.7196116 , 41.25137805, 40.42983945, 34.9600206 ,\n       25.69751025, 25.54427055, 24.4119966 , 24.68867925, 22.81574505,\n       24.5396955 , 23.83308795, 27.6428058 , 35.9773635 , 42.69438735,\n       44.05652085, 46.2103962 , 48.2025174 , 50.02011405, 51.9100746 ,\n       52.8720825 , 52.1271663 , 46.12100595, 40.77463005, 40.246803  ,\n       39.5572218 , 34.79826645, 28.0471899 , 23.56066125, 24.067206  ,\n       23.9693013 , 23.9693013 , 24.9313092 , 26.76167625, 30.54159735,\n       39.97863225, 48.3898098 , 47.8577268 , 48.1642062 , 44.03523855,\n       46.21465215, 49.33479135, 51.2034696 , 54.6258297 , 54.7960983 ,\n       44.82697785, 40.0552521 , 38.4334623 , 34.7940105 , 26.54884305,\n       24.6248298 , 23.296749  , 22.60291185, 24.85468935, 25.2250182 ,\n       27.55767405, 35.08346355, 49.1645253 , 52.2080421 , 52.5145215 ,\n       51.86751   , 46.3891767 , 48.6750069 , 46.6956561 , 47.90029395,\n       52.88910885, 53.7532146 , 49.0197975 , 42.30703215, 41.68555635,\n       35.0877195 , 26.1870261 , 25.7485893 , 23.07540135, 23.5691757 ,\n       25.65919905, 27.3490968 , 29.222031  , 36.77761725, 46.7424792 ,\n       50.03288445, 47.3256438 , 49.45397835, 45.50804715, 46.0826973 ,\n       47.80664775, 47.47462755, 50.48409165, 48.41109465, 46.13377635,\n       43.45633245, 44.7971811 , 38.7399417 , 27.00005025, 25.19522145,\n       23.7351858 , 25.7869005 , 25.30163805, 25.96993695, 30.69909555,\n       41.81751375, 51.1779288 , 48.8282466 , 47.1000402 , 52.51878   ,\n       46.85741025, 47.42780445, 46.27850415, 44.6694822 , 43.2477552 ,\n       43.49889705, 44.83123635, 40.8512499 , 43.4393061 , 38.01205185,\n       26.32323945, 24.3396327 , 24.7908399 , 24.8461749 , 25.727307  ,\n       26.5786398 , 28.94534835, 40.38301635, 47.36821095, 48.78993795,\n       46.69140015, 47.85347085, 45.89540235, 49.6242444 , 45.4527096 ,\n       43.17113535, 47.6704344 , 42.57520035, 42.30277365, 41.7792051 ,\n       41.57062785, 31.11625005, 25.6549431 , 24.7865814 , 24.34388865,\n       26.4509409 , 25.4037987 , 27.4470015 , 29.95417935, 39.5572218 ,\n       44.72056125, 48.47920005, 46.93828605, 46.2487074 , 44.66096775,\n       53.3360601 , 47.7427983 , 46.57221315, 49.50080145, 43.05194835,\n       43.49889705, 40.79591235, 34.63225635, 26.98727985, 25.2760998 ,\n       24.67590885, 24.60354495, 25.6889958 , 25.47190665, 28.0514484 ,\n       28.40049495, 31.98886515, 39.4678341 , 45.67405725, 42.9838404 ,\n       45.3079818 , 46.29978645, 46.99787955, 44.6822526 , 43.18390575,\n       44.51198655, 42.97107255, 42.25595055, 37.3565259 , 30.00100245,\n       26.08912395, 23.7479562 , 24.2928096 , 25.12711605, 26.0806095 ,\n       25.86352035, 25.3484637 , 26.6850564 , 28.20894405, 32.065485  ,\n       42.08142855, 44.9163681 , 45.4867623 , 43.6138281 , 44.9631912 ,\n       43.0817451 , 41.4216441 , 41.86859535, 38.8718991 , 35.8028415 ,\n       29.6476974 , 26.56161345, 24.55672185, 24.65462655, 25.15265685,\n       24.23747205, 25.59960555, 26.90640405, 24.42902295, 24.86745975,\n       26.7191091 , 29.73708765, 32.18041605, 38.31853125, 42.6433083 ,\n       42.1708188 , 46.2231666 , 43.67767755, 38.0418486 , 38.1397533 ,\n       34.90468305, 29.05176495, 26.23810515, 24.92279475, 24.66313845,\n       25.69325175, 23.84585835, 25.89757305, 26.433912  , 25.36123155,\n       25.2760998 , 26.16999975, 26.0337864 , 26.79998745, 27.9790845 ,\n       31.42272945, 37.12240785, 40.4596362 , 41.84305455, 40.48092105,\n       35.4921036 , 33.54254955, 28.1408361 , 27.1618044 , 25.3356933 ,\n       25.21225035, 25.71028065, 25.77838605, 24.21618975, 24.3736854 ,\n       26.57012535, 24.80360775, 24.6673944 , 24.96110595, 26.88086325,\n       27.0426174 , 26.54884305, 27.48531015, 30.87361755, 32.99769615,\n       34.1044293 , 32.92533225, 28.3068462 , 27.15328995, 25.67196945,\n       26.616951  , 24.7780695 , 27.30652965, 25.6421727 , 24.7652991 ,\n       26.20831095, 25.1441424 , 24.92705325, 26.4466824 , 28.29407835,\n       26.05081275, 25.6038615 , 26.4935055 , 27.7534809 , 26.64248925,\n       26.57438385, 25.8081828 , 26.70208275, 26.6254629 , 25.47190665,\n       24.6248298 , 24.5609778 , 26.3998593 , 24.3864558 , 26.91491595,\n       24.65036805, 24.53118105, 25.56555285, 27.0766701 ,  0.        ,\n        0.        ,  0.        ,  0.        ,  0.        ,  0.        ,\n        0.        ,  0.        ,  0.        ,  0.        ,  0.        ,\n        0.        ,  0.        ,  0.        ,  0.        ,  0.        ,\n        0.        ,  0.        ,  0.        ,  0.        ,  0.        ,\n        0.        ,  0.        ,  0.        ,  0.        ,  0.        ,\n        0.        ,  0.        ,  0.        ,  0.        ,  0.        ,\n        0.        ,  0.        ,  0.        ,  0.        ,  0.        ,\n        0.        ,  0.        ,  0.        ,  0.        ,  0.        ,\n        0.        ,  0.        ,  0.        ,  0.        ,  0.        ,\n        0.        ,  0.        ,  0.        ,  0.        ,  0.        ,\n        0.        ,  0.        ,  0.        ,  0.        ,  0.        ,\n        0.        ,  0.        ,  0.        ,  0.        ,  0.        ,\n        0.        ,  0.        ,  0.        ,  0.        ,  0.        ,\n        0.        ,  0.        ,  0.        ,  0.        ,  0.        ,\n        0.        ,  0.        ,  0.        ,  0.        ,  0.        ,\n        0.        ,  0.        ,  0.        ,  0.        ,  0.        ,\n        0.        ,  0.        ,  0.        ,  0.        ,  0.        ,\n        0.        ,  0.        ,  0.        ,  0.        ,  0.        ,\n        0.        ,  0.        ,  0.        ,  0.        ,  0.        ,\n        0.        ,  0.        ,  0.        ,  0.        ,  0.        ,\n        0.        ,  0.        ,  0.        ,  0.        ,  0.        ,\n        0.        ,  0.        ,  0.        ,  0.        ,  0.        ,\n        0.        ,  0.        ,  0.        ,  0.        ,  0.        ,\n        0.        ,  0.        ,  0.        ,  0.        ,  0.        ,\n        0.        ,  0.        ,  0.        ,  0.        ,  0.        ,\n        0.        ,  0.        ,  0.        ,  0.        ,  0.        ,\n        0.        ,  0.        ,  0.        ,  0.        ,  0.        ,\n        0.        ,  0.        ,  0.        ,  0.        ,  0.        ,\n        0.        ,  0.        ,  0.        ,  0.        ,  0.        ,\n        0.        ,  0.        ,  0.        ,  0.        ,  0.        ,\n        0.        ,  0.        ,  0.        ,  0.        ,  0.        ,\n        0.        ,  0.        ,  0.        ,  0.        ,  0.        ,\n        0.        ,  0.        ,  0.        ,  0.        ,  0.        ,\n        0.        ,  0.        ,  0.        ,  0.        ,  0.        ,\n        0.        ,  0.        ,  0.        ,  0.        ,  0.        ,\n        0.        ,  0.        ,  0.        ,  0.        ,  0.        ,\n        0.        ,  0.        ,  0.        ,  0.        ,  0.        ,\n        0.        ,  0.        ,  0.        ,  0.        ,  0.        ,\n        0.        ,  0.        ,  0.        ,  0.        ,  0.        ,\n        0.        ,  0.        ,  0.        ,  0.        ,  0.        ,\n        0.        ,  0.        ,  0.        ,  0.        ,  0.        ,\n        0.        ,  0.        ,  0.        ,  0.        ,  0.        ,\n        0.        ,  0.        ,  0.        ,  0.        ,  0.        ,\n        0.        ,  0.        ,  0.        ,  0.        ,  0.        ,\n        0.        ,  0.        ,  0.        ,  0.        ,  0.        ,\n        0.        ,  0.        ,  0.        ,  0.        ,  0.        ,\n        0.        ,  0.        ,  0.        ,  0.        ,  0.        ,\n        0.        ,  0.        ,  0.        ,  0.        ,  0.        ,\n        0.        ,  0.        ,  0.        ,  0.        ,  0.        ,\n        0.        ,  0.        ,  0.        ,  0.        ,  0.        ,\n        0.        ,  0.        ,  0.        ,  0.        ,  0.        ,\n        0.        ,  0.        ,  0.        ,  0.        ,  0.        ,\n        0.        ,  0.        ,  0.        ,  0.        ,  0.        ,\n        0.        ,  0.        ,  0.        ,  0.        ,  0.        ,\n        0.        ,  0.        ,  0.        ,  0.        ,  0.        ,\n        0.        ,  0.        ,  0.        ,  0.        ,  0.        ,\n        0.        ,  0.        ,  0.        ,  0.        ,  0.        ,\n        0.        ,  0.        ,  0.        ,  0.        ,  0.        ,\n        0.        ,  0.        ,  0.        ,  0.        ,  0.        ,\n        0.        ,  0.        ,  0.        ,  0.        ,  0.        ,\n        0.        ,  0.        ,  0.        ,  0.        ,  0.        ,\n        0.        ,  0.        ,  0.        ,  0.        ,  0.        ,\n        0.        ,  0.        ,  0.        ,  0.        ,  0.        ,\n        0.        ,  0.        ,  0.        ,  0.        ,  0.        ,\n        0.        ,  0.        ,  0.        ,  0.        ,  0.        ,\n        0.        ,  0.        ,  0.        ,  0.        ,  0.        ,\n        0.        ,  0.        ,  0.        ,  0.        ,  0.        ,\n        0.        ,  0.        ,  0.        ,  0.        ,  0.        ,\n        0.        ,  0.        ,  0.        ,  0.        ,  0.        ,\n        0.        ,  0.        ,  0.        ,  0.        ,  0.        ,\n        0.        ,  0.        ,  0.        ,  0.        ,  0.        ,\n        0.        ,  0.        ,  0.        ,  0.        ,  0.        ,\n        0.        ,  0.        ,  0.        ,  0.        ,  0.        ,\n        0.        ,  0.        ,  0.        ,  0.        ,  0.        ,\n        0.        ,  0.        ,  0.        ,  0.        ,  0.        ,\n        0.        ,  0.        ,  0.        ,  0.        ,  0.        ,\n        0.        ,  0.        ,  0.        ,  0.        ,  0.        ,\n        0.        ,  0.        ,  0.        ,  0.        ,  0.        ,\n        0.        ,  0.        ,  0.        ,  0.        ,  0.        ,\n        0.        ,  0.        ,  0.        ,  0.        ,  0.        ,\n        0.        ,  0.        ,  0.        ,  0.        ,  0.        ,\n        0.        ,  0.        ,  0.        ,  0.        ,  0.        ,\n        0.        ,  0.        ,  0.        ,  0.        ,  0.        ,\n        0.        ,  0.        ,  0.        ,  0.        ,  0.        ,\n        0.        ,  0.        ,  0.        ,  0.        ,  0.        ,\n        0.        ,  0.        ,  0.        ,  0.        ,  0.        ,\n        0.        ,  0.        ,  0.        ,  0.        ,  0.        ,\n        0.        ,  0.        ,  0.        ,  0.        ,  0.        ,\n        0.        ,  0.        ,  0.        ,  0.        ,  0.        ,\n        0.        ,  0.        ,  0.        ,  0.        ,  0.        ,\n        0.        ,  0.        ,  0.        ,  0.        ,  0.        ,\n        0.        ,  0.        ,  0.        ,  0.        ,  0.        ,\n        0.        ,  0.        ,  0.        ,  0.        ,  0.        ,\n        0.        ,  0.        ,  0.        ,  0.        ,  0.        ,\n        0.        ,  0.        ,  0.        ,  0.        ,  0.        ,\n        0.        ,  0.        ,  0.        ,  0.        ,  0.        ,\n        0.        ,  0.        ,  0.        ,  0.        ,  0.        ,\n        0.        ,  0.        ,  0.        ,  0.        ,  0.        ,\n        0.        ,  0.        ,  0.        ,  0.        ,  0.        ,\n        0.        ,  0.        ,  0.        ,  0.        ,  0.        ,\n        0.        ,  0.        ,  0.        ])"
     },
     "execution_count": 133,
     "metadata": {},
     "output_type": "execute_result"
    }
   ],
   "source": [
    "pcna_crops_flat_pad[0]*255"
   ],
   "metadata": {
    "collapsed": false,
    "pycharm": {
     "name": "#%%\n"
    }
   }
  },
  {
   "cell_type": "code",
   "execution_count": 155,
   "outputs": [
    {
     "name": "stdout",
     "output_type": "stream",
     "text": [
      "[ 510 2295 2295 6375 6885 6630 5610 7395 7650 5865 5355 3315 1785 2295\n",
      "  765 1275  765  765  510  765  255 1530  765  255  510  510 2040  765\n",
      "  510  255  255  510  765 1530 1275 1275 1530 2295 1020 1275 2040 1020\n",
      " 2295 1785 1785 2295 2040 2040 4335 1530 2040 1530 1275 1530 1275 1275\n",
      "  510  765  510  765  765  510  510  255  510]\n",
      "[ 1785  2040  3825  6630  7650  9435  6120 10965  4590  6120  5610  5355\n",
      "   765  1020  1275  1020  1275  1020   510   255   510   510   510   255\n",
      "  1020   255   255   510   510   255   255  1785  1275   765  1020   765\n",
      "   765  1275  1020   510   765  1020  1530  1275  2040  3315   510  1530\n",
      "  1785   765  2805  3060  2295  1275   255  1530   765   765  1275  1530\n",
      "   765   510   255   255   255]\n",
      "[ 3570  8925 13005 13515 10965  4080  2805  3825  2040  2295  2040  1785\n",
      "  1020  2040  2040  3060  2295  3315  1785  3825  3570  1785  2805  2550\n",
      "  1785  1785  1275  1785  1020  2040  2040  1785   765  1020   510  1020\n",
      "   255   765   255   765   510   510   255   255   255   255   255   765\n",
      "   255   255   255   255   255     0   255     0   510   255     0     0\n",
      "     0     0     0     0   255]\n",
      "[ 1530  5100 11730 12240  9435  7905  8925  3315  2805  2295  1785  1530\n",
      "   765  1020  1275   765  1020  1020   765   765   765   765   510   510\n",
      "   510   255   765  1530  1785  1530  2040  1020  1275   510  1020  2040\n",
      "  2295  2805  2295  1275   765  1785   765  2550  1785  2295  1275  1785\n",
      "  1275  1275  1785  1020  1275   510   255     0   510     0     0     0\n",
      "     0   255     0   255   510]\n",
      "[ 765 3825 4335 6120 5610 7650 6120 7395 7905 6120 3570 2805 1530 2040\n",
      " 2040 1275  255 1020  765  510  510    0 1275  510  510  510  510  255\n",
      "  510    0 1020  255  765  255  255  255 1530 2040 1275 1020  510 1785\n",
      "  765  510 1530 1785 1785 2550 2295 2805 2040 1785 3825 2295 1785 1530\n",
      " 1785 2040 2295  765  765  255  255  510  255]\n",
      "[3315 3315 6630 3315 2805 2805 3315 2295 2295 2550 1020 1020  765 1020\n",
      "  765  765  510  765  765 1020  765  255  510 1020  255  255  255  510\n",
      " 1275  510  255  765  255 1020  510  510 1785 2040 1275 1530 1530 1530\n",
      "  765 2550 2295 2295 1785 1530  765 2040 1275 1275 1530  255  765 1530\n",
      "    0  765  255  255  510    0    0  255  255]\n",
      "[ 1275  3060  9180 11730 14535 13515 10710  7905  6120  3570  2295  1785\n",
      "  1785  1785   510  1275   510   765  1275   765  1020   255   510   765\n",
      "   510  1275   255  1275   510   510   510  1785   765   765  1785  1020\n",
      "  1530  1020  1785  2295  1020  1275  2295  1785  2295  2040  2295  1785\n",
      "  1785  2295  2295  2295  2550  1275  1020  1785   255  1020   765     0\n",
      "     0     0     0     0   255]\n",
      "[ 2040  3315  9690 10965 11985  8925  6375 10710  4590  6120  4335  4590\n",
      "  2295  1785   510   765  1275   510   510   255   255   765   765   255\n",
      "   510   765  1020  1020   510     0  1020   765  1020   255   765   510\n",
      "  1020  1275   510  1785  2295  2040  1020  2295  2805  1275   765  3060\n",
      "  2805  2550  2550  4080  2805  2040  1530  1020  1530   255   510   765\n",
      "  1020   255   765   255   255]\n",
      "[2550 4080 5355 6120 7905 6120 5610 5865 3060 3315  510  765 1020 1275\n",
      "  510  510  765  765  765  255    0  510  510  510  510 1530 1275  765\n",
      "  765    0  765  510 1020 1275  765 1530 1275 1785 1785 1020 1530  765\n",
      " 1785 2550 2550 1275 1785 2295 2295 1530 1530 1275 1020 1275    0 1020\n",
      "  255  510    0  255  255  255    0    0  765]\n",
      "[  765  1020  3570 10200  7140 11985 11985  7905  3060  3825  2805   510\n",
      "   765  2295   510   255  1275   255   765  1020  1275  1275     0   255\n",
      "   255   255  1020  1020   255   510   510   255   765  1275  1530  2805\n",
      "  1785  2550  2550  2550  3060  2040  3315  3570  2040  1530   765  1785\n",
      "  2040  1275   510   255  1020  2295   765   255   765   255   255   255\n",
      "     0     0   510     0   255]\n",
      "[  510  4845  6630 10965  9435 13005  8670  6120  3825  2040  1275  1530\n",
      "  1275  1530  1020   510  1530   510   255   510   255   765   510  1020\n",
      "   255  1020   255   255   510   255   765   765  1020   765   765  1275\n",
      "  1275  1275  2040  3060  2295  4080  2805  3570  3315  2295  3060  1530\n",
      "  1530  1020   510   255   510   510   510   255   255   255   255     0\n",
      "   255     0     0     0   255]\n",
      "[  765  7905 11730 14025  8415  5355  3060  1530  1785   765  1785  2040\n",
      "   765   765  1020     0   510     0   765   765   255  1020   255   510\n",
      "   765   510  1020   765   765  2040  1785  2550  1785  1530  2040  1275\n",
      "  2550  1785  1785  2295  1020  1785  1530  1275   765     0   765   765\n",
      "   510   255   255     0   510   255   510   255     0     0     0     0\n",
      "   255     0     0     0   255]\n",
      "[ 2550  5610  9180 10710  8925  8160  8415  3315  3570  2295   510  1020\n",
      "  1020   510  1275  1020   765   510   255  1275  1275   765  1020   765\n",
      "   255   255   765   765  1020   765  1275   255  1785  2040  3825  1530\n",
      "  3060  2040  2040  2550  3570  2550  2550  2295  1530  1530  2295  1275\n",
      "  1785   765  2040   255   510   255     0     0   255     0   510   255\n",
      "     0     0     0     0   255]\n",
      "[ 1275  2805  6630 17085 29325 22695 14535  9180  5355  3825  1020  2550\n",
      "   765  1275  1530  1530  1275  1785  1275  2295  2040  1020  1530   765\n",
      "  1530  2805  3570  2550  1785  2040  2805  1275  1275  1275   255   255\n",
      "   765   765   510  1020   255   255   510   765  1020  1275   510   765\n",
      "  1785   510  1530  2040   255   510     0   510   510   510   255     0\n",
      "   255     0   255     0   255]\n",
      "[  255  1020  4845  7650  8670 12495  7905  7140  9180  9435  8670  8415\n",
      "  2805  3315  2805   765  1020  1530  1020  1275   765   255   510  1275\n",
      "  1020   510  1275   255   255   765  2040   765  1275  1020  1530  1530\n",
      "   510   765   255  1020  1275  1275   765  1530  1275  1530  2040  1275\n",
      "  1020  1530   765  2040  1275  1020  1785  1530  1530   765   765   765\n",
      "  1530   765   255   255   510]\n",
      "[2550 2805 6375 6120 7140 8670 6885 4335 3315 4590 1785 2040 1785 2805\n",
      " 4080  765 1530  255 1020  765 1020  765  510 1275  255 1020    0  255\n",
      " 1020  510 1530  255  255 1275  765  510  510 1275  765  510 1785  510\n",
      " 1530  510 1020 2805 1020 2550 2040 2040 2805  510 3060 2550 2295 2805\n",
      " 2040 1785 1275 1530 1275    0 1020  255  510]\n",
      "[ 1275  4335 12750 17340 21420 19125  7395  5100  4080  1785  1530  1020\n",
      "  1275   765   765  1530   510     0   765   765  1530  1020  1020   765\n",
      "  1020  1530   510  1020  1530  1785   765  2295   510  1530  1530   255\n",
      "  1785  1530  1785  1530  1530  2295  2040   765  1020  1785   765   510\n",
      "  1020   765   510  1020  1020   765   255  1020     0     0     0   255\n",
      "   255   255     0     0   255]\n",
      "[2040 3570 7905 8160 8160 5865 8670 7395 7650 6375 5100 1785 1530  765\n",
      " 1020  765  510  255  765  255 2295  510 1020 1275  765 1275 1020  765\n",
      "  510  255  510 1020  765  510  255  765  765  510  255 1020 1785 2040\n",
      " 1275 2040 1785 1275 1275 1275 1785 2040  510 1020 1785  255  510 2295\n",
      "  765  765  765  765  510 1020  255  255  765]\n",
      "[ 510 1530 2550 2040 3570 5865 7140 6120 6120 7395 6375 4335 4845 5865\n",
      " 2805 3060 3060 1785 1275 1530  255 1020  255 1020  255 1530  510  765\n",
      "  255 1020  510 1020  255 1530 1785 1275  765 1785 1530 1275 2295 1275\n",
      " 1530 1530 1275 1785  255 1275 1020 2040 1020 2295 1020 1020  255 1530\n",
      " 1785 1020  765    0  510    0  510  510  510]\n",
      "[ 5610 26775 28305 10200  4590  3570  1020  2295  2805  1785  1530  2805\n",
      "  2805  3060  5865  4590  5610  5610  4590  4845  4335  3315  2550  1530\n",
      "  2550   510  1020   765     0   255   510   255   255     0   255     0\n",
      "     0     0     0     0     0     0     0     0     0     0     0     0\n",
      "     0   255     0     0     0     0     0     0     0     0     0     0\n",
      "     0     0     0     0   255]\n",
      "[ 1275  2295  6630  8670  6630 12240 10710  9690 12750  8670  4590  5100\n",
      "  4335  4335  3060   765  1275  2295   510  1020   255  1275  1275   255\n",
      "   510  1275     0  1530  1275   255  1785   765   255  1020  1785  1020\n",
      "   510  1275  2040  1530   510  1785  1530  2040  1275  1530  2040  2550\n",
      "  2805  2295  3825  2805  3315  3570  2550  1530  2295  1275  1785  1020\n",
      "  1275   765     0   510   765]\n",
      "[ 2040  4080  7650  6630  9690 11220  7905 10455  5355  3570  1020  1530\n",
      "  2295  1020   510  1020   510   510  1275   255  1530   255  1020  1020\n",
      "  1020   255     0   255   510   510   510   765   255   255  1530   510\n",
      "   765   765  1275  1275  1530  1785   765  1785  2040  2550   765  2295\n",
      "  2805  2295  2040  2295  1530   510  1275  1275   765  1275   510     0\n",
      "   255     0     0     0   255]\n",
      "[  765  5100 11730 14790 13005  5100  1785  2295  1530  1785  1785  1275\n",
      "   765   255  1275     0   510   510  1020     0   255  1020   255   765\n",
      "   255   765  1275   510   510   255  1530   510   255   255  1275   765\n",
      "   765  1785  2040   510  1275  1275  2040  2040  1275  1530   510  1530\n",
      "  1530   255  1530   510   765   765   510  1020   510   510   765   765\n",
      "     0     0     0     0   255]\n",
      "[ 1785  4080 13515 15300  7395  7140  6630  2550  1530  2550  1275  1785\n",
      "  1275   765  1530  1275   510  1275  1530   255   255  1530  1020  1785\n",
      "   765   510  1275  1020  1275   510  2040  1530   510   765  1020  1275\n",
      "  1020   765  1785  1785  3315  1020  1275  1530  4335  3060  2550  2040\n",
      "   510  2295   510   255   510   510   510   255   255   255   255   510\n",
      "   510   255     0     0   510]\n",
      "[ 2295 20655 28305 16575  6885  3060  2550  1785  1785  1020  1020  1530\n",
      "   765  1785  1275  1020  1785  1020  1020  3060  4080  2805  1530  1020\n",
      "  1785  1275  1785   510  1020   255   765   510   510   765   255   255\n",
      "     0   255   765   255   255     0   255   255     0   255   510   255\n",
      "   255   510     0   255   255     0     0     0   255     0     0     0\n",
      "     0   255     0     0   255]\n",
      "[3315 2805 5100 4845 6120 1785 2805 2550 1020  510 1530 1275  255    0\n",
      "  255 1020  255  510  765  510  765 1020  510  510 1275 1020  510  510\n",
      "  510 1020  765 1275 1020  255  765  255 1530  765  765 1530 1785  765\n",
      "  765  510  765  510  510 1530  765  255 1020  255  255  765  255  255\n",
      "    0    0    0    0  255    0    0    0  255]\n",
      "[ 1785  3315  9690 13260 12750 14280 10965  6885  5100  3060  2550  1530\n",
      "  1530  1275   765   255     0   510  2295  1275   510   510     0   255\n",
      "   255   765     0   255   510  1020  1275   510   510  1020   765  1530\n",
      "   765  1785  2040  2295   255  1785   510  1530  1785  1020   255   765\n",
      "   255   255  1020  1530   255   255   255  1020     0   255     0   510\n",
      "     0     0     0     0   255]\n",
      "[ 2550  5865  8925 17085 17595 16320 12240 12240  6120  3825  3315  3060\n",
      "  2040  2295  1020  1020  1020   510   510  1785  1530  1020   765  1785\n",
      "   765     0   255   255   510   510   765   765  1020   765   510   255\n",
      "   765   765   765  1020  2295  1275  1530  1020  1020   255  1275  2550\n",
      "  1530  1785  1020  2040  1785  2550  3825  1530  2040  1530  1020  1530\n",
      "  1785   765   765  1020   510]\n",
      "[  255  1020  2805  5355  7905  9435  9690 10965  7650  8160  8160  5100\n",
      "  2550  2295  2295  1530   255  1275   510  1020  1275  1275   510   510\n",
      "  1020   765   255  1530   255   765   255   765   255   765   510   765\n",
      "   510   765     0  2295   510  1530  1020   765  1020  2040  1785  2550\n",
      "  3315  2550  2040  3060  4590  3570  3315  1785  2040  2040  1275  1275\n",
      "   765     0   255   255   255]\n",
      "[ 1275  3825  9180 15555 10455  8415  9435  5100  1785  1785  1275  1020\n",
      "  2040  1275   510  1020   510   510     0   510     0   765   255   510\n",
      "   765   510   510   765   255   255   765   255   510   765  1020  1020\n",
      "   765   510   510  1020   510  1275  1020  1530   765  2550   255   510\n",
      "   765   765  1275   510  1275   510     0     0   255   255     0     0\n",
      "     0   255     0   255   255]\n",
      "[ 1785  3315  6375  7905  7395 11475 10200 10200  7650  5610  2295  1530\n",
      "  2295  3570  1020   255  2040   765   510  1275  1530   510   765   255\n",
      "   510   765  1020   765   765   510   255   765  1275  1020   510   765\n",
      "  1275   510  2550  1020  2040  1020  1530  1020  2040  2295  2295  2295\n",
      "  1530  3315  1785  2805  3570  2295  1530  2805  2295  1275  1020  1020\n",
      "  1020   510   255     0   510]\n",
      "[ 3060 11730 18360  9435  6375  3825  2040  3060  2040  2040  1785   765\n",
      "  1275   765  1530  2295  1530   255  2040  1785  1785  1785  1275  1275\n",
      "  1275  1785  1020  1530  1530  1530  1785  1020  1785     0   510  1530\n",
      "  1275  2040  1785  1275  1275  1020  2040  2040  1530  1530  1275     0\n",
      "  1530   765  1275     0   255   510   765   510     0   255   765   255\n",
      "   255   255   510   510   510]\n",
      "[ 5865 24735 34680 14280  7140  4590  1785  1530   765  1785  2040   765\n",
      "     0  1530   510  1020  1275  1275  1275  1020   765  3060  1785  2295\n",
      "  1020   765  1275  1275  1020  1275  1785  1020  2295  2040  2040  1785\n",
      "  1020  1530   510  1530   765  1785   510   510  1020   255   510   255\n",
      "   255     0   255   255   255   255     0   255   510   510   255   255\n",
      "     0     0     0     0   255]\n",
      "[ 3315 20145 25245 16065  6120   765  2550  1785  2805  1785  1020  1530\n",
      "  1020  1530  3060  2550  1530  3570  2295  1785  4845  3060  5100  2550\n",
      "  2040  3060  2295  2550  2805  1785  3315  1530  2040  2295   255   765\n",
      "  1020   765   765     0   510     0     0   255   255   510   510     0\n",
      "   255   255     0   255     0     0     0   255     0     0     0     0\n",
      "     0   255     0     0   255]\n",
      "[ 4335 11985 16575 12240  7140  5865  1275  2805  1020  1275  1530  1020\n",
      "     0  1020   255  1020     0     0   765     0   765  1020   765   765\n",
      "   765     0     0   510     0   255   765   255     0   255     0  1020\n",
      "   255   510  1020   765   510   510   510   510  1530     0   765  2295\n",
      "  1785  1530  1020  1020  1020  2040  1275  1020  1020  1020   765   765\n",
      "   255     0   765     0   255]\n",
      "[  765  1785  2040  4845  4335  7650 12240 14280  9435 13770 14535  7650\n",
      "  8160  3570  3060  2040  2295  1530  1530  1275  1020   510   765   765\n",
      "  2040   765   765   510  1530   255   510   255   765  1785   765  1020\n",
      "   510   510   765  1275   510  2040  1530  2040  1020  2550  1530  1785\n",
      "  2040  2550  3570  4080  2805  1785  2805  1020   255   255   510  1020\n",
      "   255  1020   765   510   255]\n",
      "[ 2805  8925 17850 21420 15555  8925  5610  2550  2295  1275  1020  1530\n",
      "  1020  1785   765   255   765   510   510   765   255  1275     0   510\n",
      "   765   255     0   510   510  1275   765   510     0  1275   255     0\n",
      "  1530   510   255  1530   765  1020  1275  1020  2550  1275  2040  2040\n",
      "  2295  2805  2805  2805  2805  2295  1275  1020  1020  1275  1530  1785\n",
      "  1020   510   510   510   510]\n",
      "[ 255 2040 3315 3825 6630 7140 6375 3825 2805 2550 2295 2040  765  510\n",
      " 1275  255  255  765    0 1275    0 1275  510  255  255  510  255  765\n",
      "  510  255 1020    0  510  765 1275 1530 1020  255  255 1530 1785  510\n",
      " 2295 1785 1275 2550 2040 1020  255  765 1275  765 1020  255 1275 1530\n",
      "  255  255    0    0    0    0  510    0  255]\n",
      "[  765  1275  4335  7140  6120 10455  5865  3570  2040  2805  1785   765\n",
      "  1020  1530  1275   510   765  1275  1020  1020  1020   510   765   255\n",
      "  2295   765  3060  2295  2805  2040  4080  6375  5610  5610  4590  4590\n",
      "  5610  3825  1785  1275  2040   510   765   510  1020   510   255     0\n",
      "     0   255     0     0     0   255   255   510   255   510   255   255\n",
      "   255     0   255     0   255]\n",
      "[ 5355 22695 27030 22950  9690  2550  3315  2040  2040  1275  2805  2550\n",
      "  2040  2550  2550  3825  3315  3570  1785  3315  2040  1020  1530  1020\n",
      "  1530  2040   765   765   255   765     0   765   510   510  1020   510\n",
      "   510   255   765   255   510   510   510     0     0   255   510     0\n",
      "     0     0     0     0     0     0     0     0     0     0     0   255\n",
      "     0     0     0     0   255]\n",
      "[ 765 1785  765 2295 3315 3570 4845 7140 5865 4590 6120 7140 7650 4845\n",
      " 5865 5100 3060 3570 3825 2295 1020  510 1785 2040  765 1785 1020  765\n",
      "  765 1275 1020  255  510 1530 1530 1785 1530 1530 1530 2295 1785 1275\n",
      " 2805 2040 1530 3060 3570 1020 3570 3315 1530 1275 2295 2040 1530  765\n",
      "  765  765  510 1020    0  255  255    0  255]\n",
      "[  765 10455 28815 19635  6375  4845  2805  1275  1020  1275  1020   510\n",
      "  1020   765  1020  1785  1020   765  2040   255  1530  2550  1785  1275\n",
      "  2040  1020  1275   765  3060  2550  1020  1020  1020  1020  1275  2040\n",
      "  1020  1785   765   510   765   510     0  1020   765   765     0   510\n",
      "   765     0     0     0   510     0     0     0   510     0     0     0\n",
      "     0     0     0   255   255]\n",
      "[ 2550  4845 10710 11220 10200 10710 10710 12495  9945 10455  5610  5355\n",
      "   255  2805  1530  1530   765     0   765  1020  1275     0   765  1020\n",
      "   765     0   510  1275     0  1530  1020  1020  1020   510   765   765\n",
      "  1275   255  1275  2040  1275  4080  1785  2040  2805  1530  2550  4080\n",
      "  2550  1530  2295  2550  1530  2040  1020  1530  2040   510  1785   765\n",
      "     0   765   255   255   255]\n",
      "[ 4080 12495 22695 24735 15555 13260  8160  8670  4080  2295  1275  2295\n",
      "  1785  2550  2805  1275  1530  1275   765   255   255   765  1020   765\n",
      "  1275  1530  1020  1785   765  1785   765   510  1020   765  1785  1275\n",
      "  1785  2040  3060  3315  3570  2805  2550  3570  2550  4080  2295  4080\n",
      "  3570  2040  1785  2040  1275  1530  1275   765   255     0     0     0\n",
      "   255     0     0   255   255]\n",
      "[ 1785  5100 13260 18615 19635 15045  6885  5610  3060  3315   765  1530\n",
      "   765  1530  1020  1020  1020   765   765   510     0   510   765   765\n",
      "   510   765   510     0  1275  1530  1020   255   765  1020   510   765\n",
      "  1785  1530  1020  1530  1530  2040  1275  2805  1530  1530  2295  1785\n",
      "  1530  1020  1275  2295   255  1785   255   255  1020   765   510     0\n",
      "   765   510   510     0   510]\n",
      "[ 6375 17850 22185 23205 11985  5355  3060  1785  2550  1530   510  1530\n",
      "  2550  3315  3060  4080  4335  4590  5355  3315  4845  3570  4080  1275\n",
      "   510   255   255   255   765     0     0   255     0   510     0     0\n",
      "   510   255     0     0   255     0     0     0     0     0     0   255\n",
      "     0     0     0     0     0   255     0     0     0     0     0     0\n",
      "     0     0     0     0   255]\n",
      "[ 4335 23715 14280 15555 16320 11985  6885  4845  3060  3315  2295  1530\n",
      "  1785  2550  1785  3570  2550  2550  2805  2040  2040  2040  1530  1020\n",
      "  1530  1275  1275  1785  1530   765  1020  1785  1275  1785   765  2550\n",
      "   765  1275  1020  2040  1530  2805  1530   510   510  1020   510  1020\n",
      "   510  1020  1020   510  1020   255     0   255   255   255     0   255\n",
      "   255   255     0     0   255]\n",
      "[ 2550  6885 15810 16830 10200  9945  4845  3825  3825  3060  2805  2040\n",
      "  1275  1020   510   765  1020     0  1530   255   765  1020   255  1020\n",
      "  1275   765  1020   255  1530   510   765   510   765  1785  1020  1530\n",
      "  2040  1530  1530  1530  5100  3060  1530  1275  3060  1020  1785  1530\n",
      "  1785  1530   765  1275  1020  2550  1530  1275   510  1020  1785   765\n",
      "   765   510   255   510   255]\n",
      "[ 1275  3570 16320 20145 19125  7140  5865  2295  2550  2295  1020  1275\n",
      "   510   510   255  1020   765  1020     0   255   255   510   510   510\n",
      "  1020   255   255  1275   255   510   255  1020   255  1020  1020  1020\n",
      "  1275  1275  1020  1020  1785  1275  1275   765  2550  1530  2550   765\n",
      "  1785  1020  1020   765   765     0     0   510   765   510   765     0\n",
      "     0   765     0     0   510]\n",
      "[ 510 1275 5100 6630 5610 4335 3570 2805 1785 2295 1530  765 1020  255\n",
      "  255 1785  765 1020  510 1020  510  510  255  510  510  255  255 1530\n",
      "    0  255  255  255    0 1020    0  255  255  765  765 1785  765 1020\n",
      " 1275  765 1275 1785 1785 2040 1020 1275 1530 1530 2550 1275 2040 1275\n",
      " 1275  765 1020 1530  765  510  255    0  510]\n",
      "[ 510  765 1275 1020 1530 3315 1275 2040 1785 3825 5100 4335 3315 3570\n",
      " 3570 4590 1785 3315 2550 3315 2550 2040 2040 1275 1275  765  510 1020\n",
      " 1530 2295 1275 1275 1530 1530 2040 1275 3315 2550 2040 2805 1785 3315\n",
      " 3060 2040 1275 1530 3825 1785 1785 2550 3060 2550 1785 1530 1275  510\n",
      "  765    0  255  510  255    0    0    0  255]\n",
      "[ 1275  5610 11985 22695 19380 12240  7140  3060  2550  1530  1530  1020\n",
      "  1275   510  1020   510   510  1530  1275     0   510     0     0   510\n",
      "   510   765  1530   510   255     0  1020   510   765   765  1275   510\n",
      "   510   255  1020   765  1530   765  1275  1530  1530  2295  1275  2550\n",
      "  2295  4845  3060  3060  1785  2040  1530  1530   510  1785  1275   510\n",
      "   510   255     0     0   510]\n",
      "[ 5355  6375 11220  5610  4590  3315  2295  2295  1530  2295  1020   765\n",
      "     0  1020  1530   510     0   765   255   765   255   765     0   510\n",
      "   510   510   765   510  1020  1020  1020  1275  1275  1275  1275   510\n",
      "  1275  1020   255  2040  1275  2040  2550   765   765   510   255  1020\n",
      "   255  1530   255   255   255   255   765   765     0     0     0   255\n",
      "     0     0     0     0   255]\n",
      "[ 1530 11730 29580 21930 11730  5610  2295  2040  1020  2040  1275  1275\n",
      "  1530   510   510   510  1020  1020  1020  1275  1785  1020  1785  1275\n",
      "  2040  1275  1020  1020  1275  2550  2295   765  1785  1020  1530  1275\n",
      "  2295  2550  1275  2040  1275  1275  1530   765   765  1020  1020  1020\n",
      "  1530  1020   255   510   765   255   510   510   255     0   510     0\n",
      "   510     0     0     0   255]\n",
      "[ 1530  5100  8925 12495 16065 14790 10710  3570  3060  2805  1530   255\n",
      "  1020  1530  2295   765  2295   765  2295   255   765  1785  1020  1275\n",
      "  2040  1785  2040  2040  3315  2040  1530  2040  1275  1275  1530   510\n",
      "   765     0  1275  1785  1530  1530  1530  1530  1785  1785  1530  1785\n",
      "  1020  2040  2040   765   765   255   510   765   510  1020   765   510\n",
      "     0   255     0     0   510]\n",
      "[  255  1785 11730 20400 24480 19380  7395  3315  2040  2295  2295   765\n",
      "  2040   255   765   510  1530   255   765   510   255   255   765   255\n",
      "   765  1020   765   255   765   765   510   510   510  1275     0  1020\n",
      "   765  1020   510   765   510  1020  1275  1275  1530  2550  1785   765\n",
      "  1275  2550  2295  2805  1275  1020  1275  1530  2040  1785   765   765\n",
      "   510   255     0     0   510]\n",
      "[  510  1785  6375  9690 17595 15300 10200  7395  2805  1530  1785  2295\n",
      "  1530   510  1020   765   510   765   255   510  1275   765  1275   765\n",
      "   510   510  1020   255   510   765   255   765  1275  1275   510  1530\n",
      "   765   765  1020  1275   255  1275  1275  1785     0  1020   765  1275\n",
      "  2295  1275  1530  2040  1530  1020  1020  1020  1020   255  1020   510\n",
      "   255   510     0     0   255]\n",
      "[ 1785  2805  8160  8160  9690 10455 11220  8925  6120  6630  4335  4080\n",
      "  1275  2550  1785   510   255  1020   510     0  1020   765   765   765\n",
      "   510  1020     0   765   765   510   765   255   255   765   255   510\n",
      "   510   255   765   255   510     0   765  1785  1275  1275  1530  1020\n",
      "  1020  1275  2040  1275  1530  2040  2805  3060  2040  3570  2295  5100\n",
      "  2550  3315  2295   255   510]\n",
      "[1020 2550 2805 3060 3570 4335 4080 4080 2550 3315  510 2040  765  765\n",
      " 2040 1275 1785 1785  510 1275 2040 1530 1020 1785 1530 1020 2295 1020\n",
      " 2295  510  765    0 1275  765 2550 2805 1530 2040 2805 2295 1530 1530\n",
      " 2295 1530 1275 1530 1785  510 1275  510 1785 1785 1275 1530  510  255\n",
      "  765 1275    0  510  765  255  255  765  510]\n",
      "[ 2040 14790 11985 10455  5610  3570  2805   765  1020  1785  1020   255\n",
      "   510   510   510   765   765  1020   510   510  1275   765   510   255\n",
      "   255   255  1530   255   510   510  1275  1530   765   765  1275  1530\n",
      "   510  2805  1020  2040  1530  1020  1530  1785  1785  2040  1020  2550\n",
      "   510   765  1275  1275   765   510   765     0   765   510     0     0\n",
      "   255     0   255     0   255]\n",
      "[ 6120 23205 19635  8925  3570  2550  1020  1530     0  1020  1530   255\n",
      "   765  1020   765  1275  1020   510   510   255   255   765  1020   255\n",
      "  2040  1530  2295  1785  1530  1020  1275   510  1020   510  1530   510\n",
      "  1020   255  1275   255     0   510   765     0   765   255     0     0\n",
      "     0     0     0   255   510   255     0     0   510   255   255   510\n",
      "     0   255     0   510   255]\n",
      "[ 3315 17085 33150 21420  7395  3060  1785  1785  2040   765   510  1530\n",
      "   510   765   765  1020   765   765   510  1020   510  1275   510  1020\n",
      "   510   510   510   255  1020  1530  2295  1275  2295  2805  2040  1785\n",
      "  1275  2550  1530  2550  2040  2550  2040  3060  1020   765  1020   255\n",
      "  1275  1020   765   510   765   510   765     0   255     0     0     0\n",
      "     0     0     0     0   255]\n",
      "[ 1275  4080 14790 22440 20655 20145 10710 11475  4590  3825  1785  1530\n",
      "  1530  1785  1275     0   765  1020   510   765   255     0  1530  1020\n",
      "  1020   255   255   765  1020   765   765     0   510   765  1275   765\n",
      "  2295   765  1785  2040  1020  1020   765  2295  1530  1530  1275   510\n",
      "   510  1530   255  1785  2295  2295  1275  2040  1530   510  1530  1530\n",
      "   765   510   510     0   765]\n",
      "[ 3060  7650 11220  9180  4590  5100  2550  3315  1020  2550   765  2295\n",
      "   255  2805  3315  3570  5610  5100  3825  2550   765  1020   765  1020\n",
      "  1020  1020  1275   510   765  1020   765  1020  1530   510  1275  1020\n",
      "  1785  2295  1020  1275  1530  1275  1530  1020  1275  1020   255  1275\n",
      "   255  1275  1020  1275   765   255  1020   510   510   510  1020   510\n",
      "  1020   510   255   765   765]\n",
      "[ 2040  5355 16575 13515 13515 10710  7395  5610  4845  2550  3315  2805\n",
      "  1020   765  1275  1020  1785  2040   765   510  1020  1785  1530  1785\n",
      "  2040  1020  1530  2805  2550  2550  1785  2295  2040  1530  2295  3060\n",
      "  2040  1275  3060  1785  1785  2040  1275   510  1530   255     0     0\n",
      "   255     0     0     0   255     0     0     0   255     0   255     0\n",
      "   510     0     0   510   255]\n",
      "[ 4080 23715 22440 11985  5355  3060  2295  2295  1275  2805  1275  1020\n",
      "  1020  2295  1275   765  2295  2295  2295  1785  1785   255  2295  1020\n",
      "  1275   765  1020  2295  2040  1530  2550   510  2040   510   765  1530\n",
      "   765   255  1530   510     0     0     0  1275     0     0   510     0\n",
      "   255     0     0     0     0     0     0     0   255     0     0     0\n",
      "     0     0     0     0   255]\n",
      "[13770 16575 10200  4590  3825  1785  1530  1275   510  1020  1275   255\n",
      "   765   765   510   510   255   510  1020  1020   510     0  1020  1020\n",
      "  1020     0   255   765   765   510     0  1275   510   765  2295  1020\n",
      "   255  2550  2040  1785  2805  2295  2550  1530  1275   510  1530  1530\n",
      "  1785  1530  1020  1530     0   510   255   255     0   510     0     0\n",
      "     0     0     0     0   255]\n",
      "[ 6630 30345 29070 15300  8160  2550  4335  2550  1785     0   255  1275\n",
      "  1020   255  1530   765   255   510     0   765  1785   255   255  1020\n",
      "   765     0  1020   510   765   255   255   255  1530  1275  1020   510\n",
      "   510  1020   510  1020  1530  2040  1020  1275   510  1785  2550  2550\n",
      "  1785   765  1785  1530   765   510     0  1020   510   255   255     0\n",
      "     0   765   765   255   765]\n",
      "[16575 14025  6630  3315  1530  3315  1530   510  1530  1275  1020  1785\n",
      "  1020   765  1785  2295  1785  2295  1275  1020  1020  2040   765  1020\n",
      "  1020   765     0  1785  1785   765  1530  1020   510   765   510  1530\n",
      "  1020  1020   765  1530  2295   510  2040  1275  1530  1785  1785   510\n",
      "   765   510   510  1530     0     0     0     0     0     0     0     0\n",
      "   255     0     0     0   255]\n",
      "[ 510 4590 5865 6630 4080 2805 3570 3315 2550 2295 1530 1785 2040 1785\n",
      " 1020 1530 1275  765  510  510  510  765    0    0 1020    0    0  510\n",
      "  765  765    0 1020  255  510 1530  510  765  255  765  255  510 1530\n",
      " 1785 1530  765 1020 2295 1020  510 1020 1785  765 1020 1785 1020  765\n",
      " 1020  510    0    0  510  255 1275  510  255]\n",
      "[ 255  255 1530 1530 2295 3315 4590 4845 5355 8415 6375 3570 3825 2805\n",
      " 3825 2550 1785  765 1530 1530  765  765    0 1020  510  255    0  510\n",
      "  255  510  255    0 1275  510 1020  510  255  255  510  510  765  765\n",
      "  510  765 1020 1275 1020  765 2040 2805 1275 1275 3060 1785 1275 2550\n",
      " 2040 1530  255 1020 1275 1020  510  510  255]\n",
      "[ 765  510 2295 2805 7905 9435 8925 7395 6120 5355 1785 2295 2295 2295\n",
      "  765  255 1020  765  510 1020  510 1530  255  765  765  765 1020 1275\n",
      "  765    0  255  510 1275  510 1530  765 1275 1020  255 1020 1275 2040\n",
      " 1275 1530  510 2040 1530 1275 1275 1020 1020 1275 1020  765  510  765\n",
      " 1020    0    0  255  510  255    0    0  255]\n",
      "[ 2295 14280 24480 14025  6120  2805  2550  1785  1785  1530  1530  1275\n",
      "  1275  1530  1530  1785  1275   765  2805  3060  2040  3060  3060  5610\n",
      "  1785  3060  3825  2550  1275  1275  1785   510  1275     0   510     0\n",
      "   765   765     0   255     0   255   765     0     0     0   255     0\n",
      "     0     0     0     0     0     0     0     0     0     0     0     0\n",
      "     0     0     0     0   255]\n",
      "[ 2550 10455 13005 15300 12240  6375  5355  4845  1020  1275  1530  1275\n",
      "   765     0   765  1020   510  1275   510  1020   510  1020   765   510\n",
      "     0   510   255   255   765   510   255  1020  1275  1020  1275  1275\n",
      "   510  1785  1275  1785  1275  2040  2040   510  3060  2040  2295  1275\n",
      "  1020   510   510  2040   255   765   510     0  1530   255   255   765\n",
      "   510  1020     0   765   510]\n",
      "[ 1530  3825  8925 15045 12240  9180  3060  4335  3060  3060  1020  1020\n",
      "  2040   765  2040  2040  1785  1785  1275   765  1020   765   765   255\n",
      "  1020   765     0   510   510   255   255  1275  1020   765   255  1020\n",
      "  1275   510   765   765   510   510   765  1275  1275  1785   765  1020\n",
      "  1530  2550  2040  1020  1275  1020  2805  2040  1530  1785  1785   255\n",
      "  1020   255   765   765   510]\n",
      "[ 7650 17340 17595 10965  7905  4335  4335  4845  3315  3315  4080  2040\n",
      "  2295   765  2040  2040  1275  1275   510  1020  1530  1020  1785  1020\n",
      "   765  2550  1530  2040  1530  1275  2805  3060  2805  2550  2040  1785\n",
      "  2550  1020  2295  1785  1275  1275  1275   255  1020     0     0     0\n",
      "     0     0   255   255   255   255     0   255   765   510   255   255\n",
      "   510     0     0   765   765]\n",
      "[ 255 1275 2805 5355 5610 5865 5865 3570 2295 1530 1530 1530  510  765\n",
      " 1020  765 1275  765  765 1020  765  510 1020  255  255 1530  255  765\n",
      " 1020 1020 1530 2040 2040 2295 1020 3315 1530  765 1530 1020 1785 1530\n",
      " 1275 2040 1785  765  510  765  765  510  255    0  255  510    0  510\n",
      "    0    0  255    0    0    0    0    0  255]\n",
      "[ 2295 19125 20400 13515  8415  4335  2040  1275  1785  1530  1530  2040\n",
      "   510  1275   510  1275  1530  1275  2295  1530  3825  2295  1020  1530\n",
      "  3060  2805  3060  2295   510  2805  1020  2295   510  1785   765   510\n",
      "   765   765   255     0   255     0   255  1275   510     0     0     0\n",
      "     0     0     0     0     0     0     0     0     0     0   255     0\n",
      "   255     0     0     0   255]\n",
      "[1275 6885 7395 5610 7905 4590 4590 3315 2040 1275  765 1530 1020 1275\n",
      "  510  255 1275  510  765  765 1020  510  255    0 1275 2295 2040  765\n",
      " 1020 1785 2040 1530 1020 1530 1275 1530 1530  765  765  255  255  510\n",
      " 1530  765  255  255    0  255    0    0    0  510  510  255    0  255\n",
      "    0    0    0    0    0    0    0    0  510]\n",
      "[1275 3060 5610 2295 6120 5865 6885 5610 6120 6120 2550 2295 2550 1275\n",
      " 1020  255  255  510 1530 1530  510 1020  255  510  510 1020 1020  765\n",
      " 1020  765 1275  255  510 1530 1020  765 1785  765 2040 1785 2295 1530\n",
      " 1530 1275 1275 1785 1020 1785 1275    0 1020 1530  255  765  255  255\n",
      "  765  255    0  255  510  255    0    0  255]\n",
      "[ 765 1785 6375 8670 6375 4335 4080 2295  765 1275  765 1020  765  765\n",
      "  255  765 1275  765    0  765  255  510  255  765  255  510  255  510\n",
      "  255 1020 1020  255  255  765  510  765  510 1020  510 1020 1020  510\n",
      " 1020 1020  510  765 1530 2040 1275 2550 1275 1020 2805 1785 1785 1275\n",
      "  510 1275  255  510 1020  510    0  765  510]\n",
      "[ 3570  6885 10965 11475 12495  9690  6630  2550  1530  1785  1020  1275\n",
      "  1020   765  2040   510   765   765   765   255  1020   765   255  1020\n",
      "   765   510   765   765   510   510   510   510  1020   765  1275  1785\n",
      "  1020   510   510  1275  1275  2040   765  1530   765  2550  1020  1530\n",
      "  1020  1530  2805  1020  1020  1785  1785  1275   765  1530  1275   510\n",
      "  1020   510   510   510   255]\n",
      "[  765  2040  5610  8670 10455 12240  8670  5865  4845  4845  2295   765\n",
      "  1530  1530  1530   510   765  1020   765   765   765     0     0     0\n",
      "   510   510     0   255   765   255   765   765   510   765   765   510\n",
      "   510   765   765   765   765   510  1020   765  2040  2805  2295  2805\n",
      "  1785  2550  3060  2295  1785  3060  1530  2040  1530   765  1020  1785\n",
      "   255   765     0   510   255]\n",
      "[ 765 1275 3315 6885 6630 6885 4080 2805 2295 2040  510  765  255 1530\n",
      " 1020    0  765  255 1020    0  765  510  765  765    0  255 1020  765\n",
      "  255  255  255 1020  510  255    0 1275  510  765  510  510  510 1020\n",
      "  765  765  510 2295 1530  510 3060 1275 2550 1530 1020 2550 2040 2040\n",
      "  255  765 1275  510 1020    0  510    0  255]\n",
      "[ 510 1275 2805 3315 4080 5355 4080 4080 3570 2295 2550 1785 1785 1275\n",
      " 1275  510  255 1020  255  255  510  765  765  510  510 1020 1275  510\n",
      "  510  510  510  510  765 1020 1530 1020 2550 1785  765 1785 2295  510\n",
      " 2040 3825 2295 3825 1530 1530  765  510    0  255  255  510  255    0\n",
      "  255    0    0    0  255    0    0    0  255]\n",
      "[ 765 1020 3315 4335 5100 5610 8925 7650 9180 5355 3825 4590 2805 2550\n",
      " 1785  765 1020  510 1275 1275  510 1785  255  510  510 1020    0 1020\n",
      "  510  765  510  765 1020 1020  765  765 1275 1530  765  765  255 1275\n",
      " 1530 1530 1530 1785 2040 1020 1275 1530 2550 2040 3315 1530 2295 2805\n",
      " 1020 1275 1020 1275 1020  765  255    0  765]\n",
      "[ 765 1530 3315 4845 6375 7650 5865 5865 3570 3315 2040 3315  510 1020\n",
      " 1275 1275 1020  765  765  510  255  510 1530    0  765  255  255  255\n",
      "  510 1020  255 1275 1275  765  510 1020 1275  765    0  765  255 1275\n",
      " 1020 1275  765  510  765 2040 2550  510 2550 2040 1275 1530 1785 2040\n",
      "  765  765  510 1785 1530 2550  765 1020 1275]\n",
      "[  510  5355 10455 14025 10200  7140  3060  2040  2040  1020  1275   510\n",
      "  1020   510  1785   510   510   765  1275   255   765   255   255   255\n",
      "   255  1020   255   255   510   510   255   765   510  1275   510  1785\n",
      "   510   255  1530   765  1785  1020  2040  1785  1785  1275  2040   765\n",
      "  2040   765   765  1275   765   765   255   765   765  1020   255  1275\n",
      "   765     0   765     0   510]\n",
      "[1020 3060 5610 5355 4590 4845 4080 2805 1020 2040 1530 1020 1020    0\n",
      " 1020  510 1020  510  510  510  510  510  510 1275  765  510    0 1020\n",
      "  510  510  510 1275  255  510  255  765  765 1530 1530 1020 1275  765\n",
      " 2550 1020  510 2805 1275 1020 2295 2295 1785 1785 2040 3315 2295 3315\n",
      " 2295 2550  510  510  765 1785  510  255  765]\n",
      "[ 5865 17085 15555 15300 10710  7905  4590  1785   765  1530  1275  1275\n",
      "   510  1530   765  1530   255  1020     0   255  1020   765   510   255\n",
      "   765     0   510   510   255   255   765     0  1275   510  1020  1530\n",
      "  1020     0     0  1275  2040   765   765  1275   510  2040   765   765\n",
      "  2550  2295   765   255   765  1020   510  1020  1020   510   255   765\n",
      "     0   255     0   255   510]\n",
      "[ 2550 12495 13005 11730  7395  4845  1530  1530  2040  1020   765   765\n",
      "   765   510     0   765  1530   510   510     0   765   510   765   510\n",
      "   765   765   510  1020  1020  1785  1530  1530   510   765  1530  1275\n",
      "  1020  1785  2040  2295   765  2040  1020   765   765   510  1275   765\n",
      "  1020  1275   510   255   510   255     0     0  1275   255   255   255\n",
      "     0   255     0   510   510]\n",
      "[ 2805  5610 15045 15555 16320 12240 11220  6120  6375  2550  2040  2805\n",
      "  1530  2295  1020   255   765   765   510   255   765  1275   765   510\n",
      "   765  1785   510   765  1275   510   255  1275  1020   765  1020  1275\n",
      "  2295  3060  2295  1785  1275  2805  2550  2805  2805  3825  2805  2550\n",
      "  3825  2550  2040  2295  1785  1785  1275   510   510   510   765  1275\n",
      "   255   765   255   255   255]\n",
      "[ 510 3570 8415 9690 5610 3825 1785 3060 2550  510 1785  510  765    0\n",
      "  255  765 1275 1020  510  255  510    0    0  510  510  510 1020 1020\n",
      "  510    0  765  510  765  510  255  765  255  765  510  255    0 1020\n",
      " 1020  510 1020 1530 1275 1020 1020 2040 1275 1530 2295 1020 1530 1530\n",
      "  765  765 1530  765 1275  765    0  255  255]\n",
      "[ 255 1020 4845 6885 7395 4335 3060 2295 1020 2295  510 1020    0 1020\n",
      "  255 1020  510  510  765 3315 1275 3060 4335 5355 4845 2550 1530 1275\n",
      " 2550 2040 1785 1275 3570 1530 3060 2805 1275 1530 1020  765 1020  255\n",
      " 1020  510  510  765  510  510  510  510  255  255 1275  510 1020  510\n",
      " 1020  765    0  255    0    0    0    0  255]\n",
      "[ 6885 24735  9945  4845  2295  1530  2040  1275  1530  3060  1275  2805\n",
      "  5355  3825  2040  2295  2040  2805  1275  1020  2805  1530   510  2295\n",
      "  3825  2550  2295  2295  2295  2550  3060   765   765  1785   510  1275\n",
      "  1530  1020   765  1785   510  1530   255     0   510     0   255   255\n",
      "     0     0     0     0   255   255   255     0     0     0     0     0\n",
      "     0     0     0     0   255]\n",
      "[ 2805  3060  7140 10455 10455  6630  5610  4080  2295  2040   765   255\n",
      "  1530   510   255   510   765   510     0   510  1275  1020  1020     0\n",
      "  1020   255   255   255   255     0   255   765   765     0   510  1020\n",
      "   255   255   765   510   510   255  1785  1785   765  1530  1530  2550\n",
      "  1020   765   765  2295  1785  1020   765  3315  1020  1275  1785   255\n",
      "   765  1020   510  1020  1275]\n",
      "[ 8925 40800 37995  9180  3825  1530  1785  1530  1275   255  1020  1020\n",
      "  1785   765   510   765  1020   510   510  1020   765  1020   255   765\n",
      "   765     0   255   510  1530  1530  1020   255   765  1530  1530  1020\n",
      "   765  1785  1020  2295  1785  1275  1275   510  1530   510   255   510\n",
      "   765     0     0   255     0   255   510   510   255   255   255     0\n",
      "     0   255     0     0   510]\n",
      "[  765  4080  6375 12240  6885  4335  4335  2040  2295  1020  1530  2550\n",
      "  1020  1785   765  1530  1020   255  1530  1530   255  1020  1785  2040\n",
      "  1275  1020  1785  1020  3060  2040  1530  2295  1785   765   510  1275\n",
      "  1275  2295   765   765  1020  2295  1785  1785  1275   255  1530  1275\n",
      "   255   765   255     0     0     0   510   510     0   255   510   510\n",
      "     0     0     0   510   255]\n",
      "[ 2040  4335  7395 11985  9180  3315  1785  2295   510   510  2550     0\n",
      "  1275  1020  1275  1020   510   765   765   510   255  1020  1275   510\n",
      "   510  1020  1530  1530   255  2040  1275  1275  2040  3060  1785  2805\n",
      "  1275  2295  3060  1530  2295  1785  2295  1530  1785  1785   510   255\n",
      "   765   510   510   510  1530   765   255   510   255     0     0     0\n",
      "   510     0     0     0   255]\n",
      "[ 4845 21420 32640 13260  6885  3315  2295  2295  1530  1785   510  1275\n",
      "  1275  1275   510  1275  1275   765   765  2805  2040  2550  1530  2040\n",
      "  2805  2040  3570  3315  1785  1785  2805  1020  1275  1275  2295  1275\n",
      "   510  1275   510   510  1275   510   255  1020     0  1020   510     0\n",
      "     0   510   255   765   765   255   255   255   255   255     0     0\n",
      "     0     0     0     0   510]\n"
     ]
    }
   ],
   "source": [
    "#print(pcna_crops_flat_pad[0])\n",
    "for i in range(100):\n",
    "    image_id = i\n",
    "    new_arr = []\n",
    "    for i in pcna_crops_flat_pad[image_id]:\n",
    "        if i != 0: new_arr.append(i)\n",
    "    #plt.title(cell_labels[image_id])\n",
    "    #b, bins, patches = plt.hist(new_arr*255,bins=65,color='blue')\n",
    "    #plt.xlim([0,255])\n",
    "    hist, bins = np.histogram(new_arr*255,bins=65)"
   ],
   "metadata": {
    "collapsed": false,
    "pycharm": {
     "name": "#%%\n"
    }
   }
  },
  {
   "cell_type": "code",
   "execution_count": 161,
   "outputs": [
    {
     "name": "stdout",
     "output_type": "stream",
     "text": [
      "0/26486\n",
      "100/26486\n",
      "200/26486\n",
      "300/26486\n",
      "400/26486\n",
      "500/26486\n",
      "600/26486\n",
      "700/26486\n",
      "800/26486\n",
      "900/26486\n",
      "1000/26486\n",
      "1100/26486\n",
      "1200/26486\n",
      "1300/26486\n",
      "1400/26486\n",
      "1500/26486\n",
      "1600/26486\n",
      "1700/26486\n",
      "1800/26486\n",
      "1900/26486\n",
      "2000/26486\n",
      "2100/26486\n",
      "2200/26486\n",
      "2300/26486\n",
      "2400/26486\n",
      "2500/26486\n",
      "2600/26486\n",
      "2700/26486\n",
      "2800/26486\n",
      "2900/26486\n",
      "3000/26486\n",
      "3100/26486\n",
      "3200/26486\n",
      "3300/26486\n",
      "3400/26486\n",
      "3500/26486\n",
      "3600/26486\n",
      "3700/26486\n",
      "3800/26486\n",
      "3900/26486\n",
      "4000/26486\n",
      "4100/26486\n",
      "4200/26486\n",
      "4300/26486\n",
      "4400/26486\n",
      "4500/26486\n",
      "4600/26486\n",
      "4700/26486\n",
      "4800/26486\n",
      "4900/26486\n",
      "5000/26486\n",
      "5100/26486\n",
      "5200/26486\n",
      "5300/26486\n",
      "5400/26486\n",
      "5500/26486\n",
      "5600/26486\n",
      "5700/26486\n",
      "5800/26486\n",
      "5900/26486\n",
      "6000/26486\n",
      "6100/26486\n",
      "6200/26486\n",
      "6300/26486\n",
      "6400/26486\n",
      "6500/26486\n",
      "6600/26486\n",
      "6700/26486\n",
      "6800/26486\n",
      "6900/26486\n",
      "7000/26486\n",
      "7100/26486\n",
      "7200/26486\n",
      "7300/26486\n",
      "7400/26486\n",
      "7500/26486\n",
      "7600/26486\n",
      "7700/26486\n",
      "7800/26486\n",
      "7900/26486\n",
      "8000/26486\n",
      "8100/26486\n",
      "8200/26486\n",
      "8300/26486\n",
      "8400/26486\n",
      "8500/26486\n",
      "8600/26486\n",
      "8700/26486\n",
      "8800/26486\n",
      "8900/26486\n",
      "9000/26486\n",
      "9100/26486\n",
      "9200/26486\n",
      "9300/26486\n",
      "9400/26486\n",
      "9500/26486\n",
      "9600/26486\n",
      "9700/26486\n",
      "9800/26486\n",
      "9900/26486\n",
      "10000/26486\n",
      "10100/26486\n",
      "10200/26486\n",
      "10300/26486\n",
      "10400/26486\n",
      "10500/26486\n",
      "10600/26486\n",
      "10700/26486\n",
      "10800/26486\n",
      "10900/26486\n",
      "11000/26486\n",
      "11100/26486\n",
      "11200/26486\n",
      "11300/26486\n",
      "11400/26486\n",
      "11500/26486\n",
      "11600/26486\n",
      "11700/26486\n",
      "11800/26486\n",
      "11900/26486\n",
      "12000/26486\n",
      "12100/26486\n",
      "12200/26486\n",
      "12300/26486\n",
      "12400/26486\n",
      "12500/26486\n",
      "12600/26486\n",
      "12700/26486\n",
      "12800/26486\n",
      "12900/26486\n",
      "13000/26486\n",
      "13100/26486\n",
      "13200/26486\n",
      "13300/26486\n",
      "13400/26486\n",
      "13500/26486\n",
      "13600/26486\n",
      "13700/26486\n",
      "13800/26486\n",
      "13900/26486\n",
      "14000/26486\n",
      "14100/26486\n",
      "14200/26486\n",
      "14300/26486\n",
      "14400/26486\n",
      "14500/26486\n",
      "14600/26486\n",
      "14700/26486\n",
      "14800/26486\n",
      "14900/26486\n",
      "15000/26486\n",
      "15100/26486\n",
      "15200/26486\n",
      "15300/26486\n",
      "15400/26486\n",
      "15500/26486\n",
      "15600/26486\n",
      "15700/26486\n",
      "15800/26486\n",
      "15900/26486\n",
      "16000/26486\n",
      "16100/26486\n",
      "16200/26486\n",
      "16300/26486\n",
      "16400/26486\n",
      "16500/26486\n",
      "16600/26486\n",
      "16700/26486\n",
      "16800/26486\n",
      "16900/26486\n",
      "17000/26486\n",
      "17100/26486\n",
      "17200/26486\n",
      "17300/26486\n",
      "17400/26486\n",
      "17500/26486\n",
      "17600/26486\n",
      "17700/26486\n",
      "17800/26486\n",
      "17900/26486\n",
      "18000/26486\n",
      "18100/26486\n",
      "18200/26486\n",
      "18300/26486\n",
      "18400/26486\n",
      "18500/26486\n",
      "18600/26486\n",
      "18700/26486\n",
      "18800/26486\n",
      "18900/26486\n",
      "19000/26486\n",
      "19100/26486\n",
      "19200/26486\n",
      "19300/26486\n",
      "19400/26486\n",
      "19500/26486\n",
      "19600/26486\n",
      "19700/26486\n",
      "19800/26486\n",
      "19900/26486\n",
      "20000/26486\n",
      "20100/26486\n",
      "20200/26486\n",
      "20300/26486\n",
      "20400/26486\n",
      "20500/26486\n",
      "20600/26486\n",
      "20700/26486\n",
      "20800/26486\n",
      "20900/26486\n",
      "21000/26486\n",
      "21100/26486\n",
      "21200/26486\n",
      "21300/26486\n",
      "21400/26486\n",
      "21500/26486\n",
      "21600/26486\n",
      "21700/26486\n",
      "21800/26486\n",
      "21900/26486\n",
      "22000/26486\n",
      "22100/26486\n",
      "22200/26486\n",
      "22300/26486\n",
      "22400/26486\n",
      "22500/26486\n",
      "22600/26486\n",
      "22700/26486\n",
      "22800/26486\n",
      "22900/26486\n",
      "23000/26486\n",
      "23100/26486\n",
      "23200/26486\n",
      "23300/26486\n",
      "23400/26486\n",
      "23500/26486\n",
      "23600/26486\n",
      "23700/26486\n",
      "23800/26486\n",
      "23900/26486\n",
      "24000/26486\n",
      "24100/26486\n",
      "24200/26486\n",
      "24300/26486\n",
      "24400/26486\n",
      "24500/26486\n",
      "24600/26486\n",
      "24700/26486\n",
      "24800/26486\n",
      "24900/26486\n",
      "25000/26486\n",
      "25100/26486\n",
      "25200/26486\n",
      "25300/26486\n",
      "25400/26486\n",
      "25500/26486\n",
      "25600/26486\n",
      "25700/26486\n",
      "25800/26486\n",
      "25900/26486\n",
      "26000/26486\n",
      "26100/26486\n",
      "26200/26486\n",
      "26300/26486\n",
      "26400/26486\n",
      "training\n"
     ]
    },
    {
     "ename": "ValueError",
     "evalue": "Found input variables with inconsistent numbers of samples: [26486, 126486]",
     "output_type": "error",
     "traceback": [
      "\u001B[1;31m---------------------------------------------------------------------------\u001B[0m",
      "\u001B[1;31mValueError\u001B[0m                                Traceback (most recent call last)",
      "Input \u001B[1;32mIn [161]\u001B[0m, in \u001B[0;36m<cell line: 19>\u001B[1;34m()\u001B[0m\n\u001B[0;32m     16\u001B[0m labels \u001B[38;5;241m=\u001B[39m cell_labels\n\u001B[0;32m     18\u001B[0m \u001B[38;5;28mprint\u001B[39m(\u001B[38;5;124m'\u001B[39m\u001B[38;5;124mtraining\u001B[39m\u001B[38;5;124m'\u001B[39m)\n\u001B[1;32m---> 19\u001B[0m X_train, X_test, y_train, y_test \u001B[38;5;241m=\u001B[39m \u001B[43mtrain_test_split\u001B[49m\u001B[43m(\u001B[49m\u001B[43mhistograms\u001B[49m\u001B[43m,\u001B[49m\u001B[43m \u001B[49m\u001B[43mlabels\u001B[49m\u001B[43m,\u001B[49m\u001B[43m \u001B[49m\u001B[43mtest_size\u001B[49m\u001B[38;5;241;43m=\u001B[39;49m\u001B[38;5;241;43m0.4\u001B[39;49m\u001B[43m,\u001B[49m\u001B[43m \u001B[49m\u001B[43mrandom_state\u001B[49m\u001B[38;5;241;43m=\u001B[39;49m\u001B[38;5;241;43m42\u001B[39;49m\u001B[43m)\u001B[49m\n\u001B[0;32m     20\u001B[0m pcna_mod \u001B[38;5;241m=\u001B[39m LinearRegression()\u001B[38;5;241m.\u001B[39mfit(X_train,y_train)\n\u001B[0;32m     21\u001B[0m \u001B[38;5;28mprint\u001B[39m(\u001B[38;5;124m'\u001B[39m\u001B[38;5;124mPCNA accuracy:\u001B[39m\u001B[38;5;124m'\u001B[39m,np\u001B[38;5;241m.\u001B[39mcount_nonzero(y_test \u001B[38;5;241m==\u001B[39m np\u001B[38;5;241m.\u001B[39mround(pcna_mod\u001B[38;5;241m.\u001B[39mpredict(X_test))\u001B[38;5;241m.\u001B[39mastype(\u001B[38;5;28mint\u001B[39m))\u001B[38;5;241m*\u001B[39m\u001B[38;5;241m100\u001B[39m\u001B[38;5;241m/\u001B[39m\u001B[38;5;28mlen\u001B[39m(X_test))\n",
      "File \u001B[1;32m~\\.conda\\envs\\celldev\\lib\\site-packages\\sklearn\\model_selection\\_split.py:2430\u001B[0m, in \u001B[0;36mtrain_test_split\u001B[1;34m(test_size, train_size, random_state, shuffle, stratify, *arrays)\u001B[0m\n\u001B[0;32m   2427\u001B[0m \u001B[38;5;28;01mif\u001B[39;00m n_arrays \u001B[38;5;241m==\u001B[39m \u001B[38;5;241m0\u001B[39m:\n\u001B[0;32m   2428\u001B[0m     \u001B[38;5;28;01mraise\u001B[39;00m \u001B[38;5;167;01mValueError\u001B[39;00m(\u001B[38;5;124m\"\u001B[39m\u001B[38;5;124mAt least one array required as input\u001B[39m\u001B[38;5;124m\"\u001B[39m)\n\u001B[1;32m-> 2430\u001B[0m arrays \u001B[38;5;241m=\u001B[39m \u001B[43mindexable\u001B[49m\u001B[43m(\u001B[49m\u001B[38;5;241;43m*\u001B[39;49m\u001B[43marrays\u001B[49m\u001B[43m)\u001B[49m\n\u001B[0;32m   2432\u001B[0m n_samples \u001B[38;5;241m=\u001B[39m _num_samples(arrays[\u001B[38;5;241m0\u001B[39m])\n\u001B[0;32m   2433\u001B[0m n_train, n_test \u001B[38;5;241m=\u001B[39m _validate_shuffle_split(\n\u001B[0;32m   2434\u001B[0m     n_samples, test_size, train_size, default_test_size\u001B[38;5;241m=\u001B[39m\u001B[38;5;241m0.25\u001B[39m\n\u001B[0;32m   2435\u001B[0m )\n",
      "File \u001B[1;32m~\\.conda\\envs\\celldev\\lib\\site-packages\\sklearn\\utils\\validation.py:433\u001B[0m, in \u001B[0;36mindexable\u001B[1;34m(*iterables)\u001B[0m\n\u001B[0;32m    414\u001B[0m \u001B[38;5;124;03m\"\"\"Make arrays indexable for cross-validation.\u001B[39;00m\n\u001B[0;32m    415\u001B[0m \n\u001B[0;32m    416\u001B[0m \u001B[38;5;124;03mChecks consistent length, passes through None, and ensures that everything\u001B[39;00m\n\u001B[1;32m   (...)\u001B[0m\n\u001B[0;32m    429\u001B[0m \u001B[38;5;124;03m    sparse matrix, or dataframe) or `None`.\u001B[39;00m\n\u001B[0;32m    430\u001B[0m \u001B[38;5;124;03m\"\"\"\u001B[39;00m\n\u001B[0;32m    432\u001B[0m result \u001B[38;5;241m=\u001B[39m [_make_indexable(X) \u001B[38;5;28;01mfor\u001B[39;00m X \u001B[38;5;129;01min\u001B[39;00m iterables]\n\u001B[1;32m--> 433\u001B[0m \u001B[43mcheck_consistent_length\u001B[49m\u001B[43m(\u001B[49m\u001B[38;5;241;43m*\u001B[39;49m\u001B[43mresult\u001B[49m\u001B[43m)\u001B[49m\n\u001B[0;32m    434\u001B[0m \u001B[38;5;28;01mreturn\u001B[39;00m result\n",
      "File \u001B[1;32m~\\.conda\\envs\\celldev\\lib\\site-packages\\sklearn\\utils\\validation.py:387\u001B[0m, in \u001B[0;36mcheck_consistent_length\u001B[1;34m(*arrays)\u001B[0m\n\u001B[0;32m    385\u001B[0m uniques \u001B[38;5;241m=\u001B[39m np\u001B[38;5;241m.\u001B[39munique(lengths)\n\u001B[0;32m    386\u001B[0m \u001B[38;5;28;01mif\u001B[39;00m \u001B[38;5;28mlen\u001B[39m(uniques) \u001B[38;5;241m>\u001B[39m \u001B[38;5;241m1\u001B[39m:\n\u001B[1;32m--> 387\u001B[0m     \u001B[38;5;28;01mraise\u001B[39;00m \u001B[38;5;167;01mValueError\u001B[39;00m(\n\u001B[0;32m    388\u001B[0m         \u001B[38;5;124m\"\u001B[39m\u001B[38;5;124mFound input variables with inconsistent numbers of samples: \u001B[39m\u001B[38;5;132;01m%r\u001B[39;00m\u001B[38;5;124m\"\u001B[39m\n\u001B[0;32m    389\u001B[0m         \u001B[38;5;241m%\u001B[39m [\u001B[38;5;28mint\u001B[39m(l) \u001B[38;5;28;01mfor\u001B[39;00m l \u001B[38;5;129;01min\u001B[39;00m lengths]\n\u001B[0;32m    390\u001B[0m     )\n",
      "\u001B[1;31mValueError\u001B[0m: Found input variables with inconsistent numbers of samples: [26486, 126486]"
     ]
    }
   ],
   "source": [
    "#Lets get the hisogram and the cell labels and make a linear regression on that\n",
    "\n",
    "histograms = []\n",
    "for i in range(len(pcna_crops_flat_pad)-100000):\n",
    "    if i % 100 == 0: print(str(i) + '/' + str(len(pcna_crops_flat_pad)-100000))\n",
    "    image_id = i\n",
    "    new_arr = []\n",
    "    for i in pcna_crops_flat_pad[image_id]:\n",
    "        if i != 0: new_arr.append(i)\n",
    "    #plt.title(cell_labels[image_id])\n",
    "    #b, bins, patches = plt.hist(new_arr*255,bins=65,color='blue')\n",
    "    #plt.xlim([0,255])\n",
    "    hist, bins = np.histogram(new_arr*255,bins=65)\n",
    "    histograms.append(hist)\n",
    "\n",
    "labels = cell_labels\n",
    "\n",
    "print('training')\n"
   ],
   "metadata": {
    "collapsed": false,
    "pycharm": {
     "name": "#%%\n"
    }
   }
  },
  {
   "cell_type": "code",
   "execution_count": 181,
   "outputs": [
    {
     "name": "stdout",
     "output_type": "stream",
     "text": [
      "PCNA accuracy: 50.66062665156663\n"
     ]
    }
   ],
   "source": [
    "X_train, X_test, y_train, y_test = train_test_split(histograms, labels[:26486], test_size=0.1, random_state=42)\n",
    "pcna_mod = LinearRegression().fit(X_train,y_train)\n",
    "print('PCNA accuracy:',np.count_nonzero(y_test == np.round(pcna_mod.predict(X_test)).astype(int))*100/len(X_test))\n",
    "conf_pcna = pcna_mod.predict(X_test)"
   ],
   "metadata": {
    "collapsed": false,
    "pycharm": {
     "name": "#%%\n"
    }
   }
  },
  {
   "cell_type": "code",
   "execution_count": null,
   "outputs": [],
   "source": [
    "#Make a neural network\n",
    "\n",
    "#Let's get the X data which is the DAPI, Cyclin A2 etc. values\n",
    "#Since we use the same random state (42) it should be the same train and test models\n",
    "#I'll reduce the train size to have more testing data points\n",
    "#This is because we will use these test data points to make values predictions (DAPI etc.)\n",
    "#And these predictions will be part of the training for the neural network\n",
    "#This is because we are making this mega model that starts from PCNA to predict these values that will be used to predict the label\n",
    "#So the X data in this cell will be the value predictiosn (DAPI etc) that we'll generate from the testing data, then we'll split these values with the y being the cell_labels we just got from the cell above\n",
    "#Then we'll put these in a neural network"
   ],
   "metadata": {
    "collapsed": false,
    "pycharm": {
     "name": "#%%\n"
    }
   }
  },
  {
   "cell_type": "code",
   "execution_count": 218,
   "outputs": [],
   "source": [
    "cell_labels = get_cell_labels(df)\n",
    "\n",
    "def get_value_predictions(X_test, models, pcna_values):\n",
    "    all_preds = []\n",
    "    for model in models:\n",
    "        all_preds.append(model.predict(X_test))\n",
    "\n",
    "    value_predictions = pcna_values\n",
    "    for i in range(len(all_preds)):\n",
    "        value_predictions = np.dstack((value_predictions,all_preds[i]))\n",
    "\n",
    "    value_predictions = np.squeeze(value_predictions)\n",
    "    return value_predictions\n",
    "\n",
    "#really this is a split just to get the correct X_test\n",
    "#we're redoing an X_test right after this with the same random_state just to get the values_predictions as the X\n",
    "cell_labels = get_cell_labels(df)\n",
    "indices = np.arange(len(pcna_crops_flat_pad))\n",
    "X_train, X_test, y_train, y_test, indices_train, indices_test = train_test_split(pcna_crops_flat_pad, cell_labels, indices, test_size=0.5, random_state=42, shuffle=False)\n",
    "pcna_values_del = np.delete(pcna_values, indices_train)\n",
    "values_predictions = get_value_predictions(X_test,[dapi_mod,cyclina2_mod,edu_mod,dna_mod],pcna_values_del)\n",
    "\n",
    "cell_labels = np.delete(cell_labels,indices_train) #dropping the training data points\n",
    "\n",
    "X_train, X_test, y_train, y_test = train_test_split(values_predictions, cell_labels, test_size=0.5, random_state=42)"
   ],
   "metadata": {
    "collapsed": false,
    "pycharm": {
     "name": "#%%\n"
    }
   }
  },
  {
   "cell_type": "code",
   "execution_count": 6,
   "outputs": [
    {
     "ename": "KeyboardInterrupt",
     "evalue": "",
     "output_type": "error",
     "traceback": [
      "\u001B[1;31m---------------------------------------------------------------------------\u001B[0m",
      "\u001B[1;31mKeyboardInterrupt\u001B[0m                         Traceback (most recent call last)",
      "Input \u001B[1;32mIn [6]\u001B[0m, in \u001B[0;36m<cell line: 4>\u001B[1;34m()\u001B[0m\n\u001B[0;32m      1\u001B[0m \u001B[38;5;66;03m#Let's make a mlp classifier that classifies using the real values of each DAPI and all\u001B[39;00m\n\u001B[0;32m      2\u001B[0m \u001B[38;5;66;03m#Then we'll decrease and observe by how much it changes\u001B[39;00m\n\u001B[1;32m----> 4\u001B[0m X \u001B[38;5;241m=\u001B[39m np\u001B[38;5;241m.\u001B[39mdstack((\u001B[43mget_label_values\u001B[49m\u001B[43m(\u001B[49m\u001B[43mdf\u001B[49m\u001B[43m)\u001B[49m))\u001B[38;5;241m.\u001B[39msqueeze()\n\u001B[0;32m      5\u001B[0m y \u001B[38;5;241m=\u001B[39m get_cell_labels(df)\n\u001B[0;32m      6\u001B[0m X_train, X_test, y_train, y_test \u001B[38;5;241m=\u001B[39m train_test_split(X, y, test_size\u001B[38;5;241m=\u001B[39m\u001B[38;5;241m0.5\u001B[39m, random_state\u001B[38;5;241m=\u001B[39m\u001B[38;5;241m42\u001B[39m, shuffle\u001B[38;5;241m=\u001B[39m\u001B[38;5;28;01mFalse\u001B[39;00m)\n",
      "Input \u001B[1;32mIn [5]\u001B[0m, in \u001B[0;36mget_label_values\u001B[1;34m(df)\u001B[0m\n\u001B[0;32m     10\u001B[0m     edu_values\u001B[38;5;241m.\u001B[39mappend(df[\u001B[38;5;124m'\u001B[39m\u001B[38;5;124medu_values\u001B[39m\u001B[38;5;124m'\u001B[39m][i])\n\u001B[0;32m     11\u001B[0m     dna_values\u001B[38;5;241m.\u001B[39mappend(df[\u001B[38;5;124m'\u001B[39m\u001B[38;5;124mDNA_content\u001B[39m\u001B[38;5;124m'\u001B[39m][i])\n\u001B[1;32m---> 12\u001B[0m     pcna_values\u001B[38;5;241m.\u001B[39mappend(\u001B[43mdf\u001B[49m\u001B[43m[\u001B[49m\u001B[38;5;124;43m'\u001B[39;49m\u001B[38;5;124;43mpcna_values\u001B[39;49m\u001B[38;5;124;43m'\u001B[39;49m\u001B[43m]\u001B[49m\u001B[43m[\u001B[49m\u001B[43mi\u001B[49m\u001B[43m]\u001B[49m)\n\u001B[0;32m     13\u001B[0m dapi_values \u001B[38;5;241m=\u001B[39m np\u001B[38;5;241m.\u001B[39marray(dapi_values)\n\u001B[0;32m     14\u001B[0m cyclina2_values \u001B[38;5;241m=\u001B[39m np\u001B[38;5;241m.\u001B[39marray(cyclina2_values)\n",
      "File \u001B[1;32m~\\.conda\\envs\\celldev\\lib\\site-packages\\pandas\\core\\series.py:958\u001B[0m, in \u001B[0;36mSeries.__getitem__\u001B[1;34m(self, key)\u001B[0m\n\u001B[0;32m    955\u001B[0m     \u001B[38;5;28;01mreturn\u001B[39;00m \u001B[38;5;28mself\u001B[39m\u001B[38;5;241m.\u001B[39m_values[key]\n\u001B[0;32m    957\u001B[0m \u001B[38;5;28;01melif\u001B[39;00m key_is_scalar:\n\u001B[1;32m--> 958\u001B[0m     \u001B[38;5;28;01mreturn\u001B[39;00m \u001B[38;5;28;43mself\u001B[39;49m\u001B[38;5;241;43m.\u001B[39;49m\u001B[43m_get_value\u001B[49m\u001B[43m(\u001B[49m\u001B[43mkey\u001B[49m\u001B[43m)\u001B[49m\n\u001B[0;32m    960\u001B[0m \u001B[38;5;28;01mif\u001B[39;00m is_hashable(key):\n\u001B[0;32m    961\u001B[0m     \u001B[38;5;66;03m# Otherwise index.get_value will raise InvalidIndexError\u001B[39;00m\n\u001B[0;32m    962\u001B[0m     \u001B[38;5;28;01mtry\u001B[39;00m:\n\u001B[0;32m    963\u001B[0m         \u001B[38;5;66;03m# For labels that don't resolve as scalars like tuples and frozensets\u001B[39;00m\n",
      "File \u001B[1;32m~\\.conda\\envs\\celldev\\lib\\site-packages\\pandas\\core\\series.py:1069\u001B[0m, in \u001B[0;36mSeries._get_value\u001B[1;34m(self, label, takeable)\u001B[0m\n\u001B[0;32m   1066\u001B[0m     \u001B[38;5;28;01mreturn\u001B[39;00m \u001B[38;5;28mself\u001B[39m\u001B[38;5;241m.\u001B[39m_values[label]\n\u001B[0;32m   1068\u001B[0m \u001B[38;5;66;03m# Similar to Index.get_value, but we do not fall back to positional\u001B[39;00m\n\u001B[1;32m-> 1069\u001B[0m loc \u001B[38;5;241m=\u001B[39m \u001B[38;5;28;43mself\u001B[39;49m\u001B[38;5;241;43m.\u001B[39;49m\u001B[43mindex\u001B[49m\u001B[38;5;241;43m.\u001B[39;49m\u001B[43mget_loc\u001B[49m\u001B[43m(\u001B[49m\u001B[43mlabel\u001B[49m\u001B[43m)\u001B[49m\n\u001B[0;32m   1070\u001B[0m \u001B[38;5;28;01mreturn\u001B[39;00m \u001B[38;5;28mself\u001B[39m\u001B[38;5;241m.\u001B[39mindex\u001B[38;5;241m.\u001B[39m_get_values_for_loc(\u001B[38;5;28mself\u001B[39m, loc, label)\n",
      "File \u001B[1;32m~\\.conda\\envs\\celldev\\lib\\site-packages\\pandas\\core\\indexes\\range.py:385\u001B[0m, in \u001B[0;36mRangeIndex.get_loc\u001B[1;34m(self, key, method, tolerance)\u001B[0m\n\u001B[0;32m    383\u001B[0m new_key \u001B[38;5;241m=\u001B[39m \u001B[38;5;28mint\u001B[39m(key)\n\u001B[0;32m    384\u001B[0m \u001B[38;5;28;01mtry\u001B[39;00m:\n\u001B[1;32m--> 385\u001B[0m     \u001B[38;5;28;01mreturn\u001B[39;00m \u001B[38;5;28;43mself\u001B[39;49m\u001B[38;5;241;43m.\u001B[39;49m\u001B[43m_range\u001B[49m\u001B[38;5;241;43m.\u001B[39;49m\u001B[43mindex\u001B[49m(new_key)\n\u001B[0;32m    386\u001B[0m \u001B[38;5;28;01mexcept\u001B[39;00m \u001B[38;5;167;01mValueError\u001B[39;00m \u001B[38;5;28;01mas\u001B[39;00m err:\n\u001B[0;32m    387\u001B[0m     \u001B[38;5;28;01mraise\u001B[39;00m \u001B[38;5;167;01mKeyError\u001B[39;00m(key) \u001B[38;5;28;01mfrom\u001B[39;00m \u001B[38;5;21;01merr\u001B[39;00m\n",
      "\u001B[1;31mKeyboardInterrupt\u001B[0m: "
     ]
    }
   ],
   "source": [
    "#Let's make a mlp classifier that classifies using the real values of each DAPI and all\n",
    "#Then we'll decrease and observe by how much it changes\n",
    "\n",
    "X = np.dstack((get_label_values(df))).squeeze()\n",
    "y = get_cell_labels(df)\n",
    "X_train, X_test, y_train, y_test = train_test_split(X, y, test_size=0.5, random_state=42, shuffle=False)"
   ],
   "metadata": {
    "collapsed": false,
    "pycharm": {
     "name": "#%%\n"
    }
   }
  },
  {
   "cell_type": "code",
   "execution_count": 246,
   "outputs": [
    {
     "name": "stdout",
     "output_type": "stream",
     "text": [
      "0.8135920180889584\n"
     ]
    },
    {
     "name": "stderr",
     "output_type": "stream",
     "text": [
      "C:\\Users\\rz200\\.conda\\envs\\celldev\\lib\\site-packages\\sklearn\\neural_network\\_multilayer_perceptron.py:559: ConvergenceWarning: lbfgs failed to converge (status=1):\n",
      "STOP: TOTAL NO. of ITERATIONS REACHED LIMIT.\n",
      "\n",
      "Increase the number of iterations (max_iter) or scale the data as shown in:\n",
      "    https://scikit-learn.org/stable/modules/preprocessing.html\n",
      "  self.n_iter_ = _check_optimize_result(\"lbfgs\", opt_res, self.max_iter)\n"
     ]
    }
   ],
   "source": [
    "from sklearn.neural_network import MLPClassifier\n",
    "\n",
    "clf = MLPClassifier(solver='lbfgs', alpha=1e-5, hidden_layer_sizes=(20, 4), random_state=1, max_iter=1000)\n",
    "clf = clf.fit(X_train, y_train)\n",
    "from sklearn.metrics import accuracy_score\n",
    "\n",
    "#Accuracy function\n",
    "def class_pred_acc(model,values,gt):\n",
    "    preds = model.predict(values)\n",
    "    return accuracy_score(gt, preds)\n",
    "\n",
    "print(class_pred_acc(clf, X_test,y_test))"
   ],
   "metadata": {
    "collapsed": false,
    "pycharm": {
     "name": "#%%\n"
    }
   }
  },
  {
   "cell_type": "code",
   "execution_count": 10,
   "outputs": [],
   "source": [
    "#Using pytorch\n",
    "from sklearn.model_selection import train_test_split\n",
    "\n",
    "X = np.dstack((get_label_values(df))).squeeze()\n",
    "y = get_cell_labels(df)\n",
    "X_trainval, X_test, y_trainval, y_test = train_test_split(X, y, test_size=0.2, stratify=y, random_state=42) #train-test\n",
    "X_train, X_val, y_train, y_val = train_test_split(X_trainval, y_trainval, test_size=0.1, stratify=y_trainval, random_state=42)"
   ],
   "metadata": {
    "collapsed": false,
    "pycharm": {
     "name": "#%%\n"
    }
   }
  },
  {
   "cell_type": "code",
   "execution_count": 11,
   "outputs": [],
   "source": [
    "from sklearn.preprocessing import MinMaxScaler\n",
    "\n",
    "scaler = MinMaxScaler()\n",
    "X_train = scaler.fit_transform(X_train)\n",
    "X_val = scaler.transform(X_val)\n",
    "X_test = scaler.transform(X_test)\n",
    "X_train, y_train = np.array(X_train), np.array(y_train)\n",
    "X_val, y_val = np.array(X_val), np.array(y_val)\n",
    "X_test, y_test = np.array(X_test), np.array(y_test)"
   ],
   "metadata": {
    "collapsed": false,
    "pycharm": {
     "name": "#%%\n"
    }
   }
  },
  {
   "cell_type": "code",
   "execution_count": 12,
   "outputs": [],
   "source": [
    "def get_class_distribution(obj):\n",
    "    count_dict = {\n",
    "        \"g1\": 0,\n",
    "        \"s\": 0,\n",
    "        \"g2m\": 0\n",
    "    }\n",
    "\n",
    "    for i in obj:\n",
    "        if i == 0:\n",
    "            count_dict['g1'] += 1\n",
    "        elif i == 1:\n",
    "            count_dict['s'] += 1\n",
    "        elif i == 2:\n",
    "            count_dict['g2m'] += 1\n",
    "        else:\n",
    "            print(\"Check classes.\")\n",
    "\n",
    "    return count_dict"
   ],
   "metadata": {
    "collapsed": false,
    "pycharm": {
     "name": "#%%\n"
    }
   }
  },
  {
   "cell_type": "code",
   "execution_count": 13,
   "outputs": [
    {
     "data": {
      "text/plain": "Text(0.5, 1.0, 'Class Distribution in Test Set')"
     },
     "execution_count": 13,
     "metadata": {},
     "output_type": "execute_result"
    },
    {
     "data": {
      "text/plain": "<Figure size 1800x504 with 3 Axes>",
      "image/png": "[encoded data removed]"
     },
     "metadata": {
      "needs_background": "light"
     },
     "output_type": "display_data"
    }
   ],
   "source": [
    "from matplotlib import pyplot as plt\n",
    "import seaborn as sns\n",
    "\n",
    "fig, axes = plt.subplots(nrows=1, ncols=3, figsize=(25,7))\n",
    "# Train\n",
    "sns.barplot(data = pd.DataFrame.from_dict([get_class_distribution(y_train)]).melt(), x = \"variable\", y=\"value\", hue=\"variable\",  ax=axes[0]).set_title('Class Distribution in Train Set')\n",
    "# Validation\n",
    "sns.barplot(data = pd.DataFrame.from_dict([get_class_distribution(y_val)]).melt(), x = \"variable\", y=\"value\", hue=\"variable\",  ax=axes[1]).set_title('Class Distribution in Val Set')\n",
    "# Test\n",
    "sns.barplot(data = pd.DataFrame.from_dict([get_class_distribution(y_test)]).melt(), x = \"variable\", y=\"value\", hue=\"variable\",  ax=axes[2]).set_title('Class Distribution in Test Set')"
   ],
   "metadata": {
    "collapsed": false,
    "pycharm": {
     "name": "#%%\n"
    }
   }
  },
  {
   "cell_type": "code",
   "execution_count": 14,
   "outputs": [],
   "source": [
    "from torch.utils.data.dataset import Dataset\n",
    "import torch\n",
    "\n",
    "\n",
    "class ClassifierDataset(Dataset):\n",
    "\n",
    "    def __init__(self, X_data, y_data):\n",
    "        self.X_data = X_data\n",
    "        self.y_data = y_data\n",
    "\n",
    "    def __getitem__(self, index):\n",
    "        return self.X_data[index], self.y_data[index]\n",
    "\n",
    "    def __len__ (self):\n",
    "        return len(self.X_data)\n",
    "\n",
    "\n",
    "train_dataset = ClassifierDataset(torch.from_numpy(X_train).float(), torch.from_numpy(y_train).long())\n",
    "val_dataset = ClassifierDataset(torch.from_numpy(X_val).float(), torch.from_numpy(y_val).long())\n",
    "test_dataset = ClassifierDataset(torch.from_numpy(X_test).float(), torch.from_numpy(y_test).long())"
   ],
   "metadata": {
    "collapsed": false,
    "pycharm": {
     "name": "#%%\n"
    }
   }
  },
  {
   "cell_type": "code",
   "execution_count": 15,
   "outputs": [],
   "source": [
    "from torch.utils.data import WeightedRandomSampler\n",
    "\n",
    "target_list = []\n",
    "for _, t in train_dataset:\n",
    "    target_list.append(t)\n",
    "\n",
    "target_list = torch.tensor(target_list)\n",
    "\n",
    "class_count = [i for i in get_class_distribution(y_train).values()]\n",
    "class_weights = 1./torch.tensor(class_count, dtype=torch.float)\n",
    "class_weights_all = class_weights[target_list]\n",
    "weighted_sampler = WeightedRandomSampler(\n",
    "    weights=class_weights_all,\n",
    "    num_samples=len(class_weights_all),\n",
    "    replacement=True\n",
    ")"
   ],
   "metadata": {
    "collapsed": false,
    "pycharm": {
     "name": "#%%\n"
    }
   }
  },
  {
   "cell_type": "code",
   "execution_count": 26,
   "outputs": [
    {
     "name": "stdout",
     "output_type": "stream",
     "text": [
      "MulticlassClassification(\n",
      "  (layer_1): Linear(in_features=5, out_features=512, bias=True)\n",
      "  (layer_2): Linear(in_features=512, out_features=128, bias=True)\n",
      "  (layer_3): Linear(in_features=128, out_features=64, bias=True)\n",
      "  (layer_out): Linear(in_features=64, out_features=3, bias=True)\n",
      "  (relu): ReLU()\n",
      "  (dropout): Dropout(p=0.2, inplace=False)\n",
      "  (batchnorm1): BatchNorm1d(512, eps=1e-05, momentum=0.1, affine=True, track_running_stats=True)\n",
      "  (batchnorm2): BatchNorm1d(128, eps=1e-05, momentum=0.1, affine=True, track_running_stats=True)\n",
      "  (batchnorm3): BatchNorm1d(64, eps=1e-05, momentum=0.1, affine=True, track_running_stats=True)\n",
      ")\n"
     ]
    }
   ],
   "source": [
    "from torch import nn, optim\n",
    "from torch.utils.data import DataLoader\n",
    "\n",
    "EPOCHS = 300\n",
    "BATCH_SIZE = 16\n",
    "LEARNING_RATE = 0.0007\n",
    "NUM_FEATURES = 5\n",
    "NUM_CLASSES = 3\n",
    "\n",
    "train_loader = DataLoader(dataset=train_dataset,\n",
    "                          batch_size=BATCH_SIZE,\n",
    "                          sampler=weighted_sampler\n",
    "                          )\n",
    "val_loader = DataLoader(dataset=val_dataset, batch_size=1)\n",
    "test_loader = DataLoader(dataset=test_dataset, batch_size=1)\n",
    "\n",
    "class MulticlassClassification(nn.Module):\n",
    "    def __init__(self, num_feature, num_class):\n",
    "        super(MulticlassClassification, self).__init__()\n",
    "\n",
    "        self.layer_1 = nn.Linear(num_feature, 512)\n",
    "        self.layer_2 = nn.Linear(512, 128)\n",
    "        self.layer_3 = nn.Linear(128, 64)\n",
    "        self.layer_out = nn.Linear(64, num_class)\n",
    "\n",
    "        self.relu = nn.ReLU()\n",
    "        self.dropout = nn.Dropout(p=0.2)\n",
    "        self.batchnorm1 = nn.BatchNorm1d(512)\n",
    "        self.batchnorm2 = nn.BatchNorm1d(128)\n",
    "        self.batchnorm3 = nn.BatchNorm1d(64)\n",
    "\n",
    "    def forward(self, x):\n",
    "        x = self.layer_1(x)\n",
    "        x = self.batchnorm1(x)\n",
    "        x = self.relu(x)\n",
    "\n",
    "        x = self.layer_2(x)\n",
    "        x = self.batchnorm2(x)\n",
    "        x = self.relu(x)\n",
    "        x = self.dropout(x)\n",
    "\n",
    "        x = self.layer_3(x)\n",
    "        x = self.batchnorm3(x)\n",
    "        x = self.relu(x)\n",
    "        x = self.dropout(x)\n",
    "\n",
    "        x = self.layer_out(x)\n",
    "\n",
    "        return x\n",
    "\n",
    "device = torch.device(\"cuda\" if torch.cuda.is_available() else \"cpu\")\n",
    "\n",
    "model = MulticlassClassification(num_feature = NUM_FEATURES, num_class=NUM_CLASSES)\n",
    "model.to(device)\n",
    "\n",
    "criterion = nn.CrossEntropyLoss(weight=class_weights.to(device))\n",
    "optimizer = optim.Adam(model.parameters(), lr=LEARNING_RATE)\n",
    "print(model)"
   ],
   "metadata": {
    "collapsed": false,
    "pycharm": {
     "name": "#%%\n"
    }
   }
  },
  {
   "cell_type": "code",
   "execution_count": 20,
   "outputs": [],
   "source": [
    "def multi_acc(y_pred, y_test):\n",
    "    y_pred_softmax = torch.log_softmax(y_pred, dim = 1)\n",
    "    _, y_pred_tags = torch.max(y_pred_softmax, dim = 1)\n",
    "\n",
    "    correct_pred = (y_pred_tags == y_test).float()\n",
    "    acc = correct_pred.sum() / len(correct_pred)\n",
    "\n",
    "    acc = torch.round(acc * 100)\n",
    "\n",
    "    return acc"
   ],
   "metadata": {
    "collapsed": false,
    "pycharm": {
     "name": "#%%\n"
    }
   }
  },
  {
   "cell_type": "code",
   "execution_count": 21,
   "outputs": [],
   "source": [
    "accuracy_stats = {\n",
    "    'train': [],\n",
    "    \"val\": []\n",
    "}\n",
    "loss_stats = {\n",
    "    'train': [],\n",
    "    \"val\": []\n",
    "}"
   ],
   "metadata": {
    "collapsed": false,
    "pycharm": {
     "name": "#%%\n"
    }
   }
  },
  {
   "cell_type": "code",
   "execution_count": 27,
   "outputs": [
    {
     "name": "stdout",
     "output_type": "stream",
     "text": [
      "Begin training.\n"
     ]
    },
    {
     "data": {
      "text/plain": "  0%|          | 0/300 [00:00<?, ?it/s]",
      "application/vnd.jupyter.widget-view+json": {
       "version_major": 2,
       "version_minor": 0,
       "model_id": "090b2461e8984cbdb993544120b7e74c"
      }
     },
     "metadata": {},
     "output_type": "display_data"
    },
    {
     "name": "stdout",
     "output_type": "stream",
     "text": [
      "Epoch 001: | Train Loss: 0.32649 | Val Loss: 0.44243 | Train Acc: 80.041| Val Acc: 79.267\n",
      "Epoch 002: | Train Loss: 0.30412 | Val Loss: 0.45078 | Train Acc: 80.713| Val Acc: 78.812\n",
      "Epoch 003: | Train Loss: 0.29974 | Val Loss: 0.45949 | Train Acc: 80.920| Val Acc: 77.824\n",
      "Epoch 004: | Train Loss: 0.29782 | Val Loss: 0.45539 | Train Acc: 80.930| Val Acc: 78.624\n",
      "Epoch 005: | Train Loss: 0.29549 | Val Loss: 0.46164 | Train Acc: 81.092| Val Acc: 78.229\n",
      "Epoch 006: | Train Loss: 0.29425 | Val Loss: 0.46541 | Train Acc: 81.206| Val Acc: 77.883\n",
      "Epoch 007: | Train Loss: 0.28849 | Val Loss: 0.43966 | Train Acc: 81.392| Val Acc: 78.506\n",
      "Epoch 008: | Train Loss: 0.28681 | Val Loss: 0.44731 | Train Acc: 81.362| Val Acc: 78.812\n",
      "Epoch 009: | Train Loss: 0.28734 | Val Loss: 0.43140 | Train Acc: 81.217| Val Acc: 79.158\n",
      "Epoch 010: | Train Loss: 0.28598 | Val Loss: 0.45622 | Train Acc: 81.365| Val Acc: 77.261\n",
      "Epoch 011: | Train Loss: 0.28455 | Val Loss: 0.45966 | Train Acc: 81.498| Val Acc: 77.982\n",
      "Epoch 012: | Train Loss: 0.27997 | Val Loss: 0.44481 | Train Acc: 81.896| Val Acc: 78.664\n",
      "Epoch 013: | Train Loss: 0.28462 | Val Loss: 0.47541 | Train Acc: 81.423| Val Acc: 77.221\n",
      "Epoch 014: | Train Loss: 0.28153 | Val Loss: 0.44484 | Train Acc: 81.581| Val Acc: 78.318\n",
      "Epoch 015: | Train Loss: 0.28175 | Val Loss: 0.48846 | Train Acc: 81.769| Val Acc: 76.322\n",
      "Epoch 016: | Train Loss: 0.27993 | Val Loss: 0.43529 | Train Acc: 81.924| Val Acc: 79.761\n",
      "Epoch 017: | Train Loss: 0.27751 | Val Loss: 0.44034 | Train Acc: 81.920| Val Acc: 79.217\n",
      "Epoch 018: | Train Loss: 0.27897 | Val Loss: 0.46620 | Train Acc: 81.603| Val Acc: 77.715\n",
      "Epoch 019: | Train Loss: 0.28130 | Val Loss: 0.45394 | Train Acc: 81.533| Val Acc: 78.545\n",
      "Epoch 020: | Train Loss: 0.27877 | Val Loss: 0.43121 | Train Acc: 82.058| Val Acc: 79.504\n",
      "Epoch 021: | Train Loss: 0.27567 | Val Loss: 0.50970 | Train Acc: 82.057| Val Acc: 76.174\n",
      "Epoch 022: | Train Loss: 0.27763 | Val Loss: 0.46477 | Train Acc: 81.936| Val Acc: 77.784\n",
      "Epoch 023: | Train Loss: 0.27672 | Val Loss: 0.46410 | Train Acc: 81.936| Val Acc: 77.458\n",
      "Epoch 024: | Train Loss: 0.27644 | Val Loss: 0.47998 | Train Acc: 81.979| Val Acc: 77.330\n",
      "Epoch 025: | Train Loss: 0.27433 | Val Loss: 0.45465 | Train Acc: 81.949| Val Acc: 77.972\n",
      "Epoch 026: | Train Loss: 0.27281 | Val Loss: 0.43241 | Train Acc: 82.249| Val Acc: 79.415\n",
      "Epoch 027: | Train Loss: 0.27913 | Val Loss: 0.42837 | Train Acc: 81.750| Val Acc: 79.454\n",
      "Epoch 028: | Train Loss: 0.27464 | Val Loss: 0.42348 | Train Acc: 82.069| Val Acc: 79.751\n",
      "Epoch 029: | Train Loss: 0.27697 | Val Loss: 0.43986 | Train Acc: 81.689| Val Acc: 78.348\n",
      "Epoch 030: | Train Loss: 0.27545 | Val Loss: 0.45775 | Train Acc: 81.915| Val Acc: 78.170\n",
      "Epoch 031: | Train Loss: 0.27623 | Val Loss: 0.47127 | Train Acc: 81.871| Val Acc: 77.626\n",
      "Epoch 032: | Train Loss: 0.27486 | Val Loss: 0.46363 | Train Acc: 81.951| Val Acc: 77.705\n",
      "Epoch 033: | Train Loss: 0.27004 | Val Loss: 0.43687 | Train Acc: 82.183| Val Acc: 78.792\n",
      "Epoch 034: | Train Loss: 0.27667 | Val Loss: 0.45253 | Train Acc: 81.858| Val Acc: 78.150\n",
      "Epoch 035: | Train Loss: 0.27558 | Val Loss: 0.45034 | Train Acc: 81.910| Val Acc: 78.694\n",
      "Epoch 036: | Train Loss: 0.27394 | Val Loss: 0.45080 | Train Acc: 81.893| Val Acc: 78.239\n",
      "Epoch 037: | Train Loss: 0.27480 | Val Loss: 0.46277 | Train Acc: 81.961| Val Acc: 77.913\n",
      "Epoch 038: | Train Loss: 0.27510 | Val Loss: 0.43298 | Train Acc: 81.961| Val Acc: 79.079\n",
      "Epoch 039: | Train Loss: 0.27545 | Val Loss: 0.45146 | Train Acc: 81.735| Val Acc: 78.476\n",
      "Epoch 040: | Train Loss: 0.27233 | Val Loss: 0.44763 | Train Acc: 82.115| Val Acc: 78.041\n",
      "Epoch 041: | Train Loss: 0.27142 | Val Loss: 0.43771 | Train Acc: 82.216| Val Acc: 78.921\n",
      "Epoch 042: | Train Loss: 0.27702 | Val Loss: 0.44651 | Train Acc: 81.717| Val Acc: 78.941\n",
      "Epoch 043: | Train Loss: 0.27238 | Val Loss: 0.48630 | Train Acc: 82.106| Val Acc: 76.292\n",
      "Epoch 044: | Train Loss: 0.27206 | Val Loss: 0.45979 | Train Acc: 82.146| Val Acc: 78.308\n",
      "Epoch 045: | Train Loss: 0.27311 | Val Loss: 0.42856 | Train Acc: 82.285| Val Acc: 79.454\n",
      "Epoch 046: | Train Loss: 0.27136 | Val Loss: 0.44002 | Train Acc: 82.041| Val Acc: 78.960\n",
      "Epoch 047: | Train Loss: 0.27304 | Val Loss: 0.44195 | Train Acc: 82.226| Val Acc: 78.921\n",
      "Epoch 048: | Train Loss: 0.27075 | Val Loss: 0.45856 | Train Acc: 82.086| Val Acc: 77.863\n",
      "Epoch 049: | Train Loss: 0.27274 | Val Loss: 0.43794 | Train Acc: 82.072| Val Acc: 79.118\n",
      "Epoch 050: | Train Loss: 0.27428 | Val Loss: 0.45056 | Train Acc: 82.032| Val Acc: 78.031\n",
      "Epoch 051: | Train Loss: 0.27306 | Val Loss: 0.44544 | Train Acc: 82.093| Val Acc: 78.812\n"
     ]
    },
    {
     "ename": "KeyboardInterrupt",
     "evalue": "",
     "output_type": "error",
     "traceback": [
      "\u001B[1;31m---------------------------------------------------------------------------\u001B[0m",
      "\u001B[1;31mKeyboardInterrupt\u001B[0m                         Traceback (most recent call last)",
      "Input \u001B[1;32mIn [27]\u001B[0m, in \u001B[0;36m<cell line: 4>\u001B[1;34m()\u001B[0m\n\u001B[0;32m     17\u001B[0m train_acc \u001B[38;5;241m=\u001B[39m multi_acc(y_train_pred, y_train_batch)\n\u001B[0;32m     19\u001B[0m train_loss\u001B[38;5;241m.\u001B[39mbackward()\n\u001B[1;32m---> 20\u001B[0m \u001B[43moptimizer\u001B[49m\u001B[38;5;241;43m.\u001B[39;49m\u001B[43mstep\u001B[49m\u001B[43m(\u001B[49m\u001B[43m)\u001B[49m\n\u001B[0;32m     22\u001B[0m train_epoch_loss \u001B[38;5;241m+\u001B[39m\u001B[38;5;241m=\u001B[39m train_loss\u001B[38;5;241m.\u001B[39mitem()\n\u001B[0;32m     23\u001B[0m train_epoch_acc \u001B[38;5;241m+\u001B[39m\u001B[38;5;241m=\u001B[39m train_acc\u001B[38;5;241m.\u001B[39mitem()\n",
      "File \u001B[1;32m~\\.conda\\envs\\celldev\\lib\\site-packages\\torch\\optim\\optimizer.py:88\u001B[0m, in \u001B[0;36mOptimizer._hook_for_profile.<locals>.profile_hook_step.<locals>.wrapper\u001B[1;34m(*args, **kwargs)\u001B[0m\n\u001B[0;32m     86\u001B[0m profile_name \u001B[38;5;241m=\u001B[39m \u001B[38;5;124m\"\u001B[39m\u001B[38;5;124mOptimizer.step#\u001B[39m\u001B[38;5;132;01m{}\u001B[39;00m\u001B[38;5;124m.step\u001B[39m\u001B[38;5;124m\"\u001B[39m\u001B[38;5;241m.\u001B[39mformat(obj\u001B[38;5;241m.\u001B[39m\u001B[38;5;18m__class__\u001B[39m\u001B[38;5;241m.\u001B[39m\u001B[38;5;18m__name__\u001B[39m)\n\u001B[0;32m     87\u001B[0m \u001B[38;5;28;01mwith\u001B[39;00m torch\u001B[38;5;241m.\u001B[39mautograd\u001B[38;5;241m.\u001B[39mprofiler\u001B[38;5;241m.\u001B[39mrecord_function(profile_name):\n\u001B[1;32m---> 88\u001B[0m     \u001B[38;5;28;01mreturn\u001B[39;00m \u001B[43mfunc\u001B[49m\u001B[43m(\u001B[49m\u001B[38;5;241;43m*\u001B[39;49m\u001B[43margs\u001B[49m\u001B[43m,\u001B[49m\u001B[43m \u001B[49m\u001B[38;5;241;43m*\u001B[39;49m\u001B[38;5;241;43m*\u001B[39;49m\u001B[43mkwargs\u001B[49m\u001B[43m)\u001B[49m\n",
      "File \u001B[1;32m~\\.conda\\envs\\celldev\\lib\\site-packages\\torch\\autograd\\grad_mode.py:27\u001B[0m, in \u001B[0;36m_DecoratorContextManager.__call__.<locals>.decorate_context\u001B[1;34m(*args, **kwargs)\u001B[0m\n\u001B[0;32m     24\u001B[0m \u001B[38;5;129m@functools\u001B[39m\u001B[38;5;241m.\u001B[39mwraps(func)\n\u001B[0;32m     25\u001B[0m \u001B[38;5;28;01mdef\u001B[39;00m \u001B[38;5;21mdecorate_context\u001B[39m(\u001B[38;5;241m*\u001B[39margs, \u001B[38;5;241m*\u001B[39m\u001B[38;5;241m*\u001B[39mkwargs):\n\u001B[0;32m     26\u001B[0m     \u001B[38;5;28;01mwith\u001B[39;00m \u001B[38;5;28mself\u001B[39m\u001B[38;5;241m.\u001B[39mclone():\n\u001B[1;32m---> 27\u001B[0m         \u001B[38;5;28;01mreturn\u001B[39;00m \u001B[43mfunc\u001B[49m\u001B[43m(\u001B[49m\u001B[38;5;241;43m*\u001B[39;49m\u001B[43margs\u001B[49m\u001B[43m,\u001B[49m\u001B[43m \u001B[49m\u001B[38;5;241;43m*\u001B[39;49m\u001B[38;5;241;43m*\u001B[39;49m\u001B[43mkwargs\u001B[49m\u001B[43m)\u001B[49m\n",
      "File \u001B[1;32m~\\.conda\\envs\\celldev\\lib\\site-packages\\torch\\optim\\adam.py:141\u001B[0m, in \u001B[0;36mAdam.step\u001B[1;34m(self, closure)\u001B[0m\n\u001B[0;32m    138\u001B[0m             \u001B[38;5;66;03m# record the step after step update\u001B[39;00m\n\u001B[0;32m    139\u001B[0m             state_steps\u001B[38;5;241m.\u001B[39mappend(state[\u001B[38;5;124m'\u001B[39m\u001B[38;5;124mstep\u001B[39m\u001B[38;5;124m'\u001B[39m])\n\u001B[1;32m--> 141\u001B[0m     \u001B[43mF\u001B[49m\u001B[38;5;241;43m.\u001B[39;49m\u001B[43madam\u001B[49m\u001B[43m(\u001B[49m\u001B[43mparams_with_grad\u001B[49m\u001B[43m,\u001B[49m\n\u001B[0;32m    142\u001B[0m \u001B[43m           \u001B[49m\u001B[43mgrads\u001B[49m\u001B[43m,\u001B[49m\n\u001B[0;32m    143\u001B[0m \u001B[43m           \u001B[49m\u001B[43mexp_avgs\u001B[49m\u001B[43m,\u001B[49m\n\u001B[0;32m    144\u001B[0m \u001B[43m           \u001B[49m\u001B[43mexp_avg_sqs\u001B[49m\u001B[43m,\u001B[49m\n\u001B[0;32m    145\u001B[0m \u001B[43m           \u001B[49m\u001B[43mmax_exp_avg_sqs\u001B[49m\u001B[43m,\u001B[49m\n\u001B[0;32m    146\u001B[0m \u001B[43m           \u001B[49m\u001B[43mstate_steps\u001B[49m\u001B[43m,\u001B[49m\n\u001B[0;32m    147\u001B[0m \u001B[43m           \u001B[49m\u001B[43mamsgrad\u001B[49m\u001B[38;5;241;43m=\u001B[39;49m\u001B[43mgroup\u001B[49m\u001B[43m[\u001B[49m\u001B[38;5;124;43m'\u001B[39;49m\u001B[38;5;124;43mamsgrad\u001B[39;49m\u001B[38;5;124;43m'\u001B[39;49m\u001B[43m]\u001B[49m\u001B[43m,\u001B[49m\n\u001B[0;32m    148\u001B[0m \u001B[43m           \u001B[49m\u001B[43mbeta1\u001B[49m\u001B[38;5;241;43m=\u001B[39;49m\u001B[43mbeta1\u001B[49m\u001B[43m,\u001B[49m\n\u001B[0;32m    149\u001B[0m \u001B[43m           \u001B[49m\u001B[43mbeta2\u001B[49m\u001B[38;5;241;43m=\u001B[39;49m\u001B[43mbeta2\u001B[49m\u001B[43m,\u001B[49m\n\u001B[0;32m    150\u001B[0m \u001B[43m           \u001B[49m\u001B[43mlr\u001B[49m\u001B[38;5;241;43m=\u001B[39;49m\u001B[43mgroup\u001B[49m\u001B[43m[\u001B[49m\u001B[38;5;124;43m'\u001B[39;49m\u001B[38;5;124;43mlr\u001B[39;49m\u001B[38;5;124;43m'\u001B[39;49m\u001B[43m]\u001B[49m\u001B[43m,\u001B[49m\n\u001B[0;32m    151\u001B[0m \u001B[43m           \u001B[49m\u001B[43mweight_decay\u001B[49m\u001B[38;5;241;43m=\u001B[39;49m\u001B[43mgroup\u001B[49m\u001B[43m[\u001B[49m\u001B[38;5;124;43m'\u001B[39;49m\u001B[38;5;124;43mweight_decay\u001B[39;49m\u001B[38;5;124;43m'\u001B[39;49m\u001B[43m]\u001B[49m\u001B[43m,\u001B[49m\n\u001B[0;32m    152\u001B[0m \u001B[43m           \u001B[49m\u001B[43meps\u001B[49m\u001B[38;5;241;43m=\u001B[39;49m\u001B[43mgroup\u001B[49m\u001B[43m[\u001B[49m\u001B[38;5;124;43m'\u001B[39;49m\u001B[38;5;124;43meps\u001B[39;49m\u001B[38;5;124;43m'\u001B[39;49m\u001B[43m]\u001B[49m\u001B[43m,\u001B[49m\n\u001B[0;32m    153\u001B[0m \u001B[43m           \u001B[49m\u001B[43mmaximize\u001B[49m\u001B[38;5;241;43m=\u001B[39;49m\u001B[43mgroup\u001B[49m\u001B[43m[\u001B[49m\u001B[38;5;124;43m'\u001B[39;49m\u001B[38;5;124;43mmaximize\u001B[39;49m\u001B[38;5;124;43m'\u001B[39;49m\u001B[43m]\u001B[49m\u001B[43m)\u001B[49m\n\u001B[0;32m    154\u001B[0m \u001B[38;5;28;01mreturn\u001B[39;00m loss\n",
      "File \u001B[1;32m~\\.conda\\envs\\celldev\\lib\\site-packages\\torch\\optim\\_functional.py:98\u001B[0m, in \u001B[0;36madam\u001B[1;34m(params, grads, exp_avgs, exp_avg_sqs, max_exp_avg_sqs, state_steps, amsgrad, beta1, beta2, lr, weight_decay, eps, maximize)\u001B[0m\n\u001B[0;32m     96\u001B[0m \u001B[38;5;66;03m# Decay the first and second moment running average coefficient\u001B[39;00m\n\u001B[0;32m     97\u001B[0m exp_avg\u001B[38;5;241m.\u001B[39mmul_(beta1)\u001B[38;5;241m.\u001B[39madd_(grad, alpha\u001B[38;5;241m=\u001B[39m\u001B[38;5;241m1\u001B[39m \u001B[38;5;241m-\u001B[39m beta1)\n\u001B[1;32m---> 98\u001B[0m \u001B[43mexp_avg_sq\u001B[49m\u001B[38;5;241;43m.\u001B[39;49m\u001B[43mmul_\u001B[49m\u001B[43m(\u001B[49m\u001B[43mbeta2\u001B[49m\u001B[43m)\u001B[49m\u001B[38;5;241m.\u001B[39maddcmul_(grad, grad\u001B[38;5;241m.\u001B[39mconj(), value\u001B[38;5;241m=\u001B[39m\u001B[38;5;241m1\u001B[39m \u001B[38;5;241m-\u001B[39m beta2)\n\u001B[0;32m     99\u001B[0m \u001B[38;5;28;01mif\u001B[39;00m amsgrad:\n\u001B[0;32m    100\u001B[0m     \u001B[38;5;66;03m# Maintains the maximum of all 2nd moment running avg. till now\u001B[39;00m\n\u001B[0;32m    101\u001B[0m     torch\u001B[38;5;241m.\u001B[39mmaximum(max_exp_avg_sqs[i], exp_avg_sq, out\u001B[38;5;241m=\u001B[39mmax_exp_avg_sqs[i])\n",
      "\u001B[1;31mKeyboardInterrupt\u001B[0m: "
     ]
    }
   ],
   "source": [
    "from tqdm.notebook import tqdm\n",
    "\n",
    "print(\"Begin training.\")\n",
    "for e in tqdm(range(1, EPOCHS+1)):\n",
    "\n",
    "    # TRAINING\n",
    "    train_epoch_loss = 0\n",
    "    train_epoch_acc = 0\n",
    "    model.train()\n",
    "    for X_train_batch, y_train_batch in train_loader:\n",
    "        X_train_batch, y_train_batch = X_train_batch.to(device), y_train_batch.to(device)\n",
    "        optimizer.zero_grad()\n",
    "\n",
    "        y_train_pred = model(X_train_batch)\n",
    "\n",
    "        train_loss = criterion(y_train_pred, y_train_batch)\n",
    "        train_acc = multi_acc(y_train_pred, y_train_batch)\n",
    "\n",
    "        train_loss.backward()\n",
    "        optimizer.step()\n",
    "\n",
    "        train_epoch_loss += train_loss.item()\n",
    "        train_epoch_acc += train_acc.item()\n",
    "\n",
    "\n",
    "    # VALIDATION\n",
    "    with torch.no_grad():\n",
    "\n",
    "        val_epoch_loss = 0\n",
    "        val_epoch_acc = 0\n",
    "\n",
    "        model.eval()\n",
    "        for X_val_batch, y_val_batch in val_loader:\n",
    "            X_val_batch, y_val_batch = X_val_batch.to(device), y_val_batch.to(device)\n",
    "\n",
    "            y_val_pred = model(X_val_batch)\n",
    "\n",
    "            val_loss = criterion(y_val_pred, y_val_batch)\n",
    "            val_acc = multi_acc(y_val_pred, y_val_batch)\n",
    "\n",
    "            val_epoch_loss += val_loss.item()\n",
    "            val_epoch_acc += val_acc.item()\n",
    "    loss_stats['train'].append(train_epoch_loss/len(train_loader))\n",
    "    loss_stats['val'].append(val_epoch_loss/len(val_loader))\n",
    "    accuracy_stats['train'].append(train_epoch_acc/len(train_loader))\n",
    "    accuracy_stats['val'].append(val_epoch_acc/len(val_loader))\n",
    "\n",
    "\n",
    "    print(f'Epoch {e+0:03}: | Train Loss: {train_epoch_loss/len(train_loader):.5f} | Val Loss: {val_epoch_loss/len(val_loader):.5f} | Train Acc: {train_epoch_acc/len(train_loader):.3f}| Val Acc: {val_epoch_acc/len(val_loader):.3f}')\n"
   ],
   "metadata": {
    "collapsed": false,
    "pycharm": {
     "name": "#%%\n"
    }
   }
  },
  {
   "cell_type": "code",
   "execution_count": 39,
   "outputs": [
    {
     "data": {
      "text/plain": "XGBClassifier(base_score=0.5, booster='gbtree', callbacks=None,\n              colsample_bylevel=1, colsample_bynode=1, colsample_bytree=1,\n              early_stopping_rounds=None, enable_categorical=False,\n              eval_metric=None, gamma=0, gpu_id=-1, grow_policy='depthwise',\n              importance_type=None, interaction_constraints='',\n              learning_rate=0.300000012, max_bin=256, max_cat_to_onehot=4,\n              max_delta_step=0, max_depth=6, max_leaves=0, min_child_weight=1,\n              missing=nan, monotone_constraints='()', n_estimators=100,\n              n_jobs=0, num_parallel_tree=1, objective='multi:softprob',\n              predictor='auto', random_state=0, reg_alpha=0, ...)",
      "text/html": "<style>#sk-container-id-3 {color: black;background-color: white;}#sk-container-id-3 pre{padding: 0;}#sk-container-id-3 div.sk-toggleable {background-color: white;}#sk-container-id-3 label.sk-toggleable__label {cursor: pointer;display: block;width: 100%;margin-bottom: 0;padding: 0.3em;box-sizing: border-box;text-align: center;}#sk-container-id-3 label.sk-toggleable__label-arrow:before {content: \"▸\";float: left;margin-right: 0.25em;color: #696969;}#sk-container-id-3 label.sk-toggleable__label-arrow:hover:before {color: black;}#sk-container-id-3 div.sk-estimator:hover label.sk-toggleable__label-arrow:before {color: black;}#sk-container-id-3 div.sk-toggleable__content {max-height: 0;max-width: 0;overflow: hidden;text-align: left;background-color: #f0f8ff;}#sk-container-id-3 div.sk-toggleable__content pre {margin: 0.2em;color: black;border-radius: 0.25em;background-color: #f0f8ff;}#sk-container-id-3 input.sk-toggleable__control:checked~div.sk-toggleable__content {max-height: 200px;max-width: 100%;overflow: auto;}#sk-container-id-3 input.sk-toggleable__control:checked~label.sk-toggleable__label-arrow:before {content: \"▾\";}#sk-container-id-3 div.sk-estimator input.sk-toggleable__control:checked~label.sk-toggleable__label {background-color: #d4ebff;}#sk-container-id-3 div.sk-label input.sk-toggleable__control:checked~label.sk-toggleable__label {background-color: #d4ebff;}#sk-container-id-3 input.sk-hidden--visually {border: 0;clip: rect(1px 1px 1px 1px);clip: rect(1px, 1px, 1px, 1px);height: 1px;margin: -1px;overflow: hidden;padding: 0;position: absolute;width: 1px;}#sk-container-id-3 div.sk-estimator {font-family: monospace;background-color: #f0f8ff;border: 1px dotted black;border-radius: 0.25em;box-sizing: border-box;margin-bottom: 0.5em;}#sk-container-id-3 div.sk-estimator:hover {background-color: #d4ebff;}#sk-container-id-3 div.sk-parallel-item::after {content: \"\";width: 100%;border-bottom: 1px solid gray;flex-grow: 1;}#sk-container-id-3 div.sk-label:hover label.sk-toggleable__label {background-color: #d4ebff;}#sk-container-id-3 div.sk-serial::before {content: \"\";position: absolute;border-left: 1px solid gray;box-sizing: border-box;top: 0;bottom: 0;left: 50%;z-index: 0;}#sk-container-id-3 div.sk-serial {display: flex;flex-direction: column;align-items: center;background-color: white;padding-right: 0.2em;padding-left: 0.2em;position: relative;}#sk-container-id-3 div.sk-item {position: relative;z-index: 1;}#sk-container-id-3 div.sk-parallel {display: flex;align-items: stretch;justify-content: center;background-color: white;position: relative;}#sk-container-id-3 div.sk-item::before, #sk-container-id-3 div.sk-parallel-item::before {content: \"\";position: absolute;border-left: 1px solid gray;box-sizing: border-box;top: 0;bottom: 0;left: 50%;z-index: -1;}#sk-container-id-3 div.sk-parallel-item {display: flex;flex-direction: column;z-index: 1;position: relative;background-color: white;}#sk-container-id-3 div.sk-parallel-item:first-child::after {align-self: flex-end;width: 50%;}#sk-container-id-3 div.sk-parallel-item:last-child::after {align-self: flex-start;width: 50%;}#sk-container-id-3 div.sk-parallel-item:only-child::after {width: 0;}#sk-container-id-3 div.sk-dashed-wrapped {border: 1px dashed gray;margin: 0 0.4em 0.5em 0.4em;box-sizing: border-box;padding-bottom: 0.4em;background-color: white;}#sk-container-id-3 div.sk-label label {font-family: monospace;font-weight: bold;display: inline-block;line-height: 1.2em;}#sk-container-id-3 div.sk-label-container {text-align: center;}#sk-container-id-3 div.sk-container {/* jupyter's `normalize.less` sets `[hidden] { display: none; }` but bootstrap.min.css set `[hidden] { display: none !important; }` so we also need the `!important` here to be able to override the default hidden behavior on the sphinx rendered scikit-learn.org. See: https://github.com/scikit-learn/scikit-learn/issues/21755 */display: inline-block !important;position: relative;}#sk-container-id-3 div.sk-text-repr-fallback {display: none;}</style><div id=\"sk-container-id-3\" class=\"sk-top-container\"><div class=\"sk-text-repr-fallback\"><pre>XGBClassifier(base_score=0.5, booster=&#x27;gbtree&#x27;, callbacks=None,\n              colsample_bylevel=1, colsample_bynode=1, colsample_bytree=1,\n              early_stopping_rounds=None, enable_categorical=False,\n              eval_metric=None, gamma=0, gpu_id=-1, grow_policy=&#x27;depthwise&#x27;,\n              importance_type=None, interaction_constraints=&#x27;&#x27;,\n              learning_rate=0.300000012, max_bin=256, max_cat_to_onehot=4,\n              max_delta_step=0, max_depth=6, max_leaves=0, min_child_weight=1,\n              missing=nan, monotone_constraints=&#x27;()&#x27;, n_estimators=100,\n              n_jobs=0, num_parallel_tree=1, objective=&#x27;multi:softprob&#x27;,\n              predictor=&#x27;auto&#x27;, random_state=0, reg_alpha=0, ...)</pre><b>In a Jupyter environment, please rerun this cell to show the HTML representation or trust the notebook. <br />On GitHub, the HTML representation is unable to render, please try loading this page with nbviewer.org.</b></div><div class=\"sk-container\" hidden><div class=\"sk-item\"><div class=\"sk-estimator sk-toggleable\"><input class=\"sk-toggleable__control sk-hidden--visually\" id=\"sk-estimator-id-3\" type=\"checkbox\" checked><label for=\"sk-estimator-id-3\" class=\"sk-toggleable__label sk-toggleable__label-arrow\">XGBClassifier</label><div class=\"sk-toggleable__content\"><pre>XGBClassifier(base_score=0.5, booster=&#x27;gbtree&#x27;, callbacks=None,\n              colsample_bylevel=1, colsample_bynode=1, colsample_bytree=1,\n              early_stopping_rounds=None, enable_categorical=False,\n              eval_metric=None, gamma=0, gpu_id=-1, grow_policy=&#x27;depthwise&#x27;,\n              importance_type=None, interaction_constraints=&#x27;&#x27;,\n              learning_rate=0.300000012, max_bin=256, max_cat_to_onehot=4,\n              max_delta_step=0, max_depth=6, max_leaves=0, min_child_weight=1,\n              missing=nan, monotone_constraints=&#x27;()&#x27;, n_estimators=100,\n              n_jobs=0, num_parallel_tree=1, objective=&#x27;multi:softprob&#x27;,\n              predictor=&#x27;auto&#x27;, random_state=0, reg_alpha=0, ...)</pre></div></div></div></div></div>"
     },
     "execution_count": 39,
     "metadata": {},
     "output_type": "execute_result"
    }
   ],
   "source": [
    "#Trying xgboot classifier\n",
    "import xgboost\n",
    "\n",
    "X = np.dstack((get_label_values(df))).squeeze()\n",
    "y = get_cell_labels(df)\n",
    "X_train, X_test, y_train, y_test = train_test_split(X, y, test_size=0.01, random_state=42, shuffle=True)\n",
    "\n",
    "xg = xgboost.XGBClassifier()\n",
    "xg.fit(X_train,y_train)"
   ],
   "metadata": {
    "collapsed": false,
    "pycharm": {
     "name": "#%%\n"
    }
   }
  },
  {
   "cell_type": "code",
   "execution_count": 40,
   "outputs": [
    {
     "name": "stdout",
     "output_type": "stream",
     "text": [
      "0.8284584980237154\n"
     ]
    }
   ],
   "source": [
    "#Accuracy function\n",
    "from sklearn.metrics import accuracy_score\n",
    "def class_pred_acc(model,values,gt):\n",
    "    preds = model.predict(values)\n",
    "    return accuracy_score(gt, preds)\n",
    "\n",
    "print(class_pred_acc(xg,X_test,y_test))"
   ],
   "metadata": {
    "collapsed": false,
    "pycharm": {
     "name": "#%%\n"
    }
   }
  },
  {
   "cell_type": "code",
   "execution_count": 41,
   "outputs": [
    {
     "name": "stdout",
     "output_type": "stream",
     "text": [
      "125221 1265\n"
     ]
    }
   ],
   "source": [
    "print(len(X_train),len(X_test))"
   ],
   "metadata": {
    "collapsed": false,
    "pycharm": {
     "name": "#%%\n"
    }
   }
  },
  {
   "cell_type": "code",
   "execution_count": null,
   "outputs": [],
   "source": [
    "#Look into if there's more features we can collect on these cells\n",
    "#Could be good for an RFC"
   ],
   "metadata": {
    "collapsed": false,
    "pycharm": {
     "name": "#%%\n"
    }
   }
  },
  {
   "cell_type": "code",
   "execution_count": null,
   "outputs": [],
   "source": [
    "#Could also make use of the PCNA images with the other data"
   ],
   "metadata": {
    "collapsed": false,
    "pycharm": {
     "name": "#%%\n"
    }
   }
  },
  {
   "cell_type": "code",
   "execution_count": 219,
   "outputs": [
    {
     "name": "stdout",
     "output_type": "stream",
     "text": [
      "[[0.26701209 0.07297885 0.21502775 0.08167543 1.07590322]\n",
      " [0.31337756 0.0936574  0.2561175  0.04560653 1.33358816]\n",
      " [0.26285994 0.10235551 0.21741169 0.04931917 1.49632523]\n",
      " ...\n",
      " [0.28314161 0.08428298 0.20223175 0.0636438  1.22602824]\n",
      " [0.26230655 0.10990231 0.22570132 0.08299008 1.61579281]\n",
      " [0.29674985 0.12230165 0.21580757 0.08387676 1.80925236]]\n"
     ]
    }
   ],
   "source": [
    "print(values_predictions)"
   ],
   "metadata": {
    "collapsed": false,
    "pycharm": {
     "name": "#%%\n"
    }
   }
  },
  {
   "cell_type": "code",
   "execution_count": 227,
   "outputs": [],
   "source": [
    "#Let's train the neural network now\n",
    "\n",
    "from sklearn.neural_network import MLPClassifier\n",
    "\n",
    "clf = MLPClassifier(solver='lbfgs', alpha=1e-5, hidden_layer_sizes=(5, 2), random_state=1, max_iter=10000)\n",
    "clf = clf.fit(X_train, y_train)"
   ],
   "metadata": {
    "collapsed": false,
    "pycharm": {
     "name": "#%%\n"
    }
   }
  },
  {
   "cell_type": "code",
   "execution_count": 228,
   "outputs": [
    {
     "name": "stdout",
     "output_type": "stream",
     "text": [
      "0.6489153121244703\n"
     ]
    }
   ],
   "source": [
    "from sklearn.metrics import accuracy_score\n",
    "\n",
    "#Accuracy function\n",
    "def class_pred_acc(model,values,gt):\n",
    "    preds = model.predict(values)\n",
    "    return accuracy_score(gt, preds)\n",
    "\n",
    "print(class_pred_acc(clf, X_test,y_test))"
   ],
   "metadata": {
    "collapsed": false,
    "pycharm": {
     "name": "#%%\n"
    }
   }
  },
  {
   "cell_type": "code",
   "execution_count": 229,
   "outputs": [
    {
     "name": "stdout",
     "output_type": "stream",
     "text": [
      "0.6467965340585669\n"
     ]
    }
   ],
   "source": [
    "from sklearn.linear_model import SGDClassifier\n",
    "from sklearn.preprocessing import StandardScaler\n",
    "from sklearn.pipeline import make_pipeline\n",
    "\n",
    "sgd = make_pipeline(StandardScaler(),SGDClassifier(max_iter=1000, tol=1e-3))\n",
    "sgd = sgd.fit(X_train, y_train)\n",
    "print(class_pred_acc(sgd,X_test,y_test))"
   ],
   "metadata": {
    "collapsed": false,
    "pycharm": {
     "name": "#%%\n"
    }
   }
  },
  {
   "cell_type": "code",
   "execution_count": 230,
   "outputs": [],
   "source": [
    "cell_labels = get_cell_labels(df)\n",
    "indices = np.arange(len(pcna_crops_flat_pad))\n",
    "X_train, X_test, y_train, y_test, indices_train, indices_test = train_test_split(pcna_crops_flat_pad, cell_labels, indices, test_size=0.5, random_state=42, shuffle=False)\n",
    "pcna_values_del = np.delete(pcna_values, indices_train)\n",
    "values_predictions = get_value_predictions(X_test,[dapi_mod,cyclina2_mod,edu_mod,dna_mod],pcna_values_del)\n",
    "\n",
    "cell_labels = np.delete(cell_labels,indices_train) #dropping the training data points\n",
    "\n",
    "X_train, X_test, y_train, y_test = train_test_split(values_predictions, cell_labels, test_size=0.5, random_state=42)"
   ],
   "metadata": {
    "collapsed": false,
    "pycharm": {
     "name": "#%%\n"
    }
   }
  },
  {
   "cell_type": "code",
   "execution_count": 232,
   "outputs": [
    {
     "data": {
      "text/plain": "0.4366807393703651"
     },
     "execution_count": 232,
     "metadata": {},
     "output_type": "execute_result"
    }
   ],
   "source": [
    "from sklearn.kernel_approximation import RBFSampler\n",
    "\n",
    "rbf_feature = RBFSampler(gamma=1, random_state=1)\n",
    "X_features = rbf_feature.fit_transform(values_predictions)\n",
    "clf = SGDClassifier(max_iter=1000)\n",
    "clf.fit(X_features, y)\n",
    "SGDClassifier(max_iter=1000)\n",
    "clf.score(X_features, y)"
   ],
   "metadata": {
    "collapsed": false,
    "pycharm": {
     "name": "#%%\n"
    }
   }
  },
  {
   "cell_type": "code",
   "execution_count": 181,
   "outputs": [],
   "source": [
    "def get_elbow(curve):\n",
    "    # source:https://stackoverflow.com/questions/2018178/finding-the-best-trade-off-point-on-a-curve\n",
    "    nPoints = len(curve)\n",
    "    allCoord = np.vstack((range(nPoints), curve)).T\n",
    "    np.array([range(nPoints), curve])\n",
    "    firstPoint = allCoord[0]\n",
    "    lineVec = allCoord[-1] - allCoord[0]\n",
    "    lineVecNorm = lineVec / np.sqrt(np.sum(lineVec ** 2))\n",
    "    vecFromFirst = allCoord - firstPoint\n",
    "    scalarProduct = np.sum(vecFromFirst * np.matlib.repmat(lineVecNorm, nPoints, 1), axis=1)\n",
    "    vecFromFirstParallel = np.outer(scalarProduct, lineVecNorm)\n",
    "    vecToLine = vecFromFirst - vecFromFirstParallel\n",
    "    distToLine = np.sqrt(np.sum(vecToLine ** 2, axis=1))\n",
    "    idxOfBestPoint = np.argmax(distToLine)\n",
    "    return idxOfBestPoint\n",
    "\n",
    "def get_avg_split_arr(arr, num_splits):\n",
    "    array_split = np.array_split(arr, num_splits)\n",
    "    averages = [mean(array) for array in array_split]\n",
    "    return averages\n",
    "\n",
    "def get_EdU_threshold(edu_nums):\n",
    "    #edu_nums = np.sort(np.array(df.loc[:, [column_name]]).flatten())  # extract EdU values and put them in one array shape num_of_cells\n",
    "    # Get the list of EdU values\n",
    "    # Make a split from 3 to the total number of cells\n",
    "    # Get the averages at that split\n",
    "    # Get the elbow in those averages\n",
    "    # Store that elbow in a list\n",
    "    # Average out the list of elbow and return that value\n",
    "    elbows_y = []\n",
    "    start = round(0.73*len(edu_nums)) #we don't want to average out all of the cells because that would create a much a lower value so we only keep the top quarter\n",
    "    for i in range(start, len(edu_nums) + 1):\n",
    "        avg_split_arr = get_avg_split_arr(edu_nums, i)\n",
    "        elbow_x = get_elbow(avg_split_arr)\n",
    "        elbows_y.append(edu_nums[elbow_x])\n",
    "    return mean(elbows_y)"
   ],
   "metadata": {
    "collapsed": false,
    "pycharm": {
     "name": "#%%\n"
    }
   }
  },
  {
   "cell_type": "code",
   "execution_count": 182,
   "outputs": [],
   "source": [
    "\n",
    "def apply_rules(values_predictions):\n",
    "    #want to separate out the dapi values from the cyclin a2 values and the others etc.\n",
    "    dapi_values = values_predictions[:,0]\n",
    "    cyclina2_values = values_predictions[:,1]\n",
    "    edu_values = values_predictions[:,2]\n",
    "    dna_values = values_predictions[:,3]\n",
    "\n",
    "    edu_thresh = get_EdU_threshold(edu_values[:250])\n",
    "    cyclina2_thresh = get_EdU_threshold(cyclina2_values[:250])\n",
    "\n",
    "    preds = []\n",
    "    for i in range(len(values_predictions)):\n",
    "        if edu_values[i] >= edu_thresh: preds.append(1) #s\n",
    "        elif cyclina2_values[i] < cyclina2_thresh and edu_values[i] < edu_thresh and dna_values[i] < 1.5: preds.append(0) #g1\n",
    "        elif dna_values[i] > 1.5 and cyclina2_values[i] > cyclina2_thresh and edu_values[i] < edu_thresh: preds.append(2) #g2m\n",
    "\n",
    "    return preds"
   ],
   "metadata": {
    "collapsed": false,
    "pycharm": {
     "name": "#%%\n"
    }
   }
  },
  {
   "cell_type": "code",
   "execution_count": 193,
   "outputs": [],
   "source": [
    "cell_labels = get_cell_labels(df)\n",
    "indices = np.arange(len(pcna_crops_flat_pad))\n",
    "\n",
    "X_train, X_test, y_train, y_test, indices_train, indices_test = train_test_split(pcna_crops_flat_pad, cell_labels, indices, test_size=0.5, random_state=42, shuffle=False)\n",
    "\n",
    "values_predictions = get_value_predictions(X_test,[dapi_mod,cyclina2_mod,edu_mod,dna_mod])"
   ],
   "metadata": {
    "collapsed": false,
    "pycharm": {
     "name": "#%%\n"
    }
   }
  },
  {
   "cell_type": "code",
   "execution_count": 198,
   "outputs": [
    {
     "name": "stdout",
     "output_type": "stream",
     "text": [
      "                                                    X  y\n",
      "0   [0.07297884556833448, 0.21502774912679135, 0.0...  0\n",
      "1   [0.0936574029812724, 0.25611750030191666, 0.04...  0\n",
      "2   [0.10235550715260495, 0.21741169459594326, 0.0...  0\n",
      "3   [0.0746306168712752, 0.21827037606024718, 0.09...  0\n",
      "4   [0.05883775160158323, 0.1610087322680655, 0.01...  0\n",
      "5   [0.19211636390264408, 0.3190461898414219, 0.11...  0\n",
      "6   [0.07468121534336553, 0.2047367302888031, 0.09...  0\n",
      "7   [0.07348525783072753, 0.2257221851233472, 0.07...  0\n",
      "8   [0.07829013783588076, 0.2065336391920153, 0.06...  0\n",
      "9   [0.06554901224195551, 0.1972760959235117, 0.06...  0\n",
      "10  [0.0748519808713347, 0.1944836572266424, 0.057...  0\n",
      "11  [0.07428322736241541, 0.2054121124224478, 0.03...  0\n",
      "12  [0.07337421166564737, 0.19928498621839658, 0.0...  0\n",
      "13  [0.05024048345919645, 0.2070022426461826, 0.06...  0\n",
      "14  [0.07491501975437462, 0.1949924865625282, 0.07...  0\n",
      "15  [0.06642725550620043, 0.18841266345388183, 0.0...  0\n",
      "16  [0.07551358044857376, 0.16506382976472303, 0.0...  0\n",
      "17  [0.07175549309303034, 0.20173467897949338, 0.0...  0\n",
      "18  [0.07553251766806844, 0.19588673161384756, 0.0...  0\n",
      "19  [0.07241770814379536, 0.17740654392086566, 0.0...  0\n"
     ]
    }
   ],
   "source": [
    "X = values_predictions\n",
    "y = cell_labels\n",
    "\n",
    "df_test = pd.DataFrame(list(zip(X,y)),columns=['X','y'])\n",
    "print(df_test[:20])"
   ],
   "metadata": {
    "collapsed": false,
    "pycharm": {
     "name": "#%%\n"
    }
   }
  },
  {
   "cell_type": "code",
   "execution_count": 200,
   "outputs": [
    {
     "name": "stdout",
     "output_type": "stream",
     "text": [
      "40.68790588065984\n"
     ]
    }
   ],
   "source": [
    "#Result from applying the rules\n",
    "#This may be due to the thresholds not being representative as we usually calculate them on one cell image not that man\n",
    "\n",
    "predictions_rules = apply_rules(X)\n",
    "\n",
    "correct = 0\n",
    "for i in range(len(predictions_rules)):\n",
    "    if predictions_rules[i] == y[i]:\n",
    "        correct += 1\n",
    "\n",
    "print(correct*100/len(predictions_rules))"
   ],
   "metadata": {
    "collapsed": false,
    "pycharm": {
     "name": "#%%\n"
    }
   }
  },
  {
   "cell_type": "code",
   "execution_count": 209,
   "outputs": [],
   "source": [
    "#Lets try randomforest\n",
    "#why am I not including PCNA in this??? thats the real next step hahaha\n",
    "\n",
    "#lets make a dataframe\n",
    "\n",
    "df_rfc = pd.DataFrame(list(zip(values_predictions[:,0],values_predictions[:,1],values_predictions[:,2],values_predictions[:,3],cell_labels)),columns=['dapi','cyclina2','edu','dna','labels'])\n",
    "\n",
    "X = df_rfc.iloc[:, 0:4].values\n",
    "y = df_rfc.iloc[:, 4].values\n",
    "\n",
    "X_train, X_test, y_train, y_test = train_test_split(X, y, test_size=0.2, random_state=0)\n",
    "\n",
    "from sklearn.preprocessing import StandardScaler\n",
    "\n",
    "sc = StandardScaler()\n",
    "X_train = sc.fit_transform(X_train)\n",
    "X_test = sc.transform(X_test)\n",
    "\n",
    "from sklearn.ensemble import RandomForestClassifier\n",
    "\n",
    "regressor = RandomForestClassifier(n_estimators=20, random_state=0)\n",
    "regressor.fit(X_train, y_train)\n",
    "y_pred = regressor.predict(X_test)\n",
    "\n",
    "#print(confusion_matrix(y_test,y_pred))\n"
   ],
   "metadata": {
    "collapsed": false,
    "pycharm": {
     "name": "#%%\n"
    }
   }
  },
  {
   "cell_type": "code",
   "execution_count": 212,
   "outputs": [
    {
     "name": "stdout",
     "output_type": "stream",
     "text": [
      "42.904577436951534\n"
     ]
    }
   ],
   "source": [
    "#print(classification_report(y_test,y_pred))\n",
    "correct = 0\n",
    "for i in range(len(y_pred)):\n",
    "    if y_pred[i] == y_test[i]:\n",
    "        correct += 1\n",
    "\n",
    "print(correct*100/len(y_pred))"
   ],
   "metadata": {
    "collapsed": false,
    "pycharm": {
     "name": "#%%\n"
    }
   }
  },
  {
   "cell_type": "code",
   "execution_count": 213,
   "outputs": [
    {
     "name": "stdout",
     "output_type": "stream",
     "text": [
      "[0 0 0 ... 1 1 2]\n"
     ]
    }
   ],
   "source": [
    "print(y_pred)"
   ],
   "metadata": {
    "collapsed": false,
    "pycharm": {
     "name": "#%%\n"
    }
   }
  },
  {
   "cell_type": "code",
   "execution_count": null,
   "outputs": [],
   "source": [
    "#we also need to compare then with the ground truth values"
   ],
   "metadata": {
    "collapsed": false,
    "pycharm": {
     "name": "#%%\n"
    }
   }
  },
  {
   "cell_type": "code",
   "execution_count": null,
   "outputs": [],
   "source": [
    "#need to print a bunch of them with their predictions and their real value next to them\n",
    "#especially for the edu_mod one that seems terribly wrong"
   ],
   "metadata": {
    "collapsed": false,
    "pycharm": {
     "name": "#%%\n"
    }
   }
  },
  {
   "cell_type": "code",
   "execution_count": null,
   "outputs": [],
   "source": [
    "#need to plot the predictions and the rest by showing how much they are off by"
   ],
   "metadata": {
    "collapsed": false,
    "pycharm": {
     "name": "#%%\n"
    }
   }
  },
  {
   "cell_type": "code",
   "execution_count": null,
   "outputs": [],
   "source": [
    "\n",
    "\n",
    "#Get train and test. Done\n",
    "\n",
    "#Time the first 1000 to see how long it will take us for the 138k. Not useful right now\n",
    "\n",
    "#could also augment with rotations, although they might be ignored here since the crop is flattened. Need to research this.\n",
    "\n",
    "#also need to make these predictions on other values, lets put all of this into a function. Done\n",
    "\n",
    "#instead of applying the rules, we could make a tiny NN that takes these 4 values and predicts the label\n",
    "\n",
    "#So to get the new data and only get the segmentations not the entire crop with the background I'll have to go back to Richmond and that will take another 4 hours\n",
    "#Anyway, for now I'm seeing if this is able to guess the cell label accordingly\n",
    "#Could try once with applying the rules\n",
    "\n",
    "#will try dropping some model predictions just to see if it performs better without them\n",
    "#to be faire a neural network would learn to ignore the useless ones\n",
    "\n",
    "#might be better to get confidence labels rather than hard classification\n",
    "#it would be cool to compare that with the confidence with the threshold (how far it is from the threshold) for the training data rules classification\n",
    "\n",
    "#will try applying the rules on those predictions after, could make a simple function now that we have the 'get_value_predictions' function"
   ],
   "metadata": {
    "collapsed": false,
    "pycharm": {
     "name": "#%%\n"
    }
   }
  },
  {
   "cell_type": "code",
   "execution_count": null,
   "outputs": [],
   "source": [
    "#Later on we will want to just have the segmentations of the cells from the mask and not have the background, as in the background should just be zeros, that would probably even make this model more accurate"
   ],
   "metadata": {
    "collapsed": false,
    "pycharm": {
     "name": "#%%\n"
    }
   }
  }
 ],
 "metadata": {
  "kernelspec": {
   "display_name": "Python 3",
   "language": "python",
   "name": "python3"
  },
  "language_info": {
   "codemirror_mode": {
    "name": "ipython",
    "version": 2
   },
   "file_extension": ".py",
   "mimetype": "text/x-python",
   "name": "python",
   "nbconvert_exporter": "python",
   "pygments_lexer": "ipython2",
   "version": "2.7.6"
  }
 },
 "nbformat": 4,
 "nbformat_minor": 0
}