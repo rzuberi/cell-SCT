{
 "cells": [
  {
   "cell_type": "code",
   "execution_count": 168,
   "outputs": [],
   "source": [
    "import torch\n",
    "from importlib import reload\n",
    "import ccc_nn_functions\n",
    "from ccc_nn_functions import get_iterators,train_ccc_model, load_model, evaluate, get_predictions, plot_confusion_matrix\n",
    "ccc_nn_functions = reload(ccc_nn_functions)"
   ],
   "metadata": {
    "collapsed": false,
    "pycharm": {
     "name": "#%%\n"
    }
   }
  },
  {
   "cell_type": "code",
   "execution_count": 166,
   "outputs": [
    {
     "name": "stdout",
     "output_type": "stream",
     "text": [
      "GPU is enabled: True\n"
     ]
    }
   ],
   "source": [
    "print('GPU is enabled:',torch.cuda.is_available())"
   ],
   "metadata": {
    "collapsed": false,
    "pycharm": {
     "name": "#%%\n"
    }
   }
  },
  {
   "cell_type": "code",
   "execution_count": 174,
   "outputs": [
    {
     "name": "stderr",
     "output_type": "stream",
     "text": [
      "C:\\Users\\rz200\\Documents\\Development\\cell-SCT\\classification\\ccc_nn_functions.py:96: VisibleDeprecationWarning: Creating an ndarray from ragged nested sequences (which is a list-or-tuple of lists-or-tuples-or ndarrays with different lengths or shapes) is deprecated. If you meant to do this, you must specify 'dtype=object' when creating the ndarray.\n",
      "  return np.array(ast.literal_eval(s))\n"
     ]
    },
    {
     "name": "stdout",
     "output_type": "stream",
     "text": [
      "Training examples: 91069 | Validation example: 10119 | Testing examples: 25298\n",
      "The model has 61,111 trainable parameters\n",
      "Torch Cuda is available: True\n"
     ]
    },
    {
     "data": {
      "text/plain": "Epochs:   0%|          | 0/3 [00:00<?, ?it/s]",
      "application/vnd.jupyter.widget-view+json": {
       "version_major": 2,
       "version_minor": 0,
       "model_id": "065afe63379d4a21a3d60be43dd2f46b"
      }
     },
     "metadata": {},
     "output_type": "display_data"
    },
    {
     "data": {
      "text/plain": "Training:   0%|          | 0/1423 [00:00<?, ?it/s]",
      "application/vnd.jupyter.widget-view+json": {
       "version_major": 2,
       "version_minor": 0,
       "model_id": "7fe7c78a91de4cdfa916d1d559b8cd73"
      }
     },
     "metadata": {},
     "output_type": "display_data"
    },
    {
     "data": {
      "text/plain": "Evaluating:   0%|          | 0/159 [00:00<?, ?it/s]",
      "application/vnd.jupyter.widget-view+json": {
       "version_major": 2,
       "version_minor": 0,
       "model_id": "f1e9a64465554096bb9ea0db8f638e49"
      }
     },
     "metadata": {},
     "output_type": "display_data"
    },
    {
     "name": "stdout",
     "output_type": "stream",
     "text": [
      "Epoch: 01 | Epoch Time: 1m 46s | Train Loss: 0.830 | Train Acc: 62.96% | Val. Loss: 0.775 |  Val. Acc: 64.89%\n"
     ]
    },
    {
     "data": {
      "text/plain": "Training:   0%|          | 0/1423 [00:00<?, ?it/s]",
      "application/vnd.jupyter.widget-view+json": {
       "version_major": 2,
       "version_minor": 0,
       "model_id": "0148eef17b2f4cc4ac8f758f861aeb3a"
      }
     },
     "metadata": {},
     "output_type": "display_data"
    },
    {
     "data": {
      "text/plain": "Evaluating:   0%|          | 0/159 [00:00<?, ?it/s]",
      "application/vnd.jupyter.widget-view+json": {
       "version_major": 2,
       "version_minor": 0,
       "model_id": "1953e1d452e14adabbac353e56f21242"
      }
     },
     "metadata": {},
     "output_type": "display_data"
    },
    {
     "name": "stdout",
     "output_type": "stream",
     "text": [
      "Epoch: 02 | Epoch Time: 1m 50s | Train Loss: 0.770 | Train Acc: 65.31% | Val. Loss: 0.752 |  Val. Acc: 65.73%\n"
     ]
    },
    {
     "data": {
      "text/plain": "Training:   0%|          | 0/1423 [00:00<?, ?it/s]",
      "application/vnd.jupyter.widget-view+json": {
       "version_major": 2,
       "version_minor": 0,
       "model_id": "2dafe73e210c42278a11ed624ed0ef61"
      }
     },
     "metadata": {},
     "output_type": "display_data"
    },
    {
     "data": {
      "text/plain": "Evaluating:   0%|          | 0/159 [00:00<?, ?it/s]",
      "application/vnd.jupyter.widget-view+json": {
       "version_major": 2,
       "version_minor": 0,
       "model_id": "7aab70908a274f208b8e9d4062e9744a"
      }
     },
     "metadata": {},
     "output_type": "display_data"
    },
    {
     "name": "stdout",
     "output_type": "stream",
     "text": [
      "Epoch: 03 | Epoch Time: 1m 49s | Train Loss: 0.755 | Train Acc: 65.99% | Val. Loss: 0.762 |  Val. Acc: 64.84%\n"
     ]
    }
   ],
   "source": [
    "#Train a model\n",
    "\n",
    "# Data path\n",
    "df_821_short_path = r'C:\\Users\\rz200\\Documents\\Development\\cell-SCT\\classification\\imported_CSV\\dataframe_821_short'\n",
    "df_821_path = r'C:\\Users\\rz200\\Documents\\Development\\cell-SCT\\classification\\imported_CSV\\dataframe_821'\n",
    "data_path = df_821_path #path to your data\n",
    "\n",
    "# Path to save model\n",
    "path_to_save = r'C:\\Users\\rz200\\Documents\\Development\\cell-SCT\\classification\\saved_models\\test_model.pt' #path to which you want to save your model\n",
    "\n",
    "# Training the model\n",
    "iterators = get_iterators(data_path) #get the iterators: data train-test-val formatted\n",
    "num_epochs = 3\n",
    "train_ccc_model(num_epochs,path_to_save,iterators) #train the model\n",
    "model = load_model(path_to_save) #load your model you just trained"
   ],
   "metadata": {
    "collapsed": false,
    "pycharm": {
     "name": "#%%\n"
    }
   }
  },
  {
   "cell_type": "code",
   "execution_count": 175,
   "outputs": [
    {
     "data": {
      "text/plain": "Evaluating:   0%|          | 0/396 [00:00<?, ?it/s]",
      "application/vnd.jupyter.widget-view+json": {
       "version_major": 2,
       "version_minor": 0,
       "model_id": "9910e49d59f949578e89399f13a19dd2"
      }
     },
     "metadata": {},
     "output_type": "display_data"
    },
    {
     "name": "stdout",
     "output_type": "stream",
     "text": [
      "Test Loss: 0.754 | Test Acc: 65.65%\n"
     ]
    },
    {
     "data": {
      "text/plain": "<Figure size 720x720 with 2 Axes>",
      "image/png": "[encoded data removed]"
     },
     "metadata": {
      "needs_background": "light"
     },
     "output_type": "display_data"
    }
   ],
   "source": [
    "#Evaluate your model on your test data\n",
    "test_iterator = iterators[2]\n",
    "test_loss, test_acc = evaluate(model, test_iterator)\n",
    "print(f'Test Loss: {test_loss:.3f} | Test Acc: {test_acc*100:.2f}%')\n",
    "\n",
    "#Confusion matrix\n",
    "images, labels, probs = get_predictions(model, test_iterator)\n",
    "pred_labels = torch.argmax(probs, 1)\n",
    "plot_confusion_matrix(labels, pred_labels)"
   ],
   "metadata": {
    "collapsed": false,
    "pycharm": {
     "name": "#%%\n"
    }
   }
  },
  {
   "cell_type": "code",
   "execution_count": null,
   "outputs": [],
   "source": [
    "#Now we should make all of this a pipeline where you just need to give the CSV file. Done\n",
    "#Also we should have a prediction function. Already done\n",
    "#Later on we need to modify this to be a mask to add on the segmented cells\n",
    "    #The input to the network has to be an image made just from the segmentation mask of the cell, and the rest is padded to be squared, so no background\n",
    "    #The cells need to be kept with an index for the segmentation mask of the cell to be brought back as labelled in the end"
   ],
   "metadata": {
    "collapsed": false,
    "pycharm": {
     "name": "#%%\n"
    }
   }
  },
  {
   "cell_type": "code",
   "execution_count": null,
   "outputs": [],
   "source": [
    "#I should try making a better segmentation model with CellPose2, then segmenting out the cells from both plates into two CSVs that we then put together, and then training this classification model"
   ],
   "metadata": {
    "collapsed": false,
    "pycharm": {
     "name": "#%%\n"
    }
   }
  },
  {
   "cell_type": "code",
   "execution_count": null,
   "outputs": [],
   "source": [
    "#Try the same model but with the CyclinA2 crops"
   ],
   "metadata": {
    "collapsed": false,
    "pycharm": {
     "name": "#%%\n"
    }
   }
  },
  {
   "cell_type": "code",
   "execution_count": null,
   "outputs": [],
   "source": [
    "#make a model to try and guess the DAPI, CyclinA2 and EdU values just from the PCNA values"
   ],
   "metadata": {
    "collapsed": false,
    "pycharm": {
     "name": "#%%\n"
    }
   }
  },
  {
   "cell_type": "code",
   "execution_count": null,
   "outputs": [],
   "source": [
    "#Next steps\n",
    " #Add a 'column name' input to choose which channel crops we want to train the model on\n",
    " #Add a function to just give a cell image and it gets the segmentation and it gets the predictions of all of its cells as a mask, it should keep the coordinates of the cell crops it makes\n",
    " #Change the model to only take the segmentation mask to make the prediction, not the crops\n",
    " #Make a new notebook that presents all of these functions together as a single pipeline\n",
    " #Make a GUI that presents the cell masks and we can hover over a cell to showcase it and it would give its cell phase"
   ],
   "metadata": {
    "collapsed": false,
    "pycharm": {
     "name": "#%%\n"
    }
   }
  }
 ],
 "metadata": {
  "kernelspec": {
   "display_name": "Python 3",
   "language": "python",
   "name": "python3"
  },
  "language_info": {
   "codemirror_mode": {
    "name": "ipython",
    "version": 2
   },
   "file_extension": ".py",
   "mimetype": "text/x-python",
   "name": "python",
   "nbconvert_exporter": "python",
   "pygments_lexer": "ipython2",
   "version": "2.7.6"
  }
 },
 "nbformat": 4,
 "nbformat_minor": 0
}