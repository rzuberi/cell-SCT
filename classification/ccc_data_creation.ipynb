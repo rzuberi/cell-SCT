{
 "cells": [
  {
   "cell_type": "markdown",
   "source": [
    "# Data creation\n",
    "\n",
    "This notebook connects to Omero and with a plate number given will a CSV file with data from the cells that we need."
   ],
   "metadata": {
    "collapsed": false,
    "pycharm": {
     "name": "#%% md\n"
    }
   }
  },
  {
   "cell_type": "code",
   "execution_count": 59,
   "outputs": [
    {
     "name": "stdout",
     "output_type": "stream",
     "text": [
      "Connection successful\n"
     ]
    }
   ],
   "source": [
    "#Connect to Omero\n",
    "\n",
    "import ezomero\n",
    "import numpy as np\n",
    "\n",
    "HOST = 'ome2.hpc.sussex.ac.uk'\n",
    "user_name = 'rz200'\n",
    "password = 'omeroreset'\n",
    "port = 4064\n",
    "conn = ezomero.connect(user=user_name,password=password,group='',host=HOST,port=port,secure=True)\n",
    "if conn: print('Connection successful')\n",
    "else: print('Unsuccessful')"
   ],
   "metadata": {
    "collapsed": false,
    "pycharm": {
     "name": "#%%\n"
    }
   }
  },
  {
   "cell_type": "code",
   "execution_count": 60,
   "outputs": [
    {
     "name": "stdout",
     "output_type": "stream",
     "text": [
      "In plate 821 we have 540 images\n"
     ]
    }
   ],
   "source": [
    "#Get the image IDs from the specified plate\n",
    "plate = 821 #change for the plate number you want\n",
    "\n",
    "image_ids = ezomero.get_image_ids(conn,plate=plate)\n",
    "print('In plate',plate,'we have',len(image_ids),'images')"
   ],
   "metadata": {
    "collapsed": false,
    "pycharm": {
     "name": "#%%\n"
    }
   }
  },
  {
   "cell_type": "code",
   "execution_count": 61,
   "outputs": [],
   "source": [
    "#Create the folders where to store the images/data/CSVs\n",
    "import os\n",
    "from datetime import datetime\n",
    "\n",
    "timestamp_folder_name = 'omero_data_' + user_name + '_' + datetime.now().strftime(\"%Y%m%d%H%M%S\") #get timestamp\n",
    "os.mkdir(timestamp_folder_name) #create folder with timestamp as name\n",
    "\n",
    "data_folder_name = timestamp_folder_name + '/data_' + str(plate)\n",
    "os.mkdir(data_folder_name) #create folder with plate number in timestamp folder"
   ],
   "metadata": {
    "collapsed": false,
    "pycharm": {
     "name": "#%%\n"
    }
   }
  },
  {
   "cell_type": "code",
   "execution_count": 62,
   "outputs": [],
   "source": [
    "#Progress bar\n",
    "#Will be moved to a class at some point\n",
    "\n",
    "import sys\n",
    "#source:https://stackoverflow.com/questions/3160699/python-progress-bar\n",
    "def progressbar(it, prefix=\"\", size=60, out=sys.stdout): # Python3.3+\n",
    "    # I would love to add a 'time left' addition to this\n",
    "    count = len(it)\n",
    "    def show(j):\n",
    "        x = int(size*j/count)\n",
    "        print(\"{}[{}{}] {}/{}\".format(prefix, \"#\"*x, \".\"*(size-x), j, count),\n",
    "              end='\\r', file=out, flush=True)\n",
    "    show(0)\n",
    "    for i, item in enumerate(it):\n",
    "        yield item\n",
    "        show(i+1)\n",
    "    print(\"\\n\", flush=True, file=out)"
   ],
   "metadata": {
    "collapsed": false,
    "pycharm": {
     "name": "#%%\n"
    }
   }
  },
  {
   "cell_type": "code",
   "execution_count": 63,
   "outputs": [
    {
     "name": "stdout",
     "output_type": "stream",
     "text": [
      "[############################################################] 540/540\r\n",
      "\n"
     ]
    }
   ],
   "source": [
    "#Get all the images from the plate\n",
    "\n",
    "plate_images = []\n",
    "for i in progressbar(range(len(image_ids))):\n",
    "    plate_images.append(ezomero.get_image(conn,image_id=image_ids[i]))\n",
    "plate_images = np.array(plate_images,dtype=object)"
   ],
   "metadata": {
    "collapsed": false,
    "pycharm": {
     "name": "#%%\n"
    }
   }
  },
  {
   "cell_type": "code",
   "execution_count": 70,
   "outputs": [],
   "source": [
    "#We don't want to get all our images at once as that would take up too much memory\n",
    "#The divider is the value representing how many groups of data we are making from our cell images\n",
    "#If you do not want to separate your data at all (big memory flex): divider=1\n",
    "#The divider has to divide your data to a round number, otherwise we would miss some data\n",
    "#If no error is printed, carry on\n",
    "\n",
    "divider = 180\n",
    "\n",
    "class Error(Exception):\n",
    "    \"\"\"Base class for other exceptions\"\"\"\n",
    "    pass\n",
    "\n",
    "class NotRound(Error):\n",
    "    \"\"\"Raised when the divider leads to a non round value\"\"\"\n",
    "    pass\n",
    "\n",
    "try:\n",
    "    is_round = (len(plate_images)/divider % 1 == 0)\n",
    "    if is_round is not True:\n",
    "        raise NotRound\n",
    "except NotRound:\n",
    "    print(\"The divider you chose led to a non round value\")\n",
    "    print(\"You would miss out on some data this way, try a different divider\")"
   ],
   "metadata": {
    "collapsed": false,
    "pycharm": {
     "name": "#%%\n"
    }
   }
  },
  {
   "cell_type": "code",
   "execution_count": 73,
   "outputs": [
    {
     "name": "stdout",
     "output_type": "stream",
     "text": [
      "0/3\n",
      "3/3\n",
      "6/3\n",
      "9/3\n",
      "12/3\n",
      "15/3\n",
      "18/3\n",
      "21/3\n",
      "24/3\n",
      "27/3\n",
      "30/3\n",
      "33/3\n",
      "36/3\n",
      "39/3\n",
      "42/3\n",
      "45/3\n",
      "48/3\n",
      "51/3\n",
      "54/3\n",
      "57/3\n",
      "60/3\n",
      "63/3\n",
      "66/3\n",
      "69/3\n",
      "72/3\n",
      "75/3\n",
      "78/3\n",
      "81/3\n",
      "84/3\n",
      "87/3\n",
      "90/3\n",
      "93/3\n",
      "96/3\n",
      "99/3\n",
      "102/3\n",
      "105/3\n",
      "108/3\n",
      "111/3\n",
      "114/3\n",
      "117/3\n",
      "120/3\n",
      "123/3\n",
      "126/3\n",
      "129/3\n",
      "132/3\n",
      "135/3\n",
      "138/3\n",
      "141/3\n",
      "144/3\n",
      "147/3\n",
      "150/3\n",
      "153/3\n",
      "156/3\n",
      "159/3\n",
      "162/3\n",
      "165/3\n",
      "168/3\n",
      "171/3\n",
      "174/3\n",
      "177/3\n",
      "180/3\n",
      "183/3\n",
      "186/3\n",
      "189/3\n",
      "192/3\n",
      "195/3\n",
      "198/3\n",
      "201/3\n",
      "204/3\n",
      "207/3\n",
      "210/3\n",
      "213/3\n",
      "216/3\n",
      "219/3\n",
      "222/3\n",
      "225/3\n",
      "228/3\n",
      "231/3\n",
      "234/3\n",
      "237/3\n",
      "240/3\n",
      "243/3\n",
      "246/3\n",
      "249/3\n",
      "252/3\n",
      "255/3\n",
      "258/3\n",
      "261/3\n",
      "264/3\n",
      "267/3\n",
      "270/3\n",
      "273/3\n",
      "276/3\n",
      "279/3\n",
      "282/3\n",
      "285/3\n",
      "288/3\n",
      "291/3\n",
      "294/3\n",
      "297/3\n",
      "300/3\n",
      "303/3\n",
      "306/3\n",
      "309/3\n",
      "312/3\n",
      "315/3\n",
      "318/3\n",
      "321/3\n",
      "324/3\n",
      "327/3\n",
      "330/3\n",
      "333/3\n",
      "336/3\n",
      "339/3\n",
      "342/3\n",
      "345/3\n",
      "348/3\n",
      "351/3\n",
      "354/3\n",
      "357/3\n",
      "360/3\n",
      "363/3\n",
      "366/3\n",
      "369/3\n",
      "372/3\n",
      "375/3\n",
      "378/3\n",
      "381/3\n",
      "384/3\n",
      "387/3\n",
      "390/3\n",
      "393/3\n",
      "396/3\n",
      "399/3\n",
      "402/3\n",
      "405/3\n",
      "408/3\n",
      "411/3\n",
      "414/3\n",
      "417/3\n",
      "420/3\n",
      "423/3\n",
      "426/3\n",
      "429/3\n",
      "432/3\n",
      "435/3\n",
      "438/3\n",
      "441/3\n",
      "444/3\n",
      "447/3\n",
      "450/3\n",
      "453/3\n",
      "456/3\n",
      "459/3\n",
      "462/3\n",
      "465/3\n",
      "468/3\n",
      "471/3\n",
      "474/3\n",
      "477/3\n",
      "480/3\n",
      "483/3\n",
      "486/3\n",
      "489/3\n",
      "492/3\n",
      "495/3\n",
      "498/3\n",
      "501/3\n",
      "504/3\n",
      "507/3\n",
      "510/3\n",
      "513/3\n",
      "516/3\n",
      "519/3\n",
      "522/3\n",
      "525/3\n",
      "528/3\n",
      "531/3\n",
      "534/3\n",
      "537/3\n"
     ]
    }
   ],
   "source": [
    "#Collect cell data from the images\n",
    "from ccc_functions import build_one_cell_df\n",
    "import pandas as pd\n",
    "from pathlib import Path\n",
    "\n",
    "#This will be a loop that goes 100 images by 100\n",
    "model_dir = \"C:\\\\Users\\\\rz200\\\\Documents\\\\datadevelopment\\\\cell-SCT\\\\segmentation\\\\demo_train_test_data\\\\data_for_masks_training\\\\models\\\\demo_model\"\n",
    "#for i in range(round(len(plate_images)/divider)):\n",
    "for i in range(0,len(plate_images),int(len(plate_images)/divider)):\n",
    "    print(str(i) + '/' + str(int(len(plate_images)/divider)))\n",
    "    pd_list = []\n",
    "    for j in range(i,int(i+len(plate_images)/divider)):\n",
    "        #print(j)\n",
    "        pd_list.append(build_one_cell_df(plate_images[j], model_dir))\n",
    "    #print(i)\n",
    "    df_concat = pd.concat(pd_list)\n",
    "    df_concat = df_concat.reset_index()\n",
    "    #print(i)\n",
    "    filepath = Path(data_folder_name + '\\\\CSV_' + str(plate) + '_' + str(i))\n",
    "    filepath.parent.mkdir(parents=True, exist_ok=True)\n",
    "    df_concat.to_csv(filepath)\n",
    "    #print(i)\n",
    "\n",
    "#It builds a CSV with those 50 images\n",
    "#Then it stores it in the plate folder"
   ],
   "metadata": {
    "collapsed": false,
    "pycharm": {
     "name": "#%%\n"
    }
   }
  },
  {
   "cell_type": "code",
   "execution_count": 74,
   "outputs": [],
   "source": [
    "#First find all the files and put them in a list\n",
    "\n",
    "path_to_data = os.getcwd() + '\\\\' + timestamp_folder_name + '\\\\' + 'data_' + str(plate)\n",
    "all_CSV_paths = []\n",
    "for file in os.listdir(path_to_data):\n",
    "    all_CSV_paths.append(path_to_data + '\\\\' + file)\n",
    "\n",
    "all_df = []\n",
    "for csv_path in all_CSV_paths:\n",
    "    all_df.append(pd.read_csv(csv_path))"
   ],
   "metadata": {
    "collapsed": false,
    "pycharm": {
     "name": "#%%\n"
    }
   }
  },
  {
   "cell_type": "code",
   "execution_count": 75,
   "outputs": [],
   "source": [
    "#Second concatenate them all into one dataframe\n",
    "\n",
    "df_concat = pd.concat(all_df)\n",
    "df_concat = df_concat.reset_index()\n",
    "\n",
    "from pathlib import Path\n",
    "filepath = Path(path_to_data + '\\\\' + 'dataframe_' + str(plate))\n",
    "filepath.parent.mkdir(parents=True, exist_ok=True)\n",
    "df_concat.to_csv(filepath)"
   ],
   "metadata": {
    "collapsed": false,
    "pycharm": {
     "name": "#%%\n"
    }
   }
  },
  {
   "cell_type": "code",
   "execution_count": 76,
   "outputs": [],
   "source": [
    " #Third delete all the individual CSVs, not the concatenated one\n",
    "#Don't run this until we're sure\n",
    "for path in all_CSV_paths:\n",
    "    os.remove(path)"
   ],
   "metadata": {
    "collapsed": false,
    "pycharm": {
     "name": "#%%\n"
    }
   }
  }
 ],
 "metadata": {
  "kernelspec": {
   "display_name": "Python 3",
   "language": "python",
   "name": "python3"
  },
  "language_info": {
   "codemirror_mode": {
    "name": "ipython",
    "version": 2
   },
   "file_extension": ".py",
   "mimetype": "text/x-python",
   "name": "python",
   "nbconvert_exporter": "python",
   "pygments_lexer": "ipython2",
   "version": "2.7.6"
  }
 },
 "nbformat": 4,
 "nbformat_minor": 0
}