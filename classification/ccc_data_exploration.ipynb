{
 "cells": [
  {
   "cell_type": "markdown",
   "metadata": {
    "pycharm": {
     "name": "#%% md\n"
    }
   },
   "source": [
    "# Data exploration\n",
    "\n",
    "This notebook will explore the images we have and extract data from them. The images have 4 channels (DAPI, EdU, and two Alexa's, one being PCNA). The data we extract from the channels are the pixel intensities."
   ]
  },
  {
   "cell_type": "markdown",
   "source": [
    "Pipeline (Pseudo-code) to gather training data:\n",
    "\n",
    "Upload from Omero all images from a well\n",
    "For each image\n",
    "- make a prediction for the cells\n",
    "- make the crops around the cells in each channel\n",
    "- make a dataframe with the first row being the one for the Alexa555 (PCNA) image crops\n",
    "- get the pixel intensity of the crops in each channel and add it to the dataframe where each column corresponds to a channel's intentisity for that crop\n",
    "- normalise that pixel intensity data per channel\n",
    "\n",
    "Stack all the dataframes together\n",
    "Get the DNA value data from the DAPI channel (Helfrid's function) and add it to the dataframe\n",
    "Get the background value of the Cyclin A2 and EdU channels\n",
    "Apply the G1, S and G2/M rules where they are each a column in the dataframe with True if the cell's data follows the rule to be in that phase and False if not\n",
    "Plot that cell cycle phase channel data in a 4D graph where each axis is data from a channel\n",
    "Plot some cells from each classification cropped in the Alexa555 channel"
   ],
   "metadata": {
    "collapsed": false,
    "pycharm": {
     "name": "#%% md\n"
    }
   }
  },
  {
   "cell_type": "markdown",
   "metadata": {
    "pycharm": {
     "name": "#%% md\n"
    }
   },
   "source": [
    "## Importing data\n",
    "\n",
    "Note: since I'm working from home right now, I'm struggling with my connection to Omero so I'm importing data I saved from earlier. When I'm back in the lab I will change this part to be importing data from Omero with the plate number."
   ]
  },
  {
   "cell_type": "code",
   "execution_count": 30,
   "outputs": [
    {
     "name": "stdout",
     "output_type": "stream",
     "text": [
      "Connection successful\n",
      "In plate 822 we have 1500 images\n"
     ]
    }
   ],
   "source": [
    "#Get all images from Omero\n",
    "import ezomero\n",
    "import numpy as np\n",
    "\n",
    "#Step 1: Connect to Omero\n",
    "\n",
    "HOST = 'ome2.hpc.sussex.ac.uk' #change if different\n",
    "port=4064\n",
    "conn = ezomero.connect(user='rz200',password='omeroreset',group='',host=HOST,port=4064,secure=True)\n",
    "if conn: print('Connection successful')\n",
    "else: print('Unsuccessful')\n",
    "\n",
    "#Step 2: Load the images\n",
    "plate = 822\n",
    "image_ids = ezomero.get_image_ids(conn,plate=plate)\n",
    "print('In plate',plate,'we have',len(image_ids),'images')\n",
    "\n",
    "model_dir = \"C:\\\\Users\\\\rz200\\\\Documents\\\\Development\\\\cell-SCT\\\\segmentation\\\\demo_train_test_data\\\\data_for_masks_training\\\\models\\\\demo_model\"\n",
    "\n",
    "#Make a loop that goes through each image and store them in a numpy array or even in the dataframe\n",
    " #this gets the first image, it has 4 channels\n",
    "#ori_img = np.reshape(image[1],(1080,1080,4)) #full_image with 4 channels\n",
    "#dapi_img = np.reshape(image[1],(1080,1080,4))[:,:,0] #channel 0 is Hoechst 33342, very similar to DAPI\n",
    "#edu_img = np.reshape(image[1],(1080,1080,4))[:,:,1] #channel 1 is Cy5 aka EdU\n",
    "#cyclina2_img = np.reshape(image[1],(1080,1080,4))[:,:,2] #channel 2 is Alexa488 aka Cyclin A2\n",
    "#pcna_img = np.reshape(image[1],(1080,1080,4))[:,:,3] #channel 3 is Alexa555 aka PCNA"
   ],
   "metadata": {
    "collapsed": false,
    "pycharm": {
     "name": "#%%\n"
    }
   }
  },
  {
   "cell_type": "code",
   "execution_count": 10,
   "outputs": [
    {
     "name": "stdout",
     "output_type": "stream",
     "text": [
      "44.608195543289185\n"
     ]
    },
    {
     "name": "stderr",
     "output_type": "stream",
     "text": [
      "C:\\Users\\rz200\\AppData\\Local\\Temp\\ipykernel_23632\\288618434.py:7: VisibleDeprecationWarning: Creating an ndarray from ragged nested sequences (which is a list-or-tuple of lists-or-tuples-or ndarrays with different lengths or shapes) is deprecated. If you meant to do this, you must specify 'dtype=object' when creating the ndarray.\n",
      "  plate_images = np.array(plate_images)\n"
     ]
    }
   ],
   "source": [
    "import time\n",
    "start = time.time()\n",
    "\n",
    "plate_images = []\n",
    "for i in range(len(image_ids[:50])):\n",
    "    plate_images.append(ezomero.get_image(conn,image_id=image_ids[i]))\n",
    "plate_images = np.array(plate_images)\n",
    "#At some point I want to get all the 1500 images, put them in the dataframe and export as a CSV to save as training data\n",
    "\n",
    "end = time.time()\n",
    "print(end - start)"
   ],
   "metadata": {
    "collapsed": false,
    "pycharm": {
     "name": "#%%\n"
    }
   }
  },
  {
   "cell_type": "code",
   "execution_count": 11,
   "outputs": [
    {
     "name": "stdout",
     "output_type": "stream",
     "text": [
      "0\n",
      "1\n",
      "2\n",
      "3\n",
      "4\n",
      "5\n",
      "6\n",
      "7\n",
      "8\n",
      "9\n",
      "10\n",
      "11\n",
      "12\n",
      "13\n",
      "14\n",
      "15\n",
      "16\n",
      "17\n",
      "18\n",
      "19\n",
      "20\n",
      "21\n",
      "22\n",
      "23\n",
      "24\n",
      "25\n",
      "26\n",
      "27\n",
      "28\n",
      "29\n",
      "30\n",
      "31\n",
      "32\n",
      "33\n",
      "34\n",
      "35\n",
      "36\n",
      "37\n",
      "38\n",
      "39\n",
      "40\n",
      "41\n",
      "42\n",
      "43\n",
      "44\n",
      "45\n",
      "46\n",
      "47\n",
      "48\n",
      "49\n",
      "524.3912267684937\n"
     ]
    },
    {
     "data": {
      "text/plain": "<Figure size 432x288 with 1 Axes>",
      "image/png": "[encoded data removed]"
     },
     "metadata": {
      "needs_background": "light"
     },
     "output_type": "display_data"
    }
   ],
   "source": [
    "import sys, importlib\n",
    "importlib.reload(sys.modules['classification.ccc_functions'])\n",
    "from classification.ccc_functions import build_mega_cell_df\n",
    "\n",
    "import time\n",
    "start = time.time()\n",
    "\n",
    "model_dir = \"C:\\\\Users\\\\rz200\\\\Documents\\\\Development\\\\cell-SCT\\\\segmentation\\\\demo_train_test_data\\\\data_for_masks_training\\\\models\\\\demo_model\"\n",
    "df_mega = build_mega_cell_df(plate_images,model_dir)\n",
    "\n",
    "end = time.time()\n",
    "print(end - start)"
   ],
   "metadata": {
    "collapsed": false,
    "pycharm": {
     "name": "#%%\n"
    }
   }
  },
  {
   "cell_type": "code",
   "execution_count": 57,
   "outputs": [],
   "source": [
    "#Save dataframe to csv\n",
    "\n",
    "from pathlib import Path\n",
    "filepath = Path('C:\\\\Users\\\\rz200\\\\Documents\\\\Development\\\\cell-SCT\\\\classification\\\\training_data\\\\td_first50.csv')\n",
    "filepath.parent.mkdir(parents=True, exist_ok=True)\n",
    "df_mega.to_csv(filepath) #should make this a function and also make a function to read the csv\n",
    "#and also add the loading bars"
   ],
   "metadata": {
    "collapsed": false,
    "pycharm": {
     "name": "#%%\n"
    }
   }
  },
  {
   "cell_type": "code",
   "execution_count": 16,
   "outputs": [
    {
     "name": "stdout",
     "output_type": "stream",
     "text": [
      "Total cells: 10838\n",
      "S phase: 39.8%\n",
      "G1 phase: 44.81%\n",
      "G2/M phase: 11.4%\n"
     ]
    }
   ],
   "source": [
    "import sys, importlib\n",
    "importlib.reload(sys.modules['classification.ccc_functions'])\n",
    "from classification.ccc_functions import count_phases\n",
    "count_phases(df_mega)"
   ],
   "metadata": {
    "collapsed": false,
    "pycharm": {
     "name": "#%%\n"
    }
   }
  },
  {
   "cell_type": "code",
   "execution_count": 28,
   "outputs": [
    {
     "data": {
      "text/plain": "<Figure size 432x288 with 1 Axes>",
      "image/png": "[encoded data removed]"
     },
     "metadata": {
      "needs_background": "light"
     },
     "output_type": "display_data"
    },
    {
     "data": {
      "text/plain": "<Figure size 432x288 with 1 Axes>",
      "image/png": "[encoded data removed]"
     },
     "metadata": {
      "needs_background": "light"
     },
     "output_type": "display_data"
    }
   ],
   "source": [
    "#Should show the EdU and CyclinA2 threshold to display here\n",
    "#Also to send to Helfrid\n",
    "\n",
    "from classification.ccc_functions import build_one_cell_df,get_EdU_threshold\n",
    "import matplotlib.pyplot as plt\n",
    "\n",
    "#Get a dataframe for the first image\n",
    "df_one = build_one_cell_df(plate_images[0],model_dir)\n",
    "\n",
    "#Get the EdU threshold for it\n",
    "edu_threshold = get_EdU_threshold(df_one, 'edu_values')\n",
    "\n",
    "#Display the EdU vs DAPI plot\n",
    "edu_values = df_one['edu_values'].values\n",
    "dapi_values = df_one['dapi_values'].values\n",
    "plt.title('Displaying the EdU threshold from one image')\n",
    "plt.plot(dapi_values,edu_values,'o')\n",
    "plt.yscale('log')\n",
    "plt.xlabel('DAPI')\n",
    "plt.ylabel('EdU (log)')\n",
    "plt.axhline(y=edu_threshold, color='r', linestyle='-',label='EdU threshold')\n",
    "plt.legend()\n",
    "plt.savefig('EdUthresh.png')\n",
    "plt.show()"
   ],
   "metadata": {
    "collapsed": false,
    "pycharm": {
     "name": "#%%\n"
    }
   }
  },
  {
   "cell_type": "code",
   "execution_count": 29,
   "outputs": [
    {
     "data": {
      "text/plain": "<Figure size 432x288 with 1 Axes>",
      "image/png": "[encoded data removed]"
     },
     "metadata": {
      "needs_background": "light"
     },
     "output_type": "display_data"
    }
   ],
   "source": [
    "#Get the Cyclin A2 threshold for it\n",
    "cyclina2_threshold = get_EdU_threshold(df_one, 'cyclina2_values')\n",
    "\n",
    "#Display the EdU vs DAPI plot\n",
    "cyclina2_values = df_one['cyclina2_values'].values\n",
    "dapi_values = df_one['dapi_values'].values\n",
    "plt.title('Displaying the Cyclin A2 threshold from one image')\n",
    "plt.plot(dapi_values,cyclina2_values,'o')\n",
    "#plt.yscale('log')\n",
    "plt.xlabel('DAPI')\n",
    "plt.ylabel('Cyclin A2')\n",
    "plt.axhline(y=cyclina2_threshold, color='g', linestyle='-',label='Cyclin A2 threshold')\n",
    "plt.legend()\n",
    "plt.savefig('CyclinA2thresh.png')\n",
    "plt.show()"
   ],
   "metadata": {
    "collapsed": false,
    "pycharm": {
     "name": "#%%\n"
    }
   }
  },
  {
   "cell_type": "code",
   "execution_count": 55,
   "outputs": [],
   "source": [
    "def get_training_data(df):\n",
    "\n",
    "    pcna_images = df['pcna_crops'].values\n",
    "\n",
    "    cycle_phase_encodings = []\n",
    "    for i in range(len(df['S_Phase'])):\n",
    "        encoding_arr = []\n",
    "        if df['G1_Phase'][i]: encoding_arr.append(1)\n",
    "        else: encoding_arr.append(0)\n",
    "\n",
    "        if df['S_Phase'][i]: encoding_arr.append(1)\n",
    "        else: encoding_arr.append(0)\n",
    "\n",
    "        if df['G2_M_Phase'][i]: encoding_arr.append(1)\n",
    "        else: encoding_arr.append(0)\n",
    "\n",
    "        cycle_phase_encodings.append(encoding_arr)\n",
    "\n",
    "    training_data = []\n",
    "    for j in range(len(pcna_images)):\n",
    "        training_data.append((pcna_images[j],cycle_phase_encodings[j]))\n",
    "\n",
    "    training_data = np.array(training_data,dtype=object)\n",
    "\n",
    "    return training_data"
   ],
   "metadata": {
    "collapsed": false,
    "pycharm": {
     "name": "#%%\n"
    }
   }
  },
  {
   "cell_type": "code",
   "execution_count": 64,
   "outputs": [
    {
     "name": "stdout",
     "output_type": "stream",
     "text": [
      "(10838, 2)\n"
     ]
    }
   ],
   "source": [
    "training_data = get_training_data(df_mega)\n",
    "print(training_data.shape)"
   ],
   "metadata": {
    "collapsed": false,
    "pycharm": {
     "name": "#%%\n"
    }
   }
  },
  {
   "cell_type": "code",
   "execution_count": 91,
   "outputs": [],
   "source": [
    "#We need to build a training folder and a test folder\n",
    "#This should eventually become a function\n",
    "#The folder needs to resemble the following structure:\n",
    "#pcna_train\n",
    "# #s_phase\n",
    "# # #image1\n",
    "# # #image2\n",
    "# # #...\n",
    "# #g1_phase\n",
    "# # #image1\n",
    "# # #image2\n",
    "# # #...\n",
    "# #g2_m_phase\n",
    "# # #image1\n",
    "# # #image2\n",
    "# # #...\n",
    "\n",
    "#And then the same structure but for the test folder\n",
    "\n",
    "#tutorial we're following now for the CNN:https://medium.com/thecyphy/train-cnn-model-with-pytorch-21dafb918f48"
   ],
   "metadata": {
    "collapsed": false,
    "pycharm": {
     "name": "#%%\n"
    }
   }
  },
  {
   "cell_type": "code",
   "execution_count": 83,
   "outputs": [
    {
     "name": "stdout",
     "output_type": "stream",
     "text": [
      "train data shape (10838,)\n",
      "train_y shape (10405,)\n",
      "train_x shape (10405, 100, 100)\n"
     ]
    }
   ],
   "source": [
    "import cv2\n",
    "\n",
    "train_img = training_data[:,0]\n",
    "train_img_padded = []\n",
    "\n",
    "for i in range(len(train_img)):\n",
    "    train_img_padded.append(cv2.copyMakeBorder(train_img[i], 100-train_img[i].shape[0], 0, 100-train_img[i].shape[1], 0, cv2.BORDER_CONSTANT))\n",
    "\n",
    "train_y = []\n",
    "print('train data shape',training_data[:,1].shape)\n",
    "for encoding in training_data[:,1]:\n",
    "    if encoding == [1,0,0]:\n",
    "        train_y.append(0)\n",
    "    elif encoding == [0,1,0]:\n",
    "        train_y.append(1)\n",
    "    elif encoding == [0,0,1]:\n",
    "        train_y.append(2)\n",
    "\n",
    "train_x = []\n",
    "for i in range(len(train_img_padded)):\n",
    "    if training_data[:,1][i] != [0,0,0]:\n",
    "        train_x.append(train_img_padded[i])\n",
    "\n",
    "train_y = np.array(train_y)\n",
    "print('train_y shape',train_y.shape)\n",
    "train_x = np.array(train_x)\n",
    "print('train_x shape',train_x.shape)"
   ],
   "metadata": {
    "collapsed": false,
    "pycharm": {
     "name": "#%%\n"
    }
   }
  },
  {
   "cell_type": "code",
   "execution_count": 84,
   "outputs": [
    {
     "name": "stdout",
     "output_type": "stream",
     "text": [
      "Length of Train Data : 8405\n",
      "Length of Validation Data : 2000\n"
     ]
    }
   ],
   "source": [
    "from torch.utils.data.dataloader import DataLoader\n",
    "from torch.utils.data import random_split\n",
    "\n",
    "batch_size = 128\n",
    "val_size = 2000\n",
    "train_size = len(train_x) - val_size\n",
    "\n",
    "train_data,val_data = random_split(train_x,[train_size,val_size])\n",
    "print(f\"Length of Train Data : {len(train_data)}\")\n",
    "print(f\"Length of Validation Data : {len(val_data)}\")\n",
    "\n",
    "#output\n",
    "#Length of Train Data : 12034\n",
    "#Length of Validation Data : 2000\n",
    "\n",
    "#load the train and validation into batches.\n",
    "train_dl = DataLoader(train_data, batch_size, shuffle = True, num_workers = 4, pin_memory = True)\n",
    "val_dl = DataLoader(val_data, batch_size*2, num_workers = 4, pin_memory = True)"
   ],
   "metadata": {
    "collapsed": false,
    "pycharm": {
     "name": "#%%\n"
    }
   }
  },
  {
   "cell_type": "code",
   "execution_count": 90,
   "outputs": [
    {
     "name": "stdout",
     "output_type": "stream",
     "text": [
      "<torch.utils.data.dataloader.DataLoader object at 0x000001D3ACF07850>\n"
     ]
    }
   ],
   "source": [
    "print(train_dl)"
   ],
   "metadata": {
    "collapsed": false,
    "pycharm": {
     "name": "#%%\n"
    }
   }
  },
  {
   "cell_type": "code",
   "execution_count": 86,
   "outputs": [
    {
     "ename": "ValueError",
     "evalue": "too many values to unpack (expected 2)",
     "output_type": "error",
     "traceback": [
      "\u001B[1;31m---------------------------------------------------------------------------\u001B[0m",
      "\u001B[1;31mValueError\u001B[0m                                Traceback (most recent call last)",
      "Input \u001B[1;32mIn [86]\u001B[0m, in \u001B[0;36m<cell line: 13>\u001B[1;34m()\u001B[0m\n\u001B[0;32m     10\u001B[0m         ax\u001B[38;5;241m.\u001B[39mimshow(make_grid(images,nrow\u001B[38;5;241m=\u001B[39m\u001B[38;5;241m16\u001B[39m)\u001B[38;5;241m.\u001B[39mpermute(\u001B[38;5;241m1\u001B[39m,\u001B[38;5;241m2\u001B[39m,\u001B[38;5;241m0\u001B[39m))\n\u001B[0;32m     11\u001B[0m         \u001B[38;5;28;01mbreak\u001B[39;00m\n\u001B[1;32m---> 13\u001B[0m \u001B[43mshow_batch\u001B[49m\u001B[43m(\u001B[49m\u001B[43mtrain_dl\u001B[49m\u001B[43m)\u001B[49m\n",
      "Input \u001B[1;32mIn [86]\u001B[0m, in \u001B[0;36mshow_batch\u001B[1;34m(dl)\u001B[0m\n\u001B[0;32m      4\u001B[0m \u001B[38;5;28;01mdef\u001B[39;00m \u001B[38;5;21mshow_batch\u001B[39m(dl):\n\u001B[0;32m      5\u001B[0m     \u001B[38;5;124;03m\"\"\"Plot images grid of single batch\"\"\"\u001B[39;00m\n\u001B[1;32m----> 6\u001B[0m     \u001B[38;5;28;01mfor\u001B[39;00m images, labels \u001B[38;5;129;01min\u001B[39;00m dl:\n\u001B[0;32m      7\u001B[0m         fig,ax \u001B[38;5;241m=\u001B[39m plt\u001B[38;5;241m.\u001B[39msubplots(figsize \u001B[38;5;241m=\u001B[39m (\u001B[38;5;241m16\u001B[39m,\u001B[38;5;241m12\u001B[39m))\n\u001B[0;32m      8\u001B[0m         ax\u001B[38;5;241m.\u001B[39mset_xticks([])\n",
      "\u001B[1;31mValueError\u001B[0m: too many values to unpack (expected 2)"
     ]
    }
   ],
   "source": [
    "from torchvision.utils import make_grid\n",
    "import matplotlib.pyplot as plt\n",
    "\n",
    "def show_batch(dl):\n",
    "    \"\"\"Plot images grid of single batch\"\"\"\n",
    "    for images, labels in dl:\n",
    "        fig,ax = plt.subplots(figsize = (16,12))\n",
    "        ax.set_xticks([])\n",
    "        ax.set_yticks([])\n",
    "        ax.imshow(make_grid(images,nrow=16).permute(1,2,0))\n",
    "        break\n",
    "\n",
    "show_batch(train_dl)"
   ],
   "metadata": {
    "collapsed": false,
    "pycharm": {
     "name": "#%%\n"
    }
   }
  },
  {
   "cell_type": "code",
   "execution_count": 33,
   "outputs": [
    {
     "ename": "NameError",
     "evalue": "name 'df' is not defined",
     "output_type": "error",
     "traceback": [
      "\u001B[1;31m---------------------------------------------------------------------------\u001B[0m",
      "\u001B[1;31mNameError\u001B[0m                                 Traceback (most recent call last)",
      "Input \u001B[1;32mIn [33]\u001B[0m, in \u001B[0;36m<cell line: 4>\u001B[1;34m()\u001B[0m\n\u001B[0;32m      1\u001B[0m \u001B[38;5;66;03m#Let's plot some cells of each phase here, I want the 4 channels each time\u001B[39;00m\n\u001B[0;32m      2\u001B[0m \n\u001B[0;32m      3\u001B[0m \u001B[38;5;66;03m#Plotting S_phase cells\u001B[39;00m\n\u001B[1;32m----> 4\u001B[0m is_S \u001B[38;5;241m=\u001B[39m \u001B[43mdf\u001B[49m[\u001B[38;5;124m'\u001B[39m\u001B[38;5;124mS_Phase\u001B[39m\u001B[38;5;124m'\u001B[39m]\u001B[38;5;241m==\u001B[39m\u001B[38;5;28;01mTrue\u001B[39;00m\n\u001B[0;32m      5\u001B[0m count \u001B[38;5;241m=\u001B[39m \u001B[38;5;241m0\u001B[39m\n\u001B[0;32m      6\u001B[0m i \u001B[38;5;241m=\u001B[39m \u001B[38;5;241m0\u001B[39m\n",
      "\u001B[1;31mNameError\u001B[0m: name 'df' is not defined"
     ]
    }
   ],
   "source": [
    "#Let's plot some cells of each phase here, I want the 4 channels each time\n",
    "\n",
    "#Plotting S_phase cells\n",
    "is_S = df['S_Phase']==True\n",
    "count = 0\n",
    "i = 0\n",
    "num_cells = 5\n",
    "plt.figure(figsize=(12,12))\n",
    "while count < num_cells*4:\n",
    "    if is_S[i]:\n",
    "\n",
    "        plt.subplot(5,4,count+1)\n",
    "        if count == 0: plt.title('DAPI')\n",
    "        plt.imshow(df['dapi_crops'][i],vmin=0,vmax=1);plt.axis('off')\n",
    "\n",
    "        plt.subplot(5,4,count+2)\n",
    "        if count == 0: plt.title('EdU')\n",
    "        plt.imshow(df['edu_crops'][i],vmin=0,vmax=1);plt.axis('off')\n",
    "\n",
    "        plt.subplot(5,4,count+3)\n",
    "        if count == 0: plt.title('Cyclin A2')\n",
    "        plt.imshow(df['cyclina2_crops'][i],vmin=0,vmax=1);plt.axis('off')\n",
    "\n",
    "        plt.subplot(5,4,count+4)\n",
    "        if count == 0: plt.title('PCNA')\n",
    "        plt.imshow(df['pcna_crops'][i],vmin=0,vmax=1);plt.axis('off')\n",
    "\n",
    "        count += 4\n",
    "        i+=1\n",
    "    else:i+=1\n",
    "print('S phase cells in 4 channels')\n",
    "plt.show()"
   ],
   "metadata": {
    "collapsed": false,
    "pycharm": {
     "name": "#%%\n"
    }
   }
  },
  {
   "cell_type": "code",
   "execution_count": null,
   "outputs": [],
   "source": [
    "#Plotting G1_phase cells\n",
    "is_G1 = df['G1_Phase']==True\n",
    "count = 0\n",
    "i = 0\n",
    "num_cells = 5\n",
    "plt.figure(figsize=(12,12))\n",
    "while count < num_cells*4:\n",
    "    if is_G1[i]:\n",
    "\n",
    "        plt.subplot(5,4,count+1)\n",
    "        if count == 0: plt.title('DAPI')\n",
    "        plt.imshow(df['dapi_crops'][i],vmin=0,vmax=1);plt.axis('off')\n",
    "\n",
    "        plt.subplot(5,4,count+2)\n",
    "        if count == 0: plt.title('EdU')\n",
    "        plt.imshow(df['edu_crops'][i],vmin=0,vmax=1);plt.axis('off')\n",
    "\n",
    "        plt.subplot(5,4,count+3)\n",
    "        if count == 0: plt.title('Cyclin A2')\n",
    "        plt.imshow(df['cyclina2_crops'][i],vmin=0,vmax=1);plt.axis('off')\n",
    "\n",
    "        plt.subplot(5,4,count+4)\n",
    "        if count == 0: plt.title('PCNA')\n",
    "        plt.imshow(df['pcna_crops'][i],vmin=0,vmax=1);plt.axis('off')\n",
    "\n",
    "        count += 4\n",
    "        i+=1\n",
    "    else:i+=1\n",
    "print('G1 phase cells in 4 channels')\n",
    "plt.show()"
   ],
   "metadata": {
    "collapsed": false,
    "pycharm": {
     "name": "#%%\n"
    }
   }
  },
  {
   "cell_type": "code",
   "execution_count": null,
   "outputs": [],
   "source": [
    "#Plotting G2_M_phase cells\n",
    "is_G2_M = df['G2_M_Phase']==True\n",
    "count = 0\n",
    "i = 0\n",
    "num_cells = 5\n",
    "plt.figure(figsize=(12,12))\n",
    "while count < num_cells*4:\n",
    "    if is_G2_M[i]:\n",
    "\n",
    "        plt.subplot(5,4,count+1)\n",
    "        if count == 0: plt.title('DAPI')\n",
    "        plt.imshow(df['dapi_crops'][i],vmin=0,vmax=1);plt.axis('off')\n",
    "\n",
    "        plt.subplot(5,4,count+2)\n",
    "        if count == 0: plt.title('EdU')\n",
    "        plt.imshow(df['edu_crops'][i],vmin=0,vmax=1);plt.axis('off')\n",
    "\n",
    "        plt.subplot(5,4,count+3)\n",
    "        if count == 0: plt.title('Cyclin A2')\n",
    "        plt.imshow(df['cyclina2_crops'][i],vmin=0,vmax=1);plt.axis('off')\n",
    "\n",
    "        plt.subplot(5,4,count+4)\n",
    "        if count == 0: plt.title('PCNA')\n",
    "        plt.imshow(df['pcna_crops'][i],vmin=0,vmax=1);plt.axis('off')\n",
    "\n",
    "        count += 4\n",
    "        i+=1\n",
    "    else:i+=1\n",
    "print('G2/M phase cells in 4 channels')\n",
    "plt.show()"
   ],
   "metadata": {
    "collapsed": false,
    "pycharm": {
     "name": "#%%\n"
    }
   }
  },
  {
   "cell_type": "code",
   "execution_count": null,
   "outputs": [],
   "source": [
    "#Plotting a 4D axis from each channel's value"
   ],
   "metadata": {
    "collapsed": false,
    "pycharm": {
     "name": "#%%\n"
    }
   }
  },
  {
   "cell_type": "code",
   "execution_count": null,
   "outputs": [],
   "source": [
    "#Function to take a dataframe and extract the PCNA images with their label in one hot encoding\n",
    "\n",
    "def get_training_data(df):\n",
    "\n",
    "    pcna_images = df['pcna_crops'].values\n",
    "\n",
    "    cycle_phase_encodings = []\n",
    "    for i in range(len(df['S_Phase'])):\n",
    "        encoding_arr = []\n",
    "        if df['G1_Phase'][i]: encoding_arr.append(1)\n",
    "        else: encoding_arr.append(0)\n",
    "\n",
    "        if df['S_Phase'][i]: encoding_arr.append(1)\n",
    "        else: encoding_arr.append(0)\n",
    "\n",
    "        if df['G2_M_Phase'][i]: encoding_arr.append(1)\n",
    "        else: encoding_arr.append(0)\n",
    "\n",
    "        cycle_phase_encodings.append(encoding_arr)\n",
    "\n",
    "    training_data = []\n",
    "    for j in range(len(pcna_images)):\n",
    "        training_data.append((pcna_images[j],cycle_phase_encodings[j]))\n",
    "\n",
    "    training_data = np.array(training_data,dtype=object)\n",
    "\n",
    "    return training_data"
   ],
   "metadata": {
    "collapsed": false,
    "pycharm": {
     "name": "#%%\n"
    }
   }
  },
  {
   "cell_type": "code",
   "execution_count": null,
   "outputs": [],
   "source": [
    "training_data = get_training_data(df)"
   ],
   "metadata": {
    "collapsed": false,
    "pycharm": {
     "name": "#%%\n"
    }
   }
  },
  {
   "cell_type": "code",
   "execution_count": null,
   "outputs": [],
   "source": [
    "print(training_data[:,0])"
   ],
   "metadata": {
    "collapsed": false,
    "pycharm": {
     "name": "#%%\n"
    }
   }
  },
  {
   "cell_type": "code",
   "execution_count": 67,
   "outputs": [
    {
     "ename": "error",
     "evalue": "OpenCV(4.6.0) D:\\a\\opencv-python\\opencv-python\\opencv\\modules\\core\\src\\copy.cpp:1026: error: (-215:Assertion failed) top >= 0 && bottom >= 0 && left >= 0 && right >= 0 && _src.dims() <= 2 in function 'cv::copyMakeBorder'\n",
     "output_type": "error",
     "traceback": [
      "\u001B[1;31m---------------------------------------------------------------------------\u001B[0m",
      "\u001B[1;31merror\u001B[0m                                     Traceback (most recent call last)",
      "Input \u001B[1;32mIn [67]\u001B[0m, in \u001B[0;36m<cell line: 34>\u001B[1;34m()\u001B[0m\n\u001B[0;32m     32\u001B[0m train_img_padded \u001B[38;5;241m=\u001B[39m []\n\u001B[0;32m     34\u001B[0m \u001B[38;5;28;01mfor\u001B[39;00m i \u001B[38;5;129;01min\u001B[39;00m \u001B[38;5;28mrange\u001B[39m(\u001B[38;5;28mlen\u001B[39m(train_img)):\n\u001B[1;32m---> 35\u001B[0m     train_img_padded\u001B[38;5;241m.\u001B[39mappend(\u001B[43mcv2\u001B[49m\u001B[38;5;241;43m.\u001B[39;49m\u001B[43mcopyMakeBorder\u001B[49m\u001B[43m(\u001B[49m\u001B[43mtrain_img\u001B[49m\u001B[43m[\u001B[49m\u001B[43mi\u001B[49m\u001B[43m]\u001B[49m\u001B[43m,\u001B[49m\u001B[43m \u001B[49m\u001B[38;5;241;43m60\u001B[39;49m\u001B[38;5;241;43m-\u001B[39;49m\u001B[43mtrain_img\u001B[49m\u001B[43m[\u001B[49m\u001B[43mi\u001B[49m\u001B[43m]\u001B[49m\u001B[38;5;241;43m.\u001B[39;49m\u001B[43mshape\u001B[49m\u001B[43m[\u001B[49m\u001B[38;5;241;43m0\u001B[39;49m\u001B[43m]\u001B[49m\u001B[43m,\u001B[49m\u001B[43m \u001B[49m\u001B[38;5;241;43m0\u001B[39;49m\u001B[43m,\u001B[49m\u001B[43m \u001B[49m\u001B[38;5;241;43m60\u001B[39;49m\u001B[38;5;241;43m-\u001B[39;49m\u001B[43mtrain_img\u001B[49m\u001B[43m[\u001B[49m\u001B[43mi\u001B[49m\u001B[43m]\u001B[49m\u001B[38;5;241;43m.\u001B[39;49m\u001B[43mshape\u001B[49m\u001B[43m[\u001B[49m\u001B[38;5;241;43m1\u001B[39;49m\u001B[43m]\u001B[49m\u001B[43m,\u001B[49m\u001B[43m \u001B[49m\u001B[38;5;241;43m0\u001B[39;49m\u001B[43m,\u001B[49m\u001B[43m \u001B[49m\u001B[43mcv2\u001B[49m\u001B[38;5;241;43m.\u001B[39;49m\u001B[43mBORDER_CONSTANT\u001B[49m\u001B[43m)\u001B[49m)\n\u001B[0;32m     37\u001B[0m train_y \u001B[38;5;241m=\u001B[39m []\n\u001B[0;32m     38\u001B[0m \u001B[38;5;28mprint\u001B[39m(\u001B[38;5;124m'\u001B[39m\u001B[38;5;124mtrain data shape\u001B[39m\u001B[38;5;124m'\u001B[39m,training_data[:,\u001B[38;5;241m1\u001B[39m]\u001B[38;5;241m.\u001B[39mshape)\n",
      "\u001B[1;31merror\u001B[0m: OpenCV(4.6.0) D:\\a\\opencv-python\\opencv-python\\opencv\\modules\\core\\src\\copy.cpp:1026: error: (-215:Assertion failed) top >= 0 && bottom >= 0 && left >= 0 && right >= 0 && _src.dims() <= 2 in function 'cv::copyMakeBorder'\n"
     ]
    }
   ],
   "source": [
    "from torch.nn import Dropout2d\n",
    "import cv2\n",
    "#Let's train a small CNN on the training data we have to see how it does\n",
    "import pandas as pd\n",
    "import numpy as np\n",
    "\n",
    "# for reading and displaying images\n",
    "from skimage.io import imread\n",
    "import matplotlib.pyplot as plt\n",
    "%matplotlib inline\n",
    "\n",
    "# for creating validation set\n",
    "from sklearn.model_selection import train_test_split\n",
    "\n",
    "# for evaluating the model\n",
    "from sklearn.metrics import accuracy_score\n",
    "from tqdm import tqdm\n",
    "\n",
    "# PyTorch libraries and modules\n",
    "import torch\n",
    "from torch.autograd import Variable\n",
    "from torch.nn import Linear, ReLU, CrossEntropyLoss, Sequential, Conv2d, MaxPool2d, Module, Softmax, BatchNorm2d, Dropout\n",
    "from torch.optim import Adam, SGD\n",
    "import torch.nn.functional as F\n",
    "\n",
    "train = training_data\n",
    "#test = pd.read_csv('test_ScVgIM0/test.csv')\n",
    "\n",
    "#sample_submission = pd.read_csv('sample_submission_I5njJSF.csv')\n",
    "\n",
    "train_img = training_data[:,0]\n",
    "train_img_padded = []\n",
    "\n",
    "for i in range(len(train_img)):\n",
    "    train_img_padded.append(cv2.copyMakeBorder(train_img[i], 60-train_img[i].shape[0], 0, 60-train_img[i].shape[1], 0, cv2.BORDER_CONSTANT))\n",
    "\n",
    "train_y = []\n",
    "print('train data shape',training_data[:,1].shape)\n",
    "for encoding in training_data[:,1]:\n",
    "    if encoding == [1,0,0]:\n",
    "        train_y.append(0)\n",
    "    elif encoding == [0,1,0]:\n",
    "        train_y.append(1)\n",
    "    elif encoding == [0,0,1]:\n",
    "        train_y.append(2)\n",
    "\n",
    "train_x = []\n",
    "for i in range(len(train_img_padded)):\n",
    "    if training_data[:,1][i] != [0,0,0]:\n",
    "        train_x.append(train_img_padded[i])\n",
    "\n",
    "train_y = np.array(train_y)\n",
    "print('train_y shape',train_y.shape)\n",
    "train_x = np.array(train_x)\n",
    "print('train_x shape',train_x.shape)\n",
    "\n",
    "def scale(im, nR, nC):\n",
    "    nR0 = len(im)     # source number of rows\n",
    "    nC0 = len(im[0])  # source number of columns\n",
    "    return [[ im[int(nR0 * r / nR)][int(nC0 * c / nC)]\n",
    "              for c in range(nC)] for r in range(nR)]\n",
    "\n",
    "train_x_resized = []\n",
    "for image in train_x:\n",
    "    train_x_resized.append(scale(image,28,28))\n",
    "train_x_resized = np.array(train_x_resized)\n",
    "\n",
    "train_x, val_x, train_y, val_y = train_test_split(train_x_resized, train_y, test_size = 0.1)\n",
    "train_x = np.array(train_x)\n",
    "val_x = np.array(val_x)\n",
    "val_y = np.array(val_y)\n",
    "#(train_x.shape, train_y.shape), (val_x.shape, val_y.shape)\n",
    "print((train_x.shape, train_y.shape), (val_x.shape, val_y.shape))\n",
    "\n",
    "\n",
    "# converting training images into torch format\n",
    "train_x = train_x.reshape(161, 1, 28, 28)\n",
    "train_x  = torch.from_numpy(train_x)\n",
    "\n",
    "# converting the target into torch format\n",
    "train_y = train_y.astype(float);\n",
    "train_y = torch.from_numpy(train_y)\n",
    "\n",
    "# converting validation images into torch format\n",
    "val_x = val_x.reshape(18, 1, 28, 28)\n",
    "val_x  = torch.from_numpy(val_x)\n",
    "\n",
    "# converting the target into torch format\n",
    "val_y = val_y.astype(float);\n",
    "val_y = torch.from_numpy(val_y)\n",
    "\n",
    "class Net(Module):\n",
    "    def __init__(self):\n",
    "        super(Net, self).__init__()\n",
    "\n",
    "        # First 2D convolutional layer, taking in 1 input channel (image),\n",
    "        # outputting 32 convolutional features, with a square kernel size of 3\n",
    "        self.conv1 = Conv2d(1, 32, 3, 1)\n",
    "        # Second 2D convolutional layer, taking in the 32 input layers,\n",
    "        # outputting 64 convolutional features, with a square kernel size of 3\n",
    "        self.conv2 = Conv2d(32, 64, 3, 1)\n",
    "\n",
    "        # Designed to ensure that adjacent pixels are either all 0s or all active\n",
    "        # with an input probability\n",
    "        self.dropout1 = Dropout2d(0.25)\n",
    "        self.dropout2 = Dropout2d(0.5)\n",
    "\n",
    "        # First fully connected layer\n",
    "        self.fc1 = Linear(9216, 128)\n",
    "        # Second fully connected layer that outputs our 10 labels\n",
    "        self.fc2 = Linear(128, 1)\n",
    "\n",
    "    # Defining the forward pass\n",
    "    def forward(self, x):\n",
    "        # Pass data through conv1\n",
    "        x = self.conv1(x)\n",
    "        # Use the rectified-linear activation function over x\n",
    "        x = F.relu(x)\n",
    "\n",
    "        x = self.conv2(x)\n",
    "        x = F.relu(x)\n",
    "\n",
    "        # Run max pooling over x\n",
    "        x = F.max_pool2d(x, 2)\n",
    "        # Pass data through dropout1\n",
    "        x = self.dropout1(x)\n",
    "        # Flatten x with start_dim=1\n",
    "        x = torch.flatten(x, 1)\n",
    "        # Pass data through fc1\n",
    "        x = self.fc1(x)\n",
    "        x = F.relu(x)\n",
    "        x = self.dropout2(x)\n",
    "        x = self.fc2(x)\n",
    "\n",
    "        # Apply softmax to x\n",
    "        output = F.log_softmax(x, dim=1)\n",
    "        return output\n",
    "\n",
    "# defining the model\n",
    "model = Net()\n",
    "# defining the optimizer\n",
    "optimizer = Adam(model.parameters(), lr=0.07)\n",
    "# defining the loss function\n",
    "criterion = CrossEntropyLoss()\n",
    "# checking if GPU is available\n",
    "if torch.cuda.is_available():\n",
    "    model = model.cuda()\n",
    "    criterion = criterion.cuda()\n",
    "\n",
    "print(model)"
   ],
   "metadata": {
    "collapsed": false,
    "pycharm": {
     "name": "#%%\n"
    }
   }
  },
  {
   "cell_type": "code",
   "execution_count": null,
   "outputs": [],
   "source": [
    "def train(epoch):\n",
    "    model.train()\n",
    "    tr_loss = 0\n",
    "    # getting the training set\n",
    "    x_train, y_train = Variable(train_x), Variable(train_y)\n",
    "    # getting the validation set\n",
    "    x_val, y_val = Variable(val_x), Variable(val_y)\n",
    "    # converting the data into GPU format\n",
    "    if torch.cuda.is_available():\n",
    "        x_train = x_train.cuda()\n",
    "        y_train = y_train.cuda()\n",
    "        x_val = x_val.cuda()\n",
    "        y_val = y_val.cuda()\n",
    "\n",
    "    print(x_train.shape)\n",
    "    print(y_train.shape)\n",
    "\n",
    "    # clearing the Gradients of the model parameters\n",
    "    optimizer.zero_grad()\n",
    "\n",
    "    # prediction for training and validation set\n",
    "    x_train = x_train.float()\n",
    "    output_train = model(x_train)\n",
    "    output_val = model(x_val)\n",
    "\n",
    "    # computing the training and validation loss\n",
    "    y_train = y_train.float()\n",
    "    loss_train = criterion(output_train, y_train)\n",
    "    loss_val = criterion(output_val, y_val)\n",
    "    train_losses.append(loss_train)\n",
    "    val_losses.append(loss_val)\n",
    "\n",
    "    # computing the updated weights of all the model parameters\n",
    "    loss_train.backward()\n",
    "    optimizer.step()\n",
    "    tr_loss = loss_train.item()\n",
    "    if epoch%2 == 0:\n",
    "        # printing the validation loss\n",
    "        print('Epoch : ',epoch+1, '\\t', 'loss :', loss_val)\n",
    "\n",
    "# defining the number of epochs\n",
    "n_epochs = 25\n",
    "# empty list to store training losses\n",
    "train_losses = []\n",
    "# empty list to store validation losses\n",
    "val_losses = []\n",
    "# training the model\n",
    "for epoch in range(n_epochs):\n",
    "    train(epoch)"
   ],
   "metadata": {
    "collapsed": false,
    "pycharm": {
     "name": "#%%\n"
    }
   }
  },
  {
   "cell_type": "code",
   "execution_count": null,
   "outputs": [],
   "source": [
    "random_data = torch.rand((6, 1, 28, 28))\n",
    "print(random_data.shape)\n",
    "\n",
    "my_nn = Net()\n",
    "result = my_nn(random_data)\n",
    "print (result)"
   ],
   "metadata": {
    "collapsed": false,
    "pycharm": {
     "name": "#%%\n"
    }
   }
  },
  {
   "cell_type": "code",
   "execution_count": null,
   "outputs": [],
   "source": [
    "#Put all the data together for a quantitative investigation\n",
    "\n",
    "#Step 1: Stack all the dataframes together\n",
    "\n",
    "#Step 2: Plot that cell cycle phase channel data in a 4D graph where each axis is data from a channel\n",
    "\n",
    "#Step 3: Plot some cells from each classification cropped in the Alexa555 channel\n",
    "\n",
    "#Step 4: A Venn diagram of the cell phases with their True or False, we'll see some applying to the same rules"
   ],
   "metadata": {
    "collapsed": false,
    "pycharm": {
     "name": "#%%\n"
    }
   }
  },
  {
   "cell_type": "code",
   "execution_count": null,
   "outputs": [],
   "source": [
    "from matplotlib_venn import venn3, venn3_circles, venn3_unweighted\n",
    "\n",
    "g1_values = np.asarray(df['G1_Phase'],dtype=bool)\n",
    "s_values = np.asarray(df['S_Phase'],dtype=bool)\n",
    "g2_m_values = np.asarray(df['G2_M_Phase'],dtype=bool)\n",
    "\n",
    "only_s = sum(~g1_values & s_values & ~g2_m_values)\n",
    "only_g1 = sum(g1_values & ~s_values & ~g2_m_values)\n",
    "only_g2_m = sum(~g1_values & ~s_values & g2_m_values)\n",
    "g1_and_s = sum(g1_values & s_values & ~g2_m_values)\n",
    "g1_and_g2_m = sum(g1_values & ~s_values & g2_m_values)\n",
    "s_and_g2_m = sum(~g1_values & s_values & g2_m_values)\n",
    "g1_and_s_and_g2_m = sum(g1_values & s_values & g2_m_values)\n",
    "no_label = sum(~g1_values & ~s_values & ~g2_m_values)\n",
    "\n",
    "#print(only_g1,only_s,only_g2_m,g1_and_s,g1_and_g2_m,s_and_g2_m,g1_and_s_and_g2_m)\n",
    "print('Number of cells only in S phase:',only_s)\n",
    "print('Number of cells only in G1 phase:',only_g1)\n",
    "print('Number of cells only in G2/M phase:',only_g2_m)\n",
    "print('Number of cells only in S and G1 phase:',g1_and_s)\n",
    "print('Number of cells only in S and G2/M phase:',s_and_g2_m)\n",
    "print('Number of cells only in G1 and G2/M phase:',g1_and_g2_m)\n",
    "print('Number of cells labelled (G1, S and G2/M):',g1_and_s_and_g2_m)\n",
    "print('Number of cells not labelled:',no_label)\n",
    "\n",
    "#venn3(subsets = (only_g1, only_s, g1_and_s, only_g2_m, g1_and_g2_m, s_and_g2_m, g1_and_s_and_g2_m), set_labels = ('G1', 'S', 'G2/M'))\n",
    "plt.figure(figsize=(6,6))\n",
    "v = venn3_unweighted(subsets = (only_g1, only_s, g1_and_s, only_g2_m, g1_and_g2_m, s_and_g2_m, g1_and_s_and_g2_m),\n",
    "                     set_labels = ('G1', 'S', 'G2/M'))\n",
    "#c = venn3_circles(subsets = (only_g1, only_s, g1_and_s, only_g2_m, g1_and_g2_m, s_and_g2_m, g1_and_s_and_g2_m),linestyle='dashed')"
   ],
   "metadata": {
    "collapsed": false,
    "pycharm": {
     "name": "#%%\n"
    }
   }
  },
  {
   "cell_type": "code",
   "execution_count": null,
   "outputs": [],
   "source": [],
   "metadata": {
    "collapsed": false,
    "pycharm": {
     "name": "#%%\n"
    }
   }
  },
  {
   "cell_type": "code",
   "execution_count": null,
   "metadata": {
    "pycharm": {
     "name": "#%%\n"
    }
   },
   "outputs": [],
   "source": [
    "#TODELETE: Here we were importing images from a directory but now we'll do with Omero\n",
    "#Here we get the images from a directory in the project, normalise and display them\n",
    "\n",
    "import numpy as np\n",
    "import matplotlib.pyplot as plt\n",
    "\n",
    "#Loading the images\n",
    "gray_img = np.load('/Users/rehanzuberi/Documents/Development/cell-SCT/classification/images/gray_img.npy')\n",
    "dapi_img = np.load('/Users/rehanzuberi/Documents/Development/cell-SCT/classification/images/dapi_img.npy')\n",
    "edu_img = np.load('/Users/rehanzuberi/Documents/Development/cell-SCT/classification/images/cy5_img.npy')\n",
    "\n",
    "#Normalising the images\n",
    "def normalise_img(img):\n",
    "    return (img - np.min(img)) / (np.max(img) - np.min(img))\n",
    "\n",
    "gray_img = normalise_img(gray_img)\n",
    "dapi_img = normalise_img(dapi_img)\n",
    "edu_img = normalise_img(edu_img)\n",
    "\n",
    "#Displaying the images\n",
    "plt.figure(figsize=(12,12))\n",
    "plt.subplot(1,3,1);plt.imshow(gray_img);plt.axis('off');plt.title('Gray')\n",
    "plt.subplot(1,3,2);plt.imshow(dapi_img);plt.axis('off');plt.title('DAPI')\n",
    "plt.subplot(1,3,3);plt.imshow(edu_img);plt.axis('off');plt.title('EdU');plt.show()"
   ]
  },
  {
   "cell_type": "code",
   "execution_count": null,
   "metadata": {
    "pycharm": {
     "name": "#%%\n"
    }
   },
   "outputs": [],
   "source": [
    "#Make a segmentation prediction, right now with the Gray image as that's all we have, later with the Alexa555 (PCNA) image\n",
    "\n",
    "from cellpose import models\n",
    "model_dir = \"/Users/rehanzuberi/Documents/Development/cell-SCT/segmentation/demo_train_test_data/data_for_masks_training/models/demo_model\"\n",
    "model = models.CellposeModel(gpu=True, pretrained_model=model_dir)\n",
    "test_data = [gray_img]\n",
    "predicted_test_masks = model.eval(test_data, channels=[0,0], diameter=model.diam_labels.copy())[0]  # generates the predictions # we could use the fact that it has a channel input to have the normal image not separated by channel and just make it do the prediction on there, although we need it to make a prediction on the averaged out gray image so that wouldn't really work\n",
    "predicted_mask = predicted_test_masks[0]"
   ]
  },
  {
   "cell_type": "code",
   "execution_count": null,
   "outputs": [],
   "source": [
    "#Now we get the crops from each channel and store them in a numpy array\n",
    "import segmentation.seg_functions\n",
    "from importlib import reload\n",
    "from segmentation.seg_functions import count_cells, get_cell_crop_coordinates, get_img_crops\n",
    "segmentation.seg_functions = reload(segmentation.seg_functions)\n",
    "\n",
    "print('Prediction has', count_cells(predicted_mask), 'cells')\n",
    "crop_coordinates = get_cell_crop_coordinates(predicted_mask, margin=3)\n",
    "gray_crops = get_img_crops(gray_img, crop_coordinates)\n",
    "dapi_crops = get_img_crops(dapi_img, crop_coordinates)\n",
    "edu_crops = get_img_crops(edu_img, crop_coordinates)\n",
    "\n",
    "#We could have one numpy array called 'cells' that holds the images and later on the values"
   ],
   "metadata": {
    "collapsed": false,
    "pycharm": {
     "name": "#%%\n"
    }
   }
  },
  {
   "cell_type": "code",
   "execution_count": null,
   "outputs": [],
   "source": [
    "mines = []\n",
    "for i in range(len(gray_crops[0])):\n",
    "    mines.append(min(gray_crops[0][i]))\n",
    "print(min(mines))"
   ],
   "metadata": {
    "collapsed": false,
    "pycharm": {
     "name": "#%%\n"
    }
   }
  },
  {
   "cell_type": "code",
   "execution_count": null,
   "outputs": [],
   "source": [
    "for i in range(10):\n",
    "    plt.subplot(1,3,1)\n",
    "    if i == 0: plt.title('Gray img')\n",
    "    plt.axis('off')\n",
    "    plt.imshow(gray_crops[i], vmin=0, vmax=1)\n",
    "\n",
    "    plt.subplot(1,3,2)\n",
    "    if i == 0: plt.title('DAPI img')\n",
    "    plt.axis('off')\n",
    "    plt.imshow(dapi_crops[i], vmin=0, vmax=1)\n",
    "\n",
    "    plt.subplot(1,3,3)\n",
    "    if i == 0: plt.title('EDU img')\n",
    "    plt.imshow(edu_crops[i], vmin=0, vmax=1)\n",
    "    plt.axis('off')\n",
    "    plt.show()"
   ],
   "metadata": {
    "collapsed": false,
    "pycharm": {
     "name": "#%%\n"
    }
   }
  },
  {
   "cell_type": "code",
   "execution_count": null,
   "metadata": {
    "pycharm": {
     "name": "#%%\n"
    }
   },
   "outputs": [],
   "source": [
    "#This is what we used to measure the pixel intentisty values of the cells on different channels\n",
    "#We would put them into one array\n",
    "#Now I think I would prefer putting them into each their own numpy array\n",
    "#This also depends on what Helfrid's normalisation funcitions ofers\n",
    "dapi_values = []\n",
    "edu_values = []\n",
    "for i in range(len(edu_crops)):\n",
    "    dapi_values.append(np.average(dapi_crops[i]))\n",
    "    edu_values.append(np.average(edu_crops[i]))\n",
    "\n",
    "dapi_values = np.array(dapi_values)\n",
    "edu_values = np.array(edu_values)"
   ]
  },
  {
   "cell_type": "code",
   "execution_count": null,
   "outputs": [],
   "source": [
    "print(dapi_values)"
   ],
   "metadata": {
    "collapsed": false,
    "pycharm": {
     "name": "#%%\n"
    }
   }
  },
  {
   "cell_type": "code",
   "execution_count": null,
   "outputs": [],
   "source": [
    "def dna_norm(df):\n",
    "    \"\"\"\n",
    "    normalise histogram of DNA label\n",
    "    :param df: input dataframe\n",
    "    :return: input dataframe with additional column: \"DNA_content\"\n",
    "    Author/Shared by: Dr Helfrid Hochegger\n",
    "    \"\"\"\n",
    "    y, x, _ = plt.hist(df['integrated_int_DAPI'], bins=250)\n",
    "    max = x[np.where(y == y.max())]\n",
    "    df['DNA_content']=df['integrated_int_DAPI']/max[0]\n",
    "    return df"
   ],
   "metadata": {
    "collapsed": false,
    "pycharm": {
     "name": "#%%\n"
    }
   }
  },
  {
   "cell_type": "code",
   "execution_count": null,
   "outputs": [],
   "source": [
    "import pandas as pd\n",
    "\n",
    "#pi: pixel intensity\n",
    "\n",
    "cell_data = {'Gray cell img':gray_crops, 'integrated_int_DAPI':dapi_values, 'EdU_pi':edu_values}\n",
    "df = pd.DataFrame(cell_data)"
   ],
   "metadata": {
    "collapsed": false,
    "pycharm": {
     "name": "#%%\n"
    }
   }
  },
  {
   "cell_type": "code",
   "execution_count": null,
   "outputs": [],
   "source": [
    "normalised = dna_norm(df)"
   ],
   "metadata": {
    "collapsed": false,
    "pycharm": {
     "name": "#%%\n"
    }
   }
  },
  {
   "cell_type": "code",
   "execution_count": null,
   "outputs": [],
   "source": [
    "print(normalised)"
   ],
   "metadata": {
    "collapsed": false,
    "pycharm": {
     "name": "#%%\n"
    }
   }
  },
  {
   "cell_type": "code",
   "execution_count": null,
   "outputs": [],
   "source": [
    "#We need to get the colour of the background for the EdU since not being the same colour of the background gives info\n",
    "plt.imshow(df.sort_values(by=['EdU_pi'])['Gray cell img'][2])"
   ],
   "metadata": {
    "collapsed": false,
    "pycharm": {
     "name": "#%%\n"
    }
   }
  },
  {
   "cell_type": "code",
   "execution_count": null,
   "outputs": [],
   "source": [
    "from statistics import mean\n",
    "import numpy.matlib\n",
    "\n",
    "def get_elbow(curve):\n",
    "    #source:https://stackoverflow.com/questions/2018178/finding-the-best-trade-off-point-on-a-curve\n",
    "    nPoints = len(curve)\n",
    "    allCoord = np.vstack((range(nPoints), curve)).T\n",
    "    np.array([range(nPoints), curve])\n",
    "    firstPoint = allCoord[0]\n",
    "    lineVec = allCoord[-1] - allCoord[0]\n",
    "    lineVecNorm = lineVec / np.sqrt(np.sum(lineVec**2))\n",
    "    vecFromFirst = allCoord - firstPoint\n",
    "    scalarProduct = np.sum(vecFromFirst * np.matlib.repmat(lineVecNorm, nPoints, 1), axis=1)\n",
    "    vecFromFirstParallel = np.outer(scalarProduct, lineVecNorm)\n",
    "    vecToLine = vecFromFirst - vecFromFirstParallel\n",
    "    distToLine = np.sqrt(np.sum(vecToLine ** 2, axis=1))\n",
    "    idxOfBestPoint = np.argmax(distToLine)\n",
    "    return idxOfBestPoint\n",
    "\n",
    "#This function splits an array into the inputted number and returns the average per split\n",
    "def get_avg_split_arr(arr,num_splits):\n",
    "    array_split = np.array_split(arr,num_splits)\n",
    "    averages = [mean(array) for array in array_split]\n",
    "    return averages\n",
    "\n",
    "def get_EdU_threshold(df):\n",
    "    edu_nums = np.sort(np.array(df.loc[:,['EdU_pi']]).flatten()) #extract EdU values and put them in one array shape num_of_cells\n",
    "\n",
    "    #Get the list of EdU values\n",
    "    #Make a split from 3 to the total number of cells\n",
    "    #Get the averages at that split\n",
    "    #Get the elbow in those averages\n",
    "    #Store that elbow in a list\n",
    "    #Average out the list of elbow and return that value\n",
    "\n",
    "    elbows_y = []\n",
    "    for i in range(140,len(edu_nums)+1):\n",
    "        avg_split_arr = get_avg_split_arr(edu_nums,i)\n",
    "        elbow_x = get_elbow(avg_split_arr)\n",
    "        elbows_y.append(edu_nums[elbow_x])\n",
    "\n",
    "    #print(elbows_y)\n",
    "\n",
    "    return mean(elbows_y)"
   ],
   "metadata": {
    "collapsed": false,
    "pycharm": {
     "name": "#%%\n"
    }
   }
  },
  {
   "cell_type": "code",
   "execution_count": null,
   "outputs": [],
   "source": [
    "#I'm trying to find the background color in the EdU channel\n",
    "#Let's try putting the values in buckets\n",
    "#From this bucket method I would conclude that the background is at 500\n",
    "from statistics import mean\n",
    "\n",
    "num_buckets = 144\n",
    "edu_nums = np.array(df.loc[:,['EdU_pi']]).flatten()\n",
    "edu_nums = np.sort(edu_nums)\n",
    "edu_nums = np.array_split(edu_nums,num_buckets)\n",
    "averages = []\n",
    "for array in edu_nums: averages.append(mean(array))\n",
    "import matplotlib.pyplot as plt\n",
    "fig = plt.figure()\n",
    "bars = [i+1 for i in range(num_buckets)]\n",
    "y_pos = np.arange(len(bars))\n",
    "#plt.bar(y_pos, averages)\n",
    "plt.plot(averages)\n",
    "plt.xlabel('Cells sorted by pixel intensity')\n",
    "plt.ylabel('Pixel intensity')\n",
    "#plt.yticks([i for i in range(0,5000,250)])\n",
    "#plt.xticks(y_pos, bars)\n",
    "#plt.grid('on')\n",
    "\n",
    "\n",
    "#Need to fid the elbow\n",
    "#from kneed import KneeLocator\n",
    "#kn = KneeLocator(bars, averages, curve='convex', direction='increasing')\n",
    "#print('Elbow y value: {}',averages[kn.knee])\n",
    "\n",
    "#plt.vlines(kn.knee, plt.ylim()[0], plt.ylim()[1], linestyles='dashed') #plotting the line\n",
    "plt.hlines(get_EdU_threshold(df), xmin=0, xmax=max(bars), linestyles='dashed')\n",
    "print('EdU intensity threshold:',get_EdU_threshold(df))\n",
    "\n",
    "plt.show()"
   ],
   "metadata": {
    "collapsed": false,
    "pycharm": {
     "name": "#%%\n"
    }
   }
  },
  {
   "cell_type": "code",
   "execution_count": null,
   "outputs": [],
   "source": [
    "#To find intersection\n",
    "#Create for the line a list of tuples with all of its X and Y coordinates\n",
    "#Do the same for our list of cell values\n",
    "#Get the point that they cross at"
   ],
   "metadata": {
    "collapsed": false,
    "pycharm": {
     "name": "#%%\n"
    }
   }
  },
  {
   "cell_type": "code",
   "execution_count": null,
   "outputs": [],
   "source": [
    "print(get_EdU_threshold(df))"
   ],
   "metadata": {
    "collapsed": false,
    "pycharm": {
     "name": "#%%\n"
    }
   }
  },
  {
   "cell_type": "code",
   "execution_count": null,
   "outputs": [],
   "source": [
    "#Showing the EdU channel images by lowest EdU to highest\n",
    "indices = np.array(df.sort_values(by=['EdU_pi']).index) #sort cells by smallest value of EdU\n",
    "for i in indices[:4]:\n",
    "    print(df['EdU_pi'][i])\n",
    "    plt.imshow(edu_crops[i],vmin=0,vmax=1);plt.show()"
   ],
   "metadata": {
    "collapsed": false,
    "pycharm": {
     "name": "#%%\n"
    }
   }
  },
  {
   "cell_type": "code",
   "execution_count": null,
   "outputs": [],
   "source": [
    "#Applying the S phase rule\n",
    "\n",
    "#In the cell dataframe, we can now add the S phase label\n",
    "#Apply a rule where every row where EdU is lower than 500 is the S-phase\n",
    "background = 500 #pixel intensity\n",
    "s_phase_cells = df.loc[df[\"EdU_pi\"] >= 500, \"EdU_pi\"]\n",
    "df[\"S_Phase\"] = \"False\"\n",
    "df.loc[df[\"EdU_pi\"].isin(s_phase_cells), \"S_Phase\"] = \"True\""
   ],
   "metadata": {
    "collapsed": false,
    "pycharm": {
     "name": "#%%\n"
    }
   }
  },
  {
   "cell_type": "code",
   "execution_count": null,
   "outputs": [],
   "source": [
    "print(df.S_Phase.value_counts()[0])\n",
    "print(df.S_Phase)"
   ],
   "metadata": {
    "collapsed": false,
    "pycharm": {
     "name": "#%%\n"
    }
   }
  },
  {
   "cell_type": "code",
   "execution_count": null,
   "outputs": [],
   "source": [
    "#Setting up the cell dataframe\n",
    "cell_data = {'Gray cell img': gray_crops, 'integrated_int_DAPI': dapi_values, 'EdU_pi': edu_values}\n",
    "df = pd.DataFrame(cell_data)\n",
    "print(df)"
   ],
   "metadata": {
    "collapsed": false,
    "pycharm": {
     "name": "#%%\n"
    }
   }
  },
  {
   "cell_type": "code",
   "execution_count": null,
   "outputs": [],
   "source": [
    "def apply_S_phase_rule(df):\n",
    "    \"\"\"\n",
    "    This function adds a boolean column to indicate if a cell is in the S-phase\n",
    "    :param df: input dataframe where each row is a cell with a 'EdU_pi' column\n",
    "    :return: input dataframe with additional column 'S_phase'\n",
    "    \"\"\"\n",
    "\n",
    "    #Step 1: calculate the background color this serves as the threshold for the S-phase\n",
    "    EdU_threshold = get_EdU_threshold(df)\n",
    "\n",
    "    #Step 2: Use that threshold in each row to see if a cell is above or below\n",
    "    S_phase_cells = df.loc[df[\"EdU_pi\"] >= EdU_threshold, \"EdU_pi\"]\n",
    "    df[\"S_Phase\"] = \"False\"\n",
    "    df.loc[df[\"EdU_pi\"].isin(S_phase_cells), \"S_Phase\"] = \"True\"\n",
    "\n",
    "    return df"
   ],
   "metadata": {
    "collapsed": false,
    "pycharm": {
     "name": "#%%\n"
    }
   }
  },
  {
   "cell_type": "code",
   "execution_count": null,
   "outputs": [],
   "source": [
    "#Applying the S-phase rule\n",
    "df = apply_S_phase_rule(df)\n",
    "print(df,'\\n')\n",
    "\n",
    "#Printing some quantitative data about the cells found in S-phase\n",
    "num_total_cells = df.S_Phase.value_counts()[0]+df.S_Phase.value_counts()[1]\n",
    "num_in_s = df.S_Phase.value_counts()[1]\n",
    "percentage_in_S = round(df.S_Phase.value_counts()[1]*100/num_total_cells,2)\n",
    "print('According to the background rule, there are {} cells in the S phase.'.format(num_in_s))\n",
    "print('With {} cells that is {}% of cells in S phase.'.format(num_total_cells,percentage_in_S))"
   ],
   "metadata": {
    "collapsed": false,
    "pycharm": {
     "name": "#%%\n"
    }
   }
  },
  {
   "cell_type": "code",
   "execution_count": null,
   "outputs": [],
   "source": [
    "\n",
    "normalised = dna_norm(df)"
   ],
   "metadata": {
    "collapsed": false,
    "pycharm": {
     "name": "#%%\n"
    }
   }
  },
  {
   "cell_type": "code",
   "execution_count": null,
   "outputs": [],
   "source": [
    "#Rules given by Dr Hochegger for the cell cycle classification\n",
    "\n",
    "#G1: Cyclin A2 negative, EdU negative, DAPI<1.5\n",
    "#S: EdU > background\n",
    "#G2/M: DAPI (normalised) > 1.5, EdU < background, Cyclin > background\n",
    "\n",
    "#Terminology\n",
    "#DAPI is DAPI\n",
    "#Cy5 is the EdU\n",
    "#Alexa555 is PCNA\n",
    "#Alexa488 is Cyclin A2"
   ],
   "metadata": {
    "collapsed": false,
    "pycharm": {
     "name": "#%%\n"
    }
   }
  },
  {
   "cell_type": "code",
   "execution_count": null,
   "outputs": [],
   "source": [],
   "metadata": {
    "collapsed": false,
    "pycharm": {
     "name": "#%%\n"
    }
   }
  }
 ],
 "metadata": {
  "kernelspec": {
   "display_name": "Python 3 (ipykernel)",
   "language": "python",
   "name": "python3"
  },
  "language_info": {
   "codemirror_mode": {
    "name": "ipython",
    "version": 3
   },
   "file_extension": ".py",
   "mimetype": "text/x-python",
   "name": "python",
   "nbconvert_exporter": "python",
   "pygments_lexer": "ipython3",
   "version": "3.9.13"
  }
 },
 "nbformat": 4,
 "nbformat_minor": 1
}