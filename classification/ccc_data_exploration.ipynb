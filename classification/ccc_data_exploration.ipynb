{
 "cells": [
  {
   "cell_type": "markdown",
   "metadata": {
    "pycharm": {
     "name": "#%% md\n"
    }
   },
   "source": [
    "# Data exploration\n",
    "\n",
    "This notebook will explore the images we have and extract data from them. The images have 4 channels (DAPI, EdU, and two Alexa's, one being PCNA). The data we extract from the channels are the pixel intensities."
   ]
  },
  {
   "cell_type": "markdown",
   "source": [
    "Pipeline (Pseudo-code) to gather training data:\n",
    "\n",
    "Upload from Omero all images from a well\n",
    "For each image\n",
    "- make a prediction for the cells\n",
    "- make the crops around the cells in each channel\n",
    "- make a dataframe with the first row being the one for the Alexa555 (PCNA) image crops\n",
    "- get the pixel intensity of the crops in each channel and add it to the dataframe where each column corresponds to a channel's intentisity for that crop\n",
    "- normalise that pixel intensity data per channel\n",
    "\n",
    "Stack all the dataframes together\n",
    "Get the DNA value data from the DAPI channel (Helfrid's function) and add it to the dataframe\n",
    "Get the background value of the Cyclin A2 and EdU channels\n",
    "Apply the G1, S and G2/M rules where they are each a column in the dataframe with True if the cell's data follows the rule to be in that phase and False if not\n",
    "Plot that cell cycle phase channel data in a 4D graph where each axis is data from a channel\n",
    "Plot some cells from each classification cropped in the Alexa555 channel"
   ],
   "metadata": {
    "collapsed": false,
    "pycharm": {
     "name": "#%% md\n"
    }
   }
  },
  {
   "cell_type": "markdown",
   "metadata": {
    "pycharm": {
     "name": "#%% md\n"
    }
   },
   "source": [
    "## Importing data\n",
    "\n",
    "Note: since I'm working from home right now, I'm struggling with my connection to Omero so I'm importing data I saved from earlier. When I'm back in the lab I will change this part to be importing data from Omero with the plate number."
   ]
  },
  {
   "cell_type": "code",
   "execution_count": 13,
   "outputs": [
    {
     "name": "stdout",
     "output_type": "stream",
     "text": [
      "Connection successful\n"
     ]
    }
   ],
   "source": [
    "#Connect to Omero\n",
    "\n",
    "import ezomero\n",
    "import numpy as np\n",
    "\n",
    "#Step 1: Connect to Omero\n",
    "\n",
    "HOST = 'ome2.hpc.sussex.ac.uk' #change if different\n",
    "port = 4064\n",
    "conn = ezomero.connect(user='rz200',password='omeroreset',group='',host=HOST,port=4064,secure=True)\n",
    "if conn: print('Connection successful')\n",
    "else: print('Unsuccessful')"
   ],
   "metadata": {
    "collapsed": false,
    "pycharm": {
     "name": "#%%\n"
    }
   }
  },
  {
   "cell_type": "code",
   "execution_count": 14,
   "outputs": [
    {
     "name": "stdout",
     "output_type": "stream",
     "text": [
      "In plate 822 we have 1500 images\n",
      "[############################################################] 1500/1500\r\n",
      "\n"
     ]
    },
    {
     "name": "stderr",
     "output_type": "stream",
     "text": [
      "C:\\Users\\rz200\\AppData\\Local\\Temp\\ipykernel_30588\\4133951359.py:25: VisibleDeprecationWarning: Creating an ndarray from ragged nested sequences (which is a list-or-tuple of lists-or-tuples-or ndarrays with different lengths or shapes) is deprecated. If you meant to do this, you must specify 'dtype=object' when creating the ndarray.\n",
      "  plate_images = np.array(plate_images)\n"
     ]
    }
   ],
   "source": [
    "#Load the image IDs\n",
    "plate = 822\n",
    "image_ids = ezomero.get_image_ids(conn,plate=plate)\n",
    "print('In plate',plate,'we have',len(image_ids),'images')\n",
    "\n",
    "model_dir = \"C:\\\\Users\\\\rz200\\\\Documents\\\\Development\\\\cell-SCT\\\\segmentation\\\\demo_train_test_data\\\\data_for_masks_training\\\\models\\\\demo_model\"\n",
    "\n",
    "import sys\n",
    "#source:https://stackoverflow.com/questions/3160699/python-progress-bar\n",
    "def progressbar(it, prefix=\"\", size=60, out=sys.stdout): # Python3.3+\n",
    "    # I would love to add a 'time left' addition to this\n",
    "    count = len(it)\n",
    "    def show(j):\n",
    "        x = int(size*j/count)\n",
    "        print(\"{}[{}{}] {}/{}\".format(prefix, \"#\"*x, \".\"*(size-x), j, count),\n",
    "              end='\\r', file=out, flush=True)\n",
    "    show(0)\n",
    "    for i, item in enumerate(it):\n",
    "        yield item\n",
    "        show(i+1)\n",
    "    print(\"\\n\", flush=True, file=out)\n",
    "\n",
    "plate_images = []\n",
    "for i in progressbar(range(len(image_ids))):\n",
    "    plate_images.append(ezomero.get_image(conn,image_id=image_ids[i]))\n",
    "plate_images = np.array(plate_images)"
   ],
   "metadata": {
    "collapsed": false,
    "pycharm": {
     "name": "#%%\n"
    }
   }
  },
  {
   "cell_type": "code",
   "execution_count": 15,
   "outputs": [
    {
     "name": "stdout",
     "output_type": "stream",
     "text": [
      "[#########...................................................] 233/1500\r"
     ]
    },
    {
     "name": "stderr",
     "output_type": "stream",
     "text": [
      "C:\\Users\\rz200\\Documents\\Development\\cell-SCT\\classification\\ccc_functions.py:40: RuntimeWarning: invalid value encountered in true_divide\n",
      "  lineVecNorm = lineVec / np.sqrt(np.sum(lineVec ** 2))\n",
      "C:\\Users\\rz200\\Documents\\Development\\cell-SCT\\classification\\ccc_functions.py:40: RuntimeWarning: invalid value encountered in true_divide\n",
      "  lineVecNorm = lineVec / np.sqrt(np.sum(lineVec ** 2))\n",
      "C:\\Users\\rz200\\Documents\\Development\\cell-SCT\\classification\\ccc_functions.py:40: RuntimeWarning: invalid value encountered in true_divide\n",
      "  lineVecNorm = lineVec / np.sqrt(np.sum(lineVec ** 2))\n",
      "C:\\Users\\rz200\\Documents\\Development\\cell-SCT\\classification\\ccc_functions.py:40: RuntimeWarning: invalid value encountered in true_divide\n",
      "  lineVecNorm = lineVec / np.sqrt(np.sum(lineVec ** 2))\n",
      "C:\\Users\\rz200\\Documents\\Development\\cell-SCT\\classification\\ccc_functions.py:40: RuntimeWarning: invalid value encountered in true_divide\n",
      "  lineVecNorm = lineVec / np.sqrt(np.sum(lineVec ** 2))\n"
     ]
    },
    {
     "name": "stdout",
     "output_type": "stream",
     "text": [
      "[##################################..........................] 853/1500\r"
     ]
    },
    {
     "ename": "RuntimeError",
     "evalue": "The following operation failed in the TorchScript interpreter.\nTraceback of TorchScript (most recent call last):\n  File \"C:\\Users\\rz200\\.conda\\envs\\celldev\\lib\\site-packages\\torch\\utils\\mkldnn.py\", line 64, in forward\n    @torch.jit.script_method\n    def forward(self, x):\n        return torch.mkldnn_convolution(\n               ~~~~~~~~~~~~~~~~~~~~~~~~ <--- HERE\n            x,\n            self.weight,\nRuntimeError: [enforce fail at C:\\actions-runner\\_work\\pytorch\\pytorch\\builder\\windows\\pytorch\\c10\\core\\impl\\alloc_cpu.cpp:81] data. DefaultCPUAllocator: not enough memory: you tried to allocate 51380224 bytes.\n",
     "output_type": "error",
     "traceback": [
      "\u001B[1;31m---------------------------------------------------------------------------\u001B[0m",
      "\u001B[1;31mRuntimeError\u001B[0m                              Traceback (most recent call last)",
      "Input \u001B[1;32mIn [15]\u001B[0m, in \u001B[0;36m<cell line: 11>\u001B[1;34m()\u001B[0m\n\u001B[0;32m      9\u001B[0m start \u001B[38;5;241m=\u001B[39m time\u001B[38;5;241m.\u001B[39mtime()\n\u001B[0;32m     10\u001B[0m model_dir \u001B[38;5;241m=\u001B[39m \u001B[38;5;124m\"\u001B[39m\u001B[38;5;124mC:\u001B[39m\u001B[38;5;130;01m\\\\\u001B[39;00m\u001B[38;5;124mUsers\u001B[39m\u001B[38;5;130;01m\\\\\u001B[39;00m\u001B[38;5;124mrz200\u001B[39m\u001B[38;5;130;01m\\\\\u001B[39;00m\u001B[38;5;124mDocuments\u001B[39m\u001B[38;5;130;01m\\\\\u001B[39;00m\u001B[38;5;124mDevelopment\u001B[39m\u001B[38;5;130;01m\\\\\u001B[39;00m\u001B[38;5;124mcell-SCT\u001B[39m\u001B[38;5;130;01m\\\\\u001B[39;00m\u001B[38;5;124msegmentation\u001B[39m\u001B[38;5;130;01m\\\\\u001B[39;00m\u001B[38;5;124mdemo_train_test_data\u001B[39m\u001B[38;5;130;01m\\\\\u001B[39;00m\u001B[38;5;124mdata_for_masks_training\u001B[39m\u001B[38;5;130;01m\\\\\u001B[39;00m\u001B[38;5;124mmodels\u001B[39m\u001B[38;5;130;01m\\\\\u001B[39;00m\u001B[38;5;124mdemo_model\u001B[39m\u001B[38;5;124m\"\u001B[39m\n\u001B[1;32m---> 11\u001B[0m df_mega \u001B[38;5;241m=\u001B[39m \u001B[43mbuild_mega_cell_df\u001B[49m\u001B[43m(\u001B[49m\u001B[43mplate_images\u001B[49m\u001B[43m,\u001B[49m\u001B[43mmodel_dir\u001B[49m\u001B[43m)\u001B[49m\n\u001B[0;32m     12\u001B[0m end \u001B[38;5;241m=\u001B[39m time\u001B[38;5;241m.\u001B[39mtime()\n\u001B[0;32m     13\u001B[0m \u001B[38;5;28mprint\u001B[39m(end \u001B[38;5;241m-\u001B[39m start)\n",
      "File \u001B[1;32m~\\Documents\\Development\\cell-SCT\\classification\\ccc_functions.py:217\u001B[0m, in \u001B[0;36mbuild_mega_cell_df\u001B[1;34m(images, model_dir)\u001B[0m\n\u001B[0;32m    215\u001B[0m pd_list \u001B[38;5;241m=\u001B[39m []\n\u001B[0;32m    216\u001B[0m \u001B[38;5;28;01mfor\u001B[39;00m i \u001B[38;5;129;01min\u001B[39;00m progressbar(\u001B[38;5;28mrange\u001B[39m(\u001B[38;5;28mlen\u001B[39m(images))):\n\u001B[1;32m--> 217\u001B[0m     pd_list\u001B[38;5;241m.\u001B[39mappend(\u001B[43mbuild_one_cell_df\u001B[49m\u001B[43m(\u001B[49m\u001B[43mimages\u001B[49m\u001B[43m[\u001B[49m\u001B[43mi\u001B[49m\u001B[43m]\u001B[49m\u001B[43m,\u001B[49m\u001B[43m \u001B[49m\u001B[43mmodel_dir\u001B[49m\u001B[43m)\u001B[49m)\n\u001B[0;32m    219\u001B[0m df_concat \u001B[38;5;241m=\u001B[39m pd\u001B[38;5;241m.\u001B[39mconcat(pd_list)\n\u001B[0;32m    220\u001B[0m df_concat \u001B[38;5;241m=\u001B[39m df_concat\u001B[38;5;241m.\u001B[39mreset_index() \u001B[38;5;66;03m#otherwise the dfs will be separated by their old index, which is still available as another column with this function\u001B[39;00m\n",
      "File \u001B[1;32m~\\Documents\\Development\\cell-SCT\\classification\\ccc_functions.py:165\u001B[0m, in \u001B[0;36mbuild_one_cell_df\u001B[1;34m(image, model_dir)\u001B[0m\n\u001B[0;32m    163\u001B[0m model \u001B[38;5;241m=\u001B[39m models\u001B[38;5;241m.\u001B[39mCellposeModel(gpu\u001B[38;5;241m=\u001B[39m\u001B[38;5;28;01mTrue\u001B[39;00m, pretrained_model\u001B[38;5;241m=\u001B[39mmodel_dir)\n\u001B[0;32m    164\u001B[0m test_data \u001B[38;5;241m=\u001B[39m [pcna_img]\n\u001B[1;32m--> 165\u001B[0m predicted_test_masks \u001B[38;5;241m=\u001B[39m \u001B[43mmodel\u001B[49m\u001B[38;5;241;43m.\u001B[39;49m\u001B[43meval\u001B[49m\u001B[43m(\u001B[49m\u001B[43mtest_data\u001B[49m\u001B[43m,\u001B[49m\u001B[43m \u001B[49m\u001B[43mchannels\u001B[49m\u001B[38;5;241;43m=\u001B[39;49m\u001B[43m[\u001B[49m\u001B[38;5;241;43m0\u001B[39;49m\u001B[43m,\u001B[49m\u001B[43m \u001B[49m\u001B[38;5;241;43m0\u001B[39;49m\u001B[43m]\u001B[49m\u001B[43m,\u001B[49m\u001B[43m \u001B[49m\u001B[43mdiameter\u001B[49m\u001B[38;5;241;43m=\u001B[39;49m\u001B[43mmodel\u001B[49m\u001B[38;5;241;43m.\u001B[39;49m\u001B[43mdiam_labels\u001B[49m\u001B[38;5;241;43m.\u001B[39;49m\u001B[43mcopy\u001B[49m\u001B[43m(\u001B[49m\u001B[43m)\u001B[49m\u001B[43m)\u001B[49m[\n\u001B[0;32m    166\u001B[0m     \u001B[38;5;241m0\u001B[39m]  \u001B[38;5;66;03m# generates the predictions # we could use the fact that it has a channel input to have the normal image\u001B[39;00m\n\u001B[0;32m    167\u001B[0m \u001B[38;5;66;03m# not separated by channel and just make it do the prediction on there, although we need it to make a prediction\u001B[39;00m\n\u001B[0;32m    168\u001B[0m \u001B[38;5;66;03m# on the averaged out gray image so that wouldn't really work\u001B[39;00m\n\u001B[0;32m    169\u001B[0m predicted_mask \u001B[38;5;241m=\u001B[39m predicted_test_masks[\u001B[38;5;241m0\u001B[39m]\n",
      "File \u001B[1;32m~\\.conda\\envs\\celldev\\lib\\site-packages\\cellpose\\models.py:501\u001B[0m, in \u001B[0;36mCellposeModel.eval\u001B[1;34m(self, x, batch_size, channels, channel_axis, z_axis, normalize, invert, rescale, diameter, do_3D, anisotropy, net_avg, augment, tile, tile_overlap, resample, interp, flow_threshold, cellprob_threshold, compute_masks, min_size, stitch_threshold, progress, loop_run, model_loaded)\u001B[0m\n\u001B[0;32m    499\u001B[0m iterator \u001B[38;5;241m=\u001B[39m trange(nimg, file\u001B[38;5;241m=\u001B[39mtqdm_out) \u001B[38;5;28;01mif\u001B[39;00m nimg\u001B[38;5;241m>\u001B[39m\u001B[38;5;241m1\u001B[39m \u001B[38;5;28;01melse\u001B[39;00m \u001B[38;5;28mrange\u001B[39m(nimg)\n\u001B[0;32m    500\u001B[0m \u001B[38;5;28;01mfor\u001B[39;00m i \u001B[38;5;129;01min\u001B[39;00m iterator:\n\u001B[1;32m--> 501\u001B[0m     maski, flowi, stylei \u001B[38;5;241m=\u001B[39m \u001B[38;5;28;43mself\u001B[39;49m\u001B[38;5;241;43m.\u001B[39;49m\u001B[43meval\u001B[49m\u001B[43m(\u001B[49m\u001B[43mx\u001B[49m\u001B[43m[\u001B[49m\u001B[43mi\u001B[49m\u001B[43m]\u001B[49m\u001B[43m,\u001B[49m\u001B[43m \u001B[49m\n\u001B[0;32m    502\u001B[0m \u001B[43m                                     \u001B[49m\u001B[43mbatch_size\u001B[49m\u001B[38;5;241;43m=\u001B[39;49m\u001B[43mbatch_size\u001B[49m\u001B[43m,\u001B[49m\u001B[43m \u001B[49m\n\u001B[0;32m    503\u001B[0m \u001B[43m                                     \u001B[49m\u001B[43mchannels\u001B[49m\u001B[38;5;241;43m=\u001B[39;49m\u001B[43mchannels\u001B[49m\u001B[43m[\u001B[49m\u001B[43mi\u001B[49m\u001B[43m]\u001B[49m\u001B[43m \u001B[49m\u001B[38;5;28;43;01mif\u001B[39;49;00m\u001B[43m \u001B[49m\u001B[43m(\u001B[49m\u001B[38;5;28;43mlen\u001B[39;49m\u001B[43m(\u001B[49m\u001B[43mchannels\u001B[49m\u001B[43m)\u001B[49m\u001B[38;5;241;43m==\u001B[39;49m\u001B[38;5;28;43mlen\u001B[39;49m\u001B[43m(\u001B[49m\u001B[43mx\u001B[49m\u001B[43m)\u001B[49m\u001B[43m \u001B[49m\u001B[38;5;129;43;01mand\u001B[39;49;00m\u001B[43m \u001B[49m\n\u001B[0;32m    504\u001B[0m \u001B[43m                                                              \u001B[49m\u001B[43m(\u001B[49m\u001B[38;5;28;43misinstance\u001B[39;49m\u001B[43m(\u001B[49m\u001B[43mchannels\u001B[49m\u001B[43m[\u001B[49m\u001B[43mi\u001B[49m\u001B[43m]\u001B[49m\u001B[43m,\u001B[49m\u001B[43m \u001B[49m\u001B[38;5;28;43mlist\u001B[39;49m\u001B[43m)\u001B[49m\u001B[43m \u001B[49m\u001B[38;5;129;43;01mor\u001B[39;49;00m\u001B[43m \u001B[49m\u001B[38;5;28;43misinstance\u001B[39;49m\u001B[43m(\u001B[49m\u001B[43mchannels\u001B[49m\u001B[43m[\u001B[49m\u001B[43mi\u001B[49m\u001B[43m]\u001B[49m\u001B[43m,\u001B[49m\u001B[43m \u001B[49m\u001B[43mnp\u001B[49m\u001B[38;5;241;43m.\u001B[39;49m\u001B[43mndarray\u001B[49m\u001B[43m)\u001B[49m\u001B[43m)\u001B[49m\u001B[43m \u001B[49m\u001B[38;5;129;43;01mand\u001B[39;49;00m\n\u001B[0;32m    505\u001B[0m \u001B[43m                                                              \u001B[49m\u001B[38;5;28;43mlen\u001B[39;49m\u001B[43m(\u001B[49m\u001B[43mchannels\u001B[49m\u001B[43m[\u001B[49m\u001B[43mi\u001B[49m\u001B[43m]\u001B[49m\u001B[43m)\u001B[49m\u001B[38;5;241;43m==\u001B[39;49m\u001B[38;5;241;43m2\u001B[39;49m\u001B[43m)\u001B[49m\u001B[43m \u001B[49m\u001B[38;5;28;43;01melse\u001B[39;49;00m\u001B[43m \u001B[49m\u001B[43mchannels\u001B[49m\u001B[43m,\u001B[49m\u001B[43m \u001B[49m\n\u001B[0;32m    506\u001B[0m \u001B[43m                                     \u001B[49m\u001B[43mchannel_axis\u001B[49m\u001B[38;5;241;43m=\u001B[39;49m\u001B[43mchannel_axis\u001B[49m\u001B[43m,\u001B[49m\u001B[43m \u001B[49m\n\u001B[0;32m    507\u001B[0m \u001B[43m                                     \u001B[49m\u001B[43mz_axis\u001B[49m\u001B[38;5;241;43m=\u001B[39;49m\u001B[43mz_axis\u001B[49m\u001B[43m,\u001B[49m\u001B[43m \u001B[49m\n\u001B[0;32m    508\u001B[0m \u001B[43m                                     \u001B[49m\u001B[43mnormalize\u001B[49m\u001B[38;5;241;43m=\u001B[39;49m\u001B[43mnormalize\u001B[49m\u001B[43m,\u001B[49m\u001B[43m \u001B[49m\n\u001B[0;32m    509\u001B[0m \u001B[43m                                     \u001B[49m\u001B[43minvert\u001B[49m\u001B[38;5;241;43m=\u001B[39;49m\u001B[43minvert\u001B[49m\u001B[43m,\u001B[49m\u001B[43m \u001B[49m\n\u001B[0;32m    510\u001B[0m \u001B[43m                                     \u001B[49m\u001B[43mrescale\u001B[49m\u001B[38;5;241;43m=\u001B[39;49m\u001B[43mrescale\u001B[49m\u001B[43m[\u001B[49m\u001B[43mi\u001B[49m\u001B[43m]\u001B[49m\u001B[43m \u001B[49m\u001B[38;5;28;43;01mif\u001B[39;49;00m\u001B[43m \u001B[49m\u001B[38;5;28;43misinstance\u001B[39;49m\u001B[43m(\u001B[49m\u001B[43mrescale\u001B[49m\u001B[43m,\u001B[49m\u001B[43m \u001B[49m\u001B[38;5;28;43mlist\u001B[39;49m\u001B[43m)\u001B[49m\u001B[43m \u001B[49m\u001B[38;5;129;43;01mor\u001B[39;49;00m\u001B[43m \u001B[49m\u001B[38;5;28;43misinstance\u001B[39;49m\u001B[43m(\u001B[49m\u001B[43mrescale\u001B[49m\u001B[43m,\u001B[49m\u001B[43m \u001B[49m\u001B[43mnp\u001B[49m\u001B[38;5;241;43m.\u001B[39;49m\u001B[43mndarray\u001B[49m\u001B[43m)\u001B[49m\u001B[43m \u001B[49m\u001B[38;5;28;43;01melse\u001B[39;49;00m\u001B[43m \u001B[49m\u001B[43mrescale\u001B[49m\u001B[43m,\u001B[49m\n\u001B[0;32m    511\u001B[0m \u001B[43m                                     \u001B[49m\u001B[43mdiameter\u001B[49m\u001B[38;5;241;43m=\u001B[39;49m\u001B[43mdiameter\u001B[49m\u001B[43m[\u001B[49m\u001B[43mi\u001B[49m\u001B[43m]\u001B[49m\u001B[43m \u001B[49m\u001B[38;5;28;43;01mif\u001B[39;49;00m\u001B[43m \u001B[49m\u001B[38;5;28;43misinstance\u001B[39;49m\u001B[43m(\u001B[49m\u001B[43mdiameter\u001B[49m\u001B[43m,\u001B[49m\u001B[43m \u001B[49m\u001B[38;5;28;43mlist\u001B[39;49m\u001B[43m)\u001B[49m\u001B[43m \u001B[49m\u001B[38;5;129;43;01mor\u001B[39;49;00m\u001B[43m \u001B[49m\u001B[38;5;28;43misinstance\u001B[39;49m\u001B[43m(\u001B[49m\u001B[43mdiameter\u001B[49m\u001B[43m,\u001B[49m\u001B[43m \u001B[49m\u001B[43mnp\u001B[49m\u001B[38;5;241;43m.\u001B[39;49m\u001B[43mndarray\u001B[49m\u001B[43m)\u001B[49m\u001B[43m \u001B[49m\u001B[38;5;28;43;01melse\u001B[39;49;00m\u001B[43m \u001B[49m\u001B[43mdiameter\u001B[49m\u001B[43m,\u001B[49m\u001B[43m \u001B[49m\n\u001B[0;32m    512\u001B[0m \u001B[43m                                     \u001B[49m\u001B[43mdo_3D\u001B[49m\u001B[38;5;241;43m=\u001B[39;49m\u001B[43mdo_3D\u001B[49m\u001B[43m,\u001B[49m\u001B[43m \u001B[49m\n\u001B[0;32m    513\u001B[0m \u001B[43m                                     \u001B[49m\u001B[43manisotropy\u001B[49m\u001B[38;5;241;43m=\u001B[39;49m\u001B[43manisotropy\u001B[49m\u001B[43m,\u001B[49m\u001B[43m \u001B[49m\n\u001B[0;32m    514\u001B[0m \u001B[43m                                     \u001B[49m\u001B[43mnet_avg\u001B[49m\u001B[38;5;241;43m=\u001B[39;49m\u001B[43mnet_avg\u001B[49m\u001B[43m,\u001B[49m\u001B[43m \u001B[49m\n\u001B[0;32m    515\u001B[0m \u001B[43m                                     \u001B[49m\u001B[43maugment\u001B[49m\u001B[38;5;241;43m=\u001B[39;49m\u001B[43maugment\u001B[49m\u001B[43m,\u001B[49m\u001B[43m \u001B[49m\n\u001B[0;32m    516\u001B[0m \u001B[43m                                     \u001B[49m\u001B[43mtile\u001B[49m\u001B[38;5;241;43m=\u001B[39;49m\u001B[43mtile\u001B[49m\u001B[43m,\u001B[49m\u001B[43m \u001B[49m\n\u001B[0;32m    517\u001B[0m \u001B[43m                                     \u001B[49m\u001B[43mtile_overlap\u001B[49m\u001B[38;5;241;43m=\u001B[39;49m\u001B[43mtile_overlap\u001B[49m\u001B[43m,\u001B[49m\n\u001B[0;32m    518\u001B[0m \u001B[43m                                     \u001B[49m\u001B[43mresample\u001B[49m\u001B[38;5;241;43m=\u001B[39;49m\u001B[43mresample\u001B[49m\u001B[43m,\u001B[49m\u001B[43m \u001B[49m\n\u001B[0;32m    519\u001B[0m \u001B[43m                                     \u001B[49m\u001B[43minterp\u001B[49m\u001B[38;5;241;43m=\u001B[39;49m\u001B[43minterp\u001B[49m\u001B[43m,\u001B[49m\n\u001B[0;32m    520\u001B[0m \u001B[43m                                     \u001B[49m\u001B[43mflow_threshold\u001B[49m\u001B[38;5;241;43m=\u001B[39;49m\u001B[43mflow_threshold\u001B[49m\u001B[43m,\u001B[49m\n\u001B[0;32m    521\u001B[0m \u001B[43m                                     \u001B[49m\u001B[43mcellprob_threshold\u001B[49m\u001B[38;5;241;43m=\u001B[39;49m\u001B[43mcellprob_threshold\u001B[49m\u001B[43m,\u001B[49m\u001B[43m \u001B[49m\n\u001B[0;32m    522\u001B[0m \u001B[43m                                     \u001B[49m\u001B[43mcompute_masks\u001B[49m\u001B[38;5;241;43m=\u001B[39;49m\u001B[43mcompute_masks\u001B[49m\u001B[43m,\u001B[49m\u001B[43m \u001B[49m\n\u001B[0;32m    523\u001B[0m \u001B[43m                                     \u001B[49m\u001B[43mmin_size\u001B[49m\u001B[38;5;241;43m=\u001B[39;49m\u001B[43mmin_size\u001B[49m\u001B[43m,\u001B[49m\u001B[43m \u001B[49m\n\u001B[0;32m    524\u001B[0m \u001B[43m                                     \u001B[49m\u001B[43mstitch_threshold\u001B[49m\u001B[38;5;241;43m=\u001B[39;49m\u001B[43mstitch_threshold\u001B[49m\u001B[43m,\u001B[49m\u001B[43m \u001B[49m\n\u001B[0;32m    525\u001B[0m \u001B[43m                                     \u001B[49m\u001B[43mprogress\u001B[49m\u001B[38;5;241;43m=\u001B[39;49m\u001B[43mprogress\u001B[49m\u001B[43m,\u001B[49m\n\u001B[0;32m    526\u001B[0m \u001B[43m                                     \u001B[49m\u001B[43mloop_run\u001B[49m\u001B[38;5;241;43m=\u001B[39;49m\u001B[43m(\u001B[49m\u001B[43mi\u001B[49m\u001B[38;5;241;43m>\u001B[39;49m\u001B[38;5;241;43m0\u001B[39;49m\u001B[43m)\u001B[49m\u001B[43m,\u001B[49m\n\u001B[0;32m    527\u001B[0m \u001B[43m                                     \u001B[49m\u001B[43mmodel_loaded\u001B[49m\u001B[38;5;241;43m=\u001B[39;49m\u001B[43mmodel_loaded\u001B[49m\u001B[43m)\u001B[49m\n\u001B[0;32m    528\u001B[0m     masks\u001B[38;5;241m.\u001B[39mappend(maski)\n\u001B[0;32m    529\u001B[0m     flows\u001B[38;5;241m.\u001B[39mappend(flowi)\n",
      "File \u001B[1;32m~\\.conda\\envs\\celldev\\lib\\site-packages\\cellpose\\models.py:551\u001B[0m, in \u001B[0;36mCellposeModel.eval\u001B[1;34m(self, x, batch_size, channels, channel_axis, z_axis, normalize, invert, rescale, diameter, do_3D, anisotropy, net_avg, augment, tile, tile_overlap, resample, interp, flow_threshold, cellprob_threshold, compute_masks, min_size, stitch_threshold, progress, loop_run, model_loaded)\u001B[0m\n\u001B[0;32m    548\u001B[0m     diameter \u001B[38;5;241m=\u001B[39m \u001B[38;5;28mself\u001B[39m\u001B[38;5;241m.\u001B[39mdiam_labels\n\u001B[0;32m    549\u001B[0m     rescale \u001B[38;5;241m=\u001B[39m \u001B[38;5;28mself\u001B[39m\u001B[38;5;241m.\u001B[39mdiam_mean \u001B[38;5;241m/\u001B[39m diameter\n\u001B[1;32m--> 551\u001B[0m masks, styles, dP, cellprob, p \u001B[38;5;241m=\u001B[39m \u001B[38;5;28;43mself\u001B[39;49m\u001B[38;5;241;43m.\u001B[39;49m\u001B[43m_run_cp\u001B[49m\u001B[43m(\u001B[49m\u001B[43mx\u001B[49m\u001B[43m,\u001B[49m\u001B[43m \u001B[49m\n\u001B[0;32m    552\u001B[0m \u001B[43m                                              \u001B[49m\u001B[43mcompute_masks\u001B[49m\u001B[38;5;241;43m=\u001B[39;49m\u001B[43mcompute_masks\u001B[49m\u001B[43m,\u001B[49m\n\u001B[0;32m    553\u001B[0m \u001B[43m                                              \u001B[49m\u001B[43mnormalize\u001B[49m\u001B[38;5;241;43m=\u001B[39;49m\u001B[43mnormalize\u001B[49m\u001B[43m,\u001B[49m\n\u001B[0;32m    554\u001B[0m \u001B[43m                                              \u001B[49m\u001B[43minvert\u001B[49m\u001B[38;5;241;43m=\u001B[39;49m\u001B[43minvert\u001B[49m\u001B[43m,\u001B[49m\n\u001B[0;32m    555\u001B[0m \u001B[43m                                              \u001B[49m\u001B[43mrescale\u001B[49m\u001B[38;5;241;43m=\u001B[39;49m\u001B[43mrescale\u001B[49m\u001B[43m,\u001B[49m\u001B[43m \u001B[49m\n\u001B[0;32m    556\u001B[0m \u001B[43m                                              \u001B[49m\u001B[43mnet_avg\u001B[49m\u001B[38;5;241;43m=\u001B[39;49m\u001B[43mnet_avg\u001B[49m\u001B[43m,\u001B[49m\u001B[43m \u001B[49m\n\u001B[0;32m    557\u001B[0m \u001B[43m                                              \u001B[49m\u001B[43mresample\u001B[49m\u001B[38;5;241;43m=\u001B[39;49m\u001B[43mresample\u001B[49m\u001B[43m,\u001B[49m\n\u001B[0;32m    558\u001B[0m \u001B[43m                                              \u001B[49m\u001B[43maugment\u001B[49m\u001B[38;5;241;43m=\u001B[39;49m\u001B[43maugment\u001B[49m\u001B[43m,\u001B[49m\u001B[43m \u001B[49m\n\u001B[0;32m    559\u001B[0m \u001B[43m                                              \u001B[49m\u001B[43mtile\u001B[49m\u001B[38;5;241;43m=\u001B[39;49m\u001B[43mtile\u001B[49m\u001B[43m,\u001B[49m\u001B[43m \u001B[49m\n\u001B[0;32m    560\u001B[0m \u001B[43m                                              \u001B[49m\u001B[43mtile_overlap\u001B[49m\u001B[38;5;241;43m=\u001B[39;49m\u001B[43mtile_overlap\u001B[49m\u001B[43m,\u001B[49m\n\u001B[0;32m    561\u001B[0m \u001B[43m                                              \u001B[49m\u001B[43mflow_threshold\u001B[49m\u001B[38;5;241;43m=\u001B[39;49m\u001B[43mflow_threshold\u001B[49m\u001B[43m,\u001B[49m\n\u001B[0;32m    562\u001B[0m \u001B[43m                                              \u001B[49m\u001B[43mcellprob_threshold\u001B[49m\u001B[38;5;241;43m=\u001B[39;49m\u001B[43mcellprob_threshold\u001B[49m\u001B[43m,\u001B[49m\u001B[43m \u001B[49m\n\u001B[0;32m    563\u001B[0m \u001B[43m                                              \u001B[49m\u001B[43minterp\u001B[49m\u001B[38;5;241;43m=\u001B[39;49m\u001B[43minterp\u001B[49m\u001B[43m,\u001B[49m\n\u001B[0;32m    564\u001B[0m \u001B[43m                                              \u001B[49m\u001B[43mmin_size\u001B[49m\u001B[38;5;241;43m=\u001B[39;49m\u001B[43mmin_size\u001B[49m\u001B[43m,\u001B[49m\u001B[43m \u001B[49m\n\u001B[0;32m    565\u001B[0m \u001B[43m                                              \u001B[49m\u001B[43mdo_3D\u001B[49m\u001B[38;5;241;43m=\u001B[39;49m\u001B[43mdo_3D\u001B[49m\u001B[43m,\u001B[49m\u001B[43m \u001B[49m\n\u001B[0;32m    566\u001B[0m \u001B[43m                                              \u001B[49m\u001B[43manisotropy\u001B[49m\u001B[38;5;241;43m=\u001B[39;49m\u001B[43manisotropy\u001B[49m\u001B[43m,\u001B[49m\n\u001B[0;32m    567\u001B[0m \u001B[43m                                              \u001B[49m\u001B[43mstitch_threshold\u001B[49m\u001B[38;5;241;43m=\u001B[39;49m\u001B[43mstitch_threshold\u001B[49m\u001B[43m,\u001B[49m\n\u001B[0;32m    568\u001B[0m \u001B[43m                                              \u001B[49m\u001B[43m)\u001B[49m\n\u001B[0;32m    570\u001B[0m flows \u001B[38;5;241m=\u001B[39m [plot\u001B[38;5;241m.\u001B[39mdx_to_circ(dP), dP, cellprob, p]\n\u001B[0;32m    571\u001B[0m \u001B[38;5;28;01mreturn\u001B[39;00m masks, flows, styles\n",
      "File \u001B[1;32m~\\.conda\\envs\\celldev\\lib\\site-packages\\cellpose\\models.py:615\u001B[0m, in \u001B[0;36mCellposeModel._run_cp\u001B[1;34m(self, x, compute_masks, normalize, invert, rescale, net_avg, resample, augment, tile, tile_overlap, cellprob_threshold, flow_threshold, min_size, interp, anisotropy, do_3D, stitch_threshold)\u001B[0m\n\u001B[0;32m    613\u001B[0m \u001B[38;5;28;01mif\u001B[39;00m rescale \u001B[38;5;241m!=\u001B[39m \u001B[38;5;241m1.0\u001B[39m:\n\u001B[0;32m    614\u001B[0m     img \u001B[38;5;241m=\u001B[39m transforms\u001B[38;5;241m.\u001B[39mresize_image(img, rsz\u001B[38;5;241m=\u001B[39mrescale)\n\u001B[1;32m--> 615\u001B[0m yf, style \u001B[38;5;241m=\u001B[39m \u001B[38;5;28;43mself\u001B[39;49m\u001B[38;5;241;43m.\u001B[39;49m\u001B[43m_run_nets\u001B[49m\u001B[43m(\u001B[49m\u001B[43mimg\u001B[49m\u001B[43m,\u001B[49m\u001B[43m \u001B[49m\u001B[43mnet_avg\u001B[49m\u001B[38;5;241;43m=\u001B[39;49m\u001B[43mnet_avg\u001B[49m\u001B[43m,\u001B[49m\n\u001B[0;32m    616\u001B[0m \u001B[43m                           \u001B[49m\u001B[43maugment\u001B[49m\u001B[38;5;241;43m=\u001B[39;49m\u001B[43maugment\u001B[49m\u001B[43m,\u001B[49m\u001B[43m \u001B[49m\u001B[43mtile\u001B[49m\u001B[38;5;241;43m=\u001B[39;49m\u001B[43mtile\u001B[49m\u001B[43m,\u001B[49m\n\u001B[0;32m    617\u001B[0m \u001B[43m                           \u001B[49m\u001B[43mtile_overlap\u001B[49m\u001B[38;5;241;43m=\u001B[39;49m\u001B[43mtile_overlap\u001B[49m\u001B[43m)\u001B[49m\n\u001B[0;32m    618\u001B[0m \u001B[38;5;28;01mif\u001B[39;00m resample:\n\u001B[0;32m    619\u001B[0m     yf \u001B[38;5;241m=\u001B[39m transforms\u001B[38;5;241m.\u001B[39mresize_image(yf, shape[\u001B[38;5;241m1\u001B[39m], shape[\u001B[38;5;241m2\u001B[39m])\n",
      "File \u001B[1;32m~\\.conda\\envs\\celldev\\lib\\site-packages\\cellpose\\core.py:345\u001B[0m, in \u001B[0;36mUnetModel._run_nets\u001B[1;34m(self, img, net_avg, augment, tile, tile_overlap, bsize, return_conv, progress)\u001B[0m\n\u001B[0;32m    309\u001B[0m \u001B[38;5;124;03m\"\"\" run network (if more than one, loop over networks and average results\u001B[39;00m\n\u001B[0;32m    310\u001B[0m \n\u001B[0;32m    311\u001B[0m \u001B[38;5;124;03mParameters\u001B[39;00m\n\u001B[1;32m   (...)\u001B[0m\n\u001B[0;32m    342\u001B[0m \n\u001B[0;32m    343\u001B[0m \u001B[38;5;124;03m\"\"\"\u001B[39;00m\n\u001B[0;32m    344\u001B[0m \u001B[38;5;28;01mif\u001B[39;00m \u001B[38;5;28misinstance\u001B[39m(\u001B[38;5;28mself\u001B[39m\u001B[38;5;241m.\u001B[39mpretrained_model, \u001B[38;5;28mstr\u001B[39m) \u001B[38;5;129;01mor\u001B[39;00m \u001B[38;5;129;01mnot\u001B[39;00m net_avg:  \n\u001B[1;32m--> 345\u001B[0m     y, style \u001B[38;5;241m=\u001B[39m \u001B[38;5;28;43mself\u001B[39;49m\u001B[38;5;241;43m.\u001B[39;49m\u001B[43m_run_net\u001B[49m\u001B[43m(\u001B[49m\u001B[43mimg\u001B[49m\u001B[43m,\u001B[49m\u001B[43m \u001B[49m\u001B[43maugment\u001B[49m\u001B[38;5;241;43m=\u001B[39;49m\u001B[43maugment\u001B[49m\u001B[43m,\u001B[49m\u001B[43m \u001B[49m\u001B[43mtile\u001B[49m\u001B[38;5;241;43m=\u001B[39;49m\u001B[43mtile\u001B[49m\u001B[43m,\u001B[49m\u001B[43m \u001B[49m\u001B[43mtile_overlap\u001B[49m\u001B[38;5;241;43m=\u001B[39;49m\u001B[43mtile_overlap\u001B[49m\u001B[43m,\u001B[49m\n\u001B[0;32m    346\u001B[0m \u001B[43m                             \u001B[49m\u001B[43mbsize\u001B[49m\u001B[38;5;241;43m=\u001B[39;49m\u001B[43mbsize\u001B[49m\u001B[43m,\u001B[49m\u001B[43m \u001B[49m\u001B[43mreturn_conv\u001B[49m\u001B[38;5;241;43m=\u001B[39;49m\u001B[43mreturn_conv\u001B[49m\u001B[43m)\u001B[49m\n\u001B[0;32m    347\u001B[0m \u001B[38;5;28;01melse\u001B[39;00m:  \n\u001B[0;32m    348\u001B[0m     \u001B[38;5;28;01mfor\u001B[39;00m j \u001B[38;5;129;01min\u001B[39;00m \u001B[38;5;28mrange\u001B[39m(\u001B[38;5;28mlen\u001B[39m(\u001B[38;5;28mself\u001B[39m\u001B[38;5;241m.\u001B[39mpretrained_model)):\n",
      "File \u001B[1;32m~\\.conda\\envs\\celldev\\lib\\site-packages\\cellpose\\core.py:424\u001B[0m, in \u001B[0;36mUnetModel._run_net\u001B[1;34m(self, imgs, augment, tile, tile_overlap, bsize, return_conv)\u001B[0m\n\u001B[0;32m    422\u001B[0m \u001B[38;5;66;03m# run network\u001B[39;00m\n\u001B[0;32m    423\u001B[0m \u001B[38;5;28;01mif\u001B[39;00m tile \u001B[38;5;129;01mor\u001B[39;00m augment \u001B[38;5;129;01mor\u001B[39;00m imgs\u001B[38;5;241m.\u001B[39mndim\u001B[38;5;241m==\u001B[39m\u001B[38;5;241m4\u001B[39m:\n\u001B[1;32m--> 424\u001B[0m     y, style \u001B[38;5;241m=\u001B[39m \u001B[38;5;28;43mself\u001B[39;49m\u001B[38;5;241;43m.\u001B[39;49m\u001B[43m_run_tiled\u001B[49m\u001B[43m(\u001B[49m\u001B[43mimgs\u001B[49m\u001B[43m,\u001B[49m\u001B[43m \u001B[49m\u001B[43maugment\u001B[49m\u001B[38;5;241;43m=\u001B[39;49m\u001B[43maugment\u001B[49m\u001B[43m,\u001B[49m\u001B[43m \u001B[49m\u001B[43mbsize\u001B[49m\u001B[38;5;241;43m=\u001B[39;49m\u001B[43mbsize\u001B[49m\u001B[43m,\u001B[49m\u001B[43m \u001B[49m\n\u001B[0;32m    425\u001B[0m \u001B[43m                              \u001B[49m\u001B[43mtile_overlap\u001B[49m\u001B[38;5;241;43m=\u001B[39;49m\u001B[43mtile_overlap\u001B[49m\u001B[43m,\u001B[49m\u001B[43m \u001B[49m\n\u001B[0;32m    426\u001B[0m \u001B[43m                              \u001B[49m\u001B[43mreturn_conv\u001B[49m\u001B[38;5;241;43m=\u001B[39;49m\u001B[43mreturn_conv\u001B[49m\u001B[43m)\u001B[49m\n\u001B[0;32m    427\u001B[0m \u001B[38;5;28;01melse\u001B[39;00m:\n\u001B[0;32m    428\u001B[0m     imgs \u001B[38;5;241m=\u001B[39m np\u001B[38;5;241m.\u001B[39mexpand_dims(imgs, axis\u001B[38;5;241m=\u001B[39m\u001B[38;5;241m0\u001B[39m)\n",
      "File \u001B[1;32m~\\.conda\\envs\\celldev\\lib\\site-packages\\cellpose\\core.py:525\u001B[0m, in \u001B[0;36mUnetModel._run_tiled\u001B[1;34m(self, imgi, augment, bsize, tile_overlap, return_conv)\u001B[0m\n\u001B[0;32m    523\u001B[0m \u001B[38;5;28;01mfor\u001B[39;00m k \u001B[38;5;129;01min\u001B[39;00m \u001B[38;5;28mrange\u001B[39m(niter):\n\u001B[0;32m    524\u001B[0m     irange \u001B[38;5;241m=\u001B[39m np\u001B[38;5;241m.\u001B[39marange(batch_size\u001B[38;5;241m*\u001B[39mk, \u001B[38;5;28mmin\u001B[39m(IMG\u001B[38;5;241m.\u001B[39mshape[\u001B[38;5;241m0\u001B[39m], batch_size\u001B[38;5;241m*\u001B[39mk\u001B[38;5;241m+\u001B[39mbatch_size))\n\u001B[1;32m--> 525\u001B[0m     y0, style \u001B[38;5;241m=\u001B[39m \u001B[38;5;28;43mself\u001B[39;49m\u001B[38;5;241;43m.\u001B[39;49m\u001B[43mnetwork\u001B[49m\u001B[43m(\u001B[49m\u001B[43mIMG\u001B[49m\u001B[43m[\u001B[49m\u001B[43mirange\u001B[49m\u001B[43m]\u001B[49m\u001B[43m,\u001B[49m\u001B[43m \u001B[49m\u001B[43mreturn_conv\u001B[49m\u001B[38;5;241;43m=\u001B[39;49m\u001B[43mreturn_conv\u001B[49m\u001B[43m)\u001B[49m\n\u001B[0;32m    526\u001B[0m     y[irange] \u001B[38;5;241m=\u001B[39m y0\u001B[38;5;241m.\u001B[39mreshape(\u001B[38;5;28mlen\u001B[39m(irange), y0\u001B[38;5;241m.\u001B[39mshape[\u001B[38;5;241m-\u001B[39m\u001B[38;5;241m3\u001B[39m], y0\u001B[38;5;241m.\u001B[39mshape[\u001B[38;5;241m-\u001B[39m\u001B[38;5;241m2\u001B[39m], y0\u001B[38;5;241m.\u001B[39mshape[\u001B[38;5;241m-\u001B[39m\u001B[38;5;241m1\u001B[39m])\n\u001B[0;32m    527\u001B[0m     \u001B[38;5;28;01mif\u001B[39;00m k\u001B[38;5;241m==\u001B[39m\u001B[38;5;241m0\u001B[39m:\n",
      "File \u001B[1;32m~\\.conda\\envs\\celldev\\lib\\site-packages\\cellpose\\core.py:297\u001B[0m, in \u001B[0;36mUnetModel.network\u001B[1;34m(self, x, return_conv)\u001B[0m\n\u001B[0;32m    295\u001B[0m     \u001B[38;5;28mself\u001B[39m\u001B[38;5;241m.\u001B[39mnet \u001B[38;5;241m=\u001B[39m mkldnn_utils\u001B[38;5;241m.\u001B[39mto_mkldnn(\u001B[38;5;28mself\u001B[39m\u001B[38;5;241m.\u001B[39mnet)\n\u001B[0;32m    296\u001B[0m \u001B[38;5;28;01mwith\u001B[39;00m torch\u001B[38;5;241m.\u001B[39mno_grad():\n\u001B[1;32m--> 297\u001B[0m     y, style \u001B[38;5;241m=\u001B[39m \u001B[38;5;28;43mself\u001B[39;49m\u001B[38;5;241;43m.\u001B[39;49m\u001B[43mnet\u001B[49m\u001B[43m(\u001B[49m\u001B[43mX\u001B[49m\u001B[43m)\u001B[49m\n\u001B[0;32m    298\u001B[0m \u001B[38;5;28;01mdel\u001B[39;00m X\n\u001B[0;32m    299\u001B[0m y \u001B[38;5;241m=\u001B[39m \u001B[38;5;28mself\u001B[39m\u001B[38;5;241m.\u001B[39m_from_device(y)\n",
      "File \u001B[1;32m~\\.conda\\envs\\celldev\\lib\\site-packages\\torch\\nn\\modules\\module.py:1130\u001B[0m, in \u001B[0;36mModule._call_impl\u001B[1;34m(self, *input, **kwargs)\u001B[0m\n\u001B[0;32m   1126\u001B[0m \u001B[38;5;66;03m# If we don't have any hooks, we want to skip the rest of the logic in\u001B[39;00m\n\u001B[0;32m   1127\u001B[0m \u001B[38;5;66;03m# this function, and just call forward.\u001B[39;00m\n\u001B[0;32m   1128\u001B[0m \u001B[38;5;28;01mif\u001B[39;00m \u001B[38;5;129;01mnot\u001B[39;00m (\u001B[38;5;28mself\u001B[39m\u001B[38;5;241m.\u001B[39m_backward_hooks \u001B[38;5;129;01mor\u001B[39;00m \u001B[38;5;28mself\u001B[39m\u001B[38;5;241m.\u001B[39m_forward_hooks \u001B[38;5;129;01mor\u001B[39;00m \u001B[38;5;28mself\u001B[39m\u001B[38;5;241m.\u001B[39m_forward_pre_hooks \u001B[38;5;129;01mor\u001B[39;00m _global_backward_hooks\n\u001B[0;32m   1129\u001B[0m         \u001B[38;5;129;01mor\u001B[39;00m _global_forward_hooks \u001B[38;5;129;01mor\u001B[39;00m _global_forward_pre_hooks):\n\u001B[1;32m-> 1130\u001B[0m     \u001B[38;5;28;01mreturn\u001B[39;00m \u001B[43mforward_call\u001B[49m\u001B[43m(\u001B[49m\u001B[38;5;241;43m*\u001B[39;49m\u001B[38;5;28;43minput\u001B[39;49m\u001B[43m,\u001B[49m\u001B[43m \u001B[49m\u001B[38;5;241;43m*\u001B[39;49m\u001B[38;5;241;43m*\u001B[39;49m\u001B[43mkwargs\u001B[49m\u001B[43m)\u001B[49m\n\u001B[0;32m   1131\u001B[0m \u001B[38;5;66;03m# Do not call functions when jit is used\u001B[39;00m\n\u001B[0;32m   1132\u001B[0m full_backward_hooks, non_full_backward_hooks \u001B[38;5;241m=\u001B[39m [], []\n",
      "File \u001B[1;32m~\\.conda\\envs\\celldev\\lib\\site-packages\\cellpose\\resnet_torch.py:210\u001B[0m, in \u001B[0;36mCPnet.forward\u001B[1;34m(self, data)\u001B[0m\n\u001B[0;32m    208\u001B[0m \u001B[38;5;28;01mif\u001B[39;00m \u001B[38;5;129;01mnot\u001B[39;00m \u001B[38;5;28mself\u001B[39m\u001B[38;5;241m.\u001B[39mstyle_on:\n\u001B[0;32m    209\u001B[0m     style \u001B[38;5;241m=\u001B[39m style \u001B[38;5;241m*\u001B[39m \u001B[38;5;241m0\u001B[39m\n\u001B[1;32m--> 210\u001B[0m T0 \u001B[38;5;241m=\u001B[39m \u001B[38;5;28;43mself\u001B[39;49m\u001B[38;5;241;43m.\u001B[39;49m\u001B[43mupsample\u001B[49m\u001B[43m(\u001B[49m\u001B[43mstyle\u001B[49m\u001B[43m,\u001B[49m\u001B[43m \u001B[49m\u001B[43mT0\u001B[49m\u001B[43m,\u001B[49m\u001B[43m \u001B[49m\u001B[38;5;28;43mself\u001B[39;49m\u001B[38;5;241;43m.\u001B[39;49m\u001B[43mmkldnn\u001B[49m\u001B[43m)\u001B[49m\n\u001B[0;32m    211\u001B[0m T0    \u001B[38;5;241m=\u001B[39m \u001B[38;5;28mself\u001B[39m\u001B[38;5;241m.\u001B[39moutput(T0)\n\u001B[0;32m    212\u001B[0m \u001B[38;5;28;01mif\u001B[39;00m \u001B[38;5;28mself\u001B[39m\u001B[38;5;241m.\u001B[39mmkldnn:\n",
      "File \u001B[1;32m~\\.conda\\envs\\celldev\\lib\\site-packages\\torch\\nn\\modules\\module.py:1130\u001B[0m, in \u001B[0;36mModule._call_impl\u001B[1;34m(self, *input, **kwargs)\u001B[0m\n\u001B[0;32m   1126\u001B[0m \u001B[38;5;66;03m# If we don't have any hooks, we want to skip the rest of the logic in\u001B[39;00m\n\u001B[0;32m   1127\u001B[0m \u001B[38;5;66;03m# this function, and just call forward.\u001B[39;00m\n\u001B[0;32m   1128\u001B[0m \u001B[38;5;28;01mif\u001B[39;00m \u001B[38;5;129;01mnot\u001B[39;00m (\u001B[38;5;28mself\u001B[39m\u001B[38;5;241m.\u001B[39m_backward_hooks \u001B[38;5;129;01mor\u001B[39;00m \u001B[38;5;28mself\u001B[39m\u001B[38;5;241m.\u001B[39m_forward_hooks \u001B[38;5;129;01mor\u001B[39;00m \u001B[38;5;28mself\u001B[39m\u001B[38;5;241m.\u001B[39m_forward_pre_hooks \u001B[38;5;129;01mor\u001B[39;00m _global_backward_hooks\n\u001B[0;32m   1129\u001B[0m         \u001B[38;5;129;01mor\u001B[39;00m _global_forward_hooks \u001B[38;5;129;01mor\u001B[39;00m _global_forward_pre_hooks):\n\u001B[1;32m-> 1130\u001B[0m     \u001B[38;5;28;01mreturn\u001B[39;00m \u001B[43mforward_call\u001B[49m\u001B[43m(\u001B[49m\u001B[38;5;241;43m*\u001B[39;49m\u001B[38;5;28;43minput\u001B[39;49m\u001B[43m,\u001B[49m\u001B[43m \u001B[49m\u001B[38;5;241;43m*\u001B[39;49m\u001B[38;5;241;43m*\u001B[39;49m\u001B[43mkwargs\u001B[49m\u001B[43m)\u001B[49m\n\u001B[0;32m   1131\u001B[0m \u001B[38;5;66;03m# Do not call functions when jit is used\u001B[39;00m\n\u001B[0;32m   1132\u001B[0m full_backward_hooks, non_full_backward_hooks \u001B[38;5;241m=\u001B[39m [], []\n",
      "File \u001B[1;32m~\\.conda\\envs\\celldev\\lib\\site-packages\\cellpose\\resnet_torch.py:173\u001B[0m, in \u001B[0;36mupsample.forward\u001B[1;34m(self, style, xd, mkldnn)\u001B[0m\n\u001B[0;32m    171\u001B[0m     \u001B[38;5;28;01melse\u001B[39;00m:\n\u001B[0;32m    172\u001B[0m         x \u001B[38;5;241m=\u001B[39m \u001B[38;5;28mself\u001B[39m\u001B[38;5;241m.\u001B[39mupsampling(x)\n\u001B[1;32m--> 173\u001B[0m     x \u001B[38;5;241m=\u001B[39m \u001B[38;5;28;43mself\u001B[39;49m\u001B[38;5;241;43m.\u001B[39;49m\u001B[43mup\u001B[49m\u001B[43m[\u001B[49m\u001B[43mn\u001B[49m\u001B[43m]\u001B[49m\u001B[43m(\u001B[49m\u001B[43mx\u001B[49m\u001B[43m,\u001B[49m\u001B[43m \u001B[49m\u001B[43mxd\u001B[49m\u001B[43m[\u001B[49m\u001B[43mn\u001B[49m\u001B[43m]\u001B[49m\u001B[43m,\u001B[49m\u001B[43m \u001B[49m\u001B[43mstyle\u001B[49m\u001B[43m,\u001B[49m\u001B[43m \u001B[49m\u001B[43mmkldnn\u001B[49m\u001B[38;5;241;43m=\u001B[39;49m\u001B[43mmkldnn\u001B[49m\u001B[43m)\u001B[49m\n\u001B[0;32m    174\u001B[0m \u001B[38;5;28;01mreturn\u001B[39;00m x\n",
      "File \u001B[1;32m~\\.conda\\envs\\celldev\\lib\\site-packages\\torch\\nn\\modules\\module.py:1130\u001B[0m, in \u001B[0;36mModule._call_impl\u001B[1;34m(self, *input, **kwargs)\u001B[0m\n\u001B[0;32m   1126\u001B[0m \u001B[38;5;66;03m# If we don't have any hooks, we want to skip the rest of the logic in\u001B[39;00m\n\u001B[0;32m   1127\u001B[0m \u001B[38;5;66;03m# this function, and just call forward.\u001B[39;00m\n\u001B[0;32m   1128\u001B[0m \u001B[38;5;28;01mif\u001B[39;00m \u001B[38;5;129;01mnot\u001B[39;00m (\u001B[38;5;28mself\u001B[39m\u001B[38;5;241m.\u001B[39m_backward_hooks \u001B[38;5;129;01mor\u001B[39;00m \u001B[38;5;28mself\u001B[39m\u001B[38;5;241m.\u001B[39m_forward_hooks \u001B[38;5;129;01mor\u001B[39;00m \u001B[38;5;28mself\u001B[39m\u001B[38;5;241m.\u001B[39m_forward_pre_hooks \u001B[38;5;129;01mor\u001B[39;00m _global_backward_hooks\n\u001B[0;32m   1129\u001B[0m         \u001B[38;5;129;01mor\u001B[39;00m _global_forward_hooks \u001B[38;5;129;01mor\u001B[39;00m _global_forward_pre_hooks):\n\u001B[1;32m-> 1130\u001B[0m     \u001B[38;5;28;01mreturn\u001B[39;00m \u001B[43mforward_call\u001B[49m\u001B[43m(\u001B[49m\u001B[38;5;241;43m*\u001B[39;49m\u001B[38;5;28;43minput\u001B[39;49m\u001B[43m,\u001B[49m\u001B[43m \u001B[49m\u001B[38;5;241;43m*\u001B[39;49m\u001B[38;5;241;43m*\u001B[39;49m\u001B[43mkwargs\u001B[49m\u001B[43m)\u001B[49m\n\u001B[0;32m   1131\u001B[0m \u001B[38;5;66;03m# Do not call functions when jit is used\u001B[39;00m\n\u001B[0;32m   1132\u001B[0m full_backward_hooks, non_full_backward_hooks \u001B[38;5;241m=\u001B[39m [], []\n",
      "File \u001B[1;32m~\\.conda\\envs\\celldev\\lib\\site-packages\\cellpose\\resnet_torch.py:125\u001B[0m, in \u001B[0;36mresup.forward\u001B[1;34m(self, x, y, style, mkldnn)\u001B[0m\n\u001B[0;32m    123\u001B[0m \u001B[38;5;28;01mdef\u001B[39;00m \u001B[38;5;21mforward\u001B[39m(\u001B[38;5;28mself\u001B[39m, x, y, style, mkldnn\u001B[38;5;241m=\u001B[39m\u001B[38;5;28;01mFalse\u001B[39;00m):\n\u001B[0;32m    124\u001B[0m     x \u001B[38;5;241m=\u001B[39m \u001B[38;5;28mself\u001B[39m\u001B[38;5;241m.\u001B[39mproj(x) \u001B[38;5;241m+\u001B[39m \u001B[38;5;28mself\u001B[39m\u001B[38;5;241m.\u001B[39mconv[\u001B[38;5;241m1\u001B[39m](style, \u001B[38;5;28mself\u001B[39m\u001B[38;5;241m.\u001B[39mconv[\u001B[38;5;241m0\u001B[39m](x), y\u001B[38;5;241m=\u001B[39my, mkldnn\u001B[38;5;241m=\u001B[39mmkldnn)\n\u001B[1;32m--> 125\u001B[0m     x \u001B[38;5;241m=\u001B[39m x \u001B[38;5;241m+\u001B[39m \u001B[38;5;28mself\u001B[39m\u001B[38;5;241m.\u001B[39mconv[\u001B[38;5;241m3\u001B[39m](style, \u001B[38;5;28;43mself\u001B[39;49m\u001B[38;5;241;43m.\u001B[39;49m\u001B[43mconv\u001B[49m\u001B[43m[\u001B[49m\u001B[38;5;241;43m2\u001B[39;49m\u001B[43m]\u001B[49m\u001B[43m(\u001B[49m\u001B[43mstyle\u001B[49m\u001B[43m,\u001B[49m\u001B[43m \u001B[49m\u001B[43mx\u001B[49m\u001B[43m,\u001B[49m\u001B[43m \u001B[49m\u001B[43mmkldnn\u001B[49m\u001B[38;5;241;43m=\u001B[39;49m\u001B[43mmkldnn\u001B[49m\u001B[43m)\u001B[49m, mkldnn\u001B[38;5;241m=\u001B[39mmkldnn)\n\u001B[0;32m    126\u001B[0m     \u001B[38;5;28;01mreturn\u001B[39;00m x\n",
      "File \u001B[1;32m~\\.conda\\envs\\celldev\\lib\\site-packages\\torch\\nn\\modules\\module.py:1130\u001B[0m, in \u001B[0;36mModule._call_impl\u001B[1;34m(self, *input, **kwargs)\u001B[0m\n\u001B[0;32m   1126\u001B[0m \u001B[38;5;66;03m# If we don't have any hooks, we want to skip the rest of the logic in\u001B[39;00m\n\u001B[0;32m   1127\u001B[0m \u001B[38;5;66;03m# this function, and just call forward.\u001B[39;00m\n\u001B[0;32m   1128\u001B[0m \u001B[38;5;28;01mif\u001B[39;00m \u001B[38;5;129;01mnot\u001B[39;00m (\u001B[38;5;28mself\u001B[39m\u001B[38;5;241m.\u001B[39m_backward_hooks \u001B[38;5;129;01mor\u001B[39;00m \u001B[38;5;28mself\u001B[39m\u001B[38;5;241m.\u001B[39m_forward_hooks \u001B[38;5;129;01mor\u001B[39;00m \u001B[38;5;28mself\u001B[39m\u001B[38;5;241m.\u001B[39m_forward_pre_hooks \u001B[38;5;129;01mor\u001B[39;00m _global_backward_hooks\n\u001B[0;32m   1129\u001B[0m         \u001B[38;5;129;01mor\u001B[39;00m _global_forward_hooks \u001B[38;5;129;01mor\u001B[39;00m _global_forward_pre_hooks):\n\u001B[1;32m-> 1130\u001B[0m     \u001B[38;5;28;01mreturn\u001B[39;00m \u001B[43mforward_call\u001B[49m\u001B[43m(\u001B[49m\u001B[38;5;241;43m*\u001B[39;49m\u001B[38;5;28;43minput\u001B[39;49m\u001B[43m,\u001B[49m\u001B[43m \u001B[49m\u001B[38;5;241;43m*\u001B[39;49m\u001B[38;5;241;43m*\u001B[39;49m\u001B[43mkwargs\u001B[49m\u001B[43m)\u001B[49m\n\u001B[0;32m   1131\u001B[0m \u001B[38;5;66;03m# Do not call functions when jit is used\u001B[39;00m\n\u001B[0;32m   1132\u001B[0m full_backward_hooks, non_full_backward_hooks \u001B[38;5;241m=\u001B[39m [], []\n",
      "File \u001B[1;32m~\\.conda\\envs\\celldev\\lib\\site-packages\\cellpose\\resnet_torch.py:110\u001B[0m, in \u001B[0;36mbatchconvstyle.forward\u001B[1;34m(self, style, x, mkldnn, y)\u001B[0m\n\u001B[0;32m    108\u001B[0m \u001B[38;5;28;01melse\u001B[39;00m:\n\u001B[0;32m    109\u001B[0m     y \u001B[38;5;241m=\u001B[39m x \u001B[38;5;241m+\u001B[39m feat\u001B[38;5;241m.\u001B[39munsqueeze(\u001B[38;5;241m-\u001B[39m\u001B[38;5;241m1\u001B[39m)\u001B[38;5;241m.\u001B[39munsqueeze(\u001B[38;5;241m-\u001B[39m\u001B[38;5;241m1\u001B[39m)\n\u001B[1;32m--> 110\u001B[0m y \u001B[38;5;241m=\u001B[39m \u001B[38;5;28;43mself\u001B[39;49m\u001B[38;5;241;43m.\u001B[39;49m\u001B[43mconv\u001B[49m\u001B[43m(\u001B[49m\u001B[43my\u001B[49m\u001B[43m)\u001B[49m\n\u001B[0;32m    111\u001B[0m \u001B[38;5;28;01mreturn\u001B[39;00m y\n",
      "File \u001B[1;32m~\\.conda\\envs\\celldev\\lib\\site-packages\\torch\\nn\\modules\\module.py:1130\u001B[0m, in \u001B[0;36mModule._call_impl\u001B[1;34m(self, *input, **kwargs)\u001B[0m\n\u001B[0;32m   1126\u001B[0m \u001B[38;5;66;03m# If we don't have any hooks, we want to skip the rest of the logic in\u001B[39;00m\n\u001B[0;32m   1127\u001B[0m \u001B[38;5;66;03m# this function, and just call forward.\u001B[39;00m\n\u001B[0;32m   1128\u001B[0m \u001B[38;5;28;01mif\u001B[39;00m \u001B[38;5;129;01mnot\u001B[39;00m (\u001B[38;5;28mself\u001B[39m\u001B[38;5;241m.\u001B[39m_backward_hooks \u001B[38;5;129;01mor\u001B[39;00m \u001B[38;5;28mself\u001B[39m\u001B[38;5;241m.\u001B[39m_forward_hooks \u001B[38;5;129;01mor\u001B[39;00m \u001B[38;5;28mself\u001B[39m\u001B[38;5;241m.\u001B[39m_forward_pre_hooks \u001B[38;5;129;01mor\u001B[39;00m _global_backward_hooks\n\u001B[0;32m   1129\u001B[0m         \u001B[38;5;129;01mor\u001B[39;00m _global_forward_hooks \u001B[38;5;129;01mor\u001B[39;00m _global_forward_pre_hooks):\n\u001B[1;32m-> 1130\u001B[0m     \u001B[38;5;28;01mreturn\u001B[39;00m \u001B[43mforward_call\u001B[49m\u001B[43m(\u001B[49m\u001B[38;5;241;43m*\u001B[39;49m\u001B[38;5;28;43minput\u001B[39;49m\u001B[43m,\u001B[49m\u001B[43m \u001B[49m\u001B[38;5;241;43m*\u001B[39;49m\u001B[38;5;241;43m*\u001B[39;49m\u001B[43mkwargs\u001B[49m\u001B[43m)\u001B[49m\n\u001B[0;32m   1131\u001B[0m \u001B[38;5;66;03m# Do not call functions when jit is used\u001B[39;00m\n\u001B[0;32m   1132\u001B[0m full_backward_hooks, non_full_backward_hooks \u001B[38;5;241m=\u001B[39m [], []\n",
      "File \u001B[1;32m~\\.conda\\envs\\celldev\\lib\\site-packages\\torch\\nn\\modules\\container.py:139\u001B[0m, in \u001B[0;36mSequential.forward\u001B[1;34m(self, input)\u001B[0m\n\u001B[0;32m    137\u001B[0m \u001B[38;5;28;01mdef\u001B[39;00m \u001B[38;5;21mforward\u001B[39m(\u001B[38;5;28mself\u001B[39m, \u001B[38;5;28minput\u001B[39m):\n\u001B[0;32m    138\u001B[0m     \u001B[38;5;28;01mfor\u001B[39;00m module \u001B[38;5;129;01min\u001B[39;00m \u001B[38;5;28mself\u001B[39m:\n\u001B[1;32m--> 139\u001B[0m         \u001B[38;5;28minput\u001B[39m \u001B[38;5;241m=\u001B[39m \u001B[43mmodule\u001B[49m\u001B[43m(\u001B[49m\u001B[38;5;28;43minput\u001B[39;49m\u001B[43m)\u001B[49m\n\u001B[0;32m    140\u001B[0m     \u001B[38;5;28;01mreturn\u001B[39;00m \u001B[38;5;28minput\u001B[39m\n",
      "File \u001B[1;32m~\\.conda\\envs\\celldev\\lib\\site-packages\\torch\\nn\\modules\\module.py:1130\u001B[0m, in \u001B[0;36mModule._call_impl\u001B[1;34m(self, *input, **kwargs)\u001B[0m\n\u001B[0;32m   1126\u001B[0m \u001B[38;5;66;03m# If we don't have any hooks, we want to skip the rest of the logic in\u001B[39;00m\n\u001B[0;32m   1127\u001B[0m \u001B[38;5;66;03m# this function, and just call forward.\u001B[39;00m\n\u001B[0;32m   1128\u001B[0m \u001B[38;5;28;01mif\u001B[39;00m \u001B[38;5;129;01mnot\u001B[39;00m (\u001B[38;5;28mself\u001B[39m\u001B[38;5;241m.\u001B[39m_backward_hooks \u001B[38;5;129;01mor\u001B[39;00m \u001B[38;5;28mself\u001B[39m\u001B[38;5;241m.\u001B[39m_forward_hooks \u001B[38;5;129;01mor\u001B[39;00m \u001B[38;5;28mself\u001B[39m\u001B[38;5;241m.\u001B[39m_forward_pre_hooks \u001B[38;5;129;01mor\u001B[39;00m _global_backward_hooks\n\u001B[0;32m   1129\u001B[0m         \u001B[38;5;129;01mor\u001B[39;00m _global_forward_hooks \u001B[38;5;129;01mor\u001B[39;00m _global_forward_pre_hooks):\n\u001B[1;32m-> 1130\u001B[0m     \u001B[38;5;28;01mreturn\u001B[39;00m \u001B[43mforward_call\u001B[49m\u001B[43m(\u001B[49m\u001B[38;5;241;43m*\u001B[39;49m\u001B[38;5;28;43minput\u001B[39;49m\u001B[43m,\u001B[49m\u001B[43m \u001B[49m\u001B[38;5;241;43m*\u001B[39;49m\u001B[38;5;241;43m*\u001B[39;49m\u001B[43mkwargs\u001B[49m\u001B[43m)\u001B[49m\n\u001B[0;32m   1131\u001B[0m \u001B[38;5;66;03m# Do not call functions when jit is used\u001B[39;00m\n\u001B[0;32m   1132\u001B[0m full_backward_hooks, non_full_backward_hooks \u001B[38;5;241m=\u001B[39m [], []\n",
      "\u001B[1;31mRuntimeError\u001B[0m: The following operation failed in the TorchScript interpreter.\nTraceback of TorchScript (most recent call last):\n  File \"C:\\Users\\rz200\\.conda\\envs\\celldev\\lib\\site-packages\\torch\\utils\\mkldnn.py\", line 64, in forward\n    @torch.jit.script_method\n    def forward(self, x):\n        return torch.mkldnn_convolution(\n               ~~~~~~~~~~~~~~~~~~~~~~~~ <--- HERE\n            x,\n            self.weight,\nRuntimeError: [enforce fail at C:\\actions-runner\\_work\\pytorch\\pytorch\\builder\\windows\\pytorch\\c10\\core\\impl\\alloc_cpu.cpp:81] data. DefaultCPUAllocator: not enough memory: you tried to allocate 51380224 bytes.\n"
     ]
    }
   ],
   "source": [
    "#Store the images into a Pandas Dataframe\n",
    "#From the image IDs, I will launch this function and the one to make and store a dataframe (the cell under) since this should take 4 hours\n",
    "\n",
    "#import sys, importlib\n",
    "#importlib.reload(sys.modules['ccc_functions'])\n",
    "from ccc_functions import build_mega_cell_df\n",
    "\n",
    "import time\n",
    "start = time.time()\n",
    "model_dir = \"C:\\\\Users\\\\rz200\\\\Documents\\\\Development\\\\cell-SCT\\\\segmentation\\\\demo_train_test_data\\\\data_for_masks_training\\\\models\\\\demo_model\"\n",
    "df_mega = build_mega_cell_df(plate_images,model_dir)\n",
    "end = time.time()\n",
    "print(end - start)"
   ],
   "metadata": {
    "collapsed": false,
    "pycharm": {
     "name": "#%%\n"
    }
   }
  },
  {
   "cell_type": "code",
   "execution_count": null,
   "outputs": [],
   "source": [
    "#Save the dataframe to a csv file\n",
    "\n",
    "from pathlib import Path\n",
    "filepath = Path('C:\\\\Users\\\\rz200\\\\Documents\\\\Development\\\\cell-SCT\\\\classification\\\\saved_data\\\\td_822_1500.csv')\n",
    "filepath.parent.mkdir(parents=True, exist_ok=True)\n",
    "df_mega.to_csv(filepath) #should make this a function and also make a function to read the csv\n",
    "#and also add the loading bars"
   ],
   "metadata": {
    "collapsed": false,
    "pycharm": {
     "name": "#%%\n"
    }
   }
  },
  {
   "cell_type": "markdown",
   "source": [
    "## Explore the imported data\n",
    "\n",
    "Here we will look at the proportions of cell phases and how the thresholds were found to apply some of the cell cycle phase rules."
   ],
   "metadata": {
    "collapsed": false,
    "pycharm": {
     "name": "#%% md\n"
    }
   }
  },
  {
   "cell_type": "code",
   "execution_count": 11,
   "outputs": [
    {
     "name": "stdout",
     "output_type": "stream",
     "text": [
      "Total cells: 10838\n",
      "S phase: 39.8%\n",
      "G1 phase: 44.81%\n",
      "G2/M phase: 11.4%\n"
     ]
    }
   ],
   "source": [
    "#Get the proportions of cell phases\n",
    "\n",
    "from classification.ccc_functions import count_phases\n",
    "count_phases(df_mega)\n",
    "#TODO: add the pie chart here"
   ],
   "metadata": {
    "collapsed": false,
    "pycharm": {
     "name": "#%%\n"
    }
   }
  },
  {
   "cell_type": "code",
   "execution_count": 12,
   "outputs": [
    {
     "data": {
      "text/plain": "<Figure size 432x288 with 1 Axes>",
      "image/png": "[encoded data removed]"
     },
     "metadata": {
      "needs_background": "light"
     },
     "output_type": "display_data"
    },
    {
     "data": {
      "text/plain": "<Figure size 432x288 with 1 Axes>",
      "image/png": "[encoded data removed]"
     },
     "metadata": {
      "needs_background": "light"
     },
     "output_type": "display_data"
    }
   ],
   "source": [
    "#Display the EdU and Cyclin A2 thresholds here\n",
    "\n",
    "from classification.ccc_functions import build_one_cell_df,get_EdU_threshold\n",
    "import matplotlib.pyplot as plt\n",
    "\n",
    "#Get a dataframe for the first image\n",
    "df_one = build_one_cell_df(plate_images[0],model_dir)\n",
    "\n",
    "#Get the EdU threshold for it\n",
    "edu_threshold = get_EdU_threshold(df_one, 'edu_values')\n",
    "\n",
    "#Display the EdU vs DAPI plot\n",
    "edu_values = df_one['edu_values'].values\n",
    "dapi_values = df_one['dapi_values'].values\n",
    "plt.title('Displaying the EdU threshold from one image')\n",
    "plt.plot(dapi_values,edu_values,'o')\n",
    "plt.yscale('log')\n",
    "plt.xlabel('DAPI')\n",
    "plt.ylabel('EdU (log)')\n",
    "plt.axhline(y=edu_threshold, color='r', linestyle='-',label='EdU threshold')\n",
    "plt.legend()\n",
    "plt.savefig('EdUthresh.png')\n",
    "plt.show()\n",
    "\n",
    "#Get the Cyclin A2 threshold for it\n",
    "cyclina2_threshold = get_EdU_threshold(df_one, 'cyclina2_values')\n",
    "\n",
    "#Display the EdU vs DAPI plot\n",
    "cyclina2_values = df_one['cyclina2_values'].values\n",
    "dapi_values = df_one['dapi_values'].values\n",
    "plt.title('Displaying the Cyclin A2 threshold from one image')\n",
    "plt.plot(dapi_values,cyclina2_values,'o')\n",
    "#plt.yscale('log')\n",
    "plt.xlabel('DAPI')\n",
    "plt.ylabel('Cyclin A2')\n",
    "plt.axhline(y=cyclina2_threshold, color='g', linestyle='-',label='Cyclin A2 threshold')\n",
    "plt.legend()\n",
    "plt.savefig('CyclinA2thresh.png')\n",
    "plt.show()"
   ],
   "metadata": {
    "collapsed": false,
    "pycharm": {
     "name": "#%%\n"
    }
   }
  },
  {
   "cell_type": "markdown",
   "source": [
    "## Formatting the data for the CNN\n",
    "\n",
    "Note: tutorial we're following now for the CNN:https://medium.com/thecyphy/train-cnn-model-with-pytorch-21dafb918f48"
   ],
   "metadata": {
    "collapsed": false,
    "pycharm": {
     "name": "#%% md\n"
    }
   }
  },
  {
   "cell_type": "code",
   "execution_count": 14,
   "outputs": [],
   "source": [
    "#I would like for this to eventually become the actual data we turn into tensors to train the CNN\n",
    "#This is becasue not everyone may have the space to store every image on their computer, especially as pngs, especially when we have 1 million cells\n",
    "#This is an important step before improving the CNN I think\n",
    "def get_training_data(df):\n",
    "\n",
    "    pcna_images = df['pcna_crops'].values\n",
    "\n",
    "    cycle_phase_encodings = []\n",
    "    for i in range(len(df['S_Phase'])):\n",
    "        encoding_arr = []\n",
    "        if df['G1_Phase'][i]: encoding_arr.append(1)\n",
    "        else: encoding_arr.append(0)\n",
    "\n",
    "        if df['S_Phase'][i]: encoding_arr.append(1)\n",
    "        else: encoding_arr.append(0)\n",
    "\n",
    "        if df['G2_M_Phase'][i]: encoding_arr.append(1)\n",
    "        else: encoding_arr.append(0)\n",
    "\n",
    "        cycle_phase_encodings.append(encoding_arr)\n",
    "\n",
    "    training_data = []\n",
    "    for j in range(len(pcna_images)):\n",
    "        training_data.append((pcna_images[j],cycle_phase_encodings[j]))\n",
    "\n",
    "    training_data = np.array(training_data,dtype=object)\n",
    "\n",
    "    return training_data\n",
    "\n",
    "training_data = get_training_data(df_mega)\n",
    "print(training_data.shape)"
   ],
   "metadata": {
    "collapsed": false,
    "pycharm": {
     "name": "#%%\n"
    }
   }
  },
  {
   "cell_type": "code",
   "execution_count": 168,
   "outputs": [],
   "source": [
    "#Here we store the images into directories according to if they are training or testing and their cell cycle phase\n",
    "#This is a temporary solution until we figure out how to, straight from the numpy arrays, make the PyTorch CNN\n",
    "#It works straight from the dataframe which is nice, there should be an option to do it from an imported dataframe as that's what we'll most likely need in the future\n",
    "\n",
    "import shutil\n",
    "import os\n",
    "\n",
    "def sort_training_and_testing_data(df,test_size=0.2):\n",
    "    shutil.rmtree('C:\\\\Users\\\\rz200\\\\Documents\\\\Development\\\\cell-SCT\\\\classification\\data')\n",
    "\n",
    "    #create a new dataframe where we shuffle the rows\n",
    "    df_shuffled = np.copy(df)\n",
    "    df_shuffled = df.sample(frac=1).reset_index(drop=True) #we could keep the index to keep for the cell names so its consistent with the first dataframe, would hepl later on\n",
    "\n",
    "    #create a new column in that dataframe called 'ground_truth'\n",
    "    #for each row, if there is one True phase, that's the ground_truth\n",
    "    #if there are no True phase or more than two, the ground_truth is 'unclassified' for now\n",
    "    cycle_phase_encodings = []\n",
    "    for i in range(len(df_shuffled['S_Phase'])):\n",
    "        encoding_arr = []\n",
    "        if df_shuffled['G1_Phase'][i]: encoding_arr.append('g1_phase')\n",
    "        #else: encoding_arr.append(0)\n",
    "\n",
    "        if df_shuffled['S_Phase'][i]: encoding_arr.append('s_phase')\n",
    "        #else: encoding_arr.append(0)\n",
    "\n",
    "        if df_shuffled['G2_M_Phase'][i]: encoding_arr.append('g2_m_phase')\n",
    "        #else: encoding_arr.append(0)\n",
    "\n",
    "        if len(encoding_arr) != 1: encoding_arr = ['unclassified']\n",
    "\n",
    "        cycle_phase_encodings.append(encoding_arr)\n",
    "\n",
    "    df_shuffled['ground_truth'] = cycle_phase_encodings\n",
    "\n",
    "    #create a data directory\n",
    "    os.mkdir('C:\\\\Users\\\\rz200\\\\Documents\\\\Development\\\\cell-SCT\\\\classification\\\\data')\n",
    "\n",
    "    os.mkdir('C:\\\\Users\\\\rz200\\\\Documents\\\\Development\\\\cell-SCT\\\\classification\\\\data\\\\training_data')\n",
    "    os.mkdir('C:\\\\Users\\\\rz200\\\\Documents\\\\Development\\\\cell-SCT\\\\classification\\\\data\\\\training_data\\\\g1_phase')\n",
    "    os.mkdir('C:\\\\Users\\\\rz200\\\\Documents\\\\Development\\\\cell-SCT\\\\classification\\\\data\\\\training_data\\\\s_phase')\n",
    "    os.mkdir('C:\\\\Users\\\\rz200\\\\Documents\\\\Development\\\\cell-SCT\\\\classification\\\\data\\\\training_data\\\\g2_m_phase')\n",
    "\n",
    "    os.mkdir('C:\\\\Users\\\\rz200\\\\Documents\\\\Development\\\\cell-SCT\\\\classification\\\\data\\\\testing_data')\n",
    "    os.mkdir('C:\\\\Users\\\\rz200\\\\Documents\\\\Development\\\\cell-SCT\\\\classification\\\\data\\\\testing_data\\\\g1_phase')\n",
    "    os.mkdir('C:\\\\Users\\\\rz200\\\\Documents\\\\Development\\\\cell-SCT\\\\classification\\\\data\\\\testing_data\\\\s_phase')\n",
    "    os.mkdir('C:\\\\Users\\\\rz200\\\\Documents\\\\Development\\\\cell-SCT\\\\classification\\\\data\\\\testing_data\\\\g2_m_phase')\n",
    "\n",
    "    #take the first 1-test_size (0.8) and put them in the train folders\n",
    "    #create a training_data directory inside the data directory\n",
    "    #create an s_phase, g1_phase and g2_m_phase directories in there\n",
    "    #for each row in the first 0.8 of the dataframe, put the EdU numpy arrays in the corresponding folders\n",
    "    last_train_row = round(len(df_shuffled.index)*(1-test_size))\n",
    "    for i in range(last_train_row):\n",
    "        name = 'cell_' + str(i)\n",
    "        if df_shuffled['ground_truth'][i] == ['g1_phase']:\n",
    "            path = 'C:\\\\Users\\\\rz200\\\\Documents\\\\Development\\\\cell-SCT\\\\classification\\\\data\\\\training_data\\\\g1_phase\\\\' + name + '.png'\n",
    "            plt.imsave(path,df_shuffled['pcna_crops'][i])\n",
    "\n",
    "        elif df_shuffled['ground_truth'][i] == ['s_phase']:\n",
    "            path = 'C:\\\\Users\\\\rz200\\\\Documents\\\\Development\\\\cell-SCT\\\\classification\\\\data\\\\training_data\\\\s_phase\\\\' + name + '.png'\n",
    "            plt.imsave(path,df_shuffled['pcna_crops'][i])\n",
    "\n",
    "        elif df_shuffled['ground_truth'][i] == ['g2_m_phase']:\n",
    "            path = 'C:\\\\Users\\\\rz200\\\\Documents\\\\Development\\\\cell-SCT\\\\classification\\\\data\\\\training_data\\\\g2_m_phase\\\\' + name + '.png'\n",
    "            plt.imsave(path,df_shuffled['pcna_crops'][i])\n",
    "\n",
    "    #do the same for the testing data\n",
    "    for i in range(last_train_row,len(df.index)):\n",
    "        name = 'cell_' + str(i)\n",
    "        if df_shuffled['ground_truth'][i] == ['g1_phase']:\n",
    "            path = 'C:\\\\Users\\\\rz200\\\\Documents\\\\Development\\\\cell-SCT\\\\classification\\\\data\\\\testing_data\\\\g1_phase\\\\' + name + '.png'\n",
    "            plt.imsave(path,df_shuffled['pcna_crops'][i])\n",
    "\n",
    "        elif df_shuffled['ground_truth'][i] == ['s_phase']:\n",
    "            path = 'C:\\\\Users\\\\rz200\\\\Documents\\\\Development\\\\cell-SCT\\\\classification\\\\data\\\\testing_data\\\\s_phase\\\\' + name + '.png'\n",
    "            plt.imsave(path,df_shuffled['pcna_crops'][i])\n",
    "\n",
    "        elif df_shuffled['ground_truth'][i] == ['g2_m_phase']:\n",
    "            path = 'C:\\\\Users\\\\rz200\\\\Documents\\\\Development\\\\cell-SCT\\\\classification\\\\data\\\\testing_data\\\\g2_m_phase\\\\' + name + '.png'\n",
    "            plt.imsave(path,df_shuffled['pcna_crops'][i])\n",
    "\n",
    "    #no need to return anything\n",
    "\n",
    "sort_training_and_testing_data(df_mega)"
   ],
   "metadata": {
    "collapsed": false,
    "pycharm": {
     "name": "#%%\n"
    }
   }
  },
  {
   "cell_type": "code",
   "execution_count": 170,
   "outputs": [],
   "source": [
    "#Loading the images into tensor datasets\n",
    "\n",
    "import torch\n",
    "import torchvision\n",
    "from torchvision import transforms\n",
    "from torchvision.datasets import ImageFolder\n",
    "\n",
    "\n",
    "#train and test data directory\n",
    "data_dir = \"C:\\\\Users\\\\rz200\\\\Documents\\\\Development\\\\cell-SCT\\\\classification\\\\data\\\\training_data\"\n",
    "test_data_dir = \"C:\\\\Users\\\\rz200\\\\Documents\\\\Development\\\\cell-SCT\\\\classification\\\\data\\\\testing_data\"\n",
    "\n",
    "\n",
    "#load the train and test data\n",
    "data_transform = transforms.Compose([transforms.Grayscale(num_output_channels=1),\n",
    "                                     transforms.Resize((60,60)),\n",
    "                                     transforms.ToTensor()\n",
    "                                     ])\n",
    "dataset = ImageFolder(data_dir,transform = data_transform)\n",
    "test_dataset = ImageFolder(test_data_dir,transform = data_transform)"
   ],
   "metadata": {
    "collapsed": false,
    "pycharm": {
     "name": "#%%\n"
    }
   }
  },
  {
   "cell_type": "code",
   "execution_count": null,
   "outputs": [],
   "source": [
    "#Turning the training dataset into dataloaders\n",
    "\n",
    "from torch.utils.data.dataloader import DataLoader\n",
    "from torch.utils.data import random_split\n",
    "\n",
    "batch_size = 128\n",
    "val_size = 2000\n",
    "train_size = len(dataset) - val_size\n",
    "\n",
    "train_data,val_data = random_split(dataset,[train_size,val_size])\n",
    "print(f\"Length of Train Data : {len(train_data)}\")\n",
    "print(f\"Length of Validation Data : {len(val_data)}\")\n",
    "\n",
    "#load the train and validation into batches.\n",
    "train_dl = DataLoader(train_data, batch_size, shuffle = True, num_workers = 4, pin_memory = True)\n",
    "val_dl = DataLoader(val_data, batch_size*2, num_workers = 4, pin_memory = True)"
   ],
   "metadata": {
    "collapsed": false,
    "pycharm": {
     "name": "#%%\n"
    }
   }
  },
  {
   "cell_type": "code",
   "execution_count": 172,
   "outputs": [
    {
     "name": "stdout",
     "output_type": "stream",
     "text": [
      "Label : g1_phase\n"
     ]
    },
    {
     "data": {
      "text/plain": "<Figure size 432x288 with 1 Axes>",
      "image/png": "[encoded data removed]"
     },
     "metadata": {
      "needs_background": "light"
     },
     "output_type": "display_data"
    },
    {
     "name": "stdout",
     "output_type": "stream",
     "text": [
      "Label : g1_phase\n"
     ]
    },
    {
     "data": {
      "text/plain": "<Figure size 432x288 with 1 Axes>",
      "image/png": "[encoded data removed]"
     },
     "metadata": {
      "needs_background": "light"
     },
     "output_type": "display_data"
    }
   ],
   "source": [
    "#These functions display the images\n",
    "\n",
    "def display_img(img,label):\n",
    "    print(f\"Label : {dataset.classes[label]}\")\n",
    "    plt.imshow(img.permute(1,2,0));plt.show()\n",
    "\n",
    "from torchvision.utils import make_grid\n",
    "import matplotlib.pyplot as plt\n",
    "\n",
    "def show_batch(dl):\n",
    "    \"\"\"Plot images grid of single batch\"\"\"\n",
    "    for images, labels in dl:\n",
    "        fig,ax = plt.subplots(figsize = (16,12))\n",
    "        ax.set_xticks([])\n",
    "        ax.set_yticks([])\n",
    "        ax.imshow(make_grid(images,nrow=16).permute(1,2,0))\n",
    "        break\n",
    "\n",
    "show_batch(train_dl)\n",
    "\n",
    "for i in range(2):\n",
    "    display_img(*dataset[i])"
   ],
   "metadata": {
    "collapsed": false,
    "pycharm": {
     "name": "#%%\n"
    }
   }
  },
  {
   "cell_type": "markdown",
   "source": [
    "## Building the CNN"
   ],
   "metadata": {
    "collapsed": false,
    "pycharm": {
     "name": "#%% md\n"
    }
   }
  },
  {
   "cell_type": "code",
   "execution_count": 143,
   "outputs": [],
   "source": [
    "# I will keep these functions for now but I think I can delete them\n",
    "# I don't think I use them later on in my data\n",
    "\n",
    "import torch.nn as nn\n",
    "import torch.nn.functional as F\n",
    "\n",
    "class ImageClassificationBase(nn.Module):\n",
    "\n",
    "    def training_step(self, batch):\n",
    "        images, labels = batch\n",
    "        out = self(images)                  # Generate predictions\n",
    "        loss = F.cross_entropy(out, labels) # Calculate loss\n",
    "        return loss\n",
    "\n",
    "    def validation_step(self, batch):\n",
    "        images, labels = batch\n",
    "        out = self(images)                    # Generate predictions\n",
    "        loss = F.cross_entropy(out, labels)   # Calculate loss\n",
    "        acc = accuracy(out, labels)           # Calculate accuracy\n",
    "        return {'val_loss': loss.detach(), 'val_acc': acc}\n",
    "\n",
    "    def validation_epoch_end(self, outputs):\n",
    "        batch_losses = [x['val_loss'] for x in outputs]\n",
    "        epoch_loss = torch.stack(batch_losses).mean()   # Combine losses\n",
    "        batch_accs = [x['val_acc'] for x in outputs]\n",
    "        epoch_acc = torch.stack(batch_accs).mean()      # Combine accuracies\n",
    "        return {'val_loss': epoch_loss.item(), 'val_acc': epoch_acc.item()}\n",
    "\n",
    "    def epoch_end(self, epoch, result):\n",
    "        print(\"Epoch [{}], train_loss: {:.4f}, val_loss: {:.4f}, val_acc: {:.4f}\".format(\n",
    "            epoch, result['train_loss'], result['val_loss'], result['val_acc']))"
   ],
   "metadata": {
    "collapsed": false,
    "pycharm": {
     "name": "#%%\n"
    }
   }
  },
  {
   "cell_type": "code",
   "execution_count": 226,
   "outputs": [],
   "source": [
    "# This is our actual CNN's layers, its architecture\n",
    "\n",
    "class CNN(nn.Module):\n",
    "    def __init__(self):\n",
    "        super(CNN, self).__init__()\n",
    "        self.layer1 = nn.Sequential(\n",
    "            nn.Conv2d(1, 16, kernel_size=5, padding=2),\n",
    "            nn.BatchNorm2d(16),\n",
    "            nn.ReLU(),\n",
    "            nn.MaxPool2d(2))\n",
    "        self.layer2 = nn.Sequential(\n",
    "            nn.Conv2d(16, 32, kernel_size=5, padding=2),\n",
    "            nn.BatchNorm2d(32),\n",
    "            nn.ReLU(),\n",
    "            nn.MaxPool2d(2))\n",
    "        self.fc = nn.Linear(15*15*32, 3)\n",
    "\n",
    "    def forward(self, x):\n",
    "        out = self.layer1(x)\n",
    "        out = self.layer2(out)\n",
    "        out = out.view(out.size(0), -1)\n",
    "        out = self.fc(out)\n",
    "        return out"
   ],
   "metadata": {
    "collapsed": false,
    "pycharm": {
     "name": "#%%\n"
    }
   }
  },
  {
   "cell_type": "markdown",
   "source": [
    "## Training the CNN"
   ],
   "metadata": {
    "collapsed": false,
    "pycharm": {
     "name": "#%% md\n"
    }
   }
  },
  {
   "cell_type": "code",
   "execution_count": 241,
   "outputs": [],
   "source": [
    "#instance of the Conv Net\n",
    "learning_rate = 0.001\n",
    "cnn = CNN();\n",
    "#loss function and optimizer\n",
    "criterion = nn.CrossEntropyLoss();\n",
    "optimizer = torch.optim.Adam(cnn.parameters(), lr=learning_rate);"
   ],
   "metadata": {
    "collapsed": false,
    "pycharm": {
     "name": "#%%\n"
    }
   }
  },
  {
   "cell_type": "code",
   "execution_count": 242,
   "outputs": [
    {
     "name": "stdout",
     "output_type": "stream",
     "text": [
      "Epoch : 1/3, Iter : 1/49,  Loss: 1.1167\n",
      "Epoch : 1/3, Iter : 2/49,  Loss: 4.4277\n",
      "Epoch : 1/3, Iter : 3/49,  Loss: 2.2402\n",
      "Epoch : 1/3, Iter : 4/49,  Loss: 2.1252\n",
      "Epoch : 1/3, Iter : 5/49,  Loss: 2.3789\n",
      "Epoch : 1/3, Iter : 6/49,  Loss: 2.4988\n",
      "Epoch : 1/3, Iter : 7/49,  Loss: 1.4950\n",
      "Epoch : 1/3, Iter : 8/49,  Loss: 1.3316\n",
      "Epoch : 1/3, Iter : 9/49,  Loss: 1.9288\n",
      "Epoch : 1/3, Iter : 10/49,  Loss: 2.3842\n",
      "Epoch : 1/3, Iter : 11/49,  Loss: 1.2652\n",
      "Epoch : 1/3, Iter : 12/49,  Loss: 1.2748\n",
      "Epoch : 1/3, Iter : 13/49,  Loss: 1.2354\n",
      "Epoch : 1/3, Iter : 14/49,  Loss: 1.1277\n",
      "Epoch : 1/3, Iter : 15/49,  Loss: 1.4567\n",
      "Epoch : 1/3, Iter : 16/49,  Loss: 1.3188\n",
      "Epoch : 1/3, Iter : 17/49,  Loss: 1.2687\n",
      "Epoch : 1/3, Iter : 18/49,  Loss: 0.9563\n",
      "Epoch : 1/3, Iter : 19/49,  Loss: 1.1248\n",
      "Epoch : 1/3, Iter : 20/49,  Loss: 1.2493\n",
      "Epoch : 1/3, Iter : 21/49,  Loss: 1.1141\n",
      "Epoch : 1/3, Iter : 22/49,  Loss: 1.0863\n",
      "Epoch : 1/3, Iter : 23/49,  Loss: 0.8135\n",
      "Epoch : 1/3, Iter : 24/49,  Loss: 0.9169\n",
      "Epoch : 1/3, Iter : 25/49,  Loss: 0.9607\n",
      "Epoch : 1/3, Iter : 26/49,  Loss: 0.9996\n",
      "Epoch : 1/3, Iter : 27/49,  Loss: 0.9350\n",
      "Epoch : 1/3, Iter : 28/49,  Loss: 0.8475\n",
      "Epoch : 1/3, Iter : 29/49,  Loss: 0.7313\n",
      "Epoch : 1/3, Iter : 30/49,  Loss: 0.9594\n",
      "Epoch : 1/3, Iter : 31/49,  Loss: 0.8898\n",
      "Epoch : 1/3, Iter : 32/49,  Loss: 0.7233\n",
      "Epoch : 1/3, Iter : 33/49,  Loss: 0.8848\n",
      "Epoch : 1/3, Iter : 34/49,  Loss: 0.7230\n",
      "Epoch : 1/3, Iter : 35/49,  Loss: 0.8312\n",
      "Epoch : 1/3, Iter : 36/49,  Loss: 0.7782\n",
      "Epoch : 1/3, Iter : 37/49,  Loss: 0.9084\n",
      "Epoch : 1/3, Iter : 38/49,  Loss: 0.8331\n",
      "Epoch : 1/3, Iter : 39/49,  Loss: 0.8480\n",
      "Epoch : 1/3, Iter : 40/49,  Loss: 0.7151\n",
      "Epoch : 1/3, Iter : 41/49,  Loss: 0.6778\n",
      "Epoch : 1/3, Iter : 42/49,  Loss: 0.6868\n",
      "Epoch : 1/3, Iter : 43/49,  Loss: 0.8062\n",
      "Epoch : 1/3, Iter : 44/49,  Loss: 0.6814\n",
      "Epoch : 1/3, Iter : 45/49,  Loss: 0.8292\n",
      "Epoch : 1/3, Iter : 46/49,  Loss: 0.8140\n",
      "Epoch : 1/3, Iter : 47/49,  Loss: 0.8172\n",
      "Epoch : 1/3, Iter : 48/49,  Loss: 0.6884\n",
      "Epoch : 1/3, Iter : 49/49,  Loss: 0.6124\n",
      "Epoch : 1/3, Iter : 50/49,  Loss: 0.5152\n",
      "Epoch : 2/3, Iter : 1/49,  Loss: 0.6866\n",
      "Epoch : 2/3, Iter : 2/49,  Loss: 0.6366\n",
      "Epoch : 2/3, Iter : 3/49,  Loss: 0.6411\n",
      "Epoch : 2/3, Iter : 4/49,  Loss: 0.6906\n",
      "Epoch : 2/3, Iter : 5/49,  Loss: 0.5591\n",
      "Epoch : 2/3, Iter : 6/49,  Loss: 0.6925\n",
      "Epoch : 2/3, Iter : 7/49,  Loss: 0.6436\n",
      "Epoch : 2/3, Iter : 8/49,  Loss: 0.7239\n",
      "Epoch : 2/3, Iter : 9/49,  Loss: 0.5802\n",
      "Epoch : 2/3, Iter : 10/49,  Loss: 0.7601\n",
      "Epoch : 2/3, Iter : 11/49,  Loss: 0.6259\n",
      "Epoch : 2/3, Iter : 12/49,  Loss: 0.6222\n",
      "Epoch : 2/3, Iter : 13/49,  Loss: 0.7245\n",
      "Epoch : 2/3, Iter : 14/49,  Loss: 0.6341\n",
      "Epoch : 2/3, Iter : 15/49,  Loss: 0.7221\n",
      "Epoch : 2/3, Iter : 16/49,  Loss: 0.6066\n",
      "Epoch : 2/3, Iter : 17/49,  Loss: 0.8031\n",
      "Epoch : 2/3, Iter : 18/49,  Loss: 0.6970\n",
      "Epoch : 2/3, Iter : 19/49,  Loss: 0.6460\n",
      "Epoch : 2/3, Iter : 20/49,  Loss: 0.7144\n",
      "Epoch : 2/3, Iter : 21/49,  Loss: 0.6376\n",
      "Epoch : 2/3, Iter : 22/49,  Loss: 0.6428\n",
      "Epoch : 2/3, Iter : 23/49,  Loss: 0.5954\n",
      "Epoch : 2/3, Iter : 24/49,  Loss: 0.6684\n",
      "Epoch : 2/3, Iter : 25/49,  Loss: 0.6046\n",
      "Epoch : 2/3, Iter : 26/49,  Loss: 0.6538\n",
      "Epoch : 2/3, Iter : 27/49,  Loss: 0.6548\n",
      "Epoch : 2/3, Iter : 28/49,  Loss: 0.7076\n",
      "Epoch : 2/3, Iter : 29/49,  Loss: 0.6020\n",
      "Epoch : 2/3, Iter : 30/49,  Loss: 0.6223\n",
      "Epoch : 2/3, Iter : 31/49,  Loss: 0.6158\n",
      "Epoch : 2/3, Iter : 32/49,  Loss: 0.6147\n",
      "Epoch : 2/3, Iter : 33/49,  Loss: 0.6900\n",
      "Epoch : 2/3, Iter : 34/49,  Loss: 0.7440\n",
      "Epoch : 2/3, Iter : 35/49,  Loss: 0.5417\n",
      "Epoch : 2/3, Iter : 36/49,  Loss: 0.7425\n",
      "Epoch : 2/3, Iter : 37/49,  Loss: 0.7190\n",
      "Epoch : 2/3, Iter : 38/49,  Loss: 0.6458\n",
      "Epoch : 2/3, Iter : 39/49,  Loss: 0.7200\n",
      "Epoch : 2/3, Iter : 40/49,  Loss: 0.7532\n",
      "Epoch : 2/3, Iter : 41/49,  Loss: 0.7805\n",
      "Epoch : 2/3, Iter : 42/49,  Loss: 0.5939\n",
      "Epoch : 2/3, Iter : 43/49,  Loss: 0.6693\n",
      "Epoch : 2/3, Iter : 44/49,  Loss: 0.6147\n",
      "Epoch : 2/3, Iter : 45/49,  Loss: 0.7054\n",
      "Epoch : 2/3, Iter : 46/49,  Loss: 0.7242\n",
      "Epoch : 2/3, Iter : 47/49,  Loss: 0.5809\n",
      "Epoch : 2/3, Iter : 48/49,  Loss: 0.5235\n",
      "Epoch : 2/3, Iter : 49/49,  Loss: 0.5883\n",
      "Epoch : 2/3, Iter : 50/49,  Loss: 0.7434\n",
      "Epoch : 3/3, Iter : 1/49,  Loss: 0.6135\n",
      "Epoch : 3/3, Iter : 2/49,  Loss: 0.6226\n",
      "Epoch : 3/3, Iter : 3/49,  Loss: 0.5542\n",
      "Epoch : 3/3, Iter : 4/49,  Loss: 0.5209\n",
      "Epoch : 3/3, Iter : 5/49,  Loss: 0.6282\n",
      "Epoch : 3/3, Iter : 6/49,  Loss: 0.6028\n",
      "Epoch : 3/3, Iter : 7/49,  Loss: 0.7244\n",
      "Epoch : 3/3, Iter : 8/49,  Loss: 0.5279\n",
      "Epoch : 3/3, Iter : 9/49,  Loss: 0.6414\n",
      "Epoch : 3/3, Iter : 10/49,  Loss: 0.5786\n",
      "Epoch : 3/3, Iter : 11/49,  Loss: 0.5681\n",
      "Epoch : 3/3, Iter : 12/49,  Loss: 0.6353\n",
      "Epoch : 3/3, Iter : 13/49,  Loss: 0.6648\n",
      "Epoch : 3/3, Iter : 14/49,  Loss: 0.5169\n",
      "Epoch : 3/3, Iter : 15/49,  Loss: 0.5468\n",
      "Epoch : 3/3, Iter : 16/49,  Loss: 0.7652\n",
      "Epoch : 3/3, Iter : 17/49,  Loss: 0.6247\n",
      "Epoch : 3/3, Iter : 18/49,  Loss: 0.6368\n",
      "Epoch : 3/3, Iter : 19/49,  Loss: 0.5872\n",
      "Epoch : 3/3, Iter : 20/49,  Loss: 0.5313\n",
      "Epoch : 3/3, Iter : 21/49,  Loss: 0.5442\n",
      "Epoch : 3/3, Iter : 22/49,  Loss: 0.5855\n",
      "Epoch : 3/3, Iter : 23/49,  Loss: 0.6023\n",
      "Epoch : 3/3, Iter : 24/49,  Loss: 0.6657\n",
      "Epoch : 3/3, Iter : 25/49,  Loss: 0.5717\n",
      "Epoch : 3/3, Iter : 26/49,  Loss: 0.7792\n",
      "Epoch : 3/3, Iter : 27/49,  Loss: 0.7173\n",
      "Epoch : 3/3, Iter : 28/49,  Loss: 0.6851\n",
      "Epoch : 3/3, Iter : 29/49,  Loss: 0.6644\n",
      "Epoch : 3/3, Iter : 30/49,  Loss: 0.7347\n",
      "Epoch : 3/3, Iter : 31/49,  Loss: 0.5682\n",
      "Epoch : 3/3, Iter : 32/49,  Loss: 0.5324\n",
      "Epoch : 3/3, Iter : 33/49,  Loss: 0.6107\n",
      "Epoch : 3/3, Iter : 34/49,  Loss: 0.6801\n",
      "Epoch : 3/3, Iter : 35/49,  Loss: 0.8212\n",
      "Epoch : 3/3, Iter : 36/49,  Loss: 0.6386\n",
      "Epoch : 3/3, Iter : 37/49,  Loss: 0.6526\n",
      "Epoch : 3/3, Iter : 38/49,  Loss: 0.6241\n",
      "Epoch : 3/3, Iter : 39/49,  Loss: 0.6486\n",
      "Epoch : 3/3, Iter : 40/49,  Loss: 0.5180\n",
      "Epoch : 3/3, Iter : 41/49,  Loss: 0.5561\n",
      "Epoch : 3/3, Iter : 42/49,  Loss: 0.6054\n",
      "Epoch : 3/3, Iter : 43/49,  Loss: 0.7460\n",
      "Epoch : 3/3, Iter : 44/49,  Loss: 0.6494\n",
      "Epoch : 3/3, Iter : 45/49,  Loss: 0.5997\n",
      "Epoch : 3/3, Iter : 46/49,  Loss: 0.4930\n",
      "Epoch : 3/3, Iter : 47/49,  Loss: 0.6571\n",
      "Epoch : 3/3, Iter : 48/49,  Loss: 0.6458\n",
      "Epoch : 3/3, Iter : 49/49,  Loss: 0.6144\n",
      "Epoch : 3/3, Iter : 50/49,  Loss: 0.7071\n"
     ]
    }
   ],
   "source": [
    "from torch.autograd import Variable\n",
    "losses = [];\n",
    "num_epochs = 3\n",
    "for epoch in range(num_epochs):\n",
    "    for i, (images, labels) in enumerate(train_dl):\n",
    "        images = Variable(images.float())\n",
    "        labels = Variable(labels)\n",
    "\n",
    "        # Forward + Backward + Optimize\n",
    "        optimizer.zero_grad()\n",
    "        outputs = cnn(images)\n",
    "        loss = criterion(outputs, labels)\n",
    "        loss.backward()\n",
    "        optimizer.step()\n",
    "\n",
    "        losses.append(loss.data);\n",
    "\n",
    "        #if (i+1) % 100 == 0:\n",
    "        print ('Epoch : %d/%d, Iter : %d/%d,  Loss: %.4f'\n",
    "                   %(epoch+1, num_epochs, i+1, len(train_data)//batch_size, loss.data))"
   ],
   "metadata": {
    "collapsed": false,
    "pycharm": {
     "name": "#%%\n"
    }
   }
  },
  {
   "cell_type": "markdown",
   "source": [
    "## Evaluating the CNN"
   ],
   "metadata": {
    "collapsed": false,
    "pycharm": {
     "name": "#%% md\n"
    }
   }
  },
  {
   "cell_type": "code",
   "execution_count": 243,
   "outputs": [
    {
     "data": {
      "text/plain": "<Figure size 640x480 with 1 Axes>",
      "image/png": "[encoded data removed]"
     },
     "metadata": {},
     "output_type": "display_data"
    }
   ],
   "source": [
    "#losses_in_epochs = losses[0::600]\n",
    "#plt.xkcd();\n",
    "import matplotlib.pyplot as plt\n",
    "plt.rcdefaults()\n",
    "plt.xlabel('Epoch #');\n",
    "plt.ylabel('Loss');\n",
    "plt.plot(losses);\n",
    "plt.show();"
   ],
   "metadata": {
    "collapsed": false,
    "pycharm": {
     "name": "#%%\n"
    }
   }
  },
  {
   "cell_type": "code",
   "execution_count": 247,
   "outputs": [
    {
     "name": "stdout",
     "output_type": "stream",
     "text": [
      "Test Accuracy of the model on the 10000 test images: 54.2000 %\n"
     ]
    }
   ],
   "source": [
    "cnn.eval()\n",
    "correct = 0\n",
    "total = 0\n",
    "for images, labels in val_dl:\n",
    "    images = Variable(images.float())\n",
    "    outputs = cnn(images)\n",
    "    _, predicted = torch.max(outputs.data, 1)\n",
    "    total += labels.size(0)\n",
    "    correct += (predicted == labels).sum()\n",
    "print('Test Accuracy of the model on the 10000 test images: %.4f %%' % (100 * correct / total))"
   ],
   "metadata": {
    "collapsed": false,
    "pycharm": {
     "name": "#%%\n"
    }
   }
  },
  {
   "cell_type": "code",
   "execution_count": 254,
   "outputs": [
    {
     "name": "stdout",
     "output_type": "stream",
     "text": [
      "tensor([0.2392, 0.2431, 0.2471, 0.2235, 0.1804, 0.1686, 0.1882, 0.2118, 0.2353,\n",
      "        0.2627, 0.2941, 0.3059, 0.2941, 0.2824, 0.2627, 0.2627, 0.2863, 0.2941,\n",
      "        0.2824, 0.2588, 0.2235, 0.2353, 0.2980, 0.3294, 0.3255, 0.2980, 0.2510,\n",
      "        0.2314, 0.2353, 0.2510, 0.2745, 0.2863, 0.2824, 0.2706, 0.2549, 0.2667,\n",
      "        0.3098, 0.3137, 0.2784, 0.2588, 0.2549, 0.2627, 0.2824, 0.2941, 0.3059,\n",
      "        0.3098, 0.3059, 0.2980, 0.2824, 0.2588, 0.2235, 0.2039, 0.2000, 0.2078,\n",
      "        0.2196, 0.2353, 0.2549, 0.2549, 0.2353, 0.2275])\n"
     ]
    }
   ],
   "source": [
    "print(test_dataset[0][0][0])"
   ],
   "metadata": {
    "collapsed": false,
    "pycharm": {
     "name": "#%%\n"
    }
   }
  },
  {
   "cell_type": "code",
   "execution_count": 266,
   "outputs": [
    {
     "name": "stdout",
     "output_type": "stream",
     "text": [
      "1083\n",
      "Accuracy: 51.59599809433063%\n"
     ]
    }
   ],
   "source": [
    "total = len(test_dataset)\n",
    "num_correct = 0\n",
    "\n",
    "for i in range(len(test_dataset)):\n",
    "\n",
    "    with torch.no_grad():\n",
    "        # Retrieve item\n",
    "        index = i\n",
    "        item = test_dataset[index]\n",
    "        image = item[0].unsqueeze(0)\n",
    "        true_target = item[1]\n",
    "\n",
    "        # Generate prediction\n",
    "        prediction = cnn(image)\n",
    "\n",
    "        # Predicted class value using argmax\n",
    "        predicted_class = np.argmax(prediction)\n",
    "\n",
    "        if predicted_class == true_target: num_correct += 1\n",
    "print(num_correct)\n",
    "perc = num_correct*100/total\n",
    "print('Accuracy: ' + str(perc) + '%')"
   ],
   "metadata": {
    "collapsed": false,
    "pycharm": {
     "name": "#%%\n"
    }
   }
  },
  {
   "cell_type": "markdown",
   "source": [
    "## Archive/To sort\n",
    "\n",
    "Here are some functions that I used earlier and need to have a look through to know if I still need them or not.\n",
    "I don't want to delete them but they are not particularly useful."
   ],
   "metadata": {
    "collapsed": false,
    "pycharm": {
     "name": "#%% md\n"
    }
   }
  },
  {
   "cell_type": "code",
   "execution_count": 33,
   "outputs": [
    {
     "ename": "NameError",
     "evalue": "name 'df' is not defined",
     "output_type": "error",
     "traceback": [
      "\u001B[1;31m---------------------------------------------------------------------------\u001B[0m",
      "\u001B[1;31mNameError\u001B[0m                                 Traceback (most recent call last)",
      "Input \u001B[1;32mIn [33]\u001B[0m, in \u001B[0;36m<cell line: 4>\u001B[1;34m()\u001B[0m\n\u001B[0;32m      1\u001B[0m \u001B[38;5;66;03m#Let's plot some cells of each phase here, I want the 4 channels each time\u001B[39;00m\n\u001B[0;32m      2\u001B[0m \n\u001B[0;32m      3\u001B[0m \u001B[38;5;66;03m#Plotting S_phase cells\u001B[39;00m\n\u001B[1;32m----> 4\u001B[0m is_S \u001B[38;5;241m=\u001B[39m \u001B[43mdf\u001B[49m[\u001B[38;5;124m'\u001B[39m\u001B[38;5;124mS_Phase\u001B[39m\u001B[38;5;124m'\u001B[39m]\u001B[38;5;241m==\u001B[39m\u001B[38;5;28;01mTrue\u001B[39;00m\n\u001B[0;32m      5\u001B[0m count \u001B[38;5;241m=\u001B[39m \u001B[38;5;241m0\u001B[39m\n\u001B[0;32m      6\u001B[0m i \u001B[38;5;241m=\u001B[39m \u001B[38;5;241m0\u001B[39m\n",
      "\u001B[1;31mNameError\u001B[0m: name 'df' is not defined"
     ]
    }
   ],
   "source": [
    "#Let's plot some cells of each phase here, I want the 4 channels each time\n",
    "\n",
    "#Plotting S_phase cells\n",
    "is_S = df['S_Phase']==True\n",
    "count = 0\n",
    "i = 0\n",
    "num_cells = 5\n",
    "plt.figure(figsize=(12,12))\n",
    "while count < num_cells*4:\n",
    "    if is_S[i]:\n",
    "\n",
    "        plt.subplot(5,4,count+1)\n",
    "        if count == 0: plt.title('DAPI')\n",
    "        plt.imshow(df['dapi_crops'][i],vmin=0,vmax=1);plt.axis('off')\n",
    "\n",
    "        plt.subplot(5,4,count+2)\n",
    "        if count == 0: plt.title('EdU')\n",
    "        plt.imshow(df['edu_crops'][i],vmin=0,vmax=1);plt.axis('off')\n",
    "\n",
    "        plt.subplot(5,4,count+3)\n",
    "        if count == 0: plt.title('Cyclin A2')\n",
    "        plt.imshow(df['cyclina2_crops'][i],vmin=0,vmax=1);plt.axis('off')\n",
    "\n",
    "        plt.subplot(5,4,count+4)\n",
    "        if count == 0: plt.title('PCNA')\n",
    "        plt.imshow(df['pcna_crops'][i],vmin=0,vmax=1);plt.axis('off')\n",
    "\n",
    "        count += 4\n",
    "        i+=1\n",
    "    else:i+=1\n",
    "print('S phase cells in 4 channels')\n",
    "plt.show()"
   ],
   "metadata": {
    "collapsed": false,
    "pycharm": {
     "name": "#%%\n"
    }
   }
  },
  {
   "cell_type": "code",
   "execution_count": null,
   "outputs": [],
   "source": [
    "#Plotting G1_phase cells\n",
    "is_G1 = df['G1_Phase']==True\n",
    "count = 0\n",
    "i = 0\n",
    "num_cells = 5\n",
    "plt.figure(figsize=(12,12))\n",
    "while count < num_cells*4:\n",
    "    if is_G1[i]:\n",
    "\n",
    "        plt.subplot(5,4,count+1)\n",
    "        if count == 0: plt.title('DAPI')\n",
    "        plt.imshow(df['dapi_crops'][i],vmin=0,vmax=1);plt.axis('off')\n",
    "\n",
    "        plt.subplot(5,4,count+2)\n",
    "        if count == 0: plt.title('EdU')\n",
    "        plt.imshow(df['edu_crops'][i],vmin=0,vmax=1);plt.axis('off')\n",
    "\n",
    "        plt.subplot(5,4,count+3)\n",
    "        if count == 0: plt.title('Cyclin A2')\n",
    "        plt.imshow(df['cyclina2_crops'][i],vmin=0,vmax=1);plt.axis('off')\n",
    "\n",
    "        plt.subplot(5,4,count+4)\n",
    "        if count == 0: plt.title('PCNA')\n",
    "        plt.imshow(df['pcna_crops'][i],vmin=0,vmax=1);plt.axis('off')\n",
    "\n",
    "        count += 4\n",
    "        i+=1\n",
    "    else:i+=1\n",
    "print('G1 phase cells in 4 channels')\n",
    "plt.show()"
   ],
   "metadata": {
    "collapsed": false,
    "pycharm": {
     "name": "#%%\n"
    }
   }
  },
  {
   "cell_type": "code",
   "execution_count": null,
   "outputs": [],
   "source": [
    "#Plotting G2_M_phase cells\n",
    "is_G2_M = df['G2_M_Phase']==True\n",
    "count = 0\n",
    "i = 0\n",
    "num_cells = 5\n",
    "plt.figure(figsize=(12,12))\n",
    "while count < num_cells*4:\n",
    "    if is_G2_M[i]:\n",
    "\n",
    "        plt.subplot(5,4,count+1)\n",
    "        if count == 0: plt.title('DAPI')\n",
    "        plt.imshow(df['dapi_crops'][i],vmin=0,vmax=1);plt.axis('off')\n",
    "\n",
    "        plt.subplot(5,4,count+2)\n",
    "        if count == 0: plt.title('EdU')\n",
    "        plt.imshow(df['edu_crops'][i],vmin=0,vmax=1);plt.axis('off')\n",
    "\n",
    "        plt.subplot(5,4,count+3)\n",
    "        if count == 0: plt.title('Cyclin A2')\n",
    "        plt.imshow(df['cyclina2_crops'][i],vmin=0,vmax=1);plt.axis('off')\n",
    "\n",
    "        plt.subplot(5,4,count+4)\n",
    "        if count == 0: plt.title('PCNA')\n",
    "        plt.imshow(df['pcna_crops'][i],vmin=0,vmax=1);plt.axis('off')\n",
    "\n",
    "        count += 4\n",
    "        i+=1\n",
    "    else:i+=1\n",
    "print('G2/M phase cells in 4 channels')\n",
    "plt.show()"
   ],
   "metadata": {
    "collapsed": false,
    "pycharm": {
     "name": "#%%\n"
    }
   }
  },
  {
   "cell_type": "code",
   "execution_count": null,
   "outputs": [],
   "source": [
    "#Plotting a 4D axis from each channel's value"
   ],
   "metadata": {
    "collapsed": false,
    "pycharm": {
     "name": "#%%\n"
    }
   }
  },
  {
   "cell_type": "code",
   "execution_count": null,
   "outputs": [],
   "source": [
    "#Function to take a dataframe and extract the PCNA images with their label in one hot encoding\n",
    "\n",
    "def get_training_data(df):\n",
    "\n",
    "    pcna_images = df['pcna_crops'].values\n",
    "\n",
    "    cycle_phase_encodings = []\n",
    "    for i in range(len(df['S_Phase'])):\n",
    "        encoding_arr = []\n",
    "        if df['G1_Phase'][i]: encoding_arr.append(1)\n",
    "        else: encoding_arr.append(0)\n",
    "\n",
    "        if df['S_Phase'][i]: encoding_arr.append(1)\n",
    "        else: encoding_arr.append(0)\n",
    "\n",
    "        if df['G2_M_Phase'][i]: encoding_arr.append(1)\n",
    "        else: encoding_arr.append(0)\n",
    "\n",
    "        cycle_phase_encodings.append(encoding_arr)\n",
    "\n",
    "    training_data = []\n",
    "    for j in range(len(pcna_images)):\n",
    "        training_data.append((pcna_images[j],cycle_phase_encodings[j]))\n",
    "\n",
    "    training_data = np.array(training_data,dtype=object)\n",
    "\n",
    "    return training_data"
   ],
   "metadata": {
    "collapsed": false,
    "pycharm": {
     "name": "#%%\n"
    }
   }
  },
  {
   "cell_type": "code",
   "execution_count": null,
   "outputs": [],
   "source": [
    "training_data = get_training_data(df)"
   ],
   "metadata": {
    "collapsed": false,
    "pycharm": {
     "name": "#%%\n"
    }
   }
  },
  {
   "cell_type": "code",
   "execution_count": null,
   "outputs": [],
   "source": [
    "print(training_data[:,0])"
   ],
   "metadata": {
    "collapsed": false,
    "pycharm": {
     "name": "#%%\n"
    }
   }
  },
  {
   "cell_type": "code",
   "execution_count": 67,
   "outputs": [
    {
     "ename": "error",
     "evalue": "OpenCV(4.6.0) D:\\a\\opencv-python\\opencv-python\\opencv\\modules\\core\\src\\copy.cpp:1026: error: (-215:Assertion failed) top >= 0 && bottom >= 0 && left >= 0 && right >= 0 && _src.dims() <= 2 in function 'cv::copyMakeBorder'\n",
     "output_type": "error",
     "traceback": [
      "\u001B[1;31m---------------------------------------------------------------------------\u001B[0m",
      "\u001B[1;31merror\u001B[0m                                     Traceback (most recent call last)",
      "Input \u001B[1;32mIn [67]\u001B[0m, in \u001B[0;36m<cell line: 34>\u001B[1;34m()\u001B[0m\n\u001B[0;32m     32\u001B[0m train_img_padded \u001B[38;5;241m=\u001B[39m []\n\u001B[0;32m     34\u001B[0m \u001B[38;5;28;01mfor\u001B[39;00m i \u001B[38;5;129;01min\u001B[39;00m \u001B[38;5;28mrange\u001B[39m(\u001B[38;5;28mlen\u001B[39m(train_img)):\n\u001B[1;32m---> 35\u001B[0m     train_img_padded\u001B[38;5;241m.\u001B[39mappend(\u001B[43mcv2\u001B[49m\u001B[38;5;241;43m.\u001B[39;49m\u001B[43mcopyMakeBorder\u001B[49m\u001B[43m(\u001B[49m\u001B[43mtrain_img\u001B[49m\u001B[43m[\u001B[49m\u001B[43mi\u001B[49m\u001B[43m]\u001B[49m\u001B[43m,\u001B[49m\u001B[43m \u001B[49m\u001B[38;5;241;43m60\u001B[39;49m\u001B[38;5;241;43m-\u001B[39;49m\u001B[43mtrain_img\u001B[49m\u001B[43m[\u001B[49m\u001B[43mi\u001B[49m\u001B[43m]\u001B[49m\u001B[38;5;241;43m.\u001B[39;49m\u001B[43mshape\u001B[49m\u001B[43m[\u001B[49m\u001B[38;5;241;43m0\u001B[39;49m\u001B[43m]\u001B[49m\u001B[43m,\u001B[49m\u001B[43m \u001B[49m\u001B[38;5;241;43m0\u001B[39;49m\u001B[43m,\u001B[49m\u001B[43m \u001B[49m\u001B[38;5;241;43m60\u001B[39;49m\u001B[38;5;241;43m-\u001B[39;49m\u001B[43mtrain_img\u001B[49m\u001B[43m[\u001B[49m\u001B[43mi\u001B[49m\u001B[43m]\u001B[49m\u001B[38;5;241;43m.\u001B[39;49m\u001B[43mshape\u001B[49m\u001B[43m[\u001B[49m\u001B[38;5;241;43m1\u001B[39;49m\u001B[43m]\u001B[49m\u001B[43m,\u001B[49m\u001B[43m \u001B[49m\u001B[38;5;241;43m0\u001B[39;49m\u001B[43m,\u001B[49m\u001B[43m \u001B[49m\u001B[43mcv2\u001B[49m\u001B[38;5;241;43m.\u001B[39;49m\u001B[43mBORDER_CONSTANT\u001B[49m\u001B[43m)\u001B[49m)\n\u001B[0;32m     37\u001B[0m train_y \u001B[38;5;241m=\u001B[39m []\n\u001B[0;32m     38\u001B[0m \u001B[38;5;28mprint\u001B[39m(\u001B[38;5;124m'\u001B[39m\u001B[38;5;124mtrain data shape\u001B[39m\u001B[38;5;124m'\u001B[39m,training_data[:,\u001B[38;5;241m1\u001B[39m]\u001B[38;5;241m.\u001B[39mshape)\n",
      "\u001B[1;31merror\u001B[0m: OpenCV(4.6.0) D:\\a\\opencv-python\\opencv-python\\opencv\\modules\\core\\src\\copy.cpp:1026: error: (-215:Assertion failed) top >= 0 && bottom >= 0 && left >= 0 && right >= 0 && _src.dims() <= 2 in function 'cv::copyMakeBorder'\n"
     ]
    }
   ],
   "source": [
    "from torch.nn import Dropout2d\n",
    "import cv2\n",
    "#Let's train a small CNN on the training data we have to see how it does\n",
    "import pandas as pd\n",
    "import numpy as np\n",
    "\n",
    "# for reading and displaying images\n",
    "from skimage.io import imread\n",
    "import matplotlib.pyplot as plt\n",
    "%matplotlib inline\n",
    "\n",
    "# for creating validation set\n",
    "from sklearn.model_selection import train_test_split\n",
    "\n",
    "# for evaluating the model\n",
    "from sklearn.metrics import accuracy_score\n",
    "from tqdm import tqdm\n",
    "\n",
    "# PyTorch libraries and modules\n",
    "import torch\n",
    "from torch.autograd import Variable\n",
    "from torch.nn import Linear, ReLU, CrossEntropyLoss, Sequential, Conv2d, MaxPool2d, Module, Softmax, BatchNorm2d, Dropout\n",
    "from torch.optim import Adam, SGD\n",
    "import torch.nn.functional as F\n",
    "\n",
    "train = training_data\n",
    "#test = pd.read_csv('test_ScVgIM0/test.csv')\n",
    "\n",
    "#sample_submission = pd.read_csv('sample_submission_I5njJSF.csv')\n",
    "\n",
    "train_img = training_data[:,0]\n",
    "train_img_padded = []\n",
    "\n",
    "for i in range(len(train_img)):\n",
    "    train_img_padded.append(cv2.copyMakeBorder(train_img[i], 60-train_img[i].shape[0], 0, 60-train_img[i].shape[1], 0, cv2.BORDER_CONSTANT))\n",
    "\n",
    "train_y = []\n",
    "print('train data shape',training_data[:,1].shape)\n",
    "for encoding in training_data[:,1]:\n",
    "    if encoding == [1,0,0]:\n",
    "        train_y.append(0)\n",
    "    elif encoding == [0,1,0]:\n",
    "        train_y.append(1)\n",
    "    elif encoding == [0,0,1]:\n",
    "        train_y.append(2)\n",
    "\n",
    "train_x = []\n",
    "for i in range(len(train_img_padded)):\n",
    "    if training_data[:,1][i] != [0,0,0]:\n",
    "        train_x.append(train_img_padded[i])\n",
    "\n",
    "train_y = np.array(train_y)\n",
    "print('train_y shape',train_y.shape)\n",
    "train_x = np.array(train_x)\n",
    "print('train_x shape',train_x.shape)\n",
    "\n",
    "def scale(im, nR, nC):\n",
    "    nR0 = len(im)     # source number of rows\n",
    "    nC0 = len(im[0])  # source number of columns\n",
    "    return [[ im[int(nR0 * r / nR)][int(nC0 * c / nC)]\n",
    "              for c in range(nC)] for r in range(nR)]\n",
    "\n",
    "train_x_resized = []\n",
    "for image in train_x:\n",
    "    train_x_resized.append(scale(image,28,28))\n",
    "train_x_resized = np.array(train_x_resized)\n",
    "\n",
    "train_x, val_x, train_y, val_y = train_test_split(train_x_resized, train_y, test_size = 0.1)\n",
    "train_x = np.array(train_x)\n",
    "val_x = np.array(val_x)\n",
    "val_y = np.array(val_y)\n",
    "#(train_x.shape, train_y.shape), (val_x.shape, val_y.shape)\n",
    "print((train_x.shape, train_y.shape), (val_x.shape, val_y.shape))\n",
    "\n",
    "\n",
    "# converting training images into torch format\n",
    "train_x = train_x.reshape(161, 1, 28, 28)\n",
    "train_x  = torch.from_numpy(train_x)\n",
    "\n",
    "# converting the target into torch format\n",
    "train_y = train_y.astype(float);\n",
    "train_y = torch.from_numpy(train_y)\n",
    "\n",
    "# converting validation images into torch format\n",
    "val_x = val_x.reshape(18, 1, 28, 28)\n",
    "val_x  = torch.from_numpy(val_x)\n",
    "\n",
    "# converting the target into torch format\n",
    "val_y = val_y.astype(float);\n",
    "val_y = torch.from_numpy(val_y)\n",
    "\n",
    "class Net(Module):\n",
    "    def __init__(self):\n",
    "        super(Net, self).__init__()\n",
    "\n",
    "        # First 2D convolutional layer, taking in 1 input channel (image),\n",
    "        # outputting 32 convolutional features, with a square kernel size of 3\n",
    "        self.conv1 = Conv2d(1, 32, 3, 1)\n",
    "        # Second 2D convolutional layer, taking in the 32 input layers,\n",
    "        # outputting 64 convolutional features, with a square kernel size of 3\n",
    "        self.conv2 = Conv2d(32, 64, 3, 1)\n",
    "\n",
    "        # Designed to ensure that adjacent pixels are either all 0s or all active\n",
    "        # with an input probability\n",
    "        self.dropout1 = Dropout2d(0.25)\n",
    "        self.dropout2 = Dropout2d(0.5)\n",
    "\n",
    "        # First fully connected layer\n",
    "        self.fc1 = Linear(9216, 128)\n",
    "        # Second fully connected layer that outputs our 10 labels\n",
    "        self.fc2 = Linear(128, 1)\n",
    "\n",
    "    # Defining the forward pass\n",
    "    def forward(self, x):\n",
    "        # Pass data through conv1\n",
    "        x = self.conv1(x)\n",
    "        # Use the rectified-linear activation function over x\n",
    "        x = F.relu(x)\n",
    "\n",
    "        x = self.conv2(x)\n",
    "        x = F.relu(x)\n",
    "\n",
    "        # Run max pooling over x\n",
    "        x = F.max_pool2d(x, 2)\n",
    "        # Pass data through dropout1\n",
    "        x = self.dropout1(x)\n",
    "        # Flatten x with start_dim=1\n",
    "        x = torch.flatten(x, 1)\n",
    "        # Pass data through fc1\n",
    "        x = self.fc1(x)\n",
    "        x = F.relu(x)\n",
    "        x = self.dropout2(x)\n",
    "        x = self.fc2(x)\n",
    "\n",
    "        # Apply softmax to x\n",
    "        output = F.log_softmax(x, dim=1)\n",
    "        return output\n",
    "\n",
    "# defining the model\n",
    "model = Net()\n",
    "# defining the optimizer\n",
    "optimizer = Adam(model.parameters(), lr=0.07)\n",
    "# defining the loss function\n",
    "criterion = CrossEntropyLoss()\n",
    "# checking if GPU is available\n",
    "if torch.cuda.is_available():\n",
    "    model = model.cuda()\n",
    "    criterion = criterion.cuda()\n",
    "\n",
    "print(model)"
   ],
   "metadata": {
    "collapsed": false,
    "pycharm": {
     "name": "#%%\n"
    }
   }
  },
  {
   "cell_type": "code",
   "execution_count": null,
   "outputs": [],
   "source": [
    "def train(epoch):\n",
    "    model.train()\n",
    "    tr_loss = 0\n",
    "    # getting the training set\n",
    "    x_train, y_train = Variable(train_x), Variable(train_y)\n",
    "    # getting the validation set\n",
    "    x_val, y_val = Variable(val_x), Variable(val_y)\n",
    "    # converting the data into GPU format\n",
    "    if torch.cuda.is_available():\n",
    "        x_train = x_train.cuda()\n",
    "        y_train = y_train.cuda()\n",
    "        x_val = x_val.cuda()\n",
    "        y_val = y_val.cuda()\n",
    "\n",
    "    print(x_train.shape)\n",
    "    print(y_train.shape)\n",
    "\n",
    "    # clearing the Gradients of the model parameters\n",
    "    optimizer.zero_grad()\n",
    "\n",
    "    # prediction for training and validation set\n",
    "    x_train = x_train.float()\n",
    "    output_train = model(x_train)\n",
    "    output_val = model(x_val)\n",
    "\n",
    "    # computing the training and validation loss\n",
    "    y_train = y_train.float()\n",
    "    loss_train = criterion(output_train, y_train)\n",
    "    loss_val = criterion(output_val, y_val)\n",
    "    train_losses.append(loss_train)\n",
    "    val_losses.append(loss_val)\n",
    "\n",
    "    # computing the updated weights of all the model parameters\n",
    "    loss_train.backward()\n",
    "    optimizer.step()\n",
    "    tr_loss = loss_train.item()\n",
    "    if epoch%2 == 0:\n",
    "        # printing the validation loss\n",
    "        print('Epoch : ',epoch+1, '\\t', 'loss :', loss_val)\n",
    "\n",
    "# defining the number of epochs\n",
    "n_epochs = 25\n",
    "# empty list to store training losses\n",
    "train_losses = []\n",
    "# empty list to store validation losses\n",
    "val_losses = []\n",
    "# training the model\n",
    "for epoch in range(n_epochs):\n",
    "    train(epoch)"
   ],
   "metadata": {
    "collapsed": false,
    "pycharm": {
     "name": "#%%\n"
    }
   }
  },
  {
   "cell_type": "code",
   "execution_count": null,
   "outputs": [],
   "source": [
    "random_data = torch.rand((6, 1, 28, 28))\n",
    "print(random_data.shape)\n",
    "\n",
    "my_nn = Net()\n",
    "result = my_nn(random_data)\n",
    "print (result)"
   ],
   "metadata": {
    "collapsed": false,
    "pycharm": {
     "name": "#%%\n"
    }
   }
  },
  {
   "cell_type": "code",
   "execution_count": null,
   "outputs": [],
   "source": [
    "#Put all the data together for a quantitative investigation\n",
    "\n",
    "#Step 1: Stack all the dataframes together\n",
    "\n",
    "#Step 2: Plot that cell cycle phase channel data in a 4D graph where each axis is data from a channel\n",
    "\n",
    "#Step 3: Plot some cells from each classification cropped in the Alexa555 channel\n",
    "\n",
    "#Step 4: A Venn diagram of the cell phases with their True or False, we'll see some applying to the same rules"
   ],
   "metadata": {
    "collapsed": false,
    "pycharm": {
     "name": "#%%\n"
    }
   }
  },
  {
   "cell_type": "code",
   "execution_count": null,
   "outputs": [],
   "source": [
    "from matplotlib_venn import venn3, venn3_circles, venn3_unweighted\n",
    "\n",
    "g1_values = np.asarray(df['G1_Phase'],dtype=bool)\n",
    "s_values = np.asarray(df['S_Phase'],dtype=bool)\n",
    "g2_m_values = np.asarray(df['G2_M_Phase'],dtype=bool)\n",
    "\n",
    "only_s = sum(~g1_values & s_values & ~g2_m_values)\n",
    "only_g1 = sum(g1_values & ~s_values & ~g2_m_values)\n",
    "only_g2_m = sum(~g1_values & ~s_values & g2_m_values)\n",
    "g1_and_s = sum(g1_values & s_values & ~g2_m_values)\n",
    "g1_and_g2_m = sum(g1_values & ~s_values & g2_m_values)\n",
    "s_and_g2_m = sum(~g1_values & s_values & g2_m_values)\n",
    "g1_and_s_and_g2_m = sum(g1_values & s_values & g2_m_values)\n",
    "no_label = sum(~g1_values & ~s_values & ~g2_m_values)\n",
    "\n",
    "#print(only_g1,only_s,only_g2_m,g1_and_s,g1_and_g2_m,s_and_g2_m,g1_and_s_and_g2_m)\n",
    "print('Number of cells only in S phase:',only_s)\n",
    "print('Number of cells only in G1 phase:',only_g1)\n",
    "print('Number of cells only in G2/M phase:',only_g2_m)\n",
    "print('Number of cells only in S and G1 phase:',g1_and_s)\n",
    "print('Number of cells only in S and G2/M phase:',s_and_g2_m)\n",
    "print('Number of cells only in G1 and G2/M phase:',g1_and_g2_m)\n",
    "print('Number of cells labelled (G1, S and G2/M):',g1_and_s_and_g2_m)\n",
    "print('Number of cells not labelled:',no_label)\n",
    "\n",
    "#venn3(subsets = (only_g1, only_s, g1_and_s, only_g2_m, g1_and_g2_m, s_and_g2_m, g1_and_s_and_g2_m), set_labels = ('G1', 'S', 'G2/M'))\n",
    "plt.figure(figsize=(6,6))\n",
    "v = venn3_unweighted(subsets = (only_g1, only_s, g1_and_s, only_g2_m, g1_and_g2_m, s_and_g2_m, g1_and_s_and_g2_m),\n",
    "                     set_labels = ('G1', 'S', 'G2/M'))\n",
    "#c = venn3_circles(subsets = (only_g1, only_s, g1_and_s, only_g2_m, g1_and_g2_m, s_and_g2_m, g1_and_s_and_g2_m),linestyle='dashed')"
   ],
   "metadata": {
    "collapsed": false,
    "pycharm": {
     "name": "#%%\n"
    }
   }
  },
  {
   "cell_type": "code",
   "execution_count": null,
   "outputs": [],
   "source": [],
   "metadata": {
    "collapsed": false,
    "pycharm": {
     "name": "#%%\n"
    }
   }
  },
  {
   "cell_type": "code",
   "execution_count": null,
   "metadata": {
    "pycharm": {
     "name": "#%%\n"
    }
   },
   "outputs": [],
   "source": [
    "#TODELETE: Here we were importing images from a directory but now we'll do with Omero\n",
    "#Here we get the images from a directory in the project, normalise and display them\n",
    "\n",
    "import numpy as np\n",
    "import matplotlib.pyplot as plt\n",
    "\n",
    "#Loading the images\n",
    "gray_img = np.load('/Users/rehanzuberi/Documents/Development/cell-SCT/classification/images/gray_img.npy')\n",
    "dapi_img = np.load('/Users/rehanzuberi/Documents/Development/cell-SCT/classification/images/dapi_img.npy')\n",
    "edu_img = np.load('/Users/rehanzuberi/Documents/Development/cell-SCT/classification/images/cy5_img.npy')\n",
    "\n",
    "#Normalising the images\n",
    "def normalise_img(img):\n",
    "    return (img - np.min(img)) / (np.max(img) - np.min(img))\n",
    "\n",
    "gray_img = normalise_img(gray_img)\n",
    "dapi_img = normalise_img(dapi_img)\n",
    "edu_img = normalise_img(edu_img)\n",
    "\n",
    "#Displaying the images\n",
    "plt.figure(figsize=(12,12))\n",
    "plt.subplot(1,3,1);plt.imshow(gray_img);plt.axis('off');plt.title('Gray')\n",
    "plt.subplot(1,3,2);plt.imshow(dapi_img);plt.axis('off');plt.title('DAPI')\n",
    "plt.subplot(1,3,3);plt.imshow(edu_img);plt.axis('off');plt.title('EdU');plt.show()"
   ]
  },
  {
   "cell_type": "code",
   "execution_count": null,
   "metadata": {
    "pycharm": {
     "name": "#%%\n"
    }
   },
   "outputs": [],
   "source": [
    "#Make a segmentation prediction, right now with the Gray image as that's all we have, later with the Alexa555 (PCNA) image\n",
    "\n",
    "from cellpose import models\n",
    "model_dir = \"/Users/rehanzuberi/Documents/Development/cell-SCT/segmentation/demo_train_test_data/data_for_masks_training/models/demo_model\"\n",
    "model = models.CellposeModel(gpu=True, pretrained_model=model_dir)\n",
    "test_data = [gray_img]\n",
    "predicted_test_masks = model.eval(test_data, channels=[0,0], diameter=model.diam_labels.copy())[0]  # generates the predictions # we could use the fact that it has a channel input to have the normal image not separated by channel and just make it do the prediction on there, although we need it to make a prediction on the averaged out gray image so that wouldn't really work\n",
    "predicted_mask = predicted_test_masks[0]"
   ]
  },
  {
   "cell_type": "code",
   "execution_count": null,
   "outputs": [],
   "source": [
    "#Now we get the crops from each channel and store them in a numpy array\n",
    "import segmentation.seg_functions\n",
    "from importlib import reload\n",
    "from segmentation.seg_functions import count_cells, get_cell_crop_coordinates, get_img_crops\n",
    "segmentation.seg_functions = reload(segmentation.seg_functions)\n",
    "\n",
    "print('Prediction has', count_cells(predicted_mask), 'cells')\n",
    "crop_coordinates = get_cell_crop_coordinates(predicted_mask, margin=3)\n",
    "gray_crops = get_img_crops(gray_img, crop_coordinates)\n",
    "dapi_crops = get_img_crops(dapi_img, crop_coordinates)\n",
    "edu_crops = get_img_crops(edu_img, crop_coordinates)\n",
    "\n",
    "#We could have one numpy array called 'cells' that holds the images and later on the values"
   ],
   "metadata": {
    "collapsed": false,
    "pycharm": {
     "name": "#%%\n"
    }
   }
  },
  {
   "cell_type": "code",
   "execution_count": null,
   "outputs": [],
   "source": [
    "mines = []\n",
    "for i in range(len(gray_crops[0])):\n",
    "    mines.append(min(gray_crops[0][i]))\n",
    "print(min(mines))"
   ],
   "metadata": {
    "collapsed": false,
    "pycharm": {
     "name": "#%%\n"
    }
   }
  },
  {
   "cell_type": "code",
   "execution_count": null,
   "outputs": [],
   "source": [
    "for i in range(10):\n",
    "    plt.subplot(1,3,1)\n",
    "    if i == 0: plt.title('Gray img')\n",
    "    plt.axis('off')\n",
    "    plt.imshow(gray_crops[i], vmin=0, vmax=1)\n",
    "\n",
    "    plt.subplot(1,3,2)\n",
    "    if i == 0: plt.title('DAPI img')\n",
    "    plt.axis('off')\n",
    "    plt.imshow(dapi_crops[i], vmin=0, vmax=1)\n",
    "\n",
    "    plt.subplot(1,3,3)\n",
    "    if i == 0: plt.title('EDU img')\n",
    "    plt.imshow(edu_crops[i], vmin=0, vmax=1)\n",
    "    plt.axis('off')\n",
    "    plt.show()"
   ],
   "metadata": {
    "collapsed": false,
    "pycharm": {
     "name": "#%%\n"
    }
   }
  },
  {
   "cell_type": "code",
   "execution_count": null,
   "metadata": {
    "pycharm": {
     "name": "#%%\n"
    }
   },
   "outputs": [],
   "source": [
    "#This is what we used to measure the pixel intentisty values of the cells on different channels\n",
    "#We would put them into one array\n",
    "#Now I think I would prefer putting them into each their own numpy array\n",
    "#This also depends on what Helfrid's normalisation funcitions ofers\n",
    "dapi_values = []\n",
    "edu_values = []\n",
    "for i in range(len(edu_crops)):\n",
    "    dapi_values.append(np.average(dapi_crops[i]))\n",
    "    edu_values.append(np.average(edu_crops[i]))\n",
    "\n",
    "dapi_values = np.array(dapi_values)\n",
    "edu_values = np.array(edu_values)"
   ]
  },
  {
   "cell_type": "code",
   "execution_count": null,
   "outputs": [],
   "source": [
    "print(dapi_values)"
   ],
   "metadata": {
    "collapsed": false,
    "pycharm": {
     "name": "#%%\n"
    }
   }
  },
  {
   "cell_type": "code",
   "execution_count": null,
   "outputs": [],
   "source": [
    "def dna_norm(df):\n",
    "    \"\"\"\n",
    "    normalise histogram of DNA label\n",
    "    :param df: input dataframe\n",
    "    :return: input dataframe with additional column: \"DNA_content\"\n",
    "    Author/Shared by: Dr Helfrid Hochegger\n",
    "    \"\"\"\n",
    "    y, x, _ = plt.hist(df['integrated_int_DAPI'], bins=250)\n",
    "    max = x[np.where(y == y.max())]\n",
    "    df['DNA_content']=df['integrated_int_DAPI']/max[0]\n",
    "    return df"
   ],
   "metadata": {
    "collapsed": false,
    "pycharm": {
     "name": "#%%\n"
    }
   }
  },
  {
   "cell_type": "code",
   "execution_count": null,
   "outputs": [],
   "source": [
    "import pandas as pd\n",
    "\n",
    "#pi: pixel intensity\n",
    "\n",
    "cell_data = {'Gray cell img':gray_crops, 'integrated_int_DAPI':dapi_values, 'EdU_pi':edu_values}\n",
    "df = pd.DataFrame(cell_data)"
   ],
   "metadata": {
    "collapsed": false,
    "pycharm": {
     "name": "#%%\n"
    }
   }
  },
  {
   "cell_type": "code",
   "execution_count": null,
   "outputs": [],
   "source": [
    "normalised = dna_norm(df)"
   ],
   "metadata": {
    "collapsed": false,
    "pycharm": {
     "name": "#%%\n"
    }
   }
  },
  {
   "cell_type": "code",
   "execution_count": null,
   "outputs": [],
   "source": [
    "print(normalised)"
   ],
   "metadata": {
    "collapsed": false,
    "pycharm": {
     "name": "#%%\n"
    }
   }
  },
  {
   "cell_type": "code",
   "execution_count": null,
   "outputs": [],
   "source": [
    "#We need to get the colour of the background for the EdU since not being the same colour of the background gives info\n",
    "plt.imshow(df.sort_values(by=['EdU_pi'])['Gray cell img'][2])"
   ],
   "metadata": {
    "collapsed": false,
    "pycharm": {
     "name": "#%%\n"
    }
   }
  },
  {
   "cell_type": "code",
   "execution_count": null,
   "outputs": [],
   "source": [
    "from statistics import mean\n",
    "import numpy.matlib\n",
    "\n",
    "def get_elbow(curve):\n",
    "    #source:https://stackoverflow.com/questions/2018178/finding-the-best-trade-off-point-on-a-curve\n",
    "    nPoints = len(curve)\n",
    "    allCoord = np.vstack((range(nPoints), curve)).T\n",
    "    np.array([range(nPoints), curve])\n",
    "    firstPoint = allCoord[0]\n",
    "    lineVec = allCoord[-1] - allCoord[0]\n",
    "    lineVecNorm = lineVec / np.sqrt(np.sum(lineVec**2))\n",
    "    vecFromFirst = allCoord - firstPoint\n",
    "    scalarProduct = np.sum(vecFromFirst * np.matlib.repmat(lineVecNorm, nPoints, 1), axis=1)\n",
    "    vecFromFirstParallel = np.outer(scalarProduct, lineVecNorm)\n",
    "    vecToLine = vecFromFirst - vecFromFirstParallel\n",
    "    distToLine = np.sqrt(np.sum(vecToLine ** 2, axis=1))\n",
    "    idxOfBestPoint = np.argmax(distToLine)\n",
    "    return idxOfBestPoint\n",
    "\n",
    "#This function splits an array into the inputted number and returns the average per split\n",
    "def get_avg_split_arr(arr,num_splits):\n",
    "    array_split = np.array_split(arr,num_splits)\n",
    "    averages = [mean(array) for array in array_split]\n",
    "    return averages\n",
    "\n",
    "def get_EdU_threshold(df):\n",
    "    edu_nums = np.sort(np.array(df.loc[:,['EdU_pi']]).flatten()) #extract EdU values and put them in one array shape num_of_cells\n",
    "\n",
    "    #Get the list of EdU values\n",
    "    #Make a split from 3 to the total number of cells\n",
    "    #Get the averages at that split\n",
    "    #Get the elbow in those averages\n",
    "    #Store that elbow in a list\n",
    "    #Average out the list of elbow and return that value\n",
    "\n",
    "    elbows_y = []\n",
    "    for i in range(140,len(edu_nums)+1):\n",
    "        avg_split_arr = get_avg_split_arr(edu_nums,i)\n",
    "        elbow_x = get_elbow(avg_split_arr)\n",
    "        elbows_y.append(edu_nums[elbow_x])\n",
    "\n",
    "    #print(elbows_y)\n",
    "\n",
    "    return mean(elbows_y)"
   ],
   "metadata": {
    "collapsed": false,
    "pycharm": {
     "name": "#%%\n"
    }
   }
  },
  {
   "cell_type": "code",
   "execution_count": null,
   "outputs": [],
   "source": [
    "#I'm trying to find the background color in the EdU channel\n",
    "#Let's try putting the values in buckets\n",
    "#From this bucket method I would conclude that the background is at 500\n",
    "from statistics import mean\n",
    "\n",
    "num_buckets = 144\n",
    "edu_nums = np.array(df.loc[:,['EdU_pi']]).flatten()\n",
    "edu_nums = np.sort(edu_nums)\n",
    "edu_nums = np.array_split(edu_nums,num_buckets)\n",
    "averages = []\n",
    "for array in edu_nums: averages.append(mean(array))\n",
    "import matplotlib.pyplot as plt\n",
    "fig = plt.figure()\n",
    "bars = [i+1 for i in range(num_buckets)]\n",
    "y_pos = np.arange(len(bars))\n",
    "#plt.bar(y_pos, averages)\n",
    "plt.plot(averages)\n",
    "plt.xlabel('Cells sorted by pixel intensity')\n",
    "plt.ylabel('Pixel intensity')\n",
    "#plt.yticks([i for i in range(0,5000,250)])\n",
    "#plt.xticks(y_pos, bars)\n",
    "#plt.grid('on')\n",
    "\n",
    "\n",
    "#Need to fid the elbow\n",
    "#from kneed import KneeLocator\n",
    "#kn = KneeLocator(bars, averages, curve='convex', direction='increasing')\n",
    "#print('Elbow y value: {}',averages[kn.knee])\n",
    "\n",
    "#plt.vlines(kn.knee, plt.ylim()[0], plt.ylim()[1], linestyles='dashed') #plotting the line\n",
    "plt.hlines(get_EdU_threshold(df), xmin=0, xmax=max(bars), linestyles='dashed')\n",
    "print('EdU intensity threshold:',get_EdU_threshold(df))\n",
    "\n",
    "plt.show()"
   ],
   "metadata": {
    "collapsed": false,
    "pycharm": {
     "name": "#%%\n"
    }
   }
  },
  {
   "cell_type": "code",
   "execution_count": null,
   "outputs": [],
   "source": [
    "#To find intersection\n",
    "#Create for the line a list of tuples with all of its X and Y coordinates\n",
    "#Do the same for our list of cell values\n",
    "#Get the point that they cross at"
   ],
   "metadata": {
    "collapsed": false,
    "pycharm": {
     "name": "#%%\n"
    }
   }
  },
  {
   "cell_type": "code",
   "execution_count": null,
   "outputs": [],
   "source": [
    "print(get_EdU_threshold(df))"
   ],
   "metadata": {
    "collapsed": false,
    "pycharm": {
     "name": "#%%\n"
    }
   }
  },
  {
   "cell_type": "code",
   "execution_count": null,
   "outputs": [],
   "source": [
    "#Showing the EdU channel images by lowest EdU to highest\n",
    "indices = np.array(df.sort_values(by=['EdU_pi']).index) #sort cells by smallest value of EdU\n",
    "for i in indices[:4]:\n",
    "    print(df['EdU_pi'][i])\n",
    "    plt.imshow(edu_crops[i],vmin=0,vmax=1);plt.show()"
   ],
   "metadata": {
    "collapsed": false,
    "pycharm": {
     "name": "#%%\n"
    }
   }
  },
  {
   "cell_type": "code",
   "execution_count": null,
   "outputs": [],
   "source": [
    "#Applying the S phase rule\n",
    "\n",
    "#In the cell dataframe, we can now add the S phase label\n",
    "#Apply a rule where every row where EdU is lower than 500 is the S-phase\n",
    "background = 500 #pixel intensity\n",
    "s_phase_cells = df.loc[df[\"EdU_pi\"] >= 500, \"EdU_pi\"]\n",
    "df[\"S_Phase\"] = \"False\"\n",
    "df.loc[df[\"EdU_pi\"].isin(s_phase_cells), \"S_Phase\"] = \"True\""
   ],
   "metadata": {
    "collapsed": false,
    "pycharm": {
     "name": "#%%\n"
    }
   }
  },
  {
   "cell_type": "code",
   "execution_count": null,
   "outputs": [],
   "source": [
    "print(df.S_Phase.value_counts()[0])\n",
    "print(df.S_Phase)"
   ],
   "metadata": {
    "collapsed": false,
    "pycharm": {
     "name": "#%%\n"
    }
   }
  },
  {
   "cell_type": "code",
   "execution_count": null,
   "outputs": [],
   "source": [
    "#Setting up the cell dataframe\n",
    "cell_data = {'Gray cell img': gray_crops, 'integrated_int_DAPI': dapi_values, 'EdU_pi': edu_values}\n",
    "df = pd.DataFrame(cell_data)\n",
    "print(df)"
   ],
   "metadata": {
    "collapsed": false,
    "pycharm": {
     "name": "#%%\n"
    }
   }
  },
  {
   "cell_type": "code",
   "execution_count": null,
   "outputs": [],
   "source": [
    "def apply_S_phase_rule(df):\n",
    "    \"\"\"\n",
    "    This function adds a boolean column to indicate if a cell is in the S-phase\n",
    "    :param df: input dataframe where each row is a cell with a 'EdU_pi' column\n",
    "    :return: input dataframe with additional column 'S_phase'\n",
    "    \"\"\"\n",
    "\n",
    "    #Step 1: calculate the background color this serves as the threshold for the S-phase\n",
    "    EdU_threshold = get_EdU_threshold(df)\n",
    "\n",
    "    #Step 2: Use that threshold in each row to see if a cell is above or below\n",
    "    S_phase_cells = df.loc[df[\"EdU_pi\"] >= EdU_threshold, \"EdU_pi\"]\n",
    "    df[\"S_Phase\"] = \"False\"\n",
    "    df.loc[df[\"EdU_pi\"].isin(S_phase_cells), \"S_Phase\"] = \"True\"\n",
    "\n",
    "    return df"
   ],
   "metadata": {
    "collapsed": false,
    "pycharm": {
     "name": "#%%\n"
    }
   }
  },
  {
   "cell_type": "code",
   "execution_count": null,
   "outputs": [],
   "source": [
    "#Applying the S-phase rule\n",
    "df = apply_S_phase_rule(df)\n",
    "print(df,'\\n')\n",
    "\n",
    "#Printing some quantitative data about the cells found in S-phase\n",
    "num_total_cells = df.S_Phase.value_counts()[0]+df.S_Phase.value_counts()[1]\n",
    "num_in_s = df.S_Phase.value_counts()[1]\n",
    "percentage_in_S = round(df.S_Phase.value_counts()[1]*100/num_total_cells,2)\n",
    "print('According to the background rule, there are {} cells in the S phase.'.format(num_in_s))\n",
    "print('With {} cells that is {}% of cells in S phase.'.format(num_total_cells,percentage_in_S))"
   ],
   "metadata": {
    "collapsed": false,
    "pycharm": {
     "name": "#%%\n"
    }
   }
  },
  {
   "cell_type": "code",
   "execution_count": null,
   "outputs": [],
   "source": [
    "\n",
    "normalised = dna_norm(df)"
   ],
   "metadata": {
    "collapsed": false,
    "pycharm": {
     "name": "#%%\n"
    }
   }
  },
  {
   "cell_type": "code",
   "execution_count": null,
   "outputs": [],
   "source": [
    "#Rules given by Dr Hochegger for the cell cycle classification\n",
    "\n",
    "#G1: Cyclin A2 negative, EdU negative, DAPI<1.5\n",
    "#S: EdU > background\n",
    "#G2/M: DAPI (normalised) > 1.5, EdU < background, Cyclin > background\n",
    "\n",
    "#Terminology\n",
    "#DAPI is DAPI\n",
    "#Cy5 is the EdU\n",
    "#Alexa555 is PCNA\n",
    "#Alexa488 is Cyclin A2"
   ],
   "metadata": {
    "collapsed": false,
    "pycharm": {
     "name": "#%%\n"
    }
   }
  },
  {
   "cell_type": "code",
   "execution_count": null,
   "outputs": [],
   "source": [],
   "metadata": {
    "collapsed": false,
    "pycharm": {
     "name": "#%%\n"
    }
   }
  }
 ],
 "metadata": {
  "kernelspec": {
   "display_name": "Python 3 (ipykernel)",
   "language": "python",
   "name": "python3"
  },
  "language_info": {
   "codemirror_mode": {
    "name": "ipython",
    "version": 3
   },
   "file_extension": ".py",
   "mimetype": "text/x-python",
   "name": "python",
   "nbconvert_exporter": "python",
   "pygments_lexer": "ipython3",
   "version": "3.9.13"
  }
 },
 "nbformat": 4,
 "nbformat_minor": 1
}