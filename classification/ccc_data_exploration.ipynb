{
 "cells": [
  {
   "cell_type": "markdown",
   "metadata": {
    "pycharm": {
     "name": "#%% md\n"
    }
   },
   "source": [
    "# Data exploration\n",
    "\n",
    "This notebook will explore the images we have and extract data from them. The images have 4 channels (DAPI, EdU, and two Alexa's, one being PCNA). The data we extract from the channels are the pixel intensities."
   ]
  },
  {
   "cell_type": "markdown",
   "source": [
    "Pipeline (Pseudo-code) to gather training data:\n",
    "\n",
    "Upload from Omero all images from a well\n",
    "For each image\n",
    "- make a prediction for the cells\n",
    "- make the crops around the cells in each channel\n",
    "- make a dataframe with the first row being the one for the Alexa555 (PCNA) image crops\n",
    "- get the pixel intensity of the crops in each channel and add it to the dataframe where each column corresponds to a channel's intentisity for that crop\n",
    "- normalise that pixel intensity data per channel\n",
    "\n",
    "Stack all the dataframes together\n",
    "Get the DNA value data from the DAPI channel (Helfrid's function) and add it to the dataframe\n",
    "Get the background value of the Cyclin A2 and EdU channels\n",
    "Apply the G1, S and G2/M rules where they are each a column in the dataframe with True if the cell's data follows the rule to be in that phase and False if not\n",
    "Plot that cell cycle phase channel data in a 4D graph where each axis is data from a channel\n",
    "Plot some cells from each classification cropped in the Alexa555 channel"
   ],
   "metadata": {
    "collapsed": false,
    "pycharm": {
     "name": "#%% md\n"
    }
   }
  },
  {
   "cell_type": "markdown",
   "metadata": {
    "pycharm": {
     "name": "#%% md\n"
    }
   },
   "source": [
    "## Importing data\n",
    "\n",
    "Note: since I'm working from home right now, I'm struggling with my connection to Omero so I'm importing data I saved from earlier. When I'm back in the lab I will change this part to be importing data from Omero with the plate number."
   ]
  },
  {
   "cell_type": "code",
   "execution_count": 179,
   "outputs": [
    {
     "name": "stdout",
     "output_type": "stream",
     "text": [
      "Collecting ezomero\r\n",
      "  Using cached ezomero-1.1.0-py3-none-any.whl (44 kB)\r\n",
      "Collecting omero-py\r\n",
      "  Using cached omero_py-5.11.2-py3-none-any.whl (2.8 MB)\r\n",
      "Requirement already satisfied: numpy in /opt/anaconda3/envs/devhome/lib/python3.8/site-packages (from ezomero) (1.22.0)\r\n",
      "Collecting PyYAML\r\n",
      "  Using cached PyYAML-6.0-cp38-cp38-macosx_10_9_x86_64.whl (192 kB)\r\n",
      "Collecting requests\r\n",
      "  Using cached requests-2.28.1-py3-none-any.whl (62 kB)\r\n",
      "Requirement already satisfied: future in /opt/anaconda3/envs/devhome/lib/python3.8/site-packages (from omero-py->ezomero) (0.18.2)\r\n",
      "Requirement already satisfied: Pillow in /opt/anaconda3/envs/devhome/lib/python3.8/site-packages (from omero-py->ezomero) (9.2.0)\r\n",
      "Collecting appdirs\r\n",
      "  Using cached appdirs-1.4.4-py2.py3-none-any.whl (9.6 kB)\r\n",
      "Collecting zeroc-ice<3.7,>=3.6.4\r\n",
      "  Using cached zeroc-ice-3.6.5.tar.gz (1.2 MB)\r\n",
      "  Preparing metadata (setup.py) ... \u001B[?25ldone\r\n",
      "\u001B[?25hRequirement already satisfied: certifi>=2017.4.17 in /opt/anaconda3/envs/devhome/lib/python3.8/site-packages (from requests->omero-py->ezomero) (2022.6.15)\r\n",
      "Requirement already satisfied: urllib3<1.27,>=1.21.1 in /opt/anaconda3/envs/devhome/lib/python3.8/site-packages (from requests->omero-py->ezomero) (1.26.10)\r\n",
      "Requirement already satisfied: idna<4,>=2.5 in /opt/anaconda3/envs/devhome/lib/python3.8/site-packages (from requests->omero-py->ezomero) (3.3)\r\n",
      "Requirement already satisfied: charset-normalizer<3,>=2 in /opt/anaconda3/envs/devhome/lib/python3.8/site-packages (from requests->omero-py->ezomero) (2.1.0)\r\n",
      "Building wheels for collected packages: zeroc-ice\r\n",
      "  Building wheel for zeroc-ice (setup.py) ... \u001B[?25lerror\r\n",
      "  \u001B[1;31merror\u001B[0m: \u001B[1msubprocess-exited-with-error\u001B[0m\r\n",
      "  \r\n",
      "  \u001B[31m×\u001B[0m \u001B[32mpython setup.py bdist_wheel\u001B[0m did not run successfully.\r\n",
      "  \u001B[31m│\u001B[0m exit code: \u001B[1;36m1\u001B[0m\r\n",
      "  \u001B[31m╰─>\u001B[0m \u001B[31m[364 lines of output]\u001B[0m\r\n",
      "  \u001B[31m   \u001B[0m /private/var/folders/ff/h7rcmtgd7cd83fyvtv05xp5m0000gn/T/pip-install-w6lz9_er/zeroc-ice_f38cba751a6b41b69320b8b12954d0e6/setup.py:111: SyntaxWarning: \"is not\" with a literal. Did you mean \"!=\"?\r\n",
      "  \u001B[31m   \u001B[0m   if platform is not 'freebsd':\r\n",
      "  \u001B[31m   \u001B[0m WARNING: '' not a valid package name; please use only .-separated package names in setup.py\r\n",
      "  \u001B[31m   \u001B[0m running bdist_wheel\r\n",
      "  \u001B[31m   \u001B[0m running build\r\n",
      "  \u001B[31m   \u001B[0m running build_py\r\n",
      "  \u001B[31m   \u001B[0m creating build\r\n",
      "  \u001B[31m   \u001B[0m creating build/lib.macosx-10.9-x86_64-cpython-38\r\n",
      "  \u001B[31m   \u001B[0m copying lib/IceGrid_Session_ice.py -> build/lib.macosx-10.9-x86_64-cpython-38\r\n",
      "  \u001B[31m   \u001B[0m copying lib/IceGrid_Locator_ice.py -> build/lib.macosx-10.9-x86_64-cpython-38\r\n",
      "  \u001B[31m   \u001B[0m copying lib/Ice_Properties_ice.py -> build/lib.macosx-10.9-x86_64-cpython-38\r\n",
      "  \u001B[31m   \u001B[0m copying lib/IceGrid_FileParser_ice.py -> build/lib.macosx-10.9-x86_64-cpython-38\r\n",
      "  \u001B[31m   \u001B[0m copying lib/IceStorm_Metrics_ice.py -> build/lib.macosx-10.9-x86_64-cpython-38\r\n",
      "  \u001B[31m   \u001B[0m copying lib/IcePatch2_FileServer_ice.py -> build/lib.macosx-10.9-x86_64-cpython-38\r\n",
      "  \u001B[31m   \u001B[0m copying lib/Ice_RouterF_ice.py -> build/lib.macosx-10.9-x86_64-cpython-38\r\n",
      "  \u001B[31m   \u001B[0m copying lib/Ice_ServantLocatorF_ice.py -> build/lib.macosx-10.9-x86_64-cpython-38\r\n",
      "  \u001B[31m   \u001B[0m copying lib/Ice_Logger_ice.py -> build/lib.macosx-10.9-x86_64-cpython-38\r\n",
      "  \u001B[31m   \u001B[0m copying lib/Ice_ObjectAdapterF_ice.py -> build/lib.macosx-10.9-x86_64-cpython-38\r\n",
      "  \u001B[31m   \u001B[0m copying lib/Ice_ConnectionF_ice.py -> build/lib.macosx-10.9-x86_64-cpython-38\r\n",
      "  \u001B[31m   \u001B[0m copying lib/Ice_ImplicitContextF_ice.py -> build/lib.macosx-10.9-x86_64-cpython-38\r\n",
      "  \u001B[31m   \u001B[0m copying lib/Ice_Endpoint_ice.py -> build/lib.macosx-10.9-x86_64-cpython-38\r\n",
      "  \u001B[31m   \u001B[0m copying lib/IceGrid_Observer_ice.py -> build/lib.macosx-10.9-x86_64-cpython-38\r\n",
      "  \u001B[31m   \u001B[0m copying lib/IceGrid_Admin_ice.py -> build/lib.macosx-10.9-x86_64-cpython-38\r\n",
      "  \u001B[31m   \u001B[0m copying lib/Ice_InstrumentationF_ice.py -> build/lib.macosx-10.9-x86_64-cpython-38\r\n",
      "  \u001B[31m   \u001B[0m copying lib/Ice_LocatorF_ice.py -> build/lib.macosx-10.9-x86_64-cpython-38\r\n",
      "  \u001B[31m   \u001B[0m copying lib/Ice_PropertiesAdmin_ice.py -> build/lib.macosx-10.9-x86_64-cpython-38\r\n",
      "  \u001B[31m   \u001B[0m copying lib/slice2py.py -> build/lib.macosx-10.9-x86_64-cpython-38\r\n",
      "  \u001B[31m   \u001B[0m copying lib/Ice_LocalException_ice.py -> build/lib.macosx-10.9-x86_64-cpython-38\r\n",
      "  \u001B[31m   \u001B[0m copying lib/Ice_ObjectFactory_ice.py -> build/lib.macosx-10.9-x86_64-cpython-38\r\n",
      "  \u001B[31m   \u001B[0m copying lib/Ice_Communicator_ice.py -> build/lib.macosx-10.9-x86_64-cpython-38\r\n",
      "  \u001B[31m   \u001B[0m copying lib/Glacier2_Metrics_ice.py -> build/lib.macosx-10.9-x86_64-cpython-38\r\n",
      "  \u001B[31m   \u001B[0m copying lib/IceGrid_UserAccountMapper_ice.py -> build/lib.macosx-10.9-x86_64-cpython-38\r\n",
      "  \u001B[31m   \u001B[0m copying lib/Ice_FacetMap_ice.py -> build/lib.macosx-10.9-x86_64-cpython-38\r\n",
      "  \u001B[31m   \u001B[0m copying lib/Glacier2_Session_ice.py -> build/lib.macosx-10.9-x86_64-cpython-38\r\n",
      "  \u001B[31m   \u001B[0m copying lib/Glacier2_PermissionsVerifierF_ice.py -> build/lib.macosx-10.9-x86_64-cpython-38\r\n",
      "  \u001B[31m   \u001B[0m copying lib/Ice_ImplicitContext_ice.py -> build/lib.macosx-10.9-x86_64-cpython-38\r\n",
      "  \u001B[31m   \u001B[0m copying lib/Ice_Plugin_ice.py -> build/lib.macosx-10.9-x86_64-cpython-38\r\n",
      "  \u001B[31m   \u001B[0m copying lib/Ice_Instrumentation_ice.py -> build/lib.macosx-10.9-x86_64-cpython-38\r\n",
      "  \u001B[31m   \u001B[0m copying lib/Ice_CommunicatorF_ice.py -> build/lib.macosx-10.9-x86_64-cpython-38\r\n",
      "  \u001B[31m   \u001B[0m copying lib/Ice_Version_ice.py -> build/lib.macosx-10.9-x86_64-cpython-38\r\n",
      "  \u001B[31m   \u001B[0m copying lib/Ice_Current_ice.py -> build/lib.macosx-10.9-x86_64-cpython-38\r\n",
      "  \u001B[31m   \u001B[0m copying lib/Ice_BuiltinSequences_ice.py -> build/lib.macosx-10.9-x86_64-cpython-38\r\n",
      "  \u001B[31m   \u001B[0m copying lib/Ice_Identity_ice.py -> build/lib.macosx-10.9-x86_64-cpython-38\r\n",
      "  \u001B[31m   \u001B[0m copying lib/Ice_Router_ice.py -> build/lib.macosx-10.9-x86_64-cpython-38\r\n",
      "  \u001B[31m   \u001B[0m copying lib/IceGrid_Descriptor_ice.py -> build/lib.macosx-10.9-x86_64-cpython-38\r\n",
      "  \u001B[31m   \u001B[0m copying lib/Glacier2_RouterF_ice.py -> build/lib.macosx-10.9-x86_64-cpython-38\r\n",
      "  \u001B[31m   \u001B[0m copying lib/Glacier2_SSLInfo_ice.py -> build/lib.macosx-10.9-x86_64-cpython-38\r\n",
      "  \u001B[31m   \u001B[0m copying lib/Ice_Process_ice.py -> build/lib.macosx-10.9-x86_64-cpython-38\r\n",
      "  \u001B[31m   \u001B[0m copying lib/IceGrid_Registry_ice.py -> build/lib.macosx-10.9-x86_64-cpython-38\r\n",
      "  \u001B[31m   \u001B[0m copying lib/Ice_Connection_ice.py -> build/lib.macosx-10.9-x86_64-cpython-38\r\n",
      "  \u001B[31m   \u001B[0m copying lib/IceBox_IceBox_ice.py -> build/lib.macosx-10.9-x86_64-cpython-38\r\n",
      "  \u001B[31m   \u001B[0m copying lib/IceGrid_Exception_ice.py -> build/lib.macosx-10.9-x86_64-cpython-38\r\n",
      "  \u001B[31m   \u001B[0m copying lib/IcePatch2_FileInfo_ice.py -> build/lib.macosx-10.9-x86_64-cpython-38\r\n",
      "  \u001B[31m   \u001B[0m copying lib/Ice_SliceChecksumDict_ice.py -> build/lib.macosx-10.9-x86_64-cpython-38\r\n",
      "  \u001B[31m   \u001B[0m copying lib/Ice_ObjectFactoryF_ice.py -> build/lib.macosx-10.9-x86_64-cpython-38\r\n",
      "  \u001B[31m   \u001B[0m copying lib/Ice_LoggerF_ice.py -> build/lib.macosx-10.9-x86_64-cpython-38\r\n",
      "  \u001B[31m   \u001B[0m copying lib/Ice_PropertiesF_ice.py -> build/lib.macosx-10.9-x86_64-cpython-38\r\n",
      "  \u001B[31m   \u001B[0m copying lib/Ice.py -> build/lib.macosx-10.9-x86_64-cpython-38\r\n",
      "  \u001B[31m   \u001B[0m copying lib/Ice_Locator_ice.py -> build/lib.macosx-10.9-x86_64-cpython-38\r\n",
      "  \u001B[31m   \u001B[0m copying lib/Glacier2_Router_ice.py -> build/lib.macosx-10.9-x86_64-cpython-38\r\n",
      "  \u001B[31m   \u001B[0m copying lib/Glacier2.py -> build/lib.macosx-10.9-x86_64-cpython-38\r\n",
      "  \u001B[31m   \u001B[0m copying lib/IceGrid_Query_ice.py -> build/lib.macosx-10.9-x86_64-cpython-38\r\n",
      "  \u001B[31m   \u001B[0m copying lib/Ice_PluginF_ice.py -> build/lib.macosx-10.9-x86_64-cpython-38\r\n",
      "  \u001B[31m   \u001B[0m copying lib/Ice_ObjectAdapter_ice.py -> build/lib.macosx-10.9-x86_64-cpython-38\r\n",
      "  \u001B[31m   \u001B[0m copying lib/Ice_Metrics_ice.py -> build/lib.macosx-10.9-x86_64-cpython-38\r\n",
      "  \u001B[31m   \u001B[0m copying lib/Ice_ServantLocator_ice.py -> build/lib.macosx-10.9-x86_64-cpython-38\r\n",
      "  \u001B[31m   \u001B[0m copying lib/Ice_EndpointTypes_ice.py -> build/lib.macosx-10.9-x86_64-cpython-38\r\n",
      "  \u001B[31m   \u001B[0m copying lib/Glacier2_PermissionsVerifier_ice.py -> build/lib.macosx-10.9-x86_64-cpython-38\r\n",
      "  \u001B[31m   \u001B[0m copying lib/Ice_EndpointF_ice.py -> build/lib.macosx-10.9-x86_64-cpython-38\r\n",
      "  \u001B[31m   \u001B[0m copying lib/IceStorm_IceStorm_ice.py -> build/lib.macosx-10.9-x86_64-cpython-38\r\n",
      "  \u001B[31m   \u001B[0m copying lib/Ice_ProcessF_ice.py -> build/lib.macosx-10.9-x86_64-cpython-38\r\n",
      "  \u001B[31m   \u001B[0m copying lib/Ice_RemoteLogger_ice.py -> build/lib.macosx-10.9-x86_64-cpython-38\r\n",
      "  \u001B[31m   \u001B[0m creating build/lib.macosx-10.9-x86_64-cpython-38/IceGrid\r\n",
      "  \u001B[31m   \u001B[0m copying lib/IceGrid/__init__.py -> build/lib.macosx-10.9-x86_64-cpython-38/IceGrid\r\n",
      "  \u001B[31m   \u001B[0m creating build/lib.macosx-10.9-x86_64-cpython-38/IceMX\r\n",
      "  \u001B[31m   \u001B[0m copying lib/IceMX/__init__.py -> build/lib.macosx-10.9-x86_64-cpython-38/IceMX\r\n",
      "  \u001B[31m   \u001B[0m creating build/lib.macosx-10.9-x86_64-cpython-38/IcePatch2\r\n",
      "  \u001B[31m   \u001B[0m copying lib/IcePatch2/__init__.py -> build/lib.macosx-10.9-x86_64-cpython-38/IcePatch2\r\n",
      "  \u001B[31m   \u001B[0m creating build/lib.macosx-10.9-x86_64-cpython-38/IceStorm\r\n",
      "  \u001B[31m   \u001B[0m copying lib/IceStorm/__init__.py -> build/lib.macosx-10.9-x86_64-cpython-38/IceStorm\r\n",
      "  \u001B[31m   \u001B[0m creating build/lib.macosx-10.9-x86_64-cpython-38/IceBox\r\n",
      "  \u001B[31m   \u001B[0m copying lib/IceBox/__init__.py -> build/lib.macosx-10.9-x86_64-cpython-38/IceBox\r\n",
      "  \u001B[31m   \u001B[0m creating build/lib.macosx-10.9-x86_64-cpython-38/slice\r\n",
      "  \u001B[31m   \u001B[0m creating build/lib.macosx-10.9-x86_64-cpython-38/slice/IceGrid\r\n",
      "  \u001B[31m   \u001B[0m copying lib/slice/IceGrid/UserAccountMapper.ice -> build/lib.macosx-10.9-x86_64-cpython-38/slice/IceGrid\r\n",
      "  \u001B[31m   \u001B[0m copying lib/slice/IceGrid/FileParser.ice -> build/lib.macosx-10.9-x86_64-cpython-38/slice/IceGrid\r\n",
      "  \u001B[31m   \u001B[0m copying lib/slice/IceGrid/Registry.ice -> build/lib.macosx-10.9-x86_64-cpython-38/slice/IceGrid\r\n",
      "  \u001B[31m   \u001B[0m copying lib/slice/IceGrid/Session.ice -> build/lib.macosx-10.9-x86_64-cpython-38/slice/IceGrid\r\n",
      "  \u001B[31m   \u001B[0m copying lib/slice/IceGrid/Locator.ice -> build/lib.macosx-10.9-x86_64-cpython-38/slice/IceGrid\r\n",
      "  \u001B[31m   \u001B[0m copying lib/slice/IceGrid/Observer.ice -> build/lib.macosx-10.9-x86_64-cpython-38/slice/IceGrid\r\n",
      "  \u001B[31m   \u001B[0m copying lib/slice/IceGrid/PluginFacade.ice -> build/lib.macosx-10.9-x86_64-cpython-38/slice/IceGrid\r\n",
      "  \u001B[31m   \u001B[0m copying lib/slice/IceGrid/Admin.ice -> build/lib.macosx-10.9-x86_64-cpython-38/slice/IceGrid\r\n",
      "  \u001B[31m   \u001B[0m copying lib/slice/IceGrid/Descriptor.ice -> build/lib.macosx-10.9-x86_64-cpython-38/slice/IceGrid\r\n",
      "  \u001B[31m   \u001B[0m copying lib/slice/IceGrid/Query.ice -> build/lib.macosx-10.9-x86_64-cpython-38/slice/IceGrid\r\n",
      "  \u001B[31m   \u001B[0m copying lib/slice/IceGrid/Exception.ice -> build/lib.macosx-10.9-x86_64-cpython-38/slice/IceGrid\r\n",
      "  \u001B[31m   \u001B[0m creating build/lib.macosx-10.9-x86_64-cpython-38/slice/Freeze\r\n",
      "  \u001B[31m   \u001B[0m copying lib/slice/Freeze/Transaction.ice -> build/lib.macosx-10.9-x86_64-cpython-38/slice/Freeze\r\n",
      "  \u001B[31m   \u001B[0m copying lib/slice/Freeze/Connection.ice -> build/lib.macosx-10.9-x86_64-cpython-38/slice/Freeze\r\n",
      "  \u001B[31m   \u001B[0m copying lib/slice/Freeze/TransactionalEvictor.ice -> build/lib.macosx-10.9-x86_64-cpython-38/slice/Freeze\r\n",
      "  \u001B[31m   \u001B[0m copying lib/slice/Freeze/CatalogData.ice -> build/lib.macosx-10.9-x86_64-cpython-38/slice/Freeze\r\n",
      "  \u001B[31m   \u001B[0m copying lib/slice/Freeze/ConnectionF.ice -> build/lib.macosx-10.9-x86_64-cpython-38/slice/Freeze\r\n",
      "  \u001B[31m   \u001B[0m copying lib/slice/Freeze/EvictorF.ice -> build/lib.macosx-10.9-x86_64-cpython-38/slice/Freeze\r\n",
      "  \u001B[31m   \u001B[0m copying lib/slice/Freeze/EvictorStorage.ice -> build/lib.macosx-10.9-x86_64-cpython-38/slice/Freeze\r\n",
      "  \u001B[31m   \u001B[0m copying lib/slice/Freeze/DB.ice -> build/lib.macosx-10.9-x86_64-cpython-38/slice/Freeze\r\n",
      "  \u001B[31m   \u001B[0m copying lib/slice/Freeze/BackgroundSaveEvictor.ice -> build/lib.macosx-10.9-x86_64-cpython-38/slice/Freeze\r\n",
      "  \u001B[31m   \u001B[0m copying lib/slice/Freeze/Exception.ice -> build/lib.macosx-10.9-x86_64-cpython-38/slice/Freeze\r\n",
      "  \u001B[31m   \u001B[0m copying lib/slice/Freeze/Evictor.ice -> build/lib.macosx-10.9-x86_64-cpython-38/slice/Freeze\r\n",
      "  \u001B[31m   \u001B[0m creating build/lib.macosx-10.9-x86_64-cpython-38/slice/IceDiscovery\r\n",
      "  \u001B[31m   \u001B[0m copying lib/slice/IceDiscovery/IceDiscovery.ice -> build/lib.macosx-10.9-x86_64-cpython-38/slice/IceDiscovery\r\n",
      "  \u001B[31m   \u001B[0m creating build/lib.macosx-10.9-x86_64-cpython-38/slice/IcePatch2\r\n",
      "  \u001B[31m   \u001B[0m copying lib/slice/IcePatch2/FileServer.ice -> build/lib.macosx-10.9-x86_64-cpython-38/slice/IcePatch2\r\n",
      "  \u001B[31m   \u001B[0m copying lib/slice/IcePatch2/FileInfo.ice -> build/lib.macosx-10.9-x86_64-cpython-38/slice/IcePatch2\r\n",
      "  \u001B[31m   \u001B[0m creating build/lib.macosx-10.9-x86_64-cpython-38/slice/Ice\r\n",
      "  \u001B[31m   \u001B[0m copying lib/slice/Ice/ObjectAdapter.ice -> build/lib.macosx-10.9-x86_64-cpython-38/slice/Ice\r\n",
      "  \u001B[31m   \u001B[0m copying lib/slice/Ice/SliceChecksumDict.ice -> build/lib.macosx-10.9-x86_64-cpython-38/slice/Ice\r\n",
      "  \u001B[31m   \u001B[0m copying lib/slice/Ice/ImplicitContextF.ice -> build/lib.macosx-10.9-x86_64-cpython-38/slice/Ice\r\n",
      "  \u001B[31m   \u001B[0m copying lib/slice/Ice/Logger.ice -> build/lib.macosx-10.9-x86_64-cpython-38/slice/Ice\r\n",
      "  \u001B[31m   \u001B[0m copying lib/slice/Ice/Connection.ice -> build/lib.macosx-10.9-x86_64-cpython-38/slice/Ice\r\n",
      "  \u001B[31m   \u001B[0m copying lib/slice/Ice/RemoteLogger.ice -> build/lib.macosx-10.9-x86_64-cpython-38/slice/Ice\r\n",
      "  \u001B[31m   \u001B[0m copying lib/slice/Ice/PropertiesAdmin.ice -> build/lib.macosx-10.9-x86_64-cpython-38/slice/Ice\r\n",
      "  \u001B[31m   \u001B[0m copying lib/slice/Ice/EndpointF.ice -> build/lib.macosx-10.9-x86_64-cpython-38/slice/Ice\r\n",
      "  \u001B[31m   \u001B[0m copying lib/slice/Ice/Communicator.ice -> build/lib.macosx-10.9-x86_64-cpython-38/slice/Ice\r\n",
      "  \u001B[31m   \u001B[0m copying lib/slice/Ice/Plugin.ice -> build/lib.macosx-10.9-x86_64-cpython-38/slice/Ice\r\n",
      "  \u001B[31m   \u001B[0m copying lib/slice/Ice/ObjectAdapterF.ice -> build/lib.macosx-10.9-x86_64-cpython-38/slice/Ice\r\n",
      "  \u001B[31m   \u001B[0m copying lib/slice/Ice/Properties.ice -> build/lib.macosx-10.9-x86_64-cpython-38/slice/Ice\r\n",
      "  \u001B[31m   \u001B[0m copying lib/slice/Ice/ConnectionF.ice -> build/lib.macosx-10.9-x86_64-cpython-38/slice/Ice\r\n",
      "  \u001B[31m   \u001B[0m copying lib/slice/Ice/LocalException.ice -> build/lib.macosx-10.9-x86_64-cpython-38/slice/Ice\r\n",
      "  \u001B[31m   \u001B[0m copying lib/slice/Ice/Locator.ice -> build/lib.macosx-10.9-x86_64-cpython-38/slice/Ice\r\n",
      "  \u001B[31m   \u001B[0m copying lib/slice/Ice/PluginF.ice -> build/lib.macosx-10.9-x86_64-cpython-38/slice/Ice\r\n",
      "  \u001B[31m   \u001B[0m copying lib/slice/Ice/PropertiesF.ice -> build/lib.macosx-10.9-x86_64-cpython-38/slice/Ice\r\n",
      "  \u001B[31m   \u001B[0m copying lib/slice/Ice/BuiltinSequences.ice -> build/lib.macosx-10.9-x86_64-cpython-38/slice/Ice\r\n",
      "  \u001B[31m   \u001B[0m copying lib/slice/Ice/Version.ice -> build/lib.macosx-10.9-x86_64-cpython-38/slice/Ice\r\n",
      "  \u001B[31m   \u001B[0m copying lib/slice/Ice/ObjectFactoryF.ice -> build/lib.macosx-10.9-x86_64-cpython-38/slice/Ice\r\n",
      "  \u001B[31m   \u001B[0m copying lib/slice/Ice/ServantLocator.ice -> build/lib.macosx-10.9-x86_64-cpython-38/slice/Ice\r\n",
      "  \u001B[31m   \u001B[0m copying lib/slice/Ice/InstrumentationF.ice -> build/lib.macosx-10.9-x86_64-cpython-38/slice/Ice\r\n",
      "  \u001B[31m   \u001B[0m copying lib/slice/Ice/Router.ice -> build/lib.macosx-10.9-x86_64-cpython-38/slice/Ice\r\n",
      "  \u001B[31m   \u001B[0m copying lib/slice/Ice/Endpoint.ice -> build/lib.macosx-10.9-x86_64-cpython-38/slice/Ice\r\n",
      "  \u001B[31m   \u001B[0m copying lib/slice/Ice/Metrics.ice -> build/lib.macosx-10.9-x86_64-cpython-38/slice/Ice\r\n",
      "  \u001B[31m   \u001B[0m copying lib/slice/Ice/ObjectFactory.ice -> build/lib.macosx-10.9-x86_64-cpython-38/slice/Ice\r\n",
      "  \u001B[31m   \u001B[0m copying lib/slice/Ice/Instrumentation.ice -> build/lib.macosx-10.9-x86_64-cpython-38/slice/Ice\r\n",
      "  \u001B[31m   \u001B[0m copying lib/slice/Ice/Identity.ice -> build/lib.macosx-10.9-x86_64-cpython-38/slice/Ice\r\n",
      "  \u001B[31m   \u001B[0m copying lib/slice/Ice/LoggerF.ice -> build/lib.macosx-10.9-x86_64-cpython-38/slice/Ice\r\n",
      "  \u001B[31m   \u001B[0m copying lib/slice/Ice/LocatorF.ice -> build/lib.macosx-10.9-x86_64-cpython-38/slice/Ice\r\n",
      "  \u001B[31m   \u001B[0m copying lib/slice/Ice/EndpointTypes.ice -> build/lib.macosx-10.9-x86_64-cpython-38/slice/Ice\r\n",
      "  \u001B[31m   \u001B[0m copying lib/slice/Ice/CommunicatorF.ice -> build/lib.macosx-10.9-x86_64-cpython-38/slice/Ice\r\n",
      "  \u001B[31m   \u001B[0m copying lib/slice/Ice/Current.ice -> build/lib.macosx-10.9-x86_64-cpython-38/slice/Ice\r\n",
      "  \u001B[31m   \u001B[0m copying lib/slice/Ice/ProcessF.ice -> build/lib.macosx-10.9-x86_64-cpython-38/slice/Ice\r\n",
      "  \u001B[31m   \u001B[0m copying lib/slice/Ice/RouterF.ice -> build/lib.macosx-10.9-x86_64-cpython-38/slice/Ice\r\n",
      "  \u001B[31m   \u001B[0m copying lib/slice/Ice/Process.ice -> build/lib.macosx-10.9-x86_64-cpython-38/slice/Ice\r\n",
      "  \u001B[31m   \u001B[0m copying lib/slice/Ice/ImplicitContext.ice -> build/lib.macosx-10.9-x86_64-cpython-38/slice/Ice\r\n",
      "  \u001B[31m   \u001B[0m copying lib/slice/Ice/FacetMap.ice -> build/lib.macosx-10.9-x86_64-cpython-38/slice/Ice\r\n",
      "  \u001B[31m   \u001B[0m copying lib/slice/Ice/ServantLocatorF.ice -> build/lib.macosx-10.9-x86_64-cpython-38/slice/Ice\r\n",
      "  \u001B[31m   \u001B[0m creating build/lib.macosx-10.9-x86_64-cpython-38/slice/Glacier2\r\n",
      "  \u001B[31m   \u001B[0m copying lib/slice/Glacier2/Session.ice -> build/lib.macosx-10.9-x86_64-cpython-38/slice/Glacier2\r\n",
      "  \u001B[31m   \u001B[0m copying lib/slice/Glacier2/PermissionsVerifier.ice -> build/lib.macosx-10.9-x86_64-cpython-38/slice/Glacier2\r\n",
      "  \u001B[31m   \u001B[0m copying lib/slice/Glacier2/PermissionsVerifierF.ice -> build/lib.macosx-10.9-x86_64-cpython-38/slice/Glacier2\r\n",
      "  \u001B[31m   \u001B[0m copying lib/slice/Glacier2/SSLInfo.ice -> build/lib.macosx-10.9-x86_64-cpython-38/slice/Glacier2\r\n",
      "  \u001B[31m   \u001B[0m copying lib/slice/Glacier2/Router.ice -> build/lib.macosx-10.9-x86_64-cpython-38/slice/Glacier2\r\n",
      "  \u001B[31m   \u001B[0m copying lib/slice/Glacier2/Metrics.ice -> build/lib.macosx-10.9-x86_64-cpython-38/slice/Glacier2\r\n",
      "  \u001B[31m   \u001B[0m copying lib/slice/Glacier2/RouterF.ice -> build/lib.macosx-10.9-x86_64-cpython-38/slice/Glacier2\r\n",
      "  \u001B[31m   \u001B[0m creating build/lib.macosx-10.9-x86_64-cpython-38/slice/IceStorm\r\n",
      "  \u001B[31m   \u001B[0m copying lib/slice/IceStorm/IceStorm.ice -> build/lib.macosx-10.9-x86_64-cpython-38/slice/IceStorm\r\n",
      "  \u001B[31m   \u001B[0m copying lib/slice/IceStorm/Metrics.ice -> build/lib.macosx-10.9-x86_64-cpython-38/slice/IceStorm\r\n",
      "  \u001B[31m   \u001B[0m creating build/lib.macosx-10.9-x86_64-cpython-38/slice/IceLocatorDiscovery\r\n",
      "  \u001B[31m   \u001B[0m copying lib/slice/IceLocatorDiscovery/IceLocatorDiscovery.ice -> build/lib.macosx-10.9-x86_64-cpython-38/slice/IceLocatorDiscovery\r\n",
      "  \u001B[31m   \u001B[0m creating build/lib.macosx-10.9-x86_64-cpython-38/slice/IceSSL\r\n",
      "  \u001B[31m   \u001B[0m copying lib/slice/IceSSL/EndpointInfo.ice -> build/lib.macosx-10.9-x86_64-cpython-38/slice/IceSSL\r\n",
      "  \u001B[31m   \u001B[0m copying lib/slice/IceSSL/ConnectionInfo.ice -> build/lib.macosx-10.9-x86_64-cpython-38/slice/IceSSL\r\n",
      "  \u001B[31m   \u001B[0m creating build/lib.macosx-10.9-x86_64-cpython-38/slice/IceBox\r\n",
      "  \u001B[31m   \u001B[0m copying lib/slice/IceBox/IceBox.ice -> build/lib.macosx-10.9-x86_64-cpython-38/slice/IceBox\r\n",
      "  \u001B[31m   \u001B[0m running build_ext\r\n",
      "  \u001B[31m   \u001B[0m building 'IcePy' extension\r\n",
      "  \u001B[31m   \u001B[0m creating build/temp.macosx-10.9-x86_64-cpython-38\r\n",
      "  \u001B[31m   \u001B[0m creating build/temp.macosx-10.9-x86_64-cpython-38/src\r\n",
      "  \u001B[31m   \u001B[0m creating build/temp.macosx-10.9-x86_64-cpython-38/src/ice\r\n",
      "  \u001B[31m   \u001B[0m creating build/temp.macosx-10.9-x86_64-cpython-38/src/ice/cpp\r\n",
      "  \u001B[31m   \u001B[0m creating build/temp.macosx-10.9-x86_64-cpython-38/src/ice/cpp/src\r\n",
      "  \u001B[31m   \u001B[0m creating build/temp.macosx-10.9-x86_64-cpython-38/src/ice/cpp/src/Ice\r\n",
      "  \u001B[31m   \u001B[0m creating build/temp.macosx-10.9-x86_64-cpython-38/src/ice/cpp/src/IceDiscovery\r\n",
      "  \u001B[31m   \u001B[0m creating build/temp.macosx-10.9-x86_64-cpython-38/src/ice/cpp/src/IceLocatorDiscovery\r\n",
      "  \u001B[31m   \u001B[0m creating build/temp.macosx-10.9-x86_64-cpython-38/src/ice/cpp/src/IceSSL\r\n",
      "  \u001B[31m   \u001B[0m creating build/temp.macosx-10.9-x86_64-cpython-38/src/ice/cpp/src/IceUtil\r\n",
      "  \u001B[31m   \u001B[0m creating build/temp.macosx-10.9-x86_64-cpython-38/src/ice/cpp/src/Slice\r\n",
      "  \u001B[31m   \u001B[0m creating build/temp.macosx-10.9-x86_64-cpython-38/src/ice/mcpp\r\n",
      "  \u001B[31m   \u001B[0m clang -Wno-unused-result -Wsign-compare -Wunreachable-code -DNDEBUG -fwrapv -O2 -Wall -fPIC -O2 -isystem /opt/anaconda3/envs/devhome/include -fPIC -O2 -isystem /opt/anaconda3/envs/devhome/include -arch x86_64 -DICE_STATIC_LIBS -Isrc -Isrc/ice/cpp/include -Isrc/ice/cpp/src -I/opt/anaconda3/envs/devhome/include/python3.8 -c src/BatchRequestInterceptor.cpp -o build/temp.macosx-10.9-x86_64-cpython-38/src/BatchRequestInterceptor.o -w\r\n",
      "  \u001B[31m   \u001B[0m clang -Wno-unused-result -Wsign-compare -Wunreachable-code -DNDEBUG -fwrapv -O2 -Wall -fPIC -O2 -isystem /opt/anaconda3/envs/devhome/include -fPIC -O2 -isystem /opt/anaconda3/envs/devhome/include -arch x86_64 -DICE_STATIC_LIBS -Isrc -Isrc/ice/cpp/include -Isrc/ice/cpp/src -I/opt/anaconda3/envs/devhome/include/python3.8 -c src/Communicator.cpp -o build/temp.macosx-10.9-x86_64-cpython-38/src/Communicator.o -w\r\n",
      "  \u001B[31m   \u001B[0m clang -Wno-unused-result -Wsign-compare -Wunreachable-code -DNDEBUG -fwrapv -O2 -Wall -fPIC -O2 -isystem /opt/anaconda3/envs/devhome/include -fPIC -O2 -isystem /opt/anaconda3/envs/devhome/include -arch x86_64 -DICE_STATIC_LIBS -Isrc -Isrc/ice/cpp/include -Isrc/ice/cpp/src -I/opt/anaconda3/envs/devhome/include/python3.8 -c src/Connection.cpp -o build/temp.macosx-10.9-x86_64-cpython-38/src/Connection.o -w\r\n",
      "  \u001B[31m   \u001B[0m clang -Wno-unused-result -Wsign-compare -Wunreachable-code -DNDEBUG -fwrapv -O2 -Wall -fPIC -O2 -isystem /opt/anaconda3/envs/devhome/include -fPIC -O2 -isystem /opt/anaconda3/envs/devhome/include -arch x86_64 -DICE_STATIC_LIBS -Isrc -Isrc/ice/cpp/include -Isrc/ice/cpp/src -I/opt/anaconda3/envs/devhome/include/python3.8 -c src/ConnectionInfo.cpp -o build/temp.macosx-10.9-x86_64-cpython-38/src/ConnectionInfo.o -w\r\n",
      "  \u001B[31m   \u001B[0m clang -Wno-unused-result -Wsign-compare -Wunreachable-code -DNDEBUG -fwrapv -O2 -Wall -fPIC -O2 -isystem /opt/anaconda3/envs/devhome/include -fPIC -O2 -isystem /opt/anaconda3/envs/devhome/include -arch x86_64 -DICE_STATIC_LIBS -Isrc -Isrc/ice/cpp/include -Isrc/ice/cpp/src -I/opt/anaconda3/envs/devhome/include/python3.8 -c src/Current.cpp -o build/temp.macosx-10.9-x86_64-cpython-38/src/Current.o -w\r\n",
      "  \u001B[31m   \u001B[0m clang -Wno-unused-result -Wsign-compare -Wunreachable-code -DNDEBUG -fwrapv -O2 -Wall -fPIC -O2 -isystem /opt/anaconda3/envs/devhome/include -fPIC -O2 -isystem /opt/anaconda3/envs/devhome/include -arch x86_64 -DICE_STATIC_LIBS -Isrc -Isrc/ice/cpp/include -Isrc/ice/cpp/src -I/opt/anaconda3/envs/devhome/include/python3.8 -c src/Endpoint.cpp -o build/temp.macosx-10.9-x86_64-cpython-38/src/Endpoint.o -w\r\n",
      "  \u001B[31m   \u001B[0m clang -Wno-unused-result -Wsign-compare -Wunreachable-code -DNDEBUG -fwrapv -O2 -Wall -fPIC -O2 -isystem /opt/anaconda3/envs/devhome/include -fPIC -O2 -isystem /opt/anaconda3/envs/devhome/include -arch x86_64 -DICE_STATIC_LIBS -Isrc -Isrc/ice/cpp/include -Isrc/ice/cpp/src -I/opt/anaconda3/envs/devhome/include/python3.8 -c src/EndpointInfo.cpp -o build/temp.macosx-10.9-x86_64-cpython-38/src/EndpointInfo.o -w\r\n",
      "  \u001B[31m   \u001B[0m clang -Wno-unused-result -Wsign-compare -Wunreachable-code -DNDEBUG -fwrapv -O2 -Wall -fPIC -O2 -isystem /opt/anaconda3/envs/devhome/include -fPIC -O2 -isystem /opt/anaconda3/envs/devhome/include -arch x86_64 -DICE_STATIC_LIBS -Isrc -Isrc/ice/cpp/include -Isrc/ice/cpp/src -I/opt/anaconda3/envs/devhome/include/python3.8 -c src/ImplicitContext.cpp -o build/temp.macosx-10.9-x86_64-cpython-38/src/ImplicitContext.o -w\r\n",
      "  \u001B[31m   \u001B[0m clang -Wno-unused-result -Wsign-compare -Wunreachable-code -DNDEBUG -fwrapv -O2 -Wall -fPIC -O2 -isystem /opt/anaconda3/envs/devhome/include -fPIC -O2 -isystem /opt/anaconda3/envs/devhome/include -arch x86_64 -DICE_STATIC_LIBS -Isrc -Isrc/ice/cpp/include -Isrc/ice/cpp/src -I/opt/anaconda3/envs/devhome/include/python3.8 -c src/Init.cpp -o build/temp.macosx-10.9-x86_64-cpython-38/src/Init.o -w\r\n",
      "  \u001B[31m   \u001B[0m clang -Wno-unused-result -Wsign-compare -Wunreachable-code -DNDEBUG -fwrapv -O2 -Wall -fPIC -O2 -isystem /opt/anaconda3/envs/devhome/include -fPIC -O2 -isystem /opt/anaconda3/envs/devhome/include -arch x86_64 -DICE_STATIC_LIBS -Isrc -Isrc/ice/cpp/include -Isrc/ice/cpp/src -I/opt/anaconda3/envs/devhome/include/python3.8 -c src/Logger.cpp -o build/temp.macosx-10.9-x86_64-cpython-38/src/Logger.o -w\r\n",
      "  \u001B[31m   \u001B[0m clang -Wno-unused-result -Wsign-compare -Wunreachable-code -DNDEBUG -fwrapv -O2 -Wall -fPIC -O2 -isystem /opt/anaconda3/envs/devhome/include -fPIC -O2 -isystem /opt/anaconda3/envs/devhome/include -arch x86_64 -DICE_STATIC_LIBS -Isrc -Isrc/ice/cpp/include -Isrc/ice/cpp/src -I/opt/anaconda3/envs/devhome/include/python3.8 -c src/ObjectAdapter.cpp -o build/temp.macosx-10.9-x86_64-cpython-38/src/ObjectAdapter.o -w\r\n",
      "  \u001B[31m   \u001B[0m clang -Wno-unused-result -Wsign-compare -Wunreachable-code -DNDEBUG -fwrapv -O2 -Wall -fPIC -O2 -isystem /opt/anaconda3/envs/devhome/include -fPIC -O2 -isystem /opt/anaconda3/envs/devhome/include -arch x86_64 -DICE_STATIC_LIBS -Isrc -Isrc/ice/cpp/include -Isrc/ice/cpp/src -I/opt/anaconda3/envs/devhome/include/python3.8 -c src/ObjectFactory.cpp -o build/temp.macosx-10.9-x86_64-cpython-38/src/ObjectFactory.o -w\r\n",
      "  \u001B[31m   \u001B[0m clang -Wno-unused-result -Wsign-compare -Wunreachable-code -DNDEBUG -fwrapv -O2 -Wall -fPIC -O2 -isystem /opt/anaconda3/envs/devhome/include -fPIC -O2 -isystem /opt/anaconda3/envs/devhome/include -arch x86_64 -DICE_STATIC_LIBS -Isrc -Isrc/ice/cpp/include -Isrc/ice/cpp/src -I/opt/anaconda3/envs/devhome/include/python3.8 -c src/Operation.cpp -o build/temp.macosx-10.9-x86_64-cpython-38/src/Operation.o -w\r\n",
      "  \u001B[31m   \u001B[0m clang -Wno-unused-result -Wsign-compare -Wunreachable-code -DNDEBUG -fwrapv -O2 -Wall -fPIC -O2 -isystem /opt/anaconda3/envs/devhome/include -fPIC -O2 -isystem /opt/anaconda3/envs/devhome/include -arch x86_64 -DICE_STATIC_LIBS -Isrc -Isrc/ice/cpp/include -Isrc/ice/cpp/src -I/opt/anaconda3/envs/devhome/include/python3.8 -c src/Properties.cpp -o build/temp.macosx-10.9-x86_64-cpython-38/src/Properties.o -w\r\n",
      "  \u001B[31m   \u001B[0m clang -Wno-unused-result -Wsign-compare -Wunreachable-code -DNDEBUG -fwrapv -O2 -Wall -fPIC -O2 -isystem /opt/anaconda3/envs/devhome/include -fPIC -O2 -isystem /opt/anaconda3/envs/devhome/include -arch x86_64 -DICE_STATIC_LIBS -Isrc -Isrc/ice/cpp/include -Isrc/ice/cpp/src -I/opt/anaconda3/envs/devhome/include/python3.8 -c src/PropertiesAdmin.cpp -o build/temp.macosx-10.9-x86_64-cpython-38/src/PropertiesAdmin.o -w\r\n",
      "  \u001B[31m   \u001B[0m clang -Wno-unused-result -Wsign-compare -Wunreachable-code -DNDEBUG -fwrapv -O2 -Wall -fPIC -O2 -isystem /opt/anaconda3/envs/devhome/include -fPIC -O2 -isystem /opt/anaconda3/envs/devhome/include -arch x86_64 -DICE_STATIC_LIBS -Isrc -Isrc/ice/cpp/include -Isrc/ice/cpp/src -I/opt/anaconda3/envs/devhome/include/python3.8 -c src/Proxy.cpp -o build/temp.macosx-10.9-x86_64-cpython-38/src/Proxy.o -w\r\n",
      "  \u001B[31m   \u001B[0m clang -Wno-unused-result -Wsign-compare -Wunreachable-code -DNDEBUG -fwrapv -O2 -Wall -fPIC -O2 -isystem /opt/anaconda3/envs/devhome/include -fPIC -O2 -isystem /opt/anaconda3/envs/devhome/include -arch x86_64 -DICE_STATIC_LIBS -Isrc -Isrc/ice/cpp/include -Isrc/ice/cpp/src -I/opt/anaconda3/envs/devhome/include/python3.8 -c src/Slice.cpp -o build/temp.macosx-10.9-x86_64-cpython-38/src/Slice.o -w\r\n",
      "  \u001B[31m   \u001B[0m clang -Wno-unused-result -Wsign-compare -Wunreachable-code -DNDEBUG -fwrapv -O2 -Wall -fPIC -O2 -isystem /opt/anaconda3/envs/devhome/include -fPIC -O2 -isystem /opt/anaconda3/envs/devhome/include -arch x86_64 -DICE_STATIC_LIBS -Isrc -Isrc/ice/cpp/include -Isrc/ice/cpp/src -I/opt/anaconda3/envs/devhome/include/python3.8 -c src/Thread.cpp -o build/temp.macosx-10.9-x86_64-cpython-38/src/Thread.o -w\r\n",
      "  \u001B[31m   \u001B[0m clang -Wno-unused-result -Wsign-compare -Wunreachable-code -DNDEBUG -fwrapv -O2 -Wall -fPIC -O2 -isystem /opt/anaconda3/envs/devhome/include -fPIC -O2 -isystem /opt/anaconda3/envs/devhome/include -arch x86_64 -DICE_STATIC_LIBS -Isrc -Isrc/ice/cpp/include -Isrc/ice/cpp/src -I/opt/anaconda3/envs/devhome/include/python3.8 -c src/Types.cpp -o build/temp.macosx-10.9-x86_64-cpython-38/src/Types.o -w\r\n",
      "  \u001B[31m   \u001B[0m clang -Wno-unused-result -Wsign-compare -Wunreachable-code -DNDEBUG -fwrapv -O2 -Wall -fPIC -O2 -isystem /opt/anaconda3/envs/devhome/include -fPIC -O2 -isystem /opt/anaconda3/envs/devhome/include -arch x86_64 -DICE_STATIC_LIBS -Isrc -Isrc/ice/cpp/include -Isrc/ice/cpp/src -I/opt/anaconda3/envs/devhome/include/python3.8 -c src/Util.cpp -o build/temp.macosx-10.9-x86_64-cpython-38/src/Util.o -w\r\n",
      "  \u001B[31m   \u001B[0m clang -Wno-unused-result -Wsign-compare -Wunreachable-code -DNDEBUG -fwrapv -O2 -Wall -fPIC -O2 -isystem /opt/anaconda3/envs/devhome/include -fPIC -O2 -isystem /opt/anaconda3/envs/devhome/include -arch x86_64 -DICE_STATIC_LIBS -Isrc -Isrc/ice/cpp/include -Isrc/ice/cpp/src -I/opt/anaconda3/envs/devhome/include/python3.8 -c src/ice/cpp/src/Ice/ACM.cpp -o build/temp.macosx-10.9-x86_64-cpython-38/src/ice/cpp/src/Ice/ACM.o -w\r\n",
      "  \u001B[31m   \u001B[0m clang -Wno-unused-result -Wsign-compare -Wunreachable-code -DNDEBUG -fwrapv -O2 -Wall -fPIC -O2 -isystem /opt/anaconda3/envs/devhome/include -fPIC -O2 -isystem /opt/anaconda3/envs/devhome/include -arch x86_64 -DICE_STATIC_LIBS -Isrc -Isrc/ice/cpp/include -Isrc/ice/cpp/src -I/opt/anaconda3/envs/devhome/include/python3.8 -c src/ice/cpp/src/Ice/Acceptor.cpp -o build/temp.macosx-10.9-x86_64-cpython-38/src/ice/cpp/src/Ice/Acceptor.o -w\r\n",
      "  \u001B[31m   \u001B[0m clang -Wno-unused-result -Wsign-compare -Wunreachable-code -DNDEBUG -fwrapv -O2 -Wall -fPIC -O2 -isystem /opt/anaconda3/envs/devhome/include -fPIC -O2 -isystem /opt/anaconda3/envs/devhome/include -arch x86_64 -DICE_STATIC_LIBS -Isrc -Isrc/ice/cpp/include -Isrc/ice/cpp/src -I/opt/anaconda3/envs/devhome/include/python3.8 -c src/ice/cpp/src/Ice/AsyncResult.cpp -o build/temp.macosx-10.9-x86_64-cpython-38/src/ice/cpp/src/Ice/AsyncResult.o -w\r\n",
      "  \u001B[31m   \u001B[0m clang -Wno-unused-result -Wsign-compare -Wunreachable-code -DNDEBUG -fwrapv -O2 -Wall -fPIC -O2 -isystem /opt/anaconda3/envs/devhome/include -fPIC -O2 -isystem /opt/anaconda3/envs/devhome/include -arch x86_64 -DICE_STATIC_LIBS -Isrc -Isrc/ice/cpp/include -Isrc/ice/cpp/src -I/opt/anaconda3/envs/devhome/include/python3.8 -c src/ice/cpp/src/Ice/Base64.cpp -o build/temp.macosx-10.9-x86_64-cpython-38/src/ice/cpp/src/Ice/Base64.o -w\r\n",
      "  \u001B[31m   \u001B[0m clang -Wno-unused-result -Wsign-compare -Wunreachable-code -DNDEBUG -fwrapv -O2 -Wall -fPIC -O2 -isystem /opt/anaconda3/envs/devhome/include -fPIC -O2 -isystem /opt/anaconda3/envs/devhome/include -arch x86_64 -DICE_STATIC_LIBS -Isrc -Isrc/ice/cpp/include -Isrc/ice/cpp/src -I/opt/anaconda3/envs/devhome/include/python3.8 -c src/ice/cpp/src/Ice/BasicStream.cpp -o build/temp.macosx-10.9-x86_64-cpython-38/src/ice/cpp/src/Ice/BasicStream.o -w\r\n",
      "  \u001B[31m   \u001B[0m clang -Wno-unused-result -Wsign-compare -Wunreachable-code -DNDEBUG -fwrapv -O2 -Wall -fPIC -O2 -isystem /opt/anaconda3/envs/devhome/include -fPIC -O2 -isystem /opt/anaconda3/envs/devhome/include -arch x86_64 -DICE_STATIC_LIBS -Isrc -Isrc/ice/cpp/include -Isrc/ice/cpp/src -I/opt/anaconda3/envs/devhome/include/python3.8 -c src/ice/cpp/src/Ice/BatchRequestQueue.cpp -o build/temp.macosx-10.9-x86_64-cpython-38/src/ice/cpp/src/Ice/BatchRequestQueue.o -w\r\n",
      "  \u001B[31m   \u001B[0m clang -Wno-unused-result -Wsign-compare -Wunreachable-code -DNDEBUG -fwrapv -O2 -Wall -fPIC -O2 -isystem /opt/anaconda3/envs/devhome/include -fPIC -O2 -isystem /opt/anaconda3/envs/devhome/include -arch x86_64 -DICE_STATIC_LIBS -Isrc -Isrc/ice/cpp/include -Isrc/ice/cpp/src -I/opt/anaconda3/envs/devhome/include/python3.8 -c src/ice/cpp/src/Ice/Buffer.cpp -o build/temp.macosx-10.9-x86_64-cpython-38/src/ice/cpp/src/Ice/Buffer.o -w\r\n",
      "  \u001B[31m   \u001B[0m clang -Wno-unused-result -Wsign-compare -Wunreachable-code -DNDEBUG -fwrapv -O2 -Wall -fPIC -O2 -isystem /opt/anaconda3/envs/devhome/include -fPIC -O2 -isystem /opt/anaconda3/envs/devhome/include -arch x86_64 -DICE_STATIC_LIBS -Isrc -Isrc/ice/cpp/include -Isrc/ice/cpp/src -I/opt/anaconda3/envs/devhome/include/python3.8 -c src/ice/cpp/src/Ice/BuiltinSequences.cpp -o build/temp.macosx-10.9-x86_64-cpython-38/src/ice/cpp/src/Ice/BuiltinSequences.o -w\r\n",
      "  \u001B[31m   \u001B[0m clang -Wno-unused-result -Wsign-compare -Wunreachable-code -DNDEBUG -fwrapv -O2 -Wall -fPIC -O2 -isystem /opt/anaconda3/envs/devhome/include -fPIC -O2 -isystem /opt/anaconda3/envs/devhome/include -arch x86_64 -DICE_STATIC_LIBS -Isrc -Isrc/ice/cpp/include -Isrc/ice/cpp/src -I/opt/anaconda3/envs/devhome/include/python3.8 -c src/ice/cpp/src/Ice/CollocatedRequestHandler.cpp -o build/temp.macosx-10.9-x86_64-cpython-38/src/ice/cpp/src/Ice/CollocatedRequestHandler.o -w\r\n",
      "  \u001B[31m   \u001B[0m clang -Wno-unused-result -Wsign-compare -Wunreachable-code -DNDEBUG -fwrapv -O2 -Wall -fPIC -O2 -isystem /opt/anaconda3/envs/devhome/include -fPIC -O2 -isystem /opt/anaconda3/envs/devhome/include -arch x86_64 -DICE_STATIC_LIBS -Isrc -Isrc/ice/cpp/include -Isrc/ice/cpp/src -I/opt/anaconda3/envs/devhome/include/python3.8 -c src/ice/cpp/src/Ice/Communicator.cpp -o build/temp.macosx-10.9-x86_64-cpython-38/src/ice/cpp/src/Ice/Communicator.o -w\r\n",
      "  \u001B[31m   \u001B[0m clang -Wno-unused-result -Wsign-compare -Wunreachable-code -DNDEBUG -fwrapv -O2 -Wall -fPIC -O2 -isystem /opt/anaconda3/envs/devhome/include -fPIC -O2 -isystem /opt/anaconda3/envs/devhome/include -arch x86_64 -DICE_STATIC_LIBS -Isrc -Isrc/ice/cpp/include -Isrc/ice/cpp/src -I/opt/anaconda3/envs/devhome/include/python3.8 -c src/ice/cpp/src/Ice/CommunicatorF.cpp -o build/temp.macosx-10.9-x86_64-cpython-38/src/ice/cpp/src/Ice/CommunicatorF.o -w\r\n",
      "  \u001B[31m   \u001B[0m clang -Wno-unused-result -Wsign-compare -Wunreachable-code -DNDEBUG -fwrapv -O2 -Wall -fPIC -O2 -isystem /opt/anaconda3/envs/devhome/include -fPIC -O2 -isystem /opt/anaconda3/envs/devhome/include -arch x86_64 -DICE_STATIC_LIBS -Isrc -Isrc/ice/cpp/include -Isrc/ice/cpp/src -I/opt/anaconda3/envs/devhome/include/python3.8 -c src/ice/cpp/src/Ice/CommunicatorI.cpp -o build/temp.macosx-10.9-x86_64-cpython-38/src/ice/cpp/src/Ice/CommunicatorI.o -w\r\n",
      "  \u001B[31m   \u001B[0m clang -Wno-unused-result -Wsign-compare -Wunreachable-code -DNDEBUG -fwrapv -O2 -Wall -fPIC -O2 -isystem /opt/anaconda3/envs/devhome/include -fPIC -O2 -isystem /opt/anaconda3/envs/devhome/include -arch x86_64 -DICE_STATIC_LIBS -Isrc -Isrc/ice/cpp/include -Isrc/ice/cpp/src -I/opt/anaconda3/envs/devhome/include/python3.8 -c src/ice/cpp/src/Ice/ConnectRequestHandler.cpp -o build/temp.macosx-10.9-x86_64-cpython-38/src/ice/cpp/src/Ice/ConnectRequestHandler.o -w\r\n",
      "  \u001B[31m   \u001B[0m clang -Wno-unused-result -Wsign-compare -Wunreachable-code -DNDEBUG -fwrapv -O2 -Wall -fPIC -O2 -isystem /opt/anaconda3/envs/devhome/include -fPIC -O2 -isystem /opt/anaconda3/envs/devhome/include -arch x86_64 -DICE_STATIC_LIBS -Isrc -Isrc/ice/cpp/include -Isrc/ice/cpp/src -I/opt/anaconda3/envs/devhome/include/python3.8 -c src/ice/cpp/src/Ice/Connection.cpp -o build/temp.macosx-10.9-x86_64-cpython-38/src/ice/cpp/src/Ice/Connection.o -w\r\n",
      "  \u001B[31m   \u001B[0m clang -Wno-unused-result -Wsign-compare -Wunreachable-code -DNDEBUG -fwrapv -O2 -Wall -fPIC -O2 -isystem /opt/anaconda3/envs/devhome/include -fPIC -O2 -isystem /opt/anaconda3/envs/devhome/include -arch x86_64 -DICE_STATIC_LIBS -Isrc -Isrc/ice/cpp/include -Isrc/ice/cpp/src -I/opt/anaconda3/envs/devhome/include/python3.8 -c src/ice/cpp/src/Ice/ConnectionF.cpp -o build/temp.macosx-10.9-x86_64-cpython-38/src/ice/cpp/src/Ice/ConnectionF.o -w\r\n",
      "  \u001B[31m   \u001B[0m clang -Wno-unused-result -Wsign-compare -Wunreachable-code -DNDEBUG -fwrapv -O2 -Wall -fPIC -O2 -isystem /opt/anaconda3/envs/devhome/include -fPIC -O2 -isystem /opt/anaconda3/envs/devhome/include -arch x86_64 -DICE_STATIC_LIBS -Isrc -Isrc/ice/cpp/include -Isrc/ice/cpp/src -I/opt/anaconda3/envs/devhome/include/python3.8 -c src/ice/cpp/src/Ice/ConnectionFactory.cpp -o build/temp.macosx-10.9-x86_64-cpython-38/src/ice/cpp/src/Ice/ConnectionFactory.o -w\r\n",
      "  \u001B[31m   \u001B[0m clang -Wno-unused-result -Wsign-compare -Wunreachable-code -DNDEBUG -fwrapv -O2 -Wall -fPIC -O2 -isystem /opt/anaconda3/envs/devhome/include -fPIC -O2 -isystem /opt/anaconda3/envs/devhome/include -arch x86_64 -DICE_STATIC_LIBS -Isrc -Isrc/ice/cpp/include -Isrc/ice/cpp/src -I/opt/anaconda3/envs/devhome/include/python3.8 -c src/ice/cpp/src/Ice/ConnectionI.cpp -o build/temp.macosx-10.9-x86_64-cpython-38/src/ice/cpp/src/Ice/ConnectionI.o -w\r\n",
      "  \u001B[31m   \u001B[0m clang -Wno-unused-result -Wsign-compare -Wunreachable-code -DNDEBUG -fwrapv -O2 -Wall -fPIC -O2 -isystem /opt/anaconda3/envs/devhome/include -fPIC -O2 -isystem /opt/anaconda3/envs/devhome/include -arch x86_64 -DICE_STATIC_LIBS -Isrc -Isrc/ice/cpp/include -Isrc/ice/cpp/src -I/opt/anaconda3/envs/devhome/include/python3.8 -c src/ice/cpp/src/Ice/ConnectionRequestHandler.cpp -o build/temp.macosx-10.9-x86_64-cpython-38/src/ice/cpp/src/Ice/ConnectionRequestHandler.o -w\r\n",
      "  \u001B[31m   \u001B[0m clang -Wno-unused-result -Wsign-compare -Wunreachable-code -DNDEBUG -fwrapv -O2 -Wall -fPIC -O2 -isystem /opt/anaconda3/envs/devhome/include -fPIC -O2 -isystem /opt/anaconda3/envs/devhome/include -arch x86_64 -DICE_STATIC_LIBS -Isrc -Isrc/ice/cpp/include -Isrc/ice/cpp/src -I/opt/anaconda3/envs/devhome/include/python3.8 -c src/ice/cpp/src/Ice/Connector.cpp -o build/temp.macosx-10.9-x86_64-cpython-38/src/ice/cpp/src/Ice/Connector.o -w\r\n",
      "  \u001B[31m   \u001B[0m clang -Wno-unused-result -Wsign-compare -Wunreachable-code -DNDEBUG -fwrapv -O2 -Wall -fPIC -O2 -isystem /opt/anaconda3/envs/devhome/include -fPIC -O2 -isystem /opt/anaconda3/envs/devhome/include -arch x86_64 -DICE_STATIC_LIBS -Isrc -Isrc/ice/cpp/include -Isrc/ice/cpp/src -I/opt/anaconda3/envs/devhome/include/python3.8 -c src/ice/cpp/src/Ice/Current.cpp -o build/temp.macosx-10.9-x86_64-cpython-38/src/ice/cpp/src/Ice/Current.o -w\r\n",
      "  \u001B[31m   \u001B[0m clang -Wno-unused-result -Wsign-compare -Wunreachable-code -DNDEBUG -fwrapv -O2 -Wall -fPIC -O2 -isystem /opt/anaconda3/envs/devhome/include -fPIC -O2 -isystem /opt/anaconda3/envs/devhome/include -arch x86_64 -DICE_STATIC_LIBS -Isrc -Isrc/ice/cpp/include -Isrc/ice/cpp/src -I/opt/anaconda3/envs/devhome/include/python3.8 -c src/ice/cpp/src/Ice/DefaultsAndOverrides.cpp -o build/temp.macosx-10.9-x86_64-cpython-38/src/ice/cpp/src/Ice/DefaultsAndOverrides.o -w\r\n",
      "  \u001B[31m   \u001B[0m clang -Wno-unused-result -Wsign-compare -Wunreachable-code -DNDEBUG -fwrapv -O2 -Wall -fPIC -O2 -isystem /opt/anaconda3/envs/devhome/include -fPIC -O2 -isystem /opt/anaconda3/envs/devhome/include -arch x86_64 -DICE_STATIC_LIBS -Isrc -Isrc/ice/cpp/include -Isrc/ice/cpp/src -I/opt/anaconda3/envs/devhome/include/python3.8 -c src/ice/cpp/src/Ice/DeprecatedStringConverter.cpp -o build/temp.macosx-10.9-x86_64-cpython-38/src/ice/cpp/src/Ice/DeprecatedStringConverter.o -w\r\n",
      "  \u001B[31m   \u001B[0m clang -Wno-unused-result -Wsign-compare -Wunreachable-code -DNDEBUG -fwrapv -O2 -Wall -fPIC -O2 -isystem /opt/anaconda3/envs/devhome/include -fPIC -O2 -isystem /opt/anaconda3/envs/devhome/include -arch x86_64 -DICE_STATIC_LIBS -Isrc -Isrc/ice/cpp/include -Isrc/ice/cpp/src -I/opt/anaconda3/envs/devhome/include/python3.8 -c src/ice/cpp/src/Ice/DispatchInterceptor.cpp -o build/temp.macosx-10.9-x86_64-cpython-38/src/ice/cpp/src/Ice/DispatchInterceptor.o -w\r\n",
      "  \u001B[31m   \u001B[0m clang -Wno-unused-result -Wsign-compare -Wunreachable-code -DNDEBUG -fwrapv -O2 -Wall -fPIC -O2 -isystem /opt/anaconda3/envs/devhome/include -fPIC -O2 -isystem /opt/anaconda3/envs/devhome/include -arch x86_64 -DICE_STATIC_LIBS -Isrc -Isrc/ice/cpp/include -Isrc/ice/cpp/src -I/opt/anaconda3/envs/devhome/include/python3.8 -c src/ice/cpp/src/Ice/DynamicLibrary.cpp -o build/temp.macosx-10.9-x86_64-cpython-38/src/ice/cpp/src/Ice/DynamicLibrary.o -w\r\n",
      "  \u001B[31m   \u001B[0m clang -Wno-unused-result -Wsign-compare -Wunreachable-code -DNDEBUG -fwrapv -O2 -Wall -fPIC -O2 -isystem /opt/anaconda3/envs/devhome/include -fPIC -O2 -isystem /opt/anaconda3/envs/devhome/include -arch x86_64 -DICE_STATIC_LIBS -Isrc -Isrc/ice/cpp/include -Isrc/ice/cpp/src -I/opt/anaconda3/envs/devhome/include/python3.8 -c src/ice/cpp/src/Ice/Endpoint.cpp -o build/temp.macosx-10.9-x86_64-cpython-38/src/ice/cpp/src/Ice/Endpoint.o -w\r\n",
      "  \u001B[31m   \u001B[0m clang -Wno-unused-result -Wsign-compare -Wunreachable-code -DNDEBUG -fwrapv -O2 -Wall -fPIC -O2 -isystem /opt/anaconda3/envs/devhome/include -fPIC -O2 -isystem /opt/anaconda3/envs/devhome/include -arch x86_64 -DICE_STATIC_LIBS -Isrc -Isrc/ice/cpp/include -Isrc/ice/cpp/src -I/opt/anaconda3/envs/devhome/include/python3.8 -c src/ice/cpp/src/Ice/EndpointF.cpp -o build/temp.macosx-10.9-x86_64-cpython-38/src/ice/cpp/src/Ice/EndpointF.o -w\r\n",
      "  \u001B[31m   \u001B[0m clang -Wno-unused-result -Wsign-compare -Wunreachable-code -DNDEBUG -fwrapv -O2 -Wall -fPIC -O2 -isystem /opt/anaconda3/envs/devhome/include -fPIC -O2 -isystem /opt/anaconda3/envs/devhome/include -arch x86_64 -DICE_STATIC_LIBS -Isrc -Isrc/ice/cpp/include -Isrc/ice/cpp/src -I/opt/anaconda3/envs/devhome/include/python3.8 -c src/ice/cpp/src/Ice/EndpointFactory.cpp -o build/temp.macosx-10.9-x86_64-cpython-38/src/ice/cpp/src/Ice/EndpointFactory.o -w\r\n",
      "  \u001B[31m   \u001B[0m clang -Wno-unused-result -Wsign-compare -Wunreachable-code -DNDEBUG -fwrapv -O2 -Wall -fPIC -O2 -isystem /opt/anaconda3/envs/devhome/include -fPIC -O2 -isystem /opt/anaconda3/envs/devhome/include -arch x86_64 -DICE_STATIC_LIBS -Isrc -Isrc/ice/cpp/include -Isrc/ice/cpp/src -I/opt/anaconda3/envs/devhome/include/python3.8 -c src/ice/cpp/src/Ice/EndpointFactoryManager.cpp -o build/temp.macosx-10.9-x86_64-cpython-38/src/ice/cpp/src/Ice/EndpointFactoryManager.o -w\r\n",
      "  \u001B[31m   \u001B[0m clang -Wno-unused-result -Wsign-compare -Wunreachable-code -DNDEBUG -fwrapv -O2 -Wall -fPIC -O2 -isystem /opt/anaconda3/envs/devhome/include -fPIC -O2 -isystem /opt/anaconda3/envs/devhome/include -arch x86_64 -DICE_STATIC_LIBS -Isrc -Isrc/ice/cpp/include -Isrc/ice/cpp/src -I/opt/anaconda3/envs/devhome/include/python3.8 -c src/ice/cpp/src/Ice/EndpointI.cpp -o build/temp.macosx-10.9-x86_64-cpython-38/src/ice/cpp/src/Ice/EndpointI.o -w\r\n",
      "  \u001B[31m   \u001B[0m clang -Wno-unused-result -Wsign-compare -Wunreachable-code -DNDEBUG -fwrapv -O2 -Wall -fPIC -O2 -isystem /opt/anaconda3/envs/devhome/include -fPIC -O2 -isystem /opt/anaconda3/envs/devhome/include -arch x86_64 -DICE_STATIC_LIBS -Isrc -Isrc/ice/cpp/include -Isrc/ice/cpp/src -I/opt/anaconda3/envs/devhome/include/python3.8 -c src/ice/cpp/src/Ice/EndpointTypes.cpp -o build/temp.macosx-10.9-x86_64-cpython-38/src/ice/cpp/src/Ice/EndpointTypes.o -w\r\n",
      "  \u001B[31m   \u001B[0m clang -Wno-unused-result -Wsign-compare -Wunreachable-code -DNDEBUG -fwrapv -O2 -Wall -fPIC -O2 -isystem /opt/anaconda3/envs/devhome/include -fPIC -O2 -isystem /opt/anaconda3/envs/devhome/include -arch x86_64 -DICE_STATIC_LIBS -Isrc -Isrc/ice/cpp/include -Isrc/ice/cpp/src -I/opt/anaconda3/envs/devhome/include/python3.8 -c src/ice/cpp/src/Ice/EventHandler.cpp -o build/temp.macosx-10.9-x86_64-cpython-38/src/ice/cpp/src/Ice/EventHandler.o -w\r\n",
      "  \u001B[31m   \u001B[0m clang -Wno-unused-result -Wsign-compare -Wunreachable-code -DNDEBUG -fwrapv -O2 -Wall -fPIC -O2 -isystem /opt/anaconda3/envs/devhome/include -fPIC -O2 -isystem /opt/anaconda3/envs/devhome/include -arch x86_64 -DICE_STATIC_LIBS -Isrc -Isrc/ice/cpp/include -Isrc/ice/cpp/src -I/opt/anaconda3/envs/devhome/include/python3.8 -c src/ice/cpp/src/Ice/Exception.cpp -o build/temp.macosx-10.9-x86_64-cpython-38/src/ice/cpp/src/Ice/Exception.o -w\r\n",
      "  \u001B[31m   \u001B[0m clang -Wno-unused-result -Wsign-compare -Wunreachable-code -DNDEBUG -fwrapv -O2 -Wall -fPIC -O2 -isystem /opt/anaconda3/envs/devhome/include -fPIC -O2 -isystem /opt/anaconda3/envs/devhome/include -arch x86_64 -DICE_STATIC_LIBS -Isrc -Isrc/ice/cpp/include -Isrc/ice/cpp/src -I/opt/anaconda3/envs/devhome/include/python3.8 -c src/ice/cpp/src/Ice/FacetMap.cpp -o build/temp.macosx-10.9-x86_64-cpython-38/src/ice/cpp/src/Ice/FacetMap.o -w\r\n",
      "  \u001B[31m   \u001B[0m clang -Wno-unused-result -Wsign-compare -Wunreachable-code -DNDEBUG -fwrapv -O2 -Wall -fPIC -O2 -isystem /opt/anaconda3/envs/devhome/include -fPIC -O2 -isystem /opt/anaconda3/envs/devhome/include -arch x86_64 -DICE_STATIC_LIBS -Isrc -Isrc/ice/cpp/include -Isrc/ice/cpp/src -I/opt/anaconda3/envs/devhome/include/python3.8 -c src/ice/cpp/src/Ice/FactoryTable.cpp -o build/temp.macosx-10.9-x86_64-cpython-38/src/ice/cpp/src/Ice/FactoryTable.o -w\r\n",
      "  \u001B[31m   \u001B[0m clang -Wno-unused-result -Wsign-compare -Wunreachable-code -DNDEBUG -fwrapv -O2 -Wall -fPIC -O2 -isystem /opt/anaconda3/envs/devhome/include -fPIC -O2 -isystem /opt/anaconda3/envs/devhome/include -arch x86_64 -DICE_STATIC_LIBS -Isrc -Isrc/ice/cpp/include -Isrc/ice/cpp/src -I/opt/anaconda3/envs/devhome/include/python3.8 -c src/ice/cpp/src/Ice/FactoryTableInit.cpp -o build/temp.macosx-10.9-x86_64-cpython-38/src/ice/cpp/src/Ice/FactoryTableInit.o -w\r\n",
      "  \u001B[31m   \u001B[0m clang -Wno-unused-result -Wsign-compare -Wunreachable-code -DNDEBUG -fwrapv -O2 -Wall -fPIC -O2 -isystem /opt/anaconda3/envs/devhome/include -fPIC -O2 -isystem /opt/anaconda3/envs/devhome/include -arch x86_64 -DICE_STATIC_LIBS -Isrc -Isrc/ice/cpp/include -Isrc/ice/cpp/src -I/opt/anaconda3/envs/devhome/include/python3.8 -c src/ice/cpp/src/Ice/GCObject.cpp -o build/temp.macosx-10.9-x86_64-cpython-38/src/ice/cpp/src/Ice/GCObject.o -w\r\n",
      "  \u001B[31m   \u001B[0m clang -Wno-unused-result -Wsign-compare -Wunreachable-code -DNDEBUG -fwrapv -O2 -Wall -fPIC -O2 -isystem /opt/anaconda3/envs/devhome/include -fPIC -O2 -isystem /opt/anaconda3/envs/devhome/include -arch x86_64 -DICE_STATIC_LIBS -Isrc -Isrc/ice/cpp/include -Isrc/ice/cpp/src -I/opt/anaconda3/envs/devhome/include/python3.8 -c src/ice/cpp/src/Ice/HttpParser.cpp -o build/temp.macosx-10.9-x86_64-cpython-38/src/ice/cpp/src/Ice/HttpParser.o -w\r\n",
      "  \u001B[31m   \u001B[0m clang -Wno-unused-result -Wsign-compare -Wunreachable-code -DNDEBUG -fwrapv -O2 -Wall -fPIC -O2 -isystem /opt/anaconda3/envs/devhome/include -fPIC -O2 -isystem /opt/anaconda3/envs/devhome/include -arch x86_64 -DICE_STATIC_LIBS -Isrc -Isrc/ice/cpp/include -Isrc/ice/cpp/src -I/opt/anaconda3/envs/devhome/include/python3.8 -c src/ice/cpp/src/Ice/IPEndpointI.cpp -o build/temp.macosx-10.9-x86_64-cpython-38/src/ice/cpp/src/Ice/IPEndpointI.o -w\r\n",
      "  \u001B[31m   \u001B[0m clang -Wno-unused-result -Wsign-compare -Wunreachable-code -DNDEBUG -fwrapv -O2 -Wall -fPIC -O2 -isystem /opt/anaconda3/envs/devhome/include -fPIC -O2 -isystem /opt/anaconda3/envs/devhome/include -arch x86_64 -DICE_STATIC_LIBS -Isrc -Isrc/ice/cpp/include -Isrc/ice/cpp/src -I/opt/anaconda3/envs/devhome/include/python3.8 -c src/ice/cpp/src/Ice/Identity.cpp -o build/temp.macosx-10.9-x86_64-cpython-38/src/ice/cpp/src/Ice/Identity.o -w\r\n",
      "  \u001B[31m   \u001B[0m clang -Wno-unused-result -Wsign-compare -Wunreachable-code -DNDEBUG -fwrapv -O2 -Wall -fPIC -O2 -isystem /opt/anaconda3/envs/devhome/include -fPIC -O2 -isystem /opt/anaconda3/envs/devhome/include -arch x86_64 -DICE_STATIC_LIBS -Isrc -Isrc/ice/cpp/include -Isrc/ice/cpp/src -I/opt/anaconda3/envs/devhome/include/python3.8 -c src/ice/cpp/src/Ice/ImplicitContext.cpp -o build/temp.macosx-10.9-x86_64-cpython-38/src/ice/cpp/src/Ice/ImplicitContext.o -w\r\n",
      "  \u001B[31m   \u001B[0m clang -Wno-unused-result -Wsign-compare -Wunreachable-code -DNDEBUG -fwrapv -O2 -Wall -fPIC -O2 -isystem /opt/anaconda3/envs/devhome/include -fPIC -O2 -isystem /opt/anaconda3/envs/devhome/include -arch x86_64 -DICE_STATIC_LIBS -Isrc -Isrc/ice/cpp/include -Isrc/ice/cpp/src -I/opt/anaconda3/envs/devhome/include/python3.8 -c src/ice/cpp/src/Ice/ImplicitContextF.cpp -o build/temp.macosx-10.9-x86_64-cpython-38/src/ice/cpp/src/Ice/ImplicitContextF.o -w\r\n",
      "  \u001B[31m   \u001B[0m clang -Wno-unused-result -Wsign-compare -Wunreachable-code -DNDEBUG -fwrapv -O2 -Wall -fPIC -O2 -isystem /opt/anaconda3/envs/devhome/include -fPIC -O2 -isystem /opt/anaconda3/envs/devhome/include -arch x86_64 -DICE_STATIC_LIBS -Isrc -Isrc/ice/cpp/include -Isrc/ice/cpp/src -I/opt/anaconda3/envs/devhome/include/python3.8 -c src/ice/cpp/src/Ice/ImplicitContextI.cpp -o build/temp.macosx-10.9-x86_64-cpython-38/src/ice/cpp/src/Ice/ImplicitContextI.o -w\r\n",
      "  \u001B[31m   \u001B[0m clang -Wno-unused-result -Wsign-compare -Wunreachable-code -DNDEBUG -fwrapv -O2 -Wall -fPIC -O2 -isystem /opt/anaconda3/envs/devhome/include -fPIC -O2 -isystem /opt/anaconda3/envs/devhome/include -arch x86_64 -DICE_STATIC_LIBS -Isrc -Isrc/ice/cpp/include -Isrc/ice/cpp/src -I/opt/anaconda3/envs/devhome/include/python3.8 -c src/ice/cpp/src/Ice/Incoming.cpp -o build/temp.macosx-10.9-x86_64-cpython-38/src/ice/cpp/src/Ice/Incoming.o -w\r\n",
      "  \u001B[31m   \u001B[0m clang -Wno-unused-result -Wsign-compare -Wunreachable-code -DNDEBUG -fwrapv -O2 -Wall -fPIC -O2 -isystem /opt/anaconda3/envs/devhome/include -fPIC -O2 -isystem /opt/anaconda3/envs/devhome/include -arch x86_64 -DICE_STATIC_LIBS -Isrc -Isrc/ice/cpp/include -Isrc/ice/cpp/src -I/opt/anaconda3/envs/devhome/include/python3.8 -c src/ice/cpp/src/Ice/IncomingAsync.cpp -o build/temp.macosx-10.9-x86_64-cpython-38/src/ice/cpp/src/Ice/IncomingAsync.o -w\r\n",
      "  \u001B[31m   \u001B[0m clang -Wno-unused-result -Wsign-compare -Wunreachable-code -DNDEBUG -fwrapv -O2 -Wall -fPIC -O2 -isystem /opt/anaconda3/envs/devhome/include -fPIC -O2 -isystem /opt/anaconda3/envs/devhome/include -arch x86_64 -DICE_STATIC_LIBS -Isrc -Isrc/ice/cpp/include -Isrc/ice/cpp/src -I/opt/anaconda3/envs/devhome/include/python3.8 -c src/ice/cpp/src/Ice/Initialize.cpp -o build/temp.macosx-10.9-x86_64-cpython-38/src/ice/cpp/src/Ice/Initialize.o -w\r\n",
      "  \u001B[31m   \u001B[0m clang -Wno-unused-result -Wsign-compare -Wunreachable-code -DNDEBUG -fwrapv -O2 -Wall -fPIC -O2 -isystem /opt/anaconda3/envs/devhome/include -fPIC -O2 -isystem /opt/anaconda3/envs/devhome/include -arch x86_64 -DICE_STATIC_LIBS -Isrc -Isrc/ice/cpp/include -Isrc/ice/cpp/src -I/opt/anaconda3/envs/devhome/include/python3.8 -c src/ice/cpp/src/Ice/Instance.cpp -o build/temp.macosx-10.9-x86_64-cpython-38/src/ice/cpp/src/Ice/Instance.o -w\r\n",
      "  \u001B[31m   \u001B[0m clang -Wno-unused-result -Wsign-compare -Wunreachable-code -DNDEBUG -fwrapv -O2 -Wall -fPIC -O2 -isystem /opt/anaconda3/envs/devhome/include -fPIC -O2 -isystem /opt/anaconda3/envs/devhome/include -arch x86_64 -DICE_STATIC_LIBS -Isrc -Isrc/ice/cpp/include -Isrc/ice/cpp/src -I/opt/anaconda3/envs/devhome/include/python3.8 -c src/ice/cpp/src/Ice/Instrumentation.cpp -o build/temp.macosx-10.9-x86_64-cpython-38/src/ice/cpp/src/Ice/Instrumentation.o -w\r\n",
      "  \u001B[31m   \u001B[0m clang -Wno-unused-result -Wsign-compare -Wunreachable-code -DNDEBUG -fwrapv -O2 -Wall -fPIC -O2 -isystem /opt/anaconda3/envs/devhome/include -fPIC -O2 -isystem /opt/anaconda3/envs/devhome/include -arch x86_64 -DICE_STATIC_LIBS -Isrc -Isrc/ice/cpp/include -Isrc/ice/cpp/src -I/opt/anaconda3/envs/devhome/include/python3.8 -c src/ice/cpp/src/Ice/InstrumentationF.cpp -o build/temp.macosx-10.9-x86_64-cpython-38/src/ice/cpp/src/Ice/InstrumentationF.o -w\r\n",
      "  \u001B[31m   \u001B[0m clang -Wno-unused-result -Wsign-compare -Wunreachable-code -DNDEBUG -fwrapv -O2 -Wall -fPIC -O2 -isystem /opt/anaconda3/envs/devhome/include -fPIC -O2 -isystem /opt/anaconda3/envs/devhome/include -arch x86_64 -DICE_STATIC_LIBS -Isrc -Isrc/ice/cpp/include -Isrc/ice/cpp/src -I/opt/anaconda3/envs/devhome/include/python3.8 -c src/ice/cpp/src/Ice/InstrumentationI.cpp -o build/temp.macosx-10.9-x86_64-cpython-38/src/ice/cpp/src/Ice/InstrumentationI.o -w\r\n",
      "  \u001B[31m   \u001B[0m clang -Wno-unused-result -Wsign-compare -Wunreachable-code -DNDEBUG -fwrapv -O2 -Wall -fPIC -O2 -isystem /opt/anaconda3/envs/devhome/include -fPIC -O2 -isystem /opt/anaconda3/envs/devhome/include -arch x86_64 -DICE_STATIC_LIBS -Isrc -Isrc/ice/cpp/include -Isrc/ice/cpp/src -I/opt/anaconda3/envs/devhome/include/python3.8 -c src/ice/cpp/src/Ice/LocalException.cpp -o build/temp.macosx-10.9-x86_64-cpython-38/src/ice/cpp/src/Ice/LocalException.o -w\r\n",
      "  \u001B[31m   \u001B[0m clang -Wno-unused-result -Wsign-compare -Wunreachable-code -DNDEBUG -fwrapv -O2 -Wall -fPIC -O2 -isystem /opt/anaconda3/envs/devhome/include -fPIC -O2 -isystem /opt/anaconda3/envs/devhome/include -arch x86_64 -DICE_STATIC_LIBS -Isrc -Isrc/ice/cpp/include -Isrc/ice/cpp/src -I/opt/anaconda3/envs/devhome/include/python3.8 -c src/ice/cpp/src/Ice/LocalObject.cpp -o build/temp.macosx-10.9-x86_64-cpython-38/src/ice/cpp/src/Ice/LocalObject.o -w\r\n",
      "  \u001B[31m   \u001B[0m clang -Wno-unused-result -Wsign-compare -Wunreachable-code -DNDEBUG -fwrapv -O2 -Wall -fPIC -O2 -isystem /opt/anaconda3/envs/devhome/include -fPIC -O2 -isystem /opt/anaconda3/envs/devhome/include -arch x86_64 -DICE_STATIC_LIBS -Isrc -Isrc/ice/cpp/include -Isrc/ice/cpp/src -I/opt/anaconda3/envs/devhome/include/python3.8 -c src/ice/cpp/src/Ice/Locator.cpp -o build/temp.macosx-10.9-x86_64-cpython-38/src/ice/cpp/src/Ice/Locator.o -w\r\n",
      "  \u001B[31m   \u001B[0m clang -Wno-unused-result -Wsign-compare -Wunreachable-code -DNDEBUG -fwrapv -O2 -Wall -fPIC -O2 -isystem /opt/anaconda3/envs/devhome/include -fPIC -O2 -isystem /opt/anaconda3/envs/devhome/include -arch x86_64 -DICE_STATIC_LIBS -Isrc -Isrc/ice/cpp/include -Isrc/ice/cpp/src -I/opt/anaconda3/envs/devhome/include/python3.8 -c src/ice/cpp/src/Ice/LocatorF.cpp -o build/temp.macosx-10.9-x86_64-cpython-38/src/ice/cpp/src/Ice/LocatorF.o -w\r\n",
      "  \u001B[31m   \u001B[0m clang -Wno-unused-result -Wsign-compare -Wunreachable-code -DNDEBUG -fwrapv -O2 -Wall -fPIC -O2 -isystem /opt/anaconda3/envs/devhome/include -fPIC -O2 -isystem /opt/anaconda3/envs/devhome/include -arch x86_64 -DICE_STATIC_LIBS -Isrc -Isrc/ice/cpp/include -Isrc/ice/cpp/src -I/opt/anaconda3/envs/devhome/include/python3.8 -c src/ice/cpp/src/Ice/LocatorInfo.cpp -o build/temp.macosx-10.9-x86_64-cpython-38/src/ice/cpp/src/Ice/LocatorInfo.o -w\r\n",
      "  \u001B[31m   \u001B[0m clang -Wno-unused-result -Wsign-compare -Wunreachable-code -DNDEBUG -fwrapv -O2 -Wall -fPIC -O2 -isystem /opt/anaconda3/envs/devhome/include -fPIC -O2 -isystem /opt/anaconda3/envs/devhome/include -arch x86_64 -DICE_STATIC_LIBS -Isrc -Isrc/ice/cpp/include -Isrc/ice/cpp/src -I/opt/anaconda3/envs/devhome/include/python3.8 -c src/ice/cpp/src/Ice/Logger.cpp -o build/temp.macosx-10.9-x86_64-cpython-38/src/ice/cpp/src/Ice/Logger.o -w\r\n",
      "  \u001B[31m   \u001B[0m clang -Wno-unused-result -Wsign-compare -Wunreachable-code -DNDEBUG -fwrapv -O2 -Wall -fPIC -O2 -isystem /opt/anaconda3/envs/devhome/include -fPIC -O2 -isystem /opt/anaconda3/envs/devhome/include -arch x86_64 -DICE_STATIC_LIBS -Isrc -Isrc/ice/cpp/include -Isrc/ice/cpp/src -I/opt/anaconda3/envs/devhome/include/python3.8 -c src/ice/cpp/src/Ice/LoggerAdminI.cpp -o build/temp.macosx-10.9-x86_64-cpython-38/src/ice/cpp/src/Ice/LoggerAdminI.o -w\r\n",
      "  \u001B[31m   \u001B[0m clang -Wno-unused-result -Wsign-compare -Wunreachable-code -DNDEBUG -fwrapv -O2 -Wall -fPIC -O2 -isystem /opt/anaconda3/envs/devhome/include -fPIC -O2 -isystem /opt/anaconda3/envs/devhome/include -arch x86_64 -DICE_STATIC_LIBS -Isrc -Isrc/ice/cpp/include -Isrc/ice/cpp/src -I/opt/anaconda3/envs/devhome/include/python3.8 -c src/ice/cpp/src/Ice/LoggerF.cpp -o build/temp.macosx-10.9-x86_64-cpython-38/src/ice/cpp/src/Ice/LoggerF.o -w\r\n",
      "  \u001B[31m   \u001B[0m clang -Wno-unused-result -Wsign-compare -Wunreachable-code -DNDEBUG -fwrapv -O2 -Wall -fPIC -O2 -isystem /opt/anaconda3/envs/devhome/include -fPIC -O2 -isystem /opt/anaconda3/envs/devhome/include -arch x86_64 -DICE_STATIC_LIBS -Isrc -Isrc/ice/cpp/include -Isrc/ice/cpp/src -I/opt/anaconda3/envs/devhome/include/python3.8 -c src/ice/cpp/src/Ice/LoggerI.cpp -o build/temp.macosx-10.9-x86_64-cpython-38/src/ice/cpp/src/Ice/LoggerI.o -w\r\n",
      "  \u001B[31m   \u001B[0m clang -Wno-unused-result -Wsign-compare -Wunreachable-code -DNDEBUG -fwrapv -O2 -Wall -fPIC -O2 -isystem /opt/anaconda3/envs/devhome/include -fPIC -O2 -isystem /opt/anaconda3/envs/devhome/include -arch x86_64 -DICE_STATIC_LIBS -Isrc -Isrc/ice/cpp/include -Isrc/ice/cpp/src -I/opt/anaconda3/envs/devhome/include/python3.8 -c src/ice/cpp/src/Ice/LoggerUtil.cpp -o build/temp.macosx-10.9-x86_64-cpython-38/src/ice/cpp/src/Ice/LoggerUtil.o -w\r\n",
      "  \u001B[31m   \u001B[0m clang -Wno-unused-result -Wsign-compare -Wunreachable-code -DNDEBUG -fwrapv -O2 -Wall -fPIC -O2 -isystem /opt/anaconda3/envs/devhome/include -fPIC -O2 -isystem /opt/anaconda3/envs/devhome/include -arch x86_64 -DICE_STATIC_LIBS -Isrc -Isrc/ice/cpp/include -Isrc/ice/cpp/src -I/opt/anaconda3/envs/devhome/include/python3.8 -c src/ice/cpp/src/Ice/Metrics.cpp -o build/temp.macosx-10.9-x86_64-cpython-38/src/ice/cpp/src/Ice/Metrics.o -w\r\n",
      "  \u001B[31m   \u001B[0m clang -Wno-unused-result -Wsign-compare -Wunreachable-code -DNDEBUG -fwrapv -O2 -Wall -fPIC -O2 -isystem /opt/anaconda3/envs/devhome/include -fPIC -O2 -isystem /opt/anaconda3/envs/devhome/include -arch x86_64 -DICE_STATIC_LIBS -Isrc -Isrc/ice/cpp/include -Isrc/ice/cpp/src -I/opt/anaconda3/envs/devhome/include/python3.8 -c src/ice/cpp/src/Ice/MetricsAdminI.cpp -o build/temp.macosx-10.9-x86_64-cpython-38/src/ice/cpp/src/Ice/MetricsAdminI.o -w\r\n",
      "  \u001B[31m   \u001B[0m clang -Wno-unused-result -Wsign-compare -Wunreachable-code -DNDEBUG -fwrapv -O2 -Wall -fPIC -O2 -isystem /opt/anaconda3/envs/devhome/include -fPIC -O2 -isystem /opt/anaconda3/envs/devhome/include -arch x86_64 -DICE_STATIC_LIBS -Isrc -Isrc/ice/cpp/include -Isrc/ice/cpp/src -I/opt/anaconda3/envs/devhome/include/python3.8 -c src/ice/cpp/src/Ice/MetricsObserverI.cpp -o build/temp.macosx-10.9-x86_64-cpython-38/src/ice/cpp/src/Ice/MetricsObserverI.o -w\r\n",
      "  \u001B[31m   \u001B[0m clang -Wno-unused-result -Wsign-compare -Wunreachable-code -DNDEBUG -fwrapv -O2 -Wall -fPIC -O2 -isystem /opt/anaconda3/envs/devhome/include -fPIC -O2 -isystem /opt/anaconda3/envs/devhome/include -arch x86_64 -DICE_STATIC_LIBS -Isrc -Isrc/ice/cpp/include -Isrc/ice/cpp/src -I/opt/anaconda3/envs/devhome/include/python3.8 -c src/ice/cpp/src/Ice/Network.cpp -o build/temp.macosx-10.9-x86_64-cpython-38/src/ice/cpp/src/Ice/Network.o -w\r\n",
      "  \u001B[31m   \u001B[0m clang -Wno-unused-result -Wsign-compare -Wunreachable-code -DNDEBUG -fwrapv -O2 -Wall -fPIC -O2 -isystem /opt/anaconda3/envs/devhome/include -fPIC -O2 -isystem /opt/anaconda3/envs/devhome/include -arch x86_64 -DICE_STATIC_LIBS -Isrc -Isrc/ice/cpp/include -Isrc/ice/cpp/src -I/opt/anaconda3/envs/devhome/include/python3.8 -c src/ice/cpp/src/Ice/NetworkProxy.cpp -o build/temp.macosx-10.9-x86_64-cpython-38/src/ice/cpp/src/Ice/NetworkProxy.o -w\r\n",
      "  \u001B[31m   \u001B[0m clang -Wno-unused-result -Wsign-compare -Wunreachable-code -DNDEBUG -fwrapv -O2 -Wall -fPIC -O2 -isystem /opt/anaconda3/envs/devhome/include -fPIC -O2 -isystem /opt/anaconda3/envs/devhome/include -arch x86_64 -DICE_STATIC_LIBS -Isrc -Isrc/ice/cpp/include -Isrc/ice/cpp/src -I/opt/anaconda3/envs/devhome/include/python3.8 -c src/ice/cpp/src/Ice/Object.cpp -o build/temp.macosx-10.9-x86_64-cpython-38/src/ice/cpp/src/Ice/Object.o -w\r\n",
      "  \u001B[31m   \u001B[0m clang -Wno-unused-result -Wsign-compare -Wunreachable-code -DNDEBUG -fwrapv -O2 -Wall -fPIC -O2 -isystem /opt/anaconda3/envs/devhome/include -fPIC -O2 -isystem /opt/anaconda3/envs/devhome/include -arch x86_64 -DICE_STATIC_LIBS -Isrc -Isrc/ice/cpp/include -Isrc/ice/cpp/src -I/opt/anaconda3/envs/devhome/include/python3.8 -c src/ice/cpp/src/Ice/ObjectAdapter.cpp -o build/temp.macosx-10.9-x86_64-cpython-38/src/ice/cpp/src/Ice/ObjectAdapter.o -w\r\n",
      "  \u001B[31m   \u001B[0m clang -Wno-unused-result -Wsign-compare -Wunreachable-code -DNDEBUG -fwrapv -O2 -Wall -fPIC -O2 -isystem /opt/anaconda3/envs/devhome/include -fPIC -O2 -isystem /opt/anaconda3/envs/devhome/include -arch x86_64 -DICE_STATIC_LIBS -Isrc -Isrc/ice/cpp/include -Isrc/ice/cpp/src -I/opt/anaconda3/envs/devhome/include/python3.8 -c src/ice/cpp/src/Ice/ObjectAdapterF.cpp -o build/temp.macosx-10.9-x86_64-cpython-38/src/ice/cpp/src/Ice/ObjectAdapterF.o -w\r\n",
      "  \u001B[31m   \u001B[0m clang -Wno-unused-result -Wsign-compare -Wunreachable-code -DNDEBUG -fwrapv -O2 -Wall -fPIC -O2 -isystem /opt/anaconda3/envs/devhome/include -fPIC -O2 -isystem /opt/anaconda3/envs/devhome/include -arch x86_64 -DICE_STATIC_LIBS -Isrc -Isrc/ice/cpp/include -Isrc/ice/cpp/src -I/opt/anaconda3/envs/devhome/include/python3.8 -c src/ice/cpp/src/Ice/ObjectAdapterFactory.cpp -o build/temp.macosx-10.9-x86_64-cpython-38/src/ice/cpp/src/Ice/ObjectAdapterFactory.o -w\r\n",
      "  \u001B[31m   \u001B[0m clang -Wno-unused-result -Wsign-compare -Wunreachable-code -DNDEBUG -fwrapv -O2 -Wall -fPIC -O2 -isystem /opt/anaconda3/envs/devhome/include -fPIC -O2 -isystem /opt/anaconda3/envs/devhome/include -arch x86_64 -DICE_STATIC_LIBS -Isrc -Isrc/ice/cpp/include -Isrc/ice/cpp/src -I/opt/anaconda3/envs/devhome/include/python3.8 -c src/ice/cpp/src/Ice/ObjectAdapterI.cpp -o build/temp.macosx-10.9-x86_64-cpython-38/src/ice/cpp/src/Ice/ObjectAdapterI.o -w\r\n",
      "  \u001B[31m   \u001B[0m clang -Wno-unused-result -Wsign-compare -Wunreachable-code -DNDEBUG -fwrapv -O2 -Wall -fPIC -O2 -isystem /opt/anaconda3/envs/devhome/include -fPIC -O2 -isystem /opt/anaconda3/envs/devhome/include -arch x86_64 -DICE_STATIC_LIBS -Isrc -Isrc/ice/cpp/include -Isrc/ice/cpp/src -I/opt/anaconda3/envs/devhome/include/python3.8 -c src/ice/cpp/src/Ice/ObjectFactory.cpp -o build/temp.macosx-10.9-x86_64-cpython-38/src/ice/cpp/src/Ice/ObjectFactory.o -w\r\n",
      "  \u001B[31m   \u001B[0m clang -Wno-unused-result -Wsign-compare -Wunreachable-code -DNDEBUG -fwrapv -O2 -Wall -fPIC -O2 -isystem /opt/anaconda3/envs/devhome/include -fPIC -O2 -isystem /opt/anaconda3/envs/devhome/include -arch x86_64 -DICE_STATIC_LIBS -Isrc -Isrc/ice/cpp/include -Isrc/ice/cpp/src -I/opt/anaconda3/envs/devhome/include/python3.8 -c src/ice/cpp/src/Ice/ObjectFactoryF.cpp -o build/temp.macosx-10.9-x86_64-cpython-38/src/ice/cpp/src/Ice/ObjectFactoryF.o -w\r\n",
      "  \u001B[31m   \u001B[0m clang -Wno-unused-result -Wsign-compare -Wunreachable-code -DNDEBUG -fwrapv -O2 -Wall -fPIC -O2 -isystem /opt/anaconda3/envs/devhome/include -fPIC -O2 -isystem /opt/anaconda3/envs/devhome/include -arch x86_64 -DICE_STATIC_LIBS -Isrc -Isrc/ice/cpp/include -Isrc/ice/cpp/src -I/opt/anaconda3/envs/devhome/include/python3.8 -c src/ice/cpp/src/Ice/ObjectFactoryManager.cpp -o build/temp.macosx-10.9-x86_64-cpython-38/src/ice/cpp/src/Ice/ObjectFactoryManager.o -w\r\n",
      "  \u001B[31m   \u001B[0m clang -Wno-unused-result -Wsign-compare -Wunreachable-code -DNDEBUG -fwrapv -O2 -Wall -fPIC -O2 -isystem /opt/anaconda3/envs/devhome/include -fPIC -O2 -isystem /opt/anaconda3/envs/devhome/include -arch x86_64 -DICE_STATIC_LIBS -Isrc -Isrc/ice/cpp/include -Isrc/ice/cpp/src -I/opt/anaconda3/envs/devhome/include/python3.8 -c src/ice/cpp/src/Ice/ObserverHelper.cpp -o build/temp.macosx-10.9-x86_64-cpython-38/src/ice/cpp/src/Ice/ObserverHelper.o -w\r\n",
      "  \u001B[31m   \u001B[0m clang -Wno-unused-result -Wsign-compare -Wunreachable-code -DNDEBUG -fwrapv -O2 -Wall -fPIC -O2 -isystem /opt/anaconda3/envs/devhome/include -fPIC -O2 -isystem /opt/anaconda3/envs/devhome/include -arch x86_64 -DICE_STATIC_LIBS -Isrc -Isrc/ice/cpp/include -Isrc/ice/cpp/src -I/opt/anaconda3/envs/devhome/include/python3.8 -c src/ice/cpp/src/Ice/OpaqueEndpointI.cpp -o build/temp.macosx-10.9-x86_64-cpython-38/src/ice/cpp/src/Ice/OpaqueEndpointI.o -w\r\n",
      "  \u001B[31m   \u001B[0m clang -Wno-unused-result -Wsign-compare -Wunreachable-code -DNDEBUG -fwrapv -O2 -Wall -fPIC -O2 -isystem /opt/anaconda3/envs/devhome/include -fPIC -O2 -isystem /opt/anaconda3/envs/devhome/include -arch x86_64 -DICE_STATIC_LIBS -Isrc -Isrc/ice/cpp/include -Isrc/ice/cpp/src -I/opt/anaconda3/envs/devhome/include/python3.8 -c src/ice/cpp/src/Ice/Outgoing.cpp -o build/temp.macosx-10.9-x86_64-cpython-38/src/ice/cpp/src/Ice/Outgoing.o -w\r\n",
      "  \u001B[31m   \u001B[0m clang -Wno-unused-result -Wsign-compare -Wunreachable-code -DNDEBUG -fwrapv -O2 -Wall -fPIC -O2 -isystem /opt/anaconda3/envs/devhome/include -fPIC -O2 -isystem /opt/anaconda3/envs/devhome/include -arch x86_64 -DICE_STATIC_LIBS -Isrc -Isrc/ice/cpp/include -Isrc/ice/cpp/src -I/opt/anaconda3/envs/devhome/include/python3.8 -c src/ice/cpp/src/Ice/OutgoingAsync.cpp -o build/temp.macosx-10.9-x86_64-cpython-38/src/ice/cpp/src/Ice/OutgoingAsync.o -w\r\n",
      "  \u001B[31m   \u001B[0m clang -Wno-unused-result -Wsign-compare -Wunreachable-code -DNDEBUG -fwrapv -O2 -Wall -fPIC -O2 -isystem /opt/anaconda3/envs/devhome/include -fPIC -O2 -isystem /opt/anaconda3/envs/devhome/include -arch x86_64 -DICE_STATIC_LIBS -Isrc -Isrc/ice/cpp/include -Isrc/ice/cpp/src -I/opt/anaconda3/envs/devhome/include/python3.8 -c src/ice/cpp/src/Ice/Plugin.cpp -o build/temp.macosx-10.9-x86_64-cpython-38/src/ice/cpp/src/Ice/Plugin.o -w\r\n",
      "  \u001B[31m   \u001B[0m clang -Wno-unused-result -Wsign-compare -Wunreachable-code -DNDEBUG -fwrapv -O2 -Wall -fPIC -O2 -isystem /opt/anaconda3/envs/devhome/include -fPIC -O2 -isystem /opt/anaconda3/envs/devhome/include -arch x86_64 -DICE_STATIC_LIBS -Isrc -Isrc/ice/cpp/include -Isrc/ice/cpp/src -I/opt/anaconda3/envs/devhome/include/python3.8 -c src/ice/cpp/src/Ice/PluginF.cpp -o build/temp.macosx-10.9-x86_64-cpython-38/src/ice/cpp/src/Ice/PluginF.o -w\r\n",
      "  \u001B[31m   \u001B[0m clang -Wno-unused-result -Wsign-compare -Wunreachable-code -DNDEBUG -fwrapv -O2 -Wall -fPIC -O2 -isystem /opt/anaconda3/envs/devhome/include -fPIC -O2 -isystem /opt/anaconda3/envs/devhome/include -arch x86_64 -DICE_STATIC_LIBS -Isrc -Isrc/ice/cpp/include -Isrc/ice/cpp/src -I/opt/anaconda3/envs/devhome/include/python3.8 -c src/ice/cpp/src/Ice/PluginManagerI.cpp -o build/temp.macosx-10.9-x86_64-cpython-38/src/ice/cpp/src/Ice/PluginManagerI.o -w\r\n",
      "  \u001B[31m   \u001B[0m clang -Wno-unused-result -Wsign-compare -Wunreachable-code -DNDEBUG -fwrapv -O2 -Wall -fPIC -O2 -isystem /opt/anaconda3/envs/devhome/include -fPIC -O2 -isystem /opt/anaconda3/envs/devhome/include -arch x86_64 -DICE_STATIC_LIBS -Isrc -Isrc/ice/cpp/include -Isrc/ice/cpp/src -I/opt/anaconda3/envs/devhome/include/python3.8 -c src/ice/cpp/src/Ice/Process.cpp -o build/temp.macosx-10.9-x86_64-cpython-38/src/ice/cpp/src/Ice/Process.o -w\r\n",
      "  \u001B[31m   \u001B[0m clang -Wno-unused-result -Wsign-compare -Wunreachable-code -DNDEBUG -fwrapv -O2 -Wall -fPIC -O2 -isystem /opt/anaconda3/envs/devhome/include -fPIC -O2 -isystem /opt/anaconda3/envs/devhome/include -arch x86_64 -DICE_STATIC_LIBS -Isrc -Isrc/ice/cpp/include -Isrc/ice/cpp/src -I/opt/anaconda3/envs/devhome/include/python3.8 -c src/ice/cpp/src/Ice/ProcessF.cpp -o build/temp.macosx-10.9-x86_64-cpython-38/src/ice/cpp/src/Ice/ProcessF.o -w\r\n",
      "  \u001B[31m   \u001B[0m clang -Wno-unused-result -Wsign-compare -Wunreachable-code -DNDEBUG -fwrapv -O2 -Wall -fPIC -O2 -isystem /opt/anaconda3/envs/devhome/include -fPIC -O2 -isystem /opt/anaconda3/envs/devhome/include -arch x86_64 -DICE_STATIC_LIBS -Isrc -Isrc/ice/cpp/include -Isrc/ice/cpp/src -I/opt/anaconda3/envs/devhome/include/python3.8 -c src/ice/cpp/src/Ice/Properties.cpp -o build/temp.macosx-10.9-x86_64-cpython-38/src/ice/cpp/src/Ice/Properties.o -w\r\n",
      "  \u001B[31m   \u001B[0m clang -Wno-unused-result -Wsign-compare -Wunreachable-code -DNDEBUG -fwrapv -O2 -Wall -fPIC -O2 -isystem /opt/anaconda3/envs/devhome/include -fPIC -O2 -isystem /opt/anaconda3/envs/devhome/include -arch x86_64 -DICE_STATIC_LIBS -Isrc -Isrc/ice/cpp/include -Isrc/ice/cpp/src -I/opt/anaconda3/envs/devhome/include/python3.8 -c src/ice/cpp/src/Ice/PropertiesAdmin.cpp -o build/temp.macosx-10.9-x86_64-cpython-38/src/ice/cpp/src/Ice/PropertiesAdmin.o -w\r\n",
      "  \u001B[31m   \u001B[0m clang -Wno-unused-result -Wsign-compare -Wunreachable-code -DNDEBUG -fwrapv -O2 -Wall -fPIC -O2 -isystem /opt/anaconda3/envs/devhome/include -fPIC -O2 -isystem /opt/anaconda3/envs/devhome/include -arch x86_64 -DICE_STATIC_LIBS -Isrc -Isrc/ice/cpp/include -Isrc/ice/cpp/src -I/opt/anaconda3/envs/devhome/include/python3.8 -c src/ice/cpp/src/Ice/PropertiesAdminI.cpp -o build/temp.macosx-10.9-x86_64-cpython-38/src/ice/cpp/src/Ice/PropertiesAdminI.o -w\r\n",
      "  \u001B[31m   \u001B[0m clang -Wno-unused-result -Wsign-compare -Wunreachable-code -DNDEBUG -fwrapv -O2 -Wall -fPIC -O2 -isystem /opt/anaconda3/envs/devhome/include -fPIC -O2 -isystem /opt/anaconda3/envs/devhome/include -arch x86_64 -DICE_STATIC_LIBS -Isrc -Isrc/ice/cpp/include -Isrc/ice/cpp/src -I/opt/anaconda3/envs/devhome/include/python3.8 -c src/ice/cpp/src/Ice/PropertiesF.cpp -o build/temp.macosx-10.9-x86_64-cpython-38/src/ice/cpp/src/Ice/PropertiesF.o -w\r\n",
      "  \u001B[31m   \u001B[0m clang -Wno-unused-result -Wsign-compare -Wunreachable-code -DNDEBUG -fwrapv -O2 -Wall -fPIC -O2 -isystem /opt/anaconda3/envs/devhome/include -fPIC -O2 -isystem /opt/anaconda3/envs/devhome/include -arch x86_64 -DICE_STATIC_LIBS -Isrc -Isrc/ice/cpp/include -Isrc/ice/cpp/src -I/opt/anaconda3/envs/devhome/include/python3.8 -c src/ice/cpp/src/Ice/PropertiesI.cpp -o build/temp.macosx-10.9-x86_64-cpython-38/src/ice/cpp/src/Ice/PropertiesI.o -w\r\n",
      "  \u001B[31m   \u001B[0m clang -Wno-unused-result -Wsign-compare -Wunreachable-code -DNDEBUG -fwrapv -O2 -Wall -fPIC -O2 -isystem /opt/anaconda3/envs/devhome/include -fPIC -O2 -isystem /opt/anaconda3/envs/devhome/include -arch x86_64 -DICE_STATIC_LIBS -Isrc -Isrc/ice/cpp/include -Isrc/ice/cpp/src -I/opt/anaconda3/envs/devhome/include/python3.8 -c src/ice/cpp/src/Ice/PropertyNames.cpp -o build/temp.macosx-10.9-x86_64-cpython-38/src/ice/cpp/src/Ice/PropertyNames.o -w\r\n",
      "  \u001B[31m   \u001B[0m clang -Wno-unused-result -Wsign-compare -Wunreachable-code -DNDEBUG -fwrapv -O2 -Wall -fPIC -O2 -isystem /opt/anaconda3/envs/devhome/include -fPIC -O2 -isystem /opt/anaconda3/envs/devhome/include -arch x86_64 -DICE_STATIC_LIBS -Isrc -Isrc/ice/cpp/include -Isrc/ice/cpp/src -I/opt/anaconda3/envs/devhome/include/python3.8 -c src/ice/cpp/src/Ice/Protocol.cpp -o build/temp.macosx-10.9-x86_64-cpython-38/src/ice/cpp/src/Ice/Protocol.o -w\r\n",
      "  \u001B[31m   \u001B[0m clang -Wno-unused-result -Wsign-compare -Wunreachable-code -DNDEBUG -fwrapv -O2 -Wall -fPIC -O2 -isystem /opt/anaconda3/envs/devhome/include -fPIC -O2 -isystem /opt/anaconda3/envs/devhome/include -arch x86_64 -DICE_STATIC_LIBS -Isrc -Isrc/ice/cpp/include -Isrc/ice/cpp/src -I/opt/anaconda3/envs/devhome/include/python3.8 -c src/ice/cpp/src/Ice/ProtocolInstance.cpp -o build/temp.macosx-10.9-x86_64-cpython-38/src/ice/cpp/src/Ice/ProtocolInstance.o -w\r\n",
      "  \u001B[31m   \u001B[0m clang -Wno-unused-result -Wsign-compare -Wunreachable-code -DNDEBUG -fwrapv -O2 -Wall -fPIC -O2 -isystem /opt/anaconda3/envs/devhome/include -fPIC -O2 -isystem /opt/anaconda3/envs/devhome/include -arch x86_64 -DICE_STATIC_LIBS -Isrc -Isrc/ice/cpp/include -Isrc/ice/cpp/src -I/opt/anaconda3/envs/devhome/include/python3.8 -c src/ice/cpp/src/Ice/ProtocolPluginFacade.cpp -o build/temp.macosx-10.9-x86_64-cpython-38/src/ice/cpp/src/Ice/ProtocolPluginFacade.o -w\r\n",
      "  \u001B[31m   \u001B[0m clang -Wno-unused-result -Wsign-compare -Wunreachable-code -DNDEBUG -fwrapv -O2 -Wall -fPIC -O2 -isystem /opt/anaconda3/envs/devhome/include -fPIC -O2 -isystem /opt/anaconda3/envs/devhome/include -arch x86_64 -DICE_STATIC_LIBS -Isrc -Isrc/ice/cpp/include -Isrc/ice/cpp/src -I/opt/anaconda3/envs/devhome/include/python3.8 -c src/ice/cpp/src/Ice/Proxy.cpp -o build/temp.macosx-10.9-x86_64-cpython-38/src/ice/cpp/src/Ice/Proxy.o -w\r\n",
      "  \u001B[31m   \u001B[0m clang -Wno-unused-result -Wsign-compare -Wunreachable-code -DNDEBUG -fwrapv -O2 -Wall -fPIC -O2 -isystem /opt/anaconda3/envs/devhome/include -fPIC -O2 -isystem /opt/anaconda3/envs/devhome/include -arch x86_64 -DICE_STATIC_LIBS -Isrc -Isrc/ice/cpp/include -Isrc/ice/cpp/src -I/opt/anaconda3/envs/devhome/include/python3.8 -c src/ice/cpp/src/Ice/ProxyFactory.cpp -o build/temp.macosx-10.9-x86_64-cpython-38/src/ice/cpp/src/Ice/ProxyFactory.o -w\r\n",
      "  \u001B[31m   \u001B[0m clang -Wno-unused-result -Wsign-compare -Wunreachable-code -DNDEBUG -fwrapv -O2 -Wall -fPIC -O2 -isystem /opt/anaconda3/envs/devhome/include -fPIC -O2 -isystem /opt/anaconda3/envs/devhome/include -arch x86_64 -DICE_STATIC_LIBS -Isrc -Isrc/ice/cpp/include -Isrc/ice/cpp/src -I/opt/anaconda3/envs/devhome/include/python3.8 -c src/ice/cpp/src/Ice/Reference.cpp -o build/temp.macosx-10.9-x86_64-cpython-38/src/ice/cpp/src/Ice/Reference.o -w\r\n",
      "  \u001B[31m   \u001B[0m clang -Wno-unused-result -Wsign-compare -Wunreachable-code -DNDEBUG -fwrapv -O2 -Wall -fPIC -O2 -isystem /opt/anaconda3/envs/devhome/include -fPIC -O2 -isystem /opt/anaconda3/envs/devhome/include -arch x86_64 -DICE_STATIC_LIBS -Isrc -Isrc/ice/cpp/include -Isrc/ice/cpp/src -I/opt/anaconda3/envs/devhome/include/python3.8 -c src/ice/cpp/src/Ice/ReferenceFactory.cpp -o build/temp.macosx-10.9-x86_64-cpython-38/src/ice/cpp/src/Ice/ReferenceFactory.o -w\r\n",
      "  \u001B[31m   \u001B[0m clang -Wno-unused-result -Wsign-compare -Wunreachable-code -DNDEBUG -fwrapv -O2 -Wall -fPIC -O2 -isystem /opt/anaconda3/envs/devhome/include -fPIC -O2 -isystem /opt/anaconda3/envs/devhome/include -arch x86_64 -DICE_STATIC_LIBS -Isrc -Isrc/ice/cpp/include -Isrc/ice/cpp/src -I/opt/anaconda3/envs/devhome/include/python3.8 -c src/ice/cpp/src/Ice/RegisterPluginsInit.cpp -o build/temp.macosx-10.9-x86_64-cpython-38/src/ice/cpp/src/Ice/RegisterPluginsInit.o -w\r\n",
      "  \u001B[31m   \u001B[0m clang -Wno-unused-result -Wsign-compare -Wunreachable-code -DNDEBUG -fwrapv -O2 -Wall -fPIC -O2 -isystem /opt/anaconda3/envs/devhome/include -fPIC -O2 -isystem /opt/anaconda3/envs/devhome/include -arch x86_64 -DICE_STATIC_LIBS -Isrc -Isrc/ice/cpp/include -Isrc/ice/cpp/src -I/opt/anaconda3/envs/devhome/include/python3.8 -c src/ice/cpp/src/Ice/RemoteLogger.cpp -o build/temp.macosx-10.9-x86_64-cpython-38/src/ice/cpp/src/Ice/RemoteLogger.o -w\r\n",
      "  \u001B[31m   \u001B[0m clang -Wno-unused-result -Wsign-compare -Wunreachable-code -DNDEBUG -fwrapv -O2 -Wall -fPIC -O2 -isystem /opt/anaconda3/envs/devhome/include -fPIC -O2 -isystem /opt/anaconda3/envs/devhome/include -arch x86_64 -DICE_STATIC_LIBS -Isrc -Isrc/ice/cpp/include -Isrc/ice/cpp/src -I/opt/anaconda3/envs/devhome/include/python3.8 -c src/ice/cpp/src/Ice/RequestHandler.cpp -o build/temp.macosx-10.9-x86_64-cpython-38/src/ice/cpp/src/Ice/RequestHandler.o -w\r\n",
      "  \u001B[31m   \u001B[0m clang -Wno-unused-result -Wsign-compare -Wunreachable-code -DNDEBUG -fwrapv -O2 -Wall -fPIC -O2 -isystem /opt/anaconda3/envs/devhome/include -fPIC -O2 -isystem /opt/anaconda3/envs/devhome/include -arch x86_64 -DICE_STATIC_LIBS -Isrc -Isrc/ice/cpp/include -Isrc/ice/cpp/src -I/opt/anaconda3/envs/devhome/include/python3.8 -c src/ice/cpp/src/Ice/RequestHandlerFactory.cpp -o build/temp.macosx-10.9-x86_64-cpython-38/src/ice/cpp/src/Ice/RequestHandlerFactory.o -w\r\n",
      "  \u001B[31m   \u001B[0m clang -Wno-unused-result -Wsign-compare -Wunreachable-code -DNDEBUG -fwrapv -O2 -Wall -fPIC -O2 -isystem /opt/anaconda3/envs/devhome/include -fPIC -O2 -isystem /opt/anaconda3/envs/devhome/include -arch x86_64 -DICE_STATIC_LIBS -Isrc -Isrc/ice/cpp/include -Isrc/ice/cpp/src -I/opt/anaconda3/envs/devhome/include/python3.8 -c src/ice/cpp/src/Ice/ResponseHandler.cpp -o build/temp.macosx-10.9-x86_64-cpython-38/src/ice/cpp/src/Ice/ResponseHandler.o -w\r\n",
      "  \u001B[31m   \u001B[0m clang -Wno-unused-result -Wsign-compare -Wunreachable-code -DNDEBUG -fwrapv -O2 -Wall -fPIC -O2 -isystem /opt/anaconda3/envs/devhome/include -fPIC -O2 -isystem /opt/anaconda3/envs/devhome/include -arch x86_64 -DICE_STATIC_LIBS -Isrc -Isrc/ice/cpp/include -Isrc/ice/cpp/src -I/opt/anaconda3/envs/devhome/include/python3.8 -c src/ice/cpp/src/Ice/RetryQueue.cpp -o build/temp.macosx-10.9-x86_64-cpython-38/src/ice/cpp/src/Ice/RetryQueue.o -w\r\n",
      "  \u001B[31m   \u001B[0m clang -Wno-unused-result -Wsign-compare -Wunreachable-code -DNDEBUG -fwrapv -O2 -Wall -fPIC -O2 -isystem /opt/anaconda3/envs/devhome/include -fPIC -O2 -isystem /opt/anaconda3/envs/devhome/include -arch x86_64 -DICE_STATIC_LIBS -Isrc -Isrc/ice/cpp/include -Isrc/ice/cpp/src -I/opt/anaconda3/envs/devhome/include/python3.8 -c src/ice/cpp/src/Ice/Router.cpp -o build/temp.macosx-10.9-x86_64-cpython-38/src/ice/cpp/src/Ice/Router.o -w\r\n",
      "  \u001B[31m   \u001B[0m clang -Wno-unused-result -Wsign-compare -Wunreachable-code -DNDEBUG -fwrapv -O2 -Wall -fPIC -O2 -isystem /opt/anaconda3/envs/devhome/include -fPIC -O2 -isystem /opt/anaconda3/envs/devhome/include -arch x86_64 -DICE_STATIC_LIBS -Isrc -Isrc/ice/cpp/include -Isrc/ice/cpp/src -I/opt/anaconda3/envs/devhome/include/python3.8 -c src/ice/cpp/src/Ice/RouterF.cpp -o build/temp.macosx-10.9-x86_64-cpython-38/src/ice/cpp/src/Ice/RouterF.o -w\r\n",
      "  \u001B[31m   \u001B[0m clang -Wno-unused-result -Wsign-compare -Wunreachable-code -DNDEBUG -fwrapv -O2 -Wall -fPIC -O2 -isystem /opt/anaconda3/envs/devhome/include -fPIC -O2 -isystem /opt/anaconda3/envs/devhome/include -arch x86_64 -DICE_STATIC_LIBS -Isrc -Isrc/ice/cpp/include -Isrc/ice/cpp/src -I/opt/anaconda3/envs/devhome/include/python3.8 -c src/ice/cpp/src/Ice/RouterInfo.cpp -o build/temp.macosx-10.9-x86_64-cpython-38/src/ice/cpp/src/Ice/RouterInfo.o -w\r\n",
      "  \u001B[31m   \u001B[0m clang -Wno-unused-result -Wsign-compare -Wunreachable-code -DNDEBUG -fwrapv -O2 -Wall -fPIC -O2 -isystem /opt/anaconda3/envs/devhome/include -fPIC -O2 -isystem /opt/anaconda3/envs/devhome/include -arch x86_64 -DICE_STATIC_LIBS -Isrc -Isrc/ice/cpp/include -Isrc/ice/cpp/src -I/opt/anaconda3/envs/devhome/include/python3.8 -c src/ice/cpp/src/Ice/Selector.cpp -o build/temp.macosx-10.9-x86_64-cpython-38/src/ice/cpp/src/Ice/Selector.o -w\r\n",
      "  \u001B[31m   \u001B[0m clang -Wno-unused-result -Wsign-compare -Wunreachable-code -DNDEBUG -fwrapv -O2 -Wall -fPIC -O2 -isystem /opt/anaconda3/envs/devhome/include -fPIC -O2 -isystem /opt/anaconda3/envs/devhome/include -arch x86_64 -DICE_STATIC_LIBS -Isrc -Isrc/ice/cpp/include -Isrc/ice/cpp/src -I/opt/anaconda3/envs/devhome/include/python3.8 -c src/ice/cpp/src/Ice/ServantLocator.cpp -o build/temp.macosx-10.9-x86_64-cpython-38/src/ice/cpp/src/Ice/ServantLocator.o -w\r\n",
      "  \u001B[31m   \u001B[0m clang -Wno-unused-result -Wsign-compare -Wunreachable-code -DNDEBUG -fwrapv -O2 -Wall -fPIC -O2 -isystem /opt/anaconda3/envs/devhome/include -fPIC -O2 -isystem /opt/anaconda3/envs/devhome/include -arch x86_64 -DICE_STATIC_LIBS -Isrc -Isrc/ice/cpp/include -Isrc/ice/cpp/src -I/opt/anaconda3/envs/devhome/include/python3.8 -c src/ice/cpp/src/Ice/ServantLocatorF.cpp -o build/temp.macosx-10.9-x86_64-cpython-38/src/ice/cpp/src/Ice/ServantLocatorF.o -w\r\n",
      "  \u001B[31m   \u001B[0m clang -Wno-unused-result -Wsign-compare -Wunreachable-code -DNDEBUG -fwrapv -O2 -Wall -fPIC -O2 -isystem /opt/anaconda3/envs/devhome/include -fPIC -O2 -isystem /opt/anaconda3/envs/devhome/include -arch x86_64 -DICE_STATIC_LIBS -Isrc -Isrc/ice/cpp/include -Isrc/ice/cpp/src -I/opt/anaconda3/envs/devhome/include/python3.8 -c src/ice/cpp/src/Ice/ServantManager.cpp -o build/temp.macosx-10.9-x86_64-cpython-38/src/ice/cpp/src/Ice/ServantManager.o -w\r\n",
      "  \u001B[31m   \u001B[0m clang -Wno-unused-result -Wsign-compare -Wunreachable-code -DNDEBUG -fwrapv -O2 -Wall -fPIC -O2 -isystem /opt/anaconda3/envs/devhome/include -fPIC -O2 -isystem /opt/anaconda3/envs/devhome/include -arch x86_64 -DICE_STATIC_LIBS -Isrc -Isrc/ice/cpp/include -Isrc/ice/cpp/src -I/opt/anaconda3/envs/devhome/include/python3.8 -c src/ice/cpp/src/Ice/SliceChecksumDict.cpp -o build/temp.macosx-10.9-x86_64-cpython-38/src/ice/cpp/src/Ice/SliceChecksumDict.o -w\r\n",
      "  \u001B[31m   \u001B[0m clang -Wno-unused-result -Wsign-compare -Wunreachable-code -DNDEBUG -fwrapv -O2 -Wall -fPIC -O2 -isystem /opt/anaconda3/envs/devhome/include -fPIC -O2 -isystem /opt/anaconda3/envs/devhome/include -arch x86_64 -DICE_STATIC_LIBS -Isrc -Isrc/ice/cpp/include -Isrc/ice/cpp/src -I/opt/anaconda3/envs/devhome/include/python3.8 -c src/ice/cpp/src/Ice/SliceChecksums.cpp -o build/temp.macosx-10.9-x86_64-cpython-38/src/ice/cpp/src/Ice/SliceChecksums.o -w\r\n",
      "  \u001B[31m   \u001B[0m clang -Wno-unused-result -Wsign-compare -Wunreachable-code -DNDEBUG -fwrapv -O2 -Wall -fPIC -O2 -isystem /opt/anaconda3/envs/devhome/include -fPIC -O2 -isystem /opt/anaconda3/envs/devhome/include -arch x86_64 -DICE_STATIC_LIBS -Isrc -Isrc/ice/cpp/include -Isrc/ice/cpp/src -I/opt/anaconda3/envs/devhome/include/python3.8 -c src/ice/cpp/src/Ice/SlicedData.cpp -o build/temp.macosx-10.9-x86_64-cpython-38/src/ice/cpp/src/Ice/SlicedData.o -w\r\n",
      "  \u001B[31m   \u001B[0m clang -Wno-unused-result -Wsign-compare -Wunreachable-code -DNDEBUG -fwrapv -O2 -Wall -fPIC -O2 -isystem /opt/anaconda3/envs/devhome/include -fPIC -O2 -isystem /opt/anaconda3/envs/devhome/include -arch x86_64 -DICE_STATIC_LIBS -Isrc -Isrc/ice/cpp/include -Isrc/ice/cpp/src -I/opt/anaconda3/envs/devhome/include/python3.8 -c src/ice/cpp/src/Ice/Stream.cpp -o build/temp.macosx-10.9-x86_64-cpython-38/src/ice/cpp/src/Ice/Stream.o -w\r\n",
      "  \u001B[31m   \u001B[0m clang -Wno-unused-result -Wsign-compare -Wunreachable-code -DNDEBUG -fwrapv -O2 -Wall -fPIC -O2 -isystem /opt/anaconda3/envs/devhome/include -fPIC -O2 -isystem /opt/anaconda3/envs/devhome/include -arch x86_64 -DICE_STATIC_LIBS -Isrc -Isrc/ice/cpp/include -Isrc/ice/cpp/src -I/opt/anaconda3/envs/devhome/include/python3.8 -c src/ice/cpp/src/Ice/StreamI.cpp -o build/temp.macosx-10.9-x86_64-cpython-38/src/ice/cpp/src/Ice/StreamI.o -w\r\n",
      "  \u001B[31m   \u001B[0m clang -Wno-unused-result -Wsign-compare -Wunreachable-code -DNDEBUG -fwrapv -O2 -Wall -fPIC -O2 -isystem /opt/anaconda3/envs/devhome/include -fPIC -O2 -isystem /opt/anaconda3/envs/devhome/include -arch x86_64 -DICE_STATIC_LIBS -Isrc -Isrc/ice/cpp/include -Isrc/ice/cpp/src -I/opt/anaconda3/envs/devhome/include/python3.8 -c src/ice/cpp/src/Ice/StreamSocket.cpp -o build/temp.macosx-10.9-x86_64-cpython-38/src/ice/cpp/src/Ice/StreamSocket.o -w\r\n",
      "  \u001B[31m   \u001B[0m clang -Wno-unused-result -Wsign-compare -Wunreachable-code -DNDEBUG -fwrapv -O2 -Wall -fPIC -O2 -isystem /opt/anaconda3/envs/devhome/include -fPIC -O2 -isystem /opt/anaconda3/envs/devhome/include -arch x86_64 -DICE_STATIC_LIBS -Isrc -Isrc/ice/cpp/include -Isrc/ice/cpp/src -I/opt/anaconda3/envs/devhome/include/python3.8 -c src/ice/cpp/src/Ice/StringConverterPlugin.cpp -o build/temp.macosx-10.9-x86_64-cpython-38/src/ice/cpp/src/Ice/StringConverterPlugin.o -w\r\n",
      "  \u001B[31m   \u001B[0m clang -Wno-unused-result -Wsign-compare -Wunreachable-code -DNDEBUG -fwrapv -O2 -Wall -fPIC -O2 -isystem /opt/anaconda3/envs/devhome/include -fPIC -O2 -isystem /opt/anaconda3/envs/devhome/include -arch x86_64 -DICE_STATIC_LIBS -Isrc -Isrc/ice/cpp/include -Isrc/ice/cpp/src -I/opt/anaconda3/envs/devhome/include/python3.8 -c src/ice/cpp/src/Ice/SysLoggerI.cpp -o build/temp.macosx-10.9-x86_64-cpython-38/src/ice/cpp/src/Ice/SysLoggerI.o -w\r\n",
      "  \u001B[31m   \u001B[0m clang -Wno-unused-result -Wsign-compare -Wunreachable-code -DNDEBUG -fwrapv -O2 -Wall -fPIC -O2 -isystem /opt/anaconda3/envs/devhome/include -fPIC -O2 -isystem /opt/anaconda3/envs/devhome/include -arch x86_64 -DICE_STATIC_LIBS -Isrc -Isrc/ice/cpp/include -Isrc/ice/cpp/src -I/opt/anaconda3/envs/devhome/include/python3.8 -c src/ice/cpp/src/Ice/TcpAcceptor.cpp -o build/temp.macosx-10.9-x86_64-cpython-38/src/ice/cpp/src/Ice/TcpAcceptor.o -w\r\n",
      "  \u001B[31m   \u001B[0m clang -Wno-unused-result -Wsign-compare -Wunreachable-code -DNDEBUG -fwrapv -O2 -Wall -fPIC -O2 -isystem /opt/anaconda3/envs/devhome/include -fPIC -O2 -isystem /opt/anaconda3/envs/devhome/include -arch x86_64 -DICE_STATIC_LIBS -Isrc -Isrc/ice/cpp/include -Isrc/ice/cpp/src -I/opt/anaconda3/envs/devhome/include/python3.8 -c src/ice/cpp/src/Ice/TcpConnector.cpp -o build/temp.macosx-10.9-x86_64-cpython-38/src/ice/cpp/src/Ice/TcpConnector.o -w\r\n",
      "  \u001B[31m   \u001B[0m clang -Wno-unused-result -Wsign-compare -Wunreachable-code -DNDEBUG -fwrapv -O2 -Wall -fPIC -O2 -isystem /opt/anaconda3/envs/devhome/include -fPIC -O2 -isystem /opt/anaconda3/envs/devhome/include -arch x86_64 -DICE_STATIC_LIBS -Isrc -Isrc/ice/cpp/include -Isrc/ice/cpp/src -I/opt/anaconda3/envs/devhome/include/python3.8 -c src/ice/cpp/src/Ice/TcpEndpointI.cpp -o build/temp.macosx-10.9-x86_64-cpython-38/src/ice/cpp/src/Ice/TcpEndpointI.o -w\r\n",
      "  \u001B[31m   \u001B[0m clang -Wno-unused-result -Wsign-compare -Wunreachable-code -DNDEBUG -fwrapv -O2 -Wall -fPIC -O2 -isystem /opt/anaconda3/envs/devhome/include -fPIC -O2 -isystem /opt/anaconda3/envs/devhome/include -arch x86_64 -DICE_STATIC_LIBS -Isrc -Isrc/ice/cpp/include -Isrc/ice/cpp/src -I/opt/anaconda3/envs/devhome/include/python3.8 -c src/ice/cpp/src/Ice/TcpTransceiver.cpp -o build/temp.macosx-10.9-x86_64-cpython-38/src/ice/cpp/src/Ice/TcpTransceiver.o -w\r\n",
      "  \u001B[31m   \u001B[0m clang -Wno-unused-result -Wsign-compare -Wunreachable-code -DNDEBUG -fwrapv -O2 -Wall -fPIC -O2 -isystem /opt/anaconda3/envs/devhome/include -fPIC -O2 -isystem /opt/anaconda3/envs/devhome/include -arch x86_64 -DICE_STATIC_LIBS -Isrc -Isrc/ice/cpp/include -Isrc/ice/cpp/src -I/opt/anaconda3/envs/devhome/include/python3.8 -c src/ice/cpp/src/Ice/ThreadPool.cpp -o build/temp.macosx-10.9-x86_64-cpython-38/src/ice/cpp/src/Ice/ThreadPool.o -w\r\n",
      "  \u001B[31m   \u001B[0m clang -Wno-unused-result -Wsign-compare -Wunreachable-code -DNDEBUG -fwrapv -O2 -Wall -fPIC -O2 -isystem /opt/anaconda3/envs/devhome/include -fPIC -O2 -isystem /opt/anaconda3/envs/devhome/include -arch x86_64 -DICE_STATIC_LIBS -Isrc -Isrc/ice/cpp/include -Isrc/ice/cpp/src -I/opt/anaconda3/envs/devhome/include/python3.8 -c src/ice/cpp/src/Ice/TraceLevels.cpp -o build/temp.macosx-10.9-x86_64-cpython-38/src/ice/cpp/src/Ice/TraceLevels.o -w\r\n",
      "  \u001B[31m   \u001B[0m clang -Wno-unused-result -Wsign-compare -Wunreachable-code -DNDEBUG -fwrapv -O2 -Wall -fPIC -O2 -isystem /opt/anaconda3/envs/devhome/include -fPIC -O2 -isystem /opt/anaconda3/envs/devhome/include -arch x86_64 -DICE_STATIC_LIBS -Isrc -Isrc/ice/cpp/include -Isrc/ice/cpp/src -I/opt/anaconda3/envs/devhome/include/python3.8 -c src/ice/cpp/src/Ice/TraceUtil.cpp -o build/temp.macosx-10.9-x86_64-cpython-38/src/ice/cpp/src/Ice/TraceUtil.o -w\r\n",
      "  \u001B[31m   \u001B[0m clang -Wno-unused-result -Wsign-compare -Wunreachable-code -DNDEBUG -fwrapv -O2 -Wall -fPIC -O2 -isystem /opt/anaconda3/envs/devhome/include -fPIC -O2 -isystem /opt/anaconda3/envs/devhome/include -arch x86_64 -DICE_STATIC_LIBS -Isrc -Isrc/ice/cpp/include -Isrc/ice/cpp/src -I/opt/anaconda3/envs/devhome/include/python3.8 -c src/ice/cpp/src/Ice/Transceiver.cpp -o build/temp.macosx-10.9-x86_64-cpython-38/src/ice/cpp/src/Ice/Transceiver.o -w\r\n",
      "  \u001B[31m   \u001B[0m clang -Wno-unused-result -Wsign-compare -Wunreachable-code -DNDEBUG -fwrapv -O2 -Wall -fPIC -O2 -isystem /opt/anaconda3/envs/devhome/include -fPIC -O2 -isystem /opt/anaconda3/envs/devhome/include -arch x86_64 -DICE_STATIC_LIBS -Isrc -Isrc/ice/cpp/include -Isrc/ice/cpp/src -I/opt/anaconda3/envs/devhome/include/python3.8 -c src/ice/cpp/src/Ice/UdpConnector.cpp -o build/temp.macosx-10.9-x86_64-cpython-38/src/ice/cpp/src/Ice/UdpConnector.o -w\r\n",
      "  \u001B[31m   \u001B[0m clang -Wno-unused-result -Wsign-compare -Wunreachable-code -DNDEBUG -fwrapv -O2 -Wall -fPIC -O2 -isystem /opt/anaconda3/envs/devhome/include -fPIC -O2 -isystem /opt/anaconda3/envs/devhome/include -arch x86_64 -DICE_STATIC_LIBS -Isrc -Isrc/ice/cpp/include -Isrc/ice/cpp/src -I/opt/anaconda3/envs/devhome/include/python3.8 -c src/ice/cpp/src/Ice/UdpEndpointI.cpp -o build/temp.macosx-10.9-x86_64-cpython-38/src/ice/cpp/src/Ice/UdpEndpointI.o -w\r\n",
      "  \u001B[31m   \u001B[0m clang -Wno-unused-result -Wsign-compare -Wunreachable-code -DNDEBUG -fwrapv -O2 -Wall -fPIC -O2 -isystem /opt/anaconda3/envs/devhome/include -fPIC -O2 -isystem /opt/anaconda3/envs/devhome/include -arch x86_64 -DICE_STATIC_LIBS -Isrc -Isrc/ice/cpp/include -Isrc/ice/cpp/src -I/opt/anaconda3/envs/devhome/include/python3.8 -c src/ice/cpp/src/Ice/UdpTransceiver.cpp -o build/temp.macosx-10.9-x86_64-cpython-38/src/ice/cpp/src/Ice/UdpTransceiver.o -w\r\n",
      "  \u001B[31m   \u001B[0m clang -Wno-unused-result -Wsign-compare -Wunreachable-code -DNDEBUG -fwrapv -O2 -Wall -fPIC -O2 -isystem /opt/anaconda3/envs/devhome/include -fPIC -O2 -isystem /opt/anaconda3/envs/devhome/include -arch x86_64 -DICE_STATIC_LIBS -Isrc -Isrc/ice/cpp/include -Isrc/ice/cpp/src -I/opt/anaconda3/envs/devhome/include/python3.8 -c src/ice/cpp/src/Ice/Version.cpp -o build/temp.macosx-10.9-x86_64-cpython-38/src/ice/cpp/src/Ice/Version.o -w\r\n",
      "  \u001B[31m   \u001B[0m clang -Wno-unused-result -Wsign-compare -Wunreachable-code -DNDEBUG -fwrapv -O2 -Wall -fPIC -O2 -isystem /opt/anaconda3/envs/devhome/include -fPIC -O2 -isystem /opt/anaconda3/envs/devhome/include -arch x86_64 -DICE_STATIC_LIBS -Isrc -Isrc/ice/cpp/include -Isrc/ice/cpp/src -I/opt/anaconda3/envs/devhome/include/python3.8 -c src/ice/cpp/src/Ice/WSAcceptor.cpp -o build/temp.macosx-10.9-x86_64-cpython-38/src/ice/cpp/src/Ice/WSAcceptor.o -w\r\n",
      "  \u001B[31m   \u001B[0m clang -Wno-unused-result -Wsign-compare -Wunreachable-code -DNDEBUG -fwrapv -O2 -Wall -fPIC -O2 -isystem /opt/anaconda3/envs/devhome/include -fPIC -O2 -isystem /opt/anaconda3/envs/devhome/include -arch x86_64 -DICE_STATIC_LIBS -Isrc -Isrc/ice/cpp/include -Isrc/ice/cpp/src -I/opt/anaconda3/envs/devhome/include/python3.8 -c src/ice/cpp/src/Ice/WSConnector.cpp -o build/temp.macosx-10.9-x86_64-cpython-38/src/ice/cpp/src/Ice/WSConnector.o -w\r\n",
      "  \u001B[31m   \u001B[0m clang -Wno-unused-result -Wsign-compare -Wunreachable-code -DNDEBUG -fwrapv -O2 -Wall -fPIC -O2 -isystem /opt/anaconda3/envs/devhome/include -fPIC -O2 -isystem /opt/anaconda3/envs/devhome/include -arch x86_64 -DICE_STATIC_LIBS -Isrc -Isrc/ice/cpp/include -Isrc/ice/cpp/src -I/opt/anaconda3/envs/devhome/include/python3.8 -c src/ice/cpp/src/Ice/WSEndpoint.cpp -o build/temp.macosx-10.9-x86_64-cpython-38/src/ice/cpp/src/Ice/WSEndpoint.o -w\r\n",
      "  \u001B[31m   \u001B[0m clang -Wno-unused-result -Wsign-compare -Wunreachable-code -DNDEBUG -fwrapv -O2 -Wall -fPIC -O2 -isystem /opt/anaconda3/envs/devhome/include -fPIC -O2 -isystem /opt/anaconda3/envs/devhome/include -arch x86_64 -DICE_STATIC_LIBS -Isrc -Isrc/ice/cpp/include -Isrc/ice/cpp/src -I/opt/anaconda3/envs/devhome/include/python3.8 -c src/ice/cpp/src/Ice/WSTransceiver.cpp -o build/temp.macosx-10.9-x86_64-cpython-38/src/ice/cpp/src/Ice/WSTransceiver.o -w\r\n",
      "  \u001B[31m   \u001B[0m clang -Wno-unused-result -Wsign-compare -Wunreachable-code -DNDEBUG -fwrapv -O2 -Wall -fPIC -O2 -isystem /opt/anaconda3/envs/devhome/include -fPIC -O2 -isystem /opt/anaconda3/envs/devhome/include -arch x86_64 -DICE_STATIC_LIBS -Isrc -Isrc/ice/cpp/include -Isrc/ice/cpp/src -I/opt/anaconda3/envs/devhome/include/python3.8 -c src/ice/cpp/src/IceDiscovery/IceDiscovery.cpp -o build/temp.macosx-10.9-x86_64-cpython-38/src/ice/cpp/src/IceDiscovery/IceDiscovery.o -w\r\n",
      "  \u001B[31m   \u001B[0m clang -Wno-unused-result -Wsign-compare -Wunreachable-code -DNDEBUG -fwrapv -O2 -Wall -fPIC -O2 -isystem /opt/anaconda3/envs/devhome/include -fPIC -O2 -isystem /opt/anaconda3/envs/devhome/include -arch x86_64 -DICE_STATIC_LIBS -Isrc -Isrc/ice/cpp/include -Isrc/ice/cpp/src -I/opt/anaconda3/envs/devhome/include/python3.8 -c src/ice/cpp/src/IceDiscovery/LocatorI.cpp -o build/temp.macosx-10.9-x86_64-cpython-38/src/ice/cpp/src/IceDiscovery/LocatorI.o -w\r\n",
      "  \u001B[31m   \u001B[0m clang -Wno-unused-result -Wsign-compare -Wunreachable-code -DNDEBUG -fwrapv -O2 -Wall -fPIC -O2 -isystem /opt/anaconda3/envs/devhome/include -fPIC -O2 -isystem /opt/anaconda3/envs/devhome/include -arch x86_64 -DICE_STATIC_LIBS -Isrc -Isrc/ice/cpp/include -Isrc/ice/cpp/src -I/opt/anaconda3/envs/devhome/include/python3.8 -c src/ice/cpp/src/IceDiscovery/LookupI.cpp -o build/temp.macosx-10.9-x86_64-cpython-38/src/ice/cpp/src/IceDiscovery/LookupI.o -w\r\n",
      "  \u001B[31m   \u001B[0m clang -Wno-unused-result -Wsign-compare -Wunreachable-code -DNDEBUG -fwrapv -O2 -Wall -fPIC -O2 -isystem /opt/anaconda3/envs/devhome/include -fPIC -O2 -isystem /opt/anaconda3/envs/devhome/include -arch x86_64 -DICE_STATIC_LIBS -Isrc -Isrc/ice/cpp/include -Isrc/ice/cpp/src -I/opt/anaconda3/envs/devhome/include/python3.8 -c src/ice/cpp/src/IceDiscovery/PluginI.cpp -o build/temp.macosx-10.9-x86_64-cpython-38/src/ice/cpp/src/IceDiscovery/PluginI.o -w\r\n",
      "  \u001B[31m   \u001B[0m clang -Wno-unused-result -Wsign-compare -Wunreachable-code -DNDEBUG -fwrapv -O2 -Wall -fPIC -O2 -isystem /opt/anaconda3/envs/devhome/include -fPIC -O2 -isystem /opt/anaconda3/envs/devhome/include -arch x86_64 -DICE_STATIC_LIBS -Isrc -Isrc/ice/cpp/include -Isrc/ice/cpp/src -I/opt/anaconda3/envs/devhome/include/python3.8 -c src/ice/cpp/src/IceLocatorDiscovery/IceLocatorDiscovery.cpp -o build/temp.macosx-10.9-x86_64-cpython-38/src/ice/cpp/src/IceLocatorDiscovery/IceLocatorDiscovery.o -w\r\n",
      "  \u001B[31m   \u001B[0m clang -Wno-unused-result -Wsign-compare -Wunreachable-code -DNDEBUG -fwrapv -O2 -Wall -fPIC -O2 -isystem /opt/anaconda3/envs/devhome/include -fPIC -O2 -isystem /opt/anaconda3/envs/devhome/include -arch x86_64 -DICE_STATIC_LIBS -Isrc -Isrc/ice/cpp/include -Isrc/ice/cpp/src -I/opt/anaconda3/envs/devhome/include/python3.8 -c src/ice/cpp/src/IceLocatorDiscovery/PluginI.cpp -o build/temp.macosx-10.9-x86_64-cpython-38/src/ice/cpp/src/IceLocatorDiscovery/PluginI.o -w\r\n",
      "  \u001B[31m   \u001B[0m clang -Wno-unused-result -Wsign-compare -Wunreachable-code -DNDEBUG -fwrapv -O2 -Wall -fPIC -O2 -isystem /opt/anaconda3/envs/devhome/include -fPIC -O2 -isystem /opt/anaconda3/envs/devhome/include -arch x86_64 -DICE_STATIC_LIBS -Isrc -Isrc/ice/cpp/include -Isrc/ice/cpp/src -I/opt/anaconda3/envs/devhome/include/python3.8 -c src/ice/cpp/src/IceSSL/AcceptorI.cpp -o build/temp.macosx-10.9-x86_64-cpython-38/src/ice/cpp/src/IceSSL/AcceptorI.o -w\r\n",
      "  \u001B[31m   \u001B[0m In file included from src/ice/cpp/src/IceSSL/AcceptorI.cpp:14:\r\n",
      "  \u001B[31m   \u001B[0m In file included from src/ice/cpp/src/IceSSL/OpenSSLTransceiverI.h:14:\r\n",
      "  \u001B[31m   \u001B[0m In file included from src/ice/cpp/src/IceSSL/Util.h:23:\r\n",
      "  \u001B[31m   \u001B[0m In file included from /Library/Developer/CommandLineTools/SDKs/MacOSX12.3.sdk/System/Library/Frameworks/Security.framework/Headers/Security.h:27:\r\n",
      "  \u001B[31m   \u001B[0m /Library/Developer/CommandLineTools/SDKs/MacOSX12.3.sdk/System/Library/Frameworks/Security.framework/Headers/SecBase.h:88:33: error: typedef redefinition with different types ('struct __SecCertificate' vs 'OpaqueSecCertificateRef')\r\n",
      "  \u001B[31m   \u001B[0m typedef struct __SecCertificate OpaqueSecCertificateRef;\r\n",
      "  \u001B[31m   \u001B[0m                                 ^\r\n",
      "  \u001B[31m   \u001B[0m src/ice/cpp/include/IceSSL/Plugin.h:67:8: note: previous definition is here\r\n",
      "  \u001B[31m   \u001B[0m struct OpaqueSecCertificateRef;\r\n",
      "  \u001B[31m   \u001B[0m        ^\r\n",
      "  \u001B[31m   \u001B[0m In file included from src/ice/cpp/src/IceSSL/AcceptorI.cpp:14:\r\n",
      "  \u001B[31m   \u001B[0m In file included from src/ice/cpp/src/IceSSL/OpenSSLTransceiverI.h:14:\r\n",
      "  \u001B[31m   \u001B[0m In file included from src/ice/cpp/src/IceSSL/Util.h:23:\r\n",
      "  \u001B[31m   \u001B[0m In file included from /Library/Developer/CommandLineTools/SDKs/MacOSX12.3.sdk/System/Library/Frameworks/Security.framework/Headers/Security.h:27:\r\n",
      "  \u001B[31m   \u001B[0m /Library/Developer/CommandLineTools/SDKs/MacOSX12.3.sdk/System/Library/Frameworks/Security.framework/Headers/SecBase.h:111:25: error: typedef redefinition with different types ('struct __SecKey' vs 'OpaqueSecKeyRef')\r\n",
      "  \u001B[31m   \u001B[0m typedef struct __SecKey OpaqueSecKeyRef;\r\n",
      "  \u001B[31m   \u001B[0m                         ^\r\n",
      "  \u001B[31m   \u001B[0m src/ice/cpp/include/IceSSL/Plugin.h:73:8: note: previous definition is here\r\n",
      "  \u001B[31m   \u001B[0m struct OpaqueSecKeyRef;\r\n",
      "  \u001B[31m   \u001B[0m        ^\r\n",
      "  \u001B[31m   \u001B[0m 2 errors generated.\r\n",
      "  \u001B[31m   \u001B[0m error: command '/usr/bin/clang' failed with exit code 1\r\n",
      "  \u001B[31m   \u001B[0m \u001B[31m[end of output]\u001B[0m\r\n",
      "  \r\n",
      "  \u001B[1;35mnote\u001B[0m: This error originates from a subprocess, and is likely not a problem with pip.\r\n",
      "\u001B[31m  ERROR: Failed building wheel for zeroc-ice\u001B[0m\u001B[31m\r\n",
      "\u001B[0m\u001B[?25h  Running setup.py clean for zeroc-ice\r\n",
      "Failed to build zeroc-ice\r\n",
      "Installing collected packages: zeroc-ice, appdirs, requests, PyYAML, omero-py, ezomero\r\n",
      "  Attempting uninstall: zeroc-ice\r\n",
      "    Found existing installation: zeroc-ice 3.7.7\r\n",
      "    Uninstalling zeroc-ice-3.7.7:\r\n",
      "      Successfully uninstalled zeroc-ice-3.7.7\r\n",
      "  Running setup.py install for zeroc-ice ... \u001B[?25lerror\r\n",
      "  \u001B[1;31merror\u001B[0m: \u001B[1msubprocess-exited-with-error\u001B[0m\r\n",
      "  \r\n",
      "  \u001B[31m×\u001B[0m \u001B[32mRunning setup.py install for zeroc-ice\u001B[0m did not run successfully.\r\n",
      "  \u001B[31m│\u001B[0m exit code: \u001B[1;36m1\u001B[0m\r\n",
      "  \u001B[31m╰─>\u001B[0m \u001B[31m[366 lines of output]\u001B[0m\r\n",
      "  \u001B[31m   \u001B[0m /private/var/folders/ff/h7rcmtgd7cd83fyvtv05xp5m0000gn/T/pip-install-w6lz9_er/zeroc-ice_f38cba751a6b41b69320b8b12954d0e6/setup.py:111: SyntaxWarning: \"is not\" with a literal. Did you mean \"!=\"?\r\n",
      "  \u001B[31m   \u001B[0m   if platform is not 'freebsd':\r\n",
      "  \u001B[31m   \u001B[0m WARNING: '' not a valid package name; please use only .-separated package names in setup.py\r\n",
      "  \u001B[31m   \u001B[0m running install\r\n",
      "  \u001B[31m   \u001B[0m /opt/anaconda3/envs/devhome/lib/python3.8/site-packages/setuptools/command/install.py:34: SetuptoolsDeprecationWarning: setup.py install is deprecated. Use build and pip and other standards-based tools.\r\n",
      "  \u001B[31m   \u001B[0m   warnings.warn(\r\n",
      "  \u001B[31m   \u001B[0m running build\r\n",
      "  \u001B[31m   \u001B[0m running build_py\r\n",
      "  \u001B[31m   \u001B[0m creating build\r\n",
      "  \u001B[31m   \u001B[0m creating build/lib.macosx-10.9-x86_64-cpython-38\r\n",
      "  \u001B[31m   \u001B[0m copying lib/IceGrid_Session_ice.py -> build/lib.macosx-10.9-x86_64-cpython-38\r\n",
      "  \u001B[31m   \u001B[0m copying lib/IceGrid_Locator_ice.py -> build/lib.macosx-10.9-x86_64-cpython-38\r\n",
      "  \u001B[31m   \u001B[0m copying lib/Ice_Properties_ice.py -> build/lib.macosx-10.9-x86_64-cpython-38\r\n",
      "  \u001B[31m   \u001B[0m copying lib/IceGrid_FileParser_ice.py -> build/lib.macosx-10.9-x86_64-cpython-38\r\n",
      "  \u001B[31m   \u001B[0m copying lib/IceStorm_Metrics_ice.py -> build/lib.macosx-10.9-x86_64-cpython-38\r\n",
      "  \u001B[31m   \u001B[0m copying lib/IcePatch2_FileServer_ice.py -> build/lib.macosx-10.9-x86_64-cpython-38\r\n",
      "  \u001B[31m   \u001B[0m copying lib/Ice_RouterF_ice.py -> build/lib.macosx-10.9-x86_64-cpython-38\r\n",
      "  \u001B[31m   \u001B[0m copying lib/Ice_ServantLocatorF_ice.py -> build/lib.macosx-10.9-x86_64-cpython-38\r\n",
      "  \u001B[31m   \u001B[0m copying lib/Ice_Logger_ice.py -> build/lib.macosx-10.9-x86_64-cpython-38\r\n",
      "  \u001B[31m   \u001B[0m copying lib/Ice_ObjectAdapterF_ice.py -> build/lib.macosx-10.9-x86_64-cpython-38\r\n",
      "  \u001B[31m   \u001B[0m copying lib/Ice_ConnectionF_ice.py -> build/lib.macosx-10.9-x86_64-cpython-38\r\n",
      "  \u001B[31m   \u001B[0m copying lib/Ice_ImplicitContextF_ice.py -> build/lib.macosx-10.9-x86_64-cpython-38\r\n",
      "  \u001B[31m   \u001B[0m copying lib/Ice_Endpoint_ice.py -> build/lib.macosx-10.9-x86_64-cpython-38\r\n",
      "  \u001B[31m   \u001B[0m copying lib/IceGrid_Observer_ice.py -> build/lib.macosx-10.9-x86_64-cpython-38\r\n",
      "  \u001B[31m   \u001B[0m copying lib/IceGrid_Admin_ice.py -> build/lib.macosx-10.9-x86_64-cpython-38\r\n",
      "  \u001B[31m   \u001B[0m copying lib/Ice_InstrumentationF_ice.py -> build/lib.macosx-10.9-x86_64-cpython-38\r\n",
      "  \u001B[31m   \u001B[0m copying lib/Ice_LocatorF_ice.py -> build/lib.macosx-10.9-x86_64-cpython-38\r\n",
      "  \u001B[31m   \u001B[0m copying lib/Ice_PropertiesAdmin_ice.py -> build/lib.macosx-10.9-x86_64-cpython-38\r\n",
      "  \u001B[31m   \u001B[0m copying lib/slice2py.py -> build/lib.macosx-10.9-x86_64-cpython-38\r\n",
      "  \u001B[31m   \u001B[0m copying lib/Ice_LocalException_ice.py -> build/lib.macosx-10.9-x86_64-cpython-38\r\n",
      "  \u001B[31m   \u001B[0m copying lib/Ice_ObjectFactory_ice.py -> build/lib.macosx-10.9-x86_64-cpython-38\r\n",
      "  \u001B[31m   \u001B[0m copying lib/Ice_Communicator_ice.py -> build/lib.macosx-10.9-x86_64-cpython-38\r\n",
      "  \u001B[31m   \u001B[0m copying lib/Glacier2_Metrics_ice.py -> build/lib.macosx-10.9-x86_64-cpython-38\r\n",
      "  \u001B[31m   \u001B[0m copying lib/IceGrid_UserAccountMapper_ice.py -> build/lib.macosx-10.9-x86_64-cpython-38\r\n",
      "  \u001B[31m   \u001B[0m copying lib/Ice_FacetMap_ice.py -> build/lib.macosx-10.9-x86_64-cpython-38\r\n",
      "  \u001B[31m   \u001B[0m copying lib/Glacier2_Session_ice.py -> build/lib.macosx-10.9-x86_64-cpython-38\r\n",
      "  \u001B[31m   \u001B[0m copying lib/Glacier2_PermissionsVerifierF_ice.py -> build/lib.macosx-10.9-x86_64-cpython-38\r\n",
      "  \u001B[31m   \u001B[0m copying lib/Ice_ImplicitContext_ice.py -> build/lib.macosx-10.9-x86_64-cpython-38\r\n",
      "  \u001B[31m   \u001B[0m copying lib/Ice_Plugin_ice.py -> build/lib.macosx-10.9-x86_64-cpython-38\r\n",
      "  \u001B[31m   \u001B[0m copying lib/Ice_Instrumentation_ice.py -> build/lib.macosx-10.9-x86_64-cpython-38\r\n",
      "  \u001B[31m   \u001B[0m copying lib/Ice_CommunicatorF_ice.py -> build/lib.macosx-10.9-x86_64-cpython-38\r\n",
      "  \u001B[31m   \u001B[0m copying lib/Ice_Version_ice.py -> build/lib.macosx-10.9-x86_64-cpython-38\r\n",
      "  \u001B[31m   \u001B[0m copying lib/Ice_Current_ice.py -> build/lib.macosx-10.9-x86_64-cpython-38\r\n",
      "  \u001B[31m   \u001B[0m copying lib/Ice_BuiltinSequences_ice.py -> build/lib.macosx-10.9-x86_64-cpython-38\r\n",
      "  \u001B[31m   \u001B[0m copying lib/Ice_Identity_ice.py -> build/lib.macosx-10.9-x86_64-cpython-38\r\n",
      "  \u001B[31m   \u001B[0m copying lib/Ice_Router_ice.py -> build/lib.macosx-10.9-x86_64-cpython-38\r\n",
      "  \u001B[31m   \u001B[0m copying lib/IceGrid_Descriptor_ice.py -> build/lib.macosx-10.9-x86_64-cpython-38\r\n",
      "  \u001B[31m   \u001B[0m copying lib/Glacier2_RouterF_ice.py -> build/lib.macosx-10.9-x86_64-cpython-38\r\n",
      "  \u001B[31m   \u001B[0m copying lib/Glacier2_SSLInfo_ice.py -> build/lib.macosx-10.9-x86_64-cpython-38\r\n",
      "  \u001B[31m   \u001B[0m copying lib/Ice_Process_ice.py -> build/lib.macosx-10.9-x86_64-cpython-38\r\n",
      "  \u001B[31m   \u001B[0m copying lib/IceGrid_Registry_ice.py -> build/lib.macosx-10.9-x86_64-cpython-38\r\n",
      "  \u001B[31m   \u001B[0m copying lib/Ice_Connection_ice.py -> build/lib.macosx-10.9-x86_64-cpython-38\r\n",
      "  \u001B[31m   \u001B[0m copying lib/IceBox_IceBox_ice.py -> build/lib.macosx-10.9-x86_64-cpython-38\r\n",
      "  \u001B[31m   \u001B[0m copying lib/IceGrid_Exception_ice.py -> build/lib.macosx-10.9-x86_64-cpython-38\r\n",
      "  \u001B[31m   \u001B[0m copying lib/IcePatch2_FileInfo_ice.py -> build/lib.macosx-10.9-x86_64-cpython-38\r\n",
      "  \u001B[31m   \u001B[0m copying lib/Ice_SliceChecksumDict_ice.py -> build/lib.macosx-10.9-x86_64-cpython-38\r\n",
      "  \u001B[31m   \u001B[0m copying lib/Ice_ObjectFactoryF_ice.py -> build/lib.macosx-10.9-x86_64-cpython-38\r\n",
      "  \u001B[31m   \u001B[0m copying lib/Ice_LoggerF_ice.py -> build/lib.macosx-10.9-x86_64-cpython-38\r\n",
      "  \u001B[31m   \u001B[0m copying lib/Ice_PropertiesF_ice.py -> build/lib.macosx-10.9-x86_64-cpython-38\r\n",
      "  \u001B[31m   \u001B[0m copying lib/Ice.py -> build/lib.macosx-10.9-x86_64-cpython-38\r\n",
      "  \u001B[31m   \u001B[0m copying lib/Ice_Locator_ice.py -> build/lib.macosx-10.9-x86_64-cpython-38\r\n",
      "  \u001B[31m   \u001B[0m copying lib/Glacier2_Router_ice.py -> build/lib.macosx-10.9-x86_64-cpython-38\r\n",
      "  \u001B[31m   \u001B[0m copying lib/Glacier2.py -> build/lib.macosx-10.9-x86_64-cpython-38\r\n",
      "  \u001B[31m   \u001B[0m copying lib/IceGrid_Query_ice.py -> build/lib.macosx-10.9-x86_64-cpython-38\r\n",
      "  \u001B[31m   \u001B[0m copying lib/Ice_PluginF_ice.py -> build/lib.macosx-10.9-x86_64-cpython-38\r\n",
      "  \u001B[31m   \u001B[0m copying lib/Ice_ObjectAdapter_ice.py -> build/lib.macosx-10.9-x86_64-cpython-38\r\n",
      "  \u001B[31m   \u001B[0m copying lib/Ice_Metrics_ice.py -> build/lib.macosx-10.9-x86_64-cpython-38\r\n",
      "  \u001B[31m   \u001B[0m copying lib/Ice_ServantLocator_ice.py -> build/lib.macosx-10.9-x86_64-cpython-38\r\n",
      "  \u001B[31m   \u001B[0m copying lib/Ice_EndpointTypes_ice.py -> build/lib.macosx-10.9-x86_64-cpython-38\r\n",
      "  \u001B[31m   \u001B[0m copying lib/Glacier2_PermissionsVerifier_ice.py -> build/lib.macosx-10.9-x86_64-cpython-38\r\n",
      "  \u001B[31m   \u001B[0m copying lib/Ice_EndpointF_ice.py -> build/lib.macosx-10.9-x86_64-cpython-38\r\n",
      "  \u001B[31m   \u001B[0m copying lib/IceStorm_IceStorm_ice.py -> build/lib.macosx-10.9-x86_64-cpython-38\r\n",
      "  \u001B[31m   \u001B[0m copying lib/Ice_ProcessF_ice.py -> build/lib.macosx-10.9-x86_64-cpython-38\r\n",
      "  \u001B[31m   \u001B[0m copying lib/Ice_RemoteLogger_ice.py -> build/lib.macosx-10.9-x86_64-cpython-38\r\n",
      "  \u001B[31m   \u001B[0m creating build/lib.macosx-10.9-x86_64-cpython-38/IceGrid\r\n",
      "  \u001B[31m   \u001B[0m copying lib/IceGrid/__init__.py -> build/lib.macosx-10.9-x86_64-cpython-38/IceGrid\r\n",
      "  \u001B[31m   \u001B[0m creating build/lib.macosx-10.9-x86_64-cpython-38/IceMX\r\n",
      "  \u001B[31m   \u001B[0m copying lib/IceMX/__init__.py -> build/lib.macosx-10.9-x86_64-cpython-38/IceMX\r\n",
      "  \u001B[31m   \u001B[0m creating build/lib.macosx-10.9-x86_64-cpython-38/IcePatch2\r\n",
      "  \u001B[31m   \u001B[0m copying lib/IcePatch2/__init__.py -> build/lib.macosx-10.9-x86_64-cpython-38/IcePatch2\r\n",
      "  \u001B[31m   \u001B[0m creating build/lib.macosx-10.9-x86_64-cpython-38/IceStorm\r\n",
      "  \u001B[31m   \u001B[0m copying lib/IceStorm/__init__.py -> build/lib.macosx-10.9-x86_64-cpython-38/IceStorm\r\n",
      "  \u001B[31m   \u001B[0m creating build/lib.macosx-10.9-x86_64-cpython-38/IceBox\r\n",
      "  \u001B[31m   \u001B[0m copying lib/IceBox/__init__.py -> build/lib.macosx-10.9-x86_64-cpython-38/IceBox\r\n",
      "  \u001B[31m   \u001B[0m creating build/lib.macosx-10.9-x86_64-cpython-38/slice\r\n",
      "  \u001B[31m   \u001B[0m creating build/lib.macosx-10.9-x86_64-cpython-38/slice/IceGrid\r\n",
      "  \u001B[31m   \u001B[0m copying lib/slice/IceGrid/UserAccountMapper.ice -> build/lib.macosx-10.9-x86_64-cpython-38/slice/IceGrid\r\n",
      "  \u001B[31m   \u001B[0m copying lib/slice/IceGrid/FileParser.ice -> build/lib.macosx-10.9-x86_64-cpython-38/slice/IceGrid\r\n",
      "  \u001B[31m   \u001B[0m copying lib/slice/IceGrid/Registry.ice -> build/lib.macosx-10.9-x86_64-cpython-38/slice/IceGrid\r\n",
      "  \u001B[31m   \u001B[0m copying lib/slice/IceGrid/Session.ice -> build/lib.macosx-10.9-x86_64-cpython-38/slice/IceGrid\r\n",
      "  \u001B[31m   \u001B[0m copying lib/slice/IceGrid/Locator.ice -> build/lib.macosx-10.9-x86_64-cpython-38/slice/IceGrid\r\n",
      "  \u001B[31m   \u001B[0m copying lib/slice/IceGrid/Observer.ice -> build/lib.macosx-10.9-x86_64-cpython-38/slice/IceGrid\r\n",
      "  \u001B[31m   \u001B[0m copying lib/slice/IceGrid/PluginFacade.ice -> build/lib.macosx-10.9-x86_64-cpython-38/slice/IceGrid\r\n",
      "  \u001B[31m   \u001B[0m copying lib/slice/IceGrid/Admin.ice -> build/lib.macosx-10.9-x86_64-cpython-38/slice/IceGrid\r\n",
      "  \u001B[31m   \u001B[0m copying lib/slice/IceGrid/Descriptor.ice -> build/lib.macosx-10.9-x86_64-cpython-38/slice/IceGrid\r\n",
      "  \u001B[31m   \u001B[0m copying lib/slice/IceGrid/Query.ice -> build/lib.macosx-10.9-x86_64-cpython-38/slice/IceGrid\r\n",
      "  \u001B[31m   \u001B[0m copying lib/slice/IceGrid/Exception.ice -> build/lib.macosx-10.9-x86_64-cpython-38/slice/IceGrid\r\n",
      "  \u001B[31m   \u001B[0m creating build/lib.macosx-10.9-x86_64-cpython-38/slice/Freeze\r\n",
      "  \u001B[31m   \u001B[0m copying lib/slice/Freeze/Transaction.ice -> build/lib.macosx-10.9-x86_64-cpython-38/slice/Freeze\r\n",
      "  \u001B[31m   \u001B[0m copying lib/slice/Freeze/Connection.ice -> build/lib.macosx-10.9-x86_64-cpython-38/slice/Freeze\r\n",
      "  \u001B[31m   \u001B[0m copying lib/slice/Freeze/TransactionalEvictor.ice -> build/lib.macosx-10.9-x86_64-cpython-38/slice/Freeze\r\n",
      "  \u001B[31m   \u001B[0m copying lib/slice/Freeze/CatalogData.ice -> build/lib.macosx-10.9-x86_64-cpython-38/slice/Freeze\r\n",
      "  \u001B[31m   \u001B[0m copying lib/slice/Freeze/ConnectionF.ice -> build/lib.macosx-10.9-x86_64-cpython-38/slice/Freeze\r\n",
      "  \u001B[31m   \u001B[0m copying lib/slice/Freeze/EvictorF.ice -> build/lib.macosx-10.9-x86_64-cpython-38/slice/Freeze\r\n",
      "  \u001B[31m   \u001B[0m copying lib/slice/Freeze/EvictorStorage.ice -> build/lib.macosx-10.9-x86_64-cpython-38/slice/Freeze\r\n",
      "  \u001B[31m   \u001B[0m copying lib/slice/Freeze/DB.ice -> build/lib.macosx-10.9-x86_64-cpython-38/slice/Freeze\r\n",
      "  \u001B[31m   \u001B[0m copying lib/slice/Freeze/BackgroundSaveEvictor.ice -> build/lib.macosx-10.9-x86_64-cpython-38/slice/Freeze\r\n",
      "  \u001B[31m   \u001B[0m copying lib/slice/Freeze/Exception.ice -> build/lib.macosx-10.9-x86_64-cpython-38/slice/Freeze\r\n",
      "  \u001B[31m   \u001B[0m copying lib/slice/Freeze/Evictor.ice -> build/lib.macosx-10.9-x86_64-cpython-38/slice/Freeze\r\n",
      "  \u001B[31m   \u001B[0m creating build/lib.macosx-10.9-x86_64-cpython-38/slice/IceDiscovery\r\n",
      "  \u001B[31m   \u001B[0m copying lib/slice/IceDiscovery/IceDiscovery.ice -> build/lib.macosx-10.9-x86_64-cpython-38/slice/IceDiscovery\r\n",
      "  \u001B[31m   \u001B[0m creating build/lib.macosx-10.9-x86_64-cpython-38/slice/IcePatch2\r\n",
      "  \u001B[31m   \u001B[0m copying lib/slice/IcePatch2/FileServer.ice -> build/lib.macosx-10.9-x86_64-cpython-38/slice/IcePatch2\r\n",
      "  \u001B[31m   \u001B[0m copying lib/slice/IcePatch2/FileInfo.ice -> build/lib.macosx-10.9-x86_64-cpython-38/slice/IcePatch2\r\n",
      "  \u001B[31m   \u001B[0m creating build/lib.macosx-10.9-x86_64-cpython-38/slice/Ice\r\n",
      "  \u001B[31m   \u001B[0m copying lib/slice/Ice/ObjectAdapter.ice -> build/lib.macosx-10.9-x86_64-cpython-38/slice/Ice\r\n",
      "  \u001B[31m   \u001B[0m copying lib/slice/Ice/SliceChecksumDict.ice -> build/lib.macosx-10.9-x86_64-cpython-38/slice/Ice\r\n",
      "  \u001B[31m   \u001B[0m copying lib/slice/Ice/ImplicitContextF.ice -> build/lib.macosx-10.9-x86_64-cpython-38/slice/Ice\r\n",
      "  \u001B[31m   \u001B[0m copying lib/slice/Ice/Logger.ice -> build/lib.macosx-10.9-x86_64-cpython-38/slice/Ice\r\n",
      "  \u001B[31m   \u001B[0m copying lib/slice/Ice/Connection.ice -> build/lib.macosx-10.9-x86_64-cpython-38/slice/Ice\r\n",
      "  \u001B[31m   \u001B[0m copying lib/slice/Ice/RemoteLogger.ice -> build/lib.macosx-10.9-x86_64-cpython-38/slice/Ice\r\n",
      "  \u001B[31m   \u001B[0m copying lib/slice/Ice/PropertiesAdmin.ice -> build/lib.macosx-10.9-x86_64-cpython-38/slice/Ice\r\n",
      "  \u001B[31m   \u001B[0m copying lib/slice/Ice/EndpointF.ice -> build/lib.macosx-10.9-x86_64-cpython-38/slice/Ice\r\n",
      "  \u001B[31m   \u001B[0m copying lib/slice/Ice/Communicator.ice -> build/lib.macosx-10.9-x86_64-cpython-38/slice/Ice\r\n",
      "  \u001B[31m   \u001B[0m copying lib/slice/Ice/Plugin.ice -> build/lib.macosx-10.9-x86_64-cpython-38/slice/Ice\r\n",
      "  \u001B[31m   \u001B[0m copying lib/slice/Ice/ObjectAdapterF.ice -> build/lib.macosx-10.9-x86_64-cpython-38/slice/Ice\r\n",
      "  \u001B[31m   \u001B[0m copying lib/slice/Ice/Properties.ice -> build/lib.macosx-10.9-x86_64-cpython-38/slice/Ice\r\n",
      "  \u001B[31m   \u001B[0m copying lib/slice/Ice/ConnectionF.ice -> build/lib.macosx-10.9-x86_64-cpython-38/slice/Ice\r\n",
      "  \u001B[31m   \u001B[0m copying lib/slice/Ice/LocalException.ice -> build/lib.macosx-10.9-x86_64-cpython-38/slice/Ice\r\n",
      "  \u001B[31m   \u001B[0m copying lib/slice/Ice/Locator.ice -> build/lib.macosx-10.9-x86_64-cpython-38/slice/Ice\r\n",
      "  \u001B[31m   \u001B[0m copying lib/slice/Ice/PluginF.ice -> build/lib.macosx-10.9-x86_64-cpython-38/slice/Ice\r\n",
      "  \u001B[31m   \u001B[0m copying lib/slice/Ice/PropertiesF.ice -> build/lib.macosx-10.9-x86_64-cpython-38/slice/Ice\r\n",
      "  \u001B[31m   \u001B[0m copying lib/slice/Ice/BuiltinSequences.ice -> build/lib.macosx-10.9-x86_64-cpython-38/slice/Ice\r\n",
      "  \u001B[31m   \u001B[0m copying lib/slice/Ice/Version.ice -> build/lib.macosx-10.9-x86_64-cpython-38/slice/Ice\r\n",
      "  \u001B[31m   \u001B[0m copying lib/slice/Ice/ObjectFactoryF.ice -> build/lib.macosx-10.9-x86_64-cpython-38/slice/Ice\r\n",
      "  \u001B[31m   \u001B[0m copying lib/slice/Ice/ServantLocator.ice -> build/lib.macosx-10.9-x86_64-cpython-38/slice/Ice\r\n",
      "  \u001B[31m   \u001B[0m copying lib/slice/Ice/InstrumentationF.ice -> build/lib.macosx-10.9-x86_64-cpython-38/slice/Ice\r\n",
      "  \u001B[31m   \u001B[0m copying lib/slice/Ice/Router.ice -> build/lib.macosx-10.9-x86_64-cpython-38/slice/Ice\r\n",
      "  \u001B[31m   \u001B[0m copying lib/slice/Ice/Endpoint.ice -> build/lib.macosx-10.9-x86_64-cpython-38/slice/Ice\r\n",
      "  \u001B[31m   \u001B[0m copying lib/slice/Ice/Metrics.ice -> build/lib.macosx-10.9-x86_64-cpython-38/slice/Ice\r\n",
      "  \u001B[31m   \u001B[0m copying lib/slice/Ice/ObjectFactory.ice -> build/lib.macosx-10.9-x86_64-cpython-38/slice/Ice\r\n",
      "  \u001B[31m   \u001B[0m copying lib/slice/Ice/Instrumentation.ice -> build/lib.macosx-10.9-x86_64-cpython-38/slice/Ice\r\n",
      "  \u001B[31m   \u001B[0m copying lib/slice/Ice/Identity.ice -> build/lib.macosx-10.9-x86_64-cpython-38/slice/Ice\r\n",
      "  \u001B[31m   \u001B[0m copying lib/slice/Ice/LoggerF.ice -> build/lib.macosx-10.9-x86_64-cpython-38/slice/Ice\r\n",
      "  \u001B[31m   \u001B[0m copying lib/slice/Ice/LocatorF.ice -> build/lib.macosx-10.9-x86_64-cpython-38/slice/Ice\r\n",
      "  \u001B[31m   \u001B[0m copying lib/slice/Ice/EndpointTypes.ice -> build/lib.macosx-10.9-x86_64-cpython-38/slice/Ice\r\n",
      "  \u001B[31m   \u001B[0m copying lib/slice/Ice/CommunicatorF.ice -> build/lib.macosx-10.9-x86_64-cpython-38/slice/Ice\r\n",
      "  \u001B[31m   \u001B[0m copying lib/slice/Ice/Current.ice -> build/lib.macosx-10.9-x86_64-cpython-38/slice/Ice\r\n",
      "  \u001B[31m   \u001B[0m copying lib/slice/Ice/ProcessF.ice -> build/lib.macosx-10.9-x86_64-cpython-38/slice/Ice\r\n",
      "  \u001B[31m   \u001B[0m copying lib/slice/Ice/RouterF.ice -> build/lib.macosx-10.9-x86_64-cpython-38/slice/Ice\r\n",
      "  \u001B[31m   \u001B[0m copying lib/slice/Ice/Process.ice -> build/lib.macosx-10.9-x86_64-cpython-38/slice/Ice\r\n",
      "  \u001B[31m   \u001B[0m copying lib/slice/Ice/ImplicitContext.ice -> build/lib.macosx-10.9-x86_64-cpython-38/slice/Ice\r\n",
      "  \u001B[31m   \u001B[0m copying lib/slice/Ice/FacetMap.ice -> build/lib.macosx-10.9-x86_64-cpython-38/slice/Ice\r\n",
      "  \u001B[31m   \u001B[0m copying lib/slice/Ice/ServantLocatorF.ice -> build/lib.macosx-10.9-x86_64-cpython-38/slice/Ice\r\n",
      "  \u001B[31m   \u001B[0m creating build/lib.macosx-10.9-x86_64-cpython-38/slice/Glacier2\r\n",
      "  \u001B[31m   \u001B[0m copying lib/slice/Glacier2/Session.ice -> build/lib.macosx-10.9-x86_64-cpython-38/slice/Glacier2\r\n",
      "  \u001B[31m   \u001B[0m copying lib/slice/Glacier2/PermissionsVerifier.ice -> build/lib.macosx-10.9-x86_64-cpython-38/slice/Glacier2\r\n",
      "  \u001B[31m   \u001B[0m copying lib/slice/Glacier2/PermissionsVerifierF.ice -> build/lib.macosx-10.9-x86_64-cpython-38/slice/Glacier2\r\n",
      "  \u001B[31m   \u001B[0m copying lib/slice/Glacier2/SSLInfo.ice -> build/lib.macosx-10.9-x86_64-cpython-38/slice/Glacier2\r\n",
      "  \u001B[31m   \u001B[0m copying lib/slice/Glacier2/Router.ice -> build/lib.macosx-10.9-x86_64-cpython-38/slice/Glacier2\r\n",
      "  \u001B[31m   \u001B[0m copying lib/slice/Glacier2/Metrics.ice -> build/lib.macosx-10.9-x86_64-cpython-38/slice/Glacier2\r\n",
      "  \u001B[31m   \u001B[0m copying lib/slice/Glacier2/RouterF.ice -> build/lib.macosx-10.9-x86_64-cpython-38/slice/Glacier2\r\n",
      "  \u001B[31m   \u001B[0m creating build/lib.macosx-10.9-x86_64-cpython-38/slice/IceStorm\r\n",
      "  \u001B[31m   \u001B[0m copying lib/slice/IceStorm/IceStorm.ice -> build/lib.macosx-10.9-x86_64-cpython-38/slice/IceStorm\r\n",
      "  \u001B[31m   \u001B[0m copying lib/slice/IceStorm/Metrics.ice -> build/lib.macosx-10.9-x86_64-cpython-38/slice/IceStorm\r\n",
      "  \u001B[31m   \u001B[0m creating build/lib.macosx-10.9-x86_64-cpython-38/slice/IceLocatorDiscovery\r\n",
      "  \u001B[31m   \u001B[0m copying lib/slice/IceLocatorDiscovery/IceLocatorDiscovery.ice -> build/lib.macosx-10.9-x86_64-cpython-38/slice/IceLocatorDiscovery\r\n",
      "  \u001B[31m   \u001B[0m creating build/lib.macosx-10.9-x86_64-cpython-38/slice/IceSSL\r\n",
      "  \u001B[31m   \u001B[0m copying lib/slice/IceSSL/EndpointInfo.ice -> build/lib.macosx-10.9-x86_64-cpython-38/slice/IceSSL\r\n",
      "  \u001B[31m   \u001B[0m copying lib/slice/IceSSL/ConnectionInfo.ice -> build/lib.macosx-10.9-x86_64-cpython-38/slice/IceSSL\r\n",
      "  \u001B[31m   \u001B[0m creating build/lib.macosx-10.9-x86_64-cpython-38/slice/IceBox\r\n",
      "  \u001B[31m   \u001B[0m copying lib/slice/IceBox/IceBox.ice -> build/lib.macosx-10.9-x86_64-cpython-38/slice/IceBox\r\n",
      "  \u001B[31m   \u001B[0m running build_ext\r\n",
      "  \u001B[31m   \u001B[0m building 'IcePy' extension\r\n",
      "  \u001B[31m   \u001B[0m creating build/temp.macosx-10.9-x86_64-cpython-38\r\n",
      "  \u001B[31m   \u001B[0m creating build/temp.macosx-10.9-x86_64-cpython-38/src\r\n",
      "  \u001B[31m   \u001B[0m creating build/temp.macosx-10.9-x86_64-cpython-38/src/ice\r\n",
      "  \u001B[31m   \u001B[0m creating build/temp.macosx-10.9-x86_64-cpython-38/src/ice/cpp\r\n",
      "  \u001B[31m   \u001B[0m creating build/temp.macosx-10.9-x86_64-cpython-38/src/ice/cpp/src\r\n",
      "  \u001B[31m   \u001B[0m creating build/temp.macosx-10.9-x86_64-cpython-38/src/ice/cpp/src/Ice\r\n",
      "  \u001B[31m   \u001B[0m creating build/temp.macosx-10.9-x86_64-cpython-38/src/ice/cpp/src/IceDiscovery\r\n",
      "  \u001B[31m   \u001B[0m creating build/temp.macosx-10.9-x86_64-cpython-38/src/ice/cpp/src/IceLocatorDiscovery\r\n",
      "  \u001B[31m   \u001B[0m creating build/temp.macosx-10.9-x86_64-cpython-38/src/ice/cpp/src/IceSSL\r\n",
      "  \u001B[31m   \u001B[0m creating build/temp.macosx-10.9-x86_64-cpython-38/src/ice/cpp/src/IceUtil\r\n",
      "  \u001B[31m   \u001B[0m creating build/temp.macosx-10.9-x86_64-cpython-38/src/ice/cpp/src/Slice\r\n",
      "  \u001B[31m   \u001B[0m creating build/temp.macosx-10.9-x86_64-cpython-38/src/ice/mcpp\r\n",
      "  \u001B[31m   \u001B[0m clang -Wno-unused-result -Wsign-compare -Wunreachable-code -DNDEBUG -fwrapv -O2 -Wall -fPIC -O2 -isystem /opt/anaconda3/envs/devhome/include -fPIC -O2 -isystem /opt/anaconda3/envs/devhome/include -arch x86_64 -DICE_STATIC_LIBS -Isrc -Isrc/ice/cpp/include -Isrc/ice/cpp/src -I/opt/anaconda3/envs/devhome/include/python3.8 -c src/BatchRequestInterceptor.cpp -o build/temp.macosx-10.9-x86_64-cpython-38/src/BatchRequestInterceptor.o -w\r\n",
      "  \u001B[31m   \u001B[0m clang -Wno-unused-result -Wsign-compare -Wunreachable-code -DNDEBUG -fwrapv -O2 -Wall -fPIC -O2 -isystem /opt/anaconda3/envs/devhome/include -fPIC -O2 -isystem /opt/anaconda3/envs/devhome/include -arch x86_64 -DICE_STATIC_LIBS -Isrc -Isrc/ice/cpp/include -Isrc/ice/cpp/src -I/opt/anaconda3/envs/devhome/include/python3.8 -c src/Communicator.cpp -o build/temp.macosx-10.9-x86_64-cpython-38/src/Communicator.o -w\r\n",
      "  \u001B[31m   \u001B[0m clang -Wno-unused-result -Wsign-compare -Wunreachable-code -DNDEBUG -fwrapv -O2 -Wall -fPIC -O2 -isystem /opt/anaconda3/envs/devhome/include -fPIC -O2 -isystem /opt/anaconda3/envs/devhome/include -arch x86_64 -DICE_STATIC_LIBS -Isrc -Isrc/ice/cpp/include -Isrc/ice/cpp/src -I/opt/anaconda3/envs/devhome/include/python3.8 -c src/Connection.cpp -o build/temp.macosx-10.9-x86_64-cpython-38/src/Connection.o -w\r\n",
      "  \u001B[31m   \u001B[0m clang -Wno-unused-result -Wsign-compare -Wunreachable-code -DNDEBUG -fwrapv -O2 -Wall -fPIC -O2 -isystem /opt/anaconda3/envs/devhome/include -fPIC -O2 -isystem /opt/anaconda3/envs/devhome/include -arch x86_64 -DICE_STATIC_LIBS -Isrc -Isrc/ice/cpp/include -Isrc/ice/cpp/src -I/opt/anaconda3/envs/devhome/include/python3.8 -c src/ConnectionInfo.cpp -o build/temp.macosx-10.9-x86_64-cpython-38/src/ConnectionInfo.o -w\r\n",
      "  \u001B[31m   \u001B[0m clang -Wno-unused-result -Wsign-compare -Wunreachable-code -DNDEBUG -fwrapv -O2 -Wall -fPIC -O2 -isystem /opt/anaconda3/envs/devhome/include -fPIC -O2 -isystem /opt/anaconda3/envs/devhome/include -arch x86_64 -DICE_STATIC_LIBS -Isrc -Isrc/ice/cpp/include -Isrc/ice/cpp/src -I/opt/anaconda3/envs/devhome/include/python3.8 -c src/Current.cpp -o build/temp.macosx-10.9-x86_64-cpython-38/src/Current.o -w\r\n",
      "  \u001B[31m   \u001B[0m clang -Wno-unused-result -Wsign-compare -Wunreachable-code -DNDEBUG -fwrapv -O2 -Wall -fPIC -O2 -isystem /opt/anaconda3/envs/devhome/include -fPIC -O2 -isystem /opt/anaconda3/envs/devhome/include -arch x86_64 -DICE_STATIC_LIBS -Isrc -Isrc/ice/cpp/include -Isrc/ice/cpp/src -I/opt/anaconda3/envs/devhome/include/python3.8 -c src/Endpoint.cpp -o build/temp.macosx-10.9-x86_64-cpython-38/src/Endpoint.o -w\r\n",
      "  \u001B[31m   \u001B[0m clang -Wno-unused-result -Wsign-compare -Wunreachable-code -DNDEBUG -fwrapv -O2 -Wall -fPIC -O2 -isystem /opt/anaconda3/envs/devhome/include -fPIC -O2 -isystem /opt/anaconda3/envs/devhome/include -arch x86_64 -DICE_STATIC_LIBS -Isrc -Isrc/ice/cpp/include -Isrc/ice/cpp/src -I/opt/anaconda3/envs/devhome/include/python3.8 -c src/EndpointInfo.cpp -o build/temp.macosx-10.9-x86_64-cpython-38/src/EndpointInfo.o -w\r\n",
      "  \u001B[31m   \u001B[0m clang -Wno-unused-result -Wsign-compare -Wunreachable-code -DNDEBUG -fwrapv -O2 -Wall -fPIC -O2 -isystem /opt/anaconda3/envs/devhome/include -fPIC -O2 -isystem /opt/anaconda3/envs/devhome/include -arch x86_64 -DICE_STATIC_LIBS -Isrc -Isrc/ice/cpp/include -Isrc/ice/cpp/src -I/opt/anaconda3/envs/devhome/include/python3.8 -c src/ImplicitContext.cpp -o build/temp.macosx-10.9-x86_64-cpython-38/src/ImplicitContext.o -w\r\n",
      "  \u001B[31m   \u001B[0m clang -Wno-unused-result -Wsign-compare -Wunreachable-code -DNDEBUG -fwrapv -O2 -Wall -fPIC -O2 -isystem /opt/anaconda3/envs/devhome/include -fPIC -O2 -isystem /opt/anaconda3/envs/devhome/include -arch x86_64 -DICE_STATIC_LIBS -Isrc -Isrc/ice/cpp/include -Isrc/ice/cpp/src -I/opt/anaconda3/envs/devhome/include/python3.8 -c src/Init.cpp -o build/temp.macosx-10.9-x86_64-cpython-38/src/Init.o -w\r\n",
      "  \u001B[31m   \u001B[0m clang -Wno-unused-result -Wsign-compare -Wunreachable-code -DNDEBUG -fwrapv -O2 -Wall -fPIC -O2 -isystem /opt/anaconda3/envs/devhome/include -fPIC -O2 -isystem /opt/anaconda3/envs/devhome/include -arch x86_64 -DICE_STATIC_LIBS -Isrc -Isrc/ice/cpp/include -Isrc/ice/cpp/src -I/opt/anaconda3/envs/devhome/include/python3.8 -c src/Logger.cpp -o build/temp.macosx-10.9-x86_64-cpython-38/src/Logger.o -w\r\n",
      "  \u001B[31m   \u001B[0m clang -Wno-unused-result -Wsign-compare -Wunreachable-code -DNDEBUG -fwrapv -O2 -Wall -fPIC -O2 -isystem /opt/anaconda3/envs/devhome/include -fPIC -O2 -isystem /opt/anaconda3/envs/devhome/include -arch x86_64 -DICE_STATIC_LIBS -Isrc -Isrc/ice/cpp/include -Isrc/ice/cpp/src -I/opt/anaconda3/envs/devhome/include/python3.8 -c src/ObjectAdapter.cpp -o build/temp.macosx-10.9-x86_64-cpython-38/src/ObjectAdapter.o -w\r\n",
      "  \u001B[31m   \u001B[0m clang -Wno-unused-result -Wsign-compare -Wunreachable-code -DNDEBUG -fwrapv -O2 -Wall -fPIC -O2 -isystem /opt/anaconda3/envs/devhome/include -fPIC -O2 -isystem /opt/anaconda3/envs/devhome/include -arch x86_64 -DICE_STATIC_LIBS -Isrc -Isrc/ice/cpp/include -Isrc/ice/cpp/src -I/opt/anaconda3/envs/devhome/include/python3.8 -c src/ObjectFactory.cpp -o build/temp.macosx-10.9-x86_64-cpython-38/src/ObjectFactory.o -w\r\n",
      "  \u001B[31m   \u001B[0m clang -Wno-unused-result -Wsign-compare -Wunreachable-code -DNDEBUG -fwrapv -O2 -Wall -fPIC -O2 -isystem /opt/anaconda3/envs/devhome/include -fPIC -O2 -isystem /opt/anaconda3/envs/devhome/include -arch x86_64 -DICE_STATIC_LIBS -Isrc -Isrc/ice/cpp/include -Isrc/ice/cpp/src -I/opt/anaconda3/envs/devhome/include/python3.8 -c src/Operation.cpp -o build/temp.macosx-10.9-x86_64-cpython-38/src/Operation.o -w\r\n",
      "  \u001B[31m   \u001B[0m clang -Wno-unused-result -Wsign-compare -Wunreachable-code -DNDEBUG -fwrapv -O2 -Wall -fPIC -O2 -isystem /opt/anaconda3/envs/devhome/include -fPIC -O2 -isystem /opt/anaconda3/envs/devhome/include -arch x86_64 -DICE_STATIC_LIBS -Isrc -Isrc/ice/cpp/include -Isrc/ice/cpp/src -I/opt/anaconda3/envs/devhome/include/python3.8 -c src/Properties.cpp -o build/temp.macosx-10.9-x86_64-cpython-38/src/Properties.o -w\r\n",
      "  \u001B[31m   \u001B[0m clang -Wno-unused-result -Wsign-compare -Wunreachable-code -DNDEBUG -fwrapv -O2 -Wall -fPIC -O2 -isystem /opt/anaconda3/envs/devhome/include -fPIC -O2 -isystem /opt/anaconda3/envs/devhome/include -arch x86_64 -DICE_STATIC_LIBS -Isrc -Isrc/ice/cpp/include -Isrc/ice/cpp/src -I/opt/anaconda3/envs/devhome/include/python3.8 -c src/PropertiesAdmin.cpp -o build/temp.macosx-10.9-x86_64-cpython-38/src/PropertiesAdmin.o -w\r\n",
      "  \u001B[31m   \u001B[0m clang -Wno-unused-result -Wsign-compare -Wunreachable-code -DNDEBUG -fwrapv -O2 -Wall -fPIC -O2 -isystem /opt/anaconda3/envs/devhome/include -fPIC -O2 -isystem /opt/anaconda3/envs/devhome/include -arch x86_64 -DICE_STATIC_LIBS -Isrc -Isrc/ice/cpp/include -Isrc/ice/cpp/src -I/opt/anaconda3/envs/devhome/include/python3.8 -c src/Proxy.cpp -o build/temp.macosx-10.9-x86_64-cpython-38/src/Proxy.o -w\r\n",
      "  \u001B[31m   \u001B[0m clang -Wno-unused-result -Wsign-compare -Wunreachable-code -DNDEBUG -fwrapv -O2 -Wall -fPIC -O2 -isystem /opt/anaconda3/envs/devhome/include -fPIC -O2 -isystem /opt/anaconda3/envs/devhome/include -arch x86_64 -DICE_STATIC_LIBS -Isrc -Isrc/ice/cpp/include -Isrc/ice/cpp/src -I/opt/anaconda3/envs/devhome/include/python3.8 -c src/Slice.cpp -o build/temp.macosx-10.9-x86_64-cpython-38/src/Slice.o -w\r\n",
      "  \u001B[31m   \u001B[0m clang -Wno-unused-result -Wsign-compare -Wunreachable-code -DNDEBUG -fwrapv -O2 -Wall -fPIC -O2 -isystem /opt/anaconda3/envs/devhome/include -fPIC -O2 -isystem /opt/anaconda3/envs/devhome/include -arch x86_64 -DICE_STATIC_LIBS -Isrc -Isrc/ice/cpp/include -Isrc/ice/cpp/src -I/opt/anaconda3/envs/devhome/include/python3.8 -c src/Thread.cpp -o build/temp.macosx-10.9-x86_64-cpython-38/src/Thread.o -w\r\n",
      "  \u001B[31m   \u001B[0m clang -Wno-unused-result -Wsign-compare -Wunreachable-code -DNDEBUG -fwrapv -O2 -Wall -fPIC -O2 -isystem /opt/anaconda3/envs/devhome/include -fPIC -O2 -isystem /opt/anaconda3/envs/devhome/include -arch x86_64 -DICE_STATIC_LIBS -Isrc -Isrc/ice/cpp/include -Isrc/ice/cpp/src -I/opt/anaconda3/envs/devhome/include/python3.8 -c src/Types.cpp -o build/temp.macosx-10.9-x86_64-cpython-38/src/Types.o -w\r\n",
      "  \u001B[31m   \u001B[0m clang -Wno-unused-result -Wsign-compare -Wunreachable-code -DNDEBUG -fwrapv -O2 -Wall -fPIC -O2 -isystem /opt/anaconda3/envs/devhome/include -fPIC -O2 -isystem /opt/anaconda3/envs/devhome/include -arch x86_64 -DICE_STATIC_LIBS -Isrc -Isrc/ice/cpp/include -Isrc/ice/cpp/src -I/opt/anaconda3/envs/devhome/include/python3.8 -c src/Util.cpp -o build/temp.macosx-10.9-x86_64-cpython-38/src/Util.o -w\r\n",
      "  \u001B[31m   \u001B[0m clang -Wno-unused-result -Wsign-compare -Wunreachable-code -DNDEBUG -fwrapv -O2 -Wall -fPIC -O2 -isystem /opt/anaconda3/envs/devhome/include -fPIC -O2 -isystem /opt/anaconda3/envs/devhome/include -arch x86_64 -DICE_STATIC_LIBS -Isrc -Isrc/ice/cpp/include -Isrc/ice/cpp/src -I/opt/anaconda3/envs/devhome/include/python3.8 -c src/ice/cpp/src/Ice/ACM.cpp -o build/temp.macosx-10.9-x86_64-cpython-38/src/ice/cpp/src/Ice/ACM.o -w\r\n",
      "  \u001B[31m   \u001B[0m clang -Wno-unused-result -Wsign-compare -Wunreachable-code -DNDEBUG -fwrapv -O2 -Wall -fPIC -O2 -isystem /opt/anaconda3/envs/devhome/include -fPIC -O2 -isystem /opt/anaconda3/envs/devhome/include -arch x86_64 -DICE_STATIC_LIBS -Isrc -Isrc/ice/cpp/include -Isrc/ice/cpp/src -I/opt/anaconda3/envs/devhome/include/python3.8 -c src/ice/cpp/src/Ice/Acceptor.cpp -o build/temp.macosx-10.9-x86_64-cpython-38/src/ice/cpp/src/Ice/Acceptor.o -w\r\n",
      "  \u001B[31m   \u001B[0m clang -Wno-unused-result -Wsign-compare -Wunreachable-code -DNDEBUG -fwrapv -O2 -Wall -fPIC -O2 -isystem /opt/anaconda3/envs/devhome/include -fPIC -O2 -isystem /opt/anaconda3/envs/devhome/include -arch x86_64 -DICE_STATIC_LIBS -Isrc -Isrc/ice/cpp/include -Isrc/ice/cpp/src -I/opt/anaconda3/envs/devhome/include/python3.8 -c src/ice/cpp/src/Ice/AsyncResult.cpp -o build/temp.macosx-10.9-x86_64-cpython-38/src/ice/cpp/src/Ice/AsyncResult.o -w\r\n",
      "  \u001B[31m   \u001B[0m clang -Wno-unused-result -Wsign-compare -Wunreachable-code -DNDEBUG -fwrapv -O2 -Wall -fPIC -O2 -isystem /opt/anaconda3/envs/devhome/include -fPIC -O2 -isystem /opt/anaconda3/envs/devhome/include -arch x86_64 -DICE_STATIC_LIBS -Isrc -Isrc/ice/cpp/include -Isrc/ice/cpp/src -I/opt/anaconda3/envs/devhome/include/python3.8 -c src/ice/cpp/src/Ice/Base64.cpp -o build/temp.macosx-10.9-x86_64-cpython-38/src/ice/cpp/src/Ice/Base64.o -w\r\n",
      "  \u001B[31m   \u001B[0m clang -Wno-unused-result -Wsign-compare -Wunreachable-code -DNDEBUG -fwrapv -O2 -Wall -fPIC -O2 -isystem /opt/anaconda3/envs/devhome/include -fPIC -O2 -isystem /opt/anaconda3/envs/devhome/include -arch x86_64 -DICE_STATIC_LIBS -Isrc -Isrc/ice/cpp/include -Isrc/ice/cpp/src -I/opt/anaconda3/envs/devhome/include/python3.8 -c src/ice/cpp/src/Ice/BasicStream.cpp -o build/temp.macosx-10.9-x86_64-cpython-38/src/ice/cpp/src/Ice/BasicStream.o -w\r\n",
      "  \u001B[31m   \u001B[0m clang -Wno-unused-result -Wsign-compare -Wunreachable-code -DNDEBUG -fwrapv -O2 -Wall -fPIC -O2 -isystem /opt/anaconda3/envs/devhome/include -fPIC -O2 -isystem /opt/anaconda3/envs/devhome/include -arch x86_64 -DICE_STATIC_LIBS -Isrc -Isrc/ice/cpp/include -Isrc/ice/cpp/src -I/opt/anaconda3/envs/devhome/include/python3.8 -c src/ice/cpp/src/Ice/BatchRequestQueue.cpp -o build/temp.macosx-10.9-x86_64-cpython-38/src/ice/cpp/src/Ice/BatchRequestQueue.o -w\r\n",
      "  \u001B[31m   \u001B[0m clang -Wno-unused-result -Wsign-compare -Wunreachable-code -DNDEBUG -fwrapv -O2 -Wall -fPIC -O2 -isystem /opt/anaconda3/envs/devhome/include -fPIC -O2 -isystem /opt/anaconda3/envs/devhome/include -arch x86_64 -DICE_STATIC_LIBS -Isrc -Isrc/ice/cpp/include -Isrc/ice/cpp/src -I/opt/anaconda3/envs/devhome/include/python3.8 -c src/ice/cpp/src/Ice/Buffer.cpp -o build/temp.macosx-10.9-x86_64-cpython-38/src/ice/cpp/src/Ice/Buffer.o -w\r\n",
      "  \u001B[31m   \u001B[0m clang -Wno-unused-result -Wsign-compare -Wunreachable-code -DNDEBUG -fwrapv -O2 -Wall -fPIC -O2 -isystem /opt/anaconda3/envs/devhome/include -fPIC -O2 -isystem /opt/anaconda3/envs/devhome/include -arch x86_64 -DICE_STATIC_LIBS -Isrc -Isrc/ice/cpp/include -Isrc/ice/cpp/src -I/opt/anaconda3/envs/devhome/include/python3.8 -c src/ice/cpp/src/Ice/BuiltinSequences.cpp -o build/temp.macosx-10.9-x86_64-cpython-38/src/ice/cpp/src/Ice/BuiltinSequences.o -w\r\n",
      "  \u001B[31m   \u001B[0m clang -Wno-unused-result -Wsign-compare -Wunreachable-code -DNDEBUG -fwrapv -O2 -Wall -fPIC -O2 -isystem /opt/anaconda3/envs/devhome/include -fPIC -O2 -isystem /opt/anaconda3/envs/devhome/include -arch x86_64 -DICE_STATIC_LIBS -Isrc -Isrc/ice/cpp/include -Isrc/ice/cpp/src -I/opt/anaconda3/envs/devhome/include/python3.8 -c src/ice/cpp/src/Ice/CollocatedRequestHandler.cpp -o build/temp.macosx-10.9-x86_64-cpython-38/src/ice/cpp/src/Ice/CollocatedRequestHandler.o -w\r\n",
      "  \u001B[31m   \u001B[0m clang -Wno-unused-result -Wsign-compare -Wunreachable-code -DNDEBUG -fwrapv -O2 -Wall -fPIC -O2 -isystem /opt/anaconda3/envs/devhome/include -fPIC -O2 -isystem /opt/anaconda3/envs/devhome/include -arch x86_64 -DICE_STATIC_LIBS -Isrc -Isrc/ice/cpp/include -Isrc/ice/cpp/src -I/opt/anaconda3/envs/devhome/include/python3.8 -c src/ice/cpp/src/Ice/Communicator.cpp -o build/temp.macosx-10.9-x86_64-cpython-38/src/ice/cpp/src/Ice/Communicator.o -w\r\n",
      "  \u001B[31m   \u001B[0m clang -Wno-unused-result -Wsign-compare -Wunreachable-code -DNDEBUG -fwrapv -O2 -Wall -fPIC -O2 -isystem /opt/anaconda3/envs/devhome/include -fPIC -O2 -isystem /opt/anaconda3/envs/devhome/include -arch x86_64 -DICE_STATIC_LIBS -Isrc -Isrc/ice/cpp/include -Isrc/ice/cpp/src -I/opt/anaconda3/envs/devhome/include/python3.8 -c src/ice/cpp/src/Ice/CommunicatorF.cpp -o build/temp.macosx-10.9-x86_64-cpython-38/src/ice/cpp/src/Ice/CommunicatorF.o -w\r\n",
      "  \u001B[31m   \u001B[0m clang -Wno-unused-result -Wsign-compare -Wunreachable-code -DNDEBUG -fwrapv -O2 -Wall -fPIC -O2 -isystem /opt/anaconda3/envs/devhome/include -fPIC -O2 -isystem /opt/anaconda3/envs/devhome/include -arch x86_64 -DICE_STATIC_LIBS -Isrc -Isrc/ice/cpp/include -Isrc/ice/cpp/src -I/opt/anaconda3/envs/devhome/include/python3.8 -c src/ice/cpp/src/Ice/CommunicatorI.cpp -o build/temp.macosx-10.9-x86_64-cpython-38/src/ice/cpp/src/Ice/CommunicatorI.o -w\r\n",
      "  \u001B[31m   \u001B[0m clang -Wno-unused-result -Wsign-compare -Wunreachable-code -DNDEBUG -fwrapv -O2 -Wall -fPIC -O2 -isystem /opt/anaconda3/envs/devhome/include -fPIC -O2 -isystem /opt/anaconda3/envs/devhome/include -arch x86_64 -DICE_STATIC_LIBS -Isrc -Isrc/ice/cpp/include -Isrc/ice/cpp/src -I/opt/anaconda3/envs/devhome/include/python3.8 -c src/ice/cpp/src/Ice/ConnectRequestHandler.cpp -o build/temp.macosx-10.9-x86_64-cpython-38/src/ice/cpp/src/Ice/ConnectRequestHandler.o -w\r\n",
      "  \u001B[31m   \u001B[0m clang -Wno-unused-result -Wsign-compare -Wunreachable-code -DNDEBUG -fwrapv -O2 -Wall -fPIC -O2 -isystem /opt/anaconda3/envs/devhome/include -fPIC -O2 -isystem /opt/anaconda3/envs/devhome/include -arch x86_64 -DICE_STATIC_LIBS -Isrc -Isrc/ice/cpp/include -Isrc/ice/cpp/src -I/opt/anaconda3/envs/devhome/include/python3.8 -c src/ice/cpp/src/Ice/Connection.cpp -o build/temp.macosx-10.9-x86_64-cpython-38/src/ice/cpp/src/Ice/Connection.o -w\r\n",
      "  \u001B[31m   \u001B[0m clang -Wno-unused-result -Wsign-compare -Wunreachable-code -DNDEBUG -fwrapv -O2 -Wall -fPIC -O2 -isystem /opt/anaconda3/envs/devhome/include -fPIC -O2 -isystem /opt/anaconda3/envs/devhome/include -arch x86_64 -DICE_STATIC_LIBS -Isrc -Isrc/ice/cpp/include -Isrc/ice/cpp/src -I/opt/anaconda3/envs/devhome/include/python3.8 -c src/ice/cpp/src/Ice/ConnectionF.cpp -o build/temp.macosx-10.9-x86_64-cpython-38/src/ice/cpp/src/Ice/ConnectionF.o -w\r\n",
      "  \u001B[31m   \u001B[0m clang -Wno-unused-result -Wsign-compare -Wunreachable-code -DNDEBUG -fwrapv -O2 -Wall -fPIC -O2 -isystem /opt/anaconda3/envs/devhome/include -fPIC -O2 -isystem /opt/anaconda3/envs/devhome/include -arch x86_64 -DICE_STATIC_LIBS -Isrc -Isrc/ice/cpp/include -Isrc/ice/cpp/src -I/opt/anaconda3/envs/devhome/include/python3.8 -c src/ice/cpp/src/Ice/ConnectionFactory.cpp -o build/temp.macosx-10.9-x86_64-cpython-38/src/ice/cpp/src/Ice/ConnectionFactory.o -w\r\n",
      "  \u001B[31m   \u001B[0m clang -Wno-unused-result -Wsign-compare -Wunreachable-code -DNDEBUG -fwrapv -O2 -Wall -fPIC -O2 -isystem /opt/anaconda3/envs/devhome/include -fPIC -O2 -isystem /opt/anaconda3/envs/devhome/include -arch x86_64 -DICE_STATIC_LIBS -Isrc -Isrc/ice/cpp/include -Isrc/ice/cpp/src -I/opt/anaconda3/envs/devhome/include/python3.8 -c src/ice/cpp/src/Ice/ConnectionI.cpp -o build/temp.macosx-10.9-x86_64-cpython-38/src/ice/cpp/src/Ice/ConnectionI.o -w\r\n",
      "  \u001B[31m   \u001B[0m clang -Wno-unused-result -Wsign-compare -Wunreachable-code -DNDEBUG -fwrapv -O2 -Wall -fPIC -O2 -isystem /opt/anaconda3/envs/devhome/include -fPIC -O2 -isystem /opt/anaconda3/envs/devhome/include -arch x86_64 -DICE_STATIC_LIBS -Isrc -Isrc/ice/cpp/include -Isrc/ice/cpp/src -I/opt/anaconda3/envs/devhome/include/python3.8 -c src/ice/cpp/src/Ice/ConnectionRequestHandler.cpp -o build/temp.macosx-10.9-x86_64-cpython-38/src/ice/cpp/src/Ice/ConnectionRequestHandler.o -w\r\n",
      "  \u001B[31m   \u001B[0m clang -Wno-unused-result -Wsign-compare -Wunreachable-code -DNDEBUG -fwrapv -O2 -Wall -fPIC -O2 -isystem /opt/anaconda3/envs/devhome/include -fPIC -O2 -isystem /opt/anaconda3/envs/devhome/include -arch x86_64 -DICE_STATIC_LIBS -Isrc -Isrc/ice/cpp/include -Isrc/ice/cpp/src -I/opt/anaconda3/envs/devhome/include/python3.8 -c src/ice/cpp/src/Ice/Connector.cpp -o build/temp.macosx-10.9-x86_64-cpython-38/src/ice/cpp/src/Ice/Connector.o -w\r\n",
      "  \u001B[31m   \u001B[0m clang -Wno-unused-result -Wsign-compare -Wunreachable-code -DNDEBUG -fwrapv -O2 -Wall -fPIC -O2 -isystem /opt/anaconda3/envs/devhome/include -fPIC -O2 -isystem /opt/anaconda3/envs/devhome/include -arch x86_64 -DICE_STATIC_LIBS -Isrc -Isrc/ice/cpp/include -Isrc/ice/cpp/src -I/opt/anaconda3/envs/devhome/include/python3.8 -c src/ice/cpp/src/Ice/Current.cpp -o build/temp.macosx-10.9-x86_64-cpython-38/src/ice/cpp/src/Ice/Current.o -w\r\n",
      "  \u001B[31m   \u001B[0m clang -Wno-unused-result -Wsign-compare -Wunreachable-code -DNDEBUG -fwrapv -O2 -Wall -fPIC -O2 -isystem /opt/anaconda3/envs/devhome/include -fPIC -O2 -isystem /opt/anaconda3/envs/devhome/include -arch x86_64 -DICE_STATIC_LIBS -Isrc -Isrc/ice/cpp/include -Isrc/ice/cpp/src -I/opt/anaconda3/envs/devhome/include/python3.8 -c src/ice/cpp/src/Ice/DefaultsAndOverrides.cpp -o build/temp.macosx-10.9-x86_64-cpython-38/src/ice/cpp/src/Ice/DefaultsAndOverrides.o -w\r\n",
      "  \u001B[31m   \u001B[0m clang -Wno-unused-result -Wsign-compare -Wunreachable-code -DNDEBUG -fwrapv -O2 -Wall -fPIC -O2 -isystem /opt/anaconda3/envs/devhome/include -fPIC -O2 -isystem /opt/anaconda3/envs/devhome/include -arch x86_64 -DICE_STATIC_LIBS -Isrc -Isrc/ice/cpp/include -Isrc/ice/cpp/src -I/opt/anaconda3/envs/devhome/include/python3.8 -c src/ice/cpp/src/Ice/DeprecatedStringConverter.cpp -o build/temp.macosx-10.9-x86_64-cpython-38/src/ice/cpp/src/Ice/DeprecatedStringConverter.o -w\r\n",
      "  \u001B[31m   \u001B[0m clang -Wno-unused-result -Wsign-compare -Wunreachable-code -DNDEBUG -fwrapv -O2 -Wall -fPIC -O2 -isystem /opt/anaconda3/envs/devhome/include -fPIC -O2 -isystem /opt/anaconda3/envs/devhome/include -arch x86_64 -DICE_STATIC_LIBS -Isrc -Isrc/ice/cpp/include -Isrc/ice/cpp/src -I/opt/anaconda3/envs/devhome/include/python3.8 -c src/ice/cpp/src/Ice/DispatchInterceptor.cpp -o build/temp.macosx-10.9-x86_64-cpython-38/src/ice/cpp/src/Ice/DispatchInterceptor.o -w\r\n",
      "  \u001B[31m   \u001B[0m clang -Wno-unused-result -Wsign-compare -Wunreachable-code -DNDEBUG -fwrapv -O2 -Wall -fPIC -O2 -isystem /opt/anaconda3/envs/devhome/include -fPIC -O2 -isystem /opt/anaconda3/envs/devhome/include -arch x86_64 -DICE_STATIC_LIBS -Isrc -Isrc/ice/cpp/include -Isrc/ice/cpp/src -I/opt/anaconda3/envs/devhome/include/python3.8 -c src/ice/cpp/src/Ice/DynamicLibrary.cpp -o build/temp.macosx-10.9-x86_64-cpython-38/src/ice/cpp/src/Ice/DynamicLibrary.o -w\r\n",
      "  \u001B[31m   \u001B[0m clang -Wno-unused-result -Wsign-compare -Wunreachable-code -DNDEBUG -fwrapv -O2 -Wall -fPIC -O2 -isystem /opt/anaconda3/envs/devhome/include -fPIC -O2 -isystem /opt/anaconda3/envs/devhome/include -arch x86_64 -DICE_STATIC_LIBS -Isrc -Isrc/ice/cpp/include -Isrc/ice/cpp/src -I/opt/anaconda3/envs/devhome/include/python3.8 -c src/ice/cpp/src/Ice/Endpoint.cpp -o build/temp.macosx-10.9-x86_64-cpython-38/src/ice/cpp/src/Ice/Endpoint.o -w\r\n",
      "  \u001B[31m   \u001B[0m clang -Wno-unused-result -Wsign-compare -Wunreachable-code -DNDEBUG -fwrapv -O2 -Wall -fPIC -O2 -isystem /opt/anaconda3/envs/devhome/include -fPIC -O2 -isystem /opt/anaconda3/envs/devhome/include -arch x86_64 -DICE_STATIC_LIBS -Isrc -Isrc/ice/cpp/include -Isrc/ice/cpp/src -I/opt/anaconda3/envs/devhome/include/python3.8 -c src/ice/cpp/src/Ice/EndpointF.cpp -o build/temp.macosx-10.9-x86_64-cpython-38/src/ice/cpp/src/Ice/EndpointF.o -w\r\n",
      "  \u001B[31m   \u001B[0m clang -Wno-unused-result -Wsign-compare -Wunreachable-code -DNDEBUG -fwrapv -O2 -Wall -fPIC -O2 -isystem /opt/anaconda3/envs/devhome/include -fPIC -O2 -isystem /opt/anaconda3/envs/devhome/include -arch x86_64 -DICE_STATIC_LIBS -Isrc -Isrc/ice/cpp/include -Isrc/ice/cpp/src -I/opt/anaconda3/envs/devhome/include/python3.8 -c src/ice/cpp/src/Ice/EndpointFactory.cpp -o build/temp.macosx-10.9-x86_64-cpython-38/src/ice/cpp/src/Ice/EndpointFactory.o -w\r\n",
      "  \u001B[31m   \u001B[0m clang -Wno-unused-result -Wsign-compare -Wunreachable-code -DNDEBUG -fwrapv -O2 -Wall -fPIC -O2 -isystem /opt/anaconda3/envs/devhome/include -fPIC -O2 -isystem /opt/anaconda3/envs/devhome/include -arch x86_64 -DICE_STATIC_LIBS -Isrc -Isrc/ice/cpp/include -Isrc/ice/cpp/src -I/opt/anaconda3/envs/devhome/include/python3.8 -c src/ice/cpp/src/Ice/EndpointFactoryManager.cpp -o build/temp.macosx-10.9-x86_64-cpython-38/src/ice/cpp/src/Ice/EndpointFactoryManager.o -w\r\n",
      "  \u001B[31m   \u001B[0m clang -Wno-unused-result -Wsign-compare -Wunreachable-code -DNDEBUG -fwrapv -O2 -Wall -fPIC -O2 -isystem /opt/anaconda3/envs/devhome/include -fPIC -O2 -isystem /opt/anaconda3/envs/devhome/include -arch x86_64 -DICE_STATIC_LIBS -Isrc -Isrc/ice/cpp/include -Isrc/ice/cpp/src -I/opt/anaconda3/envs/devhome/include/python3.8 -c src/ice/cpp/src/Ice/EndpointI.cpp -o build/temp.macosx-10.9-x86_64-cpython-38/src/ice/cpp/src/Ice/EndpointI.o -w\r\n",
      "  \u001B[31m   \u001B[0m clang -Wno-unused-result -Wsign-compare -Wunreachable-code -DNDEBUG -fwrapv -O2 -Wall -fPIC -O2 -isystem /opt/anaconda3/envs/devhome/include -fPIC -O2 -isystem /opt/anaconda3/envs/devhome/include -arch x86_64 -DICE_STATIC_LIBS -Isrc -Isrc/ice/cpp/include -Isrc/ice/cpp/src -I/opt/anaconda3/envs/devhome/include/python3.8 -c src/ice/cpp/src/Ice/EndpointTypes.cpp -o build/temp.macosx-10.9-x86_64-cpython-38/src/ice/cpp/src/Ice/EndpointTypes.o -w\r\n",
      "  \u001B[31m   \u001B[0m clang -Wno-unused-result -Wsign-compare -Wunreachable-code -DNDEBUG -fwrapv -O2 -Wall -fPIC -O2 -isystem /opt/anaconda3/envs/devhome/include -fPIC -O2 -isystem /opt/anaconda3/envs/devhome/include -arch x86_64 -DICE_STATIC_LIBS -Isrc -Isrc/ice/cpp/include -Isrc/ice/cpp/src -I/opt/anaconda3/envs/devhome/include/python3.8 -c src/ice/cpp/src/Ice/EventHandler.cpp -o build/temp.macosx-10.9-x86_64-cpython-38/src/ice/cpp/src/Ice/EventHandler.o -w\r\n",
      "  \u001B[31m   \u001B[0m clang -Wno-unused-result -Wsign-compare -Wunreachable-code -DNDEBUG -fwrapv -O2 -Wall -fPIC -O2 -isystem /opt/anaconda3/envs/devhome/include -fPIC -O2 -isystem /opt/anaconda3/envs/devhome/include -arch x86_64 -DICE_STATIC_LIBS -Isrc -Isrc/ice/cpp/include -Isrc/ice/cpp/src -I/opt/anaconda3/envs/devhome/include/python3.8 -c src/ice/cpp/src/Ice/Exception.cpp -o build/temp.macosx-10.9-x86_64-cpython-38/src/ice/cpp/src/Ice/Exception.o -w\r\n",
      "  \u001B[31m   \u001B[0m clang -Wno-unused-result -Wsign-compare -Wunreachable-code -DNDEBUG -fwrapv -O2 -Wall -fPIC -O2 -isystem /opt/anaconda3/envs/devhome/include -fPIC -O2 -isystem /opt/anaconda3/envs/devhome/include -arch x86_64 -DICE_STATIC_LIBS -Isrc -Isrc/ice/cpp/include -Isrc/ice/cpp/src -I/opt/anaconda3/envs/devhome/include/python3.8 -c src/ice/cpp/src/Ice/FacetMap.cpp -o build/temp.macosx-10.9-x86_64-cpython-38/src/ice/cpp/src/Ice/FacetMap.o -w\r\n",
      "  \u001B[31m   \u001B[0m clang -Wno-unused-result -Wsign-compare -Wunreachable-code -DNDEBUG -fwrapv -O2 -Wall -fPIC -O2 -isystem /opt/anaconda3/envs/devhome/include -fPIC -O2 -isystem /opt/anaconda3/envs/devhome/include -arch x86_64 -DICE_STATIC_LIBS -Isrc -Isrc/ice/cpp/include -Isrc/ice/cpp/src -I/opt/anaconda3/envs/devhome/include/python3.8 -c src/ice/cpp/src/Ice/FactoryTable.cpp -o build/temp.macosx-10.9-x86_64-cpython-38/src/ice/cpp/src/Ice/FactoryTable.o -w\r\n",
      "  \u001B[31m   \u001B[0m clang -Wno-unused-result -Wsign-compare -Wunreachable-code -DNDEBUG -fwrapv -O2 -Wall -fPIC -O2 -isystem /opt/anaconda3/envs/devhome/include -fPIC -O2 -isystem /opt/anaconda3/envs/devhome/include -arch x86_64 -DICE_STATIC_LIBS -Isrc -Isrc/ice/cpp/include -Isrc/ice/cpp/src -I/opt/anaconda3/envs/devhome/include/python3.8 -c src/ice/cpp/src/Ice/FactoryTableInit.cpp -o build/temp.macosx-10.9-x86_64-cpython-38/src/ice/cpp/src/Ice/FactoryTableInit.o -w\r\n",
      "  \u001B[31m   \u001B[0m clang -Wno-unused-result -Wsign-compare -Wunreachable-code -DNDEBUG -fwrapv -O2 -Wall -fPIC -O2 -isystem /opt/anaconda3/envs/devhome/include -fPIC -O2 -isystem /opt/anaconda3/envs/devhome/include -arch x86_64 -DICE_STATIC_LIBS -Isrc -Isrc/ice/cpp/include -Isrc/ice/cpp/src -I/opt/anaconda3/envs/devhome/include/python3.8 -c src/ice/cpp/src/Ice/GCObject.cpp -o build/temp.macosx-10.9-x86_64-cpython-38/src/ice/cpp/src/Ice/GCObject.o -w\r\n",
      "  \u001B[31m   \u001B[0m clang -Wno-unused-result -Wsign-compare -Wunreachable-code -DNDEBUG -fwrapv -O2 -Wall -fPIC -O2 -isystem /opt/anaconda3/envs/devhome/include -fPIC -O2 -isystem /opt/anaconda3/envs/devhome/include -arch x86_64 -DICE_STATIC_LIBS -Isrc -Isrc/ice/cpp/include -Isrc/ice/cpp/src -I/opt/anaconda3/envs/devhome/include/python3.8 -c src/ice/cpp/src/Ice/HttpParser.cpp -o build/temp.macosx-10.9-x86_64-cpython-38/src/ice/cpp/src/Ice/HttpParser.o -w\r\n",
      "  \u001B[31m   \u001B[0m clang -Wno-unused-result -Wsign-compare -Wunreachable-code -DNDEBUG -fwrapv -O2 -Wall -fPIC -O2 -isystem /opt/anaconda3/envs/devhome/include -fPIC -O2 -isystem /opt/anaconda3/envs/devhome/include -arch x86_64 -DICE_STATIC_LIBS -Isrc -Isrc/ice/cpp/include -Isrc/ice/cpp/src -I/opt/anaconda3/envs/devhome/include/python3.8 -c src/ice/cpp/src/Ice/IPEndpointI.cpp -o build/temp.macosx-10.9-x86_64-cpython-38/src/ice/cpp/src/Ice/IPEndpointI.o -w\r\n",
      "  \u001B[31m   \u001B[0m clang -Wno-unused-result -Wsign-compare -Wunreachable-code -DNDEBUG -fwrapv -O2 -Wall -fPIC -O2 -isystem /opt/anaconda3/envs/devhome/include -fPIC -O2 -isystem /opt/anaconda3/envs/devhome/include -arch x86_64 -DICE_STATIC_LIBS -Isrc -Isrc/ice/cpp/include -Isrc/ice/cpp/src -I/opt/anaconda3/envs/devhome/include/python3.8 -c src/ice/cpp/src/Ice/Identity.cpp -o build/temp.macosx-10.9-x86_64-cpython-38/src/ice/cpp/src/Ice/Identity.o -w\r\n",
      "  \u001B[31m   \u001B[0m clang -Wno-unused-result -Wsign-compare -Wunreachable-code -DNDEBUG -fwrapv -O2 -Wall -fPIC -O2 -isystem /opt/anaconda3/envs/devhome/include -fPIC -O2 -isystem /opt/anaconda3/envs/devhome/include -arch x86_64 -DICE_STATIC_LIBS -Isrc -Isrc/ice/cpp/include -Isrc/ice/cpp/src -I/opt/anaconda3/envs/devhome/include/python3.8 -c src/ice/cpp/src/Ice/ImplicitContext.cpp -o build/temp.macosx-10.9-x86_64-cpython-38/src/ice/cpp/src/Ice/ImplicitContext.o -w\r\n",
      "  \u001B[31m   \u001B[0m clang -Wno-unused-result -Wsign-compare -Wunreachable-code -DNDEBUG -fwrapv -O2 -Wall -fPIC -O2 -isystem /opt/anaconda3/envs/devhome/include -fPIC -O2 -isystem /opt/anaconda3/envs/devhome/include -arch x86_64 -DICE_STATIC_LIBS -Isrc -Isrc/ice/cpp/include -Isrc/ice/cpp/src -I/opt/anaconda3/envs/devhome/include/python3.8 -c src/ice/cpp/src/Ice/ImplicitContextF.cpp -o build/temp.macosx-10.9-x86_64-cpython-38/src/ice/cpp/src/Ice/ImplicitContextF.o -w\r\n",
      "  \u001B[31m   \u001B[0m clang -Wno-unused-result -Wsign-compare -Wunreachable-code -DNDEBUG -fwrapv -O2 -Wall -fPIC -O2 -isystem /opt/anaconda3/envs/devhome/include -fPIC -O2 -isystem /opt/anaconda3/envs/devhome/include -arch x86_64 -DICE_STATIC_LIBS -Isrc -Isrc/ice/cpp/include -Isrc/ice/cpp/src -I/opt/anaconda3/envs/devhome/include/python3.8 -c src/ice/cpp/src/Ice/ImplicitContextI.cpp -o build/temp.macosx-10.9-x86_64-cpython-38/src/ice/cpp/src/Ice/ImplicitContextI.o -w\r\n",
      "  \u001B[31m   \u001B[0m clang -Wno-unused-result -Wsign-compare -Wunreachable-code -DNDEBUG -fwrapv -O2 -Wall -fPIC -O2 -isystem /opt/anaconda3/envs/devhome/include -fPIC -O2 -isystem /opt/anaconda3/envs/devhome/include -arch x86_64 -DICE_STATIC_LIBS -Isrc -Isrc/ice/cpp/include -Isrc/ice/cpp/src -I/opt/anaconda3/envs/devhome/include/python3.8 -c src/ice/cpp/src/Ice/Incoming.cpp -o build/temp.macosx-10.9-x86_64-cpython-38/src/ice/cpp/src/Ice/Incoming.o -w\r\n",
      "  \u001B[31m   \u001B[0m clang -Wno-unused-result -Wsign-compare -Wunreachable-code -DNDEBUG -fwrapv -O2 -Wall -fPIC -O2 -isystem /opt/anaconda3/envs/devhome/include -fPIC -O2 -isystem /opt/anaconda3/envs/devhome/include -arch x86_64 -DICE_STATIC_LIBS -Isrc -Isrc/ice/cpp/include -Isrc/ice/cpp/src -I/opt/anaconda3/envs/devhome/include/python3.8 -c src/ice/cpp/src/Ice/IncomingAsync.cpp -o build/temp.macosx-10.9-x86_64-cpython-38/src/ice/cpp/src/Ice/IncomingAsync.o -w\r\n",
      "  \u001B[31m   \u001B[0m clang -Wno-unused-result -Wsign-compare -Wunreachable-code -DNDEBUG -fwrapv -O2 -Wall -fPIC -O2 -isystem /opt/anaconda3/envs/devhome/include -fPIC -O2 -isystem /opt/anaconda3/envs/devhome/include -arch x86_64 -DICE_STATIC_LIBS -Isrc -Isrc/ice/cpp/include -Isrc/ice/cpp/src -I/opt/anaconda3/envs/devhome/include/python3.8 -c src/ice/cpp/src/Ice/Initialize.cpp -o build/temp.macosx-10.9-x86_64-cpython-38/src/ice/cpp/src/Ice/Initialize.o -w\r\n",
      "  \u001B[31m   \u001B[0m clang -Wno-unused-result -Wsign-compare -Wunreachable-code -DNDEBUG -fwrapv -O2 -Wall -fPIC -O2 -isystem /opt/anaconda3/envs/devhome/include -fPIC -O2 -isystem /opt/anaconda3/envs/devhome/include -arch x86_64 -DICE_STATIC_LIBS -Isrc -Isrc/ice/cpp/include -Isrc/ice/cpp/src -I/opt/anaconda3/envs/devhome/include/python3.8 -c src/ice/cpp/src/Ice/Instance.cpp -o build/temp.macosx-10.9-x86_64-cpython-38/src/ice/cpp/src/Ice/Instance.o -w\r\n",
      "  \u001B[31m   \u001B[0m clang -Wno-unused-result -Wsign-compare -Wunreachable-code -DNDEBUG -fwrapv -O2 -Wall -fPIC -O2 -isystem /opt/anaconda3/envs/devhome/include -fPIC -O2 -isystem /opt/anaconda3/envs/devhome/include -arch x86_64 -DICE_STATIC_LIBS -Isrc -Isrc/ice/cpp/include -Isrc/ice/cpp/src -I/opt/anaconda3/envs/devhome/include/python3.8 -c src/ice/cpp/src/Ice/Instrumentation.cpp -o build/temp.macosx-10.9-x86_64-cpython-38/src/ice/cpp/src/Ice/Instrumentation.o -w\r\n",
      "  \u001B[31m   \u001B[0m clang -Wno-unused-result -Wsign-compare -Wunreachable-code -DNDEBUG -fwrapv -O2 -Wall -fPIC -O2 -isystem /opt/anaconda3/envs/devhome/include -fPIC -O2 -isystem /opt/anaconda3/envs/devhome/include -arch x86_64 -DICE_STATIC_LIBS -Isrc -Isrc/ice/cpp/include -Isrc/ice/cpp/src -I/opt/anaconda3/envs/devhome/include/python3.8 -c src/ice/cpp/src/Ice/InstrumentationF.cpp -o build/temp.macosx-10.9-x86_64-cpython-38/src/ice/cpp/src/Ice/InstrumentationF.o -w\r\n",
      "  \u001B[31m   \u001B[0m clang -Wno-unused-result -Wsign-compare -Wunreachable-code -DNDEBUG -fwrapv -O2 -Wall -fPIC -O2 -isystem /opt/anaconda3/envs/devhome/include -fPIC -O2 -isystem /opt/anaconda3/envs/devhome/include -arch x86_64 -DICE_STATIC_LIBS -Isrc -Isrc/ice/cpp/include -Isrc/ice/cpp/src -I/opt/anaconda3/envs/devhome/include/python3.8 -c src/ice/cpp/src/Ice/InstrumentationI.cpp -o build/temp.macosx-10.9-x86_64-cpython-38/src/ice/cpp/src/Ice/InstrumentationI.o -w\r\n",
      "  \u001B[31m   \u001B[0m clang -Wno-unused-result -Wsign-compare -Wunreachable-code -DNDEBUG -fwrapv -O2 -Wall -fPIC -O2 -isystem /opt/anaconda3/envs/devhome/include -fPIC -O2 -isystem /opt/anaconda3/envs/devhome/include -arch x86_64 -DICE_STATIC_LIBS -Isrc -Isrc/ice/cpp/include -Isrc/ice/cpp/src -I/opt/anaconda3/envs/devhome/include/python3.8 -c src/ice/cpp/src/Ice/LocalException.cpp -o build/temp.macosx-10.9-x86_64-cpython-38/src/ice/cpp/src/Ice/LocalException.o -w\r\n",
      "  \u001B[31m   \u001B[0m clang -Wno-unused-result -Wsign-compare -Wunreachable-code -DNDEBUG -fwrapv -O2 -Wall -fPIC -O2 -isystem /opt/anaconda3/envs/devhome/include -fPIC -O2 -isystem /opt/anaconda3/envs/devhome/include -arch x86_64 -DICE_STATIC_LIBS -Isrc -Isrc/ice/cpp/include -Isrc/ice/cpp/src -I/opt/anaconda3/envs/devhome/include/python3.8 -c src/ice/cpp/src/Ice/LocalObject.cpp -o build/temp.macosx-10.9-x86_64-cpython-38/src/ice/cpp/src/Ice/LocalObject.o -w\r\n",
      "  \u001B[31m   \u001B[0m clang -Wno-unused-result -Wsign-compare -Wunreachable-code -DNDEBUG -fwrapv -O2 -Wall -fPIC -O2 -isystem /opt/anaconda3/envs/devhome/include -fPIC -O2 -isystem /opt/anaconda3/envs/devhome/include -arch x86_64 -DICE_STATIC_LIBS -Isrc -Isrc/ice/cpp/include -Isrc/ice/cpp/src -I/opt/anaconda3/envs/devhome/include/python3.8 -c src/ice/cpp/src/Ice/Locator.cpp -o build/temp.macosx-10.9-x86_64-cpython-38/src/ice/cpp/src/Ice/Locator.o -w\r\n",
      "  \u001B[31m   \u001B[0m clang -Wno-unused-result -Wsign-compare -Wunreachable-code -DNDEBUG -fwrapv -O2 -Wall -fPIC -O2 -isystem /opt/anaconda3/envs/devhome/include -fPIC -O2 -isystem /opt/anaconda3/envs/devhome/include -arch x86_64 -DICE_STATIC_LIBS -Isrc -Isrc/ice/cpp/include -Isrc/ice/cpp/src -I/opt/anaconda3/envs/devhome/include/python3.8 -c src/ice/cpp/src/Ice/LocatorF.cpp -o build/temp.macosx-10.9-x86_64-cpython-38/src/ice/cpp/src/Ice/LocatorF.o -w\r\n",
      "  \u001B[31m   \u001B[0m clang -Wno-unused-result -Wsign-compare -Wunreachable-code -DNDEBUG -fwrapv -O2 -Wall -fPIC -O2 -isystem /opt/anaconda3/envs/devhome/include -fPIC -O2 -isystem /opt/anaconda3/envs/devhome/include -arch x86_64 -DICE_STATIC_LIBS -Isrc -Isrc/ice/cpp/include -Isrc/ice/cpp/src -I/opt/anaconda3/envs/devhome/include/python3.8 -c src/ice/cpp/src/Ice/LocatorInfo.cpp -o build/temp.macosx-10.9-x86_64-cpython-38/src/ice/cpp/src/Ice/LocatorInfo.o -w\r\n",
      "  \u001B[31m   \u001B[0m clang -Wno-unused-result -Wsign-compare -Wunreachable-code -DNDEBUG -fwrapv -O2 -Wall -fPIC -O2 -isystem /opt/anaconda3/envs/devhome/include -fPIC -O2 -isystem /opt/anaconda3/envs/devhome/include -arch x86_64 -DICE_STATIC_LIBS -Isrc -Isrc/ice/cpp/include -Isrc/ice/cpp/src -I/opt/anaconda3/envs/devhome/include/python3.8 -c src/ice/cpp/src/Ice/Logger.cpp -o build/temp.macosx-10.9-x86_64-cpython-38/src/ice/cpp/src/Ice/Logger.o -w\r\n",
      "  \u001B[31m   \u001B[0m clang -Wno-unused-result -Wsign-compare -Wunreachable-code -DNDEBUG -fwrapv -O2 -Wall -fPIC -O2 -isystem /opt/anaconda3/envs/devhome/include -fPIC -O2 -isystem /opt/anaconda3/envs/devhome/include -arch x86_64 -DICE_STATIC_LIBS -Isrc -Isrc/ice/cpp/include -Isrc/ice/cpp/src -I/opt/anaconda3/envs/devhome/include/python3.8 -c src/ice/cpp/src/Ice/LoggerAdminI.cpp -o build/temp.macosx-10.9-x86_64-cpython-38/src/ice/cpp/src/Ice/LoggerAdminI.o -w\r\n",
      "  \u001B[31m   \u001B[0m clang -Wno-unused-result -Wsign-compare -Wunreachable-code -DNDEBUG -fwrapv -O2 -Wall -fPIC -O2 -isystem /opt/anaconda3/envs/devhome/include -fPIC -O2 -isystem /opt/anaconda3/envs/devhome/include -arch x86_64 -DICE_STATIC_LIBS -Isrc -Isrc/ice/cpp/include -Isrc/ice/cpp/src -I/opt/anaconda3/envs/devhome/include/python3.8 -c src/ice/cpp/src/Ice/LoggerF.cpp -o build/temp.macosx-10.9-x86_64-cpython-38/src/ice/cpp/src/Ice/LoggerF.o -w\r\n",
      "  \u001B[31m   \u001B[0m clang -Wno-unused-result -Wsign-compare -Wunreachable-code -DNDEBUG -fwrapv -O2 -Wall -fPIC -O2 -isystem /opt/anaconda3/envs/devhome/include -fPIC -O2 -isystem /opt/anaconda3/envs/devhome/include -arch x86_64 -DICE_STATIC_LIBS -Isrc -Isrc/ice/cpp/include -Isrc/ice/cpp/src -I/opt/anaconda3/envs/devhome/include/python3.8 -c src/ice/cpp/src/Ice/LoggerI.cpp -o build/temp.macosx-10.9-x86_64-cpython-38/src/ice/cpp/src/Ice/LoggerI.o -w\r\n",
      "  \u001B[31m   \u001B[0m clang -Wno-unused-result -Wsign-compare -Wunreachable-code -DNDEBUG -fwrapv -O2 -Wall -fPIC -O2 -isystem /opt/anaconda3/envs/devhome/include -fPIC -O2 -isystem /opt/anaconda3/envs/devhome/include -arch x86_64 -DICE_STATIC_LIBS -Isrc -Isrc/ice/cpp/include -Isrc/ice/cpp/src -I/opt/anaconda3/envs/devhome/include/python3.8 -c src/ice/cpp/src/Ice/LoggerUtil.cpp -o build/temp.macosx-10.9-x86_64-cpython-38/src/ice/cpp/src/Ice/LoggerUtil.o -w\r\n",
      "  \u001B[31m   \u001B[0m clang -Wno-unused-result -Wsign-compare -Wunreachable-code -DNDEBUG -fwrapv -O2 -Wall -fPIC -O2 -isystem /opt/anaconda3/envs/devhome/include -fPIC -O2 -isystem /opt/anaconda3/envs/devhome/include -arch x86_64 -DICE_STATIC_LIBS -Isrc -Isrc/ice/cpp/include -Isrc/ice/cpp/src -I/opt/anaconda3/envs/devhome/include/python3.8 -c src/ice/cpp/src/Ice/Metrics.cpp -o build/temp.macosx-10.9-x86_64-cpython-38/src/ice/cpp/src/Ice/Metrics.o -w\r\n",
      "  \u001B[31m   \u001B[0m clang -Wno-unused-result -Wsign-compare -Wunreachable-code -DNDEBUG -fwrapv -O2 -Wall -fPIC -O2 -isystem /opt/anaconda3/envs/devhome/include -fPIC -O2 -isystem /opt/anaconda3/envs/devhome/include -arch x86_64 -DICE_STATIC_LIBS -Isrc -Isrc/ice/cpp/include -Isrc/ice/cpp/src -I/opt/anaconda3/envs/devhome/include/python3.8 -c src/ice/cpp/src/Ice/MetricsAdminI.cpp -o build/temp.macosx-10.9-x86_64-cpython-38/src/ice/cpp/src/Ice/MetricsAdminI.o -w\r\n",
      "  \u001B[31m   \u001B[0m clang -Wno-unused-result -Wsign-compare -Wunreachable-code -DNDEBUG -fwrapv -O2 -Wall -fPIC -O2 -isystem /opt/anaconda3/envs/devhome/include -fPIC -O2 -isystem /opt/anaconda3/envs/devhome/include -arch x86_64 -DICE_STATIC_LIBS -Isrc -Isrc/ice/cpp/include -Isrc/ice/cpp/src -I/opt/anaconda3/envs/devhome/include/python3.8 -c src/ice/cpp/src/Ice/MetricsObserverI.cpp -o build/temp.macosx-10.9-x86_64-cpython-38/src/ice/cpp/src/Ice/MetricsObserverI.o -w\r\n",
      "  \u001B[31m   \u001B[0m clang -Wno-unused-result -Wsign-compare -Wunreachable-code -DNDEBUG -fwrapv -O2 -Wall -fPIC -O2 -isystem /opt/anaconda3/envs/devhome/include -fPIC -O2 -isystem /opt/anaconda3/envs/devhome/include -arch x86_64 -DICE_STATIC_LIBS -Isrc -Isrc/ice/cpp/include -Isrc/ice/cpp/src -I/opt/anaconda3/envs/devhome/include/python3.8 -c src/ice/cpp/src/Ice/Network.cpp -o build/temp.macosx-10.9-x86_64-cpython-38/src/ice/cpp/src/Ice/Network.o -w\r\n",
      "  \u001B[31m   \u001B[0m clang -Wno-unused-result -Wsign-compare -Wunreachable-code -DNDEBUG -fwrapv -O2 -Wall -fPIC -O2 -isystem /opt/anaconda3/envs/devhome/include -fPIC -O2 -isystem /opt/anaconda3/envs/devhome/include -arch x86_64 -DICE_STATIC_LIBS -Isrc -Isrc/ice/cpp/include -Isrc/ice/cpp/src -I/opt/anaconda3/envs/devhome/include/python3.8 -c src/ice/cpp/src/Ice/NetworkProxy.cpp -o build/temp.macosx-10.9-x86_64-cpython-38/src/ice/cpp/src/Ice/NetworkProxy.o -w\r\n",
      "  \u001B[31m   \u001B[0m clang -Wno-unused-result -Wsign-compare -Wunreachable-code -DNDEBUG -fwrapv -O2 -Wall -fPIC -O2 -isystem /opt/anaconda3/envs/devhome/include -fPIC -O2 -isystem /opt/anaconda3/envs/devhome/include -arch x86_64 -DICE_STATIC_LIBS -Isrc -Isrc/ice/cpp/include -Isrc/ice/cpp/src -I/opt/anaconda3/envs/devhome/include/python3.8 -c src/ice/cpp/src/Ice/Object.cpp -o build/temp.macosx-10.9-x86_64-cpython-38/src/ice/cpp/src/Ice/Object.o -w\r\n",
      "  \u001B[31m   \u001B[0m clang -Wno-unused-result -Wsign-compare -Wunreachable-code -DNDEBUG -fwrapv -O2 -Wall -fPIC -O2 -isystem /opt/anaconda3/envs/devhome/include -fPIC -O2 -isystem /opt/anaconda3/envs/devhome/include -arch x86_64 -DICE_STATIC_LIBS -Isrc -Isrc/ice/cpp/include -Isrc/ice/cpp/src -I/opt/anaconda3/envs/devhome/include/python3.8 -c src/ice/cpp/src/Ice/ObjectAdapter.cpp -o build/temp.macosx-10.9-x86_64-cpython-38/src/ice/cpp/src/Ice/ObjectAdapter.o -w\r\n",
      "  \u001B[31m   \u001B[0m clang -Wno-unused-result -Wsign-compare -Wunreachable-code -DNDEBUG -fwrapv -O2 -Wall -fPIC -O2 -isystem /opt/anaconda3/envs/devhome/include -fPIC -O2 -isystem /opt/anaconda3/envs/devhome/include -arch x86_64 -DICE_STATIC_LIBS -Isrc -Isrc/ice/cpp/include -Isrc/ice/cpp/src -I/opt/anaconda3/envs/devhome/include/python3.8 -c src/ice/cpp/src/Ice/ObjectAdapterF.cpp -o build/temp.macosx-10.9-x86_64-cpython-38/src/ice/cpp/src/Ice/ObjectAdapterF.o -w\r\n",
      "  \u001B[31m   \u001B[0m clang -Wno-unused-result -Wsign-compare -Wunreachable-code -DNDEBUG -fwrapv -O2 -Wall -fPIC -O2 -isystem /opt/anaconda3/envs/devhome/include -fPIC -O2 -isystem /opt/anaconda3/envs/devhome/include -arch x86_64 -DICE_STATIC_LIBS -Isrc -Isrc/ice/cpp/include -Isrc/ice/cpp/src -I/opt/anaconda3/envs/devhome/include/python3.8 -c src/ice/cpp/src/Ice/ObjectAdapterFactory.cpp -o build/temp.macosx-10.9-x86_64-cpython-38/src/ice/cpp/src/Ice/ObjectAdapterFactory.o -w\r\n",
      "  \u001B[31m   \u001B[0m clang -Wno-unused-result -Wsign-compare -Wunreachable-code -DNDEBUG -fwrapv -O2 -Wall -fPIC -O2 -isystem /opt/anaconda3/envs/devhome/include -fPIC -O2 -isystem /opt/anaconda3/envs/devhome/include -arch x86_64 -DICE_STATIC_LIBS -Isrc -Isrc/ice/cpp/include -Isrc/ice/cpp/src -I/opt/anaconda3/envs/devhome/include/python3.8 -c src/ice/cpp/src/Ice/ObjectAdapterI.cpp -o build/temp.macosx-10.9-x86_64-cpython-38/src/ice/cpp/src/Ice/ObjectAdapterI.o -w\r\n",
      "  \u001B[31m   \u001B[0m clang -Wno-unused-result -Wsign-compare -Wunreachable-code -DNDEBUG -fwrapv -O2 -Wall -fPIC -O2 -isystem /opt/anaconda3/envs/devhome/include -fPIC -O2 -isystem /opt/anaconda3/envs/devhome/include -arch x86_64 -DICE_STATIC_LIBS -Isrc -Isrc/ice/cpp/include -Isrc/ice/cpp/src -I/opt/anaconda3/envs/devhome/include/python3.8 -c src/ice/cpp/src/Ice/ObjectFactory.cpp -o build/temp.macosx-10.9-x86_64-cpython-38/src/ice/cpp/src/Ice/ObjectFactory.o -w\r\n",
      "  \u001B[31m   \u001B[0m clang -Wno-unused-result -Wsign-compare -Wunreachable-code -DNDEBUG -fwrapv -O2 -Wall -fPIC -O2 -isystem /opt/anaconda3/envs/devhome/include -fPIC -O2 -isystem /opt/anaconda3/envs/devhome/include -arch x86_64 -DICE_STATIC_LIBS -Isrc -Isrc/ice/cpp/include -Isrc/ice/cpp/src -I/opt/anaconda3/envs/devhome/include/python3.8 -c src/ice/cpp/src/Ice/ObjectFactoryF.cpp -o build/temp.macosx-10.9-x86_64-cpython-38/src/ice/cpp/src/Ice/ObjectFactoryF.o -w\r\n",
      "  \u001B[31m   \u001B[0m clang -Wno-unused-result -Wsign-compare -Wunreachable-code -DNDEBUG -fwrapv -O2 -Wall -fPIC -O2 -isystem /opt/anaconda3/envs/devhome/include -fPIC -O2 -isystem /opt/anaconda3/envs/devhome/include -arch x86_64 -DICE_STATIC_LIBS -Isrc -Isrc/ice/cpp/include -Isrc/ice/cpp/src -I/opt/anaconda3/envs/devhome/include/python3.8 -c src/ice/cpp/src/Ice/ObjectFactoryManager.cpp -o build/temp.macosx-10.9-x86_64-cpython-38/src/ice/cpp/src/Ice/ObjectFactoryManager.o -w\r\n",
      "  \u001B[31m   \u001B[0m clang -Wno-unused-result -Wsign-compare -Wunreachable-code -DNDEBUG -fwrapv -O2 -Wall -fPIC -O2 -isystem /opt/anaconda3/envs/devhome/include -fPIC -O2 -isystem /opt/anaconda3/envs/devhome/include -arch x86_64 -DICE_STATIC_LIBS -Isrc -Isrc/ice/cpp/include -Isrc/ice/cpp/src -I/opt/anaconda3/envs/devhome/include/python3.8 -c src/ice/cpp/src/Ice/ObserverHelper.cpp -o build/temp.macosx-10.9-x86_64-cpython-38/src/ice/cpp/src/Ice/ObserverHelper.o -w\r\n",
      "  \u001B[31m   \u001B[0m clang -Wno-unused-result -Wsign-compare -Wunreachable-code -DNDEBUG -fwrapv -O2 -Wall -fPIC -O2 -isystem /opt/anaconda3/envs/devhome/include -fPIC -O2 -isystem /opt/anaconda3/envs/devhome/include -arch x86_64 -DICE_STATIC_LIBS -Isrc -Isrc/ice/cpp/include -Isrc/ice/cpp/src -I/opt/anaconda3/envs/devhome/include/python3.8 -c src/ice/cpp/src/Ice/OpaqueEndpointI.cpp -o build/temp.macosx-10.9-x86_64-cpython-38/src/ice/cpp/src/Ice/OpaqueEndpointI.o -w\r\n",
      "  \u001B[31m   \u001B[0m clang -Wno-unused-result -Wsign-compare -Wunreachable-code -DNDEBUG -fwrapv -O2 -Wall -fPIC -O2 -isystem /opt/anaconda3/envs/devhome/include -fPIC -O2 -isystem /opt/anaconda3/envs/devhome/include -arch x86_64 -DICE_STATIC_LIBS -Isrc -Isrc/ice/cpp/include -Isrc/ice/cpp/src -I/opt/anaconda3/envs/devhome/include/python3.8 -c src/ice/cpp/src/Ice/Outgoing.cpp -o build/temp.macosx-10.9-x86_64-cpython-38/src/ice/cpp/src/Ice/Outgoing.o -w\r\n",
      "  \u001B[31m   \u001B[0m clang -Wno-unused-result -Wsign-compare -Wunreachable-code -DNDEBUG -fwrapv -O2 -Wall -fPIC -O2 -isystem /opt/anaconda3/envs/devhome/include -fPIC -O2 -isystem /opt/anaconda3/envs/devhome/include -arch x86_64 -DICE_STATIC_LIBS -Isrc -Isrc/ice/cpp/include -Isrc/ice/cpp/src -I/opt/anaconda3/envs/devhome/include/python3.8 -c src/ice/cpp/src/Ice/OutgoingAsync.cpp -o build/temp.macosx-10.9-x86_64-cpython-38/src/ice/cpp/src/Ice/OutgoingAsync.o -w\r\n",
      "  \u001B[31m   \u001B[0m clang -Wno-unused-result -Wsign-compare -Wunreachable-code -DNDEBUG -fwrapv -O2 -Wall -fPIC -O2 -isystem /opt/anaconda3/envs/devhome/include -fPIC -O2 -isystem /opt/anaconda3/envs/devhome/include -arch x86_64 -DICE_STATIC_LIBS -Isrc -Isrc/ice/cpp/include -Isrc/ice/cpp/src -I/opt/anaconda3/envs/devhome/include/python3.8 -c src/ice/cpp/src/Ice/Plugin.cpp -o build/temp.macosx-10.9-x86_64-cpython-38/src/ice/cpp/src/Ice/Plugin.o -w\r\n",
      "  \u001B[31m   \u001B[0m clang -Wno-unused-result -Wsign-compare -Wunreachable-code -DNDEBUG -fwrapv -O2 -Wall -fPIC -O2 -isystem /opt/anaconda3/envs/devhome/include -fPIC -O2 -isystem /opt/anaconda3/envs/devhome/include -arch x86_64 -DICE_STATIC_LIBS -Isrc -Isrc/ice/cpp/include -Isrc/ice/cpp/src -I/opt/anaconda3/envs/devhome/include/python3.8 -c src/ice/cpp/src/Ice/PluginF.cpp -o build/temp.macosx-10.9-x86_64-cpython-38/src/ice/cpp/src/Ice/PluginF.o -w\r\n",
      "  \u001B[31m   \u001B[0m clang -Wno-unused-result -Wsign-compare -Wunreachable-code -DNDEBUG -fwrapv -O2 -Wall -fPIC -O2 -isystem /opt/anaconda3/envs/devhome/include -fPIC -O2 -isystem /opt/anaconda3/envs/devhome/include -arch x86_64 -DICE_STATIC_LIBS -Isrc -Isrc/ice/cpp/include -Isrc/ice/cpp/src -I/opt/anaconda3/envs/devhome/include/python3.8 -c src/ice/cpp/src/Ice/PluginManagerI.cpp -o build/temp.macosx-10.9-x86_64-cpython-38/src/ice/cpp/src/Ice/PluginManagerI.o -w\r\n",
      "  \u001B[31m   \u001B[0m clang -Wno-unused-result -Wsign-compare -Wunreachable-code -DNDEBUG -fwrapv -O2 -Wall -fPIC -O2 -isystem /opt/anaconda3/envs/devhome/include -fPIC -O2 -isystem /opt/anaconda3/envs/devhome/include -arch x86_64 -DICE_STATIC_LIBS -Isrc -Isrc/ice/cpp/include -Isrc/ice/cpp/src -I/opt/anaconda3/envs/devhome/include/python3.8 -c src/ice/cpp/src/Ice/Process.cpp -o build/temp.macosx-10.9-x86_64-cpython-38/src/ice/cpp/src/Ice/Process.o -w\r\n",
      "  \u001B[31m   \u001B[0m clang -Wno-unused-result -Wsign-compare -Wunreachable-code -DNDEBUG -fwrapv -O2 -Wall -fPIC -O2 -isystem /opt/anaconda3/envs/devhome/include -fPIC -O2 -isystem /opt/anaconda3/envs/devhome/include -arch x86_64 -DICE_STATIC_LIBS -Isrc -Isrc/ice/cpp/include -Isrc/ice/cpp/src -I/opt/anaconda3/envs/devhome/include/python3.8 -c src/ice/cpp/src/Ice/ProcessF.cpp -o build/temp.macosx-10.9-x86_64-cpython-38/src/ice/cpp/src/Ice/ProcessF.o -w\r\n",
      "  \u001B[31m   \u001B[0m clang -Wno-unused-result -Wsign-compare -Wunreachable-code -DNDEBUG -fwrapv -O2 -Wall -fPIC -O2 -isystem /opt/anaconda3/envs/devhome/include -fPIC -O2 -isystem /opt/anaconda3/envs/devhome/include -arch x86_64 -DICE_STATIC_LIBS -Isrc -Isrc/ice/cpp/include -Isrc/ice/cpp/src -I/opt/anaconda3/envs/devhome/include/python3.8 -c src/ice/cpp/src/Ice/Properties.cpp -o build/temp.macosx-10.9-x86_64-cpython-38/src/ice/cpp/src/Ice/Properties.o -w\r\n",
      "  \u001B[31m   \u001B[0m clang -Wno-unused-result -Wsign-compare -Wunreachable-code -DNDEBUG -fwrapv -O2 -Wall -fPIC -O2 -isystem /opt/anaconda3/envs/devhome/include -fPIC -O2 -isystem /opt/anaconda3/envs/devhome/include -arch x86_64 -DICE_STATIC_LIBS -Isrc -Isrc/ice/cpp/include -Isrc/ice/cpp/src -I/opt/anaconda3/envs/devhome/include/python3.8 -c src/ice/cpp/src/Ice/PropertiesAdmin.cpp -o build/temp.macosx-10.9-x86_64-cpython-38/src/ice/cpp/src/Ice/PropertiesAdmin.o -w\r\n",
      "  \u001B[31m   \u001B[0m clang -Wno-unused-result -Wsign-compare -Wunreachable-code -DNDEBUG -fwrapv -O2 -Wall -fPIC -O2 -isystem /opt/anaconda3/envs/devhome/include -fPIC -O2 -isystem /opt/anaconda3/envs/devhome/include -arch x86_64 -DICE_STATIC_LIBS -Isrc -Isrc/ice/cpp/include -Isrc/ice/cpp/src -I/opt/anaconda3/envs/devhome/include/python3.8 -c src/ice/cpp/src/Ice/PropertiesAdminI.cpp -o build/temp.macosx-10.9-x86_64-cpython-38/src/ice/cpp/src/Ice/PropertiesAdminI.o -w\r\n",
      "  \u001B[31m   \u001B[0m clang -Wno-unused-result -Wsign-compare -Wunreachable-code -DNDEBUG -fwrapv -O2 -Wall -fPIC -O2 -isystem /opt/anaconda3/envs/devhome/include -fPIC -O2 -isystem /opt/anaconda3/envs/devhome/include -arch x86_64 -DICE_STATIC_LIBS -Isrc -Isrc/ice/cpp/include -Isrc/ice/cpp/src -I/opt/anaconda3/envs/devhome/include/python3.8 -c src/ice/cpp/src/Ice/PropertiesF.cpp -o build/temp.macosx-10.9-x86_64-cpython-38/src/ice/cpp/src/Ice/PropertiesF.o -w\r\n",
      "  \u001B[31m   \u001B[0m clang -Wno-unused-result -Wsign-compare -Wunreachable-code -DNDEBUG -fwrapv -O2 -Wall -fPIC -O2 -isystem /opt/anaconda3/envs/devhome/include -fPIC -O2 -isystem /opt/anaconda3/envs/devhome/include -arch x86_64 -DICE_STATIC_LIBS -Isrc -Isrc/ice/cpp/include -Isrc/ice/cpp/src -I/opt/anaconda3/envs/devhome/include/python3.8 -c src/ice/cpp/src/Ice/PropertiesI.cpp -o build/temp.macosx-10.9-x86_64-cpython-38/src/ice/cpp/src/Ice/PropertiesI.o -w\r\n",
      "  \u001B[31m   \u001B[0m clang -Wno-unused-result -Wsign-compare -Wunreachable-code -DNDEBUG -fwrapv -O2 -Wall -fPIC -O2 -isystem /opt/anaconda3/envs/devhome/include -fPIC -O2 -isystem /opt/anaconda3/envs/devhome/include -arch x86_64 -DICE_STATIC_LIBS -Isrc -Isrc/ice/cpp/include -Isrc/ice/cpp/src -I/opt/anaconda3/envs/devhome/include/python3.8 -c src/ice/cpp/src/Ice/PropertyNames.cpp -o build/temp.macosx-10.9-x86_64-cpython-38/src/ice/cpp/src/Ice/PropertyNames.o -w\r\n",
      "  \u001B[31m   \u001B[0m clang -Wno-unused-result -Wsign-compare -Wunreachable-code -DNDEBUG -fwrapv -O2 -Wall -fPIC -O2 -isystem /opt/anaconda3/envs/devhome/include -fPIC -O2 -isystem /opt/anaconda3/envs/devhome/include -arch x86_64 -DICE_STATIC_LIBS -Isrc -Isrc/ice/cpp/include -Isrc/ice/cpp/src -I/opt/anaconda3/envs/devhome/include/python3.8 -c src/ice/cpp/src/Ice/Protocol.cpp -o build/temp.macosx-10.9-x86_64-cpython-38/src/ice/cpp/src/Ice/Protocol.o -w\r\n",
      "  \u001B[31m   \u001B[0m clang -Wno-unused-result -Wsign-compare -Wunreachable-code -DNDEBUG -fwrapv -O2 -Wall -fPIC -O2 -isystem /opt/anaconda3/envs/devhome/include -fPIC -O2 -isystem /opt/anaconda3/envs/devhome/include -arch x86_64 -DICE_STATIC_LIBS -Isrc -Isrc/ice/cpp/include -Isrc/ice/cpp/src -I/opt/anaconda3/envs/devhome/include/python3.8 -c src/ice/cpp/src/Ice/ProtocolInstance.cpp -o build/temp.macosx-10.9-x86_64-cpython-38/src/ice/cpp/src/Ice/ProtocolInstance.o -w\r\n",
      "  \u001B[31m   \u001B[0m clang -Wno-unused-result -Wsign-compare -Wunreachable-code -DNDEBUG -fwrapv -O2 -Wall -fPIC -O2 -isystem /opt/anaconda3/envs/devhome/include -fPIC -O2 -isystem /opt/anaconda3/envs/devhome/include -arch x86_64 -DICE_STATIC_LIBS -Isrc -Isrc/ice/cpp/include -Isrc/ice/cpp/src -I/opt/anaconda3/envs/devhome/include/python3.8 -c src/ice/cpp/src/Ice/ProtocolPluginFacade.cpp -o build/temp.macosx-10.9-x86_64-cpython-38/src/ice/cpp/src/Ice/ProtocolPluginFacade.o -w\r\n",
      "  \u001B[31m   \u001B[0m clang -Wno-unused-result -Wsign-compare -Wunreachable-code -DNDEBUG -fwrapv -O2 -Wall -fPIC -O2 -isystem /opt/anaconda3/envs/devhome/include -fPIC -O2 -isystem /opt/anaconda3/envs/devhome/include -arch x86_64 -DICE_STATIC_LIBS -Isrc -Isrc/ice/cpp/include -Isrc/ice/cpp/src -I/opt/anaconda3/envs/devhome/include/python3.8 -c src/ice/cpp/src/Ice/Proxy.cpp -o build/temp.macosx-10.9-x86_64-cpython-38/src/ice/cpp/src/Ice/Proxy.o -w\r\n",
      "  \u001B[31m   \u001B[0m clang -Wno-unused-result -Wsign-compare -Wunreachable-code -DNDEBUG -fwrapv -O2 -Wall -fPIC -O2 -isystem /opt/anaconda3/envs/devhome/include -fPIC -O2 -isystem /opt/anaconda3/envs/devhome/include -arch x86_64 -DICE_STATIC_LIBS -Isrc -Isrc/ice/cpp/include -Isrc/ice/cpp/src -I/opt/anaconda3/envs/devhome/include/python3.8 -c src/ice/cpp/src/Ice/ProxyFactory.cpp -o build/temp.macosx-10.9-x86_64-cpython-38/src/ice/cpp/src/Ice/ProxyFactory.o -w\r\n",
      "  \u001B[31m   \u001B[0m clang -Wno-unused-result -Wsign-compare -Wunreachable-code -DNDEBUG -fwrapv -O2 -Wall -fPIC -O2 -isystem /opt/anaconda3/envs/devhome/include -fPIC -O2 -isystem /opt/anaconda3/envs/devhome/include -arch x86_64 -DICE_STATIC_LIBS -Isrc -Isrc/ice/cpp/include -Isrc/ice/cpp/src -I/opt/anaconda3/envs/devhome/include/python3.8 -c src/ice/cpp/src/Ice/Reference.cpp -o build/temp.macosx-10.9-x86_64-cpython-38/src/ice/cpp/src/Ice/Reference.o -w\r\n",
      "  \u001B[31m   \u001B[0m clang -Wno-unused-result -Wsign-compare -Wunreachable-code -DNDEBUG -fwrapv -O2 -Wall -fPIC -O2 -isystem /opt/anaconda3/envs/devhome/include -fPIC -O2 -isystem /opt/anaconda3/envs/devhome/include -arch x86_64 -DICE_STATIC_LIBS -Isrc -Isrc/ice/cpp/include -Isrc/ice/cpp/src -I/opt/anaconda3/envs/devhome/include/python3.8 -c src/ice/cpp/src/Ice/ReferenceFactory.cpp -o build/temp.macosx-10.9-x86_64-cpython-38/src/ice/cpp/src/Ice/ReferenceFactory.o -w\r\n",
      "  \u001B[31m   \u001B[0m clang -Wno-unused-result -Wsign-compare -Wunreachable-code -DNDEBUG -fwrapv -O2 -Wall -fPIC -O2 -isystem /opt/anaconda3/envs/devhome/include -fPIC -O2 -isystem /opt/anaconda3/envs/devhome/include -arch x86_64 -DICE_STATIC_LIBS -Isrc -Isrc/ice/cpp/include -Isrc/ice/cpp/src -I/opt/anaconda3/envs/devhome/include/python3.8 -c src/ice/cpp/src/Ice/RegisterPluginsInit.cpp -o build/temp.macosx-10.9-x86_64-cpython-38/src/ice/cpp/src/Ice/RegisterPluginsInit.o -w\r\n",
      "  \u001B[31m   \u001B[0m clang -Wno-unused-result -Wsign-compare -Wunreachable-code -DNDEBUG -fwrapv -O2 -Wall -fPIC -O2 -isystem /opt/anaconda3/envs/devhome/include -fPIC -O2 -isystem /opt/anaconda3/envs/devhome/include -arch x86_64 -DICE_STATIC_LIBS -Isrc -Isrc/ice/cpp/include -Isrc/ice/cpp/src -I/opt/anaconda3/envs/devhome/include/python3.8 -c src/ice/cpp/src/Ice/RemoteLogger.cpp -o build/temp.macosx-10.9-x86_64-cpython-38/src/ice/cpp/src/Ice/RemoteLogger.o -w\r\n",
      "  \u001B[31m   \u001B[0m clang -Wno-unused-result -Wsign-compare -Wunreachable-code -DNDEBUG -fwrapv -O2 -Wall -fPIC -O2 -isystem /opt/anaconda3/envs/devhome/include -fPIC -O2 -isystem /opt/anaconda3/envs/devhome/include -arch x86_64 -DICE_STATIC_LIBS -Isrc -Isrc/ice/cpp/include -Isrc/ice/cpp/src -I/opt/anaconda3/envs/devhome/include/python3.8 -c src/ice/cpp/src/Ice/RequestHandler.cpp -o build/temp.macosx-10.9-x86_64-cpython-38/src/ice/cpp/src/Ice/RequestHandler.o -w\r\n",
      "  \u001B[31m   \u001B[0m clang -Wno-unused-result -Wsign-compare -Wunreachable-code -DNDEBUG -fwrapv -O2 -Wall -fPIC -O2 -isystem /opt/anaconda3/envs/devhome/include -fPIC -O2 -isystem /opt/anaconda3/envs/devhome/include -arch x86_64 -DICE_STATIC_LIBS -Isrc -Isrc/ice/cpp/include -Isrc/ice/cpp/src -I/opt/anaconda3/envs/devhome/include/python3.8 -c src/ice/cpp/src/Ice/RequestHandlerFactory.cpp -o build/temp.macosx-10.9-x86_64-cpython-38/src/ice/cpp/src/Ice/RequestHandlerFactory.o -w\r\n",
      "  \u001B[31m   \u001B[0m clang -Wno-unused-result -Wsign-compare -Wunreachable-code -DNDEBUG -fwrapv -O2 -Wall -fPIC -O2 -isystem /opt/anaconda3/envs/devhome/include -fPIC -O2 -isystem /opt/anaconda3/envs/devhome/include -arch x86_64 -DICE_STATIC_LIBS -Isrc -Isrc/ice/cpp/include -Isrc/ice/cpp/src -I/opt/anaconda3/envs/devhome/include/python3.8 -c src/ice/cpp/src/Ice/ResponseHandler.cpp -o build/temp.macosx-10.9-x86_64-cpython-38/src/ice/cpp/src/Ice/ResponseHandler.o -w\r\n",
      "  \u001B[31m   \u001B[0m clang -Wno-unused-result -Wsign-compare -Wunreachable-code -DNDEBUG -fwrapv -O2 -Wall -fPIC -O2 -isystem /opt/anaconda3/envs/devhome/include -fPIC -O2 -isystem /opt/anaconda3/envs/devhome/include -arch x86_64 -DICE_STATIC_LIBS -Isrc -Isrc/ice/cpp/include -Isrc/ice/cpp/src -I/opt/anaconda3/envs/devhome/include/python3.8 -c src/ice/cpp/src/Ice/RetryQueue.cpp -o build/temp.macosx-10.9-x86_64-cpython-38/src/ice/cpp/src/Ice/RetryQueue.o -w\r\n",
      "  \u001B[31m   \u001B[0m clang -Wno-unused-result -Wsign-compare -Wunreachable-code -DNDEBUG -fwrapv -O2 -Wall -fPIC -O2 -isystem /opt/anaconda3/envs/devhome/include -fPIC -O2 -isystem /opt/anaconda3/envs/devhome/include -arch x86_64 -DICE_STATIC_LIBS -Isrc -Isrc/ice/cpp/include -Isrc/ice/cpp/src -I/opt/anaconda3/envs/devhome/include/python3.8 -c src/ice/cpp/src/Ice/Router.cpp -o build/temp.macosx-10.9-x86_64-cpython-38/src/ice/cpp/src/Ice/Router.o -w\r\n",
      "  \u001B[31m   \u001B[0m clang -Wno-unused-result -Wsign-compare -Wunreachable-code -DNDEBUG -fwrapv -O2 -Wall -fPIC -O2 -isystem /opt/anaconda3/envs/devhome/include -fPIC -O2 -isystem /opt/anaconda3/envs/devhome/include -arch x86_64 -DICE_STATIC_LIBS -Isrc -Isrc/ice/cpp/include -Isrc/ice/cpp/src -I/opt/anaconda3/envs/devhome/include/python3.8 -c src/ice/cpp/src/Ice/RouterF.cpp -o build/temp.macosx-10.9-x86_64-cpython-38/src/ice/cpp/src/Ice/RouterF.o -w\r\n",
      "  \u001B[31m   \u001B[0m clang -Wno-unused-result -Wsign-compare -Wunreachable-code -DNDEBUG -fwrapv -O2 -Wall -fPIC -O2 -isystem /opt/anaconda3/envs/devhome/include -fPIC -O2 -isystem /opt/anaconda3/envs/devhome/include -arch x86_64 -DICE_STATIC_LIBS -Isrc -Isrc/ice/cpp/include -Isrc/ice/cpp/src -I/opt/anaconda3/envs/devhome/include/python3.8 -c src/ice/cpp/src/Ice/RouterInfo.cpp -o build/temp.macosx-10.9-x86_64-cpython-38/src/ice/cpp/src/Ice/RouterInfo.o -w\r\n",
      "  \u001B[31m   \u001B[0m clang -Wno-unused-result -Wsign-compare -Wunreachable-code -DNDEBUG -fwrapv -O2 -Wall -fPIC -O2 -isystem /opt/anaconda3/envs/devhome/include -fPIC -O2 -isystem /opt/anaconda3/envs/devhome/include -arch x86_64 -DICE_STATIC_LIBS -Isrc -Isrc/ice/cpp/include -Isrc/ice/cpp/src -I/opt/anaconda3/envs/devhome/include/python3.8 -c src/ice/cpp/src/Ice/Selector.cpp -o build/temp.macosx-10.9-x86_64-cpython-38/src/ice/cpp/src/Ice/Selector.o -w\r\n",
      "  \u001B[31m   \u001B[0m clang -Wno-unused-result -Wsign-compare -Wunreachable-code -DNDEBUG -fwrapv -O2 -Wall -fPIC -O2 -isystem /opt/anaconda3/envs/devhome/include -fPIC -O2 -isystem /opt/anaconda3/envs/devhome/include -arch x86_64 -DICE_STATIC_LIBS -Isrc -Isrc/ice/cpp/include -Isrc/ice/cpp/src -I/opt/anaconda3/envs/devhome/include/python3.8 -c src/ice/cpp/src/Ice/ServantLocator.cpp -o build/temp.macosx-10.9-x86_64-cpython-38/src/ice/cpp/src/Ice/ServantLocator.o -w\r\n",
      "  \u001B[31m   \u001B[0m clang -Wno-unused-result -Wsign-compare -Wunreachable-code -DNDEBUG -fwrapv -O2 -Wall -fPIC -O2 -isystem /opt/anaconda3/envs/devhome/include -fPIC -O2 -isystem /opt/anaconda3/envs/devhome/include -arch x86_64 -DICE_STATIC_LIBS -Isrc -Isrc/ice/cpp/include -Isrc/ice/cpp/src -I/opt/anaconda3/envs/devhome/include/python3.8 -c src/ice/cpp/src/Ice/ServantLocatorF.cpp -o build/temp.macosx-10.9-x86_64-cpython-38/src/ice/cpp/src/Ice/ServantLocatorF.o -w\r\n",
      "  \u001B[31m   \u001B[0m clang -Wno-unused-result -Wsign-compare -Wunreachable-code -DNDEBUG -fwrapv -O2 -Wall -fPIC -O2 -isystem /opt/anaconda3/envs/devhome/include -fPIC -O2 -isystem /opt/anaconda3/envs/devhome/include -arch x86_64 -DICE_STATIC_LIBS -Isrc -Isrc/ice/cpp/include -Isrc/ice/cpp/src -I/opt/anaconda3/envs/devhome/include/python3.8 -c src/ice/cpp/src/Ice/ServantManager.cpp -o build/temp.macosx-10.9-x86_64-cpython-38/src/ice/cpp/src/Ice/ServantManager.o -w\r\n",
      "  \u001B[31m   \u001B[0m clang -Wno-unused-result -Wsign-compare -Wunreachable-code -DNDEBUG -fwrapv -O2 -Wall -fPIC -O2 -isystem /opt/anaconda3/envs/devhome/include -fPIC -O2 -isystem /opt/anaconda3/envs/devhome/include -arch x86_64 -DICE_STATIC_LIBS -Isrc -Isrc/ice/cpp/include -Isrc/ice/cpp/src -I/opt/anaconda3/envs/devhome/include/python3.8 -c src/ice/cpp/src/Ice/SliceChecksumDict.cpp -o build/temp.macosx-10.9-x86_64-cpython-38/src/ice/cpp/src/Ice/SliceChecksumDict.o -w\r\n",
      "  \u001B[31m   \u001B[0m clang -Wno-unused-result -Wsign-compare -Wunreachable-code -DNDEBUG -fwrapv -O2 -Wall -fPIC -O2 -isystem /opt/anaconda3/envs/devhome/include -fPIC -O2 -isystem /opt/anaconda3/envs/devhome/include -arch x86_64 -DICE_STATIC_LIBS -Isrc -Isrc/ice/cpp/include -Isrc/ice/cpp/src -I/opt/anaconda3/envs/devhome/include/python3.8 -c src/ice/cpp/src/Ice/SliceChecksums.cpp -o build/temp.macosx-10.9-x86_64-cpython-38/src/ice/cpp/src/Ice/SliceChecksums.o -w\r\n",
      "  \u001B[31m   \u001B[0m clang -Wno-unused-result -Wsign-compare -Wunreachable-code -DNDEBUG -fwrapv -O2 -Wall -fPIC -O2 -isystem /opt/anaconda3/envs/devhome/include -fPIC -O2 -isystem /opt/anaconda3/envs/devhome/include -arch x86_64 -DICE_STATIC_LIBS -Isrc -Isrc/ice/cpp/include -Isrc/ice/cpp/src -I/opt/anaconda3/envs/devhome/include/python3.8 -c src/ice/cpp/src/Ice/SlicedData.cpp -o build/temp.macosx-10.9-x86_64-cpython-38/src/ice/cpp/src/Ice/SlicedData.o -w\r\n",
      "  \u001B[31m   \u001B[0m clang -Wno-unused-result -Wsign-compare -Wunreachable-code -DNDEBUG -fwrapv -O2 -Wall -fPIC -O2 -isystem /opt/anaconda3/envs/devhome/include -fPIC -O2 -isystem /opt/anaconda3/envs/devhome/include -arch x86_64 -DICE_STATIC_LIBS -Isrc -Isrc/ice/cpp/include -Isrc/ice/cpp/src -I/opt/anaconda3/envs/devhome/include/python3.8 -c src/ice/cpp/src/Ice/Stream.cpp -o build/temp.macosx-10.9-x86_64-cpython-38/src/ice/cpp/src/Ice/Stream.o -w\r\n",
      "  \u001B[31m   \u001B[0m clang -Wno-unused-result -Wsign-compare -Wunreachable-code -DNDEBUG -fwrapv -O2 -Wall -fPIC -O2 -isystem /opt/anaconda3/envs/devhome/include -fPIC -O2 -isystem /opt/anaconda3/envs/devhome/include -arch x86_64 -DICE_STATIC_LIBS -Isrc -Isrc/ice/cpp/include -Isrc/ice/cpp/src -I/opt/anaconda3/envs/devhome/include/python3.8 -c src/ice/cpp/src/Ice/StreamI.cpp -o build/temp.macosx-10.9-x86_64-cpython-38/src/ice/cpp/src/Ice/StreamI.o -w\r\n",
      "  \u001B[31m   \u001B[0m clang -Wno-unused-result -Wsign-compare -Wunreachable-code -DNDEBUG -fwrapv -O2 -Wall -fPIC -O2 -isystem /opt/anaconda3/envs/devhome/include -fPIC -O2 -isystem /opt/anaconda3/envs/devhome/include -arch x86_64 -DICE_STATIC_LIBS -Isrc -Isrc/ice/cpp/include -Isrc/ice/cpp/src -I/opt/anaconda3/envs/devhome/include/python3.8 -c src/ice/cpp/src/Ice/StreamSocket.cpp -o build/temp.macosx-10.9-x86_64-cpython-38/src/ice/cpp/src/Ice/StreamSocket.o -w\r\n",
      "  \u001B[31m   \u001B[0m clang -Wno-unused-result -Wsign-compare -Wunreachable-code -DNDEBUG -fwrapv -O2 -Wall -fPIC -O2 -isystem /opt/anaconda3/envs/devhome/include -fPIC -O2 -isystem /opt/anaconda3/envs/devhome/include -arch x86_64 -DICE_STATIC_LIBS -Isrc -Isrc/ice/cpp/include -Isrc/ice/cpp/src -I/opt/anaconda3/envs/devhome/include/python3.8 -c src/ice/cpp/src/Ice/StringConverterPlugin.cpp -o build/temp.macosx-10.9-x86_64-cpython-38/src/ice/cpp/src/Ice/StringConverterPlugin.o -w\r\n",
      "  \u001B[31m   \u001B[0m clang -Wno-unused-result -Wsign-compare -Wunreachable-code -DNDEBUG -fwrapv -O2 -Wall -fPIC -O2 -isystem /opt/anaconda3/envs/devhome/include -fPIC -O2 -isystem /opt/anaconda3/envs/devhome/include -arch x86_64 -DICE_STATIC_LIBS -Isrc -Isrc/ice/cpp/include -Isrc/ice/cpp/src -I/opt/anaconda3/envs/devhome/include/python3.8 -c src/ice/cpp/src/Ice/SysLoggerI.cpp -o build/temp.macosx-10.9-x86_64-cpython-38/src/ice/cpp/src/Ice/SysLoggerI.o -w\r\n",
      "  \u001B[31m   \u001B[0m clang -Wno-unused-result -Wsign-compare -Wunreachable-code -DNDEBUG -fwrapv -O2 -Wall -fPIC -O2 -isystem /opt/anaconda3/envs/devhome/include -fPIC -O2 -isystem /opt/anaconda3/envs/devhome/include -arch x86_64 -DICE_STATIC_LIBS -Isrc -Isrc/ice/cpp/include -Isrc/ice/cpp/src -I/opt/anaconda3/envs/devhome/include/python3.8 -c src/ice/cpp/src/Ice/TcpAcceptor.cpp -o build/temp.macosx-10.9-x86_64-cpython-38/src/ice/cpp/src/Ice/TcpAcceptor.o -w\r\n",
      "  \u001B[31m   \u001B[0m clang -Wno-unused-result -Wsign-compare -Wunreachable-code -DNDEBUG -fwrapv -O2 -Wall -fPIC -O2 -isystem /opt/anaconda3/envs/devhome/include -fPIC -O2 -isystem /opt/anaconda3/envs/devhome/include -arch x86_64 -DICE_STATIC_LIBS -Isrc -Isrc/ice/cpp/include -Isrc/ice/cpp/src -I/opt/anaconda3/envs/devhome/include/python3.8 -c src/ice/cpp/src/Ice/TcpConnector.cpp -o build/temp.macosx-10.9-x86_64-cpython-38/src/ice/cpp/src/Ice/TcpConnector.o -w\r\n",
      "  \u001B[31m   \u001B[0m clang -Wno-unused-result -Wsign-compare -Wunreachable-code -DNDEBUG -fwrapv -O2 -Wall -fPIC -O2 -isystem /opt/anaconda3/envs/devhome/include -fPIC -O2 -isystem /opt/anaconda3/envs/devhome/include -arch x86_64 -DICE_STATIC_LIBS -Isrc -Isrc/ice/cpp/include -Isrc/ice/cpp/src -I/opt/anaconda3/envs/devhome/include/python3.8 -c src/ice/cpp/src/Ice/TcpEndpointI.cpp -o build/temp.macosx-10.9-x86_64-cpython-38/src/ice/cpp/src/Ice/TcpEndpointI.o -w\r\n",
      "  \u001B[31m   \u001B[0m clang -Wno-unused-result -Wsign-compare -Wunreachable-code -DNDEBUG -fwrapv -O2 -Wall -fPIC -O2 -isystem /opt/anaconda3/envs/devhome/include -fPIC -O2 -isystem /opt/anaconda3/envs/devhome/include -arch x86_64 -DICE_STATIC_LIBS -Isrc -Isrc/ice/cpp/include -Isrc/ice/cpp/src -I/opt/anaconda3/envs/devhome/include/python3.8 -c src/ice/cpp/src/Ice/TcpTransceiver.cpp -o build/temp.macosx-10.9-x86_64-cpython-38/src/ice/cpp/src/Ice/TcpTransceiver.o -w\r\n",
      "  \u001B[31m   \u001B[0m clang -Wno-unused-result -Wsign-compare -Wunreachable-code -DNDEBUG -fwrapv -O2 -Wall -fPIC -O2 -isystem /opt/anaconda3/envs/devhome/include -fPIC -O2 -isystem /opt/anaconda3/envs/devhome/include -arch x86_64 -DICE_STATIC_LIBS -Isrc -Isrc/ice/cpp/include -Isrc/ice/cpp/src -I/opt/anaconda3/envs/devhome/include/python3.8 -c src/ice/cpp/src/Ice/ThreadPool.cpp -o build/temp.macosx-10.9-x86_64-cpython-38/src/ice/cpp/src/Ice/ThreadPool.o -w\r\n",
      "  \u001B[31m   \u001B[0m clang -Wno-unused-result -Wsign-compare -Wunreachable-code -DNDEBUG -fwrapv -O2 -Wall -fPIC -O2 -isystem /opt/anaconda3/envs/devhome/include -fPIC -O2 -isystem /opt/anaconda3/envs/devhome/include -arch x86_64 -DICE_STATIC_LIBS -Isrc -Isrc/ice/cpp/include -Isrc/ice/cpp/src -I/opt/anaconda3/envs/devhome/include/python3.8 -c src/ice/cpp/src/Ice/TraceLevels.cpp -o build/temp.macosx-10.9-x86_64-cpython-38/src/ice/cpp/src/Ice/TraceLevels.o -w\r\n",
      "  \u001B[31m   \u001B[0m clang -Wno-unused-result -Wsign-compare -Wunreachable-code -DNDEBUG -fwrapv -O2 -Wall -fPIC -O2 -isystem /opt/anaconda3/envs/devhome/include -fPIC -O2 -isystem /opt/anaconda3/envs/devhome/include -arch x86_64 -DICE_STATIC_LIBS -Isrc -Isrc/ice/cpp/include -Isrc/ice/cpp/src -I/opt/anaconda3/envs/devhome/include/python3.8 -c src/ice/cpp/src/Ice/TraceUtil.cpp -o build/temp.macosx-10.9-x86_64-cpython-38/src/ice/cpp/src/Ice/TraceUtil.o -w\r\n",
      "  \u001B[31m   \u001B[0m clang -Wno-unused-result -Wsign-compare -Wunreachable-code -DNDEBUG -fwrapv -O2 -Wall -fPIC -O2 -isystem /opt/anaconda3/envs/devhome/include -fPIC -O2 -isystem /opt/anaconda3/envs/devhome/include -arch x86_64 -DICE_STATIC_LIBS -Isrc -Isrc/ice/cpp/include -Isrc/ice/cpp/src -I/opt/anaconda3/envs/devhome/include/python3.8 -c src/ice/cpp/src/Ice/Transceiver.cpp -o build/temp.macosx-10.9-x86_64-cpython-38/src/ice/cpp/src/Ice/Transceiver.o -w\r\n",
      "  \u001B[31m   \u001B[0m clang -Wno-unused-result -Wsign-compare -Wunreachable-code -DNDEBUG -fwrapv -O2 -Wall -fPIC -O2 -isystem /opt/anaconda3/envs/devhome/include -fPIC -O2 -isystem /opt/anaconda3/envs/devhome/include -arch x86_64 -DICE_STATIC_LIBS -Isrc -Isrc/ice/cpp/include -Isrc/ice/cpp/src -I/opt/anaconda3/envs/devhome/include/python3.8 -c src/ice/cpp/src/Ice/UdpConnector.cpp -o build/temp.macosx-10.9-x86_64-cpython-38/src/ice/cpp/src/Ice/UdpConnector.o -w\r\n",
      "  \u001B[31m   \u001B[0m clang -Wno-unused-result -Wsign-compare -Wunreachable-code -DNDEBUG -fwrapv -O2 -Wall -fPIC -O2 -isystem /opt/anaconda3/envs/devhome/include -fPIC -O2 -isystem /opt/anaconda3/envs/devhome/include -arch x86_64 -DICE_STATIC_LIBS -Isrc -Isrc/ice/cpp/include -Isrc/ice/cpp/src -I/opt/anaconda3/envs/devhome/include/python3.8 -c src/ice/cpp/src/Ice/UdpEndpointI.cpp -o build/temp.macosx-10.9-x86_64-cpython-38/src/ice/cpp/src/Ice/UdpEndpointI.o -w\r\n",
      "  \u001B[31m   \u001B[0m clang -Wno-unused-result -Wsign-compare -Wunreachable-code -DNDEBUG -fwrapv -O2 -Wall -fPIC -O2 -isystem /opt/anaconda3/envs/devhome/include -fPIC -O2 -isystem /opt/anaconda3/envs/devhome/include -arch x86_64 -DICE_STATIC_LIBS -Isrc -Isrc/ice/cpp/include -Isrc/ice/cpp/src -I/opt/anaconda3/envs/devhome/include/python3.8 -c src/ice/cpp/src/Ice/UdpTransceiver.cpp -o build/temp.macosx-10.9-x86_64-cpython-38/src/ice/cpp/src/Ice/UdpTransceiver.o -w\r\n",
      "  \u001B[31m   \u001B[0m clang -Wno-unused-result -Wsign-compare -Wunreachable-code -DNDEBUG -fwrapv -O2 -Wall -fPIC -O2 -isystem /opt/anaconda3/envs/devhome/include -fPIC -O2 -isystem /opt/anaconda3/envs/devhome/include -arch x86_64 -DICE_STATIC_LIBS -Isrc -Isrc/ice/cpp/include -Isrc/ice/cpp/src -I/opt/anaconda3/envs/devhome/include/python3.8 -c src/ice/cpp/src/Ice/Version.cpp -o build/temp.macosx-10.9-x86_64-cpython-38/src/ice/cpp/src/Ice/Version.o -w\r\n",
      "  \u001B[31m   \u001B[0m clang -Wno-unused-result -Wsign-compare -Wunreachable-code -DNDEBUG -fwrapv -O2 -Wall -fPIC -O2 -isystem /opt/anaconda3/envs/devhome/include -fPIC -O2 -isystem /opt/anaconda3/envs/devhome/include -arch x86_64 -DICE_STATIC_LIBS -Isrc -Isrc/ice/cpp/include -Isrc/ice/cpp/src -I/opt/anaconda3/envs/devhome/include/python3.8 -c src/ice/cpp/src/Ice/WSAcceptor.cpp -o build/temp.macosx-10.9-x86_64-cpython-38/src/ice/cpp/src/Ice/WSAcceptor.o -w\r\n",
      "  \u001B[31m   \u001B[0m clang -Wno-unused-result -Wsign-compare -Wunreachable-code -DNDEBUG -fwrapv -O2 -Wall -fPIC -O2 -isystem /opt/anaconda3/envs/devhome/include -fPIC -O2 -isystem /opt/anaconda3/envs/devhome/include -arch x86_64 -DICE_STATIC_LIBS -Isrc -Isrc/ice/cpp/include -Isrc/ice/cpp/src -I/opt/anaconda3/envs/devhome/include/python3.8 -c src/ice/cpp/src/Ice/WSConnector.cpp -o build/temp.macosx-10.9-x86_64-cpython-38/src/ice/cpp/src/Ice/WSConnector.o -w\r\n",
      "  \u001B[31m   \u001B[0m clang -Wno-unused-result -Wsign-compare -Wunreachable-code -DNDEBUG -fwrapv -O2 -Wall -fPIC -O2 -isystem /opt/anaconda3/envs/devhome/include -fPIC -O2 -isystem /opt/anaconda3/envs/devhome/include -arch x86_64 -DICE_STATIC_LIBS -Isrc -Isrc/ice/cpp/include -Isrc/ice/cpp/src -I/opt/anaconda3/envs/devhome/include/python3.8 -c src/ice/cpp/src/Ice/WSEndpoint.cpp -o build/temp.macosx-10.9-x86_64-cpython-38/src/ice/cpp/src/Ice/WSEndpoint.o -w\r\n",
      "  \u001B[31m   \u001B[0m clang -Wno-unused-result -Wsign-compare -Wunreachable-code -DNDEBUG -fwrapv -O2 -Wall -fPIC -O2 -isystem /opt/anaconda3/envs/devhome/include -fPIC -O2 -isystem /opt/anaconda3/envs/devhome/include -arch x86_64 -DICE_STATIC_LIBS -Isrc -Isrc/ice/cpp/include -Isrc/ice/cpp/src -I/opt/anaconda3/envs/devhome/include/python3.8 -c src/ice/cpp/src/Ice/WSTransceiver.cpp -o build/temp.macosx-10.9-x86_64-cpython-38/src/ice/cpp/src/Ice/WSTransceiver.o -w\r\n",
      "  \u001B[31m   \u001B[0m clang -Wno-unused-result -Wsign-compare -Wunreachable-code -DNDEBUG -fwrapv -O2 -Wall -fPIC -O2 -isystem /opt/anaconda3/envs/devhome/include -fPIC -O2 -isystem /opt/anaconda3/envs/devhome/include -arch x86_64 -DICE_STATIC_LIBS -Isrc -Isrc/ice/cpp/include -Isrc/ice/cpp/src -I/opt/anaconda3/envs/devhome/include/python3.8 -c src/ice/cpp/src/IceDiscovery/IceDiscovery.cpp -o build/temp.macosx-10.9-x86_64-cpython-38/src/ice/cpp/src/IceDiscovery/IceDiscovery.o -w\r\n",
      "  \u001B[31m   \u001B[0m clang -Wno-unused-result -Wsign-compare -Wunreachable-code -DNDEBUG -fwrapv -O2 -Wall -fPIC -O2 -isystem /opt/anaconda3/envs/devhome/include -fPIC -O2 -isystem /opt/anaconda3/envs/devhome/include -arch x86_64 -DICE_STATIC_LIBS -Isrc -Isrc/ice/cpp/include -Isrc/ice/cpp/src -I/opt/anaconda3/envs/devhome/include/python3.8 -c src/ice/cpp/src/IceDiscovery/LocatorI.cpp -o build/temp.macosx-10.9-x86_64-cpython-38/src/ice/cpp/src/IceDiscovery/LocatorI.o -w\r\n",
      "  \u001B[31m   \u001B[0m clang -Wno-unused-result -Wsign-compare -Wunreachable-code -DNDEBUG -fwrapv -O2 -Wall -fPIC -O2 -isystem /opt/anaconda3/envs/devhome/include -fPIC -O2 -isystem /opt/anaconda3/envs/devhome/include -arch x86_64 -DICE_STATIC_LIBS -Isrc -Isrc/ice/cpp/include -Isrc/ice/cpp/src -I/opt/anaconda3/envs/devhome/include/python3.8 -c src/ice/cpp/src/IceDiscovery/LookupI.cpp -o build/temp.macosx-10.9-x86_64-cpython-38/src/ice/cpp/src/IceDiscovery/LookupI.o -w\r\n",
      "  \u001B[31m   \u001B[0m clang -Wno-unused-result -Wsign-compare -Wunreachable-code -DNDEBUG -fwrapv -O2 -Wall -fPIC -O2 -isystem /opt/anaconda3/envs/devhome/include -fPIC -O2 -isystem /opt/anaconda3/envs/devhome/include -arch x86_64 -DICE_STATIC_LIBS -Isrc -Isrc/ice/cpp/include -Isrc/ice/cpp/src -I/opt/anaconda3/envs/devhome/include/python3.8 -c src/ice/cpp/src/IceDiscovery/PluginI.cpp -o build/temp.macosx-10.9-x86_64-cpython-38/src/ice/cpp/src/IceDiscovery/PluginI.o -w\r\n",
      "  \u001B[31m   \u001B[0m clang -Wno-unused-result -Wsign-compare -Wunreachable-code -DNDEBUG -fwrapv -O2 -Wall -fPIC -O2 -isystem /opt/anaconda3/envs/devhome/include -fPIC -O2 -isystem /opt/anaconda3/envs/devhome/include -arch x86_64 -DICE_STATIC_LIBS -Isrc -Isrc/ice/cpp/include -Isrc/ice/cpp/src -I/opt/anaconda3/envs/devhome/include/python3.8 -c src/ice/cpp/src/IceLocatorDiscovery/IceLocatorDiscovery.cpp -o build/temp.macosx-10.9-x86_64-cpython-38/src/ice/cpp/src/IceLocatorDiscovery/IceLocatorDiscovery.o -w\r\n",
      "  \u001B[31m   \u001B[0m clang -Wno-unused-result -Wsign-compare -Wunreachable-code -DNDEBUG -fwrapv -O2 -Wall -fPIC -O2 -isystem /opt/anaconda3/envs/devhome/include -fPIC -O2 -isystem /opt/anaconda3/envs/devhome/include -arch x86_64 -DICE_STATIC_LIBS -Isrc -Isrc/ice/cpp/include -Isrc/ice/cpp/src -I/opt/anaconda3/envs/devhome/include/python3.8 -c src/ice/cpp/src/IceLocatorDiscovery/PluginI.cpp -o build/temp.macosx-10.9-x86_64-cpython-38/src/ice/cpp/src/IceLocatorDiscovery/PluginI.o -w\r\n",
      "  \u001B[31m   \u001B[0m clang -Wno-unused-result -Wsign-compare -Wunreachable-code -DNDEBUG -fwrapv -O2 -Wall -fPIC -O2 -isystem /opt/anaconda3/envs/devhome/include -fPIC -O2 -isystem /opt/anaconda3/envs/devhome/include -arch x86_64 -DICE_STATIC_LIBS -Isrc -Isrc/ice/cpp/include -Isrc/ice/cpp/src -I/opt/anaconda3/envs/devhome/include/python3.8 -c src/ice/cpp/src/IceSSL/AcceptorI.cpp -o build/temp.macosx-10.9-x86_64-cpython-38/src/ice/cpp/src/IceSSL/AcceptorI.o -w\r\n",
      "  \u001B[31m   \u001B[0m In file included from src/ice/cpp/src/IceSSL/AcceptorI.cpp:14:\r\n",
      "  \u001B[31m   \u001B[0m In file included from src/ice/cpp/src/IceSSL/OpenSSLTransceiverI.h:14:\r\n",
      "  \u001B[31m   \u001B[0m In file included from src/ice/cpp/src/IceSSL/Util.h:23:\r\n",
      "  \u001B[31m   \u001B[0m In file included from /Library/Developer/CommandLineTools/SDKs/MacOSX12.3.sdk/System/Library/Frameworks/Security.framework/Headers/Security.h:27:\r\n",
      "  \u001B[31m   \u001B[0m /Library/Developer/CommandLineTools/SDKs/MacOSX12.3.sdk/System/Library/Frameworks/Security.framework/Headers/SecBase.h:88:33: error: typedef redefinition with different types ('struct __SecCertificate' vs 'OpaqueSecCertificateRef')\r\n",
      "  \u001B[31m   \u001B[0m typedef struct __SecCertificate OpaqueSecCertificateRef;\r\n",
      "  \u001B[31m   \u001B[0m                                 ^\r\n",
      "  \u001B[31m   \u001B[0m src/ice/cpp/include/IceSSL/Plugin.h:67:8: note: previous definition is here\r\n",
      "  \u001B[31m   \u001B[0m struct OpaqueSecCertificateRef;\r\n",
      "  \u001B[31m   \u001B[0m        ^\r\n",
      "  \u001B[31m   \u001B[0m In file included from src/ice/cpp/src/IceSSL/AcceptorI.cpp:14:\r\n",
      "  \u001B[31m   \u001B[0m In file included from src/ice/cpp/src/IceSSL/OpenSSLTransceiverI.h:14:\r\n",
      "  \u001B[31m   \u001B[0m In file included from src/ice/cpp/src/IceSSL/Util.h:23:\r\n",
      "  \u001B[31m   \u001B[0m In file included from /Library/Developer/CommandLineTools/SDKs/MacOSX12.3.sdk/System/Library/Frameworks/Security.framework/Headers/Security.h:27:\r\n",
      "  \u001B[31m   \u001B[0m /Library/Developer/CommandLineTools/SDKs/MacOSX12.3.sdk/System/Library/Frameworks/Security.framework/Headers/SecBase.h:111:25: error: typedef redefinition with different types ('struct __SecKey' vs 'OpaqueSecKeyRef')\r\n",
      "  \u001B[31m   \u001B[0m typedef struct __SecKey OpaqueSecKeyRef;\r\n",
      "  \u001B[31m   \u001B[0m                         ^\r\n",
      "  \u001B[31m   \u001B[0m src/ice/cpp/include/IceSSL/Plugin.h:73:8: note: previous definition is here\r\n",
      "  \u001B[31m   \u001B[0m struct OpaqueSecKeyRef;\r\n",
      "  \u001B[31m   \u001B[0m        ^\r\n",
      "  \u001B[31m   \u001B[0m 2 errors generated.\r\n",
      "  \u001B[31m   \u001B[0m error: command '/usr/bin/clang' failed with exit code 1\r\n",
      "  \u001B[31m   \u001B[0m \u001B[31m[end of output]\u001B[0m\r\n",
      "  \r\n",
      "  \u001B[1;35mnote\u001B[0m: This error originates from a subprocess, and is likely not a problem with pip.\r\n",
      "\u001B[33m  WARNING: No metadata found in /opt/anaconda3/envs/devhome/lib/python3.8/site-packages\u001B[0m\u001B[33m\r\n",
      "\u001B[0m\u001B[?25h  Rolling back uninstall of zeroc-ice\r\n",
      "  Moving to /opt/anaconda3/envs/devhome/bin/slice2py\r\n",
      "   from /private/var/folders/ff/h7rcmtgd7cd83fyvtv05xp5m0000gn/T/pip-uninstall-cvl8zv5t/slice2py\r\n",
      "  Moving to /opt/anaconda3/envs/devhome/lib/python3.8/site-packages/Glacier2/\r\n",
      "   from /opt/anaconda3/envs/devhome/lib/python3.8/site-packages/~lacier2\r\n",
      "  Moving to /opt/anaconda3/envs/devhome/lib/python3.8/site-packages/Ice/\r\n",
      "   from /opt/anaconda3/envs/devhome/lib/python3.8/site-packages/~ce\r\n",
      "  Moving to /opt/anaconda3/envs/devhome/lib/python3.8/site-packages/IceBox/\r\n",
      "   from /opt/anaconda3/envs/devhome/lib/python3.8/site-packages/~ceBox\r\n",
      "  Moving to /opt/anaconda3/envs/devhome/lib/python3.8/site-packages/IceGrid/\r\n",
      "   from /opt/anaconda3/envs/devhome/lib/python3.8/site-packages/~ceGrid\r\n",
      "  Moving to /opt/anaconda3/envs/devhome/lib/python3.8/site-packages/IceMX/\r\n",
      "   from /opt/anaconda3/envs/devhome/lib/python3.8/site-packages/~ceMX\r\n",
      "  Moving to /opt/anaconda3/envs/devhome/lib/python3.8/site-packages/IcePatch2/\r\n",
      "   from /opt/anaconda3/envs/devhome/lib/python3.8/site-packages/~cePatch2\r\n",
      "  Moving to /opt/anaconda3/envs/devhome/lib/python3.8/site-packages/IcePy.cpython-38-darwin.so\r\n",
      "   from /private/var/folders/ff/h7rcmtgd7cd83fyvtv05xp5m0000gn/T/pip-uninstall-wbg8klrp/IcePy.cpython-38-darwin.so\r\n",
      "  Moving to /opt/anaconda3/envs/devhome/lib/python3.8/site-packages/IceStorm/\r\n",
      "   from /opt/anaconda3/envs/devhome/lib/python3.8/site-packages/~ceStorm\r\n",
      "  Moving to /opt/anaconda3/envs/devhome/lib/python3.8/site-packages/__pycache__/slice2py.cpython-38.pyc\r\n",
      "   from /private/var/folders/ff/h7rcmtgd7cd83fyvtv05xp5m0000gn/T/pip-uninstall-wbg8klrp/__pycache__/slice2py.cpython-38.pyc\r\n",
      "  Moving to /opt/anaconda3/envs/devhome/lib/python3.8/site-packages/slice/Glacier2/\r\n",
      "   from /opt/anaconda3/envs/devhome/lib/python3.8/site-packages/slice/~lacier2\r\n",
      "  Moving to /opt/anaconda3/envs/devhome/lib/python3.8/site-packages/slice/Ice/\r\n",
      "   from /opt/anaconda3/envs/devhome/lib/python3.8/site-packages/slice/~ce\r\n",
      "  Moving to /opt/anaconda3/envs/devhome/lib/python3.8/site-packages/slice/IceBT/\r\n",
      "   from /opt/anaconda3/envs/devhome/lib/python3.8/site-packages/slice/~ceBT\r\n",
      "  Moving to /opt/anaconda3/envs/devhome/lib/python3.8/site-packages/slice/IceBox/\r\n",
      "   from /opt/anaconda3/envs/devhome/lib/python3.8/site-packages/slice/~ceBox\r\n",
      "  Moving to /opt/anaconda3/envs/devhome/lib/python3.8/site-packages/slice/IceGrid/\r\n",
      "   from /opt/anaconda3/envs/devhome/lib/python3.8/site-packages/slice/~ceGrid\r\n",
      "  Moving to /opt/anaconda3/envs/devhome/lib/python3.8/site-packages/slice/IceIAP/\r\n",
      "   from /opt/anaconda3/envs/devhome/lib/python3.8/site-packages/slice/~ceIAP\r\n",
      "  Moving to /opt/anaconda3/envs/devhome/lib/python3.8/site-packages/slice/IcePatch2/\r\n",
      "   from /opt/anaconda3/envs/devhome/lib/python3.8/site-packages/slice/~cePatch2\r\n",
      "  Moving to /opt/anaconda3/envs/devhome/lib/python3.8/site-packages/slice/IceSSL/\r\n",
      "   from /opt/anaconda3/envs/devhome/lib/python3.8/site-packages/slice/~ceSSL\r\n",
      "  Moving to /opt/anaconda3/envs/devhome/lib/python3.8/site-packages/slice/IceStorm/\r\n",
      "   from /opt/anaconda3/envs/devhome/lib/python3.8/site-packages/slice/~ceStorm\r\n",
      "  Moving to /opt/anaconda3/envs/devhome/lib/python3.8/site-packages/slice2py.py\r\n",
      "   from /private/var/folders/ff/h7rcmtgd7cd83fyvtv05xp5m0000gn/T/pip-uninstall-wbg8klrp/slice2py.py\r\n",
      "  Moving to /opt/anaconda3/envs/devhome/lib/python3.8/site-packages/zeroc_ice-3.7.7.dist-info/\r\n",
      "   from /opt/anaconda3/envs/devhome/lib/python3.8/site-packages/~eroc_ice-3.7.7.dist-info\r\n",
      "\u001B[1;31merror\u001B[0m: \u001B[1mlegacy-install-failure\u001B[0m\r\n",
      "\r\n",
      "\u001B[31m×\u001B[0m Encountered error while trying to install package.\r\n",
      "\u001B[31m╰─>\u001B[0m zeroc-ice\r\n",
      "\r\n",
      "\u001B[1;35mnote\u001B[0m: This is an issue with the package mentioned above, not pip.\r\n",
      "\u001B[1;36mhint\u001B[0m: See above for output from the failure.\r\n"
     ]
    }
   ],
   "source": [
    "!pip install ezomero"
   ],
   "metadata": {
    "collapsed": false,
    "pycharm": {
     "name": "#%%\n"
    }
   }
  },
  {
   "cell_type": "code",
   "execution_count": 180,
   "outputs": [
    {
     "ename": "ModuleNotFoundError",
     "evalue": "No module named 'ezomero'",
     "output_type": "error",
     "traceback": [
      "\u001B[0;31m---------------------------------------------------------------------------\u001B[0m",
      "\u001B[0;31mModuleNotFoundError\u001B[0m                       Traceback (most recent call last)",
      "Input \u001B[0;32mIn [180]\u001B[0m, in \u001B[0;36m<cell line: 2>\u001B[0;34m()\u001B[0m\n\u001B[1;32m      1\u001B[0m \u001B[38;5;66;03m#Get all images from Omero\u001B[39;00m\n\u001B[0;32m----> 2\u001B[0m \u001B[38;5;28;01mimport\u001B[39;00m \u001B[38;5;21;01mezomero\u001B[39;00m\n\u001B[1;32m      3\u001B[0m \u001B[38;5;28;01mimport\u001B[39;00m \u001B[38;5;21;01mnumpy\u001B[39;00m \u001B[38;5;28;01mas\u001B[39;00m \u001B[38;5;21;01mnp\u001B[39;00m\n\u001B[1;32m      5\u001B[0m \u001B[38;5;66;03m#Step 1: Connect to Omero\u001B[39;00m\n",
      "\u001B[0;31mModuleNotFoundError\u001B[0m: No module named 'ezomero'"
     ]
    }
   ],
   "source": [
    "#Get all images from Omero\n",
    "import ezomero\n",
    "import numpy as np\n",
    "\n",
    "#Step 1: Connect to Omero\n",
    "\n",
    "HOST = 'ome2.hpc.sussex.ac.uk' #change if different\n",
    "port=4064\n",
    "conn = ezomero.connect(user='rz200',password='omeroreset',group='',host=HOST,port=4064,secure=True)\n",
    "if conn: print('Connection successful')\n",
    "else: print('Unsuccessful')\n",
    "\n",
    "#Step 2: Load the images\n",
    "plate = 812\n",
    "image_ids = ezomero.get_image_ids(conn,plate=plate)\n",
    "print('In plate',plate,'we have',len(image_ids),'images')\n",
    "image = np.load('/Users/rehanzuberi/Documents/Development/cell-SCT/classification/images/cy5_img.tiff')\n",
    "\n",
    "#Make a loop that goes through each image and store them in a numpy array or even in the dataframe\n",
    "image = ezomero.get_image(conn,image_id=image_ids[0]) #this gets the first image, it has 4 channels\n",
    "ori_img = np.reshape(image[1],(1080,1080,4)) #full_image with 4 channels\n",
    "gray_img = np.average(np.reshape(image[1],(1080,1080,4)), axis=-1) #averaged out original img\n",
    "dapi_img = np.reshape(image[1],(1080,1080,4))[:,:,0] #channel 0 is DAPI\n",
    "cy5_img = np.reshape(image[1],(1080,1080,4))[:,:,1] #channel 1 is Cy5"
   ],
   "metadata": {
    "collapsed": false,
    "pycharm": {
     "name": "#%%\n"
    }
   }
  },
  {
   "cell_type": "code",
   "execution_count": 181,
   "outputs": [],
   "source": [
    "#Gathering the data from each image\n",
    "#This needs to be a loop and each dataframe needs to be stored in a numpy array\n",
    "\n",
    "#Step 1: Normalise each channel\n",
    "\n",
    "#Step 2: Make mask prediction\n",
    "\n",
    "#Step 3: Make the crops around each channel and store them in the dataframe\n",
    "\n",
    "#Step 4: Get the pixel intensity data from each channel and store them in the dataframe\n",
    "\n",
    "#Step 5: Get the background value for the Cyclin A2 channel and the EdU channel\n",
    "\n",
    "#Step 6: Get the DAPI DNA content data in a new column from Helfrid's function\n",
    "\n",
    "#Step 6: Apply the S-phase rule in a new boolean column\n",
    "\n",
    "#Step 7: Apply the G1 rule in a new boolean column\n",
    "\n",
    "#Step 8: Apply the G2/M rule in a new boolean column"
   ],
   "metadata": {
    "collapsed": false,
    "pycharm": {
     "name": "#%%\n"
    }
   }
  },
  {
   "cell_type": "code",
   "execution_count": 182,
   "outputs": [],
   "source": [
    "#Put all the data together for a quantitative investigation\n",
    "\n",
    "#Step 1: Stack all the dataframes together\n",
    "\n",
    "#Step 2: Plot that cell cycle phase channel data in a 4D graph where each axis is data from a channel\n",
    "\n",
    "#Step 3: Plot some cells from each classification cropped in the Alexa555 channel"
   ],
   "metadata": {
    "collapsed": false,
    "pycharm": {
     "name": "#%%\n"
    }
   }
  },
  {
   "cell_type": "code",
   "execution_count": 148,
   "metadata": {
    "pycharm": {
     "name": "#%%\n"
    }
   },
   "outputs": [
    {
     "data": {
      "text/plain": "<Figure size 864x864 with 3 Axes>",
      "image/png": "[encoded data removed]"
     },
     "metadata": {
      "needs_background": "light"
     },
     "output_type": "display_data"
    }
   ],
   "source": [
    "#TODELETE: Here we were importing images from a directory but now we'll do with Omero\n",
    "#Here we get the images from a directory in the project, normalise and display them\n",
    "\n",
    "import numpy as np\n",
    "import matplotlib.pyplot as plt\n",
    "\n",
    "#Loading the images\n",
    "gray_img = np.load('/Users/rehanzuberi/Documents/Development/cell-SCT/classification/images/gray_img.npy')\n",
    "dapi_img = np.load('/Users/rehanzuberi/Documents/Development/cell-SCT/classification/images/dapi_img.npy')\n",
    "edu_img = np.load('/Users/rehanzuberi/Documents/Development/cell-SCT/classification/images/cy5_img.npy')\n",
    "\n",
    "#Normalising the images\n",
    "def normalise_img(img):\n",
    "    return (img - np.min(img)) / (np.max(img) - np.min(img))\n",
    "\n",
    "gray_img = normalise_img(gray_img)\n",
    "dapi_img = normalise_img(dapi_img)\n",
    "edu_img = normalise_img(edu_img)\n",
    "\n",
    "#Displaying the images\n",
    "plt.figure(figsize=(12,12))\n",
    "plt.subplot(1,3,1);plt.imshow(gray_img);plt.axis('off');plt.title('Gray')\n",
    "plt.subplot(1,3,2);plt.imshow(dapi_img);plt.axis('off');plt.title('DAPI')\n",
    "plt.subplot(1,3,3);plt.imshow(edu_img);plt.axis('off');plt.title('EdU');plt.show()"
   ]
  },
  {
   "cell_type": "code",
   "execution_count": 149,
   "metadata": {
    "pycharm": {
     "name": "#%%\n"
    }
   },
   "outputs": [],
   "source": [
    "#Make a segmentation prediction, right now with the Gray image as that's all we have, later with the Alexa555 (PCNA) image\n",
    "\n",
    "from cellpose import models\n",
    "model_dir = \"/Users/rehanzuberi/Documents/Development/cell-SCT/segmentation/demo_train_test_data/data_for_masks_training/models/demo_model\"\n",
    "model = models.CellposeModel(gpu=True, pretrained_model=model_dir)\n",
    "test_data = [gray_img]\n",
    "predicted_test_masks = model.eval(test_data, channels=[0,0], diameter=model.diam_labels.copy())[0]  # generates the predictions # we could use the fact that it has a channel input to have the normal image not separated by channel and just make it do the prediction on there, although we need it to make a prediction on the averaged out gray image so that wouldn't really work\n",
    "predicted_mask = predicted_test_masks[0]"
   ]
  },
  {
   "cell_type": "code",
   "execution_count": 150,
   "outputs": [
    {
     "name": "stdout",
     "output_type": "stream",
     "text": [
      "Prediction has 146 cells\n"
     ]
    }
   ],
   "source": [
    "#Now we get the crops from each channel and store them in a numpy array\n",
    "import segmentation.seg_functions\n",
    "from importlib import reload\n",
    "from segmentation.seg_functions import count_cells, get_cell_crop_coordinates, get_img_crops\n",
    "segmentation.seg_functions = reload(segmentation.seg_functions)\n",
    "\n",
    "print('Prediction has', count_cells(predicted_mask), 'cells')\n",
    "crop_coordinates = get_cell_crop_coordinates(predicted_mask, margin=3)\n",
    "gray_crops = get_img_crops(gray_img, crop_coordinates)\n",
    "dapi_crops = get_img_crops(dapi_img, crop_coordinates)\n",
    "edu_crops = get_img_crops(edu_img, crop_coordinates)\n",
    "\n",
    "#We could have one numpy array called 'cells' that holds the images and later on the values"
   ],
   "metadata": {
    "collapsed": false,
    "pycharm": {
     "name": "#%%\n"
    }
   }
  },
  {
   "cell_type": "code",
   "execution_count": 151,
   "outputs": [
    {
     "name": "stdout",
     "output_type": "stream",
     "text": [
      "0.0277490490297474\n"
     ]
    }
   ],
   "source": [
    "mines = []\n",
    "for i in range(len(gray_crops[0])):\n",
    "    mines.append(min(gray_crops[0][i]))\n",
    "print(min(mines))"
   ],
   "metadata": {
    "collapsed": false,
    "pycharm": {
     "name": "#%%\n"
    }
   }
  },
  {
   "cell_type": "code",
   "execution_count": 152,
   "outputs": [
    {
     "data": {
      "text/plain": "<Figure size 432x288 with 3 Axes>",
      "image/png": "[encoded data removed]"
     },
     "metadata": {
      "needs_background": "light"
     },
     "output_type": "display_data"
    },
    {
     "data": {
      "text/plain": "<Figure size 432x288 with 3 Axes>",
      "image/png": "[encoded data removed]"
     },
     "metadata": {
      "needs_background": "light"
     },
     "output_type": "display_data"
    },
    {
     "data": {
      "text/plain": "<Figure size 432x288 with 3 Axes>",
      "image/png": "[encoded data removed]"
     },
     "metadata": {
      "needs_background": "light"
     },
     "output_type": "display_data"
    },
    {
     "data": {
      "text/plain": "<Figure size 432x288 with 3 Axes>",
      "image/png": "[encoded data removed]"
     },
     "metadata": {
      "needs_background": "light"
     },
     "output_type": "display_data"
    },
    {
     "data": {
      "text/plain": "<Figure size 432x288 with 3 Axes>",
      "image/png": "[encoded data removed]"
     },
     "metadata": {
      "needs_background": "light"
     },
     "output_type": "display_data"
    },
    {
     "data": {
      "text/plain": "<Figure size 432x288 with 3 Axes>",
      "image/png": "[encoded data removed]"
     },
     "metadata": {
      "needs_background": "light"
     },
     "output_type": "display_data"
    },
    {
     "data": {
      "text/plain": "<Figure size 432x288 with 3 Axes>",
      "image/png": "[encoded data removed]"
     },
     "metadata": {
      "needs_background": "light"
     },
     "output_type": "display_data"
    },
    {
     "data": {
      "text/plain": "<Figure size 432x288 with 3 Axes>",
      "image/png": "[encoded data removed]"
     },
     "metadata": {
      "needs_background": "light"
     },
     "output_type": "display_data"
    },
    {
     "data": {
      "text/plain": "<Figure size 432x288 with 3 Axes>",
      "image/png": "[encoded data removed]"
     },
     "metadata": {
      "needs_background": "light"
     },
     "output_type": "display_data"
    },
    {
     "data": {
      "text/plain": "<Figure size 432x288 with 3 Axes>",
      "image/png": "[encoded data removed]"
     },
     "metadata": {
      "needs_background": "light"
     },
     "output_type": "display_data"
    }
   ],
   "source": [
    "for i in range(10):\n",
    "    plt.subplot(1,3,1)\n",
    "    if i == 0: plt.title('Gray img')\n",
    "    plt.axis('off')\n",
    "    plt.imshow(gray_crops[i], vmin=0, vmax=1)\n",
    "\n",
    "    plt.subplot(1,3,2)\n",
    "    if i == 0: plt.title('DAPI img')\n",
    "    plt.axis('off')\n",
    "    plt.imshow(dapi_crops[i], vmin=0, vmax=1)\n",
    "\n",
    "    plt.subplot(1,3,3)\n",
    "    if i == 0: plt.title('EDU img')\n",
    "    plt.imshow(edu_crops[i], vmin=0, vmax=1)\n",
    "    plt.axis('off')\n",
    "    plt.show()"
   ],
   "metadata": {
    "collapsed": false,
    "pycharm": {
     "name": "#%%\n"
    }
   }
  },
  {
   "cell_type": "code",
   "execution_count": 153,
   "metadata": {
    "pycharm": {
     "name": "#%%\n"
    }
   },
   "outputs": [],
   "source": [
    "#This is what we used to measure the pixel intentisty values of the cells on different channels\n",
    "#We would put them into one array\n",
    "#Now I think I would prefer putting them into each their own numpy array\n",
    "#This also depends on what Helfrid's normalisation funcitions ofers\n",
    "dapi_values = []\n",
    "edu_values = []\n",
    "for i in range(len(edu_crops)):\n",
    "    dapi_values.append(np.average(dapi_crops[i]))\n",
    "    edu_values.append(np.average(edu_crops[i]))\n",
    "\n",
    "dapi_values = np.array(dapi_values)\n",
    "edu_values = np.array(edu_values)"
   ]
  },
  {
   "cell_type": "code",
   "execution_count": 154,
   "outputs": [
    {
     "name": "stdout",
     "output_type": "stream",
     "text": [
      "[0.08189056 0.06061702 0.07178029 0.06219528 0.08757167 0.0813219\n",
      " 0.07720045 0.11899516 0.0910181  0.05323035 0.07213572 0.05294544\n",
      " 0.04957388 0.05580228 0.0703837  0.11281957 0.06128804 0.06254169\n",
      " 0.08312426 0.06264807 0.06410132 0.08668238 0.10614746 0.13072385\n",
      " 0.05873736 0.09924094 0.07452244 0.14827078 0.06161165 0.06965249\n",
      " 0.07038366 0.04812316 0.07623968 0.08474177 0.09208622 0.08798822\n",
      " 0.12561442 0.0692778  0.10407916 0.07032933 0.09084809 0.12494403\n",
      " 0.06520222 0.07878614 0.08220033 0.0658569  0.07558843 0.11137212\n",
      " 0.08114326 0.07608225 0.07860151 0.07778704 0.06582289 0.07290062\n",
      " 0.08823902 0.20608641 0.06261691 0.11870651 0.05695263 0.08710398\n",
      " 0.09521057 0.09362389 0.07557514 0.06830532 0.06456485 0.07700331\n",
      " 0.05690713 0.0937765  0.07176176 0.07874459 0.11717204 0.08642276\n",
      " 0.07763172 0.10980914 0.16022615 0.11570083 0.08893362 0.07429999\n",
      " 0.0998013  0.06464597 0.06885665 0.14068977 0.16486924 0.06176055\n",
      " 0.06363109 0.05801578 0.12779022 0.07792027 0.08694195 0.07485525\n",
      " 0.05932433 0.10418671 0.10308806 0.09889344 0.07435176 0.07736536\n",
      " 0.14587188 0.07570565 0.07639192 0.07377341 0.06173874 0.05631478\n",
      " 0.13507739 0.06236913 0.13531125 0.07146891 0.07445364 0.10744077\n",
      " 0.08719287 0.07840285 0.07417592 0.06163329 0.07838246 0.07050302\n",
      " 0.07444991 0.07599481 0.08124868 0.12702877 0.08164584 0.065348\n",
      " 0.09068443 0.0989207  0.06317537 0.0532017  0.16280317 0.06278076\n",
      " 0.07367485 0.06378318 0.07542084 0.08844395 0.06328922 0.07374856\n",
      " 0.10900378 0.07721486 0.0632851  0.06225487 0.06268007 0.05681712\n",
      " 0.062234   0.12208876 0.0710257  0.04772642 0.07436619 0.09790351\n",
      " 0.05018239 0.1035216 ]\n"
     ]
    }
   ],
   "source": [
    "print(dapi_values)"
   ],
   "metadata": {
    "collapsed": false,
    "pycharm": {
     "name": "#%%\n"
    }
   }
  },
  {
   "cell_type": "code",
   "execution_count": 155,
   "outputs": [],
   "source": [
    "def dna_norm(df):\n",
    "    \"\"\"\n",
    "    normalise histogram of DNA label\n",
    "    :param df: input dataframe\n",
    "    :return: input dataframe with additional column: \"DNA_content\"\n",
    "    Author/Shared by: Dr Helfrid Hochegger\n",
    "    \"\"\"\n",
    "    y, x, _ = plt.hist(df['integrated_int_DAPI'], bins=250)\n",
    "    max = x[np.where(y == y.max())]\n",
    "    df['DNA_content']=df['integrated_int_DAPI']/max[0]\n",
    "    return df"
   ],
   "metadata": {
    "collapsed": false,
    "pycharm": {
     "name": "#%%\n"
    }
   }
  },
  {
   "cell_type": "code",
   "execution_count": 157,
   "outputs": [],
   "source": [
    "import pandas as pd\n",
    "\n",
    "#pi: pixel intensity\n",
    "\n",
    "cell_data = {'Gray cell img':gray_crops, 'integrated_int_DAPI':dapi_values, 'EdU_pi':edu_values}\n",
    "df = pd.DataFrame(cell_data)"
   ],
   "metadata": {
    "collapsed": false,
    "pycharm": {
     "name": "#%%\n"
    }
   }
  },
  {
   "cell_type": "code",
   "execution_count": 158,
   "outputs": [
    {
     "data": {
      "text/plain": "<Figure size 432x288 with 1 Axes>",
      "image/png": "[encoded data removed]"
     },
     "metadata": {
      "needs_background": "light"
     },
     "output_type": "display_data"
    }
   ],
   "source": [
    "normalised = dna_norm(df)"
   ],
   "metadata": {
    "collapsed": false,
    "pycharm": {
     "name": "#%%\n"
    }
   }
  },
  {
   "cell_type": "code",
   "execution_count": 159,
   "outputs": [
    {
     "name": "stdout",
     "output_type": "stream",
     "text": [
      "                                         Gray cell img  integrated_int_DAPI  \\\n",
      "0    [[0.0353042228338037, 0.031815871123810194, 0....             0.081891   \n",
      "1    [[0.037539222044980454, 0.03568110505372763, 0...             0.060617   \n",
      "2    [[0.037635633775658664, 0.038073868915105086, ...             0.071780   \n",
      "3    [[0.04317492593826144, 0.04319245534383929, 0....             0.062195   \n",
      "4    [[0.03940610373902221, 0.03749539853103581, 0....             0.087572   \n",
      "..                                                 ...                  ...   \n",
      "141  [[0.05808368538222869, 0.058153803004540115, 0...             0.047726   \n",
      "142  [[0.059652567181446875, 0.06052903746033972, 0...             0.074366   \n",
      "143  [[0.052842393114449486, 0.052526863814048065, ...             0.097904   \n",
      "144  [[0.05951233193682402, 0.056926744614090134, 0...             0.050182   \n",
      "145  [[0.056357038932809786, 0.05409574561326625, 0...             0.103522   \n",
      "\n",
      "       EdU_pi  DNA_content  \n",
      "0    0.091203     1.314549  \n",
      "1    0.014536     0.973056  \n",
      "2    0.006403     1.152254  \n",
      "3    0.010945     0.998391  \n",
      "4    0.024413     1.405746  \n",
      "..        ...          ...  \n",
      "141  0.022392     0.766129  \n",
      "142  0.006575     1.193764  \n",
      "143  0.100872     1.571598  \n",
      "144  0.033035     0.805553  \n",
      "145  0.006339     1.661782  \n",
      "\n",
      "[146 rows x 4 columns]\n"
     ]
    }
   ],
   "source": [
    "print(normalised)"
   ],
   "metadata": {
    "collapsed": false,
    "pycharm": {
     "name": "#%%\n"
    }
   }
  },
  {
   "cell_type": "code",
   "execution_count": 160,
   "outputs": [
    {
     "data": {
      "text/plain": "<matplotlib.image.AxesImage at 0x7fb373f8be20>"
     },
     "execution_count": 160,
     "metadata": {},
     "output_type": "execute_result"
    },
    {
     "data": {
      "text/plain": "<Figure size 432x288 with 1 Axes>",
      "image/png": "[encoded data removed]"
     },
     "metadata": {
      "needs_background": "light"
     },
     "output_type": "display_data"
    }
   ],
   "source": [
    "#We need to get the colour of the background for the EdU since not being the same colour of the background gives info\n",
    "plt.imshow(df.sort_values(by=['EdU_pi'])['Gray cell img'][2])"
   ],
   "metadata": {
    "collapsed": false,
    "pycharm": {
     "name": "#%%\n"
    }
   }
  },
  {
   "cell_type": "code",
   "execution_count": 161,
   "outputs": [],
   "source": [
    "from statistics import mean\n",
    "import numpy.matlib\n",
    "\n",
    "def get_elbow(curve):\n",
    "    #source:https://stackoverflow.com/questions/2018178/finding-the-best-trade-off-point-on-a-curve\n",
    "    nPoints = len(curve)\n",
    "    allCoord = np.vstack((range(nPoints), curve)).T\n",
    "    np.array([range(nPoints), curve])\n",
    "    firstPoint = allCoord[0]\n",
    "    lineVec = allCoord[-1] - allCoord[0]\n",
    "    lineVecNorm = lineVec / np.sqrt(np.sum(lineVec**2))\n",
    "    vecFromFirst = allCoord - firstPoint\n",
    "    scalarProduct = np.sum(vecFromFirst * np.matlib.repmat(lineVecNorm, nPoints, 1), axis=1)\n",
    "    vecFromFirstParallel = np.outer(scalarProduct, lineVecNorm)\n",
    "    vecToLine = vecFromFirst - vecFromFirstParallel\n",
    "    distToLine = np.sqrt(np.sum(vecToLine ** 2, axis=1))\n",
    "    idxOfBestPoint = np.argmax(distToLine)\n",
    "    return idxOfBestPoint\n",
    "\n",
    "#This function splits an array into the inputted number and returns the average per split\n",
    "def get_avg_split_arr(arr,num_splits):\n",
    "    array_split = np.array_split(arr,num_splits)\n",
    "    averages = [mean(array) for array in array_split]\n",
    "    return averages\n",
    "\n",
    "def get_EdU_threshold(df):\n",
    "    edu_nums = np.sort(np.array(df.loc[:,['EdU_pi']]).flatten()) #extract EdU values and put them in one array shape num_of_cells\n",
    "\n",
    "    #Get the list of EdU values\n",
    "    #Make a split from 3 to the total number of cells\n",
    "    #Get the averages at that split\n",
    "    #Get the elbow in those averages\n",
    "    #Store that elbow in a list\n",
    "    #Average out the list of elbow and return that value\n",
    "\n",
    "    elbows_y = []\n",
    "    for i in range(140,len(edu_nums)+1):\n",
    "        avg_split_arr = get_avg_split_arr(edu_nums,i)\n",
    "        elbow_x = get_elbow(avg_split_arr)\n",
    "        elbows_y.append(edu_nums[elbow_x])\n",
    "\n",
    "    #print(elbows_y)\n",
    "\n",
    "    return mean(elbows_y)"
   ],
   "metadata": {
    "collapsed": false,
    "pycharm": {
     "name": "#%%\n"
    }
   }
  },
  {
   "cell_type": "code",
   "execution_count": 162,
   "outputs": [
    {
     "name": "stdout",
     "output_type": "stream",
     "text": [
      "EdU intensity threshold: 0.010146958946061274\n"
     ]
    },
    {
     "data": {
      "text/plain": "<Figure size 432x288 with 1 Axes>",
      "image/png": "[encoded data removed]"
     },
     "metadata": {
      "needs_background": "light"
     },
     "output_type": "display_data"
    }
   ],
   "source": [
    "#I'm trying to find the background color in the EdU channel\n",
    "#Let's try putting the values in buckets\n",
    "#From this bucket method I would conclude that the background is at 500\n",
    "from statistics import mean\n",
    "\n",
    "num_buckets = 144\n",
    "edu_nums = np.array(df.loc[:,['EdU_pi']]).flatten()\n",
    "edu_nums = np.sort(edu_nums)\n",
    "edu_nums = np.array_split(edu_nums,num_buckets)\n",
    "averages = []\n",
    "for array in edu_nums: averages.append(mean(array))\n",
    "import matplotlib.pyplot as plt\n",
    "fig = plt.figure()\n",
    "bars = [i+1 for i in range(num_buckets)]\n",
    "y_pos = np.arange(len(bars))\n",
    "#plt.bar(y_pos, averages)\n",
    "plt.plot(averages)\n",
    "plt.xlabel('Cells sorted by pixel intensity')\n",
    "plt.ylabel('Pixel intensity')\n",
    "#plt.yticks([i for i in range(0,5000,250)])\n",
    "#plt.xticks(y_pos, bars)\n",
    "#plt.grid('on')\n",
    "\n",
    "\n",
    "#Need to fid the elbow\n",
    "#from kneed import KneeLocator\n",
    "#kn = KneeLocator(bars, averages, curve='convex', direction='increasing')\n",
    "#print('Elbow y value: {}',averages[kn.knee])\n",
    "\n",
    "#plt.vlines(kn.knee, plt.ylim()[0], plt.ylim()[1], linestyles='dashed') #plotting the line\n",
    "plt.hlines(get_EdU_threshold(df), xmin=0, xmax=max(bars), linestyles='dashed')\n",
    "print('EdU intensity threshold:',get_EdU_threshold(df))\n",
    "\n",
    "plt.show()"
   ],
   "metadata": {
    "collapsed": false,
    "pycharm": {
     "name": "#%%\n"
    }
   }
  },
  {
   "cell_type": "code",
   "execution_count": 163,
   "outputs": [],
   "source": [
    "#To find intersection\n",
    "#Create for the line a list of tuples with all of its X and Y coordinates\n",
    "#Do the same for our list of cell values\n",
    "#Get the point that they cross at"
   ],
   "metadata": {
    "collapsed": false,
    "pycharm": {
     "name": "#%%\n"
    }
   }
  },
  {
   "cell_type": "code",
   "execution_count": 164,
   "outputs": [
    {
     "name": "stdout",
     "output_type": "stream",
     "text": [
      "0.010146958946061274\n"
     ]
    }
   ],
   "source": [
    "print(get_EdU_threshold(df))"
   ],
   "metadata": {
    "collapsed": false,
    "pycharm": {
     "name": "#%%\n"
    }
   }
  },
  {
   "cell_type": "code",
   "execution_count": 165,
   "outputs": [
    {
     "name": "stdout",
     "output_type": "stream",
     "text": [
      "0.004687097051491447\n"
     ]
    },
    {
     "data": {
      "text/plain": "<Figure size 432x288 with 1 Axes>",
      "image/png": "[encoded data removed]"
     },
     "metadata": {
      "needs_background": "light"
     },
     "output_type": "display_data"
    },
    {
     "name": "stdout",
     "output_type": "stream",
     "text": [
      "0.005085962348491359\n"
     ]
    },
    {
     "data": {
      "text/plain": "<Figure size 432x288 with 1 Axes>",
      "image/png": "[encoded data removed]"
     },
     "metadata": {
      "needs_background": "light"
     },
     "output_type": "display_data"
    },
    {
     "name": "stdout",
     "output_type": "stream",
     "text": [
      "0.005206116840165572\n"
     ]
    },
    {
     "data": {
      "text/plain": "<Figure size 432x288 with 1 Axes>",
      "image/png": "[encoded data removed]"
     },
     "metadata": {
      "needs_background": "light"
     },
     "output_type": "display_data"
    },
    {
     "name": "stdout",
     "output_type": "stream",
     "text": [
      "0.005209839302506715\n"
     ]
    },
    {
     "data": {
      "text/plain": "<Figure size 432x288 with 1 Axes>",
      "image/png": "[encoded data removed]"
     },
     "metadata": {
      "needs_background": "light"
     },
     "output_type": "display_data"
    }
   ],
   "source": [
    "#Showing the EdU channel images by lowest EdU to highest\n",
    "indices = np.array(df.sort_values(by=['EdU_pi']).index) #sort cells by smallest value of EdU\n",
    "for i in indices[:4]:\n",
    "    print(df['EdU_pi'][i])\n",
    "    plt.imshow(edu_crops[i],vmin=0,vmax=1);plt.show()"
   ],
   "metadata": {
    "collapsed": false,
    "pycharm": {
     "name": "#%%\n"
    }
   }
  },
  {
   "cell_type": "code",
   "execution_count": 166,
   "outputs": [],
   "source": [
    "#Applying the S phase rule\n",
    "\n",
    "#In the cell dataframe, we can now add the S phase label\n",
    "#Apply a rule where every row where EdU is lower than 500 is the S-phase\n",
    "background = 500 #pixel intensity\n",
    "s_phase_cells = df.loc[df[\"EdU_pi\"] >= 500, \"EdU_pi\"]\n",
    "df[\"S_Phase\"] = \"False\"\n",
    "df.loc[df[\"EdU_pi\"].isin(s_phase_cells), \"S_Phase\"] = \"True\""
   ],
   "metadata": {
    "collapsed": false,
    "pycharm": {
     "name": "#%%\n"
    }
   }
  },
  {
   "cell_type": "code",
   "execution_count": 167,
   "outputs": [
    {
     "name": "stdout",
     "output_type": "stream",
     "text": [
      "146\n",
      "0      False\n",
      "1      False\n",
      "2      False\n",
      "3      False\n",
      "4      False\n",
      "       ...  \n",
      "141    False\n",
      "142    False\n",
      "143    False\n",
      "144    False\n",
      "145    False\n",
      "Name: S_Phase, Length: 146, dtype: object\n"
     ]
    }
   ],
   "source": [
    "print(df.S_Phase.value_counts()[0])\n",
    "print(df.S_Phase)"
   ],
   "metadata": {
    "collapsed": false,
    "pycharm": {
     "name": "#%%\n"
    }
   }
  },
  {
   "cell_type": "code",
   "execution_count": 172,
   "outputs": [
    {
     "name": "stdout",
     "output_type": "stream",
     "text": [
      "                                         Gray cell img  integrated_int_DAPI  \\\n",
      "0    [[0.0353042228338037, 0.031815871123810194, 0....             0.081891   \n",
      "1    [[0.037539222044980454, 0.03568110505372763, 0...             0.060617   \n",
      "2    [[0.037635633775658664, 0.038073868915105086, ...             0.071780   \n",
      "3    [[0.04317492593826144, 0.04319245534383929, 0....             0.062195   \n",
      "4    [[0.03940610373902221, 0.03749539853103581, 0....             0.087572   \n",
      "..                                                 ...                  ...   \n",
      "141  [[0.05808368538222869, 0.058153803004540115, 0...             0.047726   \n",
      "142  [[0.059652567181446875, 0.06052903746033972, 0...             0.074366   \n",
      "143  [[0.052842393114449486, 0.052526863814048065, ...             0.097904   \n",
      "144  [[0.05951233193682402, 0.056926744614090134, 0...             0.050182   \n",
      "145  [[0.056357038932809786, 0.05409574561326625, 0...             0.103522   \n",
      "\n",
      "       EdU_pi  \n",
      "0    0.091203  \n",
      "1    0.014536  \n",
      "2    0.006403  \n",
      "3    0.010945  \n",
      "4    0.024413  \n",
      "..        ...  \n",
      "141  0.022392  \n",
      "142  0.006575  \n",
      "143  0.100872  \n",
      "144  0.033035  \n",
      "145  0.006339  \n",
      "\n",
      "[146 rows x 3 columns]\n"
     ]
    }
   ],
   "source": [
    "#Setting up the cell dataframe\n",
    "cell_data = {'Gray cell img': gray_crops, 'integrated_int_DAPI': dapi_values, 'EdU_pi': edu_values}\n",
    "df = pd.DataFrame(cell_data)\n",
    "print(df)"
   ],
   "metadata": {
    "collapsed": false,
    "pycharm": {
     "name": "#%%\n"
    }
   }
  },
  {
   "cell_type": "code",
   "execution_count": 175,
   "outputs": [],
   "source": [
    "def apply_S_phase_rule(df):\n",
    "    \"\"\"\n",
    "    This function adds a boolean column to indicate if a cell is in the S-phase\n",
    "    :param df: input dataframe where each row is a cell with a 'EdU_pi' column\n",
    "    :return: input dataframe with additional column 'S_phase'\n",
    "    \"\"\"\n",
    "\n",
    "    #Step 1: calculate the background color this serves as the threshold for the S-phase\n",
    "    EdU_threshold = get_EdU_threshold(df)\n",
    "\n",
    "    #Step 2: Use that threshold in each row to see if a cell is above or below\n",
    "    S_phase_cells = df.loc[df[\"EdU_pi\"] >= EdU_threshold, \"EdU_pi\"]\n",
    "    df[\"S_Phase\"] = \"False\"\n",
    "    df.loc[df[\"EdU_pi\"].isin(S_phase_cells), \"S_Phase\"] = \"True\"\n",
    "\n",
    "    return df"
   ],
   "metadata": {
    "collapsed": false,
    "pycharm": {
     "name": "#%%\n"
    }
   }
  },
  {
   "cell_type": "code",
   "execution_count": 178,
   "outputs": [
    {
     "name": "stdout",
     "output_type": "stream",
     "text": [
      "                                         Gray cell img  integrated_int_DAPI  \\\n",
      "0    [[0.0353042228338037, 0.031815871123810194, 0....             0.081891   \n",
      "1    [[0.037539222044980454, 0.03568110505372763, 0...             0.060617   \n",
      "2    [[0.037635633775658664, 0.038073868915105086, ...             0.071780   \n",
      "3    [[0.04317492593826144, 0.04319245534383929, 0....             0.062195   \n",
      "4    [[0.03940610373902221, 0.03749539853103581, 0....             0.087572   \n",
      "..                                                 ...                  ...   \n",
      "141  [[0.05808368538222869, 0.058153803004540115, 0...             0.047726   \n",
      "142  [[0.059652567181446875, 0.06052903746033972, 0...             0.074366   \n",
      "143  [[0.052842393114449486, 0.052526863814048065, ...             0.097904   \n",
      "144  [[0.05951233193682402, 0.056926744614090134, 0...             0.050182   \n",
      "145  [[0.056357038932809786, 0.05409574561326625, 0...             0.103522   \n",
      "\n",
      "       EdU_pi S_Phase  \n",
      "0    0.091203    True  \n",
      "1    0.014536    True  \n",
      "2    0.006403   False  \n",
      "3    0.010945    True  \n",
      "4    0.024413    True  \n",
      "..        ...     ...  \n",
      "141  0.022392    True  \n",
      "142  0.006575   False  \n",
      "143  0.100872    True  \n",
      "144  0.033035    True  \n",
      "145  0.006339   False  \n",
      "\n",
      "[146 rows x 4 columns] \n",
      "\n",
      "According to the background rule, there are 63 cells in the S phase.\n",
      "With 146 that is 43.15% of cells in S phase.\n"
     ]
    }
   ],
   "source": [
    "#Applying the S-phase rule\n",
    "df = apply_S_phase_rule(df)\n",
    "print(df,'\\n')\n",
    "\n",
    "#Printing some quantitative data about the cells found in S-phase\n",
    "num_total_cells = df.S_Phase.value_counts()[0]+df.S_Phase.value_counts()[1]\n",
    "num_in_s = df.S_Phase.value_counts()[1]\n",
    "percentage_in_S = round(df.S_Phase.value_counts()[1]*100/num_total_cells,2)\n",
    "print('According to the background rule, there are {} cells in the S phase.'.format(num_in_s))\n",
    "print('With {} cells that is {}% of cells in S phase.'.format(num_total_cells,percentage_in_S))"
   ],
   "metadata": {
    "collapsed": false,
    "pycharm": {
     "name": "#%%\n"
    }
   }
  },
  {
   "cell_type": "code",
   "execution_count": null,
   "outputs": [],
   "source": [
    "\n",
    "normalised = dna_norm(df)"
   ],
   "metadata": {
    "collapsed": false,
    "pycharm": {
     "name": "#%%\n"
    }
   }
  },
  {
   "cell_type": "code",
   "execution_count": null,
   "outputs": [],
   "source": [
    "#Rules given by Dr Hochegger for the cell cycle classification\n",
    "\n",
    "#G1: Cyclin A2 negative, EdU negative, DAPI<1.5\n",
    "#S: EdU > background\n",
    "#G2/M: DAPI (normalised) > 1.5, EdU < background, Cyclin > background\n",
    "\n",
    "#Terminology\n",
    "#DAPI is DAPI\n",
    "#Cy5 is the EdU\n",
    "#Alexa555 is PCNA\n",
    "#Alexa488 is Cyclin A2"
   ],
   "metadata": {
    "collapsed": false,
    "pycharm": {
     "name": "#%%\n"
    }
   }
  },
  {
   "cell_type": "code",
   "execution_count": null,
   "outputs": [],
   "source": [],
   "metadata": {
    "collapsed": false,
    "pycharm": {
     "name": "#%%\n"
    }
   }
  }
 ],
 "metadata": {
  "kernelspec": {
   "display_name": "Python 3 (ipykernel)",
   "language": "python",
   "name": "python3"
  },
  "language_info": {
   "codemirror_mode": {
    "name": "ipython",
    "version": 3
   },
   "file_extension": ".py",
   "mimetype": "text/x-python",
   "name": "python",
   "nbconvert_exporter": "python",
   "pygments_lexer": "ipython3",
   "version": "3.9.13"
  }
 },
 "nbformat": 4,
 "nbformat_minor": 1
}