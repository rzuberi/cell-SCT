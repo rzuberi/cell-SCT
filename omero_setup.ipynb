{
 "cells": [
  {
   "cell_type": "markdown",
   "source": [
    "# Setup Omero\n",
    "\n",
    "This notebook goes through checking if Omero can connect to this project through Python. You will need the hostname, your username and password to access it."
   ],
   "metadata": {
    "collapsed": false,
    "pycharm": {
     "name": "#%% md\n"
    }
   }
  },
  {
   "cell_type": "code",
   "execution_count": 10,
   "outputs": [
    {
     "name": "stdout",
     "output_type": "stream",
     "text": [
      "Connected as rz200\n"
     ]
    }
   ],
   "source": [
    "# Function to connect to the Omero server\n",
    "# Might clean this up into a separate py file if more is added to this notebook\n",
    "\n",
    "from omero.gateway import BlitzGateway\n",
    "from getpass import getpass\n",
    "\n",
    "# Function that connects the user to the omero server\n",
    "def connect(hostname, username, password):\n",
    "    \"\"\"\n",
    "    Connect to an OMERO server\n",
    "    :param hostname: Host name\n",
    "    :param username: User\n",
    "    :param password: Password\n",
    "    :return: Connected BlitzGateway\n",
    "    \"\"\"\n",
    "    conn = BlitzGateway(username, password,\n",
    "                        host=hostname, secure=True)\n",
    "    conn.connect()\n",
    "    conn.c.enableKeepAlive(60)\n",
    "    return conn\n",
    "\n",
    "# Using the function from above\n",
    "HOST = 'ome2.hpc.sussex.ac.uk' #change if different\n",
    "conn = connect(HOST, input(\"Username: \"), getpass(\"OMERO Password: \"))\n",
    "try:\n",
    "    print('Connected as', conn.getUser().getName())\n",
    "except AttributeError:\n",
    "    print('You inputted a wrong username and/or password.')"
   ],
   "metadata": {
    "collapsed": false,
    "pycharm": {
     "name": "#%%\n"
    }
   }
  },
  {
   "cell_type": "code",
   "execution_count": 11,
   "outputs": [
    {
     "name": "stdout",
     "output_type": "stream",
     "text": [
      "Rehan_TrainingData_01\n"
     ]
    }
   ],
   "source": [
    "# Get a plate's images\n",
    "plate_id = 812\n",
    "plate = conn.getObject(\"Plate\", plate_id)\n",
    "plate_name=plate.name\n",
    "print (plate_name)"
   ],
   "metadata": {
    "collapsed": false,
    "pycharm": {
     "name": "#%%\n"
    }
   }
  },
  {
   "cell_type": "code",
   "execution_count": 16,
   "outputs": [],
   "source": [
    "import time"
   ],
   "metadata": {
    "collapsed": false,
    "pycharm": {
     "name": "#%%\n"
    }
   }
  },
  {
   "cell_type": "code",
   "execution_count": 44,
   "outputs": [
    {
     "name": "stdout",
     "output_type": "stream",
     "text": [
      "1/20\n",
      "2/20\n",
      "3/20\n",
      "4/20\n",
      "5/20\n",
      "6/20\n",
      "7/20\n",
      "8/20\n",
      "9/20\n",
      "10/20\n",
      "11/20\n",
      "12/20\n",
      "13/20\n",
      "14/20\n",
      "15/20\n",
      "16/20\n",
      "17/20\n",
      "18/20\n",
      "19/20\n",
      "20/20\n",
      "Execution time: 38.15134906768799 seconds\n"
     ]
    }
   ],
   "source": [
    "# Retrieve all images in a plate\n",
    "# Should change this to a numpy array\n",
    "# Lets time this, then change to a list comprehension and time it, then to a numpy array and time it\n",
    "import matplotlib.pyplot as plt\n",
    "st = time.time()\n",
    "\n",
    "dapi_imgs = [] #useless but just to have something to store\n",
    "wells = list(plate.listChildren())\n",
    "for i in range(len(wells)):\n",
    "    print(str(i+1)+'/'+str(len(wells)))\n",
    "    well = wells[i]\n",
    "    for number, item in enumerate(well.listChildren()):\n",
    "        image = well.getImage(number)\n",
    "        pixels = image.getPrimaryPixels() #what are primary pixels?\n",
    "        dapi_imgs.append(pixels.getPlane(0,0,0)) #does this get the dapi intensity of cells channel? interesting\n",
    "        #print(img_dapi.shape)\n",
    "\n",
    "et = time.time()\n",
    "print('Execution time:', str(et - st), 'seconds')"
   ],
   "metadata": {
    "collapsed": false,
    "pycharm": {
     "name": "#%%\n"
    }
   }
  },
  {
   "cell_type": "code",
   "execution_count": 200,
   "outputs": [
    {
     "name": "stdout",
     "output_type": "stream",
     "text": [
      "1/20\n",
      "2/20\n",
      "3/20\n",
      "4/20\n",
      "5/20\n",
      "6/20\n",
      "7/20\n",
      "8/20\n",
      "9/20\n",
      "10/20\n",
      "11/20\n",
      "12/20\n",
      "13/20\n",
      "14/20\n",
      "15/20\n",
      "16/20\n",
      "17/20\n",
      "18/20\n",
      "19/20\n",
      "20/20\n",
      "Execution time: 37.3217396736145 seconds\n"
     ]
    }
   ],
   "source": [
    "st = time.time()\n",
    "\n",
    "dapi_imgs = [] #useless but just to have something to store\n",
    "wells = list(plate.listChildren())\n",
    "for i in range(len(wells)):\n",
    "    print(str(i+1)+'/'+str(len(wells)))\n",
    "    well = wells[i]\n",
    "    dapi_imgs.extend([well.getImage(number).getPrimaryPixels().getPlane(0,0,0) for number, item in enumerate(well.listChildren())])\n",
    "\n",
    "et = time.time()\n",
    "print('Execution time:', str(et - st), 'seconds')"
   ],
   "metadata": {
    "collapsed": false,
    "pycharm": {
     "name": "#%%\n"
    }
   }
  },
  {
   "cell_type": "code",
   "execution_count": 201,
   "outputs": [
    {
     "name": "stdout",
     "output_type": "stream",
     "text": [
      "Collecting omero-cli-zarr\n",
      "  Downloading omero_cli_zarr-0.4.0-py3-none-any.whl (24 kB)\n",
      "Requirement already satisfied: omero-py>=5.6.0 in c:\\users\\rz200\\.conda\\envs\\celldev\\lib\\site-packages (from omero-cli-zarr) (5.11.2)\n",
      "Collecting ome-zarr>=0.5.0\n",
      "  Downloading ome_zarr-0.5.1-py3-none-any.whl (32 kB)\n",
      "Collecting fsspec[s3]!=2021.07.0\n",
      "  Downloading fsspec-2022.5.0-py3-none-any.whl (140 kB)\n",
      "Collecting aiohttp<4\n",
      "  Downloading aiohttp-3.8.1-cp38-cp38-win_amd64.whl (555 kB)\n",
      "Collecting toolz\n",
      "  Downloading toolz-0.11.2-py3-none-any.whl (55 kB)\n",
      "Requirement already satisfied: numpy in c:\\users\\rz200\\.conda\\envs\\celldev\\lib\\site-packages (from ome-zarr>=0.5.0->omero-cli-zarr) (1.22.4)\n",
      "Collecting dask\n",
      "  Downloading dask-2022.6.1-py3-none-any.whl (1.1 MB)\n",
      "Requirement already satisfied: requests in c:\\users\\rz200\\.conda\\envs\\celldev\\lib\\site-packages (from ome-zarr>=0.5.0->omero-cli-zarr) (2.28.1)\n",
      "Collecting scikit-image\n",
      "  Downloading scikit_image-0.19.3-cp38-cp38-win_amd64.whl (12.2 MB)\n",
      "Collecting zarr>=2.8.1\n",
      "  Downloading zarr-2.12.0-py3-none-any.whl (185 kB)\n",
      "Collecting yarl<2.0,>=1.0\n",
      "  Downloading yarl-1.7.2-cp38-cp38-win_amd64.whl (122 kB)\n",
      "Requirement already satisfied: attrs>=17.3.0 in c:\\users\\rz200\\.conda\\envs\\celldev\\lib\\site-packages (from aiohttp<4->ome-zarr>=0.5.0->omero-cli-zarr) (21.4.0)\n",
      "Collecting aiosignal>=1.1.2\n",
      "  Downloading aiosignal-1.2.0-py3-none-any.whl (8.2 kB)\n",
      "Collecting frozenlist>=1.1.1\n",
      "  Downloading frozenlist-1.3.0-cp38-cp38-win_amd64.whl (33 kB)\n",
      "Collecting async-timeout<5.0,>=4.0.0a3\n",
      "  Downloading async_timeout-4.0.2-py3-none-any.whl (5.8 kB)\n",
      "Collecting multidict<7.0,>=4.5\n",
      "  Downloading multidict-6.0.2-cp38-cp38-win_amd64.whl (28 kB)\n",
      "Requirement already satisfied: charset-normalizer<3.0,>=2.0 in c:\\users\\rz200\\.conda\\envs\\celldev\\lib\\site-packages (from aiohttp<4->ome-zarr>=0.5.0->omero-cli-zarr) (2.1.0)\n",
      "Collecting s3fs\n",
      "  Downloading s3fs-2022.5.0-py3-none-any.whl (27 kB)\n",
      "Requirement already satisfied: future in c:\\users\\rz200\\.conda\\envs\\celldev\\lib\\site-packages (from omero-py>=5.6.0->omero-cli-zarr) (0.18.2)\n",
      "Requirement already satisfied: zeroc-ice<3.7,>=3.6.4 in c:\\users\\rz200\\.conda\\envs\\celldev\\lib\\site-packages (from omero-py>=5.6.0->omero-cli-zarr) (3.6.5)\n",
      "Requirement already satisfied: PyYAML in c:\\users\\rz200\\.conda\\envs\\celldev\\lib\\site-packages (from omero-py>=5.6.0->omero-cli-zarr) (6.0)\n",
      "Requirement already satisfied: appdirs in c:\\users\\rz200\\.conda\\envs\\celldev\\lib\\site-packages (from omero-py>=5.6.0->omero-cli-zarr) (1.4.4)\n",
      "Requirement already satisfied: Pillow in c:\\users\\rz200\\.conda\\envs\\celldev\\lib\\site-packages (from omero-py>=5.6.0->omero-cli-zarr) (9.1.1)\n",
      "Requirement already satisfied: pywin32 in c:\\users\\rz200\\.conda\\envs\\celldev\\lib\\site-packages (from omero-py>=5.6.0->omero-cli-zarr) (302)\n",
      "Requirement already satisfied: idna>=2.0 in c:\\users\\rz200\\.conda\\envs\\celldev\\lib\\site-packages (from yarl<2.0,>=1.0->aiohttp<4->ome-zarr>=0.5.0->omero-cli-zarr) (3.3)\n",
      "Collecting asciitree\n",
      "  Downloading asciitree-0.3.3.tar.gz (4.0 kB)\n",
      "Collecting numcodecs>=0.6.4\n",
      "  Downloading numcodecs-0.10.0-cp38-cp38-win_amd64.whl (825 kB)\n",
      "Collecting fasteners\n",
      "  Downloading fasteners-0.17.3-py3-none-any.whl (18 kB)\n",
      "Requirement already satisfied: typing-extensions>=3.7.4 in c:\\users\\rz200\\.conda\\envs\\celldev\\lib\\site-packages (from numcodecs>=0.6.4->zarr>=2.8.1->ome-zarr>=0.5.0->omero-cli-zarr) (4.1.1)\n",
      "Collecting cloudpickle>=1.1.1\n",
      "  Downloading cloudpickle-2.1.0-py3-none-any.whl (25 kB)\n",
      "Requirement already satisfied: packaging>=20.0 in c:\\users\\rz200\\.conda\\envs\\celldev\\lib\\site-packages (from dask->ome-zarr>=0.5.0->omero-cli-zarr) (21.3)\n",
      "Collecting partd>=0.3.10\n",
      "  Downloading partd-1.2.0-py3-none-any.whl (19 kB)\n",
      "Requirement already satisfied: pyparsing!=3.0.5,>=2.0.2 in c:\\users\\rz200\\.conda\\envs\\celldev\\lib\\site-packages (from packaging>=20.0->dask->ome-zarr>=0.5.0->omero-cli-zarr) (3.0.4)\n",
      "Collecting locket\n",
      "  Downloading locket-1.0.0-py2.py3-none-any.whl (4.4 kB)\n",
      "Requirement already satisfied: urllib3<1.27,>=1.21.1 in c:\\users\\rz200\\.conda\\envs\\celldev\\lib\\site-packages (from requests->ome-zarr>=0.5.0->omero-cli-zarr) (1.26.9)\n",
      "Requirement already satisfied: certifi>=2017.4.17 in c:\\users\\rz200\\.conda\\envs\\celldev\\lib\\site-packages (from requests->ome-zarr>=0.5.0->omero-cli-zarr) (2022.5.18.1)\n",
      "Collecting aiobotocore~=2.3.0\n",
      "  Downloading aiobotocore-2.3.4-py3-none-any.whl (64 kB)\n",
      "Collecting aioitertools>=0.5.1\n",
      "  Downloading aioitertools-0.10.0-py3-none-any.whl (23 kB)\n",
      "Collecting wrapt>=1.10.10\n",
      "  Downloading wrapt-1.14.1-cp38-cp38-win_amd64.whl (35 kB)\n",
      "Collecting botocore<1.24.22,>=1.24.21\n",
      "  Downloading botocore-1.24.21-py3-none-any.whl (8.6 MB)\n",
      "Collecting jmespath<2.0.0,>=0.7.1\n",
      "  Downloading jmespath-1.0.1-py3-none-any.whl (20 kB)\n",
      "Requirement already satisfied: python-dateutil<3.0.0,>=2.1 in c:\\users\\rz200\\.conda\\envs\\celldev\\lib\\site-packages (from botocore<1.24.22,>=1.24.21->aiobotocore~=2.3.0->s3fs->fsspec[s3]!=2021.07.0->ome-zarr>=0.5.0->omero-cli-zarr) (2.8.2)\n",
      "Requirement already satisfied: six>=1.5 in c:\\users\\rz200\\.conda\\envs\\celldev\\lib\\site-packages (from python-dateutil<3.0.0,>=2.1->botocore<1.24.22,>=1.24.21->aiobotocore~=2.3.0->s3fs->fsspec[s3]!=2021.07.0->ome-zarr>=0.5.0->omero-cli-zarr) (1.16.0)\n",
      "Collecting networkx>=2.2\n",
      "  Downloading networkx-2.8.4-py3-none-any.whl (2.0 MB)\n",
      "Requirement already satisfied: scipy>=1.4.1 in c:\\users\\rz200\\.conda\\envs\\celldev\\lib\\site-packages (from scikit-image->ome-zarr>=0.5.0->omero-cli-zarr) (1.8.1)\n",
      "Requirement already satisfied: tifffile>=2019.7.26 in c:\\users\\rz200\\.conda\\envs\\celldev\\lib\\site-packages (from scikit-image->ome-zarr>=0.5.0->omero-cli-zarr) (2022.5.4)\n",
      "Collecting imageio>=2.4.1\n",
      "  Downloading imageio-2.19.3-py3-none-any.whl (3.4 MB)\n",
      "Collecting PyWavelets>=1.1.1\n",
      "  Downloading PyWavelets-1.3.0-cp38-cp38-win_amd64.whl (4.2 MB)\n",
      "Building wheels for collected packages: asciitree\n",
      "  Building wheel for asciitree (setup.py): started\n",
      "  Building wheel for asciitree (setup.py): finished with status 'done'\n",
      "  Created wheel for asciitree: filename=asciitree-0.3.3-py3-none-any.whl size=5050 sha256=d45c8b58ec57d4476055f723ad6bf426b5053a5280fd771ef254ebbbc89183dc\n",
      "  Stored in directory: c:\\users\\rz200\\appdata\\local\\pip\\cache\\wheels\\a3\\d7\\75\\19cd0d2a893cad4bb0b2b16dd572ad2916d19c0d5ee9612511\n",
      "Successfully built asciitree\n",
      "Installing collected packages: multidict, frozenlist, yarl, jmespath, async-timeout, aiosignal, wrapt, botocore, aioitertools, aiohttp, toolz, locket, fsspec, aiobotocore, s3fs, PyWavelets, partd, numcodecs, networkx, imageio, fasteners, cloudpickle, asciitree, zarr, scikit-image, dask, ome-zarr, omero-cli-zarr\n",
      "Successfully installed PyWavelets-1.3.0 aiobotocore-2.3.4 aiohttp-3.8.1 aioitertools-0.10.0 aiosignal-1.2.0 asciitree-0.3.3 async-timeout-4.0.2 botocore-1.24.21 cloudpickle-2.1.0 dask-2022.6.1 fasteners-0.17.3 frozenlist-1.3.0 fsspec-2022.5.0 imageio-2.19.3 jmespath-1.0.1 locket-1.0.0 multidict-6.0.2 networkx-2.8.4 numcodecs-0.10.0 ome-zarr-0.5.1 omero-cli-zarr-0.4.0 partd-1.2.0 s3fs-2022.5.0 scikit-image-0.19.3 toolz-0.11.2 wrapt-1.14.1 yarl-1.7.2 zarr-2.12.0\n"
     ]
    }
   ],
   "source": [
    "!pip install omero-cli-zarr"
   ],
   "metadata": {
    "collapsed": false,
    "pycharm": {
     "name": "#%%\n"
    }
   }
  },
  {
   "cell_type": "code",
   "execution_count": 45,
   "outputs": [
    {
     "name": "stdout",
     "output_type": "stream",
     "text": [
      "Execution time: 36.19126009941101 seconds\n"
     ]
    }
   ],
   "source": [
    "st = time.time()\n",
    "dapi_imgs = [well.getImage(number).getPrimaryPixels().getPlane(0,0,0) for number, item in enumerate(well.listChildren()) for well in wells]\n",
    "et = time.time()\n",
    "print('Execution time:', str(et - st), 'seconds')"
   ],
   "metadata": {
    "collapsed": false,
    "pycharm": {
     "name": "#%%\n"
    }
   }
  },
  {
   "cell_type": "code",
   "execution_count": 60,
   "outputs": [
    {
     "name": "stdout",
     "output_type": "stream",
     "text": [
      "20\n",
      "0\n",
      "1\n",
      "2\n",
      "3\n",
      "4\n",
      "5\n",
      "6\n",
      "7\n",
      "8\n"
     ]
    },
    {
     "ename": "TypeError",
     "evalue": "'enumerate' object is not subscriptable",
     "output_type": "error",
     "traceback": [
      "\u001B[1;31m---------------------------------------------------------------------------\u001B[0m",
      "\u001B[1;31mTypeError\u001B[0m                                 Traceback (most recent call last)",
      "Input \u001B[1;32mIn [60]\u001B[0m, in \u001B[0;36m<cell line: 4>\u001B[1;34m()\u001B[0m\n\u001B[0;32m      2\u001B[0m \u001B[38;5;28;01mfor\u001B[39;00m number, item \u001B[38;5;129;01min\u001B[39;00m \u001B[38;5;28menumerate\u001B[39m(well\u001B[38;5;241m.\u001B[39mlistChildren()):\n\u001B[0;32m      3\u001B[0m     \u001B[38;5;28mprint\u001B[39m(number)\n\u001B[1;32m----> 4\u001B[0m \u001B[38;5;28mprint\u001B[39m(\u001B[38;5;28;43menumerate\u001B[39;49m\u001B[43m(\u001B[49m\u001B[43mwell\u001B[49m\u001B[38;5;241;43m.\u001B[39;49m\u001B[43mlistChildren\u001B[49m\u001B[43m(\u001B[49m\u001B[43m)\u001B[49m\u001B[43m)\u001B[49m\u001B[43m[\u001B[49m\u001B[38;5;241;43m0\u001B[39;49m\u001B[43m]\u001B[49m)\n",
      "\u001B[1;31mTypeError\u001B[0m: 'enumerate' object is not subscriptable"
     ]
    }
   ],
   "source": [
    "print(len(wells))\n",
    "for number, item in enumerate(well.listChildren()):\n",
    "    print(number)\n",
    "print(enumerate(well.listChildren())[0])\n",
    "#print(enumerate(wells[i]))"
   ],
   "metadata": {
    "collapsed": false,
    "pycharm": {
     "name": "#%%\n"
    }
   }
  },
  {
   "cell_type": "code",
   "execution_count": 63,
   "outputs": [
    {
     "name": "stdout",
     "output_type": "stream",
     "text": [
      "9\n"
     ]
    }
   ],
   "source": [
    "print(len(list(well.listChildren())))"
   ],
   "metadata": {
    "collapsed": false,
    "pycharm": {
     "name": "#%%\n"
    }
   }
  },
  {
   "cell_type": "code",
   "execution_count": 104,
   "outputs": [
    {
     "name": "stdout",
     "output_type": "stream",
     "text": [
      "[<_WellWrapper id=6450> <_WellWrapper id=6449> <_WellWrapper id=6448>\n",
      " <_WellWrapper id=6447> <_WellWrapper id=6446> <_WellWrapper id=6445>\n",
      " <_WellWrapper id=6444> <_WellWrapper id=6443> <_WellWrapper id=6442>\n",
      " <_WellWrapper id=6441> <_WellWrapper id=6440> <_WellWrapper id=6439>\n",
      " <_WellWrapper id=6438> <_WellWrapper id=6437> <_WellWrapper id=6436>\n",
      " <_WellWrapper id=6435> <_WellWrapper id=6434> <_WellWrapper id=6433>\n",
      " <_WellWrapper id=6432> <_WellWrapper id=6431>]\n",
      "<class 'omero.gateway._WellWrapper'>\n",
      "[0 1 2 3 4 5 6 7 8]\n"
     ]
    },
    {
     "ename": "TypeError",
     "evalue": "only size-1 arrays can be converted to Python scalars",
     "output_type": "error",
     "traceback": [
      "\u001B[1;31m---------------------------------------------------------------------------\u001B[0m",
      "\u001B[1;31mTypeError\u001B[0m                                 Traceback (most recent call last)",
      "Input \u001B[1;32mIn [104]\u001B[0m, in \u001B[0;36m<cell line: 12>\u001B[1;34m()\u001B[0m\n\u001B[0;32m     10\u001B[0m \u001B[38;5;28mprint\u001B[39m(well_1)\n\u001B[0;32m     11\u001B[0m x \u001B[38;5;241m=\u001B[39m np\u001B[38;5;241m.\u001B[39marange(\u001B[38;5;241m9\u001B[39m)\n\u001B[1;32m---> 12\u001B[0m well_1[x] \u001B[38;5;241m=\u001B[39m \u001B[43mwells\u001B[49m\u001B[43m[\u001B[49m\u001B[38;5;241;43m0\u001B[39;49m\u001B[43m]\u001B[49m\u001B[38;5;241;43m.\u001B[39;49m\u001B[43mgetImage\u001B[49m\u001B[43m(\u001B[49m\u001B[43mx\u001B[49m\u001B[43m)\u001B[49m\u001B[38;5;241m.\u001B[39mgetPrimaryPixels()\u001B[38;5;241m.\u001B[39mgetPlane(\u001B[38;5;241m0\u001B[39m,\u001B[38;5;241m0\u001B[39m,\u001B[38;5;241m0\u001B[39m)\n\u001B[0;32m     13\u001B[0m \u001B[38;5;28mprint\u001B[39m(well_1)\n",
      "File \u001B[1;32m~\\.conda\\envs\\celldev\\lib\\site-packages\\omero\\gateway\\__init__.py:7015\u001B[0m, in \u001B[0;36m_WellWrapper.getImage\u001B[1;34m(self, index)\u001B[0m\n\u001B[0;32m   7004\u001B[0m \u001B[38;5;28;01mdef\u001B[39;00m \u001B[38;5;21mgetImage\u001B[39m(\u001B[38;5;28mself\u001B[39m, index\u001B[38;5;241m=\u001B[39m\u001B[38;5;28;01mNone\u001B[39;00m):\n\u001B[0;32m   7005\u001B[0m     \u001B[38;5;124;03m\"\"\"\u001B[39;00m\n\u001B[0;32m   7006\u001B[0m \u001B[38;5;124;03m    Return the image at the specified well sample index. If index is\u001B[39;00m\n\u001B[0;32m   7007\u001B[0m \u001B[38;5;124;03m    omitted, the currently selected index is used instead (self.index) and\u001B[39;00m\n\u001B[1;32m   (...)\u001B[0m\n\u001B[0;32m   7013\u001B[0m \u001B[38;5;124;03m    :rtype:     :class:`ImageWrapper`\u001B[39;00m\n\u001B[0;32m   7014\u001B[0m \u001B[38;5;124;03m    \"\"\"\u001B[39;00m\n\u001B[1;32m-> 7015\u001B[0m     wellsample \u001B[38;5;241m=\u001B[39m \u001B[38;5;28;43mself\u001B[39;49m\u001B[38;5;241;43m.\u001B[39;49m\u001B[43mgetWellSample\u001B[49m\u001B[43m(\u001B[49m\u001B[43mindex\u001B[49m\u001B[43m)\u001B[49m\n\u001B[0;32m   7016\u001B[0m     \u001B[38;5;28;01mif\u001B[39;00m wellsample:\n\u001B[0;32m   7017\u001B[0m         \u001B[38;5;28;01mreturn\u001B[39;00m wellsample\u001B[38;5;241m.\u001B[39mgetImage()\n",
      "File \u001B[1;32m~\\.conda\\envs\\celldev\\lib\\site-packages\\omero\\gateway\\__init__.py:6998\u001B[0m, in \u001B[0;36m_WellWrapper.getWellSample\u001B[1;34m(self, index)\u001B[0m\n\u001B[0;32m   6996\u001B[0m \u001B[38;5;28;01mif\u001B[39;00m index \u001B[38;5;129;01mis\u001B[39;00m \u001B[38;5;28;01mNone\u001B[39;00m:\n\u001B[0;32m   6997\u001B[0m     index \u001B[38;5;241m=\u001B[39m \u001B[38;5;241m0\u001B[39m\n\u001B[1;32m-> 6998\u001B[0m index \u001B[38;5;241m=\u001B[39m \u001B[38;5;28;43mint\u001B[39;49m\u001B[43m(\u001B[49m\u001B[43mindex\u001B[49m\u001B[43m)\u001B[49m\n\u001B[0;32m   6999\u001B[0m childnodes \u001B[38;5;241m=\u001B[39m \u001B[38;5;28mself\u001B[39m\u001B[38;5;241m.\u001B[39m_listChildren()\n\u001B[0;32m   7000\u001B[0m \u001B[38;5;28;01mif\u001B[39;00m \u001B[38;5;28mlen\u001B[39m(childnodes) \u001B[38;5;241m>\u001B[39m index:\n",
      "\u001B[1;31mTypeError\u001B[0m: only size-1 arrays can be converted to Python scalars"
     ]
    }
   ],
   "source": [
    "import numpy as np\n",
    "# get all the well objects\n",
    "wells = np.array(list(plate.listChildren()))\n",
    "print(wells)\n",
    "print(type(wells[0]))\n",
    "#img_index_per_well = np.array([[wells[i].getImage(number).getPrimaryPixels().getPlane(0,0,0) for number, item in enumerate(wells[i].listChildren())] for i in range(len(wells))])\n",
    "\n",
    "#let's create one numpy array with all images from one well\n",
    "well_1 = np.arange(9)\n",
    "print(well_1)\n",
    "x = np.arange(9)\n",
    "well_1[x] = wells[0].getImage(x).getPrimaryPixels().getPlane(0,0,0)\n",
    "print(well_1)\n",
    "\n",
    "#img_index_per_well[arr > 255] = x\n",
    "\n",
    "#print(img_index_per_well)\n",
    "#well = wells\n",
    "# get the number of all images in a well\n",
    "#rand_arr_test = np.arange(4)[:,np.newaxis]\n",
    "#print(rand_arr_test)"
   ],
   "metadata": {
    "collapsed": false,
    "pycharm": {
     "name": "#%%\n"
    }
   }
  },
  {
   "cell_type": "code",
   "execution_count": 117,
   "outputs": [
    {
     "name": "stdout",
     "output_type": "stream",
     "text": [
      "[[15. 15. 15. ... 15. 15. 15.]\n",
      " [15. 15. 15. ... 15. 15. 15.]\n",
      " [15. 15. 15. ... 15. 15. 15.]]\n"
     ]
    }
   ],
   "source": [
    "x = range(3)\n",
    "M = len(x)\n",
    "sample = np.empty((M, 41632))\n",
    "for i in range(M):\n",
    "    sample[i, :] = 15\n",
    "print(sample)"
   ],
   "metadata": {
    "collapsed": false,
    "pycharm": {
     "name": "#%%\n"
    }
   }
  },
  {
   "cell_type": "code",
   "execution_count": 123,
   "outputs": [
    {
     "name": "stdout",
     "output_type": "stream",
     "text": [
      "<class 'omero.gateway._WellWrapper'>\n"
     ]
    }
   ],
   "source": [
    "print(type(wells[0]))"
   ],
   "metadata": {
    "collapsed": false,
    "pycharm": {
     "name": "#%%\n"
    }
   }
  },
  {
   "cell_type": "code",
   "execution_count": 145,
   "outputs": [
    {
     "name": "stdout",
     "output_type": "stream",
     "text": [
      "(20, 9)\n",
      "[[0. 1. 2. 3. 4. 5. 6. 7. 8.]\n",
      " [0. 1. 2. 3. 4. 5. 6. 7. 8.]\n",
      " [0. 1. 2. 3. 4. 5. 6. 7. 8.]\n",
      " [0. 1. 2. 3. 4. 5. 6. 7. 8.]\n",
      " [0. 1. 2. 3. 4. 5. 6. 7. 8.]\n",
      " [0. 1. 2. 3. 4. 5. 6. 7. 8.]\n",
      " [0. 1. 2. 3. 4. 5. 6. 7. 8.]\n",
      " [0. 1. 2. 3. 4. 5. 6. 7. 8.]\n",
      " [0. 1. 2. 3. 4. 5. 6. 7. 8.]\n",
      " [0. 1. 2. 3. 4. 5. 6. 7. 8.]\n",
      " [0. 1. 2. 3. 4. 5. 6. 7. 8.]\n",
      " [0. 1. 2. 3. 4. 5. 6. 7. 8.]\n",
      " [0. 1. 2. 3. 4. 5. 6. 7. 8.]\n",
      " [0. 1. 2. 3. 4. 5. 6. 7. 8.]\n",
      " [0. 1. 2. 3. 4. 5. 6. 7. 8.]\n",
      " [0. 1. 2. 3. 4. 5. 6. 7. 8.]\n",
      " [0. 1. 2. 3. 4. 5. 6. 7. 8.]\n",
      " [0. 1. 2. 3. 4. 5. 6. 7. 8.]\n",
      " [0. 1. 2. 3. 4. 5. 6. 7. 8.]\n",
      " [0. 1. 2. 3. 4. 5. 6. 7. 8.]]\n"
     ]
    }
   ],
   "source": [
    "x = range(len(np.array(list(plate.listChildren()))))\n",
    "M = len(x)\n",
    "sample = np.empty((M, len(list(wells[0].listChildren()))))\n",
    "y = np.arange(9)\n",
    "for i in range(M):\n",
    "    #sample[i, :] = wells[i].getImage(y).getPrimaryPixels().getPlane(0,0,0)\n",
    "    sample[i,:] = y\n",
    "print(sample.shape)\n",
    "print(sample)"
   ],
   "metadata": {
    "collapsed": false,
    "pycharm": {
     "name": "#%%\n"
    }
   }
  },
  {
   "cell_type": "code",
   "execution_count": 151,
   "outputs": [
    {
     "name": "stdout",
     "output_type": "stream",
     "text": [
      "[0.00000000e+000 6.95207474e-310 6.77364000e-321             nan\n",
      " 1.12646967e-321 0.00000000e+000 2.11160529e+257 6.61020367e-062\n",
      " 3.63513182e+228]\n"
     ]
    },
    {
     "ename": "TypeError",
     "evalue": "only size-1 arrays can be converted to Python scalars",
     "output_type": "error",
     "traceback": [
      "\u001B[1;31m---------------------------------------------------------------------------\u001B[0m",
      "\u001B[1;31mTypeError\u001B[0m                                 Traceback (most recent call last)",
      "Input \u001B[1;32mIn [151]\u001B[0m, in \u001B[0;36m<cell line: 11>\u001B[1;34m()\u001B[0m\n\u001B[0;32m      9\u001B[0m     \u001B[38;5;28mprint\u001B[39m(x)\n\u001B[0;32m     10\u001B[0m     \u001B[38;5;28;01mreturn\u001B[39;00m wells[\u001B[38;5;241m0\u001B[39m]\u001B[38;5;241m.\u001B[39mgetImage(x)\u001B[38;5;241m.\u001B[39mgetPrimaryPixels()\u001B[38;5;241m.\u001B[39mgetPlane(\u001B[38;5;241m0\u001B[39m,\u001B[38;5;241m0\u001B[39m,\u001B[38;5;241m0\u001B[39m)\n\u001B[1;32m---> 11\u001B[0m \u001B[43mnp\u001B[49m\u001B[38;5;241;43m.\u001B[39;49m\u001B[43mapply_along_axis\u001B[49m\u001B[43m(\u001B[49m\u001B[43mget_DAPI_img\u001B[49m\u001B[43m,\u001B[49m\u001B[43m \u001B[49m\u001B[43maxis\u001B[49m\u001B[38;5;241;43m=\u001B[39;49m\u001B[38;5;241;43m1\u001B[39;49m\u001B[43m,\u001B[49m\u001B[43m \u001B[49m\u001B[43marr\u001B[49m\u001B[38;5;241;43m=\u001B[39;49m\u001B[43msample\u001B[49m\u001B[43m)\u001B[49m\n\u001B[0;32m     12\u001B[0m \u001B[38;5;28mprint\u001B[39m(sample\u001B[38;5;241m.\u001B[39mshape)\n\u001B[0;32m     13\u001B[0m \u001B[38;5;28mprint\u001B[39m(sample)\n",
      "File \u001B[1;32m<__array_function__ internals>:180\u001B[0m, in \u001B[0;36mapply_along_axis\u001B[1;34m(*args, **kwargs)\u001B[0m\n",
      "File \u001B[1;32m~\\.conda\\envs\\celldev\\lib\\site-packages\\numpy\\lib\\shape_base.py:379\u001B[0m, in \u001B[0;36mapply_along_axis\u001B[1;34m(func1d, axis, arr, *args, **kwargs)\u001B[0m\n\u001B[0;32m    375\u001B[0m \u001B[38;5;28;01mexcept\u001B[39;00m \u001B[38;5;167;01mStopIteration\u001B[39;00m \u001B[38;5;28;01mas\u001B[39;00m e:\n\u001B[0;32m    376\u001B[0m     \u001B[38;5;28;01mraise\u001B[39;00m \u001B[38;5;167;01mValueError\u001B[39;00m(\n\u001B[0;32m    377\u001B[0m         \u001B[38;5;124m'\u001B[39m\u001B[38;5;124mCannot apply_along_axis when any iteration dimensions are 0\u001B[39m\u001B[38;5;124m'\u001B[39m\n\u001B[0;32m    378\u001B[0m     ) \u001B[38;5;28;01mfrom\u001B[39;00m \u001B[38;5;28mNone\u001B[39m\n\u001B[1;32m--> 379\u001B[0m res \u001B[38;5;241m=\u001B[39m asanyarray(\u001B[43mfunc1d\u001B[49m\u001B[43m(\u001B[49m\u001B[43minarr_view\u001B[49m\u001B[43m[\u001B[49m\u001B[43mind0\u001B[49m\u001B[43m]\u001B[49m\u001B[43m,\u001B[49m\u001B[43m \u001B[49m\u001B[38;5;241;43m*\u001B[39;49m\u001B[43margs\u001B[49m\u001B[43m,\u001B[49m\u001B[43m \u001B[49m\u001B[38;5;241;43m*\u001B[39;49m\u001B[38;5;241;43m*\u001B[39;49m\u001B[43mkwargs\u001B[49m\u001B[43m)\u001B[49m)\n\u001B[0;32m    381\u001B[0m \u001B[38;5;66;03m# build a buffer for storing evaluations of func1d.\u001B[39;00m\n\u001B[0;32m    382\u001B[0m \u001B[38;5;66;03m# remove the requested axis, and add the new ones on the end.\u001B[39;00m\n\u001B[0;32m    383\u001B[0m \u001B[38;5;66;03m# laid out so that each write is contiguous.\u001B[39;00m\n\u001B[0;32m    384\u001B[0m \u001B[38;5;66;03m# for a tuple index inds, buff[inds] = func1d(inarr_view[inds])\u001B[39;00m\n\u001B[0;32m    385\u001B[0m buff \u001B[38;5;241m=\u001B[39m zeros(inarr_view\u001B[38;5;241m.\u001B[39mshape[:\u001B[38;5;241m-\u001B[39m\u001B[38;5;241m1\u001B[39m] \u001B[38;5;241m+\u001B[39m res\u001B[38;5;241m.\u001B[39mshape, res\u001B[38;5;241m.\u001B[39mdtype)\n",
      "Input \u001B[1;32mIn [151]\u001B[0m, in \u001B[0;36mget_DAPI_img\u001B[1;34m(x)\u001B[0m\n\u001B[0;32m      8\u001B[0m \u001B[38;5;28;01mdef\u001B[39;00m \u001B[38;5;21mget_DAPI_img\u001B[39m(x):\n\u001B[0;32m      9\u001B[0m     \u001B[38;5;28mprint\u001B[39m(x)\n\u001B[1;32m---> 10\u001B[0m     \u001B[38;5;28;01mreturn\u001B[39;00m \u001B[43mwells\u001B[49m\u001B[43m[\u001B[49m\u001B[38;5;241;43m0\u001B[39;49m\u001B[43m]\u001B[49m\u001B[38;5;241;43m.\u001B[39;49m\u001B[43mgetImage\u001B[49m\u001B[43m(\u001B[49m\u001B[43mx\u001B[49m\u001B[43m)\u001B[49m\u001B[38;5;241m.\u001B[39mgetPrimaryPixels()\u001B[38;5;241m.\u001B[39mgetPlane(\u001B[38;5;241m0\u001B[39m,\u001B[38;5;241m0\u001B[39m,\u001B[38;5;241m0\u001B[39m)\n",
      "File \u001B[1;32m~\\.conda\\envs\\celldev\\lib\\site-packages\\omero\\gateway\\__init__.py:7015\u001B[0m, in \u001B[0;36m_WellWrapper.getImage\u001B[1;34m(self, index)\u001B[0m\n\u001B[0;32m   7004\u001B[0m \u001B[38;5;28;01mdef\u001B[39;00m \u001B[38;5;21mgetImage\u001B[39m(\u001B[38;5;28mself\u001B[39m, index\u001B[38;5;241m=\u001B[39m\u001B[38;5;28;01mNone\u001B[39;00m):\n\u001B[0;32m   7005\u001B[0m     \u001B[38;5;124;03m\"\"\"\u001B[39;00m\n\u001B[0;32m   7006\u001B[0m \u001B[38;5;124;03m    Return the image at the specified well sample index. If index is\u001B[39;00m\n\u001B[0;32m   7007\u001B[0m \u001B[38;5;124;03m    omitted, the currently selected index is used instead (self.index) and\u001B[39;00m\n\u001B[1;32m   (...)\u001B[0m\n\u001B[0;32m   7013\u001B[0m \u001B[38;5;124;03m    :rtype:     :class:`ImageWrapper`\u001B[39;00m\n\u001B[0;32m   7014\u001B[0m \u001B[38;5;124;03m    \"\"\"\u001B[39;00m\n\u001B[1;32m-> 7015\u001B[0m     wellsample \u001B[38;5;241m=\u001B[39m \u001B[38;5;28;43mself\u001B[39;49m\u001B[38;5;241;43m.\u001B[39;49m\u001B[43mgetWellSample\u001B[49m\u001B[43m(\u001B[49m\u001B[43mindex\u001B[49m\u001B[43m)\u001B[49m\n\u001B[0;32m   7016\u001B[0m     \u001B[38;5;28;01mif\u001B[39;00m wellsample:\n\u001B[0;32m   7017\u001B[0m         \u001B[38;5;28;01mreturn\u001B[39;00m wellsample\u001B[38;5;241m.\u001B[39mgetImage()\n",
      "File \u001B[1;32m~\\.conda\\envs\\celldev\\lib\\site-packages\\omero\\gateway\\__init__.py:6998\u001B[0m, in \u001B[0;36m_WellWrapper.getWellSample\u001B[1;34m(self, index)\u001B[0m\n\u001B[0;32m   6996\u001B[0m \u001B[38;5;28;01mif\u001B[39;00m index \u001B[38;5;129;01mis\u001B[39;00m \u001B[38;5;28;01mNone\u001B[39;00m:\n\u001B[0;32m   6997\u001B[0m     index \u001B[38;5;241m=\u001B[39m \u001B[38;5;241m0\u001B[39m\n\u001B[1;32m-> 6998\u001B[0m index \u001B[38;5;241m=\u001B[39m \u001B[38;5;28;43mint\u001B[39;49m\u001B[43m(\u001B[49m\u001B[43mindex\u001B[49m\u001B[43m)\u001B[49m\n\u001B[0;32m   6999\u001B[0m childnodes \u001B[38;5;241m=\u001B[39m \u001B[38;5;28mself\u001B[39m\u001B[38;5;241m.\u001B[39m_listChildren()\n\u001B[0;32m   7000\u001B[0m \u001B[38;5;28;01mif\u001B[39;00m \u001B[38;5;28mlen\u001B[39m(childnodes) \u001B[38;5;241m>\u001B[39m index:\n",
      "\u001B[1;31mTypeError\u001B[0m: only size-1 arrays can be converted to Python scalars"
     ]
    }
   ],
   "source": [
    "x = range(len(np.array(list(plate.listChildren()))))\n",
    "M = len(x)\n",
    "sample = np.empty((M, len(list(wells[0].listChildren()))))\n",
    "y = np.arange(9)\n",
    "for i in range(M):\n",
    "    #sample[i, :] = wells[i].getImage(y).getPrimaryPixels().getPlane(0,0,0)\n",
    "    #sample[i,:] = y\n",
    "def get_DAPI_img(x):\n",
    "    print(x)\n",
    "    return wells[0].getImage(x).getPrimaryPixels().getPlane(0,0,0)\n",
    "np.apply_along_axis(get_DAPI_img, axis=1, arr=sample)\n",
    "print(sample.shape)\n",
    "print(sample)"
   ],
   "metadata": {
    "collapsed": false,
    "pycharm": {
     "name": "#%%\n"
    }
   }
  },
  {
   "cell_type": "code",
   "execution_count": 178,
   "outputs": [
    {
     "name": "stdout",
     "output_type": "stream",
     "text": [
      "[[0. 1. 2. 3. 4. 5. 6. 7. 8.]\n",
      " [0. 1. 2. 3. 4. 5. 6. 7. 8.]\n",
      " [0. 1. 2. 3. 4. 5. 6. 7. 8.]\n",
      " [0. 1. 2. 3. 4. 5. 6. 7. 8.]\n",
      " [0. 1. 2. 3. 4. 5. 6. 7. 8.]\n",
      " [0. 1. 2. 3. 4. 5. 6. 7. 8.]\n",
      " [0. 1. 2. 3. 4. 5. 6. 7. 8.]\n",
      " [0. 1. 2. 3. 4. 5. 6. 7. 8.]\n",
      " [0. 1. 2. 3. 4. 5. 6. 7. 8.]\n",
      " [0. 1. 2. 3. 4. 5. 6. 7. 8.]\n",
      " [0. 1. 2. 3. 4. 5. 6. 7. 8.]\n",
      " [0. 1. 2. 3. 4. 5. 6. 7. 8.]\n",
      " [0. 1. 2. 3. 4. 5. 6. 7. 8.]\n",
      " [0. 1. 2. 3. 4. 5. 6. 7. 8.]\n",
      " [0. 1. 2. 3. 4. 5. 6. 7. 8.]\n",
      " [0. 1. 2. 3. 4. 5. 6. 7. 8.]\n",
      " [0. 1. 2. 3. 4. 5. 6. 7. 8.]\n",
      " [0. 1. 2. 3. 4. 5. 6. 7. 8.]\n",
      " [0. 1. 2. 3. 4. 5. 6. 7. 8.]\n",
      " [0. 1. 2. 3. 4. 5. 6. 7. 8.]]\n"
     ]
    },
    {
     "ename": "ValueError",
     "evalue": "setting an array element with a sequence.",
     "output_type": "error",
     "traceback": [
      "\u001B[1;31m---------------------------------------------------------------------------\u001B[0m",
      "\u001B[1;31mTypeError\u001B[0m                                 Traceback (most recent call last)",
      "\u001B[1;31mTypeError\u001B[0m: only size-1 arrays can be converted to Python scalars",
      "\nThe above exception was the direct cause of the following exception:\n",
      "\u001B[1;31mValueError\u001B[0m                                Traceback (most recent call last)",
      "Input \u001B[1;32mIn [178]\u001B[0m, in \u001B[0;36m<cell line: 11>\u001B[1;34m()\u001B[0m\n\u001B[0;32m     11\u001B[0m \u001B[38;5;28;01mfor\u001B[39;00m i \u001B[38;5;129;01min\u001B[39;00m \u001B[38;5;28mrange\u001B[39m(\u001B[38;5;28mlen\u001B[39m(sample)):\n\u001B[0;32m     12\u001B[0m     \u001B[38;5;28;01mfor\u001B[39;00m v \u001B[38;5;129;01min\u001B[39;00m sample[i,:]:\n\u001B[0;32m     13\u001B[0m         \u001B[38;5;66;03m#print(type(int(v)))\u001B[39;00m\n\u001B[1;32m---> 14\u001B[0m         sample[i,\u001B[38;5;28mint\u001B[39m(v)] \u001B[38;5;241m=\u001B[39m np\u001B[38;5;241m.\u001B[39marray(wells[\u001B[38;5;241m0\u001B[39m]\u001B[38;5;241m.\u001B[39mgetImage(v)\u001B[38;5;241m.\u001B[39mgetPrimaryPixels()\u001B[38;5;241m.\u001B[39mgetPlane(\u001B[38;5;241m0\u001B[39m,\u001B[38;5;241m0\u001B[39m,\u001B[38;5;241m0\u001B[39m))\n\u001B[0;32m     15\u001B[0m \u001B[38;5;28mprint\u001B[39m(sample)\n",
      "\u001B[1;31mValueError\u001B[0m: setting an array element with a sequence."
     ]
    }
   ],
   "source": [
    "import numpy as np\n",
    "wells = np.array(list(plate.listChildren()))\n",
    "x = range(len(np.array(list(plate.listChildren()))))\n",
    "M = len(x)\n",
    "sample = np.zeros((M,len(list(wells[0].listChildren()))))\n",
    "y = np.arange(9)\n",
    "for i in range(M):\n",
    "    #sample[i, :] = wells[i].getImage(y).getPrimaryPixels().getPlane(0,0,0)\n",
    "    sample[i,:] = y\n",
    "print(sample)\n",
    "for i in range(len(sample)):\n",
    "    for v in sample[i,:]:\n",
    "        #print(type(int(v)))\n",
    "        sample[i,int(v)] = np.array(wells[0].getImage(v).getPrimaryPixels().getPlane(0,0,0))\n",
    "print(sample)"
   ],
   "metadata": {
    "collapsed": false,
    "pycharm": {
     "name": "#%%\n"
    }
   }
  },
  {
   "cell_type": "code",
   "execution_count": 198,
   "outputs": [
    {
     "name": "stdout",
     "output_type": "stream",
     "text": [
      "Execution time: 0.27227306365966797 seconds\n",
      "[[3480 3930 4382 ...  418  423  374]\n",
      " [2764 3295 3656 ...  382  395  398]\n",
      " [2084 2853 2965 ...  448  418  389]\n",
      " ...\n",
      " [ 442  552  443 ...  570  606  592]\n",
      " [ 538  530  492 ...  594  620  695]\n",
      " [ 595  544  511 ...  548  587  670]]\n"
     ]
    }
   ],
   "source": [
    "st = time.time()\n",
    "\n",
    "sample = np.arange(9)\n",
    "sample[:] = wells[0].getImage(1).getPrimaryPixels().getPlane(0,0,0)\n",
    "#for i in range(9):\n",
    "    #sample[i] = wells[0].getImage(i).getPrimaryPixels().getPlane(0,0,0)\n",
    "\n",
    "et = time.time()\n",
    "print('Execution time:', str(et - st), 'seconds')\n",
    "\n",
    "\n",
    "print(sample)\n"
   ],
   "metadata": {
    "collapsed": false,
    "pycharm": {
     "name": "#%%\n"
    }
   }
  },
  {
   "cell_type": "code",
   "execution_count": 181,
   "outputs": [
    {
     "data": {
      "text/plain": "numpy.ndarray"
     },
     "execution_count": 181,
     "metadata": {},
     "output_type": "execute_result"
    }
   ],
   "source": [
    "type(wells[0].getImage(0).getPrimaryPixels().getPlane(0,0,0))"
   ],
   "metadata": {
    "collapsed": false,
    "pycharm": {
     "name": "#%%\n"
    }
   }
  },
  {
   "cell_type": "code",
   "execution_count": 197,
   "outputs": [
    {
     "name": "stdout",
     "output_type": "stream",
     "text": [
      "x [[11 12 13]\n",
      " [21 22 23]\n",
      " [31 32 33]]\n",
      "\n",
      "[[12 13 14]\n",
      " [22 23 24]\n",
      " [32 33 34]]\n"
     ]
    }
   ],
   "source": [
    "mymatrix = np.matrix([[11,12,13],\n",
    "                      [21,22,23],\n",
    "                      [31,32,33]])\n",
    "def myfunction(x):\n",
    "    print('x',x)\n",
    "    print()\n",
    "    return x+1\n",
    "\n",
    "print(myfunction(mymatrix))"
   ],
   "metadata": {
    "collapsed": false,
    "pycharm": {
     "name": "#%%\n"
    }
   }
  },
  {
   "cell_type": "code",
   "execution_count": 139,
   "outputs": [
    {
     "name": "stdout",
     "output_type": "stream",
     "text": [
      "[nan nan nan nan nan nan nan nan nan nan nan nan nan nan nan nan nan nan\n",
      " nan nan nan nan nan nan nan nan nan nan nan nan nan nan nan nan nan nan\n",
      " nan nan nan nan nan nan nan nan nan nan nan nan nan nan nan nan nan nan\n",
      " nan nan nan nan nan nan nan nan nan nan nan nan nan nan nan nan nan nan\n",
      " nan nan nan nan nan nan nan nan nan nan nan nan nan nan nan nan nan nan\n",
      " nan nan nan nan nan nan nan nan nan nan]\n",
      "[80. nan nan nan nan nan nan nan nan nan nan nan nan nan nan nan nan nan\n",
      " nan nan nan nan nan nan nan 30. nan nan nan nan nan nan nan nan nan nan\n",
      " nan nan nan nan nan nan nan nan nan nan nan nan nan nan nan nan nan nan\n",
      " nan nan nan nan nan nan 75. nan nan nan nan nan nan nan nan nan nan nan\n",
      " nan nan nan nan nan nan nan nan nan nan nan nan nan nan nan nan nan nan\n",
      " nan nan nan nan nan nan nan nan nan 50.]\n",
      "[ 0  1  2  3  4  5  6  7  8  9 10 11 12 13 14 15 16 17 18 19 20 21 22 23\n",
      " 24 25 26 27 28 29 30 31 32 33 34 35 36 37 38 39 40 41 42 43 44 45 46 47\n",
      " 48 49 50 51 52 53 54 55 56 57 58 59 60 61 62 63 64 65 66 67 68 69 70 71\n",
      " 72 73 74 75 76 77 78 79 80 81 82 83 84 85 86 87 88 89 90 91 92 93 94 95\n",
      " 96 97 98 99]\n",
      "[ True False False False False False False False False False False False\n",
      " False False False False False False False False False False False False\n",
      " False  True False False False False False False False False False False\n",
      " False False False False False False False False False False False False\n",
      " False False False False False False False False False False False False\n",
      "  True False False False False False False False False False False False\n",
      " False False False False False False False False False False False False\n",
      " False False False False False False False False False False False False\n",
      " False False False  True]\n",
      "[80.         78.         76.         74.         72.         70.\n",
      " 68.         66.         64.         62.         60.         58.\n",
      " 56.         54.         52.         50.         48.         46.\n",
      " 44.         42.         40.         38.         36.         34.\n",
      " 32.         30.         31.28571429 32.57142857 33.85714286 35.14285714\n",
      " 36.42857143 37.71428571 39.         40.28571429 41.57142857 42.85714286\n",
      " 44.14285714 45.42857143 46.71428571 48.         49.28571429 50.57142857\n",
      " 51.85714286 53.14285714 54.42857143 55.71428571 57.         58.28571429\n",
      " 59.57142857 60.85714286 62.14285714 63.42857143 64.71428571 66.\n",
      " 67.28571429 68.57142857 69.85714286 71.14285714 72.42857143 73.71428571\n",
      " 75.         74.35897436 73.71794872 73.07692308 72.43589744 71.79487179\n",
      " 71.15384615 70.51282051 69.87179487 69.23076923 68.58974359 67.94871795\n",
      " 67.30769231 66.66666667 66.02564103 65.38461538 64.74358974 64.1025641\n",
      " 63.46153846 62.82051282 62.17948718 61.53846154 60.8974359  60.25641026\n",
      " 59.61538462 58.97435897 58.33333333 57.69230769 57.05128205 56.41025641\n",
      " 55.76923077 55.12820513 54.48717949 53.84615385 53.20512821 52.56410256\n",
      " 51.92307692 51.28205128 50.64102564 50.        ]\n",
      "[77.61634486 79.4132867  74.88395943 76.81381718 69.5467038  69.50278509\n",
      " 71.70473412 63.12826425 64.99843391 61.64780117 56.66610389 54.46078018\n",
      " 55.66085541 53.32425164 52.91719244 47.46157505 46.7764109  46.72425614\n",
      " 41.75083004 42.28517056 40.33476503 39.99321094 38.31498173 33.95468061\n",
      " 31.96697468 28.48134825 28.88804171 31.42384932 30.41565946 35.48840497\n",
      " 35.64981299 37.27084132 43.1389513  40.05551097 45.11266911 42.45600025\n",
      " 43.85235124 45.18444219 48.27714438 42.75335551 47.40443969 50.96282729\n",
      " 55.18051965 54.25296148 55.87530553 53.23959246 57.48978081 59.15847979\n",
      " 60.00560921 61.19839736 60.05706202 63.91404117 64.73715328 70.12141033\n",
      " 65.31634045 66.94780745 70.370948   70.66391925 72.80706406 73.3941923\n",
      " 73.85898608 76.562149   72.20019453 77.04546653 66.75081638 72.57909851\n",
      " 71.70598084 71.91353114 70.76323695 73.37269074 64.91084672 71.07732946\n",
      " 67.67563406 65.98143907 67.28563635 64.76977463 64.93363936 58.41216684\n",
      " 61.83273169 62.80685717 59.71806047 63.44042592 57.72322246 58.65631409\n",
      " 59.02792347 59.20382181 61.85187797 55.20267624 58.77790489 57.88694428\n",
      " 55.1276695  56.26470807 53.22013328 53.0294231  55.14180846 47.85182804\n",
      " 50.71456641 48.74956412 50.92508154 49.62528047]\n"
     ]
    }
   ],
   "source": [
    "prices = np.full(100, fill_value=np.nan)\n",
    "print(prices)\n",
    "prices[[0, 25, 60, -1]] = [80., 30., 75., 50.]\n",
    "print(prices)\n",
    "x = np.arange(len(prices))\n",
    "print(x)\n",
    "is_valid = ~np.isnan(prices)\n",
    "print(is_valid)\n",
    "prices = np.interp(x=x, xp=x[is_valid], fp=prices[is_valid])\n",
    "print(prices)\n",
    "prices += np.random.randn(len(prices)) * 2\n",
    "print(prices)"
   ],
   "metadata": {
    "collapsed": false,
    "pycharm": {
     "name": "#%%\n"
    }
   }
  },
  {
   "cell_type": "code",
   "execution_count": 64,
   "outputs": [
    {
     "ename": "SyntaxError",
     "evalue": "invalid syntax (3719736511.py, line 11)",
     "output_type": "error",
     "traceback": [
      "\u001B[1;36m  Input \u001B[1;32mIn [64]\u001B[1;36m\u001B[0m\n\u001B[1;33m    dapi_imgs_np =\u001B[0m\n\u001B[1;37m                   ^\u001B[0m\n\u001B[1;31mSyntaxError\u001B[0m\u001B[1;31m:\u001B[0m invalid syntax\n"
     ]
    }
   ],
   "source": [
    "import numpy as np\n",
    "\n",
    "#values to input\n",
    "wells = list(plate.listChildren())\n",
    "\n",
    "#values that will be calculated to simplify the reading of the np array\n",
    "num_wells = len(wells)\n",
    "num_fields = len(list(well.listChildren()))\n",
    "\n",
    "#making the numpy array\n",
    "dapi_imgs_np ="
   ],
   "metadata": {
    "collapsed": false,
    "pycharm": {
     "name": "#%%\n"
    }
   }
  },
  {
   "cell_type": "code",
   "execution_count": 32,
   "outputs": [
    {
     "name": "stdout",
     "output_type": "stream",
     "text": [
      "<generator object BlitzObjectWrapper.listChildren at 0x00000150848BFC80>\n"
     ]
    }
   ],
   "source": [
    "print(wells[0].listChildren())"
   ],
   "metadata": {
    "collapsed": false,
    "pycharm": {
     "name": "#%%\n"
    }
   }
  },
  {
   "cell_type": "code",
   "execution_count": 42,
   "outputs": [
    {
     "ename": "TypeError",
     "evalue": "object of type 'generator' has no len()",
     "output_type": "error",
     "traceback": [
      "\u001B[1;31m---------------------------------------------------------------------------\u001B[0m",
      "\u001B[1;31mTypeError\u001B[0m                                 Traceback (most recent call last)",
      "Input \u001B[1;32mIn [42]\u001B[0m, in \u001B[0;36m<cell line: 2>\u001B[1;34m()\u001B[0m\n\u001B[0;32m      1\u001B[0m wells \u001B[38;5;241m=\u001B[39m \u001B[38;5;28mlist\u001B[39m(plate\u001B[38;5;241m.\u001B[39mlistChildren())\n\u001B[1;32m----> 2\u001B[0m \u001B[38;5;28mprint\u001B[39m(\u001B[38;5;28;43mlen\u001B[39;49m\u001B[43m(\u001B[49m\u001B[43mwells\u001B[49m\u001B[43m[\u001B[49m\u001B[38;5;241;43m0\u001B[39;49m\u001B[43m]\u001B[49m\u001B[38;5;241;43m.\u001B[39;49m\u001B[43mlistChildren\u001B[49m\u001B[43m(\u001B[49m\u001B[43m)\u001B[49m\u001B[43m)\u001B[49m)\n\u001B[0;32m      3\u001B[0m image \u001B[38;5;241m=\u001B[39m wells[\u001B[38;5;241m0\u001B[39m]\u001B[38;5;241m.\u001B[39mgetImage(\u001B[38;5;241m0\u001B[39m)\n\u001B[0;32m      4\u001B[0m pixels \u001B[38;5;241m=\u001B[39m image\u001B[38;5;241m.\u001B[39mgetPrimaryPixels()\n",
      "\u001B[1;31mTypeError\u001B[0m: object of type 'generator' has no len()"
     ]
    }
   ],
   "source": [
    "wells = list(plate.listChildren())\n",
    "print(len(wells[0].listChildren()))\n",
    "image = wells[0].getImage(0)\n",
    "pixels = image.getPrimaryPixels()\n",
    "img_dapi = pixels.getPlane(0,0,0)"
   ],
   "metadata": {
    "collapsed": false,
    "pycharm": {
     "name": "#%%\n"
    }
   }
  },
  {
   "cell_type": "code",
   "execution_count": null,
   "outputs": [],
   "source": [
    "import numpy as np\n",
    "\n",
    "image_sizes = np.arra"
   ],
   "metadata": {
    "collapsed": false,
    "pycharm": {
     "name": "#%%\n"
    }
   }
  }
 ],
 "metadata": {
  "kernelspec": {
   "display_name": "Python 3",
   "language": "python",
   "name": "python3"
  },
  "language_info": {
   "codemirror_mode": {
    "name": "ipython",
    "version": 2
   },
   "file_extension": ".py",
   "mimetype": "text/x-python",
   "name": "python",
   "nbconvert_exporter": "python",
   "pygments_lexer": "ipython2",
   "version": "2.7.6"
  }
 },
 "nbformat": 4,
 "nbformat_minor": 0
}