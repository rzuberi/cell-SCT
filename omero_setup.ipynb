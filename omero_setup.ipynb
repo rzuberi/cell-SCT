{
 "cells": [
  {
   "cell_type": "markdown",
   "source": [
    "# Setup Omero\n",
    "\n",
    "This notebook goes through checking if Omero can connect to this project through Python. You will need the hostname, your username and password to access it."
   ],
   "metadata": {
    "collapsed": false,
    "pycharm": {
     "name": "#%% md\n"
    }
   }
  },
  {
   "cell_type": "code",
   "execution_count": 18,
   "outputs": [
    {
     "name": "stdout",
     "output_type": "stream",
     "text": [
      "You inputted a wrong username and/or password.\n"
     ]
    }
   ],
   "source": [
    "# Function to connect to the Omero server\n",
    "# Might clean this up into a separate py file if more is added to this notebook\n",
    "\n",
    "from omero.gateway import BlitzGateway\n",
    "\n",
    "# Function that connects the user to the omero server\n",
    "def connect(hostname, username, password):\n",
    "    \"\"\"\n",
    "    Connect to an OMERO server\n",
    "    :param hostname: Host name\n",
    "    :param username: User\n",
    "    :param password: Password\n",
    "    :return: Connected BlitzGateway\n",
    "    \"\"\"\n",
    "    conn = BlitzGateway(username, password,\n",
    "                        host=hostname, secure=True)\n",
    "    conn.connect()\n",
    "    conn.c.enableKeepAlive(60)\n",
    "    return conn\n",
    "\n",
    "# Using the function from above\n",
    "HOST = 'ome2.hpc.sussex.ac.uk' #change if different\n",
    "conn = connect(HOST, input(\"Username: \"), getpass(\"OMERO Password: \"))\n",
    "try:\n",
    "    print('Connected as', conn.getUser().getName())\n",
    "except AttributeError:\n",
    "    print('You inputted a wrong username and/or password.')"
   ],
   "metadata": {
    "collapsed": false,
    "pycharm": {
     "name": "#%%\n"
    }
   }
  }
 ],
 "metadata": {
  "kernelspec": {
   "display_name": "Python 3",
   "language": "python",
   "name": "python3"
  },
  "language_info": {
   "codemirror_mode": {
    "name": "ipython",
    "version": 2
   },
   "file_extension": ".py",
   "mimetype": "text/x-python",
   "name": "python",
   "nbconvert_exporter": "python",
   "pygments_lexer": "ipython2",
   "version": "2.7.6"
  }
 },
 "nbformat": 4,
 "nbformat_minor": 0
}