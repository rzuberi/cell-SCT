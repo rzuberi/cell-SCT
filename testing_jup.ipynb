{
 "cells": [
  {
   "cell_type": "markdown",
   "source": [
    "This notebook test to see if we can connect to the GPU. The virtual environment in which you run this notebook must be in the \".conda\" folder, not the \"Anaconda3\" folder."
   ],
   "metadata": {
    "collapsed": false,
    "pycharm": {
     "name": "#%% md\n"
    }
   }
  },
  {
   "cell_type": "markdown",
   "source": [
    "First, check to see if you are in the correct environment.\n",
    "If you are not, make sure that (if in DataSpell), the name in parentheses next to the Python version in the bottom right is the name of your environment.\n",
    "If it is not, click on it and select your environment in there.\n",
    "If it is, shutdown DataSpell and re-launch it."
   ],
   "metadata": {
    "collapsed": false,
    "pycharm": {
     "name": "#%% md\n"
    }
   }
  },
  {
   "cell_type": "code",
   "execution_count": 15,
   "outputs": [
    {
     "name": "stdout",
     "output_type": "stream",
     "text": [
      "# conda environments:\n",
      "#\n",
      "base                     C:\\ProgramData\\Anaconda3\n",
      "cellenv2                 C:\\ProgramData\\Anaconda3\\envs\\cellenv2\n",
      "dsProject5               C:\\ProgramData\\Anaconda3\\envs\\dsProject5\n",
      "testing_new_env          C:\\ProgramData\\Anaconda3\\envs\\testing_new_env\n",
      "workspace                C:\\ProgramData\\Anaconda3\\envs\\workspace\n",
      "$env_name                C:\\Users\\rz200\\.conda\\envs\\$env_name\n",
      "basic_packs              C:\\Users\\rz200\\.conda\\envs\\basic_packs\n",
      "cellenv                  C:\\Users\\rz200\\.conda\\envs\\cellenv\n",
      "cellpose                 C:\\Users\\rz200\\.conda\\envs\\cellpose\n",
      "cpgpu                    C:\\Users\\rz200\\.conda\\envs\\cpgpu\n",
      "mae                      C:\\Users\\rz200\\.conda\\envs\\mae\n",
      "my_test_env           *  C:\\Users\\rz200\\.conda\\envs\\my_test_env\n",
      "python=3.8               C:\\Users\\rz200\\.conda\\envs\\python=3.8\n",
      "pytorch                  C:\\Users\\rz200\\.conda\\envs\\pytorch\n",
      "ranzen                   C:\\Users\\rz200\\.conda\\envs\\ranzen\n",
      "tf                       C:\\Users\\rz200\\.conda\\envs\\tf\n",
      "\n"
     ]
    }
   ],
   "source": [
    "#Print all virtual environments, the one with a star next to its name is the one in which this notebook is in\n",
    "!conda env list"
   ],
   "metadata": {
    "collapsed": false,
    "pycharm": {
     "name": "#%%\n"
    }
   }
  },
  {
   "cell_type": "markdown",
   "source": [
    "We need to make sure that the Python version used in this notebook is the 64-bit version. Otherwise, PyTorch will not work.\n",
    "If your Python version is not the 64-bit one, install the 64-bit one before continuing."
   ],
   "metadata": {
    "collapsed": false,
    "pycharm": {
     "name": "#%% md\n"
    }
   }
  },
  {
   "cell_type": "code",
   "execution_count": 16,
   "outputs": [
    {
     "name": "stdout",
     "output_type": "stream",
     "text": [
      "3.8.13 (default, Mar 28 2022, 06:59:08) [MSC v.1916 64 bit (AMD64)]\n"
     ]
    }
   ],
   "source": [
    "import sys\n",
    "print(sys.version) #This will print the Python version used in this notebook"
   ],
   "metadata": {
    "collapsed": false,
    "pycharm": {
     "name": "#%%\n"
    }
   }
  },
  {
   "cell_type": "markdown",
   "source": [
    "We can now install the necessary packages for this project. They are in the ```requirements.txt``` file."
   ],
   "metadata": {
    "collapsed": false,
    "pycharm": {
     "name": "#%% md\n"
    }
   }
  },
  {
   "cell_type": "code",
   "execution_count": 17,
   "outputs": [
    {
     "name": "stdout",
     "output_type": "stream",
     "text": [
      "Looking in links: https://download.pytorch.org/whl/cu113/torch_stable.html\n",
      "Requirement already satisfied: cellpose==2.0.5 in c:\\users\\rz200\\.conda\\envs\\my_test_env\\lib\\site-packages (from -r requirements.txt (line 1)) (2.0.5)\n",
      "Requirement already satisfied: certifi==2022.5.18.1 in c:\\users\\rz200\\.conda\\envs\\my_test_env\\lib\\site-packages (from -r requirements.txt (line 2)) (2022.5.18.1)\n",
      "Requirement already satisfied: colorama==0.4.5 in c:\\users\\rz200\\.conda\\envs\\my_test_env\\lib\\site-packages (from -r requirements.txt (line 3)) (0.4.5)\n",
      "Requirement already satisfied: fastremap==1.13.0 in c:\\users\\rz200\\.conda\\envs\\my_test_env\\lib\\site-packages (from -r requirements.txt (line 4)) (1.13.0)\n",
      "Requirement already satisfied: imagecodecs==2022.2.22 in c:\\users\\rz200\\.conda\\envs\\my_test_env\\lib\\site-packages (from -r requirements.txt (line 5)) (2022.2.22)\n",
      "Requirement already satisfied: llvmlite==0.38.1 in c:\\users\\rz200\\.conda\\envs\\my_test_env\\lib\\site-packages (from -r requirements.txt (line 6)) (0.38.1)\n",
      "Requirement already satisfied: natsort==8.1.0 in c:\\users\\rz200\\.conda\\envs\\my_test_env\\lib\\site-packages (from -r requirements.txt (line 7)) (8.1.0)\n",
      "Requirement already satisfied: numba==0.55.2 in c:\\users\\rz200\\.conda\\envs\\my_test_env\\lib\\site-packages (from -r requirements.txt (line 8)) (0.55.2)\n",
      "Requirement already satisfied: numpy==1.22.4 in c:\\users\\rz200\\.conda\\envs\\my_test_env\\lib\\site-packages (from -r requirements.txt (line 9)) (1.22.4)\n",
      "Requirement already satisfied: opencv-python-headless==4.6.0.66 in c:\\users\\rz200\\.conda\\envs\\my_test_env\\lib\\site-packages (from -r requirements.txt (line 10)) (4.6.0.66)\n",
      "Requirement already satisfied: scipy==1.8.1 in c:\\users\\rz200\\.conda\\envs\\my_test_env\\lib\\site-packages (from -r requirements.txt (line 11)) (1.8.1)\n",
      "Requirement already satisfied: tifffile==2022.5.4 in c:\\users\\rz200\\.conda\\envs\\my_test_env\\lib\\site-packages (from -r requirements.txt (line 12)) (2022.5.4)\n",
      "Requirement already satisfied: torch==1.11.0+cu113 in c:\\users\\rz200\\.conda\\envs\\my_test_env\\lib\\site-packages (from -r requirements.txt (line 15)) (1.11.0+cu113)\n",
      "Requirement already satisfied: tqdm==4.64.0 in c:\\users\\rz200\\.conda\\envs\\my_test_env\\lib\\site-packages (from -r requirements.txt (line 17)) (4.64.0)\n",
      "Requirement already satisfied: wincertstore==0.2 in c:\\users\\rz200\\.conda\\envs\\my_test_env\\lib\\site-packages (from -r requirements.txt (line 18)) (0.2)\n",
      "Requirement already satisfied: setuptools in c:\\users\\rz200\\.conda\\envs\\my_test_env\\lib\\site-packages (from numba==0.55.2->-r requirements.txt (line 8)) (61.2.0)\n",
      "Requirement already satisfied: typing-extensions in c:\\users\\rz200\\.conda\\envs\\my_test_env\\lib\\site-packages (from torch==1.11.0+cu113->-r requirements.txt (line 15)) (4.1.1)\n"
     ]
    }
   ],
   "source": [
    "!pip install -r requirements.txt"
   ],
   "metadata": {
    "collapsed": false,
    "pycharm": {
     "name": "#%%\n"
    }
   }
  },
  {
   "cell_type": "markdown",
   "source": [
    "The package that is most likely to cause problems is PyTorch, therefore we will check if it has been correctly installed."
   ],
   "metadata": {
    "collapsed": false,
    "pycharm": {
     "name": "#%% md\n"
    }
   }
  },
  {
   "cell_type": "code",
   "execution_count": 18,
   "outputs": [
    {
     "name": "stdout",
     "output_type": "stream",
     "text": [
      "PyTorch was successfully installed\n"
     ]
    }
   ],
   "source": [
    "try:\n",
    "    import torch\n",
    "    print('PyTorch was successfully installed')\n",
    "except ImportError as e: print('PyTorch was not installed correctly.')"
   ],
   "metadata": {
    "collapsed": false,
    "pycharm": {
     "name": "#%%\n"
    }
   }
  },
  {
   "cell_type": "markdown",
   "source": [
    "We will now check if the GPU is connected. We will first check if PyTorch can detect it, then we will test if CellPose can detect it.\n",
    "If both can detect it, we've succeeded."
   ],
   "metadata": {
    "collapsed": false,
    "pycharm": {
     "name": "#%% md\n"
    }
   }
  },
  {
   "cell_type": "code",
   "execution_count": 19,
   "outputs": [
    {
     "name": "stdout",
     "output_type": "stream",
     "text": [
      "nvcc: NVIDIA (R) Cuda compiler driver\n",
      "Copyright (c) 2005-2020 NVIDIA Corporation\n",
      "Built on Thu_Jun_11_22:26:48_Pacific_Daylight_Time_2020\n",
      "Cuda compilation tools, release 11.0, V11.0.194\n",
      "Build cuda_11.0_bu.relgpu_drvr445TC445_37.28540450_0\n",
      ">>> GPU activated? YES\n"
     ]
    }
   ],
   "source": [
    "!nvcc --version\n",
    "from cellpose import core\n",
    "use_GPU = core.use_gpu()\n",
    "yn = ['NO', 'YES']\n",
    "print(f'>>> GPU activated? {yn[use_GPU]}')"
   ],
   "metadata": {
    "collapsed": false,
    "pycharm": {
     "name": "#%%\n"
    }
   }
  },
  {
   "cell_type": "code",
   "execution_count": 14,
   "outputs": [
    {
     "name": "stdout",
     "output_type": "stream",
     "text": [
      "Connected GPU: Quadro M5000\n"
     ]
    }
   ],
   "source": [
    "import torch\n",
    "if torch.cuda.is_available(): print('Connected GPU:',torch.cuda.get_device_name())\n",
    "else: print('No GPU connected')"
   ],
   "metadata": {
    "collapsed": false,
    "pycharm": {
     "name": "#%%\n"
    }
   }
  }
 ],
 "metadata": {
  "kernelspec": {
   "display_name": "Python 3",
   "language": "python",
   "name": "python3"
  },
  "language_info": {
   "codemirror_mode": {
    "name": "ipython",
    "version": 2
   },
   "file_extension": ".py",
   "mimetype": "text/x-python",
   "name": "python",
   "nbconvert_exporter": "python",
   "pygments_lexer": "ipython2",
   "version": "2.7.6"
  }
 },
 "nbformat": 4,
 "nbformat_minor": 0
}